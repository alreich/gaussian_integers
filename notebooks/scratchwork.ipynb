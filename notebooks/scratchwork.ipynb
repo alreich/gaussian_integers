{
 "cells": [
  {
   "cell_type": "markdown",
   "id": "359d8cbe",
   "metadata": {},
   "source": [
    "# Scratchwork"
   ]
  },
  {
   "cell_type": "code",
   "execution_count": 1,
   "id": "b05233d1",
   "metadata": {},
   "outputs": [],
   "source": [
    "from gaussians import Zi, Qi"
   ]
  },
  {
   "cell_type": "markdown",
   "id": "ca71b535",
   "metadata": {},
   "source": [
    "## Quaternion Integers"
   ]
  },
  {
   "cell_type": "code",
   "execution_count": 2,
   "id": "afde5ca1",
   "metadata": {},
   "outputs": [],
   "source": [
    "import numpy as np"
   ]
  },
  {
   "cell_type": "raw",
   "id": "48e42d82",
   "metadata": {},
   "source": [
    "def unpack(arr):\n",
    "    return arr[0], arr[1], arr[2], arr[3]"
   ]
  },
  {
   "cell_type": "code",
   "execution_count": null,
   "id": "4c00044a",
   "metadata": {},
   "outputs": [],
   "source": [
    "class Hi():\n",
    "    \n",
    "    def __init__(self,\n",
    "                 a: (int, np.int64) = 1, b: (int, np.int64) = 0,\n",
    "                 c: (int, np.int64) = 0, d: (int, np.int64) = 0):\n",
    "        if isinstance(a, (int, np.int64)):\n",
    "            self.__arr = np.array([a, b, c, d], dtype=np.int64)\n",
    "        elif isinstance(a, np.ndarray):\n",
    "            self.__arr = a\n",
    "    \n",
    "    @property\n",
    "    def real(self) -> int:\n",
    "        return self.__arr[0]\n",
    "    \n",
    "    @property\n",
    "    def imag(self):\n",
    "        return tuple(self.__arr[1:])\n",
    "    \n",
    "    @property\n",
    "    def array(self):\n",
    "        return self.__arr\n",
    "    \n",
    "    def __repr__(self):\n",
    "        a, b, c, d = self.array\n",
    "        return f\"Hi({a}, {b}, {c}, {d})\"\n",
    "    \n",
    "    def __str__(self):\n",
    "        a, b, c, d = self.array\n",
    "        return f\"({a} + {b}i + {c}j + {d}k)\"\n",
    "    \n",
    "    def __add__(self, other):\n",
    "        sum = self.array + other.array\n",
    "        return Hi(sum)\n",
    "    \n",
    "    def __sub__(self, other):\n",
    "        diff = self.array - other.array\n",
    "        return Hi(diff)\n",
    "    \n",
    "    def __mul__(self, other):\n",
    "        a1, b1, c1, d1 = self.array\n",
    "        a2, b2, c2, d2 = other.array\n",
    "        # See https://en.wikipedia.org/wiki/Quaternion#Hamilton_product\n",
    "        a = a1 * a2 - b1 * b2 - c1 * c2 - d1 * d2\n",
    "        b = a1 * b2 + b1 * a2 + c1 * d2 - d1 * c2\n",
    "        c = a1 * c2 - b1 * d2 + c1 * a2 + d1 * b2\n",
    "        d = a1 * d2 + b1 * c2 - c1 * b2 + d1 * a2\n",
    "        return Hi(a, b, c, d)\n",
    "    "
   ]
  },
  {
   "cell_type": "code",
   "execution_count": 95,
   "id": "c51b6bcf",
   "metadata": {},
   "outputs": [],
   "source": [
    "def split_array(arr):\n",
    "    n = len(arr) // 2\n",
    "    return arr[:n], arr[n:]\n",
    "\n",
    "def conjugate(arr):\n",
    "    "
   ]
  },
  {
   "cell_type": "code",
   "execution_count": 96,
   "id": "eb196244",
   "metadata": {},
   "outputs": [
    {
     "data": {
      "text/plain": [
       "Hi(1, 2, 3, 4)"
      ]
     },
     "execution_count": 96,
     "metadata": {},
     "output_type": "execute_result"
    }
   ],
   "source": [
    "h1 = Hi(1, 2, 3, 4)\n",
    "h1"
   ]
  },
  {
   "cell_type": "code",
   "execution_count": 98,
   "id": "bde1fa83",
   "metadata": {},
   "outputs": [
    {
     "data": {
      "text/plain": [
       "(array([1, 2]), array([3, 4]))"
      ]
     },
     "execution_count": 98,
     "metadata": {},
     "output_type": "execute_result"
    }
   ],
   "source": [
    "split_array(h1.array)"
   ]
  },
  {
   "cell_type": "code",
   "execution_count": null,
   "id": "c94e9f8f",
   "metadata": {},
   "outputs": [],
   "source": []
  },
  {
   "cell_type": "code",
   "execution_count": null,
   "id": "03d209c5",
   "metadata": {},
   "outputs": [],
   "source": []
  },
  {
   "cell_type": "code",
   "execution_count": 67,
   "id": "a9ebdabb",
   "metadata": {},
   "outputs": [],
   "source": [
    "a, b, c, d = h1.array"
   ]
  },
  {
   "cell_type": "code",
   "execution_count": 68,
   "id": "b299061f",
   "metadata": {},
   "outputs": [
    {
     "data": {
      "text/plain": [
       "(1, 2, 3, 4)"
      ]
     },
     "execution_count": 68,
     "metadata": {},
     "output_type": "execute_result"
    }
   ],
   "source": [
    "a, b, c, d"
   ]
  },
  {
   "cell_type": "code",
   "execution_count": 69,
   "id": "197e0faf",
   "metadata": {},
   "outputs": [
    {
     "data": {
      "text/plain": [
       "numpy.int64"
      ]
     },
     "execution_count": 69,
     "metadata": {},
     "output_type": "execute_result"
    }
   ],
   "source": [
    "type(a)"
   ]
  },
  {
   "cell_type": "code",
   "execution_count": null,
   "id": "e5613870",
   "metadata": {},
   "outputs": [],
   "source": []
  },
  {
   "cell_type": "code",
   "execution_count": 70,
   "id": "2e2b2239",
   "metadata": {},
   "outputs": [
    {
     "name": "stdout",
     "output_type": "stream",
     "text": [
      "(1 + 2i + 3j + 4k)\n"
     ]
    }
   ],
   "source": [
    "print(h1)"
   ]
  },
  {
   "cell_type": "code",
   "execution_count": 71,
   "id": "127d162b",
   "metadata": {},
   "outputs": [
    {
     "data": {
      "text/plain": [
       "1"
      ]
     },
     "execution_count": 71,
     "metadata": {},
     "output_type": "execute_result"
    }
   ],
   "source": [
    "h1.real"
   ]
  },
  {
   "cell_type": "code",
   "execution_count": 72,
   "id": "72edf7e0",
   "metadata": {},
   "outputs": [
    {
     "data": {
      "text/plain": [
       "(2, 3, 4)"
      ]
     },
     "execution_count": 72,
     "metadata": {},
     "output_type": "execute_result"
    }
   ],
   "source": [
    "h1.imag"
   ]
  },
  {
   "cell_type": "code",
   "execution_count": 73,
   "id": "f82e2fbd",
   "metadata": {},
   "outputs": [
    {
     "data": {
      "text/plain": [
       "Hi(1, 0, 0, 0)"
      ]
     },
     "execution_count": 73,
     "metadata": {},
     "output_type": "execute_result"
    }
   ],
   "source": [
    "Hi()"
   ]
  },
  {
   "cell_type": "code",
   "execution_count": 74,
   "id": "d04ee6b6",
   "metadata": {},
   "outputs": [],
   "source": [
    "h1 = Hi(1, 2, 3, 4)\n",
    "h2 = Hi(4, 3, 2, 1)"
   ]
  },
  {
   "cell_type": "code",
   "execution_count": 75,
   "id": "cf1f951a",
   "metadata": {},
   "outputs": [
    {
     "data": {
      "text/plain": [
       "Hi(1, 2, 3, 4)"
      ]
     },
     "execution_count": 75,
     "metadata": {},
     "output_type": "execute_result"
    }
   ],
   "source": [
    "h1"
   ]
  },
  {
   "cell_type": "code",
   "execution_count": 76,
   "id": "a9fa9c80",
   "metadata": {},
   "outputs": [
    {
     "data": {
      "text/plain": [
       "Hi(4, 3, 2, 1)"
      ]
     },
     "execution_count": 76,
     "metadata": {},
     "output_type": "execute_result"
    }
   ],
   "source": [
    "h2"
   ]
  },
  {
   "cell_type": "code",
   "execution_count": 77,
   "id": "2511b424",
   "metadata": {},
   "outputs": [
    {
     "name": "stdout",
     "output_type": "stream",
     "text": [
      "(5 + 5i + 5j + 5k)\n"
     ]
    }
   ],
   "source": [
    "print(h1 + h2)"
   ]
  },
  {
   "cell_type": "code",
   "execution_count": 78,
   "id": "b3ec9e63",
   "metadata": {},
   "outputs": [
    {
     "name": "stdout",
     "output_type": "stream",
     "text": [
      "(-3 + -1i + 1j + 3k)\n"
     ]
    }
   ],
   "source": [
    "print(h1 - h2)"
   ]
  },
  {
   "cell_type": "code",
   "execution_count": 79,
   "id": "85575e27",
   "metadata": {},
   "outputs": [
    {
     "data": {
      "text/plain": [
       "Hi(-28, 4, 6, 8)"
      ]
     },
     "execution_count": 79,
     "metadata": {},
     "output_type": "execute_result"
    }
   ],
   "source": [
    "h1 * h1"
   ]
  },
  {
   "cell_type": "code",
   "execution_count": null,
   "id": "0ae1f07f",
   "metadata": {},
   "outputs": [],
   "source": []
  }
 ],
 "metadata": {
  "kernelspec": {
   "display_name": "Python 3 (ipykernel)",
   "language": "python",
   "name": "python3"
  },
  "language_info": {
   "codemirror_mode": {
    "name": "ipython",
    "version": 3
   },
   "file_extension": ".py",
   "mimetype": "text/x-python",
   "name": "python",
   "nbconvert_exporter": "python",
   "pygments_lexer": "ipython3",
   "version": "3.11.5"
  }
 },
 "nbformat": 4,
 "nbformat_minor": 5
}
