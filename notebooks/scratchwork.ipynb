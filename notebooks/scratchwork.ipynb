{
 "cells": [
  {
   "cell_type": "markdown",
   "id": "359d8cbe",
   "metadata": {},
   "source": [
    "# Scratchwork"
   ]
  },
  {
   "cell_type": "code",
   "execution_count": 1,
   "id": "b05233d1",
   "metadata": {},
   "outputs": [],
   "source": [
    "from gaussians import Zi, Qi"
   ]
  },
  {
   "cell_type": "code",
   "execution_count": 2,
   "id": "8d7b7854",
   "metadata": {},
   "outputs": [],
   "source": [
    "a = Zi(4, 5)\n",
    "b = Zi(1, -2)"
   ]
  },
  {
   "cell_type": "code",
   "execution_count": 3,
   "id": "b710279b",
   "metadata": {},
   "outputs": [
    {
     "data": {
      "text/plain": [
       "Zi(14, -3)"
      ]
     },
     "execution_count": 3,
     "metadata": {},
     "output_type": "execute_result"
    }
   ],
   "source": [
    "a * b "
   ]
  },
  {
   "cell_type": "code",
   "execution_count": 4,
   "id": "b1c554fc",
   "metadata": {},
   "outputs": [
    {
     "data": {
      "text/plain": [
       "Qi('4', '5')"
      ]
     },
     "execution_count": 4,
     "metadata": {},
     "output_type": "execute_result"
    }
   ],
   "source": [
    "Qi(complex(a))"
   ]
  },
  {
   "cell_type": "code",
   "execution_count": 5,
   "id": "0aa8bb1e",
   "metadata": {},
   "outputs": [
    {
     "ename": "TypeError",
     "evalue": "(4+5j) is not a supported type",
     "output_type": "error",
     "traceback": [
      "\u001b[0;31m---------------------------------------------------------------------------\u001b[0m",
      "\u001b[0;31mTypeError\u001b[0m                                 Traceback (most recent call last)",
      "Cell \u001b[0;32mIn[5], line 1\u001b[0m\n\u001b[0;32m----> 1\u001b[0m Qi(a)\n",
      "File \u001b[0;32m~/Documents/Python/github/myrepos/abstract_algebra/src/gaussians.py:582\u001b[0m, in \u001b[0;36mQi.__init__\u001b[0;34m(self, re, im)\u001b[0m\n\u001b[1;32m    580\u001b[0m     \u001b[38;5;28mself\u001b[39m\u001b[38;5;241m.\u001b[39m__real \u001b[38;5;241m=\u001b[39m Fraction(re\u001b[38;5;241m.\u001b[39mreal)\u001b[38;5;241m.\u001b[39mlimit_denominator(\u001b[38;5;28mself\u001b[39m\u001b[38;5;241m.\u001b[39m__max_denominator)\n\u001b[1;32m    581\u001b[0m \u001b[38;5;28;01melse\u001b[39;00m:\n\u001b[0;32m--> 582\u001b[0m     \u001b[38;5;28;01mraise\u001b[39;00m \u001b[38;5;167;01mTypeError\u001b[39;00m(\u001b[38;5;124mf\u001b[39m\u001b[38;5;124m\"\u001b[39m\u001b[38;5;132;01m{\u001b[39;00mre\u001b[38;5;132;01m}\u001b[39;00m\u001b[38;5;124m is not a supported type\u001b[39m\u001b[38;5;124m\"\u001b[39m)\n\u001b[1;32m    584\u001b[0m \u001b[38;5;28;01mif\u001b[39;00m \u001b[38;5;28misinstance\u001b[39m(re, \u001b[38;5;28mcomplex\u001b[39m):\n\u001b[1;32m    585\u001b[0m     \u001b[38;5;28mself\u001b[39m\u001b[38;5;241m.\u001b[39m__imag \u001b[38;5;241m=\u001b[39m Fraction(re\u001b[38;5;241m.\u001b[39mimag)\u001b[38;5;241m.\u001b[39mlimit_denominator(\u001b[38;5;28mself\u001b[39m\u001b[38;5;241m.\u001b[39m__max_denominator)\n",
      "\u001b[0;31mTypeError\u001b[0m: (4+5j) is not a supported type"
     ]
    }
   ],
   "source": [
    "Qi(a)"
   ]
  },
  {
   "cell_type": "code",
   "execution_count": 6,
   "id": "fa133139",
   "metadata": {},
   "outputs": [],
   "source": [
    "foo = complex(a)"
   ]
  },
  {
   "cell_type": "code",
   "execution_count": 7,
   "id": "1decbfea",
   "metadata": {},
   "outputs": [
    {
     "data": {
      "text/plain": [
       "4.0"
      ]
     },
     "execution_count": 7,
     "metadata": {},
     "output_type": "execute_result"
    }
   ],
   "source": [
    "foo.real"
   ]
  },
  {
   "cell_type": "code",
   "execution_count": 8,
   "id": "87e716d3",
   "metadata": {},
   "outputs": [
    {
     "data": {
      "text/plain": [
       "4"
      ]
     },
     "execution_count": 8,
     "metadata": {},
     "output_type": "execute_result"
    }
   ],
   "source": [
    "a.real"
   ]
  },
  {
   "cell_type": "code",
   "execution_count": 9,
   "id": "a1cbca94",
   "metadata": {},
   "outputs": [
    {
     "data": {
      "text/plain": [
       "5.0"
      ]
     },
     "execution_count": 9,
     "metadata": {},
     "output_type": "execute_result"
    }
   ],
   "source": [
    "foo.imag"
   ]
  },
  {
   "cell_type": "code",
   "execution_count": 10,
   "id": "ecfa444e",
   "metadata": {},
   "outputs": [
    {
     "data": {
      "text/plain": [
       "5"
      ]
     },
     "execution_count": 10,
     "metadata": {},
     "output_type": "execute_result"
    }
   ],
   "source": [
    "a.imag"
   ]
  },
  {
   "cell_type": "code",
   "execution_count": null,
   "id": "c51b6bcf",
   "metadata": {},
   "outputs": [],
   "source": []
  }
 ],
 "metadata": {
  "kernelspec": {
   "display_name": "Python 3 (ipykernel)",
   "language": "python",
   "name": "python3"
  },
  "language_info": {
   "codemirror_mode": {
    "name": "ipython",
    "version": 3
   },
   "file_extension": ".py",
   "mimetype": "text/x-python",
   "name": "python",
   "nbconvert_exporter": "python",
   "pygments_lexer": "ipython3",
   "version": "3.11.5"
  }
 },
 "nbformat": 4,
 "nbformat_minor": 5
}
