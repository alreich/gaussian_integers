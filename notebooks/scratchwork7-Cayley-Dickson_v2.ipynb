{
 "cells": [
  {
   "cell_type": "markdown",
   "id": "11951404-4d7b-4cd4-aa6e-3bca6abee1ce",
   "metadata": {},
   "source": [
    "# Cayley-Dickson Construction Applied to Zi Definition"
   ]
  },
  {
   "cell_type": "markdown",
   "id": "985bac8c",
   "metadata": {},
   "source": [
    "*Version 2*"
   ]
  },
  {
   "cell_type": "markdown",
   "id": "2f09c45e-9ab5-461b-8de8-fd74f6a0e16e",
   "metadata": {},
   "source": [
    "My original implementation of Gaussian integers included two classes, ``Zi`` and ``Qi``, where, for example, ``Zi(2, -7)`` represents a Gaussian integer, and ``Qi(-2/3, 4/5)`` represents a Gaussian rational.\n",
    "\n",
    "I'd like to extend this code to include integer-valued quaternions and octonions. An elegant way to accomplish that goal would be to use the Cayley-Dickson construction, where complex numbers can be constructed from pairs of real numbers, quaternions can be constructed from pairs of those pairs, and octonions constructed from pairs of those pairs of pairs.\n",
    "\n",
    "For more specifics, see my write-up about the Cayley-Dickson construction [at this link](https://abstract-algebra.readthedocs.io/en/latest/55_cayley_dickson.html)."
   ]
  },
  {
   "cell_type": "code",
   "execution_count": 1,
   "id": "1ebdcab3",
   "metadata": {},
   "outputs": [],
   "source": [
    "from cayley_dickson_alg import Zi\n",
    "from random import randint"
   ]
  },
  {
   "cell_type": "code",
   "execution_count": 2,
   "id": "ddd933ad-e12b-44bb-ae39-92ce4007849b",
   "metadata": {},
   "outputs": [
    {
     "data": {
      "text/plain": [
       "Zi(0, 0)"
      ]
     },
     "execution_count": 2,
     "metadata": {},
     "output_type": "execute_result"
    }
   ],
   "source": [
    "Zi()"
   ]
  },
  {
   "cell_type": "code",
   "execution_count": 3,
   "id": "cf847feb-fad1-4da4-b857-71b861858678",
   "metadata": {},
   "outputs": [
    {
     "name": "stdout",
     "output_type": "stream",
     "text": [
      "0j\n"
     ]
    }
   ],
   "source": [
    "print(Zi())"
   ]
  },
  {
   "cell_type": "code",
   "execution_count": 4,
   "id": "e1163966",
   "metadata": {},
   "outputs": [
    {
     "data": {
      "text/plain": [
       "Zi(1, 0)"
      ]
     },
     "execution_count": 4,
     "metadata": {},
     "output_type": "execute_result"
    }
   ],
   "source": [
    "Zi(1)"
   ]
  },
  {
   "cell_type": "code",
   "execution_count": 5,
   "id": "bf3a6e3f-914c-4844-9450-5e1fbebbb3be",
   "metadata": {},
   "outputs": [
    {
     "name": "stdout",
     "output_type": "stream",
     "text": [
      "(1+0j)\n"
     ]
    }
   ],
   "source": [
    "print(Zi(1))"
   ]
  },
  {
   "cell_type": "code",
   "execution_count": 6,
   "id": "4136e233",
   "metadata": {},
   "outputs": [
    {
     "data": {
      "text/plain": [
       "Zi(1, 2)"
      ]
     },
     "execution_count": 6,
     "metadata": {},
     "output_type": "execute_result"
    }
   ],
   "source": [
    "Zi(1, 2)"
   ]
  },
  {
   "cell_type": "code",
   "execution_count": 7,
   "id": "383577e3",
   "metadata": {},
   "outputs": [
    {
     "data": {
      "text/plain": [
       "Zi(2, 2)"
      ]
     },
     "execution_count": 7,
     "metadata": {},
     "output_type": "execute_result"
    }
   ],
   "source": [
    "Zi(1.9, 2.1)"
   ]
  },
  {
   "cell_type": "code",
   "execution_count": 8,
   "id": "cb04a9a1",
   "metadata": {},
   "outputs": [
    {
     "data": {
      "text/plain": [
       "Zi(2, 2)"
      ]
     },
     "execution_count": 8,
     "metadata": {},
     "output_type": "execute_result"
    }
   ],
   "source": [
    "Zi((1.9+2.1j))"
   ]
  },
  {
   "cell_type": "code",
   "execution_count": 9,
   "id": "5be9e09d",
   "metadata": {},
   "outputs": [
    {
     "data": {
      "text/plain": [
       "Zi(1, 2)"
      ]
     },
     "execution_count": 9,
     "metadata": {},
     "output_type": "execute_result"
    }
   ],
   "source": [
    "Zi(Zi(1, 2))"
   ]
  },
  {
   "cell_type": "code",
   "execution_count": 10,
   "id": "7f8ba615",
   "metadata": {},
   "outputs": [
    {
     "data": {
      "text/plain": [
       "Zi(Zi(0, 0), Zi(1, 0))"
      ]
     },
     "execution_count": 10,
     "metadata": {},
     "output_type": "execute_result"
    }
   ],
   "source": [
    "foo = Zi(Zi(), Zi(1))\n",
    "foo"
   ]
  },
  {
   "cell_type": "code",
   "execution_count": 11,
   "id": "87211d66-3a22-409a-a0ee-aa0e51ff274b",
   "metadata": {},
   "outputs": [
    {
     "name": "stdout",
     "output_type": "stream",
     "text": [
      "Quat(+1j)\n"
     ]
    }
   ],
   "source": [
    "print(foo)"
   ]
  },
  {
   "cell_type": "code",
   "execution_count": 12,
   "id": "d30c7a22",
   "metadata": {},
   "outputs": [
    {
     "data": {
      "text/plain": [
       "Zi(Zi(-3, 4), Zi(1, -2))"
      ]
     },
     "execution_count": 12,
     "metadata": {},
     "output_type": "execute_result"
    }
   ],
   "source": [
    "foo2 = Zi(Zi(-3, 4), (1-2j))\n",
    "foo2"
   ]
  },
  {
   "cell_type": "code",
   "execution_count": 13,
   "id": "7d80a381-8a22-4426-8a89-11cc2a186369",
   "metadata": {},
   "outputs": [
    {
     "name": "stdout",
     "output_type": "stream",
     "text": [
      "Quat(-3+4i+1j-2k)\n"
     ]
    }
   ],
   "source": [
    "print(foo2)"
   ]
  },
  {
   "cell_type": "code",
   "execution_count": 14,
   "id": "6953a671",
   "metadata": {},
   "outputs": [
    {
     "data": {
      "text/plain": [
       "Zi(Zi(3, 4), Zi(1, 2))"
      ]
     },
     "execution_count": 14,
     "metadata": {},
     "output_type": "execute_result"
    }
   ],
   "source": [
    "foo3 = Zi((3+4j), Zi(1, 2))\n",
    "foo3"
   ]
  },
  {
   "cell_type": "code",
   "execution_count": 15,
   "id": "ee615fdc-7279-4457-a189-7d488fc937e7",
   "metadata": {},
   "outputs": [
    {
     "name": "stdout",
     "output_type": "stream",
     "text": [
      "Quat(+3+4i+1j+2k)\n"
     ]
    }
   ],
   "source": [
    "print(foo3)"
   ]
  },
  {
   "cell_type": "code",
   "execution_count": 16,
   "id": "3bd568be",
   "metadata": {},
   "outputs": [
    {
     "data": {
      "text/plain": [
       "Zi(Zi(3, 4), Zi(1, 2))"
      ]
     },
     "execution_count": 16,
     "metadata": {},
     "output_type": "execute_result"
    }
   ],
   "source": [
    "Zi((3+4j), (1+2j))"
   ]
  },
  {
   "cell_type": "code",
   "execution_count": 17,
   "id": "30307b26",
   "metadata": {},
   "outputs": [
    {
     "data": {
      "text/plain": [
       "Zi(Zi(Zi(0, 0), Zi(1, 0)), Zi(Zi(3, 4), Zi(1, 2)))"
      ]
     },
     "execution_count": 17,
     "metadata": {},
     "output_type": "execute_result"
    }
   ],
   "source": [
    "Zi(Zi(Zi(0), Zi(1)), Zi(Zi(3, 4), Zi(1, 2)))"
   ]
  },
  {
   "cell_type": "code",
   "execution_count": 18,
   "id": "5c030f52",
   "metadata": {},
   "outputs": [
    {
     "data": {
      "text/plain": [
       "Zi(Zi(Zi(0, 0), Zi(1, 0)), Zi(Zi(3, 4), Zi(1, 2)))"
      ]
     },
     "execution_count": 18,
     "metadata": {},
     "output_type": "execute_result"
    }
   ],
   "source": [
    "Zi(Zi(Zi(0), Zi(1)), Zi(Zi(3, 4), (1+2j)))"
   ]
  },
  {
   "cell_type": "code",
   "execution_count": 19,
   "id": "85a21f89-6ed9-459a-a297-4e46e5a2d955",
   "metadata": {},
   "outputs": [],
   "source": [
    "def random_quaternion(size=10):\n",
    "    ul = -size; ll = size  # Upper & lower limits of random numbers\n",
    "    return Zi(Zi.random(ul, ll, ul, ll), Zi.random(ul, ll, ul, ll))\n",
    "\n",
    "def random_octonion(size=10):\n",
    "    return Zi(random_quaternion(size), random_quaternion(size))"
   ]
  },
  {
   "cell_type": "markdown",
   "id": "7300fef0-36d6-4e06-874f-81aec47273dd",
   "metadata": {},
   "source": [
    "## Examples"
   ]
  },
  {
   "cell_type": "code",
   "execution_count": 20,
   "id": "3afe1173",
   "metadata": {},
   "outputs": [],
   "source": [
    "from random import seed\n",
    "\n",
    "seed(42)  # Generate the same random sequence each time (for testing)"
   ]
  },
  {
   "cell_type": "code",
   "execution_count": 21,
   "id": "e7457068-883a-4072-a36e-1e05855e9b31",
   "metadata": {},
   "outputs": [
    {
     "name": "stdout",
     "output_type": "stream",
     "text": [
      "zs = [Zi(10, -7), Zi(-10, -2), Zi(-3, -3), Zi(-6, -7)]\n",
      "z1 = Zi(10, -7) = (10-7j)\n",
      "z2 = Zi(-10, -2) = (-10-2j)\n",
      "z3 = Zi(-3, -3) = (-3-3j)\n",
      "z4 = Zi(-6, -7) = (-6-7j)\n"
     ]
    }
   ],
   "source": [
    "n = 4\n",
    "zs = [Zi.random(-10, 10, -10, 10) for i in range(n)]\n",
    "z1 = zs[0]\n",
    "z2 = zs[1]\n",
    "z3 = zs[2]\n",
    "z4 = zs[3]\n",
    "print(f\"{zs = }\")\n",
    "print(f\"{z1 = } = {z1}\")\n",
    "print(f\"{z2 = } = {z2}\")\n",
    "print(f\"{z3 = } = {z3}\")\n",
    "print(f\"{z4 = } = {z4}\")"
   ]
  },
  {
   "cell_type": "code",
   "execution_count": 22,
   "id": "9b2664b1",
   "metadata": {},
   "outputs": [
    {
     "name": "stdout",
     "output_type": "stream",
     "text": [
      "z1 = Zi(10, -7) = (10-7j)\n",
      "-z1 = Zi(-10, 7) = (-10+7j)\n",
      "z1.real = 10\n",
      "z1.imag = -7\n",
      "z1.conjugate() = Zi(10, 7) = (10+7j)\n",
      "z1.norm = 149\n",
      "z1.depth() = 0\n",
      "z1.is_complex() = True\n"
     ]
    }
   ],
   "source": [
    "print(f\"{z1 = } = {z1}\")\n",
    "print(f\"{-z1 = } = {-z1}\")\n",
    "print(f\"{z1.real = }\")\n",
    "print(f\"{z1.imag = }\")\n",
    "print(f\"{z1.conjugate() = } = {z1.conjugate()}\")\n",
    "print(f\"{z1.norm = }\")\n",
    "print(f\"{z1.depth() = }\")\n",
    "print(f\"{z1.is_complex() = }\")"
   ]
  },
  {
   "cell_type": "raw",
   "id": "5ac8ce8c",
   "metadata": {},
   "source": [
    "print(f\"{z1 / 2 = }\")\n",
    "print(f\"{2 / z1 = }\")\n",
    "print(f\"{(z1 / 2) * (2 / z1) = }\")\n",
    "print(f\"{z1.inverse() = }\")\n",
    "print(f\"{z1 * z1.inverse() = }\")"
   ]
  },
  {
   "cell_type": "code",
   "execution_count": 23,
   "id": "ffff863d-a1c8-4f23-9874-f5a66a8346c9",
   "metadata": {},
   "outputs": [
    {
     "name": "stdout",
     "output_type": "stream",
     "text": [
      "z1 = Zi(10, -7)\n",
      "z2 = Zi(-10, -2)\n",
      "z1 + z2 = Zi(0, -9)\n",
      "z1 - z2 = Zi(20, -5)\n"
     ]
    }
   ],
   "source": [
    "print(f\"{z1 = }\")\n",
    "print(f\"{z2 = }\")\n",
    "print(f\"{z1 + z2 = }\")\n",
    "print(f\"{z1 - z2 = }\")"
   ]
  },
  {
   "cell_type": "markdown",
   "id": "37cf4b7b-b29a-4681-a1a3-4542847a2b14",
   "metadata": {},
   "source": [
    "For comparisons, create complex numbers corresponding to z1, z2, z3, and z4"
   ]
  },
  {
   "cell_type": "raw",
   "id": "ee1607a1",
   "metadata": {},
   "source": [
    "c1 = z1.make_complex\n",
    "c2 = z2.make_complex\n",
    "c3 = z3.make_complex\n",
    "c4 = z4.make_complex"
   ]
  },
  {
   "cell_type": "code",
   "execution_count": 24,
   "id": "e2669a2f-a09e-4c2f-b3c9-e4277d446136",
   "metadata": {},
   "outputs": [
    {
     "name": "stdout",
     "output_type": "stream",
     "text": [
      "z1 = Zi(10, -7) --> c1 = (10-7j)\n",
      "z2 = Zi(-10, -2) --> c2 = (-10-2j)\n",
      "z3 = Zi(-3, -3) --> c3 = (-3-3j)\n",
      "z4 = Zi(-6, -7) --> c4 = (-6-7j)\n"
     ]
    }
   ],
   "source": [
    "c1 = complex(z1)\n",
    "c2 = complex(z2)\n",
    "c3 = complex(z3)\n",
    "c4 = complex(z4)\n",
    "\n",
    "print(f\"{z1 = } --> {c1 = }\")\n",
    "print(f\"{z2 = } --> {c2 = }\")\n",
    "print(f\"{z3 = } --> {c3 = }\")\n",
    "print(f\"{z4 = } --> {c4 = }\")"
   ]
  },
  {
   "cell_type": "code",
   "execution_count": 25,
   "id": "74241d55-83f4-4b79-bfce-d07e4cbb45b9",
   "metadata": {},
   "outputs": [
    {
     "name": "stdout",
     "output_type": "stream",
     "text": [
      "z1 * z2 = Zi(-114, 50)\n",
      "c1 * c2 = (-114+50j)\n",
      "\n",
      "z1 * 2 = Zi(20, -14)\n",
      "2 * z1 = Zi(20, -14)\n"
     ]
    }
   ],
   "source": [
    "print(f\"{z1 * z2 = }\")\n",
    "print(f\"{c1 * c2 = }\\n\")\n",
    "\n",
    "print(f\"{z1 * 2 = }\")\n",
    "print(f\"{2 * z1 = }\")"
   ]
  },
  {
   "cell_type": "code",
   "execution_count": 26,
   "id": "ac0fefae-4c8a-44ea-bc2e-18de5f25dd07",
   "metadata": {},
   "outputs": [
    {
     "name": "stdout",
     "output_type": "stream",
     "text": [
      "q1.depth() = 1\n",
      "q1.is_complex() = False\n",
      "q1.is_quaternion() = True\n",
      "q1 = Zi(Zi(10, -7), Zi(-10, -2))\n",
      "q2 = Zi(Zi(-3, -3), Zi(-6, -7))\n",
      "q1.norm = 253\n",
      "\n",
      "d1 = Zi(Zi(10, -7), Zi(-10, -2))\n",
      "d2 = Zi(Zi(-3, -3), Zi(-6, -7))\n",
      "\n",
      "q1 + q2 = Zi(Zi(7, -10), Zi(-16, -9))\n",
      "q1 * 2 = Zi(Zi(20, -14), Zi(-20, -4))\n",
      "2 * q1 = Zi(Zi(20, -14), Zi(-20, -4))\n",
      "q1 * q2 = Zi(Zi(-125, -67), Zi(13, -76))\n",
      "\n",
      "d1 + d2 = Zi(Zi(7, -10), Zi(-16, -9))\n",
      "d1 * d2 = Zi(Zi(-125, -67), Zi(13, -76))\n"
     ]
    }
   ],
   "source": [
    "q1 = Zi(z1, z2)\n",
    "q2 = Zi(z3, z4)\n",
    "\n",
    "d1 = Zi(c1, c2)\n",
    "d2 = Zi(c3, c4)\n",
    "\n",
    "print(f\"{q1.depth() = }\")\n",
    "print(f\"{q1.is_complex() = }\")\n",
    "print(f\"{q1.is_quaternion() = }\")\n",
    "print(f\"{q1 = }\")\n",
    "print(f\"{q2 = }\")\n",
    "print(f\"{q1.norm = }\\n\")\n",
    "\n",
    "print(f\"{d1 = }\")\n",
    "print(f\"{d2 = }\\n\")\n",
    "\n",
    "print(f\"{q1 + q2 = }\")\n",
    "print(f\"{q1 * 2 = }\")\n",
    "print(f\"{2 * q1 = }\")\n",
    "print(f\"{q1 * q2 = }\\n\")\n",
    "\n",
    "print(f\"{d1 + d2 = }\")\n",
    "print(f\"{d1 * d2 = }\")"
   ]
  },
  {
   "cell_type": "code",
   "execution_count": 27,
   "id": "44fd1089-37e2-4617-af60-da9912bdf660",
   "metadata": {},
   "outputs": [
    {
     "name": "stdout",
     "output_type": "stream",
     "text": [
      "o1 = Zi(Zi(Zi(10, -7), Zi(-10, -2)), Zi(Zi(-3, -3), Zi(-6, -7)))\n",
      "o1.depth() = 2\n",
      "o1.norm = 356\n",
      "\n",
      "o1.is_quaternion() = False\n",
      "o1.is_octonion() = True\n"
     ]
    }
   ],
   "source": [
    "o1 = Zi(q1, q2)\n",
    "print(f\"{o1 = }\")\n",
    "print(f\"{o1.depth() = }\")\n",
    "print(f\"{o1.norm = }\\n\")\n",
    "print(f\"{o1.is_quaternion() = }\")\n",
    "print(f\"{o1.is_octonion() = }\")"
   ]
  },
  {
   "cell_type": "code",
   "execution_count": 28,
   "id": "6fd44109",
   "metadata": {},
   "outputs": [
    {
     "name": "stdout",
     "output_type": "stream",
     "text": [
      "q1 = Zi(Zi(10, -7), Zi(-10, -2))\n",
      "q1arr = q1.to_array() = [[10, -7], [-10, -2]]\n",
      "Zi.from_array(q1arr) = Zi(Zi(10, -7), Zi(-10, -2))\n",
      "\n",
      "o1 = Zi(Zi(Zi(10, -7), Zi(-10, -2)), Zi(Zi(-3, -3), Zi(-6, -7)))\n",
      "o1arr = o1.to_array() = [[[10, -7], [-10, -2]], [[-3, -3], [-6, -7]]]\n",
      "Zi.from_array(o1arr) = Zi(Zi(Zi(10, -7), Zi(-10, -2)), Zi(Zi(-3, -3), Zi(-6, -7)))\n"
     ]
    }
   ],
   "source": [
    "q1arr = q1.to_array()\n",
    "o1arr = o1.to_array()\n",
    "\n",
    "q1x = Zi.from_array(q1arr)\n",
    "o1x = Zi.from_array(o1arr)\n",
    "\n",
    "print(f\"{q1 = }\")\n",
    "print(f\"q1arr = {q1.to_array() = }\")\n",
    "print(f\"{Zi.from_array(q1arr) = }\\n\")\n",
    "\n",
    "print(f\"{o1 = }\")\n",
    "print(f\"o1arr = {o1.to_array() = }\")\n",
    "print(f\"{Zi.from_array(o1arr) = }\")"
   ]
  },
  {
   "cell_type": "code",
   "execution_count": 29,
   "id": "43091c34-855f-47f2-861e-2deb044c02a5",
   "metadata": {},
   "outputs": [
    {
     "name": "stdout",
     "output_type": "stream",
     "text": [
      "Quat(+7-8i+8j+3k)\n",
      "Quat(-9-10i-8j-4k)\n"
     ]
    }
   ],
   "source": [
    "qx = random_quaternion()\n",
    "qy = random_quaternion()\n",
    "print(qx)\n",
    "print(qy)"
   ]
  },
  {
   "cell_type": "code",
   "execution_count": 30,
   "id": "858f6a0e",
   "metadata": {},
   "outputs": [
    {
     "data": {
      "text/plain": [
       "True"
      ]
     },
     "execution_count": 30,
     "metadata": {},
     "output_type": "execute_result"
    }
   ],
   "source": [
    "(qx * qy).norm == qx.norm * qy.norm"
   ]
  },
  {
   "cell_type": "code",
   "execution_count": 31,
   "id": "5202f9de",
   "metadata": {},
   "outputs": [
    {
     "data": {
      "text/plain": [
       "Zi(0, 0)"
      ]
     },
     "execution_count": 31,
     "metadata": {},
     "output_type": "execute_result"
    }
   ],
   "source": [
    "Zi.zero()"
   ]
  },
  {
   "cell_type": "code",
   "execution_count": 32,
   "id": "1f4cff53",
   "metadata": {},
   "outputs": [
    {
     "data": {
      "text/plain": [
       "Zi(Zi(0, 0), Zi(0, 0))"
      ]
     },
     "execution_count": 32,
     "metadata": {},
     "output_type": "execute_result"
    }
   ],
   "source": [
    "Zi.zero(1)"
   ]
  },
  {
   "cell_type": "code",
   "execution_count": 33,
   "id": "ebf01306",
   "metadata": {},
   "outputs": [
    {
     "data": {
      "text/plain": [
       "Zi(Zi(Zi(0, 0), Zi(0, 0)), Zi(Zi(0, 0), Zi(0, 0)))"
      ]
     },
     "execution_count": 33,
     "metadata": {},
     "output_type": "execute_result"
    }
   ],
   "source": [
    "Zi.zero(2)"
   ]
  },
  {
   "cell_type": "code",
   "execution_count": 34,
   "id": "31cb0461",
   "metadata": {},
   "outputs": [
    {
     "data": {
      "text/plain": [
       "Zi(1, 0)"
      ]
     },
     "execution_count": 34,
     "metadata": {},
     "output_type": "execute_result"
    }
   ],
   "source": [
    "Zi.one()"
   ]
  },
  {
   "cell_type": "code",
   "execution_count": 35,
   "id": "8b631974",
   "metadata": {},
   "outputs": [
    {
     "data": {
      "text/plain": [
       "Zi(Zi(1, 0), Zi(0, 0))"
      ]
     },
     "execution_count": 35,
     "metadata": {},
     "output_type": "execute_result"
    }
   ],
   "source": [
    "Zi.one(1)"
   ]
  },
  {
   "cell_type": "code",
   "execution_count": 36,
   "id": "4a42e07e",
   "metadata": {},
   "outputs": [
    {
     "data": {
      "text/plain": [
       "Zi(Zi(Zi(1, 0), Zi(0, 0)), Zi(Zi(0, 0), Zi(0, 0)))"
      ]
     },
     "execution_count": 36,
     "metadata": {},
     "output_type": "execute_result"
    }
   ],
   "source": [
    "Zi.one(2)"
   ]
  },
  {
   "cell_type": "code",
   "execution_count": 37,
   "id": "b6bdea99",
   "metadata": {},
   "outputs": [
    {
     "data": {
      "text/plain": [
       "Zi(-41, 29)"
      ]
     },
     "execution_count": 37,
     "metadata": {},
     "output_type": "execute_result"
    }
   ],
   "source": [
    "Zi.random()"
   ]
  },
  {
   "cell_type": "code",
   "execution_count": 38,
   "id": "46f1836a",
   "metadata": {},
   "outputs": [
    {
     "data": {
      "text/plain": [
       "Zi(Zi(54, -94), Zi(43, -50))"
      ]
     },
     "execution_count": 38,
     "metadata": {},
     "output_type": "execute_result"
    }
   ],
   "source": [
    "Zi.random(depth=1)"
   ]
  },
  {
   "cell_type": "code",
   "execution_count": 39,
   "id": "85f6ca32",
   "metadata": {},
   "outputs": [
    {
     "data": {
      "text/plain": [
       "Zi(Zi(Zi(83, 66), Zi(79, 39)), Zi(Zi(7, -44), Zi(14, 50)))"
      ]
     },
     "execution_count": 39,
     "metadata": {},
     "output_type": "execute_result"
    }
   ],
   "source": [
    "Zi.random(depth=2)"
   ]
  },
  {
   "cell_type": "code",
   "execution_count": null,
   "id": "f2ea835a",
   "metadata": {},
   "outputs": [],
   "source": []
  },
  {
   "cell_type": "code",
   "execution_count": null,
   "id": "1ed9dee0",
   "metadata": {},
   "outputs": [],
   "source": []
  },
  {
   "cell_type": "code",
   "execution_count": null,
   "id": "c7ffc01e",
   "metadata": {},
   "outputs": [],
   "source": []
  },
  {
   "cell_type": "code",
   "execution_count": 40,
   "id": "b5d0ca3f",
   "metadata": {},
   "outputs": [],
   "source": [
    "o2 = Zi.random(depth=2)\n",
    "o3 = Zi.random(depth=2)"
   ]
  },
  {
   "cell_type": "code",
   "execution_count": 41,
   "id": "7081c052",
   "metadata": {},
   "outputs": [
    {
     "name": "stdout",
     "output_type": "stream",
     "text": [
      "Oct(Quat(+10-7i-10j-2k), Quat(-3-3i-6j-7k))\n",
      "Oct(Quat(-29-99i+94j-60k), Quat(+78+8i-13j-29k))\n",
      "Oct(Quat(-61-45i+95j-14k), Quat(-74-77i-3j-76k))\n"
     ]
    }
   ],
   "source": [
    "print(o1)\n",
    "print(o2)\n",
    "print(o3)"
   ]
  },
  {
   "cell_type": "code",
   "execution_count": 42,
   "id": "476af534",
   "metadata": {},
   "outputs": [
    {
     "data": {
      "text/plain": [
       "Zi(Zi(Zi(-19, -106), Zi(84, -62)), Zi(Zi(75, 5), Zi(-19, -36)))"
      ]
     },
     "execution_count": 42,
     "metadata": {},
     "output_type": "execute_result"
    }
   ],
   "source": [
    "o1 + o2"
   ]
  },
  {
   "cell_type": "code",
   "execution_count": 43,
   "id": "9ceafb0c",
   "metadata": {},
   "outputs": [
    {
     "data": {
      "text/plain": [
       "Zi(Zi(Zi(39, 92), Zi(-104, 58)), Zi(Zi(-81, -11), Zi(7, 22)))"
      ]
     },
     "execution_count": 43,
     "metadata": {},
     "output_type": "execute_result"
    }
   ],
   "source": [
    "o1 - o2"
   ]
  },
  {
   "cell_type": "code",
   "execution_count": 44,
   "id": "f7d8077d",
   "metadata": {},
   "outputs": [
    {
     "data": {
      "text/plain": [
       "Zi(Zi(Zi(-186, -1702), Zi(802, 560)), Zi(Zi(846, 2292), Zi(836, -456)))"
      ]
     },
     "execution_count": 44,
     "metadata": {},
     "output_type": "execute_result"
    }
   ],
   "source": [
    "o1 * o2"
   ]
  },
  {
   "cell_type": "code",
   "execution_count": 45,
   "id": "fb0b286c",
   "metadata": {},
   "outputs": [
    {
     "data": {
      "text/plain": [
       "Zi(Zi(Zi(12, -7), Zi(-10, -2)), Zi(Zi(-3, -3), Zi(-6, -7)))"
      ]
     },
     "execution_count": 45,
     "metadata": {},
     "output_type": "execute_result"
    }
   ],
   "source": [
    "o1 + 2"
   ]
  },
  {
   "cell_type": "code",
   "execution_count": 46,
   "id": "4fe4c26b",
   "metadata": {},
   "outputs": [
    {
     "data": {
      "text/plain": [
       "Zi(Zi(Zi(12, -7), Zi(-10, -2)), Zi(Zi(-3, -3), Zi(-6, -7)))"
      ]
     },
     "execution_count": 46,
     "metadata": {},
     "output_type": "execute_result"
    }
   ],
   "source": [
    "2 + o1"
   ]
  },
  {
   "cell_type": "code",
   "execution_count": 47,
   "id": "0eb85e45",
   "metadata": {},
   "outputs": [
    {
     "data": {
      "text/plain": [
       "Zi(Zi(Zi(-8, 7), Zi(10, 2)), Zi(Zi(3, 3), Zi(6, 7)))"
      ]
     },
     "execution_count": 47,
     "metadata": {},
     "output_type": "execute_result"
    }
   ],
   "source": [
    "2 - o1"
   ]
  },
  {
   "cell_type": "code",
   "execution_count": 48,
   "id": "a5143302",
   "metadata": {},
   "outputs": [
    {
     "data": {
      "text/plain": [
       "[[[10, -7], [-10, -2]], [[-3, -3], [-6, -7]]]"
      ]
     },
     "execution_count": 48,
     "metadata": {},
     "output_type": "execute_result"
    }
   ],
   "source": [
    "o1.to_array()"
   ]
  },
  {
   "cell_type": "code",
   "execution_count": 49,
   "id": "767db290",
   "metadata": {},
   "outputs": [
    {
     "data": {
      "text/plain": [
       "True"
      ]
     },
     "execution_count": 49,
     "metadata": {},
     "output_type": "execute_result"
    }
   ],
   "source": [
    "Zi.from_array(o1.to_array()) == o1"
   ]
  },
  {
   "cell_type": "code",
   "execution_count": null,
   "id": "bd589163",
   "metadata": {},
   "outputs": [],
   "source": []
  },
  {
   "cell_type": "code",
   "execution_count": null,
   "id": "010ab1a1",
   "metadata": {},
   "outputs": [],
   "source": []
  },
  {
   "cell_type": "code",
   "execution_count": null,
   "id": "9c5e251c",
   "metadata": {},
   "outputs": [],
   "source": []
  },
  {
   "cell_type": "code",
   "execution_count": 50,
   "id": "26ca077c",
   "metadata": {},
   "outputs": [],
   "source": [
    "# Lipschitz Quaternions\n",
    "\n",
    "class Li(Zi):\n",
    "    \n",
    "    def __init__(self, *args, **kwargs):\n",
    "        nargs = len(args)\n",
    "        if nargs == 4:\n",
    "            a, b, c, d = args\n",
    "            if isinstance(a, int) and isinstance(b, int) and isinstance(c, int) and isinstance(d, int):\n",
    "                super().__init__(Zi(a, b), Zi(c, d))\n",
    "            else:\n",
    "                raise Exception()\n",
    "        elif nargs == 2:\n",
    "            a, b = args\n",
    "            if a.is_complex() and b.is_complex():\n",
    "                super().__init__(Zi(a, b))\n",
    "        else:\n",
    "            raise Exception()"
   ]
  },
  {
   "cell_type": "code",
   "execution_count": 51,
   "id": "50afeeae",
   "metadata": {},
   "outputs": [
    {
     "data": {
      "text/plain": [
       "Li(Zi(1, 2), Zi(3, 4))"
      ]
     },
     "execution_count": 51,
     "metadata": {},
     "output_type": "execute_result"
    }
   ],
   "source": [
    "foo = Li(1, 2, 3, 4)\n",
    "foo"
   ]
  },
  {
   "cell_type": "code",
   "execution_count": 52,
   "id": "6d12f04b",
   "metadata": {},
   "outputs": [
    {
     "data": {
      "text/plain": [
       "Li(Zi(1, 2), Zi(3, 4))"
      ]
     },
     "execution_count": 52,
     "metadata": {},
     "output_type": "execute_result"
    }
   ],
   "source": [
    "fu = Li(Zi(1, 2), Zi(3, 4))\n",
    "fu"
   ]
  },
  {
   "cell_type": "code",
   "execution_count": null,
   "id": "ea445e5c",
   "metadata": {},
   "outputs": [],
   "source": []
  }
 ],
 "metadata": {
  "kernelspec": {
   "display_name": "Python [conda env:base] *",
   "language": "python",
   "name": "conda-base-py"
  },
  "language_info": {
   "codemirror_mode": {
    "name": "ipython",
    "version": 3
   },
   "file_extension": ".py",
   "mimetype": "text/x-python",
   "name": "python",
   "nbconvert_exporter": "python",
   "pygments_lexer": "ipython3",
   "version": "3.13.5"
  }
 },
 "nbformat": 4,
 "nbformat_minor": 5
}
