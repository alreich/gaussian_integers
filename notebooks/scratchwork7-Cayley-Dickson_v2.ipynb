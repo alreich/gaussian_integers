{
 "cells": [
  {
   "cell_type": "markdown",
   "id": "11951404-4d7b-4cd4-aa6e-3bca6abee1ce",
   "metadata": {},
   "source": [
    "# Cayley-Dickson Construction Applied to Zi Definition"
   ]
  },
  {
   "cell_type": "markdown",
   "id": "985bac8c",
   "metadata": {},
   "source": [
    "*Version 2*"
   ]
  },
  {
   "cell_type": "markdown",
   "id": "2f09c45e-9ab5-461b-8de8-fd74f6a0e16e",
   "metadata": {},
   "source": [
    "My original implementation of Gaussian integers included two classes, ``Zi`` and ``Qi``, where, for example, ``Zi(2, -7)`` represents a Gaussian integer, and ``Qi(-2/3, 4/5)`` represents a Gaussian rational.\n",
    "\n",
    "I'd like to extend this code to include integer-valued quaternions and octonions. An elegant way to accomplish that goal would be to use the Cayley-Dickson construction, where complex numbers can be constructed from pairs of real numbers, quaternions can be constructed from pairs of those pairs, and octonions constructed from pairs of those pairs of pairs.\n",
    "\n",
    "For more specifics, see my write-up about the Cayley-Dickson construction [at this link](https://abstract-algebra.readthedocs.io/en/latest/55_cayley_dickson.html)."
   ]
  },
  {
   "cell_type": "code",
   "execution_count": 1,
   "id": "1ebdcab3",
   "metadata": {},
   "outputs": [],
   "source": [
    "from cayley_dickson_alg import Zi\n",
    "from random import randint"
   ]
  },
  {
   "cell_type": "code",
   "execution_count": 2,
   "id": "ddd933ad-e12b-44bb-ae39-92ce4007849b",
   "metadata": {},
   "outputs": [
    {
     "data": {
      "text/plain": [
       "Zi(0, 0)"
      ]
     },
     "execution_count": 2,
     "metadata": {},
     "output_type": "execute_result"
    }
   ],
   "source": [
    "Zi()"
   ]
  },
  {
   "cell_type": "code",
   "execution_count": 3,
   "id": "cf847feb-fad1-4da4-b857-71b861858678",
   "metadata": {},
   "outputs": [
    {
     "name": "stdout",
     "output_type": "stream",
     "text": [
      "0j\n"
     ]
    }
   ],
   "source": [
    "print(Zi())"
   ]
  },
  {
   "cell_type": "code",
   "execution_count": 4,
   "id": "e1163966",
   "metadata": {},
   "outputs": [
    {
     "data": {
      "text/plain": [
       "Zi(1, 0)"
      ]
     },
     "execution_count": 4,
     "metadata": {},
     "output_type": "execute_result"
    }
   ],
   "source": [
    "Zi(1)"
   ]
  },
  {
   "cell_type": "code",
   "execution_count": 5,
   "id": "bf3a6e3f-914c-4844-9450-5e1fbebbb3be",
   "metadata": {},
   "outputs": [
    {
     "name": "stdout",
     "output_type": "stream",
     "text": [
      "(1+0j)\n"
     ]
    }
   ],
   "source": [
    "print(Zi(1))"
   ]
  },
  {
   "cell_type": "code",
   "execution_count": 6,
   "id": "4136e233",
   "metadata": {},
   "outputs": [
    {
     "data": {
      "text/plain": [
       "Zi(1, 2)"
      ]
     },
     "execution_count": 6,
     "metadata": {},
     "output_type": "execute_result"
    }
   ],
   "source": [
    "Zi(1, 2)"
   ]
  },
  {
   "cell_type": "code",
   "execution_count": 7,
   "id": "383577e3",
   "metadata": {},
   "outputs": [
    {
     "data": {
      "text/plain": [
       "Zi(2, 2)"
      ]
     },
     "execution_count": 7,
     "metadata": {},
     "output_type": "execute_result"
    }
   ],
   "source": [
    "Zi(1.9, 2.1)"
   ]
  },
  {
   "cell_type": "code",
   "execution_count": 8,
   "id": "cb04a9a1",
   "metadata": {},
   "outputs": [
    {
     "data": {
      "text/plain": [
       "Zi(2, 2)"
      ]
     },
     "execution_count": 8,
     "metadata": {},
     "output_type": "execute_result"
    }
   ],
   "source": [
    "Zi((1.9+2.1j))"
   ]
  },
  {
   "cell_type": "code",
   "execution_count": 9,
   "id": "5be9e09d",
   "metadata": {},
   "outputs": [
    {
     "data": {
      "text/plain": [
       "Zi(1, 2)"
      ]
     },
     "execution_count": 9,
     "metadata": {},
     "output_type": "execute_result"
    }
   ],
   "source": [
    "Zi(Zi(1, 2))"
   ]
  },
  {
   "cell_type": "code",
   "execution_count": 10,
   "id": "7f8ba615",
   "metadata": {},
   "outputs": [
    {
     "data": {
      "text/plain": [
       "Zi(Zi(0, 0), Zi(1, 0))"
      ]
     },
     "execution_count": 10,
     "metadata": {},
     "output_type": "execute_result"
    }
   ],
   "source": [
    "foo = Zi(Zi(), Zi(1))\n",
    "foo"
   ]
  },
  {
   "cell_type": "code",
   "execution_count": 11,
   "id": "87211d66-3a22-409a-a0ee-aa0e51ff274b",
   "metadata": {},
   "outputs": [
    {
     "name": "stdout",
     "output_type": "stream",
     "text": [
      "Quat(+1j)\n"
     ]
    }
   ],
   "source": [
    "print(foo)"
   ]
  },
  {
   "cell_type": "code",
   "execution_count": 12,
   "id": "d30c7a22",
   "metadata": {},
   "outputs": [
    {
     "data": {
      "text/plain": [
       "Zi(Zi(-3, 4), Zi(1, -2))"
      ]
     },
     "execution_count": 12,
     "metadata": {},
     "output_type": "execute_result"
    }
   ],
   "source": [
    "foo2 = Zi(Zi(-3, 4), (1-2j))\n",
    "foo2"
   ]
  },
  {
   "cell_type": "code",
   "execution_count": 13,
   "id": "7d80a381-8a22-4426-8a89-11cc2a186369",
   "metadata": {},
   "outputs": [
    {
     "name": "stdout",
     "output_type": "stream",
     "text": [
      "Quat(-3+4i+1j-2k)\n"
     ]
    }
   ],
   "source": [
    "print(foo2)"
   ]
  },
  {
   "cell_type": "code",
   "execution_count": 14,
   "id": "6953a671",
   "metadata": {},
   "outputs": [
    {
     "data": {
      "text/plain": [
       "Zi(Zi(3, 4), Zi(1, 2))"
      ]
     },
     "execution_count": 14,
     "metadata": {},
     "output_type": "execute_result"
    }
   ],
   "source": [
    "foo3 = Zi((3+4j), Zi(1, 2))\n",
    "foo3"
   ]
  },
  {
   "cell_type": "code",
   "execution_count": 15,
   "id": "ee615fdc-7279-4457-a189-7d488fc937e7",
   "metadata": {},
   "outputs": [
    {
     "name": "stdout",
     "output_type": "stream",
     "text": [
      "Quat(+3+4i+1j+2k)\n"
     ]
    }
   ],
   "source": [
    "print(foo3)"
   ]
  },
  {
   "cell_type": "code",
   "execution_count": 16,
   "id": "3bd568be",
   "metadata": {},
   "outputs": [
    {
     "data": {
      "text/plain": [
       "Zi(Zi(3, 4), Zi(1, 2))"
      ]
     },
     "execution_count": 16,
     "metadata": {},
     "output_type": "execute_result"
    }
   ],
   "source": [
    "Zi((3+4j), (1+2j))"
   ]
  },
  {
   "cell_type": "code",
   "execution_count": 17,
   "id": "30307b26",
   "metadata": {},
   "outputs": [
    {
     "data": {
      "text/plain": [
       "Zi(Zi(Zi(0, 0), Zi(1, 0)), Zi(Zi(3, 4), Zi(1, 2)))"
      ]
     },
     "execution_count": 17,
     "metadata": {},
     "output_type": "execute_result"
    }
   ],
   "source": [
    "Zi(Zi(Zi(0), Zi(1)), Zi(Zi(3, 4), Zi(1, 2)))"
   ]
  },
  {
   "cell_type": "code",
   "execution_count": 18,
   "id": "5c030f52",
   "metadata": {},
   "outputs": [
    {
     "data": {
      "text/plain": [
       "Zi(Zi(Zi(0, 0), Zi(1, 0)), Zi(Zi(3, 4), Zi(1, 2)))"
      ]
     },
     "execution_count": 18,
     "metadata": {},
     "output_type": "execute_result"
    }
   ],
   "source": [
    "Zi(Zi(Zi(0), Zi(1)), Zi(Zi(3, 4), (1+2j)))"
   ]
  },
  {
   "cell_type": "code",
   "execution_count": 19,
   "id": "85a21f89-6ed9-459a-a297-4e46e5a2d955",
   "metadata": {},
   "outputs": [],
   "source": [
    "def random_quaternion(size=10):\n",
    "    ul = -size; ll = size  # Upper & lower limits of random numbers\n",
    "    return Zi(Zi.random(ul, ll, ul, ll), Zi.random(ul, ll, ul, ll))\n",
    "\n",
    "def random_octonion(size=10):\n",
    "    return Zi(random_quaternion(size), random_quaternion(size))"
   ]
  },
  {
   "cell_type": "markdown",
   "id": "7300fef0-36d6-4e06-874f-81aec47273dd",
   "metadata": {},
   "source": [
    "## Examples"
   ]
  },
  {
   "cell_type": "code",
   "execution_count": 20,
   "id": "3afe1173",
   "metadata": {},
   "outputs": [],
   "source": [
    "from random import seed\n",
    "\n",
    "seed(42)  # Generate the same random sequence each time (for testing)"
   ]
  },
  {
   "cell_type": "code",
   "execution_count": 21,
   "id": "e7457068-883a-4072-a36e-1e05855e9b31",
   "metadata": {},
   "outputs": [
    {
     "name": "stdout",
     "output_type": "stream",
     "text": [
      "zs = [Zi(10, -7), Zi(-10, -2), Zi(-3, -3), Zi(-6, -7)]\n",
      "z1 = Zi(10, -7) = (10-7j)\n",
      "z2 = Zi(-10, -2) = (-10-2j)\n",
      "z3 = Zi(-3, -3) = (-3-3j)\n",
      "z4 = Zi(-6, -7) = (-6-7j)\n"
     ]
    }
   ],
   "source": [
    "n = 4\n",
    "zs = [Zi.random(-10, 10, -10, 10) for i in range(n)]\n",
    "z1 = zs[0]\n",
    "z2 = zs[1]\n",
    "z3 = zs[2]\n",
    "z4 = zs[3]\n",
    "print(f\"{zs = }\")\n",
    "print(f\"{z1 = } = {z1}\")\n",
    "print(f\"{z2 = } = {z2}\")\n",
    "print(f\"{z3 = } = {z3}\")\n",
    "print(f\"{z4 = } = {z4}\")"
   ]
  },
  {
   "cell_type": "code",
   "execution_count": 22,
   "id": "9b2664b1",
   "metadata": {},
   "outputs": [
    {
     "name": "stdout",
     "output_type": "stream",
     "text": [
      "z1 = Zi(10, -7) = (10-7j)\n",
      "-z1 = Zi(-10, 7) = (-10+7j)\n",
      "z1.real = 10\n",
      "z1.imag = -7\n",
      "z1.conjugate() = Zi(10, 7) = (10+7j)\n",
      "z1.norm = 149\n",
      "z1.depth() = 0\n",
      "z1.is_complex() = True\n"
     ]
    }
   ],
   "source": [
    "print(f\"{z1 = } = {z1}\")\n",
    "print(f\"{-z1 = } = {-z1}\")\n",
    "print(f\"{z1.real = }\")\n",
    "print(f\"{z1.imag = }\")\n",
    "print(f\"{z1.conjugate() = } = {z1.conjugate()}\")\n",
    "print(f\"{z1.norm = }\")\n",
    "print(f\"{z1.depth() = }\")\n",
    "print(f\"{z1.is_complex() = }\")"
   ]
  },
  {
   "cell_type": "raw",
   "id": "5ac8ce8c",
   "metadata": {},
   "source": [
    "print(f\"{z1 / 2 = }\")\n",
    "print(f\"{2 / z1 = }\")\n",
    "print(f\"{(z1 / 2) * (2 / z1) = }\")\n",
    "print(f\"{z1.inverse() = }\")\n",
    "print(f\"{z1 * z1.inverse() = }\")"
   ]
  },
  {
   "cell_type": "code",
   "execution_count": 23,
   "id": "ffff863d-a1c8-4f23-9874-f5a66a8346c9",
   "metadata": {},
   "outputs": [
    {
     "name": "stdout",
     "output_type": "stream",
     "text": [
      "z1 = Zi(10, -7)\n",
      "z2 = Zi(-10, -2)\n",
      "z1 + z2 = Zi(0, -9)\n",
      "z1 - z2 = Zi(20, -5)\n"
     ]
    }
   ],
   "source": [
    "print(f\"{z1 = }\")\n",
    "print(f\"{z2 = }\")\n",
    "print(f\"{z1 + z2 = }\")\n",
    "print(f\"{z1 - z2 = }\")"
   ]
  },
  {
   "cell_type": "markdown",
   "id": "37cf4b7b-b29a-4681-a1a3-4542847a2b14",
   "metadata": {},
   "source": [
    "For comparisons, create complex numbers corresponding to z1, z2, z3, and z4"
   ]
  },
  {
   "cell_type": "raw",
   "id": "ee1607a1",
   "metadata": {},
   "source": [
    "c1 = z1.make_complex\n",
    "c2 = z2.make_complex\n",
    "c3 = z3.make_complex\n",
    "c4 = z4.make_complex"
   ]
  },
  {
   "cell_type": "code",
   "execution_count": 24,
   "id": "e2669a2f-a09e-4c2f-b3c9-e4277d446136",
   "metadata": {},
   "outputs": [
    {
     "name": "stdout",
     "output_type": "stream",
     "text": [
      "z1 = Zi(10, -7) --> c1 = (10-7j)\n",
      "z2 = Zi(-10, -2) --> c2 = (-10-2j)\n",
      "z3 = Zi(-3, -3) --> c3 = (-3-3j)\n",
      "z4 = Zi(-6, -7) --> c4 = (-6-7j)\n"
     ]
    }
   ],
   "source": [
    "c1 = complex(z1)\n",
    "c2 = complex(z2)\n",
    "c3 = complex(z3)\n",
    "c4 = complex(z4)\n",
    "\n",
    "print(f\"{z1 = } --> {c1 = }\")\n",
    "print(f\"{z2 = } --> {c2 = }\")\n",
    "print(f\"{z3 = } --> {c3 = }\")\n",
    "print(f\"{z4 = } --> {c4 = }\")"
   ]
  },
  {
   "cell_type": "code",
   "execution_count": 25,
   "id": "74241d55-83f4-4b79-bfce-d07e4cbb45b9",
   "metadata": {},
   "outputs": [
    {
     "name": "stdout",
     "output_type": "stream",
     "text": [
      "z1 * z2 = Zi(-114, 50)\n",
      "c1 * c2 = (-114+50j)\n",
      "\n",
      "z1 * 2 = Zi(20, -14)\n",
      "2 * z1 = Zi(20, -14)\n"
     ]
    }
   ],
   "source": [
    "print(f\"{z1 * z2 = }\")\n",
    "print(f\"{c1 * c2 = }\\n\")\n",
    "\n",
    "print(f\"{z1 * 2 = }\")\n",
    "print(f\"{2 * z1 = }\")"
   ]
  },
  {
   "cell_type": "code",
   "execution_count": 26,
   "id": "ac0fefae-4c8a-44ea-bc2e-18de5f25dd07",
   "metadata": {},
   "outputs": [
    {
     "name": "stdout",
     "output_type": "stream",
     "text": [
      "q1.depth() = 1\n",
      "q1.is_complex() = False\n",
      "q1.is_quaternion() = True\n",
      "q1 = Zi(Zi(10, -7), Zi(-10, -2))\n",
      "q2 = Zi(Zi(-3, -3), Zi(-6, -7))\n",
      "q1.norm = 253\n",
      "\n",
      "d1 = Zi(Zi(10, -7), Zi(-10, -2))\n",
      "d2 = Zi(Zi(-3, -3), Zi(-6, -7))\n",
      "\n",
      "q1 + q2 = Zi(Zi(7, -10), Zi(-16, -9))\n",
      "q1 * 2 = Zi(Zi(20, -14), Zi(-20, -4))\n",
      "2 * q1 = Zi(Zi(20, -14), Zi(-20, -4))\n",
      "q1 * q2 = Zi(Zi(-125, -67), Zi(13, -76))\n",
      "\n",
      "d1 + d2 = Zi(Zi(7, -10), Zi(-16, -9))\n",
      "d1 * d2 = Zi(Zi(-125, -67), Zi(13, -76))\n"
     ]
    }
   ],
   "source": [
    "q1 = Zi(z1, z2)\n",
    "q2 = Zi(z3, z4)\n",
    "\n",
    "d1 = Zi(c1, c2)\n",
    "d2 = Zi(c3, c4)\n",
    "\n",
    "print(f\"{q1.depth() = }\")\n",
    "print(f\"{q1.is_complex() = }\")\n",
    "print(f\"{q1.is_quaternion() = }\")\n",
    "print(f\"{q1 = }\")\n",
    "print(f\"{q2 = }\")\n",
    "print(f\"{q1.norm = }\\n\")\n",
    "\n",
    "print(f\"{d1 = }\")\n",
    "print(f\"{d2 = }\\n\")\n",
    "\n",
    "print(f\"{q1 + q2 = }\")\n",
    "print(f\"{q1 * 2 = }\")\n",
    "print(f\"{2 * q1 = }\")\n",
    "print(f\"{q1 * q2 = }\\n\")\n",
    "\n",
    "print(f\"{d1 + d2 = }\")\n",
    "print(f\"{d1 * d2 = }\")"
   ]
  },
  {
   "cell_type": "code",
   "execution_count": 27,
   "id": "44fd1089-37e2-4617-af60-da9912bdf660",
   "metadata": {},
   "outputs": [
    {
     "name": "stdout",
     "output_type": "stream",
     "text": [
      "o1 = Zi(Zi(Zi(10, -7), Zi(-10, -2)), Zi(Zi(-3, -3), Zi(-6, -7)))\n",
      "o1 = Oct(Quat(+10-7i-10j-2k), Quat(-3-3i-6j-7k))\n",
      "o1.depth() = 2\n",
      "o1.norm = 356\n",
      "\n",
      "o1.is_quaternion() = False\n",
      "o1.is_octonion() = True\n"
     ]
    }
   ],
   "source": [
    "o1 = Zi(q1, q2)\n",
    "print(f\"{o1 = }\")\n",
    "print(f\"o1 = {o1}\")\n",
    "print(f\"{o1.depth() = }\")\n",
    "print(f\"{o1.norm = }\\n\")\n",
    "print(f\"{o1.is_quaternion() = }\")\n",
    "print(f\"{o1.is_octonion() = }\")"
   ]
  },
  {
   "cell_type": "code",
   "execution_count": 28,
   "id": "6fd44109",
   "metadata": {},
   "outputs": [
    {
     "name": "stdout",
     "output_type": "stream",
     "text": [
      "q1 = Zi(Zi(10, -7), Zi(-10, -2))\n",
      "q1arr = q1.to_array() = [[10, -7], [-10, -2]]\n",
      "Zi.from_array(q1arr) = Zi(Zi(10, -7), Zi(-10, -2))\n",
      "\n",
      "o1 = Zi(Zi(Zi(10, -7), Zi(-10, -2)), Zi(Zi(-3, -3), Zi(-6, -7)))\n",
      "o1arr = o1.to_array() = [[[10, -7], [-10, -2]], [[-3, -3], [-6, -7]]]\n",
      "Zi.from_array(o1arr) = Zi(Zi(Zi(10, -7), Zi(-10, -2)), Zi(Zi(-3, -3), Zi(-6, -7)))\n"
     ]
    }
   ],
   "source": [
    "q1arr = q1.to_array()\n",
    "o1arr = o1.to_array()\n",
    "\n",
    "q1x = Zi.from_array(q1arr)\n",
    "o1x = Zi.from_array(o1arr)\n",
    "\n",
    "print(f\"{q1 = }\")\n",
    "print(f\"q1arr = {q1.to_array() = }\")\n",
    "print(f\"{Zi.from_array(q1arr) = }\\n\")\n",
    "\n",
    "print(f\"{o1 = }\")\n",
    "print(f\"o1arr = {o1.to_array() = }\")\n",
    "print(f\"{Zi.from_array(o1arr) = }\")"
   ]
  },
  {
   "cell_type": "code",
   "execution_count": 29,
   "id": "43091c34-855f-47f2-861e-2deb044c02a5",
   "metadata": {},
   "outputs": [
    {
     "name": "stdout",
     "output_type": "stream",
     "text": [
      "Quat(+7-8i+8j+3k)\n",
      "Quat(-9-10i-8j-4k)\n"
     ]
    }
   ],
   "source": [
    "qx = random_quaternion()\n",
    "qy = random_quaternion()\n",
    "print(qx)\n",
    "print(qy)"
   ]
  },
  {
   "cell_type": "code",
   "execution_count": 30,
   "id": "858f6a0e",
   "metadata": {},
   "outputs": [
    {
     "data": {
      "text/plain": [
       "True"
      ]
     },
     "execution_count": 30,
     "metadata": {},
     "output_type": "execute_result"
    }
   ],
   "source": [
    "(qx * qy).norm == qx.norm * qy.norm"
   ]
  },
  {
   "cell_type": "code",
   "execution_count": 31,
   "id": "5202f9de",
   "metadata": {},
   "outputs": [
    {
     "data": {
      "text/plain": [
       "Zi(0, 0)"
      ]
     },
     "execution_count": 31,
     "metadata": {},
     "output_type": "execute_result"
    }
   ],
   "source": [
    "Zi.zero()"
   ]
  },
  {
   "cell_type": "code",
   "execution_count": 32,
   "id": "1f4cff53",
   "metadata": {},
   "outputs": [
    {
     "data": {
      "text/plain": [
       "Zi(Zi(0, 0), Zi(0, 0))"
      ]
     },
     "execution_count": 32,
     "metadata": {},
     "output_type": "execute_result"
    }
   ],
   "source": [
    "Zi.zero(1)"
   ]
  },
  {
   "cell_type": "code",
   "execution_count": 33,
   "id": "ebf01306",
   "metadata": {},
   "outputs": [
    {
     "data": {
      "text/plain": [
       "Zi(Zi(Zi(0, 0), Zi(0, 0)), Zi(Zi(0, 0), Zi(0, 0)))"
      ]
     },
     "execution_count": 33,
     "metadata": {},
     "output_type": "execute_result"
    }
   ],
   "source": [
    "Zi.zero(2)"
   ]
  },
  {
   "cell_type": "code",
   "execution_count": 34,
   "id": "31cb0461",
   "metadata": {},
   "outputs": [
    {
     "data": {
      "text/plain": [
       "Zi(1, 0)"
      ]
     },
     "execution_count": 34,
     "metadata": {},
     "output_type": "execute_result"
    }
   ],
   "source": [
    "Zi.one()"
   ]
  },
  {
   "cell_type": "code",
   "execution_count": 35,
   "id": "8b631974",
   "metadata": {},
   "outputs": [
    {
     "data": {
      "text/plain": [
       "Zi(Zi(1, 0), Zi(0, 0))"
      ]
     },
     "execution_count": 35,
     "metadata": {},
     "output_type": "execute_result"
    }
   ],
   "source": [
    "Zi.one(1)"
   ]
  },
  {
   "cell_type": "code",
   "execution_count": 36,
   "id": "4a42e07e",
   "metadata": {},
   "outputs": [
    {
     "data": {
      "text/plain": [
       "Zi(Zi(Zi(1, 0), Zi(0, 0)), Zi(Zi(0, 0), Zi(0, 0)))"
      ]
     },
     "execution_count": 36,
     "metadata": {},
     "output_type": "execute_result"
    }
   ],
   "source": [
    "Zi.one(2)"
   ]
  },
  {
   "cell_type": "code",
   "execution_count": 37,
   "id": "b6bdea99",
   "metadata": {},
   "outputs": [
    {
     "data": {
      "text/plain": [
       "Zi(-41, 29)"
      ]
     },
     "execution_count": 37,
     "metadata": {},
     "output_type": "execute_result"
    }
   ],
   "source": [
    "Zi.random()"
   ]
  },
  {
   "cell_type": "code",
   "execution_count": 38,
   "id": "46f1836a",
   "metadata": {},
   "outputs": [
    {
     "data": {
      "text/plain": [
       "Zi(Zi(54, -94), Zi(43, -50))"
      ]
     },
     "execution_count": 38,
     "metadata": {},
     "output_type": "execute_result"
    }
   ],
   "source": [
    "Zi.random(depth=1)"
   ]
  },
  {
   "cell_type": "code",
   "execution_count": 39,
   "id": "85f6ca32",
   "metadata": {},
   "outputs": [
    {
     "data": {
      "text/plain": [
       "Zi(Zi(Zi(83, 66), Zi(79, 39)), Zi(Zi(7, -44), Zi(14, 50)))"
      ]
     },
     "execution_count": 39,
     "metadata": {},
     "output_type": "execute_result"
    }
   ],
   "source": [
    "Zi.random(depth=2)"
   ]
  },
  {
   "cell_type": "code",
   "execution_count": null,
   "id": "f2ea835a",
   "metadata": {},
   "outputs": [],
   "source": []
  },
  {
   "cell_type": "code",
   "execution_count": null,
   "id": "1ed9dee0",
   "metadata": {},
   "outputs": [],
   "source": []
  },
  {
   "cell_type": "code",
   "execution_count": null,
   "id": "c7ffc01e",
   "metadata": {},
   "outputs": [],
   "source": []
  },
  {
   "cell_type": "code",
   "execution_count": 40,
   "id": "b5d0ca3f",
   "metadata": {},
   "outputs": [],
   "source": [
    "o2 = Zi.random(depth=2)\n",
    "o3 = Zi.random(depth=2)"
   ]
  },
  {
   "cell_type": "code",
   "execution_count": 41,
   "id": "7081c052",
   "metadata": {},
   "outputs": [
    {
     "name": "stdout",
     "output_type": "stream",
     "text": [
      "Oct(Quat(+10-7i-10j-2k), Quat(-3-3i-6j-7k))\n",
      "Oct(Quat(-29-99i+94j-60k), Quat(+78+8i-13j-29k))\n",
      "Oct(Quat(-61-45i+95j-14k), Quat(-74-77i-3j-76k))\n"
     ]
    }
   ],
   "source": [
    "print(o1)\n",
    "print(o2)\n",
    "print(o3)"
   ]
  },
  {
   "cell_type": "code",
   "execution_count": 42,
   "id": "476af534",
   "metadata": {},
   "outputs": [
    {
     "data": {
      "text/plain": [
       "Zi(Zi(Zi(-19, -106), Zi(84, -62)), Zi(Zi(75, 5), Zi(-19, -36)))"
      ]
     },
     "execution_count": 42,
     "metadata": {},
     "output_type": "execute_result"
    }
   ],
   "source": [
    "o1 + o2"
   ]
  },
  {
   "cell_type": "code",
   "execution_count": 43,
   "id": "9ceafb0c",
   "metadata": {},
   "outputs": [
    {
     "data": {
      "text/plain": [
       "Zi(Zi(Zi(39, 92), Zi(-104, 58)), Zi(Zi(-81, -11), Zi(7, 22)))"
      ]
     },
     "execution_count": 43,
     "metadata": {},
     "output_type": "execute_result"
    }
   ],
   "source": [
    "o1 - o2"
   ]
  },
  {
   "cell_type": "code",
   "execution_count": 44,
   "id": "f7d8077d",
   "metadata": {},
   "outputs": [
    {
     "data": {
      "text/plain": [
       "Zi(Zi(Zi(-186, -1702), Zi(802, 560)), Zi(Zi(846, 2292), Zi(836, -456)))"
      ]
     },
     "execution_count": 44,
     "metadata": {},
     "output_type": "execute_result"
    }
   ],
   "source": [
    "o1 * o2"
   ]
  },
  {
   "cell_type": "code",
   "execution_count": 45,
   "id": "fb0b286c",
   "metadata": {},
   "outputs": [
    {
     "data": {
      "text/plain": [
       "Zi(Zi(Zi(12, -7), Zi(-10, -2)), Zi(Zi(-3, -3), Zi(-6, -7)))"
      ]
     },
     "execution_count": 45,
     "metadata": {},
     "output_type": "execute_result"
    }
   ],
   "source": [
    "o1 + 2"
   ]
  },
  {
   "cell_type": "code",
   "execution_count": 46,
   "id": "4fe4c26b",
   "metadata": {},
   "outputs": [
    {
     "data": {
      "text/plain": [
       "Zi(Zi(Zi(12, -7), Zi(-10, -2)), Zi(Zi(-3, -3), Zi(-6, -7)))"
      ]
     },
     "execution_count": 46,
     "metadata": {},
     "output_type": "execute_result"
    }
   ],
   "source": [
    "2 + o1"
   ]
  },
  {
   "cell_type": "code",
   "execution_count": 47,
   "id": "0eb85e45",
   "metadata": {},
   "outputs": [
    {
     "data": {
      "text/plain": [
       "Zi(Zi(Zi(-8, 7), Zi(10, 2)), Zi(Zi(3, 3), Zi(6, 7)))"
      ]
     },
     "execution_count": 47,
     "metadata": {},
     "output_type": "execute_result"
    }
   ],
   "source": [
    "2 - o1"
   ]
  },
  {
   "cell_type": "code",
   "execution_count": 48,
   "id": "a5143302",
   "metadata": {},
   "outputs": [
    {
     "data": {
      "text/plain": [
       "[[[10, -7], [-10, -2]], [[-3, -3], [-6, -7]]]"
      ]
     },
     "execution_count": 48,
     "metadata": {},
     "output_type": "execute_result"
    }
   ],
   "source": [
    "o1.to_array()"
   ]
  },
  {
   "cell_type": "code",
   "execution_count": 49,
   "id": "767db290",
   "metadata": {},
   "outputs": [
    {
     "data": {
      "text/plain": [
       "True"
      ]
     },
     "execution_count": 49,
     "metadata": {},
     "output_type": "execute_result"
    }
   ],
   "source": [
    "Zi.from_array(o1.to_array()) == o1"
   ]
  },
  {
   "cell_type": "code",
   "execution_count": null,
   "id": "bd589163",
   "metadata": {},
   "outputs": [],
   "source": []
  },
  {
   "cell_type": "code",
   "execution_count": null,
   "id": "010ab1a1",
   "metadata": {},
   "outputs": [],
   "source": []
  },
  {
   "cell_type": "code",
   "execution_count": null,
   "id": "9c5e251c",
   "metadata": {},
   "outputs": [],
   "source": []
  },
  {
   "cell_type": "code",
   "execution_count": 50,
   "id": "26ca077c",
   "metadata": {},
   "outputs": [],
   "source": [
    "# Lipschitz Quaternions\n",
    "\n",
    "class Li(Zi):\n",
    "    \n",
    "    def __init__(self, *args, **kwargs):\n",
    "        nargs = len(args)\n",
    "        if nargs == 4:\n",
    "            a, b, c, d = args\n",
    "            if isinstance(a, int) and isinstance(b, int) and isinstance(c, int) and isinstance(d, int):\n",
    "                super().__init__(Zi(a, b), Zi(c, d))\n",
    "            else:\n",
    "                raise Exception()\n",
    "        elif nargs == 2:\n",
    "            a, b = args\n",
    "            if a.is_complex() and b.is_complex():\n",
    "                super().__init__(Zi(a, b))\n",
    "        else:\n",
    "            raise Exception()"
   ]
  },
  {
   "cell_type": "code",
   "execution_count": 51,
   "id": "50afeeae",
   "metadata": {},
   "outputs": [
    {
     "data": {
      "text/plain": [
       "Li(Zi(1, 2), Zi(3, 4))"
      ]
     },
     "execution_count": 51,
     "metadata": {},
     "output_type": "execute_result"
    }
   ],
   "source": [
    "foo = Li(1, 2, 3, 4)\n",
    "foo"
   ]
  },
  {
   "cell_type": "code",
   "execution_count": 52,
   "id": "6d12f04b",
   "metadata": {},
   "outputs": [
    {
     "data": {
      "text/plain": [
       "Li(Zi(1, 2), Zi(3, 4))"
      ]
     },
     "execution_count": 52,
     "metadata": {},
     "output_type": "execute_result"
    }
   ],
   "source": [
    "fu = Li(Zi(1, 2), Zi(3, 4))\n",
    "fu"
   ]
  },
  {
   "cell_type": "code",
   "execution_count": null,
   "id": "ea445e5c",
   "metadata": {},
   "outputs": [],
   "source": []
  },
  {
   "cell_type": "code",
   "execution_count": null,
   "id": "be6ec8e6",
   "metadata": {},
   "outputs": [],
   "source": []
  },
  {
   "cell_type": "code",
   "execution_count": 1,
   "id": "5c4976fa",
   "metadata": {},
   "outputs": [],
   "source": [
    "import re\n",
    "\n",
    "def parse_quaternion_string(q_string):\n",
    "    \"\"\"\n",
    "    Parses a quaternion string and returns its components (w, x, y, z).\n",
    "    Example formats: \"1+2i+3j+4k\", \"1-3k\", \"i+j-k\", \"1.5i+2.5j\"\n",
    "    \"\"\"\n",
    "    # Define a regex to capture optional real, i, j, and k coefficients.\n",
    "    # The groups are named 'real', 'i', 'j', and 'k'.\n",
    "    pattern = re.compile(\n",
    "        r\"(?P<real>[-+]?\\s*\\d*\\.?\\d+(?!i|j|k))?\"  # Real\n",
    "        r\"(?P<i>[-+]?\\s*\\d*\\.?\\d*i)?\"             # i\n",
    "        r\"(?P<j>[-+]?\\s*\\d*\\.?\\d*j)?\"             # j\n",
    "        r\"(?P<k>[-+]?\\s*\\d*\\.?\\d*k)?\"             # k\n",
    "    )\n",
    "\n",
    "    match = pattern.search(q_string.replace(\" \", \"\"))\n",
    "\n",
    "    if not match:\n",
    "        raise ValueError(f\"Could not parse quaternion from string: {q_string}\")\n",
    "\n",
    "    components = match.groupdict()\n",
    "    a, b, c, d = 0.0, 0.0, 0.0, 0.0\n",
    "\n",
    "    # Extract the numerical values, handling missing coefficients (like 'i' alone)\n",
    "    # and signs.\n",
    "    if components.get('real'):\n",
    "        a = float(components['real'])\n",
    "    \n",
    "    if components.get('i'):\n",
    "        i_str = components['i'].strip('i')\n",
    "        b = (i_str) if i_str not in ['+', '-'] else float(i_str + '1')\n",
    "    \n",
    "    if components.get('j'):\n",
    "        j_str = components['j'].strip('j')\n",
    "        c = float(j_str) if j_str not in ['+', '-'] else float(j_str + '1')\n",
    "    \n",
    "    if components.get('k'):\n",
    "        k_str = components['k'].strip('k')\n",
    "        d = float(k_str) if k_str not in ['+', '-'] else float(k_str + '1')\n",
    "\n",
    "    return (a, b, c, d)"
   ]
  },
  {
   "cell_type": "code",
   "execution_count": 2,
   "id": "0ceca099",
   "metadata": {},
   "outputs": [],
   "source": [
    "q_string = \"1+2i+3j+4k\"\n",
    "# q_string = \"-2i+3j+4k\"\n",
    "\n",
    "# q_string = \"i - j\"\n",
    "# q_string = \" i - 7j + 3k\"\n",
    "# q_string = \"+ i - 3j + 7k\""
   ]
  },
  {
   "cell_type": "code",
   "execution_count": 3,
   "id": "0da11f46-9e30-4040-a09a-79ba65f9857f",
   "metadata": {},
   "outputs": [],
   "source": [
    "q_parser_tests = [\n",
    "(\"1+2i+3j+4k\",             [1, 2, 3, 4]),\n",
    "(\"-1+3i-3j+7k\",            [-1, 3, -3, 7]),\n",
    "(\"-1-4i-9j-2k\",            [-1, -4, -9, -2]),\n",
    "(\"17-16i-15j-14k\",         [17, -16, -15, -14]),\n",
    "\n",
    "(\"7+2i\",                    [7, 2, 0, 0]),\n",
    "(\"2i-6k\",                   [0, 2, 0, -6]),\n",
    "(\"1-5j+2k\",                 [1, 0, -5, 2]),\n",
    "(\"3+4i-9k\",                 [3, 4, 0, -9]),\n",
    "\n",
    "(\"42i+j-k\",                 [0, 42, 1, -1]),\n",
    "(\"6-2i+j-3k\",               [6, -2, 1, -3]),\n",
    "(\"1+i+j+k\",                 [1, 1, 1, 1]),\n",
    "(\"-1-i-j-k\",                [-1, -1, -1, -1]),\n",
    "\n",
    "(\"16k-20j+2i-7\",            [-7, 2, -20, 16]),\n",
    "(\"i+4k-3j+2\",               [2, 1, -3, 4]),\n",
    "(\"5k-2i+9+3j\",              [9, -2, 3, 5]),\n",
    "(\"5k-2j+3\",                 [3, 0, -2, 5]),\n",
    "\n",
    "(\"1.75-1.75i-1.75j-1.75k\",  [1.75, -1.75, -1.75, -1.75]),\n",
    "(\"2.0j-3k+0.47i-13\",        [-13, 0.47, 2.0, -3]),  # or [-13 .47 2 -3]\n",
    "(\"5.6-3i\",                  [5.6, -3, 0, 0]),\n",
    "(\"k-7.6i\",                  [0, -7.6, 0, 1]),\n",
    "\n",
    "(\"0\",                       [0, 0, 0, 0]),\n",
    "(\"0j+0k\",                   [0, 0, 0, 0]),\n",
    "(\"-0j\",                     [0, 0, 0, 0]), # or [0 0 -0 0]\n",
    "(\"1-0k\",                     [1, 0, 0, 0])  # or [1 0 0 -0]\n",
    "]"
   ]
  },
  {
   "cell_type": "code",
   "execution_count": 4,
   "id": "5a595533",
   "metadata": {},
   "outputs": [
    {
     "data": {
      "text/plain": [
       "[('1+2i+3j+4k', [1, 2, 3, 4]),\n",
       " ('-1+3i-3j+7k', [-1, 3, -3, 7]),\n",
       " ('-1-4i-9j-2k', [-1, -4, -9, -2]),\n",
       " ('17-16i-15j-14k', [17, -16, -15, -14]),\n",
       " ('7+2i', [7, 2, 0, 0]),\n",
       " ('2i-6k', [0, 2, 0, -6]),\n",
       " ('1-5j+2k', [1, 0, -5, 2]),\n",
       " ('3+4i-9k', [3, 4, 0, -9]),\n",
       " ('42i+j-k', [0, 42, 1, -1]),\n",
       " ('6-2i+j-3k', [6, -2, 1, -3]),\n",
       " ('1+i+j+k', [1, 1, 1, 1]),\n",
       " ('-1-i-j-k', [-1, -1, -1, -1]),\n",
       " ('16k-20j+2i-7', [-7, 2, -20, 16]),\n",
       " ('i+4k-3j+2', [2, 1, -3, 4]),\n",
       " ('5k-2i+9+3j', [9, -2, 3, 5]),\n",
       " ('5k-2j+3', [3, 0, -2, 5]),\n",
       " ('1.75-1.75i-1.75j-1.75k', [1.75, -1.75, -1.75, -1.75]),\n",
       " ('2.0j-3k+0.47i-13', [-13, 0.47, 2.0, -3]),\n",
       " ('5.6-3i', [5.6, -3, 0, 0]),\n",
       " ('k-7.6i', [0, -7.6, 0, 1]),\n",
       " ('0', [0, 0, 0, 0]),\n",
       " ('0j+0k', [0, 0, 0, 0]),\n",
       " ('-0j', [0, 0, 0, 0]),\n",
       " ('1-0k', [1, 0, 0, 0])]"
      ]
     },
     "execution_count": 4,
     "metadata": {},
     "output_type": "execute_result"
    }
   ],
   "source": [
    "q_parser_tests"
   ]
  },
  {
   "cell_type": "code",
   "execution_count": 5,
   "id": "4c90a5ec",
   "metadata": {},
   "outputs": [],
   "source": [
    "pattern = re.compile(\n",
    "    r\"(?P<real>[-+]?\\s*\\d*\\.?\\d*(?!i|j|k))?\"  # Real\n",
    "    r\"(?P<i>s*[-+]?\\s*\\d*\\.?\\d*i)?\"             # i\n",
    "    r\"(?P<j>[-+]?\\s*\\d*\\.?\\d*j)?\"             # j\n",
    "    r\"(?P<k>[-+]?\\s*\\d*\\.?\\d*k)?\"             # k\n",
    ")"
   ]
  },
  {
   "cell_type": "code",
   "execution_count": 6,
   "id": "d1c8dead-31f4-48fd-9d8c-3229926bf7ed",
   "metadata": {},
   "outputs": [],
   "source": [
    "def make_int_or_float(st):\n",
    "    try:\n",
    "        f_st = float(st)\n",
    "    except:\n",
    "        raise ValueError(f\"{st} is not a float nor an int\")\n",
    "    i_st = int(f_st)\n",
    "    if i_st == f_st:\n",
    "        return i_st\n",
    "    else:\n",
    "        return f_st"
   ]
  },
  {
   "cell_type": "code",
   "execution_count": 7,
   "id": "09a3fe5e-c14c-437e-9bde-4ec64b2e6988",
   "metadata": {},
   "outputs": [],
   "source": [
    "# make_int_or_float(\"2.0i\")"
   ]
  },
  {
   "cell_type": "code",
   "execution_count": 8,
   "id": "17a00cd3-19b0-4ccb-a6b8-86cd335101ea",
   "metadata": {},
   "outputs": [
    {
     "data": {
      "text/plain": [
       "3"
      ]
     },
     "execution_count": 8,
     "metadata": {},
     "output_type": "execute_result"
    }
   ],
   "source": [
    "make_int_or_float(\"3\")"
   ]
  },
  {
   "cell_type": "code",
   "execution_count": 9,
   "id": "95683598-3078-4597-9009-7ee99c33a447",
   "metadata": {},
   "outputs": [
    {
     "name": "stdout",
     "output_type": "stream",
     "text": [
      "3.2\n"
     ]
    },
    {
     "data": {
      "text/plain": [
       "float"
      ]
     },
     "execution_count": 9,
     "metadata": {},
     "output_type": "execute_result"
    }
   ],
   "source": [
    "foo = make_int_or_float(\"3.2\")\n",
    "print(foo)\n",
    "type(foo)"
   ]
  },
  {
   "cell_type": "code",
   "execution_count": null,
   "id": "1bcf2d4d-c09a-4bee-8372-d9c71a46a6e2",
   "metadata": {},
   "outputs": [],
   "source": []
  },
  {
   "cell_type": "code",
   "execution_count": null,
   "id": "70fba3a0-642c-472b-bbcd-dd45bf760d7d",
   "metadata": {},
   "outputs": [],
   "source": []
  },
  {
   "cell_type": "code",
   "execution_count": 10,
   "id": "54d3ecbf-b3fa-43c6-ad4d-439cc270d9b7",
   "metadata": {},
   "outputs": [
    {
     "name": "stdout",
     "output_type": "stream",
     "text": [
      "'1+2i+3j+4k' --> ['1', '+2i', '+3j', '+4k'] -- [1, 2, 3, 4]\n",
      "'-1+3i-3j+7k' --> ['-1', '+3i', '-3j', '+7k'] -- [-1, 3, -3, 7]\n",
      "'-1-4i-9j-2k' --> ['-1', '-4i', '-9j', '-2k'] -- [-1, -4, -9, -2]\n",
      "'17-16i-15j-14k' --> ['17', '-16i', '-15j', '-14k'] -- [17, -16, -15, -14]\n",
      "'7+2i' --> ['7', '+2i', None, None] -- [7, 2, 0, 0]\n",
      "'2i-6k' --> [0, '2i', None, '-6k'] -- [0, 2, 0, -6]\n",
      "'1-5j+2k' --> ['1', None, '-5j', '+2k'] -- [1, 0, -5, 2]\n",
      "'3+4i-9k' --> ['3', '+4i', None, '-9k'] -- [3, 4, 0, -9]\n",
      "'42i+j-k' --> ['4', '2i', '+j', '-k'] -- [0, 42, 1, -1]\n",
      "'6-2i+j-3k' --> ['6', '-2i', '+j', '-3k'] -- [6, -2, 1, -3]\n",
      "'1+i+j+k' --> ['1', '+i', '+j', '+k'] -- [1, 1, 1, 1]\n",
      "'-1-i-j-k' --> ['-1', '-i', '-j', '-k'] -- [-1, -1, -1, -1]\n",
      "'16k-20j+2i-7' --> ['1', None, None, '6k'] -- [-7, 2, -20, 16]\n",
      "'i+4k-3j+2' --> [0, 'i', None, '+4k'] -- [2, 1, -3, 4]\n",
      "'5k-2i+9+3j' --> [0, None, None, '5k'] -- [9, -2, 3, 5]\n",
      "'5k-2j+3' --> [0, None, None, '5k'] -- [3, 0, -2, 5]\n",
      "'1.75-1.75i-1.75j-1.75k' --> ['1.75', '-1.75i', '-1.75j', '-1.75k'] -- [1.75, -1.75, -1.75, -1.75]\n",
      "'2.0j-3k+0.47i-13' --> ['2.', None, '0j', '-3k'] -- [-13, 0.47, 2.0, -3]\n",
      "'5.6-3i' --> ['5.6', '-3i', None, None] -- [5.6, -3, 0, 0]\n",
      "'k-7.6i' --> [0, None, None, 'k'] -- [0, -7.6, 0, 1]\n",
      "'0' --> ['0', None, None, None] -- [0, 0, 0, 0]\n",
      "'0j+0k' --> [0, None, '0j', '+0k'] -- [0, 0, 0, 0]\n",
      "'-0j' --> ['-', None, '0j', None] -- [0, 0, 0, 0]\n",
      "'1-0k' --> ['1', None, None, '-0k'] -- [1, 0, 0, 0]\n"
     ]
    }
   ],
   "source": [
    "for test in q_parser_tests:\n",
    "    match = pattern.search(test[0].replace(\" \", \"\"))\n",
    "    components = match.groupdict()\n",
    "    re = components['real']\n",
    "    if re is None or re == '':\n",
    "        components['real'] = 0\n",
    "    print(f\"'{test[0]}' --> {[x for x in components.values()]} -- {test[1]}\")"
   ]
  },
  {
   "cell_type": "code",
   "execution_count": 11,
   "id": "729c411e",
   "metadata": {},
   "outputs": [],
   "source": [
    "a, b, c, d = 0.0, 0.0, 0.0, 0.0"
   ]
  },
  {
   "cell_type": "code",
   "execution_count": 12,
   "id": "d438ee5a",
   "metadata": {},
   "outputs": [
    {
     "name": "stdout",
     "output_type": "stream",
     "text": [
      "1.0\n"
     ]
    }
   ],
   "source": [
    "if components.get('real'):\n",
    "    a = float(components['real'])\n",
    "print(a)"
   ]
  },
  {
   "cell_type": "code",
   "execution_count": null,
   "id": "c7dbde43",
   "metadata": {},
   "outputs": [],
   "source": []
  },
  {
   "cell_type": "code",
   "execution_count": 13,
   "id": "3d7eb630",
   "metadata": {},
   "outputs": [
    {
     "name": "stdout",
     "output_type": "stream",
     "text": [
      "0.0\n"
     ]
    }
   ],
   "source": [
    "if components.get('i'):\n",
    "    i_str = components['i'].strip('i')\n",
    "    print(i_str)\n",
    "    b = (i_str) if i_str not in ['+', '-'] else float(i_str + '1')\n",
    "print(b)"
   ]
  },
  {
   "cell_type": "code",
   "execution_count": 14,
   "id": "6b6a7eca",
   "metadata": {},
   "outputs": [
    {
     "name": "stdout",
     "output_type": "stream",
     "text": [
      "0.0\n"
     ]
    }
   ],
   "source": [
    "if components.get('j'):\n",
    "    j_str = components['j'].strip('j')\n",
    "    print(j_str)\n",
    "    c = float(j_str) if j_str not in ['+', '-'] else float(j_str + '1')\n",
    "print(c)"
   ]
  },
  {
   "cell_type": "code",
   "execution_count": 15,
   "id": "94473ad3",
   "metadata": {},
   "outputs": [
    {
     "name": "stdout",
     "output_type": "stream",
     "text": [
      "-0\n",
      "-0.0\n"
     ]
    }
   ],
   "source": [
    "if components.get('k'):\n",
    "    k_str = components['k'].strip('k')\n",
    "    print(k_str)\n",
    "    d = float(k_str) if k_str not in ['+', '-'] else float(k_str + '1')\n",
    "print(d)"
   ]
  },
  {
   "cell_type": "code",
   "execution_count": 16,
   "id": "55e38e65",
   "metadata": {},
   "outputs": [
    {
     "data": {
      "text/plain": [
       "(1.0, 0.0, 0.0, -0.0)"
      ]
     },
     "execution_count": 16,
     "metadata": {},
     "output_type": "execute_result"
    }
   ],
   "source": [
    "(a, b, c, d)"
   ]
  },
  {
   "cell_type": "code",
   "execution_count": null,
   "id": "78086cef",
   "metadata": {},
   "outputs": [],
   "source": []
  },
  {
   "cell_type": "code",
   "execution_count": null,
   "id": "9a7d145e",
   "metadata": {},
   "outputs": [],
   "source": []
  },
  {
   "cell_type": "code",
   "execution_count": 17,
   "id": "2f02c9dd",
   "metadata": {},
   "outputs": [
    {
     "ename": "AttributeError",
     "evalue": "'str' object has no attribute 'compile'",
     "output_type": "error",
     "traceback": [
      "\u001b[0;31m---------------------------------------------------------------------------\u001b[0m",
      "\u001b[0;31mAttributeError\u001b[0m                            Traceback (most recent call last)",
      "Cell \u001b[0;32mIn[17], line 3\u001b[0m\n\u001b[1;32m      1\u001b[0m \u001b[38;5;66;03m# Example usage\u001b[39;00m\n\u001b[1;32m      2\u001b[0m q1_string \u001b[38;5;241m=\u001b[39m \u001b[38;5;124m\"\u001b[39m\u001b[38;5;124m1 + i - 7j + 3k\u001b[39m\u001b[38;5;124m\"\u001b[39m\n\u001b[0;32m----> 3\u001b[0m w1, x1, y1, z1 \u001b[38;5;241m=\u001b[39m parse_quaternion_string(q1_string)\n\u001b[1;32m      4\u001b[0m \u001b[38;5;28mprint\u001b[39m(\u001b[38;5;124mf\u001b[39m\u001b[38;5;124m\"\u001b[39m\u001b[38;5;124m'\u001b[39m\u001b[38;5;132;01m{\u001b[39;00mq1_string\u001b[38;5;132;01m}\u001b[39;00m\u001b[38;5;124m'\u001b[39m\u001b[38;5;124m parsed as: w=\u001b[39m\u001b[38;5;132;01m{\u001b[39;00mw1\u001b[38;5;132;01m}\u001b[39;00m\u001b[38;5;124m, x=\u001b[39m\u001b[38;5;132;01m{\u001b[39;00mx1\u001b[38;5;132;01m}\u001b[39;00m\u001b[38;5;124m, y=\u001b[39m\u001b[38;5;132;01m{\u001b[39;00my1\u001b[38;5;132;01m}\u001b[39;00m\u001b[38;5;124m, z=\u001b[39m\u001b[38;5;132;01m{\u001b[39;00mz1\u001b[38;5;132;01m}\u001b[39;00m\u001b[38;5;124m\"\u001b[39m)\n",
      "Cell \u001b[0;32mIn[1], line 10\u001b[0m, in \u001b[0;36mparse_quaternion_string\u001b[0;34m(q_string)\u001b[0m\n\u001b[1;32m      4\u001b[0m \u001b[38;5;250m\u001b[39m\u001b[38;5;124;03m\"\"\"\u001b[39;00m\n\u001b[1;32m      5\u001b[0m \u001b[38;5;124;03mParses a quaternion string and returns its components (w, x, y, z).\u001b[39;00m\n\u001b[1;32m      6\u001b[0m \u001b[38;5;124;03mExample formats: \"1+2i+3j+4k\", \"1-3k\", \"i+j-k\", \"1.5i+2.5j\"\u001b[39;00m\n\u001b[1;32m      7\u001b[0m \u001b[38;5;124;03m\"\"\"\u001b[39;00m\n\u001b[1;32m      8\u001b[0m \u001b[38;5;66;03m# Define a regex to capture optional real, i, j, and k coefficients.\u001b[39;00m\n\u001b[1;32m      9\u001b[0m \u001b[38;5;66;03m# The groups are named 'real', 'i', 'j', and 'k'.\u001b[39;00m\n\u001b[0;32m---> 10\u001b[0m pattern \u001b[38;5;241m=\u001b[39m re\u001b[38;5;241m.\u001b[39mcompile(\n\u001b[1;32m     11\u001b[0m     \u001b[38;5;124mr\u001b[39m\u001b[38;5;124m\"\u001b[39m\u001b[38;5;124m(?P<real>[-+]?\u001b[39m\u001b[38;5;124m\\\u001b[39m\u001b[38;5;124ms*\u001b[39m\u001b[38;5;124m\\\u001b[39m\u001b[38;5;124md*\u001b[39m\u001b[38;5;124m\\\u001b[39m\u001b[38;5;124m.?\u001b[39m\u001b[38;5;124m\\\u001b[39m\u001b[38;5;124md+(?!i|j|k))?\u001b[39m\u001b[38;5;124m\"\u001b[39m  \u001b[38;5;66;03m# Real\u001b[39;00m\n\u001b[1;32m     12\u001b[0m     \u001b[38;5;124mr\u001b[39m\u001b[38;5;124m\"\u001b[39m\u001b[38;5;124m(?P<i>[-+]?\u001b[39m\u001b[38;5;124m\\\u001b[39m\u001b[38;5;124ms*\u001b[39m\u001b[38;5;124m\\\u001b[39m\u001b[38;5;124md*\u001b[39m\u001b[38;5;124m\\\u001b[39m\u001b[38;5;124m.?\u001b[39m\u001b[38;5;124m\\\u001b[39m\u001b[38;5;124md*i)?\u001b[39m\u001b[38;5;124m\"\u001b[39m             \u001b[38;5;66;03m# i\u001b[39;00m\n\u001b[1;32m     13\u001b[0m     \u001b[38;5;124mr\u001b[39m\u001b[38;5;124m\"\u001b[39m\u001b[38;5;124m(?P<j>[-+]?\u001b[39m\u001b[38;5;124m\\\u001b[39m\u001b[38;5;124ms*\u001b[39m\u001b[38;5;124m\\\u001b[39m\u001b[38;5;124md*\u001b[39m\u001b[38;5;124m\\\u001b[39m\u001b[38;5;124m.?\u001b[39m\u001b[38;5;124m\\\u001b[39m\u001b[38;5;124md*j)?\u001b[39m\u001b[38;5;124m\"\u001b[39m             \u001b[38;5;66;03m# j\u001b[39;00m\n\u001b[1;32m     14\u001b[0m     \u001b[38;5;124mr\u001b[39m\u001b[38;5;124m\"\u001b[39m\u001b[38;5;124m(?P<k>[-+]?\u001b[39m\u001b[38;5;124m\\\u001b[39m\u001b[38;5;124ms*\u001b[39m\u001b[38;5;124m\\\u001b[39m\u001b[38;5;124md*\u001b[39m\u001b[38;5;124m\\\u001b[39m\u001b[38;5;124m.?\u001b[39m\u001b[38;5;124m\\\u001b[39m\u001b[38;5;124md*k)?\u001b[39m\u001b[38;5;124m\"\u001b[39m             \u001b[38;5;66;03m# k\u001b[39;00m\n\u001b[1;32m     15\u001b[0m )\n\u001b[1;32m     17\u001b[0m match \u001b[38;5;241m=\u001b[39m pattern\u001b[38;5;241m.\u001b[39msearch(q_string\u001b[38;5;241m.\u001b[39mreplace(\u001b[38;5;124m\"\u001b[39m\u001b[38;5;124m \u001b[39m\u001b[38;5;124m\"\u001b[39m, \u001b[38;5;124m\"\u001b[39m\u001b[38;5;124m\"\u001b[39m))\n\u001b[1;32m     19\u001b[0m \u001b[38;5;28;01mif\u001b[39;00m \u001b[38;5;129;01mnot\u001b[39;00m match:\n",
      "\u001b[0;31mAttributeError\u001b[0m: 'str' object has no attribute 'compile'"
     ]
    }
   ],
   "source": [
    "# Example usage\n",
    "q1_string = \"1 + i - 7j + 3k\"\n",
    "w1, x1, y1, z1 = parse_quaternion_string(q1_string)\n",
    "print(f\"'{q1_string}' parsed as: w={w1}, x={x1}, y={y1}, z={z1}\")"
   ]
  },
  {
   "cell_type": "code",
   "execution_count": 18,
   "id": "1c826f11",
   "metadata": {},
   "outputs": [
    {
     "ename": "AttributeError",
     "evalue": "'str' object has no attribute 'compile'",
     "output_type": "error",
     "traceback": [
      "\u001b[0;31m---------------------------------------------------------------------------\u001b[0m",
      "\u001b[0;31mAttributeError\u001b[0m                            Traceback (most recent call last)",
      "Cell \u001b[0;32mIn[18], line 2\u001b[0m\n\u001b[1;32m      1\u001b[0m q2_string \u001b[38;5;241m=\u001b[39m \u001b[38;5;124m\"\u001b[39m\u001b[38;5;124m-3.0k + 1\u001b[39m\u001b[38;5;124m\"\u001b[39m\n\u001b[0;32m----> 2\u001b[0m w2, x2, y2, z2 \u001b[38;5;241m=\u001b[39m parse_quaternion_string(q2_string)\n\u001b[1;32m      3\u001b[0m \u001b[38;5;28mprint\u001b[39m(\u001b[38;5;124mf\u001b[39m\u001b[38;5;124m\"\u001b[39m\u001b[38;5;124m'\u001b[39m\u001b[38;5;132;01m{\u001b[39;00mq2_string\u001b[38;5;132;01m}\u001b[39;00m\u001b[38;5;124m'\u001b[39m\u001b[38;5;124m parsed as: w=\u001b[39m\u001b[38;5;132;01m{\u001b[39;00mw2\u001b[38;5;132;01m}\u001b[39;00m\u001b[38;5;124m, x=\u001b[39m\u001b[38;5;132;01m{\u001b[39;00mx2\u001b[38;5;132;01m}\u001b[39;00m\u001b[38;5;124m, y=\u001b[39m\u001b[38;5;132;01m{\u001b[39;00my2\u001b[38;5;132;01m}\u001b[39;00m\u001b[38;5;124m, z=\u001b[39m\u001b[38;5;132;01m{\u001b[39;00mz2\u001b[38;5;132;01m}\u001b[39;00m\u001b[38;5;124m\"\u001b[39m)\n",
      "Cell \u001b[0;32mIn[1], line 10\u001b[0m, in \u001b[0;36mparse_quaternion_string\u001b[0;34m(q_string)\u001b[0m\n\u001b[1;32m      4\u001b[0m \u001b[38;5;250m\u001b[39m\u001b[38;5;124;03m\"\"\"\u001b[39;00m\n\u001b[1;32m      5\u001b[0m \u001b[38;5;124;03mParses a quaternion string and returns its components (w, x, y, z).\u001b[39;00m\n\u001b[1;32m      6\u001b[0m \u001b[38;5;124;03mExample formats: \"1+2i+3j+4k\", \"1-3k\", \"i+j-k\", \"1.5i+2.5j\"\u001b[39;00m\n\u001b[1;32m      7\u001b[0m \u001b[38;5;124;03m\"\"\"\u001b[39;00m\n\u001b[1;32m      8\u001b[0m \u001b[38;5;66;03m# Define a regex to capture optional real, i, j, and k coefficients.\u001b[39;00m\n\u001b[1;32m      9\u001b[0m \u001b[38;5;66;03m# The groups are named 'real', 'i', 'j', and 'k'.\u001b[39;00m\n\u001b[0;32m---> 10\u001b[0m pattern \u001b[38;5;241m=\u001b[39m re\u001b[38;5;241m.\u001b[39mcompile(\n\u001b[1;32m     11\u001b[0m     \u001b[38;5;124mr\u001b[39m\u001b[38;5;124m\"\u001b[39m\u001b[38;5;124m(?P<real>[-+]?\u001b[39m\u001b[38;5;124m\\\u001b[39m\u001b[38;5;124ms*\u001b[39m\u001b[38;5;124m\\\u001b[39m\u001b[38;5;124md*\u001b[39m\u001b[38;5;124m\\\u001b[39m\u001b[38;5;124m.?\u001b[39m\u001b[38;5;124m\\\u001b[39m\u001b[38;5;124md+(?!i|j|k))?\u001b[39m\u001b[38;5;124m\"\u001b[39m  \u001b[38;5;66;03m# Real\u001b[39;00m\n\u001b[1;32m     12\u001b[0m     \u001b[38;5;124mr\u001b[39m\u001b[38;5;124m\"\u001b[39m\u001b[38;5;124m(?P<i>[-+]?\u001b[39m\u001b[38;5;124m\\\u001b[39m\u001b[38;5;124ms*\u001b[39m\u001b[38;5;124m\\\u001b[39m\u001b[38;5;124md*\u001b[39m\u001b[38;5;124m\\\u001b[39m\u001b[38;5;124m.?\u001b[39m\u001b[38;5;124m\\\u001b[39m\u001b[38;5;124md*i)?\u001b[39m\u001b[38;5;124m\"\u001b[39m             \u001b[38;5;66;03m# i\u001b[39;00m\n\u001b[1;32m     13\u001b[0m     \u001b[38;5;124mr\u001b[39m\u001b[38;5;124m\"\u001b[39m\u001b[38;5;124m(?P<j>[-+]?\u001b[39m\u001b[38;5;124m\\\u001b[39m\u001b[38;5;124ms*\u001b[39m\u001b[38;5;124m\\\u001b[39m\u001b[38;5;124md*\u001b[39m\u001b[38;5;124m\\\u001b[39m\u001b[38;5;124m.?\u001b[39m\u001b[38;5;124m\\\u001b[39m\u001b[38;5;124md*j)?\u001b[39m\u001b[38;5;124m\"\u001b[39m             \u001b[38;5;66;03m# j\u001b[39;00m\n\u001b[1;32m     14\u001b[0m     \u001b[38;5;124mr\u001b[39m\u001b[38;5;124m\"\u001b[39m\u001b[38;5;124m(?P<k>[-+]?\u001b[39m\u001b[38;5;124m\\\u001b[39m\u001b[38;5;124ms*\u001b[39m\u001b[38;5;124m\\\u001b[39m\u001b[38;5;124md*\u001b[39m\u001b[38;5;124m\\\u001b[39m\u001b[38;5;124m.?\u001b[39m\u001b[38;5;124m\\\u001b[39m\u001b[38;5;124md*k)?\u001b[39m\u001b[38;5;124m\"\u001b[39m             \u001b[38;5;66;03m# k\u001b[39;00m\n\u001b[1;32m     15\u001b[0m )\n\u001b[1;32m     17\u001b[0m match \u001b[38;5;241m=\u001b[39m pattern\u001b[38;5;241m.\u001b[39msearch(q_string\u001b[38;5;241m.\u001b[39mreplace(\u001b[38;5;124m\"\u001b[39m\u001b[38;5;124m \u001b[39m\u001b[38;5;124m\"\u001b[39m, \u001b[38;5;124m\"\u001b[39m\u001b[38;5;124m\"\u001b[39m))\n\u001b[1;32m     19\u001b[0m \u001b[38;5;28;01mif\u001b[39;00m \u001b[38;5;129;01mnot\u001b[39;00m match:\n",
      "\u001b[0;31mAttributeError\u001b[0m: 'str' object has no attribute 'compile'"
     ]
    }
   ],
   "source": [
    "q2_string = \"-3.0k + 1\"\n",
    "w2, x2, y2, z2 = parse_quaternion_string(q2_string)\n",
    "print(f\"'{q2_string}' parsed as: w={w2}, x={x2}, y={y2}, z={z2}\")"
   ]
  },
  {
   "cell_type": "code",
   "execution_count": 19,
   "id": "13a4e0f7",
   "metadata": {},
   "outputs": [
    {
     "ename": "AttributeError",
     "evalue": "'str' object has no attribute 'compile'",
     "output_type": "error",
     "traceback": [
      "\u001b[0;31m---------------------------------------------------------------------------\u001b[0m",
      "\u001b[0;31mAttributeError\u001b[0m                            Traceback (most recent call last)",
      "Cell \u001b[0;32mIn[19], line 2\u001b[0m\n\u001b[1;32m      1\u001b[0m q3_string \u001b[38;5;241m=\u001b[39m \u001b[38;5;124m\"\u001b[39m\u001b[38;5;124mi - j\u001b[39m\u001b[38;5;124m\"\u001b[39m\n\u001b[0;32m----> 2\u001b[0m w3, x3, y3, z3 \u001b[38;5;241m=\u001b[39m parse_quaternion_string(q3_string)\n\u001b[1;32m      3\u001b[0m \u001b[38;5;28mprint\u001b[39m(\u001b[38;5;124mf\u001b[39m\u001b[38;5;124m\"\u001b[39m\u001b[38;5;124m'\u001b[39m\u001b[38;5;132;01m{\u001b[39;00mq3_string\u001b[38;5;132;01m}\u001b[39;00m\u001b[38;5;124m'\u001b[39m\u001b[38;5;124m parsed as: w=\u001b[39m\u001b[38;5;132;01m{\u001b[39;00mw3\u001b[38;5;132;01m}\u001b[39;00m\u001b[38;5;124m, x=\u001b[39m\u001b[38;5;132;01m{\u001b[39;00mx3\u001b[38;5;132;01m}\u001b[39;00m\u001b[38;5;124m, y=\u001b[39m\u001b[38;5;132;01m{\u001b[39;00my3\u001b[38;5;132;01m}\u001b[39;00m\u001b[38;5;124m, z=\u001b[39m\u001b[38;5;132;01m{\u001b[39;00mz3\u001b[38;5;132;01m}\u001b[39;00m\u001b[38;5;124m\"\u001b[39m)\n",
      "Cell \u001b[0;32mIn[1], line 10\u001b[0m, in \u001b[0;36mparse_quaternion_string\u001b[0;34m(q_string)\u001b[0m\n\u001b[1;32m      4\u001b[0m \u001b[38;5;250m\u001b[39m\u001b[38;5;124;03m\"\"\"\u001b[39;00m\n\u001b[1;32m      5\u001b[0m \u001b[38;5;124;03mParses a quaternion string and returns its components (w, x, y, z).\u001b[39;00m\n\u001b[1;32m      6\u001b[0m \u001b[38;5;124;03mExample formats: \"1+2i+3j+4k\", \"1-3k\", \"i+j-k\", \"1.5i+2.5j\"\u001b[39;00m\n\u001b[1;32m      7\u001b[0m \u001b[38;5;124;03m\"\"\"\u001b[39;00m\n\u001b[1;32m      8\u001b[0m \u001b[38;5;66;03m# Define a regex to capture optional real, i, j, and k coefficients.\u001b[39;00m\n\u001b[1;32m      9\u001b[0m \u001b[38;5;66;03m# The groups are named 'real', 'i', 'j', and 'k'.\u001b[39;00m\n\u001b[0;32m---> 10\u001b[0m pattern \u001b[38;5;241m=\u001b[39m re\u001b[38;5;241m.\u001b[39mcompile(\n\u001b[1;32m     11\u001b[0m     \u001b[38;5;124mr\u001b[39m\u001b[38;5;124m\"\u001b[39m\u001b[38;5;124m(?P<real>[-+]?\u001b[39m\u001b[38;5;124m\\\u001b[39m\u001b[38;5;124ms*\u001b[39m\u001b[38;5;124m\\\u001b[39m\u001b[38;5;124md*\u001b[39m\u001b[38;5;124m\\\u001b[39m\u001b[38;5;124m.?\u001b[39m\u001b[38;5;124m\\\u001b[39m\u001b[38;5;124md+(?!i|j|k))?\u001b[39m\u001b[38;5;124m\"\u001b[39m  \u001b[38;5;66;03m# Real\u001b[39;00m\n\u001b[1;32m     12\u001b[0m     \u001b[38;5;124mr\u001b[39m\u001b[38;5;124m\"\u001b[39m\u001b[38;5;124m(?P<i>[-+]?\u001b[39m\u001b[38;5;124m\\\u001b[39m\u001b[38;5;124ms*\u001b[39m\u001b[38;5;124m\\\u001b[39m\u001b[38;5;124md*\u001b[39m\u001b[38;5;124m\\\u001b[39m\u001b[38;5;124m.?\u001b[39m\u001b[38;5;124m\\\u001b[39m\u001b[38;5;124md*i)?\u001b[39m\u001b[38;5;124m\"\u001b[39m             \u001b[38;5;66;03m# i\u001b[39;00m\n\u001b[1;32m     13\u001b[0m     \u001b[38;5;124mr\u001b[39m\u001b[38;5;124m\"\u001b[39m\u001b[38;5;124m(?P<j>[-+]?\u001b[39m\u001b[38;5;124m\\\u001b[39m\u001b[38;5;124ms*\u001b[39m\u001b[38;5;124m\\\u001b[39m\u001b[38;5;124md*\u001b[39m\u001b[38;5;124m\\\u001b[39m\u001b[38;5;124m.?\u001b[39m\u001b[38;5;124m\\\u001b[39m\u001b[38;5;124md*j)?\u001b[39m\u001b[38;5;124m\"\u001b[39m             \u001b[38;5;66;03m# j\u001b[39;00m\n\u001b[1;32m     14\u001b[0m     \u001b[38;5;124mr\u001b[39m\u001b[38;5;124m\"\u001b[39m\u001b[38;5;124m(?P<k>[-+]?\u001b[39m\u001b[38;5;124m\\\u001b[39m\u001b[38;5;124ms*\u001b[39m\u001b[38;5;124m\\\u001b[39m\u001b[38;5;124md*\u001b[39m\u001b[38;5;124m\\\u001b[39m\u001b[38;5;124m.?\u001b[39m\u001b[38;5;124m\\\u001b[39m\u001b[38;5;124md*k)?\u001b[39m\u001b[38;5;124m\"\u001b[39m             \u001b[38;5;66;03m# k\u001b[39;00m\n\u001b[1;32m     15\u001b[0m )\n\u001b[1;32m     17\u001b[0m match \u001b[38;5;241m=\u001b[39m pattern\u001b[38;5;241m.\u001b[39msearch(q_string\u001b[38;5;241m.\u001b[39mreplace(\u001b[38;5;124m\"\u001b[39m\u001b[38;5;124m \u001b[39m\u001b[38;5;124m\"\u001b[39m, \u001b[38;5;124m\"\u001b[39m\u001b[38;5;124m\"\u001b[39m))\n\u001b[1;32m     19\u001b[0m \u001b[38;5;28;01mif\u001b[39;00m \u001b[38;5;129;01mnot\u001b[39;00m match:\n",
      "\u001b[0;31mAttributeError\u001b[0m: 'str' object has no attribute 'compile'"
     ]
    }
   ],
   "source": [
    "q3_string = \"i - j\"\n",
    "w3, x3, y3, z3 = parse_quaternion_string(q3_string)\n",
    "print(f\"'{q3_string}' parsed as: w={w3}, x={x3}, y={y3}, z={z3}\")"
   ]
  },
  {
   "cell_type": "code",
   "execution_count": 20,
   "id": "9198461c",
   "metadata": {},
   "outputs": [
    {
     "ename": "AttributeError",
     "evalue": "'str' object has no attribute 'compile'",
     "output_type": "error",
     "traceback": [
      "\u001b[0;31m---------------------------------------------------------------------------\u001b[0m",
      "\u001b[0;31mAttributeError\u001b[0m                            Traceback (most recent call last)",
      "Cell \u001b[0;32mIn[20], line 2\u001b[0m\n\u001b[1;32m      1\u001b[0m q4_string \u001b[38;5;241m=\u001b[39m \u001b[38;5;124m\"\u001b[39m\u001b[38;5;124m5\u001b[39m\u001b[38;5;124m\"\u001b[39m\n\u001b[0;32m----> 2\u001b[0m w4, x4, y4, z4 \u001b[38;5;241m=\u001b[39m parse_quaternion_string(q4_string)\n\u001b[1;32m      3\u001b[0m \u001b[38;5;28mprint\u001b[39m(\u001b[38;5;124mf\u001b[39m\u001b[38;5;124m\"\u001b[39m\u001b[38;5;124m'\u001b[39m\u001b[38;5;132;01m{\u001b[39;00mq4_string\u001b[38;5;132;01m}\u001b[39;00m\u001b[38;5;124m'\u001b[39m\u001b[38;5;124m parsed as: w=\u001b[39m\u001b[38;5;132;01m{\u001b[39;00mw4\u001b[38;5;132;01m}\u001b[39;00m\u001b[38;5;124m, x=\u001b[39m\u001b[38;5;132;01m{\u001b[39;00mx4\u001b[38;5;132;01m}\u001b[39;00m\u001b[38;5;124m, y=\u001b[39m\u001b[38;5;132;01m{\u001b[39;00my4\u001b[38;5;132;01m}\u001b[39;00m\u001b[38;5;124m, z=\u001b[39m\u001b[38;5;132;01m{\u001b[39;00mz4\u001b[38;5;132;01m}\u001b[39;00m\u001b[38;5;124m\"\u001b[39m)\n",
      "Cell \u001b[0;32mIn[1], line 10\u001b[0m, in \u001b[0;36mparse_quaternion_string\u001b[0;34m(q_string)\u001b[0m\n\u001b[1;32m      4\u001b[0m \u001b[38;5;250m\u001b[39m\u001b[38;5;124;03m\"\"\"\u001b[39;00m\n\u001b[1;32m      5\u001b[0m \u001b[38;5;124;03mParses a quaternion string and returns its components (w, x, y, z).\u001b[39;00m\n\u001b[1;32m      6\u001b[0m \u001b[38;5;124;03mExample formats: \"1+2i+3j+4k\", \"1-3k\", \"i+j-k\", \"1.5i+2.5j\"\u001b[39;00m\n\u001b[1;32m      7\u001b[0m \u001b[38;5;124;03m\"\"\"\u001b[39;00m\n\u001b[1;32m      8\u001b[0m \u001b[38;5;66;03m# Define a regex to capture optional real, i, j, and k coefficients.\u001b[39;00m\n\u001b[1;32m      9\u001b[0m \u001b[38;5;66;03m# The groups are named 'real', 'i', 'j', and 'k'.\u001b[39;00m\n\u001b[0;32m---> 10\u001b[0m pattern \u001b[38;5;241m=\u001b[39m re\u001b[38;5;241m.\u001b[39mcompile(\n\u001b[1;32m     11\u001b[0m     \u001b[38;5;124mr\u001b[39m\u001b[38;5;124m\"\u001b[39m\u001b[38;5;124m(?P<real>[-+]?\u001b[39m\u001b[38;5;124m\\\u001b[39m\u001b[38;5;124ms*\u001b[39m\u001b[38;5;124m\\\u001b[39m\u001b[38;5;124md*\u001b[39m\u001b[38;5;124m\\\u001b[39m\u001b[38;5;124m.?\u001b[39m\u001b[38;5;124m\\\u001b[39m\u001b[38;5;124md+(?!i|j|k))?\u001b[39m\u001b[38;5;124m\"\u001b[39m  \u001b[38;5;66;03m# Real\u001b[39;00m\n\u001b[1;32m     12\u001b[0m     \u001b[38;5;124mr\u001b[39m\u001b[38;5;124m\"\u001b[39m\u001b[38;5;124m(?P<i>[-+]?\u001b[39m\u001b[38;5;124m\\\u001b[39m\u001b[38;5;124ms*\u001b[39m\u001b[38;5;124m\\\u001b[39m\u001b[38;5;124md*\u001b[39m\u001b[38;5;124m\\\u001b[39m\u001b[38;5;124m.?\u001b[39m\u001b[38;5;124m\\\u001b[39m\u001b[38;5;124md*i)?\u001b[39m\u001b[38;5;124m\"\u001b[39m             \u001b[38;5;66;03m# i\u001b[39;00m\n\u001b[1;32m     13\u001b[0m     \u001b[38;5;124mr\u001b[39m\u001b[38;5;124m\"\u001b[39m\u001b[38;5;124m(?P<j>[-+]?\u001b[39m\u001b[38;5;124m\\\u001b[39m\u001b[38;5;124ms*\u001b[39m\u001b[38;5;124m\\\u001b[39m\u001b[38;5;124md*\u001b[39m\u001b[38;5;124m\\\u001b[39m\u001b[38;5;124m.?\u001b[39m\u001b[38;5;124m\\\u001b[39m\u001b[38;5;124md*j)?\u001b[39m\u001b[38;5;124m\"\u001b[39m             \u001b[38;5;66;03m# j\u001b[39;00m\n\u001b[1;32m     14\u001b[0m     \u001b[38;5;124mr\u001b[39m\u001b[38;5;124m\"\u001b[39m\u001b[38;5;124m(?P<k>[-+]?\u001b[39m\u001b[38;5;124m\\\u001b[39m\u001b[38;5;124ms*\u001b[39m\u001b[38;5;124m\\\u001b[39m\u001b[38;5;124md*\u001b[39m\u001b[38;5;124m\\\u001b[39m\u001b[38;5;124m.?\u001b[39m\u001b[38;5;124m\\\u001b[39m\u001b[38;5;124md*k)?\u001b[39m\u001b[38;5;124m\"\u001b[39m             \u001b[38;5;66;03m# k\u001b[39;00m\n\u001b[1;32m     15\u001b[0m )\n\u001b[1;32m     17\u001b[0m match \u001b[38;5;241m=\u001b[39m pattern\u001b[38;5;241m.\u001b[39msearch(q_string\u001b[38;5;241m.\u001b[39mreplace(\u001b[38;5;124m\"\u001b[39m\u001b[38;5;124m \u001b[39m\u001b[38;5;124m\"\u001b[39m, \u001b[38;5;124m\"\u001b[39m\u001b[38;5;124m\"\u001b[39m))\n\u001b[1;32m     19\u001b[0m \u001b[38;5;28;01mif\u001b[39;00m \u001b[38;5;129;01mnot\u001b[39;00m match:\n",
      "\u001b[0;31mAttributeError\u001b[0m: 'str' object has no attribute 'compile'"
     ]
    }
   ],
   "source": [
    "q4_string = \"5\"\n",
    "w4, x4, y4, z4 = parse_quaternion_string(q4_string)\n",
    "print(f\"'{q4_string}' parsed as: w={w4}, x={x4}, y={y4}, z={z4}\")"
   ]
  },
  {
   "cell_type": "raw",
   "id": "722a08aa-79d3-4aa0-9e10-bf5a7179b3ed",
   "metadata": {},
   "source": [
    "q3_string = \"j - k\"\n",
    "w3, x3, y3, z3 = parse_quaternion_string(q3_string)\n",
    "print(f\"'{q3_string}' parsed as: w={w3}, x={x3}, y={y3}, z={z3}\")"
   ]
  },
  {
   "cell_type": "code",
   "execution_count": null,
   "id": "75fdad0f",
   "metadata": {},
   "outputs": [],
   "source": []
  },
  {
   "cell_type": "raw",
   "id": "1f35717c-6ff2-46a9-bd49-aa892aee5c92",
   "metadata": {},
   "source": [
    "import re\n",
    "\n",
    "def parse_quaternion_string(q_string):\n",
    "    \"\"\"\n",
    "    Parses a quaternion string and returns its components (w, x, y, z).\n",
    "    Example formats: \"1+2i+3j+4k\", \"1-3k\", \"i+j-k\", \"1.5i+2.5j\"\n",
    "    \"\"\"\n",
    "    # Define a regex to capture optional real, i, j, and k coefficients.\n",
    "    # The groups are named 'real', 'i', 'j', and 'k'.\n",
    "    pattern = re.compile(\n",
    "        r\"(?P<real>[-+]?\\s*\\d*\\.?\\d+(?!i|j|k))?\"  # Real part (not followed by i, j, or k)\n",
    "        r\"(?P<i>[-+]?\\s*\\d*\\.?\\d*i)?\"            # i part\n",
    "        r\"(?P<j>[-+]?\\s*\\d*\\.?\\d*j)?\"            # j part\n",
    "        r\"(?P<k>[-+]?\\s*\\d*\\.?\\d*k)?\"            # k part\n",
    "    )\n",
    "    \n",
    "    match = pattern.search(q_string.replace(\" \", \"\"))\n",
    "\n",
    "    if not match:\n",
    "        raise ValueError(f\"Could not parse quaternion from string: {q_string}\")\n",
    "\n",
    "    components = match.groupdict()\n",
    "    w, x, y, z = 0.0, 0.0, 0.0, 0.0\n",
    "\n",
    "    # Extract the numerical values, handling missing coefficients (like 'i' alone)\n",
    "    # and signs.\n",
    "    if components.get('real'):\n",
    "        w = float(components['real'])\n",
    "    \n",
    "    if components.get('i'):\n",
    "        i_str = components['i'].strip('i')\n",
    "        x = float(i_str) if i_str not in ['+', '-'] else float(i_str + '1')\n",
    "    \n",
    "    if components.get('j'):\n",
    "        j_str = components['j'].strip('j')\n",
    "        y = float(j_str) if j_str not in ['+', '-'] else float(j_str + '1')\n",
    "    \n",
    "    if components.get('k'):\n",
    "        k_str = components['k'].strip('k')\n",
    "        z = float(k_str) if k_str not in ['+', '-'] else float(k_str + '1')\n",
    "\n",
    "    return (w, x, y, z)\n",
    "\n",
    "# Example usage\n",
    "q1_string = \"2.5 + 1.2i - 0.7j + 3.1k\"\n",
    "w1, x1, y1, z1 = parse_quaternion_string(q1_string)\n",
    "print(f\"'{q1_string}' parsed as: w={w1}, x={x1}, y={y1}, z={z1}\")\n",
    "\n",
    "q2_string = \"-3.0k + 1\"\n",
    "w2, x2, y2, z2 = parse_quaternion_string(q2_string)\n",
    "print(f\"'{q2_string}' parsed as: w={w2}, x={x2}, y={y2}, z={z2}\")\n",
    "\n",
    "q3_string = \"i - j\"\n",
    "w3, x3, y3, z3 = parse_quaternion_string(q3_string)\n",
    "print(f\"'{q3_string}' parsed as: w={w3}, x={x3}, y={y3}, z={z3}\")\n",
    "\n",
    "q4_string = \"5\"\n",
    "w4, x4, y4, z4 = parse_quaternion_string(q4_string)\n",
    "print(f\"'{q4_string}' parsed as: w={w4}, x={x4}, y={y4}, z={z4}\")"
   ]
  },
  {
   "cell_type": "code",
   "execution_count": null,
   "id": "6aeb77e1",
   "metadata": {},
   "outputs": [],
   "source": []
  },
  {
   "cell_type": "markdown",
   "id": "168d4a2f",
   "metadata": {},
   "source": [
    "See the Python entry by R. Kap at [\"code golf\"](https://codegolf.stackexchange.com/questions/76545/parse-a-quaternion?newreg=3dd347f4682340b89aa845b416c70a4a)"
   ]
  },
  {
   "cell_type": "code",
   "execution_count": 21,
   "id": "a21387e8",
   "metadata": {},
   "outputs": [],
   "source": [
    "from re import *\n",
    "\n",
    "def w(r):\n",
    "\n",
    "    # Substitute all minus (-) and plus (+) signs NOT followed by a number\n",
    "    # (if there are any) with a \"-1\"/\"+1\", respectively.\n",
    "    a=sub('[+](?![0-9])','+1',sub('[-](?![0-9])','-1',r))\n",
    "    \n",
    "    # Lambda function created for later use to sort the Quaternion.\n",
    "    # This function, when given as a key to the \"sorted\" function,\n",
    "    # arranges the input Quaternion in the order where the whole\n",
    "    # number comes first, and then the rest are placed in order of\n",
    "    # increasing letter value (i,j,k in this case) \n",
    "    q=lambda x:(not x.isdigit(),''.join(filter(str.isalpha,x)))\n",
    "    \n",
    "    # The following \"for\" loop replaces the letters NOT preceded by\n",
    "    # a number with a one followed by that letter\n",
    "    for z in findall('(?<![0-9])[a-z]',a):\n",
    "        a=a.replace(z,('+1{}'.format(z)))\n",
    "    \n",
    "    # The following first substitutes all pluses and minuses (+ and -)\n",
    "    # with a space, and then that new string is split at those spaces,\n",
    "    # and returned as a list. After that, the list is sorted according\n",
    "    # the the \"lambda\" function shown above. Then, the first item in\n",
    "    # that list, which is supposed to be a lone number, is checked to\n",
    "    # make sure that it indeed is a lone number. If it isn't, then \"+0, \"\n",
    "    # is appended to the Quaternion. \n",
    "    if not str(sorted(((sub('[.]','',sub('[+-]',' ',a))).split(' ')),key=q)[0]).isdigit():\n",
    "        a+='+0, '\n",
    "    \n",
    "    # The following \"for\" loop finds ALL the letters NOT in the list,\n",
    "    # by finding the symmetric difference between a set of all the\n",
    "    # letters found, and a set containing all the letters needed.\n",
    "    # For the letters not in the list, a '+0' is added the quaternion,\n",
    "    # followed by that letter, and then a comma and a space.\n",
    "    for i in list(set(findall('[a-z]',a))^{'i','j','k'}):\n",
    "        a+='+0{}, '.format(i)\n",
    "    \n",
    "    # Finally, in this last step, a \", \" is added IN BETWEEN unicode\n",
    "    # characters and pluses/minuses (+/-). Then, it splits at those spaces,\n",
    "    # and the commas separate different parts of the Quaternion from each\n",
    "    # other (otherwise, you would get something like `12i+3j+4k` from\n",
    "    # `2i+3j+4k+1`) in a returned list. Then, that list is sorted according\n",
    "    # to the lambda expression \"q\" (above), and then, finally, the NUMBERS\n",
    "    # (of any type, courtesy to Regex) are extracted from that joined list,\n",
    "    # and printed out in the correct order.\n",
    "    # print(findall('[-]?\\d+(?:\\.\\d+)?',''.join(sorted(sub('(?<=[A-Za-z0-9])(?=[+-])',', ',a).split(' '),key=q))))\n",
    "    result = findall('[-]?\\d+(?:\\.\\d+)?',''.join(sorted(sub('(?<=[A-Za-z0-9])(?=[+-])',', ',a).split(' '),key=q)))\n",
    "    return list(map(lambda x: float(x), result))"
   ]
  },
  {
   "cell_type": "code",
   "execution_count": 22,
   "id": "b6599552",
   "metadata": {},
   "outputs": [
    {
     "data": {
      "text/plain": [
       "[1.0, 2.0, 3.0, 4.0]"
      ]
     },
     "execution_count": 22,
     "metadata": {},
     "output_type": "execute_result"
    }
   ],
   "source": [
    "w(\"1+2i+3j+4k\")"
   ]
  },
  {
   "cell_type": "code",
   "execution_count": null,
   "id": "03d4c2fc-3c93-4139-98dc-c07ab41e2ee9",
   "metadata": {},
   "outputs": [],
   "source": []
  },
  {
   "cell_type": "markdown",
   "id": "7673b271",
   "metadata": {},
   "source": [
    "Also see, https://kieranwynn.github.io/pyquaternion/"
   ]
  },
  {
   "cell_type": "markdown",
   "id": "f8579c5f-8f5e-4608-8836-e3c7b09404b9",
   "metadata": {},
   "source": [
    "## New Version of Quaternion Parser"
   ]
  },
  {
   "cell_type": "code",
   "execution_count": null,
   "id": "9429f918",
   "metadata": {},
   "outputs": [],
   "source": [
    "import regex as re"
   ]
  },
  {
   "cell_type": "code",
   "execution_count": 119,
   "id": "4e1824c1",
   "metadata": {},
   "outputs": [],
   "source": [
    "def make_int_or_float(st):\n",
    "    try:\n",
    "        f_st = float(st)\n",
    "    except:\n",
    "        raise ValueError(f\"{st} is not a float nor an int\")\n",
    "    i_st = int(f_st)\n",
    "    if i_st == f_st:\n",
    "        return i_st\n",
    "    else:\n",
    "        return f_st"
   ]
  },
  {
   "cell_type": "code",
   "execution_count": 120,
   "id": "82931009",
   "metadata": {},
   "outputs": [],
   "source": [
    "def ijk(st):\n",
    "    if 'i' in st:\n",
    "        return 'i'\n",
    "    elif 'j' in st:\n",
    "        return 'j'\n",
    "    elif 'k' in st:\n",
    "        return 'k'\n",
    "    else:\n",
    "        return False"
   ]
  },
  {
   "cell_type": "code",
   "execution_count": 121,
   "id": "5e8356d7",
   "metadata": {},
   "outputs": [],
   "source": [
    "def coef(st):\n",
    "    unit = ijk(st)\n",
    "    if unit:\n",
    "        if re.fullmatch(r'[+-]?[ijk]', st):\n",
    "            if len(st) == 1:\n",
    "                return (unit, 1)\n",
    "                # qd[unit] = 1\n",
    "            elif st[0] == '-':\n",
    "                return (unit, -1)\n",
    "                # qd[unit] = -1\n",
    "            elif st[0] == '+':\n",
    "                return (unit, 1)\n",
    "                # qd[unit] = 1\n",
    "            else:\n",
    "                raise ValueError(f\"{st} was unexpected\")\n",
    "        else:\n",
    "            return (unit, make_int_or_float(st.replace(unit, '')))\n",
    "            # qd[unit] = make_int_or_float(st.replace(unit, ''))\n",
    "    else:\n",
    "        return ('real', make_int_or_float(st))\n",
    "        # qd['real'] = make_int_or_float(st)"
   ]
  },
  {
   "cell_type": "code",
   "execution_count": 136,
   "id": "d0db9cb5",
   "metadata": {},
   "outputs": [],
   "source": [
    "def reg(q):\n",
    "    qdict = {'real': 0, 'i': 0, 'j': 0, 'k':0}\n",
    "    q0 = q.strip().replace(' ', '') # Remove all spaces\n",
    "    q1 = q0.replace('+', ' +').replace('-', ' -') # Put single space in front of + & -\n",
    "    q2 = q1.replace('( ', '(') # Remove space after (\n",
    "    q3 = q2.replace('(', '').replace(')', '').strip()\n",
    "    q4 = q3.split()\n",
    "    return q4"
   ]
  },
  {
   "cell_type": "code",
   "execution_count": 141,
   "id": "10b42abd",
   "metadata": {},
   "outputs": [],
   "source": [
    "def coefreg(rg):\n",
    "    return dict(map(coef, rg))"
   ]
  },
  {
   "cell_type": "code",
   "execution_count": 142,
   "id": "ae217c73",
   "metadata": {},
   "outputs": [],
   "source": [
    "q0 = ' ( -1  -2i -3j +4k  )'"
   ]
  },
  {
   "cell_type": "code",
   "execution_count": 143,
   "id": "df422433-1dc0-4138-b085-e988887a4331",
   "metadata": {},
   "outputs": [
    {
     "name": "stdout",
     "output_type": "stream",
     "text": [
      "' ( -1  -2i -3j +4k  )' --> '{'real': -1, 'i': -2, 'j': -3, 'k': 4}'\n"
     ]
    }
   ],
   "source": [
    "print(f\"'{q0}' --> '{coefreg(reg(q0))}'\")"
   ]
  },
  {
   "cell_type": "code",
   "execution_count": 145,
   "id": "bdf5c8bf-7f1a-47ae-9743-297c9c0d08ed",
   "metadata": {},
   "outputs": [
    {
     "data": {
      "text/plain": [
       "{'i': 1, 'j': -1}"
      ]
     },
     "execution_count": 145,
     "metadata": {},
     "output_type": "execute_result"
    }
   ],
   "source": [
    "coefreg(reg( '  ( i - j ) '))"
   ]
  },
  {
   "cell_type": "code",
   "execution_count": 146,
   "id": "b87d199b-a0fe-464c-9f5d-c75d87f66a30",
   "metadata": {},
   "outputs": [
    {
     "name": "stdout",
     "output_type": "stream",
     "text": [
      "'1+2i+3j+4k' --> '{'real': 1, 'i': 2, 'j': 3, 'k': 4}'\n",
      "'-1+3i-3j+7k' --> '{'real': -1, 'i': 3, 'j': -3, 'k': 7}'\n",
      "'-1-4i-9j-2k' --> '{'real': -1, 'i': -4, 'j': -9, 'k': -2}'\n",
      "'17-16i-15j-14k' --> '{'real': 17, 'i': -16, 'j': -15, 'k': -14}'\n",
      "'7+2i' --> '{'real': 7, 'i': 2}'\n",
      "'2i-6k' --> '{'i': 2, 'k': -6}'\n",
      "'1-5j+2k' --> '{'real': 1, 'j': -5, 'k': 2}'\n",
      "'3+4i-9k' --> '{'real': 3, 'i': 4, 'k': -9}'\n",
      "'42i+j-k' --> '{'i': 42, 'j': 1, 'k': -1}'\n",
      "'6-2i+j-3k' --> '{'real': 6, 'i': -2, 'j': 1, 'k': -3}'\n",
      "'1+i+j+k' --> '{'real': 1, 'i': 1, 'j': 1, 'k': 1}'\n",
      "'-1-i-j-k' --> '{'real': -1, 'i': -1, 'j': -1, 'k': -1}'\n",
      "'16k-20j+2i-7' --> '{'k': 16, 'j': -20, 'i': 2, 'real': -7}'\n",
      "'i+4k-3j+2' --> '{'i': 1, 'k': 4, 'j': -3, 'real': 2}'\n",
      "'5k-2i+9+3j' --> '{'k': 5, 'i': -2, 'real': 9, 'j': 3}'\n",
      "'5k-2j+3' --> '{'k': 5, 'j': -2, 'real': 3}'\n",
      "'1.75-1.75i-1.75j-1.75k' --> '{'real': 1.75, 'i': -1.75, 'j': -1.75, 'k': -1.75}'\n",
      "'2.0j-3k+0.47i-13' --> '{'j': 2, 'k': -3, 'i': 0.47, 'real': -13}'\n",
      "'5.6-3i' --> '{'real': 5.6, 'i': -3}'\n",
      "'k-7.6i' --> '{'k': 1, 'i': -7.6}'\n",
      "'0' --> '{'real': 0}'\n",
      "'0j+0k' --> '{'j': 0, 'k': 0}'\n",
      "'-0j' --> '{'j': 0}'\n",
      "'1-0k' --> '{'real': 1, 'k': 0}'\n"
     ]
    }
   ],
   "source": [
    "for test in q_parser_tests:\n",
    "    print(f\"'{test[0]}' --> '{coefreg(reg(test[0]))}'\")"
   ]
  },
  {
   "cell_type": "code",
   "execution_count": null,
   "id": "22ebeac6",
   "metadata": {},
   "outputs": [],
   "source": []
  },
  {
   "cell_type": "code",
   "execution_count": null,
   "id": "c3264e98",
   "metadata": {},
   "outputs": [],
   "source": []
  }
 ],
 "metadata": {
  "kernelspec": {
   "display_name": "Python 3 (ipykernel)",
   "language": "python",
   "name": "python3"
  },
  "language_info": {
   "codemirror_mode": {
    "name": "ipython",
    "version": 3
   },
   "file_extension": ".py",
   "mimetype": "text/x-python",
   "name": "python",
   "nbconvert_exporter": "python",
   "pygments_lexer": "ipython3",
   "version": "3.11.5"
  }
 },
 "nbformat": 4,
 "nbformat_minor": 5
}
