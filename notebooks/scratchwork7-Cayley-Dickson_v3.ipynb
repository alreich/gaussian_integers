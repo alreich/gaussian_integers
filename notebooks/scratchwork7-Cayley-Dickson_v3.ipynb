{
 "cells": [
  {
   "cell_type": "markdown",
   "id": "11951404-4d7b-4cd4-aa6e-3bca6abee1ce",
   "metadata": {},
   "source": [
    "# Cayley-Dickson Construction Applied to Zi Definition"
   ]
  },
  {
   "cell_type": "markdown",
   "id": "985bac8c",
   "metadata": {},
   "source": [
    "*Version 3*"
   ]
  },
  {
   "cell_type": "markdown",
   "id": "2f09c45e-9ab5-461b-8de8-fd74f6a0e16e",
   "metadata": {},
   "source": [
    "My original implementation of Gaussian integers included two classes, ``Zi`` and ``Qi``, where, for example, ``Zi(2, -7)`` represents a Gaussian integer, and ``Qi(-2/3, 4/5)`` represents a Gaussian rational.\n",
    "\n",
    "I'd like to extend this code to include integer-valued quaternions and octonions. An elegant way to accomplish that goal would be to use the Cayley-Dickson construction, where complex numbers can be constructed from pairs of real numbers, quaternions can be constructed from pairs of those pairs, and octonions constructed from pairs of those pairs of pairs.\n",
    "\n",
    "For more specifics, see my write-up about the Cayley-Dickson construction [at this link](https://abstract-algebra.readthedocs.io/en/latest/55_cayley_dickson.html) or the [Wikipedia page on this topic](https://en.wikipedia.org/wiki/Cayley%E2%80%93Dickson_construction)."
   ]
  },
  {
   "cell_type": "code",
   "execution_count": 1,
   "id": "1ebdcab3",
   "metadata": {},
   "outputs": [],
   "source": [
    "from cayley_dickson_alg import Zi, is_power_of_two, flatten, make_int_or_float\n",
    "from random import randint"
   ]
  },
  {
   "cell_type": "code",
   "execution_count": 23,
   "id": "ddd933ad-e12b-44bb-ae39-92ce4007849b",
   "metadata": {},
   "outputs": [
    {
     "data": {
      "text/plain": [
       "Zi(0, 0)"
      ]
     },
     "execution_count": 23,
     "metadata": {},
     "output_type": "execute_result"
    }
   ],
   "source": [
    "Zi()"
   ]
  },
  {
   "cell_type": "code",
   "execution_count": 24,
   "id": "cf847feb-fad1-4da4-b857-71b861858678",
   "metadata": {},
   "outputs": [
    {
     "name": "stdout",
     "output_type": "stream",
     "text": [
      "0j\n"
     ]
    }
   ],
   "source": [
    "print(Zi())"
   ]
  },
  {
   "cell_type": "code",
   "execution_count": 25,
   "id": "e1163966",
   "metadata": {},
   "outputs": [
    {
     "data": {
      "text/plain": [
       "Zi(1, 0)"
      ]
     },
     "execution_count": 25,
     "metadata": {},
     "output_type": "execute_result"
    }
   ],
   "source": [
    "Zi(1)"
   ]
  },
  {
   "cell_type": "code",
   "execution_count": 26,
   "id": "bf3a6e3f-914c-4844-9450-5e1fbebbb3be",
   "metadata": {},
   "outputs": [
    {
     "name": "stdout",
     "output_type": "stream",
     "text": [
      "(1+0j)\n"
     ]
    }
   ],
   "source": [
    "print(Zi(1))"
   ]
  },
  {
   "cell_type": "code",
   "execution_count": 27,
   "id": "4136e233",
   "metadata": {},
   "outputs": [
    {
     "data": {
      "text/plain": [
       "Zi(1, 2)"
      ]
     },
     "execution_count": 27,
     "metadata": {},
     "output_type": "execute_result"
    }
   ],
   "source": [
    "Zi(1, 2)"
   ]
  },
  {
   "cell_type": "code",
   "execution_count": 28,
   "id": "383577e3",
   "metadata": {},
   "outputs": [
    {
     "data": {
      "text/plain": [
       "Zi(2, 2)"
      ]
     },
     "execution_count": 28,
     "metadata": {},
     "output_type": "execute_result"
    }
   ],
   "source": [
    "Zi(1.9, 2.1)"
   ]
  },
  {
   "cell_type": "code",
   "execution_count": 29,
   "id": "cb04a9a1",
   "metadata": {},
   "outputs": [
    {
     "data": {
      "text/plain": [
       "Zi(2, 2)"
      ]
     },
     "execution_count": 29,
     "metadata": {},
     "output_type": "execute_result"
    }
   ],
   "source": [
    "Zi((1.9+2.1j))"
   ]
  },
  {
   "cell_type": "code",
   "execution_count": 30,
   "id": "cde208ce-3df3-4028-8975-af4ff33d832d",
   "metadata": {},
   "outputs": [
    {
     "data": {
      "text/plain": [
       "Zi(0, -1)"
      ]
     },
     "execution_count": 30,
     "metadata": {},
     "output_type": "execute_result"
    }
   ],
   "source": [
    "Zi((-1j))"
   ]
  },
  {
   "cell_type": "code",
   "execution_count": 31,
   "id": "5be9e09d",
   "metadata": {},
   "outputs": [
    {
     "data": {
      "text/plain": [
       "Zi(1, 2)"
      ]
     },
     "execution_count": 31,
     "metadata": {},
     "output_type": "execute_result"
    }
   ],
   "source": [
    "Zi(Zi(1, 2))"
   ]
  },
  {
   "cell_type": "code",
   "execution_count": 32,
   "id": "7f8ba615",
   "metadata": {},
   "outputs": [
    {
     "name": "stdout",
     "output_type": "stream",
     "text": [
      "quat = Zi(Zi(0, 0), Zi(1, 0))\n",
      "quat_str = '(+1j)'\n",
      "Zi.quaternion(quat_str) = Zi(Zi(0, 0), Zi(1, 0))\n",
      "quat.to_array() = [[0, 0], [1, 0]]\n"
     ]
    }
   ],
   "source": [
    "quat = Zi(Zi(), Zi(1))\n",
    "\n",
    "print(f\"{quat = }\")\n",
    "quat_str = str(quat)\n",
    "print(f\"{quat_str = }\")\n",
    "# quat_from_str = Zi.quaternion(quat_str)\n",
    "print(f\"{Zi.quaternion(quat_str) = }\")\n",
    "print(f\"{quat.to_array() = }\")"
   ]
  },
  {
   "cell_type": "code",
   "execution_count": 33,
   "id": "3bd568be",
   "metadata": {},
   "outputs": [
    {
     "data": {
      "text/plain": [
       "Zi(Zi(3, 4), Zi(1, 2))"
      ]
     },
     "execution_count": 33,
     "metadata": {},
     "output_type": "execute_result"
    }
   ],
   "source": [
    "Zi((3+4j), (1+2j))"
   ]
  },
  {
   "cell_type": "code",
   "execution_count": 34,
   "id": "30307b26",
   "metadata": {},
   "outputs": [
    {
     "data": {
      "text/plain": [
       "Zi(Zi(Zi(0, 0), Zi(1, 0)), Zi(Zi(3, 4), Zi(1, 2)))"
      ]
     },
     "execution_count": 34,
     "metadata": {},
     "output_type": "execute_result"
    }
   ],
   "source": [
    "Zi(Zi(Zi(0), Zi(1)), Zi(Zi(3, 4), Zi(1, 2)))"
   ]
  },
  {
   "cell_type": "code",
   "execution_count": 35,
   "id": "5c030f52",
   "metadata": {},
   "outputs": [
    {
     "data": {
      "text/plain": [
       "Zi(Zi(Zi(0, 0), Zi(1, 0)), Zi(Zi(3, 4), Zi(1, 2)))"
      ]
     },
     "execution_count": 35,
     "metadata": {},
     "output_type": "execute_result"
    }
   ],
   "source": [
    "Zi(Zi(Zi(0), Zi(1)), Zi(Zi(3, 4), (1+2j)))"
   ]
  },
  {
   "cell_type": "markdown",
   "id": "7300fef0-36d6-4e06-874f-81aec47273dd",
   "metadata": {},
   "source": [
    "## Examples"
   ]
  },
  {
   "cell_type": "code",
   "execution_count": 36,
   "id": "3afe1173",
   "metadata": {},
   "outputs": [],
   "source": [
    "from random import seed\n",
    "\n",
    "seed(42)  # Generate the same random sequence each time (for testing)"
   ]
  },
  {
   "cell_type": "code",
   "execution_count": 3,
   "id": "e7457068-883a-4072-a36e-1e05855e9b31",
   "metadata": {},
   "outputs": [
    {
     "name": "stdout",
     "output_type": "stream",
     "text": [
      "zs = [Zi(10, 4), Zi(2, 9), Zi(7, 1), Zi(-1, 10)]\n",
      "z1 = Zi(10, 4) = (10+4j)\n",
      "z2 = Zi(2, 9) = (2+9j)\n",
      "z3 = Zi(7, 1) = (7+1j)\n",
      "z4 = Zi(-1, 10) = (-1+10j)\n"
     ]
    }
   ],
   "source": [
    "n = 4\n",
    "size = 10\n",
    "zs = [Zi.random(size) for i in range(n)]\n",
    "z1 = zs[0]\n",
    "z2 = zs[1]\n",
    "z3 = zs[2]\n",
    "z4 = zs[3]\n",
    "print(f\"{zs = }\")\n",
    "print(f\"{z1 = } = {z1}\")\n",
    "print(f\"{z2 = } = {z2}\")\n",
    "print(f\"{z3 = } = {z3}\")\n",
    "print(f\"{z4 = } = {z4}\")"
   ]
  },
  {
   "cell_type": "code",
   "execution_count": 38,
   "id": "9b2664b1",
   "metadata": {},
   "outputs": [
    {
     "name": "stdout",
     "output_type": "stream",
     "text": [
      "z1 = Zi(10, -7) = (10-7j)\n",
      "-z1 = Zi(-10, 7) = (-10+7j)\n",
      "z1.real = 10\n",
      "z1.imag = -7\n",
      "z1.conjugate() = Zi(10, 7) = (10+7j)\n",
      "z1.norm = 149\n",
      "z1.order() = 1\n",
      "z1.is_complex() = True\n"
     ]
    }
   ],
   "source": [
    "print(f\"{z1 = } = {z1}\")\n",
    "print(f\"{-z1 = } = {-z1}\")\n",
    "print(f\"{z1.real = }\")\n",
    "print(f\"{z1.imag = }\")\n",
    "print(f\"{z1.conjugate() = } = {z1.conjugate()}\")\n",
    "print(f\"{z1.norm = }\")\n",
    "print(f\"{z1.order() = }\")\n",
    "print(f\"{z1.is_complex() = }\")"
   ]
  },
  {
   "cell_type": "raw",
   "id": "5ac8ce8c",
   "metadata": {},
   "source": [
    "print(f\"{z1 / 2 = }\")\n",
    "print(f\"{2 / z1 = }\")\n",
    "print(f\"{(z1 / 2) * (2 / z1) = }\")\n",
    "print(f\"{z1.inverse() = }\")\n",
    "print(f\"{z1 * z1.inverse() = }\")"
   ]
  },
  {
   "cell_type": "code",
   "execution_count": 39,
   "id": "ffff863d-a1c8-4f23-9874-f5a66a8346c9",
   "metadata": {},
   "outputs": [
    {
     "name": "stdout",
     "output_type": "stream",
     "text": [
      "z1 = Zi(10, -7)\n",
      "z2 = Zi(-10, -2)\n",
      "z1 + z2 = Zi(0, -9)\n",
      "z1 - z2 = Zi(20, -5)\n"
     ]
    }
   ],
   "source": [
    "print(f\"{z1 = }\")\n",
    "print(f\"{z2 = }\")\n",
    "print(f\"{z1 + z2 = }\")\n",
    "print(f\"{z1 - z2 = }\")"
   ]
  },
  {
   "cell_type": "markdown",
   "id": "37cf4b7b-b29a-4681-a1a3-4542847a2b14",
   "metadata": {},
   "source": [
    "For comparisons, create complex numbers corresponding to z1, z2, z3, and z4"
   ]
  },
  {
   "cell_type": "raw",
   "id": "ee1607a1",
   "metadata": {},
   "source": [
    "c1 = z1.make_complex\n",
    "c2 = z2.make_complex\n",
    "c3 = z3.make_complex\n",
    "c4 = z4.make_complex"
   ]
  },
  {
   "cell_type": "code",
   "execution_count": 40,
   "id": "e2669a2f-a09e-4c2f-b3c9-e4277d446136",
   "metadata": {},
   "outputs": [
    {
     "name": "stdout",
     "output_type": "stream",
     "text": [
      "z1 = Zi(10, -7) --> c1 = (10-7j)\n",
      "z2 = Zi(-10, -2) --> c2 = (-10-2j)\n",
      "z3 = Zi(-3, -3) --> c3 = (-3-3j)\n",
      "z4 = Zi(-6, -7) --> c4 = (-6-7j)\n"
     ]
    }
   ],
   "source": [
    "c1 = complex(z1)\n",
    "c2 = complex(z2)\n",
    "c3 = complex(z3)\n",
    "c4 = complex(z4)\n",
    "\n",
    "print(f\"{z1 = } --> {c1 = }\")\n",
    "print(f\"{z2 = } --> {c2 = }\")\n",
    "print(f\"{z3 = } --> {c3 = }\")\n",
    "print(f\"{z4 = } --> {c4 = }\")"
   ]
  },
  {
   "cell_type": "code",
   "execution_count": 41,
   "id": "74241d55-83f4-4b79-bfce-d07e4cbb45b9",
   "metadata": {},
   "outputs": [
    {
     "name": "stdout",
     "output_type": "stream",
     "text": [
      "z1 * z2 = Zi(-114, 50)\n",
      "c1 * c2 = (-114+50j)\n",
      "\n",
      "z1 * 2 = Zi(20, -14)\n",
      "2 * z1 = Zi(20, -14)\n"
     ]
    }
   ],
   "source": [
    "print(f\"{z1 * z2 = }\")\n",
    "print(f\"{c1 * c2 = }\\n\")\n",
    "\n",
    "print(f\"{z1 * 2 = }\")\n",
    "print(f\"{2 * z1 = }\")"
   ]
  },
  {
   "cell_type": "code",
   "execution_count": 4,
   "id": "ac0fefae-4c8a-44ea-bc2e-18de5f25dd07",
   "metadata": {},
   "outputs": [
    {
     "ename": "NameError",
     "evalue": "name 'c1' is not defined",
     "output_type": "error",
     "traceback": [
      "\u001b[0;31m---------------------------------------------------------------------------\u001b[0m",
      "\u001b[0;31mNameError\u001b[0m                                 Traceback (most recent call last)",
      "Cell \u001b[0;32mIn[4], line 4\u001b[0m\n\u001b[1;32m      1\u001b[0m q1 \u001b[38;5;241m=\u001b[39m Zi(z1, z2)\n\u001b[1;32m      2\u001b[0m q2 \u001b[38;5;241m=\u001b[39m Zi(z3, z4)\n\u001b[0;32m----> 4\u001b[0m d1 \u001b[38;5;241m=\u001b[39m Zi(c1, c2)\n\u001b[1;32m      5\u001b[0m d2 \u001b[38;5;241m=\u001b[39m Zi(c3, c4)\n\u001b[1;32m      7\u001b[0m \u001b[38;5;28mprint\u001b[39m(\u001b[38;5;124mf\u001b[39m\u001b[38;5;124m\"\u001b[39m\u001b[38;5;132;01m{\u001b[39;00mq1\u001b[38;5;241m.\u001b[39morder()\u001b[38;5;250m \u001b[39m\u001b[38;5;132;01m= }\u001b[39;00m\u001b[38;5;124m\"\u001b[39m)\n",
      "\u001b[0;31mNameError\u001b[0m: name 'c1' is not defined"
     ]
    }
   ],
   "source": [
    "q1 = Zi(z1, z2)\n",
    "q2 = Zi(z3, z4)\n",
    "\n",
    "d1 = Zi(c1, c2)\n",
    "d2 = Zi(c3, c4)\n",
    "\n",
    "print(f\"{q1.order() = }\")\n",
    "print(f\"{q1.is_complex() = }\")\n",
    "print(f\"{q1.is_quaternion() = }\")\n",
    "print(f\"{q1 = }\")\n",
    "print(f\"{q2 = }\")\n",
    "print(f\"{q1.norm = }\\n\")\n",
    "\n",
    "print(f\"{d1 = }\")\n",
    "print(f\"{d2 = }\\n\")\n",
    "\n",
    "print(f\"{q1 + q2 = }\")\n",
    "print(f\"{q1 * 2 = }\")\n",
    "print(f\"{2 * q1 = }\")\n",
    "print(f\"{q1 * q2 = }\\n\")\n",
    "\n",
    "print(f\"{d1 + d2 = }\")\n",
    "print(f\"{d1 * d2 = }\")"
   ]
  },
  {
   "cell_type": "code",
   "execution_count": 5,
   "id": "44fd1089-37e2-4617-af60-da9912bdf660",
   "metadata": {},
   "outputs": [
    {
     "name": "stdout",
     "output_type": "stream",
     "text": [
      "o1 = Zi(Zi(Zi(10, 4), Zi(2, 9)), Zi(Zi(7, 1), Zi(-1, 10)))\n",
      "o1 = ((10+4i+2j+9k), (7+1i-1j+10k))\n",
      "o1.order() = 3\n",
      "\n",
      "Mult: ((10+4i+2j+9k), (7+1i-1j+10k)) x ((10-4i-2j-9k), (-7-1i+1j-10k))\n",
      "((10+4i+2j+9k), (7+1i-1j+10k))\n",
      "((10-4i-2j-9k), (-7-1i+1j-10k))\n",
      "\n",
      "Mult: (10+4i+2j+9k) x (10-4i-2j-9k)\n",
      "((10+4j), (2+9j))\n",
      "((10-4j), (-2-9j))\n",
      "\n",
      "Mult: (10+4j) x (10-4j)\n",
      "(10, 4)\n",
      "(10, -4)\n",
      "\n",
      "Mult: (-2-9j) x (2-9j)\n",
      "(-2, -9)\n",
      "(2, -9)\n",
      "\n",
      "Mult: (10-4j) x (-2-9j)\n",
      "(10, -4)\n",
      "(-2, -9)\n",
      "\n",
      "Mult: (10-4j) x (2+9j)\n",
      "(10, -4)\n",
      "(2, 9)\n",
      "\n",
      "Mult: (-7-1i+1j-10k) x (7-1i+1j-10k)\n",
      "((-7-1j), (1-10j))\n",
      "((7-1j), (1-10j))\n",
      "\n",
      "Mult: (-7-1j) x (7-1j)\n",
      "(-7, -1)\n",
      "(7, -1)\n",
      "\n",
      "Mult: (1-10j) x (1+10j)\n",
      "(1, -10)\n",
      "(1, 10)\n",
      "\n",
      "Mult: (-7+1j) x (1-10j)\n",
      "(-7, 1)\n",
      "(1, -10)\n",
      "\n",
      "Mult: (7-1j) x (1-10j)\n",
      "(7, -1)\n",
      "(1, -10)\n",
      "\n",
      "Mult: (10-4i-2j-9k) x (-7-1i+1j-10k)\n",
      "((10-4j), (-2-9j))\n",
      "((-7-1j), (1-10j))\n",
      "\n",
      "Mult: (10-4j) x (-7-1j)\n",
      "(10, -4)\n",
      "(-7, -1)\n",
      "\n",
      "Mult: (1-10j) x (-2+9j)\n",
      "(1, -10)\n",
      "(-2, 9)\n",
      "\n",
      "Mult: (10+4j) x (1-10j)\n",
      "(10, 4)\n",
      "(1, -10)\n",
      "\n",
      "Mult: (-7-1j) x (-2-9j)\n",
      "(-7, -1)\n",
      "(-2, -9)\n",
      "\n",
      "Mult: (10-4i-2j-9k) x (7+1i-1j+10k)\n",
      "((10-4j), (-2-9j))\n",
      "((7+1j), (-1+10j))\n",
      "\n",
      "Mult: (10-4j) x (7+1j)\n",
      "(10, -4)\n",
      "(7, 1)\n",
      "\n",
      "Mult: (-1+10j) x (-2+9j)\n",
      "(-1, 10)\n",
      "(-2, 9)\n",
      "\n",
      "Mult: (10+4j) x (-1+10j)\n",
      "(10, 4)\n",
      "(-1, 10)\n",
      "\n",
      "Mult: (7+1j) x (-2-9j)\n",
      "(7, 1)\n",
      "(-2, -9)\n",
      "o1.norm = 352\n",
      "\n",
      "o1.is_quaternion() = False\n",
      "o1.is_octonion() = True\n"
     ]
    }
   ],
   "source": [
    "o1 = Zi(q1, q2)\n",
    "print(f\"{o1 = }\")\n",
    "print(f\"o1 = {o1}\")\n",
    "print(f\"{o1.order() = }\")\n",
    "print(f\"{o1.norm = }\\n\")\n",
    "print(f\"{o1.is_quaternion() = }\")\n",
    "print(f\"{o1.is_octonion() = }\")"
   ]
  },
  {
   "cell_type": "code",
   "execution_count": 44,
   "id": "1385853f",
   "metadata": {},
   "outputs": [],
   "source": [
    "q1arr = q1.to_array()\n",
    "o1arr = o1.to_array()"
   ]
  },
  {
   "cell_type": "code",
   "execution_count": 45,
   "id": "e83d1f20",
   "metadata": {},
   "outputs": [
    {
     "data": {
      "text/plain": [
       "[[10, -7], [-10, -2]]"
      ]
     },
     "execution_count": 45,
     "metadata": {},
     "output_type": "execute_result"
    }
   ],
   "source": [
    "q1arr"
   ]
  },
  {
   "cell_type": "code",
   "execution_count": 46,
   "id": "88c58d23",
   "metadata": {},
   "outputs": [
    {
     "data": {
      "text/plain": [
       "[[[10, -7], [-10, -2]], [[-3, -3], [-6, -7]]]"
      ]
     },
     "execution_count": 46,
     "metadata": {},
     "output_type": "execute_result"
    }
   ],
   "source": [
    "o1arr"
   ]
  },
  {
   "cell_type": "code",
   "execution_count": 47,
   "id": "6fd44109",
   "metadata": {},
   "outputs": [
    {
     "name": "stdout",
     "output_type": "stream",
     "text": [
      "q1 = Zi(Zi(10, -7), Zi(-10, -2))\n",
      "q1arr = q1.to_array() = [[10, -7], [-10, -2]]\n",
      "Zi.from_array(q1arr) = Zi(Zi(10, -7), Zi(-10, -2))\n",
      "\n",
      "o1 = Zi(Zi(Zi(10, -7), Zi(-10, -2)), Zi(Zi(-3, -3), Zi(-6, -7)))\n",
      "o1arr = o1.to_array() = [[[10, -7], [-10, -2]], [[-3, -3], [-6, -7]]]\n",
      "Zi.from_array(o1arr) = Zi(Zi(Zi(10, -7), Zi(-10, -2)), Zi(Zi(-3, -3), Zi(-6, -7)))\n"
     ]
    }
   ],
   "source": [
    "q1x = Zi.from_array(q1arr)\n",
    "o1x = Zi.from_array(o1arr)\n",
    "\n",
    "print(f\"{q1 = }\")\n",
    "print(f\"q1arr = {q1.to_array() = }\")\n",
    "print(f\"{Zi.from_array(q1arr) = }\\n\")\n",
    "\n",
    "print(f\"{o1 = }\")\n",
    "print(f\"o1arr = {o1.to_array() = }\")\n",
    "print(f\"{Zi.from_array(o1arr) = }\")"
   ]
  },
  {
   "cell_type": "code",
   "execution_count": 48,
   "id": "43091c34-855f-47f2-861e-2deb044c02a5",
   "metadata": {},
   "outputs": [
    {
     "name": "stdout",
     "output_type": "stream",
     "text": [
      "(7-8i+8j+3k)\n",
      "(-9-10i-8j-4k)\n"
     ]
    }
   ],
   "source": [
    "qx = Zi.random_quaternion()\n",
    "qy = Zi.random_quaternion()\n",
    "print(qx)\n",
    "print(qy)"
   ]
  },
  {
   "cell_type": "code",
   "execution_count": 49,
   "id": "858f6a0e",
   "metadata": {},
   "outputs": [
    {
     "data": {
      "text/plain": [
       "True"
      ]
     },
     "execution_count": 49,
     "metadata": {},
     "output_type": "execute_result"
    }
   ],
   "source": [
    "(qx * qy).norm == qx.norm * qy.norm"
   ]
  },
  {
   "cell_type": "code",
   "execution_count": 50,
   "id": "5202f9de",
   "metadata": {},
   "outputs": [
    {
     "data": {
      "text/plain": [
       "Zi(0, 0)"
      ]
     },
     "execution_count": 50,
     "metadata": {},
     "output_type": "execute_result"
    }
   ],
   "source": [
    "Zi.zero()"
   ]
  },
  {
   "cell_type": "code",
   "execution_count": 51,
   "id": "1f4cff53",
   "metadata": {},
   "outputs": [
    {
     "data": {
      "text/plain": [
       "Zi(0, 0)"
      ]
     },
     "execution_count": 51,
     "metadata": {},
     "output_type": "execute_result"
    }
   ],
   "source": [
    "Zi.zero(1)"
   ]
  },
  {
   "cell_type": "code",
   "execution_count": 52,
   "id": "ebf01306",
   "metadata": {},
   "outputs": [
    {
     "data": {
      "text/plain": [
       "Zi(Zi(0, 0), Zi(0, 0))"
      ]
     },
     "execution_count": 52,
     "metadata": {},
     "output_type": "execute_result"
    }
   ],
   "source": [
    "Zi.zero(2)"
   ]
  },
  {
   "cell_type": "code",
   "execution_count": 53,
   "id": "31cb0461",
   "metadata": {},
   "outputs": [
    {
     "data": {
      "text/plain": [
       "Zi(1, 0)"
      ]
     },
     "execution_count": 53,
     "metadata": {},
     "output_type": "execute_result"
    }
   ],
   "source": [
    "Zi.one()"
   ]
  },
  {
   "cell_type": "code",
   "execution_count": 54,
   "id": "8b631974",
   "metadata": {},
   "outputs": [
    {
     "data": {
      "text/plain": [
       "Zi(1, 0)"
      ]
     },
     "execution_count": 54,
     "metadata": {},
     "output_type": "execute_result"
    }
   ],
   "source": [
    "Zi.one(1)"
   ]
  },
  {
   "cell_type": "code",
   "execution_count": 55,
   "id": "4a42e07e",
   "metadata": {},
   "outputs": [
    {
     "data": {
      "text/plain": [
       "Zi(Zi(1, 0), Zi(0, 0))"
      ]
     },
     "execution_count": 55,
     "metadata": {},
     "output_type": "execute_result"
    }
   ],
   "source": [
    "Zi.one(2)"
   ]
  },
  {
   "cell_type": "code",
   "execution_count": 56,
   "id": "b6bdea99",
   "metadata": {},
   "outputs": [
    {
     "data": {
      "text/plain": [
       "Zi(-3, 6)"
      ]
     },
     "execution_count": 56,
     "metadata": {},
     "output_type": "execute_result"
    }
   ],
   "source": [
    "Zi.random()"
   ]
  },
  {
   "cell_type": "code",
   "execution_count": 57,
   "id": "46f1836a",
   "metadata": {},
   "outputs": [
    {
     "data": {
      "text/plain": [
       "Zi(9, -10)"
      ]
     },
     "execution_count": 57,
     "metadata": {},
     "output_type": "execute_result"
    }
   ],
   "source": [
    "Zi.random(order=1)"
   ]
  },
  {
   "cell_type": "code",
   "execution_count": 58,
   "id": "85f6ca32",
   "metadata": {},
   "outputs": [
    {
     "data": {
      "text/plain": [
       "Zi(Zi(7, -4), Zi(10, 7))"
      ]
     },
     "execution_count": 58,
     "metadata": {},
     "output_type": "execute_result"
    }
   ],
   "source": [
    "Zi.random(order=2)"
   ]
  },
  {
   "cell_type": "code",
   "execution_count": 8,
   "id": "b5d0ca3f",
   "metadata": {},
   "outputs": [],
   "source": [
    "o2 = Zi.random(order=3)\n",
    "o3 = Zi.random(order=3)"
   ]
  },
  {
   "cell_type": "code",
   "execution_count": 9,
   "id": "7081c052",
   "metadata": {},
   "outputs": [
    {
     "name": "stdout",
     "output_type": "stream",
     "text": [
      "((10+4i+2j+9k), (7+1i-1j+10k))\n",
      "((2-2i+8j-5k), (-6-9i-8j-3k))\n",
      "((8-6i-1j+10k), (6+6i+2j-10k))\n"
     ]
    }
   ],
   "source": [
    "print(o1)\n",
    "print(o2)\n",
    "print(o3)"
   ]
  },
  {
   "cell_type": "code",
   "execution_count": 10,
   "id": "476af534",
   "metadata": {},
   "outputs": [
    {
     "name": "stdout",
     "output_type": "stream",
     "text": [
      "((12+2i+10j+4k), (1-8i-9j+7k))\n"
     ]
    }
   ],
   "source": [
    "print(o1 + o2)"
   ]
  },
  {
   "cell_type": "code",
   "execution_count": 11,
   "id": "9ceafb0c",
   "metadata": {},
   "outputs": [
    {
     "data": {
      "text/plain": [
       "Zi(Zi(Zi(8, 6), Zi(-6, 14)), Zi(Zi(13, 10), Zi(7, 13)))"
      ]
     },
     "execution_count": 11,
     "metadata": {},
     "output_type": "execute_result"
    }
   ],
   "source": [
    "o1 - o2"
   ]
  },
  {
   "cell_type": "code",
   "execution_count": 12,
   "id": "f7d8077d",
   "metadata": {},
   "outputs": [
    {
     "name": "stdout",
     "output_type": "stream",
     "text": [
      "\n",
      "Mult: ((10+4i+2j+9k), (7+1i-1j+10k)) x ((2-2i+8j-5k), (-6-9i-8j-3k))\n",
      "((10+4i+2j+9k), (7+1i-1j+10k))\n",
      "((2-2i+8j-5k), (-6-9i-8j-3k))\n",
      "\n",
      "Mult: (10+4i+2j+9k) x (2-2i+8j-5k)\n",
      "((10+4j), (2+9j))\n",
      "((2-2j), (8-5j))\n",
      "\n",
      "Mult: (10+4j) x (2-2j)\n",
      "(10, 4)\n",
      "(2, -2)\n",
      "\n",
      "Mult: (8-5j) x (2-9j)\n",
      "(8, -5)\n",
      "(2, -9)\n",
      "\n",
      "Mult: (10-4j) x (8-5j)\n",
      "(10, -4)\n",
      "(8, -5)\n",
      "\n",
      "Mult: (2-2j) x (2+9j)\n",
      "(2, -2)\n",
      "(2, 9)\n",
      "\n",
      "Mult: (-6-9i-8j-3k) x (7-1i+1j-10k)\n",
      "((-6-9j), (-8-3j))\n",
      "((7-1j), (1-10j))\n",
      "\n",
      "Mult: (-6-9j) x (7-1j)\n",
      "(-6, -9)\n",
      "(7, -1)\n",
      "\n",
      "Mult: (1-10j) x (-8+3j)\n",
      "(1, -10)\n",
      "(-8, 3)\n",
      "\n",
      "Mult: (-6+9j) x (1-10j)\n",
      "(-6, 9)\n",
      "(1, -10)\n",
      "\n",
      "Mult: (7-1j) x (-8-3j)\n",
      "(7, -1)\n",
      "(-8, -3)\n",
      "\n",
      "Mult: (10-4i-2j-9k) x (-6-9i-8j-3k)\n",
      "((10-4j), (-2-9j))\n",
      "((-6-9j), (-8-3j))\n",
      "\n",
      "Mult: (10-4j) x (-6-9j)\n",
      "(10, -4)\n",
      "(-6, -9)\n",
      "\n",
      "Mult: (-8-3j) x (-2+9j)\n",
      "(-8, -3)\n",
      "(-2, 9)\n",
      "\n",
      "Mult: (10+4j) x (-8-3j)\n",
      "(10, 4)\n",
      "(-8, -3)\n",
      "\n",
      "Mult: (-6-9j) x (-2-9j)\n",
      "(-6, -9)\n",
      "(-2, -9)\n",
      "\n",
      "Mult: (2-2i+8j-5k) x (7+1i-1j+10k)\n",
      "((2-2j), (8-5j))\n",
      "((7+1j), (-1+10j))\n",
      "\n",
      "Mult: (2-2j) x (7+1j)\n",
      "(2, -2)\n",
      "(7, 1)\n",
      "\n",
      "Mult: (-1+10j) x (8+5j)\n",
      "(-1, 10)\n",
      "(8, 5)\n",
      "\n",
      "Mult: (2+2j) x (-1+10j)\n",
      "(2, 2)\n",
      "(-1, 10)\n",
      "\n",
      "Mult: (7+1j) x (8-5j)\n",
      "(7, 1)\n",
      "(8, -5)\n"
     ]
    },
    {
     "data": {
      "text/plain": [
       "Zi(Zi(Zi(130, 210), Zi(57, -124)), Zi(Zi(-65, -87), Zi(-98, 1)))"
      ]
     },
     "execution_count": 12,
     "metadata": {},
     "output_type": "execute_result"
    }
   ],
   "source": [
    "o1 * o2"
   ]
  },
  {
   "cell_type": "code",
   "execution_count": 13,
   "id": "fb0b286c",
   "metadata": {},
   "outputs": [
    {
     "data": {
      "text/plain": [
       "Zi(Zi(Zi(12, 4), Zi(2, 9)), Zi(Zi(7, 1), Zi(-1, 10)))"
      ]
     },
     "execution_count": 13,
     "metadata": {},
     "output_type": "execute_result"
    }
   ],
   "source": [
    "o1 + 2"
   ]
  },
  {
   "cell_type": "code",
   "execution_count": 14,
   "id": "4fe4c26b",
   "metadata": {},
   "outputs": [
    {
     "data": {
      "text/plain": [
       "Zi(Zi(Zi(12, 4), Zi(2, 9)), Zi(Zi(7, 1), Zi(-1, 10)))"
      ]
     },
     "execution_count": 14,
     "metadata": {},
     "output_type": "execute_result"
    }
   ],
   "source": [
    "2 + o1"
   ]
  },
  {
   "cell_type": "code",
   "execution_count": 15,
   "id": "0eb85e45",
   "metadata": {},
   "outputs": [
    {
     "data": {
      "text/plain": [
       "Zi(Zi(Zi(-8, -4), Zi(-2, -9)), Zi(Zi(-7, -1), Zi(1, -10)))"
      ]
     },
     "execution_count": 15,
     "metadata": {},
     "output_type": "execute_result"
    }
   ],
   "source": [
    "2 - o1"
   ]
  },
  {
   "cell_type": "code",
   "execution_count": 16,
   "id": "a5143302",
   "metadata": {},
   "outputs": [
    {
     "data": {
      "text/plain": [
       "[[[10, 4], [2, 9]], [[7, 1], [-1, 10]]]"
      ]
     },
     "execution_count": 16,
     "metadata": {},
     "output_type": "execute_result"
    }
   ],
   "source": [
    "o1.to_array()"
   ]
  },
  {
   "cell_type": "code",
   "execution_count": 17,
   "id": "767db290",
   "metadata": {},
   "outputs": [
    {
     "data": {
      "text/plain": [
       "True"
      ]
     },
     "execution_count": 17,
     "metadata": {},
     "output_type": "execute_result"
    }
   ],
   "source": [
    "Zi.from_array(o1.to_array()) == o1"
   ]
  },
  {
   "cell_type": "code",
   "execution_count": 18,
   "id": "ea8f3fb6-924b-47dd-add0-0c03b1e03b7d",
   "metadata": {},
   "outputs": [
    {
     "name": "stdout",
     "output_type": "stream",
     "text": [
      "\n",
      "Mult: ((10+4i+2j+9k), (7+1i-1j+10k)) x ((2-2i+8j-5k), (-6-9i-8j-3k))\n",
      "((10+4i+2j+9k), (7+1i-1j+10k))\n",
      "((2-2i+8j-5k), (-6-9i-8j-3k))\n",
      "\n",
      "Mult: (10+4i+2j+9k) x (2-2i+8j-5k)\n",
      "((10+4j), (2+9j))\n",
      "((2-2j), (8-5j))\n",
      "\n",
      "Mult: (10+4j) x (2-2j)\n",
      "(10, 4)\n",
      "(2, -2)\n",
      "\n",
      "Mult: (8-5j) x (2-9j)\n",
      "(8, -5)\n",
      "(2, -9)\n",
      "\n",
      "Mult: (10-4j) x (8-5j)\n",
      "(10, -4)\n",
      "(8, -5)\n",
      "\n",
      "Mult: (2-2j) x (2+9j)\n",
      "(2, -2)\n",
      "(2, 9)\n",
      "\n",
      "Mult: (-6-9i-8j-3k) x (7-1i+1j-10k)\n",
      "((-6-9j), (-8-3j))\n",
      "((7-1j), (1-10j))\n",
      "\n",
      "Mult: (-6-9j) x (7-1j)\n",
      "(-6, -9)\n",
      "(7, -1)\n",
      "\n",
      "Mult: (1-10j) x (-8+3j)\n",
      "(1, -10)\n",
      "(-8, 3)\n",
      "\n",
      "Mult: (-6+9j) x (1-10j)\n",
      "(-6, 9)\n",
      "(1, -10)\n",
      "\n",
      "Mult: (7-1j) x (-8-3j)\n",
      "(7, -1)\n",
      "(-8, -3)\n",
      "\n",
      "Mult: (10-4i-2j-9k) x (-6-9i-8j-3k)\n",
      "((10-4j), (-2-9j))\n",
      "((-6-9j), (-8-3j))\n",
      "\n",
      "Mult: (10-4j) x (-6-9j)\n",
      "(10, -4)\n",
      "(-6, -9)\n",
      "\n",
      "Mult: (-8-3j) x (-2+9j)\n",
      "(-8, -3)\n",
      "(-2, 9)\n",
      "\n",
      "Mult: (10+4j) x (-8-3j)\n",
      "(10, 4)\n",
      "(-8, -3)\n",
      "\n",
      "Mult: (-6-9j) x (-2-9j)\n",
      "(-6, -9)\n",
      "(-2, -9)\n",
      "\n",
      "Mult: (2-2i+8j-5k) x (7+1i-1j+10k)\n",
      "((2-2j), (8-5j))\n",
      "((7+1j), (-1+10j))\n",
      "\n",
      "Mult: (2-2j) x (7+1j)\n",
      "(2, -2)\n",
      "(7, 1)\n",
      "\n",
      "Mult: (-1+10j) x (8+5j)\n",
      "(-1, 10)\n",
      "(8, 5)\n",
      "\n",
      "Mult: (2+2j) x (-1+10j)\n",
      "(2, 2)\n",
      "(-1, 10)\n",
      "\n",
      "Mult: (7+1j) x (8-5j)\n",
      "(7, 1)\n",
      "(8, -5)\n"
     ]
    },
    {
     "data": {
      "text/plain": [
       "Zi(Zi(Zi(130, 210), Zi(57, -124)), Zi(Zi(-65, -87), Zi(-98, 1)))"
      ]
     },
     "execution_count": 18,
     "metadata": {},
     "output_type": "execute_result"
    }
   ],
   "source": [
    "o1 * o2"
   ]
  },
  {
   "cell_type": "code",
   "execution_count": 19,
   "id": "ac67ac12-1996-4db3-9d75-5f06140c7c44",
   "metadata": {},
   "outputs": [
    {
     "name": "stdout",
     "output_type": "stream",
     "text": [
      "\n",
      "Mult: (10+4i+2j+9k) x (7+1i-1j+10k)\n",
      "((10+4j), (2+9j))\n",
      "((7+1j), (-1+10j))\n",
      "\n",
      "Mult: (10+4j) x (7+1j)\n",
      "(10, 4)\n",
      "(7, 1)\n",
      "\n",
      "Mult: (-1+10j) x (2-9j)\n",
      "(-1, 10)\n",
      "(2, -9)\n",
      "\n",
      "Mult: (10-4j) x (-1+10j)\n",
      "(10, -4)\n",
      "(-1, 10)\n",
      "\n",
      "Mult: (7+1j) x (2+9j)\n",
      "(7, 1)\n",
      "(2, 9)\n"
     ]
    },
    {
     "data": {
      "text/plain": [
       "Zi(Zi(-22, 9), Zi(35, 169))"
      ]
     },
     "execution_count": 19,
     "metadata": {},
     "output_type": "execute_result"
    }
   ],
   "source": [
    "q1 * q2"
   ]
  },
  {
   "cell_type": "code",
   "execution_count": 20,
   "id": "878257a1-2afa-458b-b775-2f1622f5a95c",
   "metadata": {},
   "outputs": [
    {
     "name": "stdout",
     "output_type": "stream",
     "text": [
      "\n",
      "Mult: (10+4i+2j+9k) x ((10+4i+2j+9k), (7+1i-1j+10k))\n",
      "((10+4j), (2+9j))\n",
      "((10+4i+2j+9k), (7+1i-1j+10k))\n",
      "\n",
      "Mult: (10+4j) x (10+4i+2j+9k)\n",
      "(10, 4)\n",
      "((10+4j), (2+9j))\n"
     ]
    },
    {
     "ename": "TypeError",
     "evalue": "unsupported operand type(s) for *: 'int' and 'Zi'",
     "output_type": "error",
     "traceback": [
      "\u001b[0;31m---------------------------------------------------------------------------\u001b[0m",
      "\u001b[0;31mTypeError\u001b[0m                                 Traceback (most recent call last)",
      "Cell \u001b[0;32mIn[20], line 1\u001b[0m\n\u001b[0;32m----> 1\u001b[0m q1 \u001b[38;5;241m*\u001b[39m o1\n",
      "File \u001b[0;32m~/Documents/Python/github/myrepos/gaussian_integers/src/cayley_dickson_alg.py:175\u001b[0m, in \u001b[0;36mZi.__mul__\u001b[0;34m(self, other)\u001b[0m\n\u001b[1;32m    173\u001b[0m \u001b[38;5;28mprint\u001b[39m(\u001b[38;5;124mf\u001b[39m\u001b[38;5;124m\"\u001b[39m\u001b[38;5;124m(\u001b[39m\u001b[38;5;132;01m{\u001b[39;00ma\u001b[38;5;132;01m}\u001b[39;00m\u001b[38;5;124m, \u001b[39m\u001b[38;5;132;01m{\u001b[39;00mb\u001b[38;5;132;01m}\u001b[39;00m\u001b[38;5;124m)\u001b[39m\u001b[38;5;124m\"\u001b[39m)\n\u001b[1;32m    174\u001b[0m \u001b[38;5;28mprint\u001b[39m(\u001b[38;5;124mf\u001b[39m\u001b[38;5;124m\"\u001b[39m\u001b[38;5;124m(\u001b[39m\u001b[38;5;132;01m{\u001b[39;00mc\u001b[38;5;132;01m}\u001b[39;00m\u001b[38;5;124m, \u001b[39m\u001b[38;5;132;01m{\u001b[39;00md\u001b[38;5;132;01m}\u001b[39;00m\u001b[38;5;124m)\u001b[39m\u001b[38;5;124m\"\u001b[39m)\n\u001b[0;32m--> 175\u001b[0m real_part \u001b[38;5;241m=\u001b[39m a \u001b[38;5;241m*\u001b[39m c \u001b[38;5;241m-\u001b[39m d \u001b[38;5;241m*\u001b[39m b\u001b[38;5;241m.\u001b[39mconjugate()\n\u001b[1;32m    176\u001b[0m imag_part \u001b[38;5;241m=\u001b[39m a\u001b[38;5;241m.\u001b[39mconjugate() \u001b[38;5;241m*\u001b[39m d \u001b[38;5;241m+\u001b[39m c \u001b[38;5;241m*\u001b[39m b\n\u001b[1;32m    177\u001b[0m \u001b[38;5;28;01mreturn\u001b[39;00m Zi(real_part, imag_part)\n",
      "File \u001b[0;32m~/Documents/Python/github/myrepos/gaussian_integers/src/cayley_dickson_alg.py:175\u001b[0m, in \u001b[0;36mZi.__mul__\u001b[0;34m(self, other)\u001b[0m\n\u001b[1;32m    173\u001b[0m \u001b[38;5;28mprint\u001b[39m(\u001b[38;5;124mf\u001b[39m\u001b[38;5;124m\"\u001b[39m\u001b[38;5;124m(\u001b[39m\u001b[38;5;132;01m{\u001b[39;00ma\u001b[38;5;132;01m}\u001b[39;00m\u001b[38;5;124m, \u001b[39m\u001b[38;5;132;01m{\u001b[39;00mb\u001b[38;5;132;01m}\u001b[39;00m\u001b[38;5;124m)\u001b[39m\u001b[38;5;124m\"\u001b[39m)\n\u001b[1;32m    174\u001b[0m \u001b[38;5;28mprint\u001b[39m(\u001b[38;5;124mf\u001b[39m\u001b[38;5;124m\"\u001b[39m\u001b[38;5;124m(\u001b[39m\u001b[38;5;132;01m{\u001b[39;00mc\u001b[38;5;132;01m}\u001b[39;00m\u001b[38;5;124m, \u001b[39m\u001b[38;5;132;01m{\u001b[39;00md\u001b[38;5;132;01m}\u001b[39;00m\u001b[38;5;124m)\u001b[39m\u001b[38;5;124m\"\u001b[39m)\n\u001b[0;32m--> 175\u001b[0m real_part \u001b[38;5;241m=\u001b[39m a \u001b[38;5;241m*\u001b[39m c \u001b[38;5;241m-\u001b[39m d \u001b[38;5;241m*\u001b[39m b\u001b[38;5;241m.\u001b[39mconjugate()\n\u001b[1;32m    176\u001b[0m imag_part \u001b[38;5;241m=\u001b[39m a\u001b[38;5;241m.\u001b[39mconjugate() \u001b[38;5;241m*\u001b[39m d \u001b[38;5;241m+\u001b[39m c \u001b[38;5;241m*\u001b[39m b\n\u001b[1;32m    177\u001b[0m \u001b[38;5;28;01mreturn\u001b[39;00m Zi(real_part, imag_part)\n",
      "\u001b[0;31mTypeError\u001b[0m: unsupported operand type(s) for *: 'int' and 'Zi'"
     ]
    }
   ],
   "source": [
    "q1 * o1"
   ]
  },
  {
   "cell_type": "code",
   "execution_count": 53,
   "id": "00bdc599-ca46-4bc8-83f1-456acb93be7e",
   "metadata": {},
   "outputs": [
    {
     "ename": "TypeError",
     "evalue": "unsupported operand type(s) for *: 'int' and 'Zi'",
     "output_type": "error",
     "traceback": [
      "\u001b[0;31m---------------------------------------------------------------------------\u001b[0m",
      "\u001b[0;31mTypeError\u001b[0m                                 Traceback (most recent call last)",
      "Cell \u001b[0;32mIn[53], line 1\u001b[0m\n\u001b[0;32m----> 1\u001b[0m Zi\u001b[38;5;241m.\u001b[39mis_octonion(q1 \u001b[38;5;241m*\u001b[39m o1)\n",
      "File \u001b[0;32m~/Documents/Python/github/myrepos/gaussian_integers/src/cayley_dickson_alg.py:172\u001b[0m, in \u001b[0;36mZi.__mul__\u001b[0;34m(self, other)\u001b[0m\n\u001b[1;32m    170\u001b[0m     oth \u001b[38;5;241m=\u001b[39m other\n\u001b[1;32m    171\u001b[0m a, b, c, d \u001b[38;5;241m=\u001b[39m \u001b[38;5;28mself\u001b[39m\u001b[38;5;241m.\u001b[39m__re, \u001b[38;5;28mself\u001b[39m\u001b[38;5;241m.\u001b[39m__im, oth\u001b[38;5;241m.\u001b[39mreal, oth\u001b[38;5;241m.\u001b[39mimag\n\u001b[0;32m--> 172\u001b[0m real_part \u001b[38;5;241m=\u001b[39m a \u001b[38;5;241m*\u001b[39m c \u001b[38;5;241m-\u001b[39m d \u001b[38;5;241m*\u001b[39m b\u001b[38;5;241m.\u001b[39mconjugate()\n\u001b[1;32m    173\u001b[0m imag_part \u001b[38;5;241m=\u001b[39m a\u001b[38;5;241m.\u001b[39mconjugate() \u001b[38;5;241m*\u001b[39m d \u001b[38;5;241m+\u001b[39m c \u001b[38;5;241m*\u001b[39m b\n\u001b[1;32m    174\u001b[0m \u001b[38;5;28;01mreturn\u001b[39;00m Zi(real_part, imag_part)\n",
      "File \u001b[0;32m~/Documents/Python/github/myrepos/gaussian_integers/src/cayley_dickson_alg.py:172\u001b[0m, in \u001b[0;36mZi.__mul__\u001b[0;34m(self, other)\u001b[0m\n\u001b[1;32m    170\u001b[0m     oth \u001b[38;5;241m=\u001b[39m other\n\u001b[1;32m    171\u001b[0m a, b, c, d \u001b[38;5;241m=\u001b[39m \u001b[38;5;28mself\u001b[39m\u001b[38;5;241m.\u001b[39m__re, \u001b[38;5;28mself\u001b[39m\u001b[38;5;241m.\u001b[39m__im, oth\u001b[38;5;241m.\u001b[39mreal, oth\u001b[38;5;241m.\u001b[39mimag\n\u001b[0;32m--> 172\u001b[0m real_part \u001b[38;5;241m=\u001b[39m a \u001b[38;5;241m*\u001b[39m c \u001b[38;5;241m-\u001b[39m d \u001b[38;5;241m*\u001b[39m b\u001b[38;5;241m.\u001b[39mconjugate()\n\u001b[1;32m    173\u001b[0m imag_part \u001b[38;5;241m=\u001b[39m a\u001b[38;5;241m.\u001b[39mconjugate() \u001b[38;5;241m*\u001b[39m d \u001b[38;5;241m+\u001b[39m c \u001b[38;5;241m*\u001b[39m b\n\u001b[1;32m    174\u001b[0m \u001b[38;5;28;01mreturn\u001b[39;00m Zi(real_part, imag_part)\n",
      "\u001b[0;31mTypeError\u001b[0m: unsupported operand type(s) for *: 'int' and 'Zi'"
     ]
    }
   ],
   "source": [
    "Zi.is_octonion(q1 * o1)"
   ]
  },
  {
   "cell_type": "code",
   "execution_count": 54,
   "id": "a7142306-af75-4409-9874-569d401749c8",
   "metadata": {},
   "outputs": [
    {
     "ename": "TypeError",
     "evalue": "unsupported operand type(s) for *: 'int' and 'Zi'",
     "output_type": "error",
     "traceback": [
      "\u001b[0;31m---------------------------------------------------------------------------\u001b[0m",
      "\u001b[0;31mTypeError\u001b[0m                                 Traceback (most recent call last)",
      "Cell \u001b[0;32mIn[54], line 1\u001b[0m\n\u001b[0;32m----> 1\u001b[0m q1 \u001b[38;5;241m*\u001b[39m (o1\u001b[38;5;241m.\u001b[39mreal) \u001b[38;5;241m==\u001b[39m (q1 \u001b[38;5;241m*\u001b[39m o1)\u001b[38;5;241m.\u001b[39mreal\n",
      "File \u001b[0;32m~/Documents/Python/github/myrepos/gaussian_integers/src/cayley_dickson_alg.py:172\u001b[0m, in \u001b[0;36mZi.__mul__\u001b[0;34m(self, other)\u001b[0m\n\u001b[1;32m    170\u001b[0m     oth \u001b[38;5;241m=\u001b[39m other\n\u001b[1;32m    171\u001b[0m a, b, c, d \u001b[38;5;241m=\u001b[39m \u001b[38;5;28mself\u001b[39m\u001b[38;5;241m.\u001b[39m__re, \u001b[38;5;28mself\u001b[39m\u001b[38;5;241m.\u001b[39m__im, oth\u001b[38;5;241m.\u001b[39mreal, oth\u001b[38;5;241m.\u001b[39mimag\n\u001b[0;32m--> 172\u001b[0m real_part \u001b[38;5;241m=\u001b[39m a \u001b[38;5;241m*\u001b[39m c \u001b[38;5;241m-\u001b[39m d \u001b[38;5;241m*\u001b[39m b\u001b[38;5;241m.\u001b[39mconjugate()\n\u001b[1;32m    173\u001b[0m imag_part \u001b[38;5;241m=\u001b[39m a\u001b[38;5;241m.\u001b[39mconjugate() \u001b[38;5;241m*\u001b[39m d \u001b[38;5;241m+\u001b[39m c \u001b[38;5;241m*\u001b[39m b\n\u001b[1;32m    174\u001b[0m \u001b[38;5;28;01mreturn\u001b[39;00m Zi(real_part, imag_part)\n",
      "File \u001b[0;32m~/Documents/Python/github/myrepos/gaussian_integers/src/cayley_dickson_alg.py:172\u001b[0m, in \u001b[0;36mZi.__mul__\u001b[0;34m(self, other)\u001b[0m\n\u001b[1;32m    170\u001b[0m     oth \u001b[38;5;241m=\u001b[39m other\n\u001b[1;32m    171\u001b[0m a, b, c, d \u001b[38;5;241m=\u001b[39m \u001b[38;5;28mself\u001b[39m\u001b[38;5;241m.\u001b[39m__re, \u001b[38;5;28mself\u001b[39m\u001b[38;5;241m.\u001b[39m__im, oth\u001b[38;5;241m.\u001b[39mreal, oth\u001b[38;5;241m.\u001b[39mimag\n\u001b[0;32m--> 172\u001b[0m real_part \u001b[38;5;241m=\u001b[39m a \u001b[38;5;241m*\u001b[39m c \u001b[38;5;241m-\u001b[39m d \u001b[38;5;241m*\u001b[39m b\u001b[38;5;241m.\u001b[39mconjugate()\n\u001b[1;32m    173\u001b[0m imag_part \u001b[38;5;241m=\u001b[39m a\u001b[38;5;241m.\u001b[39mconjugate() \u001b[38;5;241m*\u001b[39m d \u001b[38;5;241m+\u001b[39m c \u001b[38;5;241m*\u001b[39m b\n\u001b[1;32m    174\u001b[0m \u001b[38;5;28;01mreturn\u001b[39;00m Zi(real_part, imag_part)\n",
      "\u001b[0;31mTypeError\u001b[0m: unsupported operand type(s) for *: 'int' and 'Zi'"
     ]
    }
   ],
   "source": [
    "q1 * (o1.real) == (q1 * o1).real"
   ]
  },
  {
   "cell_type": "code",
   "execution_count": 55,
   "id": "9a1eb598-99dc-4596-a1b6-4e4945e5be2e",
   "metadata": {},
   "outputs": [
    {
     "data": {
      "text/plain": [
       "Zi(Zi(-125, -67), Zi(13, -76))"
      ]
     },
     "execution_count": 55,
     "metadata": {},
     "output_type": "execute_result"
    }
   ],
   "source": [
    "q1 * o1.imag"
   ]
  },
  {
   "cell_type": "code",
   "execution_count": 21,
   "id": "5aa61ec8-5029-455a-80b2-f419382a142b",
   "metadata": {},
   "outputs": [
    {
     "data": {
      "text/plain": [
       "Zi(Zi(Zi(10, 4), Zi(2, 9)), Zi(Zi(7, 1), Zi(-1, 10)))"
      ]
     },
     "execution_count": 21,
     "metadata": {},
     "output_type": "execute_result"
    }
   ],
   "source": [
    "o1"
   ]
  },
  {
   "cell_type": "code",
   "execution_count": null,
   "id": "697cb92e-a69c-4aa6-8411-f9ec71318456",
   "metadata": {},
   "outputs": [],
   "source": []
  },
  {
   "cell_type": "code",
   "execution_count": null,
   "id": "f9463fe9-edf4-44ec-9b07-1704adc17e0b",
   "metadata": {},
   "outputs": [],
   "source": []
  },
  {
   "cell_type": "raw",
   "id": "491bb224",
   "metadata": {},
   "source": [
    "# @staticmethod\n",
    "def hamilton_product(q1, q2):\n",
    "    \"\"\"Multiplication of two quaternions according to the classic Hamilton product.\"\"\"\n",
    "    a1, b1, c1, d1 = flatten(q1.to_array())\n",
    "    a2, b2, c2, d2 = flatten(q2.to_array())\n",
    "    # See https://en.wikipedia.org/wiki/Quaternion#Hamilton_product\n",
    "    a = a1 * a2 - b1 * b2 - c1 * c2 - d1 * d2\n",
    "    b = a1 * b2 + b1 * a2 + c1 * d2 - d1 * c2\n",
    "    c = a1 * c2 - b1 * d2 + c1 * a2 + d1 * b2\n",
    "    d = a1 * d2 + b1 * c2 - c1 * b2 + d1 * a2\n",
    "    return Zi[Zi(a, b), Zi(c, d)]"
   ]
  },
  {
   "cell_type": "code",
   "execution_count": 23,
   "id": "67bd81a4-5368-49de-bace-67ab3fa86813",
   "metadata": {},
   "outputs": [
    {
     "name": "stdout",
     "output_type": "stream",
     "text": [
      "\n",
      "Mult: (10+4i+2j+9k) x (7+1i-1j+10k)\n",
      "((10+4j), (2+9j))\n",
      "((7+1j), (-1+10j))\n",
      "\n",
      "Mult: (10+4j) x (7+1j)\n",
      "(10, 4)\n",
      "(7, 1)\n",
      "\n",
      "Mult: (-1+10j) x (2-9j)\n",
      "(-1, 10)\n",
      "(2, -9)\n",
      "\n",
      "Mult: (10-4j) x (-1+10j)\n",
      "(10, -4)\n",
      "(-1, 10)\n",
      "\n",
      "Mult: (7+1j) x (2+9j)\n",
      "(7, 1)\n",
      "(2, 9)\n"
     ]
    },
    {
     "data": {
      "text/plain": [
       "Zi(Zi(-22, 9), Zi(35, 169))"
      ]
     },
     "execution_count": 23,
     "metadata": {},
     "output_type": "execute_result"
    }
   ],
   "source": [
    "q1 * q2"
   ]
  },
  {
   "cell_type": "code",
   "execution_count": 24,
   "id": "3d1fe792-ba63-4f42-b07b-b0600d2abfb5",
   "metadata": {},
   "outputs": [
    {
     "data": {
      "text/plain": [
       "[-22, 67, -27, 157]"
      ]
     },
     "execution_count": 24,
     "metadata": {},
     "output_type": "execute_result"
    }
   ],
   "source": [
    "hamilton_product(q1, q2)"
   ]
  },
  {
   "cell_type": "code",
   "execution_count": 25,
   "id": "47fe1035-1254-413c-ac44-aed72a4d884b",
   "metadata": {},
   "outputs": [
    {
     "name": "stdout",
     "output_type": "stream",
     "text": [
      "q1 = Zi(Zi(10, 4), Zi(2, 9)) = (10+4i+2j+9k)\n",
      "q2 = Zi(Zi(7, 1), Zi(-1, 10)) = (7+1i-1j+10k)\n",
      "\n",
      "\n",
      "Mult: (10+4i+2j+9k) x (7+1i-1j+10k)\n",
      "((10+4j), (2+9j))\n",
      "((7+1j), (-1+10j))\n",
      "\n",
      "Mult: (10+4j) x (7+1j)\n",
      "(10, 4)\n",
      "(7, 1)\n",
      "\n",
      "Mult: (-1+10j) x (2-9j)\n",
      "(-1, 10)\n",
      "(2, -9)\n",
      "\n",
      "Mult: (10-4j) x (-1+10j)\n",
      "(10, -4)\n",
      "(-1, 10)\n",
      "\n",
      "Mult: (7+1j) x (2+9j)\n",
      "(7, 1)\n",
      "(2, 9)\n",
      "\n",
      "Mult: (10+4i+2j+9k) x (7+1i-1j+10k)\n",
      "((10+4j), (2+9j))\n",
      "((7+1j), (-1+10j))\n",
      "\n",
      "Mult: (10+4j) x (7+1j)\n",
      "(10, 4)\n",
      "(7, 1)\n",
      "\n",
      "Mult: (-1+10j) x (2-9j)\n",
      "(-1, 10)\n",
      "(2, -9)\n",
      "\n",
      "Mult: (10-4j) x (-1+10j)\n",
      "(10, -4)\n",
      "(-1, 10)\n",
      "\n",
      "Mult: (7+1j) x (2+9j)\n",
      "(7, 1)\n",
      "(2, 9)\n",
      "q1 * q2 = Zi(Zi(-22, 9), Zi(35, 169)) = (-22+9i+35j+169k)\n",
      "\n",
      "hamilton_product(q1, q2) = [-22, 67, -27, 157] = [-22, 67, -27, 157]\n"
     ]
    }
   ],
   "source": [
    "print(f\"{q1 = } = {str(q1)}\")\n",
    "print(f\"{q2 = } = {str(q2)}\\n\")\n",
    "print(f\"{q1 * q2 = } = {str(q1 * q2)}\\n\")\n",
    "print(f\"{hamilton_product(q1, q2) = } = {str(hamilton_product(q1, q2))}\")"
   ]
  },
  {
   "cell_type": "code",
   "execution_count": 61,
   "id": "6fabdc74-4b7f-482c-b80a-0ef8760d9245",
   "metadata": {},
   "outputs": [
    {
     "data": {
      "text/plain": [
       "[10, -7, -10, -2]"
      ]
     },
     "execution_count": 61,
     "metadata": {},
     "output_type": "execute_result"
    }
   ],
   "source": [
    "flatten(q1.to_array())"
   ]
  },
  {
   "cell_type": "code",
   "execution_count": null,
   "id": "d1ffe0c0",
   "metadata": {},
   "outputs": [],
   "source": []
  },
  {
   "cell_type": "code",
   "execution_count": null,
   "id": "56bd4d52",
   "metadata": {},
   "outputs": [],
   "source": []
  },
  {
   "cell_type": "code",
   "execution_count": 3,
   "id": "9dade4d7-009b-4e83-a271-c1c8e74cc463",
   "metadata": {},
   "outputs": [],
   "source": [
    "qx = Zi([1, 2, 3, 4])\n",
    "qy = Zi([5, 4, 3, 2])"
   ]
  },
  {
   "cell_type": "code",
   "execution_count": 4,
   "id": "84793392",
   "metadata": {},
   "outputs": [
    {
     "name": "stdout",
     "output_type": "stream",
     "text": [
      "(1+2i+3j+4k)\n",
      "(5+4i+3j+2k)\n"
     ]
    }
   ],
   "source": [
    "print(qx)\n",
    "print(qy)"
   ]
  },
  {
   "cell_type": "code",
   "execution_count": 5,
   "id": "2e6677b2",
   "metadata": {},
   "outputs": [
    {
     "name": "stdout",
     "output_type": "stream",
     "text": [
      "(-20+20i+6j+28k)\n"
     ]
    }
   ],
   "source": [
    "print(qx * qy)"
   ]
  },
  {
   "cell_type": "code",
   "execution_count": 8,
   "id": "fd45a457",
   "metadata": {},
   "outputs": [
    {
     "data": {
      "text/plain": [
       "[-20, 8, 30, 16]"
      ]
     },
     "execution_count": 8,
     "metadata": {},
     "output_type": "execute_result"
    }
   ],
   "source": [
    "hamilton_product(qx, qy)"
   ]
  },
  {
   "cell_type": "code",
   "execution_count": 9,
   "id": "5ed65213",
   "metadata": {},
   "outputs": [
    {
     "data": {
      "text/plain": [
       "[-20, 20, 6, 28]"
      ]
     },
     "execution_count": 9,
     "metadata": {},
     "output_type": "execute_result"
    }
   ],
   "source": [
    "hamilton_product(qy, qx)"
   ]
  },
  {
   "cell_type": "code",
   "execution_count": null,
   "id": "01faea97",
   "metadata": {},
   "outputs": [],
   "source": []
  }
 ],
 "metadata": {
  "kernelspec": {
   "display_name": "Python 3 (ipykernel)",
   "language": "python",
   "name": "python3"
  },
  "language_info": {
   "codemirror_mode": {
    "name": "ipython",
    "version": 3
   },
   "file_extension": ".py",
   "mimetype": "text/x-python",
   "name": "python",
   "nbconvert_exporter": "python",
   "pygments_lexer": "ipython3",
   "version": "3.11.5"
  }
 },
 "nbformat": 4,
 "nbformat_minor": 5
}
