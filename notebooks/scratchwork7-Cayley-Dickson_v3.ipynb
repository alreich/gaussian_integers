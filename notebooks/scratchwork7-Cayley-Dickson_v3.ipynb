{
 "cells": [
  {
   "cell_type": "markdown",
   "id": "11951404-4d7b-4cd4-aa6e-3bca6abee1ce",
   "metadata": {},
   "source": [
    "# Cayley-Dickson Construction Applied to Zi Definition"
   ]
  },
  {
   "cell_type": "markdown",
   "id": "985bac8c",
   "metadata": {},
   "source": [
    "*Version 3*"
   ]
  },
  {
   "cell_type": "markdown",
   "id": "903c36a4",
   "metadata": {},
   "source": [
    "My original implementation of Gaussian integers included two classes, ``Zi`` and ``Qi``, where, for example, ``Zi(2, -7)`` represents a Gaussian integer, and ``Qi(-2/3, 4/5)`` represents a Gaussian rational.\n",
    "\n",
    "I'd like to extend this code to include integer-valued quaternions and octonions. An elegant way to accomplish that goal would be to use the Cayley-Dickson construction, where complex numbers can be constructed from pairs of real numbers, quaternions can be constructed from pairs of those pairs, and octonions constructed from pairs of those pairs of pairs."
   ]
  },
  {
   "cell_type": "markdown",
   "id": "d582233e",
   "metadata": {},
   "source": [
    "The [Cayley-Dickson construction](https://en.wikipedia.org/wiki/Cayley%E2%80%93Dickson_construction) is a process by which one can use a recursive definition of conjugation together with a recursive definition of multiplication to use...\n",
    "* pairs of real numbers ($\\mathbb{R}$) to create complex numbers,\n",
    "* pairs of complex numbers ($\\mathbb{C}$) to create quaternions,\n",
    "* pairs of quaternions ($\\mathbb{H}$) to create octonions,\n",
    "* pairs of octonions ($\\mathbb{O}$) to create sedenions ($\\mathbb{S}$), and so on."
   ]
  },
  {
   "cell_type": "markdown",
   "id": "2f09c45e-9ab5-461b-8de8-fd74f6a0e16e",
   "metadata": {},
   "source": [
    "For more specifics, see my write-up about the Cayley-Dickson construction [at this link](https://abstract-algebra.readthedocs.io/en/latest/55_cayley_dickson.html)."
   ]
  },
  {
   "cell_type": "code",
   "execution_count": 1,
   "id": "1ebdcab3",
   "metadata": {},
   "outputs": [],
   "source": [
    "from cayley_dickson_alg import Zi, SetScalarMult\n",
    "from random import randint"
   ]
  },
  {
   "cell_type": "code",
   "execution_count": 2,
   "id": "3afe1173",
   "metadata": {},
   "outputs": [],
   "source": [
    "from random import seed\n",
    "\n",
    "seed(42)  # Generate the same random sequence each time (for testing)"
   ]
  },
  {
   "cell_type": "markdown",
   "id": "7300fef0-36d6-4e06-874f-81aec47273dd",
   "metadata": {},
   "source": [
    "## Scalar Multiplication"
   ]
  },
  {
   "cell_type": "markdown",
   "id": "2749f445",
   "metadata": {},
   "source": [
    "Let $r, c, h$ with subscripts represent generic real, complex, and quaternion numbers.\n",
    "\n",
    "Let juxtapostion or $\\cdot$ denote multiplication of two quantities of the same type (real-real, complex-complex, etc.), and let $\\circ$ denote the multiplication of a higher dimensional quantity by a lower dimensional quantity (a *scalar*)."
   ]
  },
  {
   "cell_type": "markdown",
   "id": "d4a7731a",
   "metadata": {},
   "source": [
    "### Casting to a Higher Dimensional Type"
   ]
  },
  {
   "cell_type": "markdown",
   "id": "33f31dcc",
   "metadata": {},
   "source": [
    "There is no standard mathematical notation for what programmers refer to as *casting*, so we'll use the symbol $\\uparrow$ together with the type being cast *to*, which should always have a higher dimension than the type being cast *from* (hence the up arrow).\n",
    "\n",
    "So, for example, if $a \\in \\mathbb{R}$ and $b \\in \\mathbb{C}$, then for example:\n",
    "* $a \\uparrow \\mathbb{C} \\equiv (a,0)$\n",
    "* $a \\uparrow \\mathbb{H} \\equiv (a,0,0,0) \\equiv ((a,0),(0,0))$\n",
    "* $b \\uparrow \\mathbb{H} \\equiv (b, (0,0))$"
   ]
  },
  {
   "cell_type": "markdown",
   "id": "c9396f27",
   "metadata": {},
   "source": [
    "### Multiplying Each Component by the Scalar"
   ]
  },
  {
   "cell_type": "markdown",
   "id": "0658eec4",
   "metadata": {},
   "source": [
    "One approach (the typical approach) to scalar multiplication of a complex number or quaternion by a real number results in each of the components of the complex or quaternion being multiplied by the same scalar.\n",
    "\n",
    "For example, if $a, r_0, r_1, r_2, r_3 \\in \\mathbb{R}$ and $h = (r_0, r_1, r_2, r_3) \\in \\mathbb{H}$, then $a \\circ h \\equiv (ar_0, ar_1, ar_2, ar_3) \\in \\mathbb{H}$.\n",
    "\n",
    "Similar for $h \\circ a$, since multiplication in $\\mathbb{R}$ is commutative."
   ]
  },
  {
   "cell_type": "markdown",
   "id": "d5dabaae-bc13-400c-b296-69a8cd1f0be1",
   "metadata": {},
   "source": [
    "Generalizing this scalar multiplication approach to the hierarchically defined Zi's, we need to define the multiplication of two Zi's, $\\alpha \\times \\beta$, of different orders, $m, n$, resp., where $m < n$, as a generalization of scalar multiplication.\n",
    "\n",
    "This can be done by defining, recursively, $\\alpha \\times \\beta \\equiv \\text{Zi}(\\alpha \\times \\beta_{\\text{real}}, \\alpha \\times \\beta_{\\text{imag}})$\n",
    "\n",
    "Note that, if $\\alpha \\in \\mathbb{C}$ and $\\beta \\in \\mathbb{H}$, then even though multiplication in $\\mathbb{H}$ is not commutative, $\\alpha \\circ \\beta = \\beta \\circ \\alpha$, because multiplication in $\\mathbb{C}$ is commutative."
   ]
  },
  {
   "cell_type": "markdown",
   "id": "83684446",
   "metadata": {},
   "source": [
    "Note that, if the scalar is first *cast* into a quantity of the same type as the higher dimensional quantity, then the result is the same.\n",
    "\n",
    "For example, $a \\circ h \\equiv (a \\uparrow \\mathbb{H}) \\cdot h = (a,0,0,0) \\cdot h \\in \\mathbb{H}$."
   ]
  },
  {
   "cell_type": "code",
   "execution_count": 3,
   "id": "6f77b168-7944-4f67-8539-e5b59cdb9f5c",
   "metadata": {},
   "outputs": [
    {
     "data": {
      "text/plain": [
       "Zi(2, 0)"
      ]
     },
     "execution_count": 3,
     "metadata": {},
     "output_type": "execute_result"
    }
   ],
   "source": [
    "Zi.cast(2, 1) # Cast the real number, 2, to a complex, (2, 0)"
   ]
  },
  {
   "cell_type": "code",
   "execution_count": 4,
   "id": "c774c142-4442-4ee2-86db-3f9058c37a0d",
   "metadata": {},
   "outputs": [
    {
     "name": "stdout",
     "output_type": "stream",
     "text": [
      "d = -1, is not an integer >= 1\n"
     ]
    }
   ],
   "source": [
    "try:\n",
    "    Zi.cast(Zi(0, 1), -1)\n",
    "except Exception as err:\n",
    "    print(err)"
   ]
  },
  {
   "cell_type": "code",
   "execution_count": 5,
   "id": "a697577e-2376-4901-aaab-580965fc5245",
   "metadata": {},
   "outputs": [
    {
     "data": {
      "text/plain": [
       "Zi(2, 3)"
      ]
     },
     "execution_count": 5,
     "metadata": {},
     "output_type": "execute_result"
    }
   ],
   "source": [
    "Zi(2, 3).cast(1) # Casting a complex to a complex does nothing"
   ]
  },
  {
   "cell_type": "code",
   "execution_count": 6,
   "id": "55a8d28f-a9d5-4e6f-b594-2c85bdff84ff",
   "metadata": {},
   "outputs": [
    {
     "data": {
      "text/plain": [
       "Zi(Zi(2, 3), Zi(0, 0))"
      ]
     },
     "execution_count": 6,
     "metadata": {},
     "output_type": "execute_result"
    }
   ],
   "source": [
    "Zi(2, 3).cast(2) # Cast a complex to a quaternion"
   ]
  },
  {
   "cell_type": "code",
   "execution_count": 7,
   "id": "395de658-fdf0-49f8-9eeb-0456934a308b",
   "metadata": {},
   "outputs": [
    {
     "data": {
      "text/plain": [
       "Zi(Zi(Zi(2, 3), Zi(0, 0)), Zi(Zi(0, 0), Zi(0, 0)))"
      ]
     },
     "execution_count": 7,
     "metadata": {},
     "output_type": "execute_result"
    }
   ],
   "source": [
    "Zi(2, 3).cast(3) # Cast a complex to an octonion"
   ]
  },
  {
   "cell_type": "code",
   "execution_count": 8,
   "id": "38630c95-721a-409a-9396-c3c75935a79f",
   "metadata": {},
   "outputs": [
    {
     "name": "stdout",
     "output_type": "stream",
     "text": [
      "(10-7i-10j-2k)\n",
      "(-3+6i+9j-10k)\n"
     ]
    }
   ],
   "source": [
    "# q0 = Zi.random_quaternion()\n",
    "q0 = Zi(Zi(10, -7), Zi(-10, -2))\n",
    "q1 = Zi(Zi(-3, 6), Zi(9, -10))\n",
    "print(q0)\n",
    "print(q1)"
   ]
  },
  {
   "cell_type": "markdown",
   "id": "cfb0f7d2-9e74-4373-9482-1373653360e1",
   "metadata": {},
   "source": [
    "### Quaternion $\\times$ Quaternion"
   ]
  },
  {
   "cell_type": "markdown",
   "id": "f7aa03e3-6a2b-42a4-ae82-00ab8fb5dd11",
   "metadata": {},
   "source": [
    "Check quaternion multiplication"
   ]
  },
  {
   "cell_type": "code",
   "execution_count": 9,
   "id": "bb7d8ca1",
   "metadata": {},
   "outputs": [
    {
     "name": "stdout",
     "output_type": "stream",
     "text": [
      "q0 * q1 = Zi(Zi(82, 199), Zi(38, -97))\n",
      "Matches Hamiltonion Product? True\n",
      "\n",
      "q1 * q0 = Zi(Zi(82, -37), Zi(202, -91))\n",
      "Matches Hamiltonion Product? True\n"
     ]
    }
   ],
   "source": [
    "print(f\"{q0 * q1 = }\")\n",
    "print(f\"Matches Hamiltonion Product? {Zi.hamilton_product(q0, q1) == q0 * q1 }\\n\")\n",
    "\n",
    "print(f\"{q1 * q0 = }\")\n",
    "print(f\"Matches Hamiltonion Product? {Zi.hamilton_product(q1, q0) == q1 * q0 }\")"
   ]
  },
  {
   "cell_type": "markdown",
   "id": "09023b18-7062-4f31-8e62-736aa2cec946",
   "metadata": {},
   "source": [
    "### Quaternion $\\times$ Real"
   ]
  },
  {
   "cell_type": "code",
   "execution_count": 10,
   "id": "5594cb38-3033-49b1-8ea4-e74034045d73",
   "metadata": {},
   "outputs": [
    {
     "name": "stdout",
     "output_type": "stream",
     "text": [
      "q0 = Zi(Zi(10, -7), Zi(-10, -2))\n",
      "\n",
      "NOTE: Scalar Multiplication set to False\n",
      "q0 * 2 = Zi(Zi(20, -14), Zi(-20, -4))\n",
      "2 * q0 = Zi(Zi(20, -14), Zi(-20, -4))\n",
      "\n",
      "NOTE: Scalar Multiplication set to True\n",
      "q0 * 2 = Zi(Zi(20, -14), Zi(-20, -4))\n",
      "2 * q0 = Zi(Zi(20, -14), Zi(-20, -4))\n"
     ]
    }
   ],
   "source": [
    "print(f\"{q0 = }\")\n",
    "\n",
    "# Setting scalar_mult to False forces the lower order value (\"scalar\")\n",
    "# to be cast to an equivalent value with the same higher order, before \n",
    "# multiplication\n",
    "with SetScalarMult(False):\n",
    "    print(f\"{q0 * 2 = }\")\n",
    "    print(f\"{2 * q0 = }\")\n",
    "\n",
    "# Setting scalar_mult to True forces the lower order value (\"scalar\")\n",
    "# to be multiplied, as is, recursively, by the higher order value's\n",
    "# real & imag components.\n",
    "with SetScalarMult(True):\n",
    "    print(f\"{q0 * 2 = }\")\n",
    "    print(f\"{2 * q0 = }\")"
   ]
  },
  {
   "cell_type": "markdown",
   "id": "52b6588a-a66d-4acf-88b4-5ebc0b9c533a",
   "metadata": {},
   "source": [
    "### Quaternion $\\times$ Complex"
   ]
  },
  {
   "cell_type": "code",
   "execution_count": 11,
   "id": "bd231743-5a06-4831-8b38-180f3528c011",
   "metadata": {},
   "outputs": [
    {
     "name": "stdout",
     "output_type": "stream",
     "text": [
      "z0 = Zi(2, -3)\n",
      "q0 = Zi(Zi(10, -7), Zi(-10, -2))\n",
      "\n",
      "NOTE: Scalar Multiplication set to False\n",
      "\n",
      "q0 * z0 = Zi(Zi(-1, -44), Zi(-14, -34))\n",
      " OK? True\n",
      "z0 * q0 = Zi(Zi(-1, -44), Zi(-26, 26))\n",
      " OK? True\n",
      "\n",
      "q0.real * z0 = Zi(-1, -44)\n",
      "z0 * q0.real = Zi(-1, -44)\n",
      "\n",
      "q0.imag * z0 = Zi(-26, 26)\n",
      "z0 * q0.imag = Zi(-26, 26)\n",
      "\n",
      "NOTE: Scalar Multiplication set to True\n",
      "\n",
      "q0 * z0 = Zi(Zi(-1, -44), Zi(-26, 26))\n",
      "z0 * q0 = Zi(Zi(-1, -44), Zi(-26, 26))\n",
      "\n",
      "q0.real * z0 = Zi(-1, -44)\n",
      "z0 * q0.real = Zi(-1, -44)\n",
      "\n",
      "q0.imag * z0 = Zi(-26, 26)\n",
      "z0 * q0.imag = Zi(-26, 26)\n"
     ]
    }
   ],
   "source": [
    "z0 = Zi(2, -3)\n",
    "print(f\"{z0 = }\")\n",
    "print(f\"{q0 = }\")\n",
    "\n",
    "# Setting scalar_mult to False forces the lower order value (\"scalar\")\n",
    "# to be cast to an equivalent value with the same higher order, before \n",
    "# multiplication\n",
    "with SetScalarMult(False):\n",
    "    print(f\"\\n{q0 * z0 = }\")\n",
    "    print(f\" OK? {q0 * z0.cast(q0.order()) == q0 * z0}\")\n",
    "    print(f\"{z0 * q0 = }\")\n",
    "    print(f\" OK? {z0.cast(q0.order()) * q0 == z0 * q0 }\")\n",
    "    print(f\"\\n{q0.real * z0 = }\")\n",
    "    print(f\"{z0 * q0.real = }\")\n",
    "    print(f\"\\n{q0.imag * z0 = }\")\n",
    "    print(f\"{z0 * q0.imag = }\")\n",
    "\n",
    "# Setting scalar_mult to True forces the lower order value (\"scalar\")\n",
    "# to be multiplied, as is, recursively, by the higher order value's\n",
    "# real & imag components.\n",
    "with SetScalarMult(True):\n",
    "    print(f\"\\n{q0 * z0 = }\")\n",
    "    print(f\"{z0 * q0 = }\")\n",
    "    print(f\"\\n{q0.real * z0 = }\")\n",
    "    print(f\"{z0 * q0.real = }\")\n",
    "    print(f\"\\n{q0.imag * z0 = }\")\n",
    "    print(f\"{z0 * q0.imag = }\")"
   ]
  },
  {
   "cell_type": "markdown",
   "id": "19e70cbb",
   "metadata": {},
   "source": [
    "## Generic Context Class (written by Google AI)"
   ]
  },
  {
   "cell_type": "markdown",
   "id": "aaa02a9f",
   "metadata": {},
   "source": [
    "Here's the prompt used to generate this code:\n",
    "\n",
    "*\"Generate Python code that creates a class to be used as a context that, on entry, saves the current value of a class variable called foo and then sets it to a new value. Then on exit, it sets the class variable's value back to the value that was saved on entry.\"*"
   ]
  },
  {
   "cell_type": "markdown",
   "id": "817bf222",
   "metadata": {},
   "source": [
    "### Explanation of the code\n",
    "\n",
    "1. ContextClass: This is a simple class used for demonstration purposes. It contains the class variable foo that will be temporarily modified.\n",
    "\n",
    "2. SetClassVariable.__init__(...):\n",
    "    1. This method initializes the context manager.\n",
    "    1. It takes the target_class whose variable will be changed, the variable_name as a string, and the new_value to set.\n",
    "    1. It also initializes self.original_value to None as a placeholder.\n",
    "\n",
    "3. SetClassVariable.__enter__(...):\n",
    "    1. getattr(self.target_class, self.variable_name): This function retrieves the current value of the specified variable from the target class.\n",
    "    1. self.original_value = ...: The retrieved value is saved to an instance variable self.original_value. This is crucial for restoring the state later.\n",
    "    1. setattr(self.target_class, self.variable_name, self.new_value): This function sets the new value for the specified variable on the target class.\n",
    "\n",
    "4. SetClassVariable.__exit__(...):\n",
    "    1. This method is automatically called when the with block is finished. The exc_type, exc_val, and exc_tb arguments are used for exception handling, but they are not needed for this simple restoration task.\n",
    "    1. setattr(self.target_class, self.variable_name, self.original_value): This uses the saved original_value to set the variable back to its initial state, ensuring the class is left clean. "
   ]
  },
  {
   "cell_type": "code",
   "execution_count": 12,
   "id": "c48ec38d",
   "metadata": {},
   "outputs": [
    {
     "name": "stdout",
     "output_type": "stream",
     "text": [
      "Initial value of ContextClass.foo: 'original'\n",
      "Inside 'with' block, ContextClass.foo is: 'new_value_in_context'\n",
      "Outside 'with' block, ContextClass.foo is: 'original'\n"
     ]
    }
   ],
   "source": [
    "class ContextClass:\n",
    "    \"\"\"A sample class with a class variable 'foo'.\"\"\"\n",
    "    foo = \"original\"\n",
    "\n",
    "\n",
    "class SetClassVariable:\n",
    "    \"\"\"\n",
    "    A context manager to temporarily set a new value for a class variable.\n",
    "\n",
    "    On entry, it saves the original value of the target class variable\n",
    "    and sets it to a new value.\n",
    "    On exit, it restores the original value.\n",
    "    \"\"\"\n",
    "    def __init__(self, target_class, variable_name, new_value):\n",
    "        \"\"\"\n",
    "        Initializes the context manager.\n",
    "\n",
    "        Args:\n",
    "            target_class: The class containing the variable to be modified.\n",
    "            variable_name: The name of the class variable (e.g., 'foo').\n",
    "            new_value: The temporary new value to set.\n",
    "        \"\"\"\n",
    "        self.target_class = target_class\n",
    "        self.variable_name = variable_name\n",
    "        self.new_value = new_value\n",
    "        self.original_value = None\n",
    "\n",
    "    def __enter__(self):\n",
    "        \"\"\"\n",
    "        Saves the original variable value and sets the new value.\n",
    "        \"\"\"\n",
    "        self.original_value = getattr(self.target_class, self.variable_name)\n",
    "        setattr(self.target_class, self.variable_name, self.new_value)\n",
    "\n",
    "    def __exit__(self, exc_type, exc_val, exc_tb):\n",
    "        \"\"\"\n",
    "        Restores the original variable value on exiting the context.\n",
    "        \"\"\"\n",
    "        setattr(self.target_class, self.variable_name, self.original_value)\n",
    "\n",
    "\n",
    "# --- Example Usage ---\n",
    "print(f\"Initial value of ContextClass.foo: '{ContextClass.foo}'\")\n",
    "\n",
    "# Use the context manager to temporarily change the class variable\n",
    "with SetClassVariable(ContextClass, 'foo', 'new_value_in_context'):\n",
    "    print(f\"Inside 'with' block, ContextClass.foo is: '{ContextClass.foo}'\")\n",
    "    # The variable is set to the new value within this block\n",
    "\n",
    "# Outside the 'with' block, the variable is restored to its original value\n",
    "print(f\"Outside 'with' block, ContextClass.foo is: '{ContextClass.foo}'\")\n"
   ]
  },
  {
   "cell_type": "code",
   "execution_count": null,
   "id": "633172f7",
   "metadata": {},
   "outputs": [],
   "source": []
  },
  {
   "cell_type": "code",
   "execution_count": null,
   "id": "61e7d96f-2894-4901-8fd0-8bb2bee7a124",
   "metadata": {},
   "outputs": [],
   "source": []
  },
  {
   "cell_type": "code",
   "execution_count": 13,
   "id": "28aadc24-44c0-464b-953e-00cb580dfe25",
   "metadata": {},
   "outputs": [
    {
     "data": {
      "text/plain": [
       "Zi(Zi(10, -7), Zi(-10, -2))"
      ]
     },
     "execution_count": 13,
     "metadata": {},
     "output_type": "execute_result"
    }
   ],
   "source": [
    "q0"
   ]
  },
  {
   "cell_type": "code",
   "execution_count": 14,
   "id": "89990e58-2f4e-45f6-8aa6-3b519c2cf338",
   "metadata": {},
   "outputs": [
    {
     "data": {
      "text/plain": [
       "Zi(10, -7)"
      ]
     },
     "execution_count": 14,
     "metadata": {},
     "output_type": "execute_result"
    }
   ],
   "source": [
    "q0[0]"
   ]
  },
  {
   "cell_type": "code",
   "execution_count": 15,
   "id": "4d602638-9143-419c-b897-0a367ad00e9f",
   "metadata": {},
   "outputs": [
    {
     "data": {
      "text/plain": [
       "Zi(-10, -2)"
      ]
     },
     "execution_count": 15,
     "metadata": {},
     "output_type": "execute_result"
    }
   ],
   "source": [
    "q0[1]"
   ]
  },
  {
   "cell_type": "code",
   "execution_count": 16,
   "id": "800f5807-c880-4274-b47f-a7d2b55f4c80",
   "metadata": {},
   "outputs": [
    {
     "data": {
      "text/plain": [
       "2"
      ]
     },
     "execution_count": 16,
     "metadata": {},
     "output_type": "execute_result"
    }
   ],
   "source": [
    "len(q0)"
   ]
  },
  {
   "cell_type": "code",
   "execution_count": 17,
   "id": "0ea8b42a-4db1-43f9-96a7-e5047d22951e",
   "metadata": {},
   "outputs": [
    {
     "name": "stdout",
     "output_type": "stream",
     "text": [
      "(10-7j)\n",
      "(-10-2j)\n"
     ]
    }
   ],
   "source": [
    "for x in q0:\n",
    "    print(x)"
   ]
  },
  {
   "cell_type": "code",
   "execution_count": 18,
   "id": "73870da6-398b-41f1-b13e-2a2aa13f071d",
   "metadata": {},
   "outputs": [
    {
     "name": "stdout",
     "output_type": "stream",
     "text": [
      "(10-7j)\n",
      "(-10-2j)\n"
     ]
    }
   ],
   "source": [
    "a, b = q0\n",
    "print(a)\n",
    "print(b)"
   ]
  },
  {
   "cell_type": "code",
   "execution_count": 19,
   "id": "2fdba8a3-bd58-4f5e-b66d-c30fffbba6d1",
   "metadata": {},
   "outputs": [
    {
     "data": {
      "text/plain": [
       "Zi(Zi(Zi(10, -7), Zi(-10, -2)), Zi(Zi(-3, 6), Zi(9, -10)))"
      ]
     },
     "execution_count": 19,
     "metadata": {},
     "output_type": "execute_result"
    }
   ],
   "source": [
    "o0 = Zi(q0, q1)\n",
    "o0"
   ]
  },
  {
   "cell_type": "code",
   "execution_count": 20,
   "id": "120de9f1-4398-4dcc-ad40-a6af525488e4",
   "metadata": {},
   "outputs": [
    {
     "name": "stdout",
     "output_type": "stream",
     "text": [
      "(10-7i-10j-2k)\n",
      "(-3+6i+9j-10k)\n"
     ]
    }
   ],
   "source": [
    "a, b = o0\n",
    "print(a)\n",
    "print(b)"
   ]
  },
  {
   "cell_type": "code",
   "execution_count": 21,
   "id": "5589880a-8832-45cf-a8ce-863ec0541166",
   "metadata": {},
   "outputs": [
    {
     "name": "stdout",
     "output_type": "stream",
     "text": [
      "(10-7i-10j-2k)\n",
      "(-3+6i+9j-10k)\n"
     ]
    }
   ],
   "source": [
    "for x in o0:\n",
    "    print(x)"
   ]
  },
  {
   "cell_type": "code",
   "execution_count": null,
   "id": "340f8048-c5b7-4345-8b18-4c18b48afb44",
   "metadata": {},
   "outputs": [],
   "source": []
  },
  {
   "cell_type": "code",
   "execution_count": 22,
   "id": "1cc88b5f-4133-4ac2-8c1a-dbeaf31ae36f",
   "metadata": {},
   "outputs": [
    {
     "data": {
      "text/plain": [
       "2"
      ]
     },
     "execution_count": 22,
     "metadata": {},
     "output_type": "execute_result"
    }
   ],
   "source": [
    "z0.dim()"
   ]
  },
  {
   "cell_type": "code",
   "execution_count": 23,
   "id": "b2741807-ea19-47cb-84ac-5f0a6feeb7a2",
   "metadata": {},
   "outputs": [
    {
     "data": {
      "text/plain": [
       "4"
      ]
     },
     "execution_count": 23,
     "metadata": {},
     "output_type": "execute_result"
    }
   ],
   "source": [
    "q0.dim()"
   ]
  },
  {
   "cell_type": "code",
   "execution_count": 24,
   "id": "8400b551-f78d-4bcf-8dfa-95a33edc54d3",
   "metadata": {},
   "outputs": [
    {
     "data": {
      "text/plain": [
       "8"
      ]
     },
     "execution_count": 24,
     "metadata": {},
     "output_type": "execute_result"
    }
   ],
   "source": [
    "o0.dim()"
   ]
  },
  {
   "cell_type": "code",
   "execution_count": null,
   "id": "a594104a-8e75-47d6-b7d3-2d3db8738995",
   "metadata": {},
   "outputs": [],
   "source": []
  }
 ],
 "metadata": {
  "kernelspec": {
   "display_name": "Python [conda env:base] *",
   "language": "python",
   "name": "conda-base-py"
  },
  "language_info": {
   "codemirror_mode": {
    "name": "ipython",
    "version": 3
   },
   "file_extension": ".py",
   "mimetype": "text/x-python",
   "name": "python",
   "nbconvert_exporter": "python",
   "pygments_lexer": "ipython3",
   "version": "3.13.5"
  }
 },
 "nbformat": 4,
 "nbformat_minor": 5
}
