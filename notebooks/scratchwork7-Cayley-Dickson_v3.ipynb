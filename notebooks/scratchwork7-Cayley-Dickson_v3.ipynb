{
 "cells": [
  {
   "cell_type": "markdown",
   "id": "11951404-4d7b-4cd4-aa6e-3bca6abee1ce",
   "metadata": {},
   "source": [
    "# Cayley-Dickson Construction Applied to Zi Definition"
   ]
  },
  {
   "cell_type": "markdown",
   "id": "985bac8c",
   "metadata": {},
   "source": [
    "*Version 3*"
   ]
  },
  {
   "cell_type": "markdown",
   "id": "2f09c45e-9ab5-461b-8de8-fd74f6a0e16e",
   "metadata": {},
   "source": [
    "My original implementation of Gaussian integers included two classes, ``Zi`` and ``Qi``, where, for example, ``Zi(2, -7)`` represents a Gaussian integer, and ``Qi(-2/3, 4/5)`` represents a Gaussian rational.\n",
    "\n",
    "I'd like to extend this code to include integer-valued quaternions and octonions. An elegant way to accomplish that goal would be to use the Cayley-Dickson construction, where complex numbers can be constructed from pairs of real numbers, quaternions can be constructed from pairs of those pairs, and octonions constructed from pairs of those pairs of pairs.\n",
    "\n",
    "For more specifics, see my write-up about the Cayley-Dickson construction [at this link](https://abstract-algebra.readthedocs.io/en/latest/55_cayley_dickson.html) or the [Wikipedia page on this topic](https://en.wikipedia.org/wiki/Cayley%E2%80%93Dickson_construction)."
   ]
  },
  {
   "cell_type": "code",
   "execution_count": 1,
   "id": "1ebdcab3",
   "metadata": {},
   "outputs": [],
   "source": [
    "from cayley_dickson_alg import Zi, is_power_of_two, flatten, make_int_or_float\n",
    "from random import randint"
   ]
  },
  {
   "cell_type": "markdown",
   "id": "7300fef0-36d6-4e06-874f-81aec47273dd",
   "metadata": {},
   "source": [
    "## Examples"
   ]
  },
  {
   "cell_type": "code",
   "execution_count": 2,
   "id": "3afe1173",
   "metadata": {},
   "outputs": [],
   "source": [
    "from random import seed\n",
    "\n",
    "seed(42)  # Generate the same random sequence each time (for testing)"
   ]
  },
  {
   "cell_type": "code",
   "execution_count": 57,
   "id": "4a16a946",
   "metadata": {},
   "outputs": [],
   "source": [
    "def mult(x, y):\n",
    "    n = x.order()\n",
    "    m = y.order()\n",
    "    \n",
    "    # If n == m, then Cayley-Dickson multiplication\n",
    "    if n == m:\n",
    "        a, b, c, d = x.real, x.imag, y.real, y.imag\n",
    "        real_part = a * c - d.conjugate() * b\n",
    "        imag_part = d * a + b * c.conjugate()\n",
    "        return Zi(real_part, imag_part)\n",
    "\n",
    "    # Otherwise, scalar-like multiplication\n",
    "    elif m < n:\n",
    "        return Zi(x.real * y, x.imag * y)\n",
    "    elif m > n:\n",
    "        return Zi(x * y.real, x * y.imag)\n",
    "    else:\n",
    "        raise Exception(f\"Something terrible has gone wrong!\")"
   ]
  },
  {
   "cell_type": "code",
   "execution_count": 58,
   "id": "38630c95-721a-409a-9396-c3c75935a79f",
   "metadata": {},
   "outputs": [
    {
     "name": "stdout",
     "output_type": "stream",
     "text": [
      "(10-7i-10j-2k)\n",
      "(-3+6i+9j-10k)\n"
     ]
    }
   ],
   "source": [
    "# q0 = Zi.random_quaternion()\n",
    "q0 = Zi(Zi(10, -7), Zi(-10, -2))\n",
    "q1 = Zi(Zi(-3, 6), Zi(9, -10))\n",
    "print(q0)\n",
    "print(q1)"
   ]
  },
  {
   "cell_type": "code",
   "execution_count": 60,
   "id": "d8379c2b",
   "metadata": {},
   "outputs": [
    {
     "name": "stdout",
     "output_type": "stream",
     "text": [
      "q0 * q1 = Zi(Zi(82, 199), Zi(38, -97))\n",
      "mult(q0, q1) = Zi(Zi(82, 199), Zi(38, -97))\n",
      "Zi.hamilton_product(q0, q1) = Zi(Zi(82, 199), Zi(38, -97))\n"
     ]
    }
   ],
   "source": [
    "print(f\"{q0 * q1 = }\")\n",
    "# print(f\"{q1 * q0 = }\\n\")\n",
    "\n",
    "print(f\"{mult(q0, q1) = }\")\n",
    "print(f\"{Zi.hamilton_product(q0, q1) = }\")\n",
    "# print(f\"{mult(q1, q0) = }\")"
   ]
  },
  {
   "cell_type": "code",
   "execution_count": 61,
   "id": "acfadb8a",
   "metadata": {},
   "outputs": [
    {
     "data": {
      "text/plain": [
       "Zi(Zi(20, -14), Zi(-20, -4))"
      ]
     },
     "execution_count": 61,
     "metadata": {},
     "output_type": "execute_result"
    }
   ],
   "source": [
    "q0 * 2"
   ]
  },
  {
   "cell_type": "code",
   "execution_count": 62,
   "id": "6f591c56",
   "metadata": {},
   "outputs": [
    {
     "data": {
      "text/plain": [
       "Zi(Zi(20, -14), Zi(-20, -4))"
      ]
     },
     "execution_count": 62,
     "metadata": {},
     "output_type": "execute_result"
    }
   ],
   "source": [
    "q0 * Zi(Zi(2, 0), Zi(0, 0))"
   ]
  },
  {
   "cell_type": "code",
   "execution_count": 63,
   "id": "8122a761",
   "metadata": {},
   "outputs": [
    {
     "data": {
      "text/plain": [
       "Zi(Zi(-10, -20), Zi(-50, 17))"
      ]
     },
     "execution_count": 63,
     "metadata": {},
     "output_type": "execute_result"
    }
   ],
   "source": [
    "z0 = Zi(2, -3)\n",
    "q0 * z0"
   ]
  },
  {
   "cell_type": "code",
   "execution_count": 64,
   "id": "3b0ac084",
   "metadata": {},
   "outputs": [
    {
     "data": {
      "text/plain": [
       "Zi(Zi(2, -3), Zi(0, 0))"
      ]
     },
     "execution_count": 64,
     "metadata": {},
     "output_type": "execute_result"
    }
   ],
   "source": [
    "z0q = Zi(Zi(2, -3), Zi(0, 0))\n",
    "z0q"
   ]
  },
  {
   "cell_type": "code",
   "execution_count": 65,
   "id": "bdef2286",
   "metadata": {},
   "outputs": [
    {
     "data": {
      "text/plain": [
       "Zi(Zi(-1, -44), Zi(-14, -34))"
      ]
     },
     "execution_count": 65,
     "metadata": {},
     "output_type": "execute_result"
    }
   ],
   "source": [
    "q0 * z0q"
   ]
  },
  {
   "cell_type": "code",
   "execution_count": 47,
   "id": "e24dbdd4",
   "metadata": {},
   "outputs": [
    {
     "name": "stdout",
     "output_type": "stream",
     "text": [
      "q = Zi(Zi(10, -7), Zi(-10, -2))\n",
      "qre = Zi(10, -7)\n",
      "qim = Zi(-10, -2)\n",
      "\n",
      "qre * z0 = Zi(-1, -44)\n",
      "qim * z0 = Zi(-26, 26)\n"
     ]
    }
   ],
   "source": [
    "q = q0\n",
    "qre = q.real\n",
    "qim = q.imag\n",
    "print(f\"{q = }\")\n",
    "print(f\"{qre = }\")\n",
    "print(f\"{qim = }\\n\")\n",
    "print(f\"{qre * z0 = }\")\n",
    "print(f\"{qim * z0 = }\")"
   ]
  },
  {
   "cell_type": "code",
   "execution_count": null,
   "id": "7889ae6a",
   "metadata": {},
   "outputs": [],
   "source": []
  },
  {
   "cell_type": "code",
   "execution_count": null,
   "id": "3ab36d38",
   "metadata": {},
   "outputs": [],
   "source": []
  },
  {
   "cell_type": "code",
   "execution_count": 40,
   "id": "d0272b8b",
   "metadata": {},
   "outputs": [
    {
     "data": {
      "text/plain": [
       "Zi(Zi(-10, -20), Zi(-50, 17))"
      ]
     },
     "execution_count": 40,
     "metadata": {},
     "output_type": "execute_result"
    }
   ],
   "source": [
    "q0 * z0"
   ]
  },
  {
   "cell_type": "code",
   "execution_count": 41,
   "id": "59256060",
   "metadata": {},
   "outputs": [
    {
     "data": {
      "text/plain": [
       "Zi(Zi(-1, -44), Zi(-14, -34))"
      ]
     },
     "execution_count": 41,
     "metadata": {},
     "output_type": "execute_result"
    }
   ],
   "source": [
    "q0 * z0q"
   ]
  },
  {
   "cell_type": "code",
   "execution_count": 43,
   "id": "07b5fe35",
   "metadata": {},
   "outputs": [
    {
     "data": {
      "text/plain": [
       "Zi(Zi(-10, -8), Zi(-50, -25))"
      ]
     },
     "execution_count": 43,
     "metadata": {},
     "output_type": "execute_result"
    }
   ],
   "source": [
    "mult(z0, q0)"
   ]
  },
  {
   "cell_type": "code",
   "execution_count": null,
   "id": "98685838",
   "metadata": {},
   "outputs": [],
   "source": []
  }
 ],
 "metadata": {
  "kernelspec": {
   "display_name": "Python 3 (ipykernel)",
   "language": "python",
   "name": "python3"
  },
  "language_info": {
   "codemirror_mode": {
    "name": "ipython",
    "version": 3
   },
   "file_extension": ".py",
   "mimetype": "text/x-python",
   "name": "python",
   "nbconvert_exporter": "python",
   "pygments_lexer": "ipython3",
   "version": "3.11.5"
  }
 },
 "nbformat": 4,
 "nbformat_minor": 5
}
