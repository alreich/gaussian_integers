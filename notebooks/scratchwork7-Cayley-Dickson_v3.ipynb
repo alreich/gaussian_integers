{
 "cells": [
  {
   "cell_type": "markdown",
   "id": "11951404-4d7b-4cd4-aa6e-3bca6abee1ce",
   "metadata": {},
   "source": [
    "# Cayley-Dickson Construction Applied to Zi Definition"
   ]
  },
  {
   "cell_type": "markdown",
   "id": "985bac8c",
   "metadata": {},
   "source": [
    "*Version 3*"
   ]
  },
  {
   "cell_type": "markdown",
   "id": "2f09c45e-9ab5-461b-8de8-fd74f6a0e16e",
   "metadata": {},
   "source": [
    "My original implementation of Gaussian integers included two classes, ``Zi`` and ``Qi``, where, for example, ``Zi(2, -7)`` represents a Gaussian integer, and ``Qi(-2/3, 4/5)`` represents a Gaussian rational.\n",
    "\n",
    "I'd like to extend this code to include integer-valued quaternions and octonions. An elegant way to accomplish that goal would be to use the Cayley-Dickson construction, where complex numbers can be constructed from pairs of real numbers, quaternions can be constructed from pairs of those pairs, and octonions constructed from pairs of those pairs of pairs.\n",
    "\n",
    "For more specifics, see my write-up about the Cayley-Dickson construction [at this link](https://abstract-algebra.readthedocs.io/en/latest/55_cayley_dickson.html) or the [Wikipedia page on this topic](https://en.wikipedia.org/wiki/Cayley%E2%80%93Dickson_construction)."
   ]
  },
  {
   "cell_type": "code",
   "execution_count": 1,
   "id": "1ebdcab3",
   "metadata": {},
   "outputs": [],
   "source": [
    "from cayley_dickson_alg import Zi, is_power_of_two, flatten, make_int_or_float\n",
    "from random import randint"
   ]
  },
  {
   "cell_type": "code",
   "execution_count": 2,
   "id": "3afe1173",
   "metadata": {},
   "outputs": [],
   "source": [
    "from random import seed\n",
    "\n",
    "seed(42)  # Generate the same random sequence each time (for testing)"
   ]
  },
  {
   "cell_type": "markdown",
   "id": "7300fef0-36d6-4e06-874f-81aec47273dd",
   "metadata": {},
   "source": [
    "## Scalar Multiplication"
   ]
  },
  {
   "cell_type": "markdown",
   "id": "d5dabaae-bc13-400c-b296-69a8cd1f0be1",
   "metadata": {},
   "source": [
    "Let $r_x, c_x, q_x$ represent generic real, complex, and quaternion numbers.\n",
    "\n",
    "Scalar multiplication of a quaternion results in each of the 4 quaternion components being multiplied by the scalar: $q \\times r \\equiv (q_0r, q_1r, q_2r, q_3r)$. Similar for $r \\times q$.\n",
    "\n",
    "I'd like to define the multiplication of two Zi's, $\\alpha \\times \\beta$, of different orders, $n,m$, resp., where $n > m$, as a generalization of scalar multiplication.\n",
    "\n",
    "So, define recursively, $\\alpha \\times \\beta \\equiv \\text{Zi}(\\alpha_{\\text{real}} \\times \\beta, \\alpha_{\\text{imag}} \\times \\beta)$\n",
    "\n",
    "Note that, if $\\alpha$ is a quaternion and $\\beta$ is a complex, then $\\alpha \\times \\beta = \\beta \\times \\alpha$, because complex multiplication is commutative."
   ]
  },
  {
   "cell_type": "code",
   "execution_count": 4,
   "id": "c9437606-2017-45f5-84a3-fa655a1fc9e2",
   "metadata": {},
   "outputs": [],
   "source": [
    "def mult(alpha, beta):\n",
    "    n = alpha.order()\n",
    "    m = beta.order()\n",
    "    \n",
    "    # If n == m, then Cayley-Dickson multiplication\n",
    "    if n == m:\n",
    "        a, b, c, d = alpha.real, alpha.imag, beta.real, beta.imag\n",
    "        real_part = a * c - d.conjugate() * b\n",
    "        imag_part = d * a + b * c.conjugate()\n",
    "        return Zi(real_part, imag_part)\n",
    "\n",
    "    # Otherwise, scalar-like multiplication\n",
    "    elif m < n:\n",
    "        return Zi(alpha.real * beta, alpha.imag * beta)\n",
    "    elif m > n:\n",
    "        return Zi(alpha * beta.real, alpha * beta.imag)\n",
    "    else:\n",
    "        raise Exception(f\"Something has gone wrong!\")"
   ]
  },
  {
   "cell_type": "code",
   "execution_count": 5,
   "id": "38630c95-721a-409a-9396-c3c75935a79f",
   "metadata": {},
   "outputs": [
    {
     "name": "stdout",
     "output_type": "stream",
     "text": [
      "(10-7i-10j-2k)\n",
      "(-3+6i+9j-10k)\n"
     ]
    }
   ],
   "source": [
    "# q0 = Zi.random_quaternion()\n",
    "q0 = Zi(Zi(10, -7), Zi(-10, -2))\n",
    "q1 = Zi(Zi(-3, 6), Zi(9, -10))\n",
    "print(q0)\n",
    "print(q1)"
   ]
  },
  {
   "cell_type": "markdown",
   "id": "cfb0f7d2-9e74-4373-9482-1373653360e1",
   "metadata": {},
   "source": [
    "### Quaternion $\\times$ Quaternion\n",
    "\n",
    "Works as expected."
   ]
  },
  {
   "cell_type": "code",
   "execution_count": 6,
   "id": "bb7d8ca1",
   "metadata": {},
   "outputs": [
    {
     "name": "stdout",
     "output_type": "stream",
     "text": [
      "q0 * q1 = Zi(Zi(82, 199), Zi(38, -97))\n",
      "mult(q0, q1) = Zi(Zi(82, 199), Zi(38, -97))\n",
      "Zi.hamilton_product(q0, q1) = Zi(Zi(82, 199), Zi(38, -97))\n",
      "\n",
      "q1 * q0 = Zi(Zi(82, -37), Zi(202, -91))\n",
      "mult(q1, q0) = Zi(Zi(82, -37), Zi(202, -91))\n",
      "Zi.hamilton_product(q1, q0) = Zi(Zi(82, -37), Zi(202, -91))\n"
     ]
    }
   ],
   "source": [
    "print(f\"{q0 * q1 = }\")\n",
    "print(f\"{mult(q0, q1) = }\")\n",
    "print(f\"{Zi.hamilton_product(q0, q1) = }\\n\")\n",
    "\n",
    "print(f\"{q1 * q0 = }\")\n",
    "print(f\"{mult(q1, q0) = }\")\n",
    "print(f\"{Zi.hamilton_product(q1, q0) = }\")"
   ]
  },
  {
   "cell_type": "markdown",
   "id": "09023b18-7062-4f31-8e62-736aa2cec946",
   "metadata": {},
   "source": [
    "### Quaternion $\\times$ Real\n",
    "\n",
    "Works as expected"
   ]
  },
  {
   "cell_type": "code",
   "execution_count": 7,
   "id": "5594cb38-3033-49b1-8ea4-e74034045d73",
   "metadata": {},
   "outputs": [
    {
     "name": "stdout",
     "output_type": "stream",
     "text": [
      "q0 = Zi(Zi(10, -7), Zi(-10, -2))\n",
      "q0 * 2 = Zi(Zi(20, -14), Zi(-20, -4))\n"
     ]
    }
   ],
   "source": [
    "print(f\"{q0 = }\")\n",
    "print(f\"{q0 * 2 = }\")"
   ]
  },
  {
   "cell_type": "markdown",
   "id": "48d1d1a9-97f3-452d-b719-5633a4e56c77",
   "metadata": {},
   "source": [
    "Works the same with an quaternion equivalent to the scalar."
   ]
  },
  {
   "cell_type": "code",
   "execution_count": 8,
   "id": "17232922",
   "metadata": {},
   "outputs": [
    {
     "data": {
      "text/plain": [
       "Zi(Zi(20, -14), Zi(-20, -4))"
      ]
     },
     "execution_count": 8,
     "metadata": {},
     "output_type": "execute_result"
    }
   ],
   "source": [
    "q0 * Zi(Zi(2, 0), Zi(0, 0))"
   ]
  },
  {
   "cell_type": "markdown",
   "id": "52b6588a-a66d-4acf-88b4-5ebc0b9c533a",
   "metadata": {},
   "source": [
    "### Quaternion $\\times$ Complex"
   ]
  },
  {
   "cell_type": "code",
   "execution_count": 9,
   "id": "0fe39c12",
   "metadata": {},
   "outputs": [
    {
     "name": "stdout",
     "output_type": "stream",
     "text": [
      "z0 = Zi(2, -3)\n",
      "\n",
      "Original Method:\n",
      "q0 * z0 = Zi(Zi(-1, -44), Zi(-26, 26))\n",
      "\n",
      "New Method:\n",
      "mult(q0, z0) = Zi(Zi(-1, -44), Zi(-26, 26))\n",
      "q0.real * z0 = Zi(-1, -44)\n",
      "q0.imag * z0 = Zi(-26, 26)\n",
      "\n",
      "Original Method:\n",
      "z0 * q0 = Zi(Zi(-1, -44), Zi(-26, 26))\n",
      "\n",
      "New Method:\n",
      "mult(z0, q0) = Zi(Zi(-1, -44), Zi(-26, 26))\n",
      "z0 * q0.real = Zi(-1, -44)\n",
      "z0 * q0.imag = Zi(-26, 26)\n"
     ]
    }
   ],
   "source": [
    "z0 = Zi(2, -3)\n",
    "print(f\"{z0 = }\")\n",
    "print(\"\\nOriginal Method:\")\n",
    "print(f\"{q0 * z0 = }\")\n",
    "\n",
    "print(\"\\nNew Method:\")\n",
    "print(f\"{mult(q0, z0) = }\")\n",
    "print(f\"{q0.real * z0 = }\")\n",
    "print(f\"{q0.imag * z0 = }\")\n",
    "\n",
    "print(\"\\nOriginal Method:\")\n",
    "print(f\"{z0 * q0 = }\")\n",
    "\n",
    "print(\"\\nNew Method:\")\n",
    "print(f\"{mult(z0, q0) = }\")\n",
    "print(f\"{z0 * q0.real = }\")\n",
    "print(f\"{z0 * q0.imag = }\")"
   ]
  },
  {
   "cell_type": "code",
   "execution_count": null,
   "id": "0c3e0c47-e462-4b34-85e4-366b43108c52",
   "metadata": {},
   "outputs": [],
   "source": []
  }
 ],
 "metadata": {
  "kernelspec": {
   "display_name": "Python [conda env:base] *",
   "language": "python",
   "name": "conda-base-py"
  },
  "language_info": {
   "codemirror_mode": {
    "name": "ipython",
    "version": 3
   },
   "file_extension": ".py",
   "mimetype": "text/x-python",
   "name": "python",
   "nbconvert_exporter": "python",
   "pygments_lexer": "ipython3",
   "version": "3.13.5"
  }
 },
 "nbformat": 4,
 "nbformat_minor": 5
}
