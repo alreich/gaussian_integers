{
 "cells": [
  {
   "cell_type": "markdown",
   "id": "11951404-4d7b-4cd4-aa6e-3bca6abee1ce",
   "metadata": {},
   "source": [
    "# Cayley-Dickson Construction Applied to Zi Definition"
   ]
  },
  {
   "cell_type": "markdown",
   "id": "985bac8c",
   "metadata": {},
   "source": [
    "*Version 3*"
   ]
  },
  {
   "cell_type": "markdown",
   "id": "903c36a4",
   "metadata": {},
   "source": [
    "My original implementation of Gaussian integers included two classes, ``Zi`` and ``Qi``, where, for example, ``Zi(2, -7)`` represents a Gaussian integer, and ``Qi(-2/3, 4/5)`` represents a Gaussian rational.\n",
    "\n",
    "I'd like to extend this code to include integer-valued quaternions and octonions. An elegant way to accomplish that goal would be to use the Cayley-Dickson construction, where complex numbers can be constructed from pairs of real numbers, quaternions can be constructed from pairs of those pairs, and octonions constructed from pairs of those pairs of pairs."
   ]
  },
  {
   "cell_type": "markdown",
   "id": "d582233e",
   "metadata": {},
   "source": [
    "The [Cayley-Dickson construction](https://en.wikipedia.org/wiki/Cayley%E2%80%93Dickson_construction) is a process by which one can use a recursive definition of conjugation together with a recursive definition of multiplication to use...\n",
    "* pairs of real numbers ($\\mathbb{R}$) to create complex numbers,\n",
    "* pairs of complex numbers ($\\mathbb{C}$) to create quaternions,\n",
    "* pairs of quaternions ($\\mathbb{H}$) to create octonions,\n",
    "* pairs of octonions ($\\mathbb{O}$) to create sedenions ($\\mathbb{S}$), and so on."
   ]
  },
  {
   "cell_type": "markdown",
   "id": "2f09c45e-9ab5-461b-8de8-fd74f6a0e16e",
   "metadata": {},
   "source": [
    "For more specifics, see my write-up about the Cayley-Dickson construction [at this link](https://abstract-algebra.readthedocs.io/en/latest/55_cayley_dickson.html)."
   ]
  },
  {
   "cell_type": "code",
   "execution_count": 2,
   "id": "1ebdcab3",
   "metadata": {},
   "outputs": [
    {
     "ename": "ModuleNotFoundError",
     "evalue": "No module named 'src.generic_utils'",
     "output_type": "error",
     "traceback": [
      "\u001b[0;31m---------------------------------------------------------------------------\u001b[0m",
      "\u001b[0;31mModuleNotFoundError\u001b[0m                       Traceback (most recent call last)",
      "Cell \u001b[0;32mIn[2], line 1\u001b[0m\n\u001b[0;32m----> 1\u001b[0m \u001b[38;5;28;01mfrom\u001b[39;00m \u001b[38;5;21;01mcayley_dickson_alg\u001b[39;00m \u001b[38;5;28;01mimport\u001b[39;00m Zi\n\u001b[1;32m      2\u001b[0m \u001b[38;5;28;01mfrom\u001b[39;00m \u001b[38;5;21;01mrandom\u001b[39;00m \u001b[38;5;28;01mimport\u001b[39;00m randint\n",
      "File \u001b[0;32m~/Documents/Python/github/myrepos/gaussian_integers/src/cayley_dickson_alg.py:8\u001b[0m\n\u001b[1;32m      5\u001b[0m \u001b[38;5;28;01mfrom\u001b[39;00m \u001b[38;5;21;01mnumbers\u001b[39;00m \u001b[38;5;28;01mimport\u001b[39;00m Number\n\u001b[1;32m      6\u001b[0m \u001b[38;5;28;01mimport\u001b[39;00m \u001b[38;5;21;01mregex\u001b[39;00m\n\u001b[0;32m----> 8\u001b[0m \u001b[38;5;28;01mfrom\u001b[39;00m \u001b[38;5;21;01msrc\u001b[39;00m\u001b[38;5;21;01m.\u001b[39;00m\u001b[38;5;21;01mgeneric_utils\u001b[39;00m \u001b[38;5;28;01mimport\u001b[39;00m flatten, is_power_of_two, make_int_or_float, SetClassVariable\n\u001b[1;32m     10\u001b[0m \u001b[38;5;66;03m# def flatten(list_of_lists):\u001b[39;00m\n\u001b[1;32m     11\u001b[0m \u001b[38;5;66;03m#     \"\"\"Return a flat list, given a list of lists...\"\"\"\u001b[39;00m\n\u001b[1;32m     12\u001b[0m \u001b[38;5;66;03m#     if isinstance(list_of_lists[0], list):\u001b[39;00m\n\u001b[0;32m   (...)\u001b[0m\n\u001b[1;32m     49\u001b[0m \u001b[38;5;66;03m#     def __exit__(self, exc_type, exc_val, exc_tb):\u001b[39;00m\n\u001b[1;32m     50\u001b[0m \u001b[38;5;66;03m#         self.get_set_method(self.original_value)\u001b[39;00m\n\u001b[1;32m     52\u001b[0m \u001b[38;5;28;01mclass\u001b[39;00m \u001b[38;5;21;01mZi\u001b[39;00m:\n",
      "\u001b[0;31mModuleNotFoundError\u001b[0m: No module named 'src.generic_utils'"
     ]
    }
   ],
   "source": [
    "from cayley_dickson_alg import Zi\n",
    "from random import randint"
   ]
  },
  {
   "cell_type": "code",
   "execution_count": null,
   "id": "3afe1173",
   "metadata": {},
   "outputs": [],
   "source": [
    "from random import seed\n",
    "\n",
    "seed(42)  # Generate the same random sequence each time (for testing)"
   ]
  },
  {
   "cell_type": "markdown",
   "id": "7300fef0-36d6-4e06-874f-81aec47273dd",
   "metadata": {},
   "source": [
    "## Scalar Multiplication"
   ]
  },
  {
   "cell_type": "markdown",
   "id": "2749f445",
   "metadata": {},
   "source": [
    "Let $r, c, h$ with subscripts represent generic real, complex, and quaternion numbers.\n",
    "\n",
    "Let juxtapostion or $\\cdot$ denote multiplication of two quantities of the same type (real-real, complex-complex, etc.), and let $\\circ$ denote the multiplication of a higher dimensional quantity by a lower dimensional quantity (a *scalar*)."
   ]
  },
  {
   "cell_type": "markdown",
   "id": "d4a7731a",
   "metadata": {},
   "source": [
    "### Casting to a Higher Dimensional Type"
   ]
  },
  {
   "cell_type": "markdown",
   "id": "33f31dcc",
   "metadata": {},
   "source": [
    "There is no standard mathematical notation for what programmers refere to as *casting*, so we'll use the symbol $\\uparrow$ together with the type being cast *to*, which should always have a higher dimension than the type being cast *from* (hence the up arrow).\n",
    "\n",
    "So, for example, if $a \\in \\mathbb{R}$ and $b \\in \\mathbb{C}$, then for example:\n",
    "* $a \\uparrow \\mathbb{C} \\equiv (a,0)$\n",
    "* $a \\uparrow \\mathbb{H} \\equiv (a,0,0,0) \\equiv ((a,0),(0,0))$\n",
    "* $b \\uparrow \\mathbb{H} \\equiv (b, (0,0))$"
   ]
  },
  {
   "cell_type": "markdown",
   "id": "c9396f27",
   "metadata": {},
   "source": [
    "### Multiplying Each Component by the Scalar"
   ]
  },
  {
   "cell_type": "markdown",
   "id": "0658eec4",
   "metadata": {},
   "source": [
    "One approach (the typical approach) to scalar multiplication of a complex number or quaternion by a real number results in each of the components of the complex or quaternion being multiplied by the same scalar.\n",
    "\n",
    "For example, if $a, r_0, r_1, r_2, r_3 \\in \\mathbb{R}$ and $h = (r_0, r_1, r_2, r_3) \\in \\mathbb{H}$, then $a \\circ h \\equiv (ar_0, ar_1, ar_2, ar_3) \\in \\mathbb{H}$.\n",
    "\n",
    "Similar for $h \\circ a$, since multiplication in $\\mathbb{R}$ is commutative."
   ]
  },
  {
   "cell_type": "markdown",
   "id": "d5dabaae-bc13-400c-b296-69a8cd1f0be1",
   "metadata": {},
   "source": [
    "Generalizing this scalar multiplication approach to the hierarchically defined Zi's, we need to define the multiplication of two Zi's, $\\alpha \\times \\beta$, of different orders, $n,m$, resp., where $n > m$, as a generalization of scalar multiplication.\n",
    "\n",
    "This can be done by defining, recursively, $\\alpha \\times \\beta \\equiv \\text{Zi}(\\alpha_{\\text{real}} \\times \\beta, \\alpha_{\\text{imag}} \\times \\beta)$\n",
    "\n",
    "Note that, if $\\alpha \\in \\mathbb{H}$ and $\\beta \\in \\mathbb{C}$, then even though multiplication in $\\mathbb{H}$ is not commutative, $\\alpha \\circ \\beta = \\beta \\circ \\alpha$, because multiplication in $\\mathbb{C}$ is commutative."
   ]
  },
  {
   "cell_type": "markdown",
   "id": "83684446",
   "metadata": {},
   "source": [
    "Note that, if the scalar is first *cast* into a quantity of the same type as the higher dimensional quantity, then the result is the same.\n",
    "\n",
    "For example, $a \\circ h = (a,0,0,0) \\cdot h \\in \\mathbb{H}$."
   ]
  },
  {
   "cell_type": "code",
   "execution_count": null,
   "id": "529fe735",
   "metadata": {},
   "outputs": [],
   "source": []
  },
  {
   "cell_type": "code",
   "execution_count": null,
   "id": "725196b8",
   "metadata": {},
   "outputs": [],
   "source": []
  },
  {
   "cell_type": "code",
   "execution_count": null,
   "id": "95455d89",
   "metadata": {},
   "outputs": [],
   "source": []
  },
  {
   "cell_type": "code",
   "execution_count": null,
   "id": "6f77b168-7944-4f67-8539-e5b59cdb9f5c",
   "metadata": {},
   "outputs": [],
   "source": [
    "Zi.cast(2, 1)"
   ]
  },
  {
   "cell_type": "code",
   "execution_count": null,
   "id": "c774c142-4442-4ee2-86db-3f9058c37a0d",
   "metadata": {},
   "outputs": [],
   "source": [
    "try:\n",
    "    Zi.cast(Zi(0, 1), -1)\n",
    "except Exception as err:\n",
    "    print(err)"
   ]
  },
  {
   "cell_type": "code",
   "execution_count": null,
   "id": "a697577e-2376-4901-aaab-580965fc5245",
   "metadata": {},
   "outputs": [],
   "source": [
    "Zi(2, 3).cast(1)"
   ]
  },
  {
   "cell_type": "code",
   "execution_count": null,
   "id": "55a8d28f-a9d5-4e6f-b594-2c85bdff84ff",
   "metadata": {},
   "outputs": [],
   "source": [
    "Zi(2, 3).cast(2)"
   ]
  },
  {
   "cell_type": "code",
   "execution_count": null,
   "id": "395de658-fdf0-49f8-9eeb-0456934a308b",
   "metadata": {},
   "outputs": [],
   "source": [
    "Zi(2, 3).cast(3)"
   ]
  },
  {
   "cell_type": "code",
   "execution_count": null,
   "id": "38630c95-721a-409a-9396-c3c75935a79f",
   "metadata": {},
   "outputs": [],
   "source": [
    "# q0 = Zi.random_quaternion()\n",
    "q0 = Zi(Zi(10, -7), Zi(-10, -2))\n",
    "q1 = Zi(Zi(-3, 6), Zi(9, -10))\n",
    "print(q0)\n",
    "print(q1)"
   ]
  },
  {
   "cell_type": "markdown",
   "id": "cfb0f7d2-9e74-4373-9482-1373653360e1",
   "metadata": {},
   "source": [
    "### Quaternion $\\times$ Quaternion"
   ]
  },
  {
   "cell_type": "code",
   "execution_count": null,
   "id": "bb7d8ca1",
   "metadata": {},
   "outputs": [],
   "source": [
    "print(f\"{q0 * q1 = }\")\n",
    "# print(f\"{mult1(q0, q1) = }\")\n",
    "print(f\"{Zi.hamilton_product(q0, q1) = }\\n\")\n",
    "\n",
    "print(f\"{q1 * q0 = }\")\n",
    "# print(f\"{mult1(q1, q0) = }\")\n",
    "print(f\"{Zi.hamilton_product(q1, q0) = }\")"
   ]
  },
  {
   "cell_type": "markdown",
   "id": "09023b18-7062-4f31-8e62-736aa2cec946",
   "metadata": {},
   "source": [
    "### Quaternion $\\times$ Real"
   ]
  },
  {
   "cell_type": "code",
   "execution_count": null,
   "id": "5594cb38-3033-49b1-8ea4-e74034045d73",
   "metadata": {},
   "outputs": [],
   "source": [
    "print(f\"{q0 = }\")\n",
    "print(f\"{q0 * 2 = }\")"
   ]
  },
  {
   "cell_type": "markdown",
   "id": "48d1d1a9-97f3-452d-b719-5633a4e56c77",
   "metadata": {},
   "source": [
    "Works the same with an quaternion equivalent to the scalar."
   ]
  },
  {
   "cell_type": "code",
   "execution_count": null,
   "id": "17232922",
   "metadata": {},
   "outputs": [],
   "source": [
    "q0 * Zi(Zi(2, 0), Zi(0, 0))"
   ]
  },
  {
   "cell_type": "code",
   "execution_count": null,
   "id": "0804d137-ca3e-4a0b-9b74-e82444b9a30c",
   "metadata": {},
   "outputs": [],
   "source": [
    "q0 * Zi.cast(2, q0.order())"
   ]
  },
  {
   "cell_type": "markdown",
   "id": "52b6588a-a66d-4acf-88b4-5ebc0b9c533a",
   "metadata": {},
   "source": [
    "### Quaternion $\\times$ Complex"
   ]
  },
  {
   "cell_type": "code",
   "execution_count": null,
   "id": "0fe39c12",
   "metadata": {},
   "outputs": [],
   "source": [
    "z0 = Zi(2, -3)\n",
    "print(f\"{z0 = }\\n\")\n",
    "\n",
    "print(f\"{q0 * z0 = }\")\n",
    "print(f\"{q0.real * z0 = }\")\n",
    "print(f\"{q0.imag * z0 = }\\n\")\n",
    "\n",
    "print(f\"{z0 * q0 = }\")\n",
    "print(f\"{z0 * q0.real = }\")\n",
    "print(f\"{z0 * q0.imag = }\")"
   ]
  },
  {
   "cell_type": "markdown",
   "id": "2599b883",
   "metadata": {},
   "source": [
    "### Scalar Multiplication FALSE"
   ]
  },
  {
   "cell_type": "code",
   "execution_count": null,
   "id": "2f20bcc1",
   "metadata": {},
   "outputs": [],
   "source": [
    "Zi.scalar_mult()"
   ]
  },
  {
   "cell_type": "code",
   "execution_count": null,
   "id": "03f877c9",
   "metadata": {},
   "outputs": [],
   "source": [
    "Zi.scalar_mult(False)"
   ]
  },
  {
   "cell_type": "code",
   "execution_count": null,
   "id": "edf90f8c",
   "metadata": {},
   "outputs": [],
   "source": [
    "Zi.scalar_mult()"
   ]
  },
  {
   "cell_type": "code",
   "execution_count": null,
   "id": "94e00cd9",
   "metadata": {
    "scrolled": true
   },
   "outputs": [],
   "source": [
    "z0 = Zi(2, -3)\n",
    "print(f\"{z0 = }\")\n",
    "print(f\"{q0.order() = }\")\n",
    "print(f\"{z0.cast(q0.order()) = }\\n\")\n",
    "\n",
    "print(f\"{q0 * z0 = }\")\n",
    "print(f\"{q0 * z0.cast(q0.order()) = }\\n\")\n",
    "\n",
    "print(f\"{z0 * q0 = }\")\n",
    "print(f\"{z0.cast(q0.order()) * q0 = }\")"
   ]
  },
  {
   "cell_type": "code",
   "execution_count": null,
   "id": "b25a6ccb",
   "metadata": {},
   "outputs": [],
   "source": [
    "Zi.scalar_mult(True)"
   ]
  },
  {
   "cell_type": "markdown",
   "id": "5e4bc64b",
   "metadata": {},
   "source": [
    "**Context Class for Scalar Multiplication**"
   ]
  },
  {
   "cell_type": "code",
   "execution_count": null,
   "id": "f531d3b1",
   "metadata": {},
   "outputs": [],
   "source": [
    "Zi.scalar_mult(True)\n",
    "\n",
    "print(f\"Initial value of scalar_mult: {Zi.scalar_mult()}\")\n",
    "\n",
    "with SetScalarMult(False):\n",
    "    print(f\"Inside 'with', scalar_mult is: {Zi.scalar_mult()}\")\n",
    "\n",
    "print(f\"Outside 'with', scalar_mult is: {Zi.scalar_mult()}\")"
   ]
  },
  {
   "cell_type": "markdown",
   "id": "19e70cbb",
   "metadata": {},
   "source": [
    "## Generic Context Class (written by Google AI)"
   ]
  },
  {
   "cell_type": "markdown",
   "id": "aaa02a9f",
   "metadata": {},
   "source": [
    "Here's the prompt used to generate this code:\n",
    "\n",
    "*\"Generate Python code that creates a class to be used as a context that, on entry, saves the current value of a class variable called foo and then sets it to a new value. Then on exit, it sets the class variable's value back to the value that was saved on entry.\"*"
   ]
  },
  {
   "cell_type": "markdown",
   "id": "817bf222",
   "metadata": {},
   "source": [
    "### Explanation of the code\n",
    "\n",
    "1. ContextClass: This is a simple class used for demonstration purposes. It contains the class variable foo that will be temporarily modified.\n",
    "\n",
    "2. SetClassVariable.__init__(...):\n",
    "    1. This method initializes the context manager.\n",
    "    1. It takes the target_class whose variable will be changed, the variable_name as a string, and the new_value to set.\n",
    "    1. It also initializes self.original_value to None as a placeholder.\n",
    "\n",
    "3. SetClassVariable.__enter__(...):\n",
    "    1. getattr(self.target_class, self.variable_name): This function retrieves the current value of the specified variable from the target class.\n",
    "    1. self.original_value = ...: The retrieved value is saved to an instance variable self.original_value. This is crucial for restoring the state later.\n",
    "    1. setattr(self.target_class, self.variable_name, self.new_value): This function sets the new value for the specified variable on the target class.\n",
    "\n",
    "4. SetClassVariable.__exit__(...):\n",
    "    1. This method is automatically called when the with block is finished. The exc_type, exc_val, and exc_tb arguments are used for exception handling, but they are not needed for this simple restoration task.\n",
    "    1. setattr(self.target_class, self.variable_name, self.original_value): This uses the saved original_value to set the variable back to its initial state, ensuring the class is left clean. "
   ]
  },
  {
   "cell_type": "code",
   "execution_count": null,
   "id": "c48ec38d",
   "metadata": {},
   "outputs": [],
   "source": [
    "class ContextClass:\n",
    "    \"\"\"A sample class with a class variable 'foo'.\"\"\"\n",
    "    foo = \"original\"\n",
    "\n",
    "\n",
    "class SetClassVariable:\n",
    "    \"\"\"\n",
    "    A context manager to temporarily set a new value for a class variable.\n",
    "\n",
    "    On entry, it saves the original value of the target class variable\n",
    "    and sets it to a new value.\n",
    "    On exit, it restores the original value.\n",
    "    \"\"\"\n",
    "    def __init__(self, target_class, variable_name, new_value):\n",
    "        \"\"\"\n",
    "        Initializes the context manager.\n",
    "\n",
    "        Args:\n",
    "            target_class: The class containing the variable to be modified.\n",
    "            variable_name: The name of the class variable (e.g., 'foo').\n",
    "            new_value: The temporary new value to set.\n",
    "        \"\"\"\n",
    "        self.target_class = target_class\n",
    "        self.variable_name = variable_name\n",
    "        self.new_value = new_value\n",
    "        self.original_value = None\n",
    "\n",
    "    def __enter__(self):\n",
    "        \"\"\"\n",
    "        Saves the original variable value and sets the new value.\n",
    "        \"\"\"\n",
    "        self.original_value = getattr(self.target_class, self.variable_name)\n",
    "        setattr(self.target_class, self.variable_name, self.new_value)\n",
    "\n",
    "    def __exit__(self, exc_type, exc_val, exc_tb):\n",
    "        \"\"\"\n",
    "        Restores the original variable value on exiting the context.\n",
    "        \"\"\"\n",
    "        setattr(self.target_class, self.variable_name, self.original_value)\n",
    "\n",
    "\n",
    "# --- Example Usage ---\n",
    "print(f\"Initial value of ContextClass.foo: '{ContextClass.foo}'\")\n",
    "\n",
    "# Use the context manager to temporarily change the class variable\n",
    "with SetClassVariable(ContextClass, 'foo', 'new_value_in_context'):\n",
    "    print(f\"Inside 'with' block, ContextClass.foo is: '{ContextClass.foo}'\")\n",
    "    # The variable is set to the new value within this block\n",
    "\n",
    "# Outside the 'with' block, the variable is restored to its original value\n",
    "print(f\"Outside 'with' block, ContextClass.foo is: '{ContextClass.foo}'\")\n"
   ]
  },
  {
   "cell_type": "code",
   "execution_count": null,
   "id": "633172f7",
   "metadata": {},
   "outputs": [],
   "source": []
  }
 ],
 "metadata": {
  "kernelspec": {
   "display_name": "Python 3 (ipykernel)",
   "language": "python",
   "name": "python3"
  },
  "language_info": {
   "codemirror_mode": {
    "name": "ipython",
    "version": 3
   },
   "file_extension": ".py",
   "mimetype": "text/x-python",
   "name": "python",
   "nbconvert_exporter": "python",
   "pygments_lexer": "ipython3",
   "version": "3.11.5"
  }
 },
 "nbformat": 4,
 "nbformat_minor": 5
}
