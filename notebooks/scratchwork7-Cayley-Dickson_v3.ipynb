{
 "cells": [
  {
   "cell_type": "markdown",
   "id": "11951404-4d7b-4cd4-aa6e-3bca6abee1ce",
   "metadata": {},
   "source": [
    "# Cayley-Dickson Construction Applied to Zi Definition"
   ]
  },
  {
   "cell_type": "markdown",
   "id": "985bac8c",
   "metadata": {},
   "source": [
    "*Version 3*"
   ]
  },
  {
   "cell_type": "markdown",
   "id": "2f09c45e-9ab5-461b-8de8-fd74f6a0e16e",
   "metadata": {},
   "source": [
    "My original implementation of Gaussian integers included two classes, ``Zi`` and ``Qi``, where, for example, ``Zi(2, -7)`` represents a Gaussian integer, and ``Qi(-2/3, 4/5)`` represents a Gaussian rational.\n",
    "\n",
    "I'd like to extend this code to include integer-valued quaternions and octonions. An elegant way to accomplish that goal would be to use the Cayley-Dickson construction, where complex numbers can be constructed from pairs of real numbers, quaternions can be constructed from pairs of those pairs, and octonions constructed from pairs of those pairs of pairs.\n",
    "\n",
    "For more specifics, see my write-up about the Cayley-Dickson construction [at this link](https://abstract-algebra.readthedocs.io/en/latest/55_cayley_dickson.html) or the [Wikipedia page on this topic](https://en.wikipedia.org/wiki/Cayley%E2%80%93Dickson_construction)."
   ]
  },
  {
   "cell_type": "code",
   "execution_count": 1,
   "id": "1ebdcab3",
   "metadata": {},
   "outputs": [],
   "source": [
    "from cayley_dickson_alg import Zi, is_power_of_two, flatten, make_int_or_float\n",
    "from random import randint"
   ]
  },
  {
   "cell_type": "code",
   "execution_count": 2,
   "id": "ddd933ad-e12b-44bb-ae39-92ce4007849b",
   "metadata": {},
   "outputs": [
    {
     "data": {
      "text/plain": [
       "Zi(0, 0)"
      ]
     },
     "execution_count": 2,
     "metadata": {},
     "output_type": "execute_result"
    }
   ],
   "source": [
    "Zi()"
   ]
  },
  {
   "cell_type": "code",
   "execution_count": 3,
   "id": "cf847feb-fad1-4da4-b857-71b861858678",
   "metadata": {},
   "outputs": [
    {
     "name": "stdout",
     "output_type": "stream",
     "text": [
      "0j\n"
     ]
    }
   ],
   "source": [
    "print(Zi())"
   ]
  },
  {
   "cell_type": "code",
   "execution_count": 4,
   "id": "e1163966",
   "metadata": {},
   "outputs": [
    {
     "data": {
      "text/plain": [
       "Zi(1, 0)"
      ]
     },
     "execution_count": 4,
     "metadata": {},
     "output_type": "execute_result"
    }
   ],
   "source": [
    "Zi(1)"
   ]
  },
  {
   "cell_type": "code",
   "execution_count": 5,
   "id": "bf3a6e3f-914c-4844-9450-5e1fbebbb3be",
   "metadata": {},
   "outputs": [
    {
     "name": "stdout",
     "output_type": "stream",
     "text": [
      "(1+0j)\n"
     ]
    }
   ],
   "source": [
    "print(Zi(1))"
   ]
  },
  {
   "cell_type": "code",
   "execution_count": 6,
   "id": "4136e233",
   "metadata": {},
   "outputs": [
    {
     "data": {
      "text/plain": [
       "Zi(1, 2)"
      ]
     },
     "execution_count": 6,
     "metadata": {},
     "output_type": "execute_result"
    }
   ],
   "source": [
    "Zi(1, 2)"
   ]
  },
  {
   "cell_type": "code",
   "execution_count": 7,
   "id": "383577e3",
   "metadata": {},
   "outputs": [
    {
     "data": {
      "text/plain": [
       "Zi(2, 2)"
      ]
     },
     "execution_count": 7,
     "metadata": {},
     "output_type": "execute_result"
    }
   ],
   "source": [
    "Zi(1.9, 2.1)"
   ]
  },
  {
   "cell_type": "code",
   "execution_count": 8,
   "id": "cb04a9a1",
   "metadata": {},
   "outputs": [
    {
     "data": {
      "text/plain": [
       "Zi(2, 2)"
      ]
     },
     "execution_count": 8,
     "metadata": {},
     "output_type": "execute_result"
    }
   ],
   "source": [
    "Zi((1.9+2.1j))"
   ]
  },
  {
   "cell_type": "code",
   "execution_count": 9,
   "id": "cde208ce-3df3-4028-8975-af4ff33d832d",
   "metadata": {},
   "outputs": [
    {
     "data": {
      "text/plain": [
       "Zi(0, -1)"
      ]
     },
     "execution_count": 9,
     "metadata": {},
     "output_type": "execute_result"
    }
   ],
   "source": [
    "Zi((-1j))"
   ]
  },
  {
   "cell_type": "code",
   "execution_count": 10,
   "id": "5be9e09d",
   "metadata": {},
   "outputs": [
    {
     "data": {
      "text/plain": [
       "Zi(1, 2)"
      ]
     },
     "execution_count": 10,
     "metadata": {},
     "output_type": "execute_result"
    }
   ],
   "source": [
    "Zi(Zi(1, 2))"
   ]
  },
  {
   "cell_type": "code",
   "execution_count": 11,
   "id": "7f8ba615",
   "metadata": {},
   "outputs": [
    {
     "name": "stdout",
     "output_type": "stream",
     "text": [
      "quat = Zi(Zi(0, 0), Zi(1, 0))\n",
      "quat_str = '(+1j)'\n",
      "Zi.quaternion(quat_str) = Zi(Zi(0, 0), Zi(1, 0))\n",
      "quat.to_array() = [[0, 0], [1, 0]]\n"
     ]
    }
   ],
   "source": [
    "quat = Zi(Zi(), Zi(1))\n",
    "\n",
    "print(f\"{quat = }\")\n",
    "quat_str = str(quat)\n",
    "print(f\"{quat_str = }\")\n",
    "# quat_from_str = Zi.quaternion(quat_str)\n",
    "print(f\"{Zi.quaternion(quat_str) = }\")\n",
    "print(f\"{quat.to_array() = }\")"
   ]
  },
  {
   "cell_type": "code",
   "execution_count": 12,
   "id": "3bd568be",
   "metadata": {},
   "outputs": [
    {
     "data": {
      "text/plain": [
       "Zi(Zi(3, 4), Zi(1, 2))"
      ]
     },
     "execution_count": 12,
     "metadata": {},
     "output_type": "execute_result"
    }
   ],
   "source": [
    "Zi((3+4j), (1+2j))"
   ]
  },
  {
   "cell_type": "code",
   "execution_count": 13,
   "id": "30307b26",
   "metadata": {},
   "outputs": [
    {
     "data": {
      "text/plain": [
       "Zi(Zi(Zi(0, 0), Zi(1, 0)), Zi(Zi(3, 4), Zi(1, 2)))"
      ]
     },
     "execution_count": 13,
     "metadata": {},
     "output_type": "execute_result"
    }
   ],
   "source": [
    "Zi(Zi(Zi(0), Zi(1)), Zi(Zi(3, 4), Zi(1, 2)))"
   ]
  },
  {
   "cell_type": "code",
   "execution_count": 14,
   "id": "5c030f52",
   "metadata": {},
   "outputs": [
    {
     "data": {
      "text/plain": [
       "Zi(Zi(Zi(0, 0), Zi(1, 0)), Zi(Zi(3, 4), Zi(1, 2)))"
      ]
     },
     "execution_count": 14,
     "metadata": {},
     "output_type": "execute_result"
    }
   ],
   "source": [
    "Zi(Zi(Zi(0), Zi(1)), Zi(Zi(3, 4), (1+2j)))"
   ]
  },
  {
   "cell_type": "markdown",
   "id": "7300fef0-36d6-4e06-874f-81aec47273dd",
   "metadata": {},
   "source": [
    "## Examples"
   ]
  },
  {
   "cell_type": "code",
   "execution_count": 15,
   "id": "3afe1173",
   "metadata": {},
   "outputs": [],
   "source": [
    "from random import seed\n",
    "\n",
    "seed(42)  # Generate the same random sequence each time (for testing)"
   ]
  },
  {
   "cell_type": "code",
   "execution_count": 16,
   "id": "e7457068-883a-4072-a36e-1e05855e9b31",
   "metadata": {},
   "outputs": [
    {
     "name": "stdout",
     "output_type": "stream",
     "text": [
      "zs = [Zi(10, -7), Zi(-10, -2), Zi(-3, -3), Zi(-6, -7)]\n",
      "z1 = Zi(10, -7) = (10-7j)\n",
      "z2 = Zi(-10, -2) = (-10-2j)\n",
      "z3 = Zi(-3, -3) = (-3-3j)\n",
      "z4 = Zi(-6, -7) = (-6-7j)\n"
     ]
    }
   ],
   "source": [
    "n = 4\n",
    "size = 10\n",
    "zs = [Zi.random(size) for i in range(n)]\n",
    "z1 = zs[0]\n",
    "z2 = zs[1]\n",
    "z3 = zs[2]\n",
    "z4 = zs[3]\n",
    "print(f\"{zs = }\")\n",
    "print(f\"{z1 = } = {z1}\")\n",
    "print(f\"{z2 = } = {z2}\")\n",
    "print(f\"{z3 = } = {z3}\")\n",
    "print(f\"{z4 = } = {z4}\")"
   ]
  },
  {
   "cell_type": "code",
   "execution_count": 17,
   "id": "9b2664b1",
   "metadata": {},
   "outputs": [
    {
     "name": "stdout",
     "output_type": "stream",
     "text": [
      "z1 = Zi(10, -7) = (10-7j)\n",
      "-z1 = Zi(-10, 7) = (-10+7j)\n",
      "z1.real = 10\n",
      "z1.imag = -7\n",
      "z1.conjugate() = Zi(10, 7) = (10+7j)\n",
      "z1.norm = 149\n",
      "z1.order() = 1\n",
      "z1.is_complex() = True\n"
     ]
    }
   ],
   "source": [
    "print(f\"{z1 = } = {z1}\")\n",
    "print(f\"{-z1 = } = {-z1}\")\n",
    "print(f\"{z1.real = }\")\n",
    "print(f\"{z1.imag = }\")\n",
    "print(f\"{z1.conjugate() = } = {z1.conjugate()}\")\n",
    "print(f\"{z1.norm = }\")\n",
    "print(f\"{z1.order() = }\")\n",
    "print(f\"{z1.is_complex() = }\")"
   ]
  },
  {
   "cell_type": "raw",
   "id": "5ac8ce8c",
   "metadata": {},
   "source": [
    "print(f\"{z1 / 2 = }\")\n",
    "print(f\"{2 / z1 = }\")\n",
    "print(f\"{(z1 / 2) * (2 / z1) = }\")\n",
    "print(f\"{z1.inverse() = }\")\n",
    "print(f\"{z1 * z1.inverse() = }\")"
   ]
  },
  {
   "cell_type": "code",
   "execution_count": 18,
   "id": "ffff863d-a1c8-4f23-9874-f5a66a8346c9",
   "metadata": {},
   "outputs": [
    {
     "name": "stdout",
     "output_type": "stream",
     "text": [
      "z1 = Zi(10, -7)\n",
      "z2 = Zi(-10, -2)\n",
      "z1 + z2 = Zi(0, -9)\n",
      "z1 - z2 = Zi(20, -5)\n"
     ]
    }
   ],
   "source": [
    "print(f\"{z1 = }\")\n",
    "print(f\"{z2 = }\")\n",
    "print(f\"{z1 + z2 = }\")\n",
    "print(f\"{z1 - z2 = }\")"
   ]
  },
  {
   "cell_type": "markdown",
   "id": "37cf4b7b-b29a-4681-a1a3-4542847a2b14",
   "metadata": {},
   "source": [
    "For comparisons, create complex numbers corresponding to z1, z2, z3, and z4"
   ]
  },
  {
   "cell_type": "raw",
   "id": "ee1607a1",
   "metadata": {},
   "source": [
    "c1 = z1.make_complex\n",
    "c2 = z2.make_complex\n",
    "c3 = z3.make_complex\n",
    "c4 = z4.make_complex"
   ]
  },
  {
   "cell_type": "code",
   "execution_count": 19,
   "id": "e2669a2f-a09e-4c2f-b3c9-e4277d446136",
   "metadata": {},
   "outputs": [
    {
     "name": "stdout",
     "output_type": "stream",
     "text": [
      "z1 = Zi(10, -7) --> c1 = (10-7j)\n",
      "z2 = Zi(-10, -2) --> c2 = (-10-2j)\n",
      "z3 = Zi(-3, -3) --> c3 = (-3-3j)\n",
      "z4 = Zi(-6, -7) --> c4 = (-6-7j)\n"
     ]
    }
   ],
   "source": [
    "c1 = complex(z1)\n",
    "c2 = complex(z2)\n",
    "c3 = complex(z3)\n",
    "c4 = complex(z4)\n",
    "\n",
    "print(f\"{z1 = } --> {c1 = }\")\n",
    "print(f\"{z2 = } --> {c2 = }\")\n",
    "print(f\"{z3 = } --> {c3 = }\")\n",
    "print(f\"{z4 = } --> {c4 = }\")"
   ]
  },
  {
   "cell_type": "code",
   "execution_count": 20,
   "id": "74241d55-83f4-4b79-bfce-d07e4cbb45b9",
   "metadata": {},
   "outputs": [
    {
     "name": "stdout",
     "output_type": "stream",
     "text": [
      "z1 * z2 = Zi(-114, 50)\n",
      "c1 * c2 = (-114+50j)\n",
      "\n",
      "z1 * 2 = Zi(20, -14)\n",
      "2 * z1 = Zi(20, -14)\n"
     ]
    }
   ],
   "source": [
    "print(f\"{z1 * z2 = }\")\n",
    "print(f\"{c1 * c2 = }\\n\")\n",
    "\n",
    "print(f\"{z1 * 2 = }\")\n",
    "print(f\"{2 * z1 = }\")"
   ]
  },
  {
   "cell_type": "code",
   "execution_count": 21,
   "id": "ac0fefae-4c8a-44ea-bc2e-18de5f25dd07",
   "metadata": {},
   "outputs": [
    {
     "name": "stdout",
     "output_type": "stream",
     "text": [
      "q1.order() = 2\n",
      "q1.is_complex() = False\n",
      "q1.is_quaternion() = True\n",
      "q1 = Zi(Zi(10, -7), Zi(-10, -2))\n",
      "q2 = Zi(Zi(-3, -3), Zi(-6, -7))\n",
      "q1.norm = 253\n",
      "\n",
      "d1 = Zi(Zi(10, -7), Zi(-10, -2))\n",
      "d2 = Zi(Zi(-3, -3), Zi(-6, -7))\n",
      "\n",
      "q1 + q2 = Zi(Zi(7, -10), Zi(-16, -9))\n",
      "q1 * 2 = Zi(Zi(20, -14), Zi(-20, -4))\n",
      "2 * q1 = Zi(Zi(20, -14), Zi(-20, -4))\n",
      "q1 * q2 = Zi(Zi(-125, 49), Zi(-73, -52))\n",
      "\n",
      "d1 + d2 = Zi(Zi(7, -10), Zi(-16, -9))\n",
      "d1 * d2 = Zi(Zi(-125, 49), Zi(-73, -52))\n"
     ]
    }
   ],
   "source": [
    "q1 = Zi(z1, z2)\n",
    "q2 = Zi(z3, z4)\n",
    "\n",
    "d1 = Zi(c1, c2)\n",
    "d2 = Zi(c3, c4)\n",
    "\n",
    "print(f\"{q1.order() = }\")\n",
    "print(f\"{q1.is_complex() = }\")\n",
    "print(f\"{q1.is_quaternion() = }\")\n",
    "print(f\"{q1 = }\")\n",
    "print(f\"{q2 = }\")\n",
    "print(f\"{q1.norm = }\\n\")\n",
    "\n",
    "print(f\"{d1 = }\")\n",
    "print(f\"{d2 = }\\n\")\n",
    "\n",
    "print(f\"{q1 + q2 = }\")\n",
    "print(f\"{q1 * 2 = }\")\n",
    "print(f\"{2 * q1 = }\")\n",
    "print(f\"{q1 * q2 = }\\n\")\n",
    "\n",
    "print(f\"{d1 + d2 = }\")\n",
    "print(f\"{d1 * d2 = }\")"
   ]
  },
  {
   "cell_type": "code",
   "execution_count": 22,
   "id": "44fd1089-37e2-4617-af60-da9912bdf660",
   "metadata": {},
   "outputs": [
    {
     "name": "stdout",
     "output_type": "stream",
     "text": [
      "o1 = Zi(Zi(Zi(10, -7), Zi(-10, -2)), Zi(Zi(-3, -3), Zi(-6, -7)))\n",
      "o1 = ((10-7i-10j-2k), (-3-3i-6j-7k))\n",
      "o1.order() = 3\n",
      "o1.norm = 356\n",
      "\n",
      "o1.is_quaternion() = False\n",
      "o1.is_octonion() = True\n"
     ]
    }
   ],
   "source": [
    "o1 = Zi(q1, q2)\n",
    "print(f\"{o1 = }\")\n",
    "print(f\"o1 = {o1}\")\n",
    "print(f\"{o1.order() = }\")\n",
    "print(f\"{o1.norm = }\\n\")\n",
    "print(f\"{o1.is_quaternion() = }\")\n",
    "print(f\"{o1.is_octonion() = }\")"
   ]
  },
  {
   "cell_type": "code",
   "execution_count": 23,
   "id": "1385853f",
   "metadata": {},
   "outputs": [],
   "source": [
    "q1arr = q1.to_array()\n",
    "o1arr = o1.to_array()"
   ]
  },
  {
   "cell_type": "code",
   "execution_count": 24,
   "id": "e83d1f20",
   "metadata": {},
   "outputs": [
    {
     "data": {
      "text/plain": [
       "[[10, -7], [-10, -2]]"
      ]
     },
     "execution_count": 24,
     "metadata": {},
     "output_type": "execute_result"
    }
   ],
   "source": [
    "q1arr"
   ]
  },
  {
   "cell_type": "code",
   "execution_count": 25,
   "id": "88c58d23",
   "metadata": {},
   "outputs": [
    {
     "data": {
      "text/plain": [
       "[[[10, -7], [-10, -2]], [[-3, -3], [-6, -7]]]"
      ]
     },
     "execution_count": 25,
     "metadata": {},
     "output_type": "execute_result"
    }
   ],
   "source": [
    "o1arr"
   ]
  },
  {
   "cell_type": "code",
   "execution_count": 26,
   "id": "6fd44109",
   "metadata": {},
   "outputs": [
    {
     "name": "stdout",
     "output_type": "stream",
     "text": [
      "q1 = Zi(Zi(10, -7), Zi(-10, -2))\n",
      "q1arr = q1.to_array() = [[10, -7], [-10, -2]]\n",
      "Zi.from_array(q1arr) = Zi(Zi(10, -7), Zi(-10, -2))\n",
      "\n",
      "o1 = Zi(Zi(Zi(10, -7), Zi(-10, -2)), Zi(Zi(-3, -3), Zi(-6, -7)))\n",
      "o1arr = o1.to_array() = [[[10, -7], [-10, -2]], [[-3, -3], [-6, -7]]]\n",
      "Zi.from_array(o1arr) = Zi(Zi(Zi(10, -7), Zi(-10, -2)), Zi(Zi(-3, -3), Zi(-6, -7)))\n"
     ]
    }
   ],
   "source": [
    "q1x = Zi.from_array(q1arr)\n",
    "o1x = Zi.from_array(o1arr)\n",
    "\n",
    "print(f\"{q1 = }\")\n",
    "print(f\"q1arr = {q1.to_array() = }\")\n",
    "print(f\"{Zi.from_array(q1arr) = }\\n\")\n",
    "\n",
    "print(f\"{o1 = }\")\n",
    "print(f\"o1arr = {o1.to_array() = }\")\n",
    "print(f\"{Zi.from_array(o1arr) = }\")"
   ]
  },
  {
   "cell_type": "code",
   "execution_count": 27,
   "id": "43091c34-855f-47f2-861e-2deb044c02a5",
   "metadata": {},
   "outputs": [
    {
     "name": "stdout",
     "output_type": "stream",
     "text": [
      "(7-8i+8j+3k)\n",
      "(-9-10i-8j-4k)\n"
     ]
    }
   ],
   "source": [
    "qx = Zi.random_quaternion()\n",
    "qy = Zi.random_quaternion()\n",
    "print(qx)\n",
    "print(qy)"
   ]
  },
  {
   "cell_type": "code",
   "execution_count": 28,
   "id": "858f6a0e",
   "metadata": {},
   "outputs": [
    {
     "data": {
      "text/plain": [
       "True"
      ]
     },
     "execution_count": 28,
     "metadata": {},
     "output_type": "execute_result"
    }
   ],
   "source": [
    "(qx * qy).norm == qx.norm * qy.norm"
   ]
  },
  {
   "cell_type": "code",
   "execution_count": 29,
   "id": "5202f9de",
   "metadata": {},
   "outputs": [
    {
     "data": {
      "text/plain": [
       "Zi(0, 0)"
      ]
     },
     "execution_count": 29,
     "metadata": {},
     "output_type": "execute_result"
    }
   ],
   "source": [
    "Zi.zero()"
   ]
  },
  {
   "cell_type": "code",
   "execution_count": 30,
   "id": "1f4cff53",
   "metadata": {},
   "outputs": [
    {
     "data": {
      "text/plain": [
       "Zi(0, 0)"
      ]
     },
     "execution_count": 30,
     "metadata": {},
     "output_type": "execute_result"
    }
   ],
   "source": [
    "Zi.zero(1)"
   ]
  },
  {
   "cell_type": "code",
   "execution_count": 31,
   "id": "ebf01306",
   "metadata": {},
   "outputs": [
    {
     "data": {
      "text/plain": [
       "Zi(Zi(0, 0), Zi(0, 0))"
      ]
     },
     "execution_count": 31,
     "metadata": {},
     "output_type": "execute_result"
    }
   ],
   "source": [
    "Zi.zero(2)"
   ]
  },
  {
   "cell_type": "code",
   "execution_count": 32,
   "id": "31cb0461",
   "metadata": {},
   "outputs": [
    {
     "data": {
      "text/plain": [
       "Zi(1, 0)"
      ]
     },
     "execution_count": 32,
     "metadata": {},
     "output_type": "execute_result"
    }
   ],
   "source": [
    "Zi.one()"
   ]
  },
  {
   "cell_type": "code",
   "execution_count": 33,
   "id": "8b631974",
   "metadata": {},
   "outputs": [
    {
     "data": {
      "text/plain": [
       "Zi(1, 0)"
      ]
     },
     "execution_count": 33,
     "metadata": {},
     "output_type": "execute_result"
    }
   ],
   "source": [
    "Zi.one(1)"
   ]
  },
  {
   "cell_type": "code",
   "execution_count": 34,
   "id": "4a42e07e",
   "metadata": {},
   "outputs": [
    {
     "data": {
      "text/plain": [
       "Zi(Zi(1, 0), Zi(0, 0))"
      ]
     },
     "execution_count": 34,
     "metadata": {},
     "output_type": "execute_result"
    }
   ],
   "source": [
    "Zi.one(2)"
   ]
  },
  {
   "cell_type": "code",
   "execution_count": 35,
   "id": "b6bdea99",
   "metadata": {},
   "outputs": [
    {
     "data": {
      "text/plain": [
       "Zi(-3, 6)"
      ]
     },
     "execution_count": 35,
     "metadata": {},
     "output_type": "execute_result"
    }
   ],
   "source": [
    "Zi.random()"
   ]
  },
  {
   "cell_type": "code",
   "execution_count": 36,
   "id": "46f1836a",
   "metadata": {},
   "outputs": [
    {
     "data": {
      "text/plain": [
       "Zi(9, -10)"
      ]
     },
     "execution_count": 36,
     "metadata": {},
     "output_type": "execute_result"
    }
   ],
   "source": [
    "Zi.random(order=1)"
   ]
  },
  {
   "cell_type": "code",
   "execution_count": 37,
   "id": "85f6ca32",
   "metadata": {},
   "outputs": [
    {
     "data": {
      "text/plain": [
       "Zi(Zi(7, -4), Zi(10, 7))"
      ]
     },
     "execution_count": 37,
     "metadata": {},
     "output_type": "execute_result"
    }
   ],
   "source": [
    "Zi.random(order=2)"
   ]
  },
  {
   "cell_type": "code",
   "execution_count": 38,
   "id": "b5d0ca3f",
   "metadata": {},
   "outputs": [],
   "source": [
    "o2 = Zi.random(order=3)\n",
    "o3 = Zi.random(order=3)"
   ]
  },
  {
   "cell_type": "code",
   "execution_count": 39,
   "id": "7081c052",
   "metadata": {},
   "outputs": [
    {
     "name": "stdout",
     "output_type": "stream",
     "text": [
      "((10-7i-10j-2k), (-3-3i-6j-7k))\n",
      "((3-3i+4j+8k), (-2-10i-5j+3k))\n",
      "((-2i-6j-4k), (-7i-8j+2k))\n"
     ]
    }
   ],
   "source": [
    "print(o1)\n",
    "print(o2)\n",
    "print(o3)"
   ]
  },
  {
   "cell_type": "code",
   "execution_count": 40,
   "id": "476af534",
   "metadata": {},
   "outputs": [
    {
     "name": "stdout",
     "output_type": "stream",
     "text": [
      "((13-10i-6j+6k), (-5-13i-11j-4k))\n"
     ]
    }
   ],
   "source": [
    "print(o1 + o2)"
   ]
  },
  {
   "cell_type": "code",
   "execution_count": 41,
   "id": "9ceafb0c",
   "metadata": {},
   "outputs": [
    {
     "data": {
      "text/plain": [
       "Zi(Zi(Zi(7, -4), Zi(-14, -10)), Zi(Zi(-1, 7), Zi(-1, -10)))"
      ]
     },
     "execution_count": 41,
     "metadata": {},
     "output_type": "execute_result"
    }
   ],
   "source": [
    "o1 - o2"
   ]
  },
  {
   "cell_type": "code",
   "execution_count": 42,
   "id": "f7d8077d",
   "metadata": {},
   "outputs": [
    {
     "data": {
      "text/plain": [
       "Zi(Zi(Zi(20, -46), Zi(-4, 38)), Zi(Zi(-214, -44), Zi(-122, 132)))"
      ]
     },
     "execution_count": 42,
     "metadata": {},
     "output_type": "execute_result"
    }
   ],
   "source": [
    "o1 * o2"
   ]
  },
  {
   "cell_type": "code",
   "execution_count": 43,
   "id": "fb0b286c",
   "metadata": {},
   "outputs": [
    {
     "data": {
      "text/plain": [
       "Zi(Zi(Zi(12, -7), Zi(-10, -2)), Zi(Zi(-3, -3), Zi(-6, -7)))"
      ]
     },
     "execution_count": 43,
     "metadata": {},
     "output_type": "execute_result"
    }
   ],
   "source": [
    "o1 + 2"
   ]
  },
  {
   "cell_type": "code",
   "execution_count": 44,
   "id": "4fe4c26b",
   "metadata": {},
   "outputs": [
    {
     "data": {
      "text/plain": [
       "Zi(Zi(Zi(12, -7), Zi(-10, -2)), Zi(Zi(-3, -3), Zi(-6, -7)))"
      ]
     },
     "execution_count": 44,
     "metadata": {},
     "output_type": "execute_result"
    }
   ],
   "source": [
    "2 + o1"
   ]
  },
  {
   "cell_type": "code",
   "execution_count": 45,
   "id": "0eb85e45",
   "metadata": {},
   "outputs": [
    {
     "data": {
      "text/plain": [
       "Zi(Zi(Zi(-8, 7), Zi(10, 2)), Zi(Zi(3, 3), Zi(6, 7)))"
      ]
     },
     "execution_count": 45,
     "metadata": {},
     "output_type": "execute_result"
    }
   ],
   "source": [
    "2 - o1"
   ]
  },
  {
   "cell_type": "code",
   "execution_count": 46,
   "id": "a5143302",
   "metadata": {},
   "outputs": [
    {
     "data": {
      "text/plain": [
       "[[[10, -7], [-10, -2]], [[-3, -3], [-6, -7]]]"
      ]
     },
     "execution_count": 46,
     "metadata": {},
     "output_type": "execute_result"
    }
   ],
   "source": [
    "o1.to_array()"
   ]
  },
  {
   "cell_type": "code",
   "execution_count": 47,
   "id": "767db290",
   "metadata": {},
   "outputs": [
    {
     "data": {
      "text/plain": [
       "True"
      ]
     },
     "execution_count": 47,
     "metadata": {},
     "output_type": "execute_result"
    }
   ],
   "source": [
    "Zi.from_array(o1.to_array()) == o1"
   ]
  },
  {
   "cell_type": "code",
   "execution_count": 48,
   "id": "ea8f3fb6-924b-47dd-add0-0c03b1e03b7d",
   "metadata": {},
   "outputs": [
    {
     "data": {
      "text/plain": [
       "Zi(Zi(Zi(20, -46), Zi(-4, 38)), Zi(Zi(-214, -44), Zi(-122, 132)))"
      ]
     },
     "execution_count": 48,
     "metadata": {},
     "output_type": "execute_result"
    }
   ],
   "source": [
    "o1 * o2"
   ]
  },
  {
   "cell_type": "code",
   "execution_count": 49,
   "id": "ac67ac12-1996-4db3-9d75-5f06140c7c44",
   "metadata": {},
   "outputs": [
    {
     "data": {
      "text/plain": [
       "Zi(Zi(-125, 49), Zi(-73, -52))"
      ]
     },
     "execution_count": 49,
     "metadata": {},
     "output_type": "execute_result"
    }
   ],
   "source": [
    "q1 * q2"
   ]
  },
  {
   "cell_type": "code",
   "execution_count": 50,
   "id": "878257a1-2afa-458b-b775-2f1622f5a95c",
   "metadata": {},
   "outputs": [
    {
     "data": {
      "text/plain": [
       "Zi(Zi(Zi(-12, -40), Zi(-116, 7)), Zi(Zi(-152, -153), Zi(-159, -55)))"
      ]
     },
     "execution_count": 50,
     "metadata": {},
     "output_type": "execute_result"
    }
   ],
   "source": [
    "q1 * o1"
   ]
  },
  {
   "cell_type": "code",
   "execution_count": 51,
   "id": "00bdc599-ca46-4bc8-83f1-456acb93be7e",
   "metadata": {},
   "outputs": [
    {
     "data": {
      "text/plain": [
       "True"
      ]
     },
     "execution_count": 51,
     "metadata": {},
     "output_type": "execute_result"
    }
   ],
   "source": [
    "Zi.is_octonion(q1 * o1)"
   ]
  },
  {
   "cell_type": "code",
   "execution_count": 52,
   "id": "a7142306-af75-4409-9874-569d401749c8",
   "metadata": {},
   "outputs": [
    {
     "data": {
      "text/plain": [
       "False"
      ]
     },
     "execution_count": 52,
     "metadata": {},
     "output_type": "execute_result"
    }
   ],
   "source": [
    "q1 * (o1.real) == (q1 * o1).real"
   ]
  },
  {
   "cell_type": "code",
   "execution_count": 53,
   "id": "9a1eb598-99dc-4596-a1b6-4e4945e5be2e",
   "metadata": {},
   "outputs": [
    {
     "data": {
      "text/plain": [
       "Zi(Zi(-125, 49), Zi(-73, -52))"
      ]
     },
     "execution_count": 53,
     "metadata": {},
     "output_type": "execute_result"
    }
   ],
   "source": [
    "q1 * o1.imag"
   ]
  },
  {
   "cell_type": "code",
   "execution_count": 54,
   "id": "5aa61ec8-5029-455a-80b2-f419382a142b",
   "metadata": {},
   "outputs": [
    {
     "data": {
      "text/plain": [
       "Zi(Zi(Zi(10, -7), Zi(-10, -2)), Zi(Zi(-3, -3), Zi(-6, -7)))"
      ]
     },
     "execution_count": 54,
     "metadata": {},
     "output_type": "execute_result"
    }
   ],
   "source": [
    "o1"
   ]
  },
  {
   "cell_type": "code",
   "execution_count": null,
   "id": "697cb92e-a69c-4aa6-8411-f9ec71318456",
   "metadata": {},
   "outputs": [],
   "source": []
  },
  {
   "cell_type": "code",
   "execution_count": null,
   "id": "f9463fe9-edf4-44ec-9b07-1704adc17e0b",
   "metadata": {},
   "outputs": [],
   "source": []
  },
  {
   "cell_type": "markdown",
   "id": "c94c6e01-ee57-4b64-9d9f-1e6b5907332d",
   "metadata": {},
   "source": [
    "## Quaternion Multiplication Problem -- FIXED !!!"
   ]
  },
  {
   "cell_type": "markdown",
   "id": "d361198a-9032-4e44-b965-12835b0c3a9a",
   "metadata": {},
   "source": [
    "For some as-of-yet undetermined reason, when I multiply two quaternions, $q_1 \\times q_2$, I get $q_2 \\times q_1$ instead. So far I've been unable to determine where the commutation happens."
   ]
  },
  {
   "cell_type": "code",
   "execution_count": 55,
   "id": "536024e0-48b0-458d-a790-2ae54e7438ef",
   "metadata": {},
   "outputs": [],
   "source": [
    "q1 = Zi(Zi(10, -7), Zi(-10, -2))\n",
    "q2 = Zi(Zi(-3, -3), Zi(-6, -7))"
   ]
  },
  {
   "cell_type": "code",
   "execution_count": 56,
   "id": "67bd81a4-5368-49de-bace-67ab3fa86813",
   "metadata": {},
   "outputs": [
    {
     "name": "stdout",
     "output_type": "stream",
     "text": [
      "q1 * q2 = Zi(Zi(-125, 49), Zi(-73, -52)) \n",
      "\n",
      "        = (-125+49i-73j-52k)\n"
     ]
    }
   ],
   "source": [
    "print(f\"{q1 * q2 = } \\n\\n        = {str(q1 * q2)}\")"
   ]
  },
  {
   "cell_type": "code",
   "execution_count": 58,
   "id": "23cbfa56-da70-48be-a581-b66ba2c01798",
   "metadata": {},
   "outputs": [
    {
     "name": "stdout",
     "output_type": "stream",
     "text": [
      "q2 * q1 = Zi(Zi(-125, -67), Zi(13, -76)) \n",
      "\n",
      "        = (-125-67i+13j-76k)\n"
     ]
    }
   ],
   "source": [
    "print(f\"{q2 * q1 = } \\n\\n        = {str(q2 * q1)}\")"
   ]
  },
  {
   "cell_type": "code",
   "execution_count": 60,
   "id": "77af1edc-f285-4bd3-87b7-2a2b7ad14fcc",
   "metadata": {},
   "outputs": [
    {
     "name": "stdout",
     "output_type": "stream",
     "text": [
      "q1.hamilton_product(q2) = Zi(Zi(-125, 49), Zi(-73, -52)) \n",
      "\n",
      "        = (-125+49i-73j-52k)\n"
     ]
    }
   ],
   "source": [
    "print(f\"{q1.hamilton_product(q2) = } \\n\\n        = {str(q1.hamilton_product(q2))}\")"
   ]
  },
  {
   "cell_type": "code",
   "execution_count": 61,
   "id": "542c1b09-dae5-4629-9357-b769673e24b6",
   "metadata": {},
   "outputs": [
    {
     "name": "stdout",
     "output_type": "stream",
     "text": [
      "q2.hamilton_product(q1) = Zi(Zi(-125, -67), Zi(13, -76)) \n",
      "\n",
      "        = (-125-67i+13j-76k)\n"
     ]
    }
   ],
   "source": [
    "print(f\"{q2.hamilton_product(q1) = } \\n\\n        = {str(q2.hamilton_product(q1))}\")"
   ]
  },
  {
   "cell_type": "markdown",
   "id": "47e4cb65-82cc-4ef0-bb7b-5a0988fb41be",
   "metadata": {},
   "source": [
    "This is the result using \"[OmniCalculator](https://www.omnicalculator.com/math/quaternion)\":"
   ]
  },
  {
   "cell_type": "raw",
   "id": "53c4dca6-d044-42b1-8829-787335d920d0",
   "metadata": {},
   "source": [
    "The product of 10 - 7i - 10j - 2k and -3 - 3i - 6j - 7k is:\n",
    "\n",
    "q1 × q2 = -125 + 49i - 73j - 52k\n",
    "\n",
    "q2 × q1 = -125 - 67i + 13j - 76k"
   ]
  },
  {
   "cell_type": "code",
   "execution_count": null,
   "id": "06ae853b-fd6d-42eb-8254-747b675c4bb3",
   "metadata": {},
   "outputs": [],
   "source": []
  }
 ],
 "metadata": {
  "kernelspec": {
   "display_name": "Python [conda env:base] *",
   "language": "python",
   "name": "conda-base-py"
  },
  "language_info": {
   "codemirror_mode": {
    "name": "ipython",
    "version": 3
   },
   "file_extension": ".py",
   "mimetype": "text/x-python",
   "name": "python",
   "nbconvert_exporter": "python",
   "pygments_lexer": "ipython3",
   "version": "3.13.5"
  }
 },
 "nbformat": 4,
 "nbformat_minor": 5
}
