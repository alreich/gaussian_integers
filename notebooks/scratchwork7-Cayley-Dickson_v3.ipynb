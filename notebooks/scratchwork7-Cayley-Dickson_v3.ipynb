{
 "cells": [
  {
   "cell_type": "markdown",
   "id": "11951404-4d7b-4cd4-aa6e-3bca6abee1ce",
   "metadata": {},
   "source": [
    "# Cayley-Dickson Construction Applied to Zi Definition"
   ]
  },
  {
   "cell_type": "markdown",
   "id": "985bac8c",
   "metadata": {},
   "source": [
    "*Version 3*"
   ]
  },
  {
   "cell_type": "markdown",
   "id": "2f09c45e-9ab5-461b-8de8-fd74f6a0e16e",
   "metadata": {},
   "source": [
    "My original implementation of Gaussian integers included two classes, ``Zi`` and ``Qi``, where, for example, ``Zi(2, -7)`` represents a Gaussian integer, and ``Qi(-2/3, 4/5)`` represents a Gaussian rational.\n",
    "\n",
    "I'd like to extend this code to include integer-valued quaternions and octonions. An elegant way to accomplish that goal would be to use the Cayley-Dickson construction, where complex numbers can be constructed from pairs of real numbers, quaternions can be constructed from pairs of those pairs, and octonions constructed from pairs of those pairs of pairs.\n",
    "\n",
    "For more specifics, see my write-up about the Cayley-Dickson construction [at this link](https://abstract-algebra.readthedocs.io/en/latest/55_cayley_dickson.html) or the [Wikipedia page on this topic](https://en.wikipedia.org/wiki/Cayley%E2%80%93Dickson_construction)."
   ]
  },
  {
   "cell_type": "code",
   "execution_count": 1,
   "id": "1ebdcab3",
   "metadata": {},
   "outputs": [],
   "source": [
    "from cayley_dickson_alg import Zi, is_power_of_two, flatten, make_int_or_float\n",
    "from random import randint"
   ]
  },
  {
   "cell_type": "markdown",
   "id": "7300fef0-36d6-4e06-874f-81aec47273dd",
   "metadata": {},
   "source": [
    "## Examples"
   ]
  },
  {
   "cell_type": "code",
   "execution_count": 70,
   "id": "3afe1173",
   "metadata": {},
   "outputs": [],
   "source": [
    "from random import seed\n",
    "\n",
    "seed(42)  # Generate the same random sequence each time (for testing)"
   ]
  },
  {
   "cell_type": "code",
   "execution_count": 32,
   "id": "31cb0461",
   "metadata": {},
   "outputs": [
    {
     "data": {
      "text/plain": [
       "Zi(1, 0)"
      ]
     },
     "execution_count": 32,
     "metadata": {},
     "output_type": "execute_result"
    }
   ],
   "source": [
    "Zi.one()"
   ]
  },
  {
   "cell_type": "code",
   "execution_count": 33,
   "id": "8b631974",
   "metadata": {},
   "outputs": [
    {
     "data": {
      "text/plain": [
       "Zi(1, 0)"
      ]
     },
     "execution_count": 33,
     "metadata": {},
     "output_type": "execute_result"
    }
   ],
   "source": [
    "Zi.one(1)"
   ]
  },
  {
   "cell_type": "code",
   "execution_count": 34,
   "id": "4a42e07e",
   "metadata": {},
   "outputs": [
    {
     "data": {
      "text/plain": [
       "Zi(Zi(1, 0), Zi(0, 0))"
      ]
     },
     "execution_count": 34,
     "metadata": {},
     "output_type": "execute_result"
    }
   ],
   "source": [
    "Zi.one(2)"
   ]
  },
  {
   "cell_type": "code",
   "execution_count": 35,
   "id": "b6bdea99",
   "metadata": {},
   "outputs": [
    {
     "data": {
      "text/plain": [
       "Zi(-3, 6)"
      ]
     },
     "execution_count": 35,
     "metadata": {},
     "output_type": "execute_result"
    }
   ],
   "source": [
    "Zi.random()"
   ]
  },
  {
   "cell_type": "code",
   "execution_count": 36,
   "id": "46f1836a",
   "metadata": {},
   "outputs": [
    {
     "data": {
      "text/plain": [
       "Zi(9, -10)"
      ]
     },
     "execution_count": 36,
     "metadata": {},
     "output_type": "execute_result"
    }
   ],
   "source": [
    "Zi.random(order=1)"
   ]
  },
  {
   "cell_type": "code",
   "execution_count": 37,
   "id": "85f6ca32",
   "metadata": {},
   "outputs": [
    {
     "data": {
      "text/plain": [
       "Zi(Zi(7, -4), Zi(10, 7))"
      ]
     },
     "execution_count": 37,
     "metadata": {},
     "output_type": "execute_result"
    }
   ],
   "source": [
    "Zi.random(order=2)"
   ]
  },
  {
   "cell_type": "code",
   "execution_count": 38,
   "id": "b5d0ca3f",
   "metadata": {},
   "outputs": [],
   "source": [
    "o2 = Zi.random(order=3)\n",
    "o3 = Zi.random(order=3)"
   ]
  },
  {
   "cell_type": "code",
   "execution_count": 39,
   "id": "7081c052",
   "metadata": {},
   "outputs": [
    {
     "name": "stdout",
     "output_type": "stream",
     "text": [
      "((10-7i-10j-2k), (-3-3i-6j-7k))\n",
      "((3-3i+4j+8k), (-2-10i-5j+3k))\n",
      "((-2i-6j-4k), (-7i-8j+2k))\n"
     ]
    }
   ],
   "source": [
    "print(o1)\n",
    "print(o2)\n",
    "print(o3)"
   ]
  },
  {
   "cell_type": "code",
   "execution_count": 40,
   "id": "476af534",
   "metadata": {},
   "outputs": [
    {
     "name": "stdout",
     "output_type": "stream",
     "text": [
      "((13-10i-6j+6k), (-5-13i-11j-4k))\n"
     ]
    }
   ],
   "source": [
    "print(o1 + o2)"
   ]
  },
  {
   "cell_type": "code",
   "execution_count": 73,
   "id": "9ceafb0c",
   "metadata": {},
   "outputs": [
    {
     "name": "stdout",
     "output_type": "stream",
     "text": [
      "((7-4i-14j-10k), (-1+7i-1j-10k))\n"
     ]
    }
   ],
   "source": [
    "print(o1 - o2)"
   ]
  },
  {
   "cell_type": "code",
   "execution_count": 74,
   "id": "f7d8077d",
   "metadata": {},
   "outputs": [
    {
     "name": "stdout",
     "output_type": "stream",
     "text": [
      "((20-46i-4j+38k), (-214-44i-122j+132k))\n"
     ]
    }
   ],
   "source": [
    "print(o1 * o2)"
   ]
  },
  {
   "cell_type": "code",
   "execution_count": 75,
   "id": "fb0b286c",
   "metadata": {},
   "outputs": [
    {
     "name": "stdout",
     "output_type": "stream",
     "text": [
      "((12-7i-10j-2k), (-3-3i-6j-7k))\n"
     ]
    }
   ],
   "source": [
    "print(o1 + 2)"
   ]
  },
  {
   "cell_type": "code",
   "execution_count": 44,
   "id": "4fe4c26b",
   "metadata": {},
   "outputs": [
    {
     "data": {
      "text/plain": [
       "Zi(Zi(Zi(12, -7), Zi(-10, -2)), Zi(Zi(-3, -3), Zi(-6, -7)))"
      ]
     },
     "execution_count": 44,
     "metadata": {},
     "output_type": "execute_result"
    }
   ],
   "source": [
    "2 + o1"
   ]
  },
  {
   "cell_type": "code",
   "execution_count": 45,
   "id": "0eb85e45",
   "metadata": {},
   "outputs": [
    {
     "data": {
      "text/plain": [
       "Zi(Zi(Zi(-8, 7), Zi(10, 2)), Zi(Zi(3, 3), Zi(6, 7)))"
      ]
     },
     "execution_count": 45,
     "metadata": {},
     "output_type": "execute_result"
    }
   ],
   "source": [
    "2 - o1"
   ]
  },
  {
   "cell_type": "code",
   "execution_count": 46,
   "id": "a5143302",
   "metadata": {},
   "outputs": [
    {
     "data": {
      "text/plain": [
       "[[[10, -7], [-10, -2]], [[-3, -3], [-6, -7]]]"
      ]
     },
     "execution_count": 46,
     "metadata": {},
     "output_type": "execute_result"
    }
   ],
   "source": [
    "o1.to_array()"
   ]
  },
  {
   "cell_type": "code",
   "execution_count": 47,
   "id": "767db290",
   "metadata": {},
   "outputs": [
    {
     "data": {
      "text/plain": [
       "True"
      ]
     },
     "execution_count": 47,
     "metadata": {},
     "output_type": "execute_result"
    }
   ],
   "source": [
    "Zi.from_array(o1.to_array()) == o1"
   ]
  },
  {
   "cell_type": "code",
   "execution_count": 48,
   "id": "ea8f3fb6-924b-47dd-add0-0c03b1e03b7d",
   "metadata": {},
   "outputs": [
    {
     "data": {
      "text/plain": [
       "Zi(Zi(Zi(20, -46), Zi(-4, 38)), Zi(Zi(-214, -44), Zi(-122, 132)))"
      ]
     },
     "execution_count": 48,
     "metadata": {},
     "output_type": "execute_result"
    }
   ],
   "source": [
    "o1 * o2"
   ]
  },
  {
   "cell_type": "code",
   "execution_count": 49,
   "id": "ac67ac12-1996-4db3-9d75-5f06140c7c44",
   "metadata": {},
   "outputs": [
    {
     "data": {
      "text/plain": [
       "Zi(Zi(-125, 49), Zi(-73, -52))"
      ]
     },
     "execution_count": 49,
     "metadata": {},
     "output_type": "execute_result"
    }
   ],
   "source": [
    "q1 * q2"
   ]
  },
  {
   "cell_type": "code",
   "execution_count": 50,
   "id": "878257a1-2afa-458b-b775-2f1622f5a95c",
   "metadata": {},
   "outputs": [
    {
     "data": {
      "text/plain": [
       "Zi(Zi(Zi(-12, -40), Zi(-116, 7)), Zi(Zi(-152, -153), Zi(-159, -55)))"
      ]
     },
     "execution_count": 50,
     "metadata": {},
     "output_type": "execute_result"
    }
   ],
   "source": [
    "q1 * o1"
   ]
  },
  {
   "cell_type": "code",
   "execution_count": 51,
   "id": "00bdc599-ca46-4bc8-83f1-456acb93be7e",
   "metadata": {},
   "outputs": [
    {
     "data": {
      "text/plain": [
       "True"
      ]
     },
     "execution_count": 51,
     "metadata": {},
     "output_type": "execute_result"
    }
   ],
   "source": [
    "Zi.is_octonion(q1 * o1)"
   ]
  },
  {
   "cell_type": "code",
   "execution_count": 52,
   "id": "a7142306-af75-4409-9874-569d401749c8",
   "metadata": {},
   "outputs": [
    {
     "data": {
      "text/plain": [
       "False"
      ]
     },
     "execution_count": 52,
     "metadata": {},
     "output_type": "execute_result"
    }
   ],
   "source": [
    "q1 * (o1.real) == (q1 * o1).real"
   ]
  },
  {
   "cell_type": "code",
   "execution_count": 53,
   "id": "9a1eb598-99dc-4596-a1b6-4e4945e5be2e",
   "metadata": {},
   "outputs": [
    {
     "data": {
      "text/plain": [
       "Zi(Zi(-125, 49), Zi(-73, -52))"
      ]
     },
     "execution_count": 53,
     "metadata": {},
     "output_type": "execute_result"
    }
   ],
   "source": [
    "q1 * o1.imag"
   ]
  },
  {
   "cell_type": "code",
   "execution_count": 54,
   "id": "5aa61ec8-5029-455a-80b2-f419382a142b",
   "metadata": {},
   "outputs": [
    {
     "data": {
      "text/plain": [
       "Zi(Zi(Zi(10, -7), Zi(-10, -2)), Zi(Zi(-3, -3), Zi(-6, -7)))"
      ]
     },
     "execution_count": 54,
     "metadata": {},
     "output_type": "execute_result"
    }
   ],
   "source": [
    "o1"
   ]
  },
  {
   "cell_type": "code",
   "execution_count": 76,
   "id": "ba90a4da",
   "metadata": {},
   "outputs": [],
   "source": [
    "q1 = Zi(Zi(10, -7), Zi(-10, -2))\n",
    "q2 = Zi(Zi(-3, -3), Zi(-6, -7))"
   ]
  },
  {
   "cell_type": "code",
   "execution_count": 77,
   "id": "67bd81a4-5368-49de-bace-67ab3fa86813",
   "metadata": {},
   "outputs": [
    {
     "name": "stdout",
     "output_type": "stream",
     "text": [
      "q1 * q2 = Zi(Zi(-125, 49), Zi(-73, -52)) \n",
      "\n",
      "        = (-125+49i-73j-52k)\n"
     ]
    }
   ],
   "source": [
    "print(f\"{q1 * q2 = } \\n\\n        = {str(q1 * q2)}\")"
   ]
  },
  {
   "cell_type": "code",
   "execution_count": 78,
   "id": "23cbfa56-da70-48be-a581-b66ba2c01798",
   "metadata": {},
   "outputs": [
    {
     "name": "stdout",
     "output_type": "stream",
     "text": [
      "q2 * q1 = Zi(Zi(-125, -67), Zi(13, -76)) \n",
      "\n",
      "        = (-125-67i+13j-76k)\n"
     ]
    }
   ],
   "source": [
    "print(f\"{q2 * q1 = } \\n\\n        = {str(q2 * q1)}\")"
   ]
  },
  {
   "cell_type": "code",
   "execution_count": 79,
   "id": "77af1edc-f285-4bd3-87b7-2a2b7ad14fcc",
   "metadata": {},
   "outputs": [
    {
     "name": "stdout",
     "output_type": "stream",
     "text": [
      "q1.hamilton_product(q2) = Zi(Zi(-125, 49), Zi(-73, -52)) \n",
      "\n",
      "        = (-125+49i-73j-52k)\n"
     ]
    }
   ],
   "source": [
    "print(f\"{q1.hamilton_product(q2) = } \\n\\n        = {str(q1.hamilton_product(q2))}\")"
   ]
  },
  {
   "cell_type": "code",
   "execution_count": 80,
   "id": "542c1b09-dae5-4629-9357-b769673e24b6",
   "metadata": {},
   "outputs": [
    {
     "name": "stdout",
     "output_type": "stream",
     "text": [
      "q2.hamilton_product(q1) = Zi(Zi(-125, -67), Zi(13, -76)) \n",
      "\n",
      "        = (-125-67i+13j-76k)\n"
     ]
    }
   ],
   "source": [
    "print(f\"{q2.hamilton_product(q1) = } \\n\\n        = {str(q2.hamilton_product(q1))}\")"
   ]
  },
  {
   "cell_type": "markdown",
   "id": "47e4cb65-82cc-4ef0-bb7b-5a0988fb41be",
   "metadata": {},
   "source": [
    "This is the result using \"[OmniCalculator](https://www.omnicalculator.com/math/quaternion)\":"
   ]
  },
  {
   "cell_type": "raw",
   "id": "53c4dca6-d044-42b1-8829-787335d920d0",
   "metadata": {},
   "source": [
    "The product of 10 - 7i - 10j - 2k and -3 - 3i - 6j - 7k is:\n",
    "\n",
    "q1 × q2 = -125 + 49i - 73j - 52k\n",
    "\n",
    "q2 × q1 = -125 - 67i + 13j - 76k"
   ]
  },
  {
   "cell_type": "code",
   "execution_count": null,
   "id": "06ae853b-fd6d-42eb-8254-747b675c4bb3",
   "metadata": {},
   "outputs": [],
   "source": []
  }
 ],
 "metadata": {
  "kernelspec": {
   "display_name": "Python 3 (ipykernel)",
   "language": "python",
   "name": "python3"
  },
  "language_info": {
   "codemirror_mode": {
    "name": "ipython",
    "version": 3
   },
   "file_extension": ".py",
   "mimetype": "text/x-python",
   "name": "python",
   "nbconvert_exporter": "python",
   "pygments_lexer": "ipython3",
   "version": "3.11.5"
  }
 },
 "nbformat": 4,
 "nbformat_minor": 5
}
