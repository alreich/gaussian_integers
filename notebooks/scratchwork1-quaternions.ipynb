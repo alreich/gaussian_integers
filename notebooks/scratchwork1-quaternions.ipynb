{
 "cells": [
  {
   "cell_type": "markdown",
   "id": "359d8cbe",
   "metadata": {},
   "source": [
    "# Scratchwork #1 - Quaternion Integers"
   ]
  },
  {
   "cell_type": "code",
   "execution_count": 6,
   "id": "870090bf",
   "metadata": {},
   "outputs": [],
   "source": [
    "from quaternions import Hi, split_array"
   ]
  },
  {
   "cell_type": "markdown",
   "id": "ca71b535",
   "metadata": {},
   "source": [
    "## Octonion Integers"
   ]
  },
  {
   "cell_type": "code",
   "execution_count": 7,
   "id": "891a649e",
   "metadata": {},
   "outputs": [],
   "source": [
    "import numpy as np\n",
    "import random as rnd\n",
    "import math\n",
    "\n",
    "class Ki():\n",
    "    \n",
    "    def __init__(self, a, b):\n",
    "        if isinstance(a, Hi):\n",
    "            self.__quat1 = a\n",
    "            self.__quat2 = b\n",
    "            self.__arr = np.concatenate((a.array, b.array))\n",
    "        elif isinstance(a, np.ndarray):\n",
    "            self.__arr = a\n",
    "            arr1, arr2 = split_array(a)\n",
    "            self.__quat1 = Hi(arr1)\n",
    "            self.__quat2 = Hi(arr2)\n",
    "    \n",
    "    @property\n",
    "    def real(self) -> int:\n",
    "        return int(self.__arr[0])\n",
    "    \n",
    "    @property\n",
    "    def imag(self):\n",
    "        return tuple(self.__arr[1:])\n",
    "    \n",
    "    @property\n",
    "    def quat1(self):\n",
    "        return self.__quat1\n",
    "    \n",
    "    @property\n",
    "    def quat2(self):\n",
    "        return self.__quat2\n",
    "    \n",
    "    @property\n",
    "    def array(self):\n",
    "        return self.__arr\n",
    "    \n",
    "    @property\n",
    "    def conjugate(self):\n",
    "        return Ki(self.quat1.conjugate, -self.quat2)\n",
    "    \n",
    "    @property\n",
    "    def norm(self):\n",
    "        tmp = self * self.conjugate\n",
    "        return int(tmp.real)\n",
    "\n",
    "    def __abs__(self):\n",
    "        return math.sqrt(self.norm)\n",
    "    \n",
    "    def __repr__(self):\n",
    "        return f\"Ki({self.quat1}, {self.quat2})\"\n",
    "    \n",
    "    def __str__(self):\n",
    "        return f\"({self.quat1} + {self.quat2}l)\"\n",
    "    \n",
    "    def __add__(self, other):\n",
    "        tmp = self.array + other.array\n",
    "        return Ki(tmp)\n",
    "    \n",
    "    def __sub__(self, other):\n",
    "        diff = self.array - other.array\n",
    "        return Ki(diff)\n",
    "    \n",
    "    def scalar_mul(self, scalar):\n",
    "        return Ki(round(scalar) * self.array)\n",
    "\n",
    "    def __floordiv__(ha, hb):\n",
    "        numer = ha * hb.conjugate\n",
    "        denom = hb.norm\n",
    "        quot = np.round(numer.array / denom)\n",
    "        return Hi(quot.astype(np.int64))\n",
    "    \n",
    "    def to_gaussian_ints(self):\n",
    "        \"\"\"Convert this quaternion into two Gaussian integers\"\"\"\n",
    "        a, b = self.quat1.to_gaussian_ints()\n",
    "        c, d = self.quat2.to_gaussian_ints()\n",
    "        return a, b, c, d\n",
    "    \n",
    "    def __mul__(self, other):\n",
    "        a = self.quat1\n",
    "        b = self.quat2\n",
    "        c = other.quat1\n",
    "        d = other.quat2\n",
    "        # (a, b) * (c, d) = (a * c - d.conj * b, d * a + b * c.conj)\n",
    "        z1 = a * c - d.conjugate * b\n",
    "        z2 = d * a + b * c.conjugate\n",
    "        return Ki(z1, z2)\n",
    "    \n",
    "    @staticmethod\n",
    "    def random(low=-100, high=100):\n",
    "        return Ki(Hi.random(low, high), Hi.random(low, high))\n",
    "\n",
    "    @staticmethod\n",
    "    def modified_divmod(a, b):\n",
    "        \"\"\"Returns q & r, such that a = b * q + r, where\n",
    "        r.norm < b.norm / 2\n",
    "        \"\"\"\n",
    "        q = a // b\n",
    "        r = a - b * q\n",
    "        return q, r\n",
    "\n",
    "def split_array(arr):\n",
    "    n = len(arr) // 2\n",
    "    return arr[:n], arr[n:]"
   ]
  },
  {
   "cell_type": "markdown",
   "id": "7845139e",
   "metadata": {},
   "source": [
    "## Random Quaternion Integers:"
   ]
  },
  {
   "cell_type": "code",
   "execution_count": 8,
   "id": "7e91bfef",
   "metadata": {},
   "outputs": [],
   "source": [
    "import random as rnd\n",
    "\n",
    "rnd.seed(10)\n",
    "octos = [Ki.random() for _ in range(5)]\n",
    "o1, o2, o3, o4, o5 = octos"
   ]
  },
  {
   "cell_type": "code",
   "execution_count": 9,
   "id": "f080dcb5",
   "metadata": {},
   "outputs": [
    {
     "data": {
      "text/plain": [
       "(Ki((46 + -92i + 9j + 23k), (47 + -97i + -48j + 18k)),\n",
       " Ki((25 + -29i + 67j + -59k), (-92 + 33i + 25j + -17k)),\n",
       " Ki((-81 + -37i + 90j + -8k), (-89 + 7i + -65j + 54k)),\n",
       " Ki((-10 + -3i + 7j + -28k), (72 + -33i + 16j + -56k)),\n",
       " Ki((75 + -23i + 69j + -8k), (-66 + 16i + 96j + -39k)))"
      ]
     },
     "execution_count": 9,
     "metadata": {},
     "output_type": "execute_result"
    }
   ],
   "source": [
    "o1, o2, o3, o4, o5"
   ]
  },
  {
   "cell_type": "markdown",
   "id": "677d44cc-1e41-4461-ac95-af29f2b0eb7e",
   "metadata": {},
   "source": [
    "## Print Quaternion Integers"
   ]
  },
  {
   "cell_type": "code",
   "execution_count": 10,
   "id": "777092d1-8200-4019-af6e-a75b2bb2f880",
   "metadata": {},
   "outputs": [
    {
     "name": "stdout",
     "output_type": "stream",
     "text": [
      "((46 + -92i + 9j + 23k) + (47 + -97i + -48j + 18k)l)\n",
      "((25 + -29i + 67j + -59k) + (-92 + 33i + 25j + -17k)l)\n",
      "((-81 + -37i + 90j + -8k) + (-89 + 7i + -65j + 54k)l)\n",
      "((-10 + -3i + 7j + -28k) + (72 + -33i + 16j + -56k)l)\n",
      "((75 + -23i + 69j + -8k) + (-66 + 16i + 96j + -39k)l)\n"
     ]
    }
   ],
   "source": [
    "for octo in octos:\n",
    "    print(octo)"
   ]
  },
  {
   "cell_type": "markdown",
   "id": "e8353835",
   "metadata": {},
   "source": [
    "## Conjugation, Norm, & Abs"
   ]
  },
  {
   "cell_type": "code",
   "execution_count": 11,
   "id": "d935f586",
   "metadata": {},
   "outputs": [
    {
     "data": {
      "text/plain": [
       "Ki((46 + 92i + -9j + -23k), (-47 + 97i + 48j + -18k))"
      ]
     },
     "execution_count": 11,
     "metadata": {},
     "output_type": "execute_result"
    }
   ],
   "source": [
    "o1.conjugate"
   ]
  },
  {
   "cell_type": "code",
   "execution_count": 12,
   "id": "73369e08",
   "metadata": {},
   "outputs": [
    {
     "data": {
      "text/plain": [
       "25436"
      ]
     },
     "execution_count": 12,
     "metadata": {},
     "output_type": "execute_result"
    }
   ],
   "source": [
    "o1.norm"
   ]
  },
  {
   "cell_type": "code",
   "execution_count": 13,
   "id": "abb692ba-5bdc-41fa-97c2-846536e1bf1d",
   "metadata": {},
   "outputs": [
    {
     "data": {
      "text/plain": [
       "159.48667655951704"
      ]
     },
     "execution_count": 13,
     "metadata": {},
     "output_type": "execute_result"
    }
   ],
   "source": [
    "abs(o1)"
   ]
  },
  {
   "cell_type": "markdown",
   "id": "15d25457",
   "metadata": {},
   "source": [
    "## Quaternion Integer Arithmetic"
   ]
  },
  {
   "cell_type": "code",
   "execution_count": 14,
   "id": "3cd700fb",
   "metadata": {},
   "outputs": [
    {
     "ename": "TypeError",
     "evalue": "Ki.__init__() missing 1 required positional argument: 'b'",
     "output_type": "error",
     "traceback": [
      "\u001b[0;31m---------------------------------------------------------------------------\u001b[0m",
      "\u001b[0;31mTypeError\u001b[0m                                 Traceback (most recent call last)",
      "Cell \u001b[0;32mIn[14], line 1\u001b[0m\n\u001b[0;32m----> 1\u001b[0m o1 \u001b[38;5;241m+\u001b[39m o2\n",
      "Cell \u001b[0;32mIn[7], line 58\u001b[0m, in \u001b[0;36mKi.__add__\u001b[0;34m(self, other)\u001b[0m\n\u001b[1;32m     56\u001b[0m \u001b[38;5;28;01mdef\u001b[39;00m \u001b[38;5;21m__add__\u001b[39m(\u001b[38;5;28mself\u001b[39m, other):\n\u001b[1;32m     57\u001b[0m     tmp \u001b[38;5;241m=\u001b[39m \u001b[38;5;28mself\u001b[39m\u001b[38;5;241m.\u001b[39marray \u001b[38;5;241m+\u001b[39m other\u001b[38;5;241m.\u001b[39marray\n\u001b[0;32m---> 58\u001b[0m     \u001b[38;5;28;01mreturn\u001b[39;00m Ki(tmp)\n",
      "\u001b[0;31mTypeError\u001b[0m: Ki.__init__() missing 1 required positional argument: 'b'"
     ]
    }
   ],
   "source": [
    "o1 + o2"
   ]
  },
  {
   "cell_type": "code",
   "execution_count": 15,
   "id": "ae845ec6",
   "metadata": {},
   "outputs": [
    {
     "ename": "NameError",
     "evalue": "name 'h1' is not defined",
     "output_type": "error",
     "traceback": [
      "\u001b[0;31m---------------------------------------------------------------------------\u001b[0m",
      "\u001b[0;31mNameError\u001b[0m                                 Traceback (most recent call last)",
      "Cell \u001b[0;32mIn[15], line 1\u001b[0m\n\u001b[0;32m----> 1\u001b[0m h1 \u001b[38;5;241m-\u001b[39m h2\n",
      "\u001b[0;31mNameError\u001b[0m: name 'h1' is not defined"
     ]
    }
   ],
   "source": [
    "h1 - h2"
   ]
  },
  {
   "cell_type": "code",
   "execution_count": null,
   "id": "226648d5",
   "metadata": {},
   "outputs": [],
   "source": [
    "h1 * h2"
   ]
  },
  {
   "cell_type": "markdown",
   "id": "91ec023a-577d-4ff3-8a8b-90cea9f4c706",
   "metadata": {},
   "source": [
    "Multiply a quaternion by a scalar (integer)"
   ]
  },
  {
   "cell_type": "code",
   "execution_count": null,
   "id": "44fbfff6-3c5d-4055-8665-f680628207a0",
   "metadata": {},
   "outputs": [],
   "source": [
    "h1.scalar_mul(2)"
   ]
  },
  {
   "cell_type": "markdown",
   "id": "f8c30052-e4ec-45c4-ac09-932a3cd1a320",
   "metadata": {},
   "source": [
    "## Floor Divide (Actually Round Divide)"
   ]
  },
  {
   "cell_type": "code",
   "execution_count": null,
   "id": "9b39ad68-b8b7-46d8-b33a-eaab34aea9c3",
   "metadata": {},
   "outputs": [],
   "source": [
    "print(h1)\n",
    "print(h4)\n",
    "print(h1 // h4)"
   ]
  },
  {
   "cell_type": "markdown",
   "id": "3589d11d-40b4-49a2-a483-26135a210a18",
   "metadata": {},
   "source": [
    "## Modified DivMod"
   ]
  },
  {
   "cell_type": "code",
   "execution_count": null,
   "id": "74c55298-bd83-4f5f-b27d-1d8b335cd14d",
   "metadata": {},
   "outputs": [],
   "source": [
    "help(Hi.modified_divmod)"
   ]
  },
  {
   "cell_type": "code",
   "execution_count": null,
   "id": "19168ba8-5e79-43a5-b5ed-fa4fcfcdc064",
   "metadata": {},
   "outputs": [],
   "source": [
    "a = h1\n",
    "b = h4\n",
    "print(a)\n",
    "print(b)\n",
    "quot, rem = Hi.modified_divmod(a, b)\n",
    "print(quot)\n",
    "print(rem)"
   ]
  },
  {
   "cell_type": "code",
   "execution_count": null,
   "id": "4a36accc-81f6-465d-a7e3-e3fb1a95e67f",
   "metadata": {},
   "outputs": [],
   "source": [
    "print(f\"{h4 * quot + rem}\\n = {h4}\\n   * {quot}\\n   + {rem}\")"
   ]
  },
  {
   "cell_type": "code",
   "execution_count": null,
   "id": "7009aefc-e117-4b4f-b9cc-d486d1c9b5c8",
   "metadata": {},
   "outputs": [],
   "source": [
    "print(rem.norm)\n",
    "print(b.norm)\n",
    "print(rem.norm < b.norm / 2)"
   ]
  },
  {
   "cell_type": "markdown",
   "id": "2110f072",
   "metadata": {},
   "source": [
    "## Convert to Two Gaussian Integers"
   ]
  },
  {
   "cell_type": "code",
   "execution_count": null,
   "id": "4101252d",
   "metadata": {},
   "outputs": [],
   "source": [
    "h1.to_gaussian_ints()"
   ]
  },
  {
   "cell_type": "markdown",
   "id": "701f8f7e",
   "metadata": {},
   "source": [
    "## Alternative Form of Multiplication"
   ]
  },
  {
   "cell_type": "code",
   "execution_count": null,
   "id": "1d538898",
   "metadata": {},
   "outputs": [],
   "source": [
    "help(Hi.mul_as_gaussian_ints)"
   ]
  },
  {
   "cell_type": "code",
   "execution_count": null,
   "id": "54fdd758",
   "metadata": {},
   "outputs": [],
   "source": [
    "Hi.mul_as_gaussian_ints(h1, h2)"
   ]
  },
  {
   "cell_type": "code",
   "execution_count": null,
   "id": "82735338",
   "metadata": {},
   "outputs": [],
   "source": []
  },
  {
   "cell_type": "code",
   "execution_count": null,
   "id": "dcb52a0c",
   "metadata": {},
   "outputs": [],
   "source": []
  }
 ],
 "metadata": {
  "kernelspec": {
   "display_name": "Python 3 (ipykernel)",
   "language": "python",
   "name": "python3"
  },
  "language_info": {
   "codemirror_mode": {
    "name": "ipython",
    "version": 3
   },
   "file_extension": ".py",
   "mimetype": "text/x-python",
   "name": "python",
   "nbconvert_exporter": "python",
   "pygments_lexer": "ipython3",
   "version": "3.11.5"
  }
 },
 "nbformat": 4,
 "nbformat_minor": 5
}
