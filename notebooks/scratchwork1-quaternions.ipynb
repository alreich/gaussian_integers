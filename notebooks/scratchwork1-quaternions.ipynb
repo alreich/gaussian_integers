{
 "cells": [
  {
   "cell_type": "markdown",
   "id": "359d8cbe",
   "metadata": {},
   "source": [
    "# Scratchwork #1 - Quaternion Integers"
   ]
  },
  {
   "cell_type": "code",
   "execution_count": 1,
   "id": "d7059578",
   "metadata": {},
   "outputs": [],
   "source": [
    "import numpy as np\n",
    "import random as rnd\n",
    "import math\n",
    "from gaussians import Zi\n",
    "\n",
    "def split_array(arr):\n",
    "    n = len(arr) // 2\n",
    "    return arr[:n], arr[n:]\n",
    "\n",
    "class Hi:\n",
    "    \"\"\"Integer-valued quaternions ('Gaussian quaternions')\"\"\"\n",
    "\n",
    "    def __init__(self, z1: (Zi, np.ndarray, int) = Zi(), z2: (Zi, int) = Zi(), z3: int = 0, z4: int = 0):\n",
    "        if isinstance(z1, Zi):\n",
    "            self.__real = z1\n",
    "            self.__imag = z2\n",
    "            self.__arr = np.array([z1.real, z1.imag, z2.real, z2.imag], dtype=np.int64)\n",
    "        elif isinstance(z1, np.ndarray):\n",
    "            self.__arr = z1\n",
    "            arr1, arr2 = split_array(z1)\n",
    "            self.__real = Zi.from_array(arr1)\n",
    "            self.__imag = Zi.from_array(arr2)\n",
    "        elif isinstance(z1, (int, np.int64)):\n",
    "            self.__real = Zi(z1, z2)\n",
    "            self.__imag = Zi(z3, z4)\n",
    "            self.__arr = np.array([z1, z2, z3, z4], dtype=np.int64)\n",
    "        else:\n",
    "            raise ValueError(f\"{type(z1)} not supported\")\n",
    "            \n",
    "    @property\n",
    "    def real(self):\n",
    "        return self.__real\n",
    "\n",
    "    @property\n",
    "    def imag(self):\n",
    "        return self.__imag\n",
    "\n",
    "    @property\n",
    "    def array(self):\n",
    "        return self.__arr\n",
    "\n",
    "    @property\n",
    "    def conjugate(self):\n",
    "        # a, b, c, d = self.array\n",
    "        # return Hi(a, -b, -c, -d)\n",
    "        return Hi(self.real.conjugate, -self.imag)\n",
    "\n",
    "    @property\n",
    "    def norm(self) -> int:\n",
    "        tmp = self * self.conjugate\n",
    "        return int(tmp.array[0])\n",
    "    \n",
    "    def show(self):\n",
    "        return f\"Hi({repr(self.__real)}, {repr(self.__imag)})\"\n",
    "\n",
    "    def __abs__(self) -> float:\n",
    "        return math.sqrt(self.norm)\n",
    "\n",
    "    def __repr__(self) -> str:\n",
    "        a, b, c, d = self.array\n",
    "        return f\"Hi({a}, {b}, {c}, {d})\"\n",
    "\n",
    "    def __str__(self) -> str:\n",
    "        a, b, c, d = self.array\n",
    "        return f\"({a} + {b}i + {c}j + {d}k)\"\n",
    "\n",
    "    def __add__(self, other):\n",
    "        return Hi(self.array + other.array)\n",
    "\n",
    "    def __sub__(self, other):\n",
    "        return Hi(self.array - other.array)\n",
    "\n",
    "    def __neg__(self):\n",
    "        return Hi(-self.array)\n",
    "\n",
    "    def __eq__(self, other):\n",
    "        return self.array == other.array\n",
    "\n",
    "    def __ne__(self, other):\n",
    "        return self.array != other.array\n",
    "\n",
    "    def __mul__(self, other):\n",
    "        \"\"\"Multiplication according to the Cayley-Dickson construction\"\"\"\n",
    "        a = self.real\n",
    "        b = self.imag\n",
    "        c = other.real\n",
    "        d = other.imag\n",
    "        # (a, b) * (c, d) = (a * c - d.conj * b, d * a + b * c.conj)\n",
    "        z1 = a * c - d.conjugate * b\n",
    "        z2 = d * a + b * c.conjugate\n",
    "        return Hi(z1, z2)\n",
    "    \n",
    "    @staticmethod\n",
    "    def hamilton_product(q1, q2):\n",
    "        \"\"\"Multiplication according to the classic Hamilton product\"\"\"\n",
    "        a1, b1, c1, d1 = q1.array\n",
    "        a2, b2, c2, d2 = q2.array\n",
    "        # See https://en.wikipedia.org/wiki/Quaternion#Hamilton_product\n",
    "        a = a1 * a2 - b1 * b2 - c1 * c2 - d1 * d2\n",
    "        b = a1 * b2 + b1 * a2 + c1 * d2 - d1 * c2\n",
    "        c = a1 * c2 - b1 * d2 + c1 * a2 + d1 * b2\n",
    "        d = a1 * d2 + b1 * c2 - c1 * b2 + d1 * a2\n",
    "        return Hi(a, b, c, d)\n",
    "\n",
    "    def scalar_mul(self, scalar):\n",
    "        \"\"\"Multiply this quaternion by a scalar integer.\n",
    "\n",
    "        Round the scalar to the nearest integer if necessary.\n",
    "        \"\"\"\n",
    "        return Hi(round(scalar) * self.array)\n",
    "\n",
    "    def __floordiv__(self, other):\n",
    "        \"\"\"Implements the // operator using 'round', instead of 'floor'.\"\"\"\n",
    "        numer = self * other.conjugate\n",
    "        denom = other.norm\n",
    "        quotient = np.round(numer.array / denom)\n",
    "        return Hi(quotient.astype(np.int64))\n",
    "\n",
    "    def to_gaussian_ints(self):\n",
    "        \"\"\"Convert this quaternion into two Gaussian integers\"\"\"\n",
    "        a, b, c, d = self.array\n",
    "        return Zi(int(a), int(b)), Zi(int(c), int(d))\n",
    "\n",
    "    @staticmethod\n",
    "    def random(low=-100, high=100):\n",
    "        return Hi(np.array([rnd.randint(low, high) for _ in range(4)]))\n",
    "\n",
    "    @staticmethod\n",
    "    def modified_divmod(a, b):\n",
    "        \"\"\"Returns q & r, such that a = b * q + r, where\n",
    "        r.norm < b.norm / 2\n",
    "        \"\"\"\n",
    "        q = a // b\n",
    "        r = a - b * q\n",
    "        return q, r"
   ]
  },
  {
   "cell_type": "markdown",
   "id": "7845139e",
   "metadata": {},
   "source": [
    "## Random Quaternion Integers:"
   ]
  },
  {
   "cell_type": "code",
   "execution_count": 2,
   "id": "7e91bfef",
   "metadata": {},
   "outputs": [],
   "source": [
    "import random as rnd\n",
    "\n",
    "rnd.seed(10)\n",
    "quads = [Hi.random() for _ in range(5)]\n",
    "h1, h2, h3, h4, h5 = quads"
   ]
  },
  {
   "cell_type": "code",
   "execution_count": 3,
   "id": "f080dcb5",
   "metadata": {},
   "outputs": [
    {
     "data": {
      "text/plain": [
       "(Hi(46, -92, 9, 23),\n",
       " Hi(47, -97, -48, 18),\n",
       " Hi(25, -29, 67, -59),\n",
       " Hi(-92, 33, 25, -17),\n",
       " Hi(-81, -37, 90, -8))"
      ]
     },
     "execution_count": 3,
     "metadata": {},
     "output_type": "execute_result"
    }
   ],
   "source": [
    "h1, h2, h3, h4, h5"
   ]
  },
  {
   "cell_type": "code",
   "execution_count": 4,
   "id": "518c3ee4",
   "metadata": {},
   "outputs": [
    {
     "data": {
      "text/plain": [
       "'Hi(Zi(46, -92), Zi(9, 23))'"
      ]
     },
     "execution_count": 4,
     "metadata": {},
     "output_type": "execute_result"
    }
   ],
   "source": [
    "h1.show()"
   ]
  },
  {
   "cell_type": "code",
   "execution_count": 5,
   "id": "a57061fa",
   "metadata": {},
   "outputs": [
    {
     "data": {
      "text/plain": [
       "Hi(46, -92, 9, 23)"
      ]
     },
     "execution_count": 5,
     "metadata": {},
     "output_type": "execute_result"
    }
   ],
   "source": [
    "Hi(Zi(46, -92), Zi(9, 23))"
   ]
  },
  {
   "cell_type": "code",
   "execution_count": 6,
   "id": "5587c78d",
   "metadata": {},
   "outputs": [
    {
     "data": {
      "text/plain": [
       "Hi(46, -92, 9, 23)"
      ]
     },
     "execution_count": 6,
     "metadata": {},
     "output_type": "execute_result"
    }
   ],
   "source": [
    "Hi(46, -92, 9, 23)"
   ]
  },
  {
   "cell_type": "code",
   "execution_count": 7,
   "id": "6e941dd2",
   "metadata": {},
   "outputs": [
    {
     "name": "stdout",
     "output_type": "stream",
     "text": [
      "(46 + -92i + 9j + 23k)\n"
     ]
    }
   ],
   "source": [
    "print(Hi(46, -92, 9, 23))"
   ]
  },
  {
   "cell_type": "markdown",
   "id": "677d44cc-1e41-4461-ac95-af29f2b0eb7e",
   "metadata": {},
   "source": [
    "## Print Quaternion Integers"
   ]
  },
  {
   "cell_type": "code",
   "execution_count": 8,
   "id": "777092d1-8200-4019-af6e-a75b2bb2f880",
   "metadata": {},
   "outputs": [
    {
     "name": "stdout",
     "output_type": "stream",
     "text": [
      "(46 + -92i + 9j + 23k)\n",
      "(47 + -97i + -48j + 18k)\n",
      "(25 + -29i + 67j + -59k)\n",
      "(-92 + 33i + 25j + -17k)\n",
      "(-81 + -37i + 90j + -8k)\n"
     ]
    }
   ],
   "source": [
    "for quad in quads:\n",
    "    print(quad)"
   ]
  },
  {
   "cell_type": "markdown",
   "id": "e8353835",
   "metadata": {},
   "source": [
    "## Conjugation, Norm, & Abs"
   ]
  },
  {
   "cell_type": "code",
   "execution_count": 9,
   "id": "d935f586",
   "metadata": {},
   "outputs": [
    {
     "data": {
      "text/plain": [
       "Hi(46, 92, -9, -23)"
      ]
     },
     "execution_count": 9,
     "metadata": {},
     "output_type": "execute_result"
    }
   ],
   "source": [
    "h1.conjugate"
   ]
  },
  {
   "cell_type": "code",
   "execution_count": 10,
   "id": "73369e08",
   "metadata": {},
   "outputs": [
    {
     "data": {
      "text/plain": [
       "11190"
      ]
     },
     "execution_count": 10,
     "metadata": {},
     "output_type": "execute_result"
    }
   ],
   "source": [
    "h1.norm"
   ]
  },
  {
   "cell_type": "code",
   "execution_count": 11,
   "id": "abb692ba-5bdc-41fa-97c2-846536e1bf1d",
   "metadata": {},
   "outputs": [
    {
     "data": {
      "text/plain": [
       "105.78279633286313"
      ]
     },
     "execution_count": 11,
     "metadata": {},
     "output_type": "execute_result"
    }
   ],
   "source": [
    "abs(h1)"
   ]
  },
  {
   "cell_type": "markdown",
   "id": "15d25457",
   "metadata": {},
   "source": [
    "## Quaternion Integer Arithmetic"
   ]
  },
  {
   "cell_type": "code",
   "execution_count": 12,
   "id": "3cd700fb",
   "metadata": {},
   "outputs": [
    {
     "data": {
      "text/plain": [
       "Hi(93, -189, -39, 41)"
      ]
     },
     "execution_count": 12,
     "metadata": {},
     "output_type": "execute_result"
    }
   ],
   "source": [
    "h1 + h2"
   ]
  },
  {
   "cell_type": "code",
   "execution_count": 13,
   "id": "ae845ec6",
   "metadata": {},
   "outputs": [
    {
     "data": {
      "text/plain": [
       "Hi(-1, 5, 57, 5)"
      ]
     },
     "execution_count": 13,
     "metadata": {},
     "output_type": "execute_result"
    }
   ],
   "source": [
    "h1 - h2"
   ]
  },
  {
   "cell_type": "code",
   "execution_count": 14,
   "id": "226648d5",
   "metadata": {},
   "outputs": [
    {
     "data": {
      "text/plain": [
       "Hi(-6744, -7520, -2360, 7198)"
      ]
     },
     "execution_count": 14,
     "metadata": {},
     "output_type": "execute_result"
    }
   ],
   "source": [
    "h1 * h2"
   ]
  },
  {
   "cell_type": "code",
   "execution_count": 15,
   "id": "f7be7189",
   "metadata": {},
   "outputs": [
    {
     "data": {
      "text/plain": [
       "Hi(-6744, -7520, -2360, 7198)"
      ]
     },
     "execution_count": 15,
     "metadata": {},
     "output_type": "execute_result"
    }
   ],
   "source": [
    "Hi.hamilton_product(h1, h2)"
   ]
  },
  {
   "cell_type": "markdown",
   "id": "91ec023a-577d-4ff3-8a8b-90cea9f4c706",
   "metadata": {},
   "source": [
    "Multiply a quaternion by a scalar (integer)"
   ]
  },
  {
   "cell_type": "code",
   "execution_count": 16,
   "id": "44fbfff6-3c5d-4055-8665-f680628207a0",
   "metadata": {},
   "outputs": [
    {
     "data": {
      "text/plain": [
       "Hi(92, -184, 18, 46)"
      ]
     },
     "execution_count": 16,
     "metadata": {},
     "output_type": "execute_result"
    }
   ],
   "source": [
    "h1.scalar_mul(2)"
   ]
  },
  {
   "cell_type": "markdown",
   "id": "f8c30052-e4ec-45c4-ac09-932a3cd1a320",
   "metadata": {},
   "source": [
    "## Floor Divide (Actually Round Divide)"
   ]
  },
  {
   "cell_type": "code",
   "execution_count": 17,
   "id": "9b39ad68-b8b7-46d8-b33a-eaab34aea9c3",
   "metadata": {},
   "outputs": [
    {
     "name": "stdout",
     "output_type": "stream",
     "text": [
      "(46 + -92i + 9j + 23k)\n",
      "(-92 + 33i + 25j + -17k)\n",
      "(-1 + 1i + 0j + 0k)\n"
     ]
    }
   ],
   "source": [
    "print(h1)\n",
    "print(h4)\n",
    "print(h1 // h4)"
   ]
  },
  {
   "cell_type": "markdown",
   "id": "3589d11d-40b4-49a2-a483-26135a210a18",
   "metadata": {},
   "source": [
    "## Modified DivMod"
   ]
  },
  {
   "cell_type": "code",
   "execution_count": 18,
   "id": "74c55298-bd83-4f5f-b27d-1d8b335cd14d",
   "metadata": {},
   "outputs": [
    {
     "name": "stdout",
     "output_type": "stream",
     "text": [
      "Help on function modified_divmod in module __main__:\n",
      "\n",
      "modified_divmod(a, b)\n",
      "    Returns q & r, such that a = b * q + r, where\n",
      "    r.norm < b.norm / 2\n",
      "\n"
     ]
    }
   ],
   "source": [
    "help(Hi.modified_divmod)"
   ]
  },
  {
   "cell_type": "code",
   "execution_count": 19,
   "id": "19168ba8-5e79-43a5-b5ed-fa4fcfcdc064",
   "metadata": {},
   "outputs": [
    {
     "name": "stdout",
     "output_type": "stream",
     "text": [
      "(46 + -92i + 9j + 23k)\n",
      "(-92 + 33i + 25j + -17k)\n",
      "(-1 + 1i + 0j + 0k)\n",
      "(-13 + 33i + 51j + 31k)\n"
     ]
    }
   ],
   "source": [
    "a = h1\n",
    "b = h4\n",
    "print(a)\n",
    "print(b)\n",
    "quot, rem = Hi.modified_divmod(a, b)\n",
    "print(quot)\n",
    "print(rem)"
   ]
  },
  {
   "cell_type": "code",
   "execution_count": 20,
   "id": "4a36accc-81f6-465d-a7e3-e3fb1a95e67f",
   "metadata": {},
   "outputs": [
    {
     "name": "stdout",
     "output_type": "stream",
     "text": [
      "(46 + -92i + 9j + 23k)\n",
      " = (-92 + 33i + 25j + -17k)\n",
      "   * (-1 + 1i + 0j + 0k)\n",
      "   + (-13 + 33i + 51j + 31k)\n"
     ]
    }
   ],
   "source": [
    "print(f\"{h4 * quot + rem}\\n = {h4}\\n   * {quot}\\n   + {rem}\")"
   ]
  },
  {
   "cell_type": "code",
   "execution_count": 21,
   "id": "7009aefc-e117-4b4f-b9cc-d486d1c9b5c8",
   "metadata": {},
   "outputs": [
    {
     "name": "stdout",
     "output_type": "stream",
     "text": [
      "4820\n",
      "10467\n",
      "True\n"
     ]
    }
   ],
   "source": [
    "print(rem.norm)\n",
    "print(b.norm)\n",
    "print(rem.norm < b.norm / 2)"
   ]
  }
 ],
 "metadata": {
  "kernelspec": {
   "display_name": "Python 3 (ipykernel)",
   "language": "python",
   "name": "python3"
  },
  "language_info": {
   "codemirror_mode": {
    "name": "ipython",
    "version": 3
   },
   "file_extension": ".py",
   "mimetype": "text/x-python",
   "name": "python",
   "nbconvert_exporter": "python",
   "pygments_lexer": "ipython3",
   "version": "3.11.5"
  }
 },
 "nbformat": 4,
 "nbformat_minor": 5
}
