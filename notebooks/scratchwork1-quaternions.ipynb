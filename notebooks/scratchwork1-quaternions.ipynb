{
 "cells": [
  {
   "cell_type": "markdown",
   "id": "359d8cbe",
   "metadata": {},
   "source": [
    "# Scratchwork #1 - Quaternion Integers"
   ]
  },
  {
   "cell_type": "code",
   "execution_count": 1,
   "id": "b05233d1",
   "metadata": {},
   "outputs": [],
   "source": [
    "from gaussians import Zi, Qi"
   ]
  },
  {
   "cell_type": "markdown",
   "id": "ca71b535",
   "metadata": {},
   "source": [
    "## Quaternion Integers"
   ]
  },
  {
   "cell_type": "code",
   "execution_count": 99,
   "id": "afde5ca1",
   "metadata": {},
   "outputs": [],
   "source": [
    "import numpy as np\n",
    "import random as rnd\n",
    "\n",
    "class Hi():\n",
    "    \n",
    "    def __init__(self,\n",
    "                 a: (int, np.int64) = 1, b: (int, np.int64) = 0,\n",
    "                 c: (int, np.int64) = 0, d: (int, np.int64) = 0):\n",
    "        if isinstance(a, (int, np.int64)):\n",
    "            self.__arr = np.array([a, b, c, d], dtype=np.int64)\n",
    "        elif isinstance(a, np.ndarray):\n",
    "            self.__arr = a\n",
    "    \n",
    "    @property\n",
    "    def real(self) -> int:\n",
    "        return self.__arr[0]\n",
    "    \n",
    "    @property\n",
    "    def imag(self):\n",
    "        return tuple(self.__arr[1:])\n",
    "    \n",
    "    @property\n",
    "    def array(self):\n",
    "        return self.__arr\n",
    "    \n",
    "    @property\n",
    "    def conjugate(self):\n",
    "        a, b, c, d = self.array\n",
    "        return Hi(a, -b, -c, -d)\n",
    "    \n",
    "    @property\n",
    "    def norm(self):\n",
    "        tmp = self * self.conjugate\n",
    "        return int(tmp.real)\n",
    "    \n",
    "    def __repr__(self):\n",
    "        a, b, c, d = self.array\n",
    "        return f\"Hi({a}, {b}, {c}, {d})\"\n",
    "    \n",
    "    def __str__(self):\n",
    "        a, b, c, d = self.array\n",
    "        return f\"({a} + {b}i + {c}j + {d}k)\"\n",
    "    \n",
    "    def __add__(self, other):\n",
    "        sum = self.array + other.array\n",
    "        return Hi(sum)\n",
    "    \n",
    "    def __sub__(self, other):\n",
    "        diff = self.array - other.array\n",
    "        return Hi(diff)\n",
    "    \n",
    "    def __mul__(self, other):\n",
    "        a1, b1, c1, d1 = self.array\n",
    "        a2, b2, c2, d2 = other.array\n",
    "        # See https://en.wikipedia.org/wiki/Quaternion#Hamilton_product\n",
    "        a = a1 * a2 - b1 * b2 - c1 * c2 - d1 * d2\n",
    "        b = a1 * b2 + b1 * a2 + c1 * d2 - d1 * c2\n",
    "        c = a1 * c2 - b1 * d2 + c1 * a2 + d1 * b2\n",
    "        d = a1 * d2 + b1 * c2 - c1 * b2 + d1 * a2\n",
    "        return Hi(a, b, c, d)\n",
    "    \n",
    "    def to_gaussian_ints(self):\n",
    "        \"\"\"Convert this quaternion into two Gaussian integers\"\"\"\n",
    "        a, b, c, d = self.array\n",
    "        return Zi(int(a), int(b)), Zi(int(c), int(d))\n",
    "    \n",
    "    @staticmethod\n",
    "    def mul_as_gaussian_ints(q1, q2):\n",
    "        \"\"\"Implements quaternion multiplication by first converting each one into\n",
    "        two Gaussian integers, Zi, and then multiplying the Zi according to the\n",
    "        Cayley-Dickson construction\n",
    "        \"\"\"\n",
    "        a, b = q1.to_gaussian_ints()\n",
    "        c, d = q2.to_gaussian_ints()\n",
    "        # \n",
    "        # (a, b) * (c, d) = (a * c - d.conj * b, d * a + b * c.conj)\n",
    "        z1 = a * c - d.conjugate * b\n",
    "        z2 = d * a + b * c.conjugate\n",
    "        return Hi(z1.real, z1.imag, z2.real, z2.imag)\n",
    "    \n",
    "    @staticmethod\n",
    "    def random(low=-100, high=100):\n",
    "        return Hi(np.array([rnd.randint(low, high) for _ in range(4)]))"
   ]
  },
  {
   "cell_type": "markdown",
   "id": "7845139e",
   "metadata": {},
   "source": [
    "## Random Quaternion Integers:"
   ]
  },
  {
   "cell_type": "code",
   "execution_count": 100,
   "id": "7e91bfef",
   "metadata": {},
   "outputs": [],
   "source": [
    "rnd.seed(10)\n",
    "quats = [Hi.random() for _ in range(5)]\n",
    "h1, h2, h3, h4, h5 = quats"
   ]
  },
  {
   "cell_type": "code",
   "execution_count": 101,
   "id": "f080dcb5",
   "metadata": {},
   "outputs": [
    {
     "data": {
      "text/plain": [
       "(Hi(46, -92, 9, 23),\n",
       " Hi(47, -97, -48, 18),\n",
       " Hi(25, -29, 67, -59),\n",
       " Hi(-92, 33, 25, -17),\n",
       " Hi(-81, -37, 90, -8))"
      ]
     },
     "execution_count": 101,
     "metadata": {},
     "output_type": "execute_result"
    }
   ],
   "source": [
    "h1, h2, h3, h4, h5"
   ]
  },
  {
   "cell_type": "markdown",
   "id": "e8353835",
   "metadata": {},
   "source": [
    "## Conjugation and the Norm"
   ]
  },
  {
   "cell_type": "code",
   "execution_count": 102,
   "id": "d935f586",
   "metadata": {},
   "outputs": [
    {
     "data": {
      "text/plain": [
       "Hi(46, 92, -9, -23)"
      ]
     },
     "execution_count": 102,
     "metadata": {},
     "output_type": "execute_result"
    }
   ],
   "source": [
    "h1.conjugate"
   ]
  },
  {
   "cell_type": "code",
   "execution_count": 103,
   "id": "73369e08",
   "metadata": {},
   "outputs": [
    {
     "data": {
      "text/plain": [
       "11190"
      ]
     },
     "execution_count": 103,
     "metadata": {},
     "output_type": "execute_result"
    }
   ],
   "source": [
    "h1.norm"
   ]
  },
  {
   "cell_type": "markdown",
   "id": "15d25457",
   "metadata": {},
   "source": [
    "## Quaternion Integer Arithmetic"
   ]
  },
  {
   "cell_type": "code",
   "execution_count": 104,
   "id": "3cd700fb",
   "metadata": {},
   "outputs": [
    {
     "data": {
      "text/plain": [
       "Hi(93, -189, -39, 41)"
      ]
     },
     "execution_count": 104,
     "metadata": {},
     "output_type": "execute_result"
    }
   ],
   "source": [
    "h1 + h2"
   ]
  },
  {
   "cell_type": "code",
   "execution_count": 105,
   "id": "ae845ec6",
   "metadata": {},
   "outputs": [
    {
     "data": {
      "text/plain": [
       "Hi(-1, 5, 57, 5)"
      ]
     },
     "execution_count": 105,
     "metadata": {},
     "output_type": "execute_result"
    }
   ],
   "source": [
    "h1 - h2"
   ]
  },
  {
   "cell_type": "code",
   "execution_count": 106,
   "id": "226648d5",
   "metadata": {},
   "outputs": [
    {
     "data": {
      "text/plain": [
       "Hi(-6744, -7520, -2360, 7198)"
      ]
     },
     "execution_count": 106,
     "metadata": {},
     "output_type": "execute_result"
    }
   ],
   "source": [
    "h1 * h2"
   ]
  },
  {
   "cell_type": "markdown",
   "id": "2110f072",
   "metadata": {},
   "source": [
    "## Convert to Two Gaussian Integers"
   ]
  },
  {
   "cell_type": "code",
   "execution_count": 64,
   "id": "4101252d",
   "metadata": {},
   "outputs": [
    {
     "data": {
      "text/plain": [
       "(Zi(46, -92), Zi(9, 23))"
      ]
     },
     "execution_count": 64,
     "metadata": {},
     "output_type": "execute_result"
    }
   ],
   "source": [
    "h1.to_gaussian_ints()"
   ]
  },
  {
   "cell_type": "markdown",
   "id": "701f8f7e",
   "metadata": {},
   "source": [
    "## Alternative Form of Multiplication"
   ]
  },
  {
   "cell_type": "code",
   "execution_count": 108,
   "id": "1d538898",
   "metadata": {},
   "outputs": [
    {
     "name": "stdout",
     "output_type": "stream",
     "text": [
      "Help on function mul_as_gaussian_ints in module __main__:\n",
      "\n",
      "mul_as_gaussian_ints(q1, q2)\n",
      "    Implements quaternion multiplication by first converting each one into\n",
      "    two Gaussian integers, Zi, and then multiplying the Zi according to the\n",
      "    Cayley-Dickson construction\n",
      "\n"
     ]
    }
   ],
   "source": [
    "help(Hi.mul_as_gaussian_ints)"
   ]
  },
  {
   "cell_type": "code",
   "execution_count": 107,
   "id": "54fdd758",
   "metadata": {},
   "outputs": [
    {
     "data": {
      "text/plain": [
       "Hi(-6744, -7520, -2360, 7198)"
      ]
     },
     "execution_count": 107,
     "metadata": {},
     "output_type": "execute_result"
    }
   ],
   "source": [
    "Hi.mul_as_gaussian_ints(h1, h2)"
   ]
  },
  {
   "cell_type": "code",
   "execution_count": null,
   "id": "453b2cec",
   "metadata": {},
   "outputs": [],
   "source": []
  },
  {
   "cell_type": "code",
   "execution_count": 5,
   "id": "c51b6bcf",
   "metadata": {},
   "outputs": [],
   "source": [
    "def split_array(arr):\n",
    "    n = len(arr) // 2\n",
    "    return arr[:n], arr[n:]"
   ]
  },
  {
   "cell_type": "code",
   "execution_count": 6,
   "id": "eb196244",
   "metadata": {},
   "outputs": [
    {
     "data": {
      "text/plain": [
       "Hi(1, 2, 3, 4)"
      ]
     },
     "execution_count": 6,
     "metadata": {},
     "output_type": "execute_result"
    }
   ],
   "source": [
    "h1 = Hi(1, 2, 3, 4)\n",
    "h1"
   ]
  },
  {
   "cell_type": "code",
   "execution_count": 7,
   "id": "bde1fa83",
   "metadata": {},
   "outputs": [
    {
     "data": {
      "text/plain": [
       "(array([1, 2]), array([3, 4]))"
      ]
     },
     "execution_count": 7,
     "metadata": {},
     "output_type": "execute_result"
    }
   ],
   "source": [
    "split_array(h1.array)"
   ]
  },
  {
   "cell_type": "code",
   "execution_count": null,
   "id": "c94e9f8f",
   "metadata": {},
   "outputs": [],
   "source": []
  },
  {
   "cell_type": "code",
   "execution_count": null,
   "id": "03d209c5",
   "metadata": {},
   "outputs": [],
   "source": []
  },
  {
   "cell_type": "code",
   "execution_count": 8,
   "id": "a9ebdabb",
   "metadata": {},
   "outputs": [],
   "source": [
    "a, b, c, d = h1.array"
   ]
  },
  {
   "cell_type": "code",
   "execution_count": 9,
   "id": "b299061f",
   "metadata": {},
   "outputs": [
    {
     "data": {
      "text/plain": [
       "(1, 2, 3, 4)"
      ]
     },
     "execution_count": 9,
     "metadata": {},
     "output_type": "execute_result"
    }
   ],
   "source": [
    "a, b, c, d"
   ]
  },
  {
   "cell_type": "code",
   "execution_count": 10,
   "id": "197e0faf",
   "metadata": {},
   "outputs": [
    {
     "data": {
      "text/plain": [
       "numpy.int64"
      ]
     },
     "execution_count": 10,
     "metadata": {},
     "output_type": "execute_result"
    }
   ],
   "source": [
    "type(a)"
   ]
  },
  {
   "cell_type": "code",
   "execution_count": null,
   "id": "e5613870",
   "metadata": {},
   "outputs": [],
   "source": []
  },
  {
   "cell_type": "code",
   "execution_count": 11,
   "id": "2e2b2239",
   "metadata": {},
   "outputs": [
    {
     "name": "stdout",
     "output_type": "stream",
     "text": [
      "(1 + 2i + 3j + 4k)\n"
     ]
    }
   ],
   "source": [
    "print(h1)"
   ]
  },
  {
   "cell_type": "code",
   "execution_count": 12,
   "id": "127d162b",
   "metadata": {},
   "outputs": [
    {
     "data": {
      "text/plain": [
       "1"
      ]
     },
     "execution_count": 12,
     "metadata": {},
     "output_type": "execute_result"
    }
   ],
   "source": [
    "h1.real"
   ]
  },
  {
   "cell_type": "code",
   "execution_count": 13,
   "id": "72edf7e0",
   "metadata": {},
   "outputs": [
    {
     "data": {
      "text/plain": [
       "(2, 3, 4)"
      ]
     },
     "execution_count": 13,
     "metadata": {},
     "output_type": "execute_result"
    }
   ],
   "source": [
    "h1.imag"
   ]
  },
  {
   "cell_type": "code",
   "execution_count": 14,
   "id": "f82e2fbd",
   "metadata": {},
   "outputs": [
    {
     "data": {
      "text/plain": [
       "Hi(1, 0, 0, 0)"
      ]
     },
     "execution_count": 14,
     "metadata": {},
     "output_type": "execute_result"
    }
   ],
   "source": [
    "Hi()"
   ]
  },
  {
   "cell_type": "code",
   "execution_count": 15,
   "id": "d04ee6b6",
   "metadata": {},
   "outputs": [],
   "source": [
    "h1 = Hi(1, 2, 3, 4)\n",
    "h2 = Hi(4, 3, 2, 1)"
   ]
  },
  {
   "cell_type": "code",
   "execution_count": 16,
   "id": "cf1f951a",
   "metadata": {},
   "outputs": [
    {
     "data": {
      "text/plain": [
       "Hi(1, 2, 3, 4)"
      ]
     },
     "execution_count": 16,
     "metadata": {},
     "output_type": "execute_result"
    }
   ],
   "source": [
    "h1"
   ]
  },
  {
   "cell_type": "code",
   "execution_count": 17,
   "id": "a9fa9c80",
   "metadata": {},
   "outputs": [
    {
     "data": {
      "text/plain": [
       "Hi(4, 3, 2, 1)"
      ]
     },
     "execution_count": 17,
     "metadata": {},
     "output_type": "execute_result"
    }
   ],
   "source": [
    "h2"
   ]
  },
  {
   "cell_type": "code",
   "execution_count": 18,
   "id": "2511b424",
   "metadata": {},
   "outputs": [
    {
     "name": "stdout",
     "output_type": "stream",
     "text": [
      "(5 + 5i + 5j + 5k)\n"
     ]
    }
   ],
   "source": [
    "print(h1 + h2)"
   ]
  },
  {
   "cell_type": "code",
   "execution_count": 19,
   "id": "b3ec9e63",
   "metadata": {},
   "outputs": [
    {
     "name": "stdout",
     "output_type": "stream",
     "text": [
      "(-3 + -1i + 1j + 3k)\n"
     ]
    }
   ],
   "source": [
    "print(h1 - h2)"
   ]
  },
  {
   "cell_type": "code",
   "execution_count": 20,
   "id": "85575e27",
   "metadata": {},
   "outputs": [
    {
     "data": {
      "text/plain": [
       "Hi(-28, 4, 6, 8)"
      ]
     },
     "execution_count": 20,
     "metadata": {},
     "output_type": "execute_result"
    }
   ],
   "source": [
    "h1 * h1"
   ]
  },
  {
   "cell_type": "code",
   "execution_count": null,
   "id": "0ae1f07f",
   "metadata": {},
   "outputs": [],
   "source": []
  },
  {
   "cell_type": "code",
   "execution_count": null,
   "id": "9ca4a21e",
   "metadata": {},
   "outputs": [],
   "source": []
  },
  {
   "cell_type": "code",
   "execution_count": null,
   "id": "db505881",
   "metadata": {},
   "outputs": [],
   "source": []
  }
 ],
 "metadata": {
  "kernelspec": {
   "display_name": "Python 3 (ipykernel)",
   "language": "python",
   "name": "python3"
  },
  "language_info": {
   "codemirror_mode": {
    "name": "ipython",
    "version": 3
   },
   "file_extension": ".py",
   "mimetype": "text/x-python",
   "name": "python",
   "nbconvert_exporter": "python",
   "pygments_lexer": "ipython3",
   "version": "3.11.5"
  }
 },
 "nbformat": 4,
 "nbformat_minor": 5
}
