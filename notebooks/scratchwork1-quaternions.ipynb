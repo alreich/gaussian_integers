{
 "cells": [
  {
   "cell_type": "markdown",
   "id": "359d8cbe",
   "metadata": {},
   "source": [
    "# Scratchwork #1 - Quaternion Integers"
   ]
  },
  {
   "cell_type": "code",
   "execution_count": 1,
   "id": "546eb77f-379e-4ff7-8a9a-cac35cafbe22",
   "metadata": {},
   "source": [
    "from quaternions import Hi\n",
    "from gaussians import Zi\n",
    "import numpy as np\n",
    "import random as rnd"
   ],
   "outputs": []
  },
  {
   "cell_type": "code",
   "execution_count": 2,
   "id": "a9a35cf0",
   "metadata": {},
   "source": [
    "help(Hi)"
   ],
   "outputs": []
  },
  {
   "cell_type": "markdown",
   "id": "7845139e",
   "metadata": {},
   "source": [
    "## Quaternion Integers"
   ]
  },
  {
   "cell_type": "code",
   "execution_count": 3,
   "id": "16bb2346-b110-413e-a4b9-ce626d0e4b96",
   "metadata": {},
   "source": [
    "Hi()"
   ],
   "outputs": []
  },
  {
   "cell_type": "code",
   "execution_count": 4,
   "id": "6b1da64b-7412-400a-a8f4-8f408418f3d6",
   "metadata": {},
   "source": [
    "Hi(1, 2, 3, 4)"
   ],
   "outputs": []
  },
  {
   "cell_type": "code",
   "execution_count": 5,
   "id": "5aae2bcd-b48c-48f3-af57-3bddd753d4c7",
   "metadata": {},
   "source": [
    "Hi(Zi(1, 2), Zi(3, 4))"
   ],
   "outputs": []
  },
  {
   "cell_type": "code",
   "execution_count": 6,
   "id": "a1d0c8db-2958-45b1-a84f-e70eac6bc266",
   "metadata": {},
   "source": [
    "Hi(np.array([1, 2, 3, 4]))"
   ],
   "outputs": []
  },
  {
   "cell_type": "code",
   "execution_count": 7,
   "id": "7e91bfef",
   "metadata": {},
   "source": [
    "rnd.seed(10)\n",
    "quads = [Hi.random() for _ in range(5)]\n",
    "h1, h2, h3, h4, h5 = quads"
   ],
   "outputs": []
  },
  {
   "cell_type": "code",
   "execution_count": 8,
   "id": "f080dcb5",
   "metadata": {},
   "source": [
    "h1, h2, h3, h4, h5"
   ],
   "outputs": []
  },
  {
   "cell_type": "code",
   "execution_count": 9,
   "id": "a57061fa",
   "metadata": {},
   "source": [
    "Hi(Zi(46, -92), Zi(9, 23))  # cut-and-pasted the output, above"
   ],
   "outputs": []
  },
  {
   "cell_type": "code",
   "execution_count": 10,
   "id": "5587c78d",
   "metadata": {},
   "source": [
    "Hi(46, -92, 9, 23)  # This is the actual repr of an Hi"
   ],
   "outputs": []
  },
  {
   "cell_type": "code",
   "execution_count": 11,
   "id": "6e941dd2",
   "metadata": {},
   "source": [
    "print(Hi(46, -92, 9, 23))  # And this is the str form of an Hi"
   ],
   "outputs": []
  },
  {
   "cell_type": "code",
   "execution_count": 12,
   "id": "9d318896-d5d8-44cc-8a68-33616e525501",
   "metadata": {},
   "source": [
    "Hi.from_string('(46 + -92i + 9j + 23k)')"
   ],
   "outputs": []
  },
  {
   "cell_type": "code",
   "execution_count": 13,
   "id": "3b012529-fd05-4394-825b-cb2e3c376fd2",
   "metadata": {},
   "source": [
    "re, im = h1.gaussian_ints\n",
    "print(h1)\n",
    "print(re)\n",
    "print(im)"
   ],
   "outputs": []
  },
  {
   "cell_type": "code",
   "execution_count": 14,
   "id": "83044d03-5c06-4c01-88f3-422de63047d1",
   "metadata": {},
   "source": [
    "print(h1.real)"
   ],
   "outputs": []
  },
  {
   "cell_type": "code",
   "execution_count": 15,
   "id": "98b3202a-5666-43fc-a42d-a358f0ed0566",
   "metadata": {},
   "source": [
    "print(h1.imag)"
   ],
   "outputs": []
  },
  {
   "cell_type": "markdown",
   "id": "677d44cc-1e41-4461-ac95-af29f2b0eb7e",
   "metadata": {},
   "source": [
    "## Print Quaternion Integers"
   ]
  },
  {
   "cell_type": "code",
   "execution_count": 16,
   "id": "777092d1-8200-4019-af6e-a75b2bb2f880",
   "metadata": {},
   "source": [
    "for quad in quads:\n",
    "    print(quad)"
   ],
   "outputs": []
  },
  {
   "cell_type": "markdown",
   "id": "e8353835",
   "metadata": {},
   "source": [
    "## Conjugation, Norm, & Abs"
   ]
  },
  {
   "cell_type": "code",
   "execution_count": 17,
   "id": "d935f586",
   "metadata": {},
   "source": [
    "h1.conjugate"
   ],
   "outputs": []
  },
  {
   "cell_type": "code",
   "execution_count": 18,
   "id": "73369e08",
   "metadata": {},
   "source": [
    "h1.norm"
   ],
   "outputs": []
  },
  {
   "cell_type": "code",
   "execution_count": 19,
   "id": "abb692ba-5bdc-41fa-97c2-846536e1bf1d",
   "metadata": {},
   "source": [
    "abs(h1)"
   ],
   "outputs": []
  },
  {
   "cell_type": "markdown",
   "id": "d067d5b9-149b-43f4-9265-748654382fe9",
   "metadata": {},
   "source": [
    "## Equality / Inequality"
   ]
  },
  {
   "cell_type": "code",
   "execution_count": 20,
   "id": "fe4d77f3-cef8-432b-a670-fa3bc21eec8d",
   "metadata": {},
   "source": [
    "h1 == h2"
   ],
   "outputs": []
  },
  {
   "cell_type": "code",
   "execution_count": 21,
   "id": "4859f8c3-cfbe-4244-ad4b-879320db2c17",
   "metadata": {},
   "source": [
    "h1 != h2"
   ],
   "outputs": []
  },
  {
   "cell_type": "code",
   "execution_count": 22,
   "id": "2e8c1375-1aa3-49aa-bfcd-c03f4eb1c9fc",
   "metadata": {},
   "source": [
    "h1copy = Hi(46, -92, 9, 23)\n",
    "print(id(h1) == id(h1copy))  # If False, proves they are two different objects\n",
    "h1 == h1copy"
   ],
   "outputs": []
  },
  {
   "cell_type": "markdown",
   "id": "15d25457",
   "metadata": {},
   "source": [
    "## Quaternion Integer Arithmetic"
   ]
  },
  {
   "cell_type": "code",
   "execution_count": 23,
   "id": "3cd700fb",
   "metadata": {},
   "source": [
    "h1 + h2"
   ],
   "outputs": []
  },
  {
   "cell_type": "code",
   "execution_count": 24,
   "id": "ae845ec6",
   "metadata": {},
   "source": [
    "h1 - h2"
   ],
   "outputs": []
  },
  {
   "cell_type": "code",
   "execution_count": 25,
   "id": "226648d5",
   "metadata": {},
   "source": [
    "h1 * h2"
   ],
   "outputs": []
  },
  {
   "cell_type": "code",
   "execution_count": 26,
   "id": "f7be7189",
   "metadata": {},
   "source": [
    "Hi.hamilton_product(h1, h2)"
   ],
   "outputs": []
  },
  {
   "cell_type": "code",
   "execution_count": 27,
   "id": "094283ee",
   "metadata": {},
   "source": [
    "h1 * 2"
   ],
   "outputs": []
  },
  {
   "cell_type": "code",
   "execution_count": 28,
   "id": "42eb065c",
   "metadata": {},
   "source": [
    "2 * h1"
   ],
   "outputs": []
  },
  {
   "cell_type": "code",
   "execution_count": 37,
   "id": "6e53923f",
   "metadata": {},
   "source": [
    "h1 * Zi(2, 0)"
   ],
   "outputs": []
  },
  {
   "cell_type": "code",
   "execution_count": 38,
   "id": "0d77d3b8",
   "metadata": {},
   "source": [
    "# Zi(2, -1) * h1  # Right mult by a Zi doesn't work"
   ],
   "outputs": []
  },
  {
   "cell_type": "markdown",
   "id": "f8c30052-e4ec-45c4-ac09-932a3cd1a320",
   "metadata": {},
   "source": [
    "## Floor Divide (Actually Round Divide)"
   ]
  },
  {
   "cell_type": "code",
   "execution_count": 29,
   "id": "9b39ad68-b8b7-46d8-b33a-eaab34aea9c3",
   "metadata": {},
   "source": [
    "print(h1)\n",
    "print(h4)\n",
    "print(h1 // h4)"
   ],
   "outputs": []
  },
  {
   "cell_type": "markdown",
   "id": "3589d11d-40b4-49a2-a483-26135a210a18",
   "metadata": {},
   "source": [
    "## Modified DivMod"
   ]
  },
  {
   "cell_type": "code",
   "execution_count": 30,
   "id": "74c55298-bd83-4f5f-b27d-1d8b335cd14d",
   "metadata": {},
   "source": [
    "help(Hi.modified_divmod)"
   ],
   "outputs": []
  },
  {
   "cell_type": "code",
   "execution_count": 31,
   "id": "19168ba8-5e79-43a5-b5ed-fa4fcfcdc064",
   "metadata": {},
   "source": [
    "a = h1\n",
    "b = h4\n",
    "print(a)\n",
    "print(b)\n",
    "quot, rem = Hi.modified_divmod(a, b)\n",
    "print(quot)\n",
    "print(rem)"
   ],
   "outputs": []
  },
  {
   "cell_type": "code",
   "execution_count": 32,
   "id": "4a36accc-81f6-465d-a7e3-e3fb1a95e67f",
   "metadata": {},
   "source": [
    "print(f\"{h4 * quot + rem}\\n = {h4}\\n   * {quot}\\n   + {rem}\")"
   ],
   "outputs": []
  },
  {
   "cell_type": "code",
   "execution_count": 33,
   "id": "7009aefc-e117-4b4f-b9cc-d486d1c9b5c8",
   "metadata": {},
   "source": [
    "print(rem.norm)\n",
    "print(b.norm)\n",
    "print(rem.norm < b.norm / 2)"
   ],
   "outputs": []
  }
 ],
 "metadata": {
  "kernelspec": {
   "display_name": "Python 3 (ipykernel)",
   "language": "python",
   "name": "python3"
  },
  "language_info": {
   "codemirror_mode": {
    "name": "ipython",
    "version": 3
   },
   "file_extension": ".py",
   "mimetype": "text/x-python",
   "name": "python",
   "nbconvert_exporter": "python",
   "pygments_lexer": "ipython3",
   "version": "3.11.5"
  }
 },
 "nbformat": 4,
 "nbformat_minor": 5
}
