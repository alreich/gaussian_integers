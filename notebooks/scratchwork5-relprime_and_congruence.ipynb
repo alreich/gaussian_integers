{
 "cells": [
  {
   "cell_type": "markdown",
   "id": "e69699b7",
   "metadata": {},
   "source": [
    "# Scratchwork 5 - Relatively Prime & Congruence Modulo"
   ]
  },
  {
   "cell_type": "markdown",
   "id": "e464224f",
   "metadata": {},
   "source": [
    "**THIS IS A WORK-IN-PROGRESS**"
   ]
  },
  {
   "cell_type": "code",
   "execution_count": 1,
   "id": "3e826cbe",
   "metadata": {},
   "outputs": [],
   "source": [
    "from gaussians import Zi, Qi, isprime\n",
    "from itertools import pairwise"
   ]
  },
  {
   "cell_type": "markdown",
   "id": "3965e47c",
   "metadata": {},
   "source": [
    "## Relatively Prime"
   ]
  },
  {
   "cell_type": "code",
   "execution_count": 17,
   "id": "d49a593f",
   "metadata": {},
   "outputs": [
    {
     "name": "stdout",
     "output_type": "stream",
     "text": [
      "Help on function is_relatively_prime in module gaussians:\n",
      "\n",
      "is_relatively_prime(a, b) -> bool\n",
      "    Returns True if a and b are relatively prime, otherwise it returns false.\n",
      "\n"
     ]
    }
   ],
   "source": [
    "help(Zi.is_relatively_prime)"
   ]
  },
  {
   "cell_type": "code",
   "execution_count": 2,
   "id": "2e6c3bef",
   "metadata": {},
   "outputs": [
    {
     "data": {
      "text/plain": [
       "Zi(1, 1)"
      ]
     },
     "execution_count": 2,
     "metadata": {},
     "output_type": "execute_result"
    }
   ],
   "source": [
    "two = Zi.two()\n",
    "two"
   ]
  },
  {
   "cell_type": "code",
   "execution_count": 3,
   "id": "e3cadacb",
   "metadata": {},
   "outputs": [
    {
     "name": "stdout",
     "output_type": "stream",
     "text": [
      "a0 = Zi(3, 5)\n",
      "b0 = Zi(18, -7)\n",
      "c0 = Zi(-7, 8)\n"
     ]
    }
   ],
   "source": [
    "a0 = Zi(3, 5)\n",
    "b0 = Zi(18, -7)\n",
    "c0 = Zi(-7, 8)\n",
    "print(f\"{a0 = }\\n{b0 = }\\n{c0 = }\")"
   ]
  },
  {
   "cell_type": "code",
   "execution_count": 4,
   "id": "e37c2cf9",
   "metadata": {},
   "outputs": [
    {
     "data": {
      "text/plain": [
       "Zi(-61, -11)"
      ]
     },
     "execution_count": 4,
     "metadata": {},
     "output_type": "execute_result"
    }
   ],
   "source": [
    "ac0 = a0 * c0\n",
    "ac0"
   ]
  },
  {
   "cell_type": "code",
   "execution_count": 5,
   "id": "b999aa8d",
   "metadata": {},
   "outputs": [],
   "source": [
    "test0 = [a0, b0, c0, ac0]"
   ]
  },
  {
   "cell_type": "code",
   "execution_count": 6,
   "id": "e86c4e54",
   "metadata": {},
   "outputs": [
    {
     "data": {
      "text/plain": [
       "[False, True, True, False]"
      ]
     },
     "execution_count": 6,
     "metadata": {},
     "output_type": "execute_result"
    }
   ],
   "source": [
    "[Zi.is_gaussian_prime(x) for x in test0]"
   ]
  },
  {
   "cell_type": "code",
   "execution_count": 7,
   "id": "87268876",
   "metadata": {},
   "outputs": [
    {
     "data": {
      "text/plain": [
       "[34, 373, 113, 3842]"
      ]
     },
     "execution_count": 7,
     "metadata": {},
     "output_type": "execute_result"
    }
   ],
   "source": [
    "[x.norm for x in test0]"
   ]
  },
  {
   "cell_type": "code",
   "execution_count": 8,
   "id": "88254f9a",
   "metadata": {},
   "outputs": [
    {
     "data": {
      "text/plain": [
       "False"
      ]
     },
     "execution_count": 8,
     "metadata": {},
     "output_type": "execute_result"
    }
   ],
   "source": [
    "Zi.is_relatively_prime(a0, ac0)"
   ]
  },
  {
   "cell_type": "code",
   "execution_count": 9,
   "id": "088c5bb5",
   "metadata": {},
   "outputs": [
    {
     "data": {
      "text/plain": [
       "True"
      ]
     },
     "execution_count": 9,
     "metadata": {},
     "output_type": "execute_result"
    }
   ],
   "source": [
    "Zi.is_relatively_prime(a0, b0)"
   ]
  },
  {
   "cell_type": "code",
   "execution_count": 10,
   "id": "07762a13",
   "metadata": {},
   "outputs": [
    {
     "name": "stdout",
     "output_type": "stream",
     "text": [
      "(3+5j) (18-7j) True\n",
      "(18-7j) (-7+8j) True\n",
      "(-7+8j) (-61-11j) False\n"
     ]
    }
   ],
   "source": [
    "for x, y in pairwise(test0):\n",
    "    print(x, y, Zi.is_relatively_prime(x, y))"
   ]
  },
  {
   "cell_type": "markdown",
   "id": "0ace96fa",
   "metadata": {},
   "source": [
    "## Congruent Modulo"
   ]
  },
  {
   "cell_type": "code",
   "execution_count": 16,
   "id": "c0f15d3a",
   "metadata": {},
   "outputs": [
    {
     "name": "stdout",
     "output_type": "stream",
     "text": [
      "Help on function congruent_modulo in module gaussians:\n",
      "\n",
      "congruent_modulo(x, y, z)\n",
      "    This method returns two values: The first value is True or False,\n",
      "    depending on whether x is congruent to y modulo z;\n",
      "    the second value is result of computing (x - y) / z.\n",
      "\n"
     ]
    }
   ],
   "source": [
    "help(Zi.congruent_modulo)"
   ]
  },
  {
   "cell_type": "code",
   "execution_count": 11,
   "id": "b0b210b1",
   "metadata": {},
   "outputs": [
    {
     "data": {
      "text/plain": [
       "Zi(1, 4)"
      ]
     },
     "execution_count": 11,
     "metadata": {},
     "output_type": "execute_result"
    }
   ],
   "source": [
    "# Example 7.2 in Conrad\n",
    "\n",
    "a = Zi(1, 12)\n",
    "b = Zi(2, -1)\n",
    "c = Zi(3, 1)\n",
    "\n",
    "(a - b) / c"
   ]
  },
  {
   "cell_type": "code",
   "execution_count": 12,
   "id": "eb8d416a",
   "metadata": {},
   "outputs": [],
   "source": [
    "d = Zi(3, 2)"
   ]
  },
  {
   "cell_type": "code",
   "execution_count": 14,
   "id": "df4c29a7",
   "metadata": {},
   "outputs": [
    {
     "data": {
      "text/plain": [
       "(True, Zi(1, 4))"
      ]
     },
     "execution_count": 14,
     "metadata": {},
     "output_type": "execute_result"
    }
   ],
   "source": [
    "Zi.congruent_modulo(a, b, c)"
   ]
  },
  {
   "cell_type": "code",
   "execution_count": 15,
   "id": "69447413",
   "metadata": {},
   "outputs": [
    {
     "data": {
      "text/plain": [
       "(False, Qi('23/13', '41/13'))"
      ]
     },
     "execution_count": 15,
     "metadata": {},
     "output_type": "execute_result"
    }
   ],
   "source": [
    "Zi.congruent_modulo(a, b, d)"
   ]
  },
  {
   "cell_type": "markdown",
   "id": "04f0053d",
   "metadata": {},
   "source": [
    "## Euler's $\\phi$-function"
   ]
  },
  {
   "cell_type": "markdown",
   "id": "2032991c",
   "metadata": {},
   "source": [
    "Euler's $\\phi$-function for Gaussian integers. AKA the **totient** function."
   ]
  },
  {
   "cell_type": "code",
   "execution_count": null,
   "id": "3c06727c",
   "metadata": {},
   "outputs": [],
   "source": [
    "# This a naive, brute-force version\n",
    "\n",
    "def phi(z: Zi) -> int:\n",
    "    \"\"\"Returns the number of Gaussian integers, with norms less than N(z),\n",
    "    that are relatively prime to z.\"\"\"\n",
    "    re_lim = abs(z.real)\n",
    "    im_lim = abs(z.imag)\n",
    "    count = 0\n",
    "    for a in range(1, re_lim + 1 ):\n",
    "        for b in range(1, im_lim + 1):\n",
    "            if Zi.is_relatively_prime(Zi(a, b), z):\n",
    "                count += 1\n",
    "    return count"
   ]
  },
  {
   "cell_type": "code",
   "execution_count": null,
   "id": "398e0cb4",
   "metadata": {},
   "outputs": [],
   "source": [
    "Zi.is_gaussian_prime(a0)\n",
    "\n",
    "for x in test0:\n",
    "    print(f\"phi({x}) = {phi(x)}, Gaussian Prime? {Zi.is_gaussian_prime(x)}\")"
   ]
  },
  {
   "cell_type": "code",
   "execution_count": null,
   "id": "35ac0588",
   "metadata": {},
   "outputs": [],
   "source": [
    "phi(7)"
   ]
  },
  {
   "cell_type": "code",
   "execution_count": null,
   "id": "b52fc1e3",
   "metadata": {},
   "outputs": [],
   "source": []
  }
 ],
 "metadata": {
  "kernelspec": {
   "display_name": "Python 3 (ipykernel)",
   "language": "python",
   "name": "python3"
  },
  "language_info": {
   "codemirror_mode": {
    "name": "ipython",
    "version": 3
   },
   "file_extension": ".py",
   "mimetype": "text/x-python",
   "name": "python",
   "nbconvert_exporter": "python",
   "pygments_lexer": "ipython3",
   "version": "3.11.5"
  }
 },
 "nbformat": 4,
 "nbformat_minor": 5
}
