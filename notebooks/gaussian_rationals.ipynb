{
 "cells": [
  {
   "cell_type": "markdown",
   "id": "1def3528",
   "metadata": {},
   "source": [
    "# Gaussian Rationals"
   ]
  },
  {
   "cell_type": "markdown",
   "id": "16e2dc13",
   "metadata": {},
   "source": [
    "<i>Version 2</i>"
   ]
  },
  {
   "cell_type": "markdown",
   "id": "b3975dcd",
   "metadata": {},
   "source": [
    "The set of **Gaussian rational numbers** is denoted by $\\mathbb{Q}[i]$, and consists of all complex numbers, $a + bi \\in \\mathbb{C}$, such that $a, b \\in \\mathbb{Q}$."
   ]
  },
  {
   "cell_type": "markdown",
   "id": "a88d9448",
   "metadata": {},
   "source": [
    "## References"
   ]
  },
  {
   "cell_type": "markdown",
   "id": "a3dd41ef",
   "metadata": {},
   "source": [
    "* [Python Fractions - Rational Numbers](https://docs.python.org/3/library/fractions.html)\n",
    "* [Irreducible fractions](https://mathworld.wolfram.com/IrreducibleFraction.html) - Wolfram"
   ]
  },
  {
   "cell_type": "markdown",
   "id": "55476da2",
   "metadata": {},
   "source": [
    "## Qi, the Class of Gaussian Rationals"
   ]
  },
  {
   "cell_type": "markdown",
   "id": "1704912c",
   "metadata": {},
   "source": [
    "The Python module, ``gaussian_rationals``, defines a class, ``Qi``, that implements an object with Gaussian rational functionality.\n",
    "\n",
    "A ``Qi`` has only two fields, ``real`` and ``imag``; both are rational numbers, implemented here in the form of ``Fractions`` using the [Python fractions module](https://docs.python.org/3/library/fractions.html).\n",
    "\n",
    "The ``gaussian_integers`` module is closely related to this module. For example, the division of two Gaussian integers will produce a Gaussian rational.\n",
    "<p>That is, $\\alpha, \\beta \\in \\mathbb{Z}[i] \\Rightarrow {\\large \\frac{\\alpha}{\\beta}} \\in \\mathbb{Q}[i]$.</p>\n",
    "\n",
    "The source code, along with this Jupyter notebook and others, can be found on Github: https://github.com/alreich/abstract_algebra"
   ]
  },
  {
   "cell_type": "code",
   "execution_count": 1,
   "id": "63abefd8",
   "metadata": {},
   "outputs": [],
   "source": [
    "from gaussians import Zi, Qi\n",
    "from fractions import Fraction"
   ]
  },
  {
   "cell_type": "markdown",
   "id": "9f5e7172",
   "metadata": {},
   "source": [
    "## Creating Gaussian Rationals"
   ]
  },
  {
   "cell_type": "markdown",
   "id": "025672f0",
   "metadata": {},
   "source": [
    "A quick way to create a Gaussian rational, Qi, is to enter two numbers, ints or floats:"
   ]
  },
  {
   "cell_type": "code",
   "execution_count": 2,
   "id": "562106bc",
   "metadata": {},
   "outputs": [
    {
     "data": {
      "text/plain": [
       "Qi('2', '17/5')"
      ]
     },
     "execution_count": 2,
     "metadata": {},
     "output_type": "execute_result"
    }
   ],
   "source": [
    "r1 = Qi(2, 3.4)\n",
    "r1"
   ]
  },
  {
   "cell_type": "markdown",
   "id": "914e73c6",
   "metadata": {},
   "source": [
    "Under the hood, a Qi is two Fraction objects:"
   ]
  },
  {
   "cell_type": "code",
   "execution_count": 3,
   "id": "9c786293",
   "metadata": {},
   "outputs": [
    {
     "data": {
      "text/plain": [
       "(Fraction(2, 1), Fraction(17, 5))"
      ]
     },
     "execution_count": 3,
     "metadata": {},
     "output_type": "execute_result"
    }
   ],
   "source": [
    "r1.real, r1.imag"
   ]
  },
  {
   "cell_type": "markdown",
   "id": "57df1167",
   "metadata": {},
   "source": [
    "So we can also construct a Gaussian rational from two Fractions:"
   ]
  },
  {
   "cell_type": "code",
   "execution_count": 4,
   "id": "3bd58d12",
   "metadata": {},
   "outputs": [
    {
     "name": "stdout",
     "output_type": "stream",
     "text": [
      "1/2\n",
      "3/5\n"
     ]
    }
   ],
   "source": [
    "f1 = Fraction(1, 2)\n",
    "f2 = Fraction(3, 5)\n",
    "print(f1)\n",
    "print(f2)"
   ]
  },
  {
   "cell_type": "code",
   "execution_count": 5,
   "id": "1b34e40c",
   "metadata": {},
   "outputs": [
    {
     "data": {
      "text/plain": [
       "Qi('1/2', '3/5')"
      ]
     },
     "execution_count": 5,
     "metadata": {},
     "output_type": "execute_result"
    }
   ],
   "source": [
    "r2 = Qi(f1, f2)\n",
    "r2"
   ]
  },
  {
   "cell_type": "markdown",
   "id": "481fe729",
   "metadata": {},
   "source": [
    "Fraction objects can also be created by entering the string representation of a fraction:"
   ]
  },
  {
   "cell_type": "code",
   "execution_count": 6,
   "id": "2a1b0985",
   "metadata": {},
   "outputs": [
    {
     "data": {
      "text/plain": [
       "Fraction(3, 5)"
      ]
     },
     "execution_count": 6,
     "metadata": {},
     "output_type": "execute_result"
    }
   ],
   "source": [
    "Fraction('3/5')"
   ]
  },
  {
   "cell_type": "markdown",
   "id": "cc6c5527",
   "metadata": {},
   "source": [
    "Similarly, a Gaussian rational can be constructed from the string versions of two fractions:"
   ]
  },
  {
   "cell_type": "code",
   "execution_count": 7,
   "id": "98977b96",
   "metadata": {},
   "outputs": [
    {
     "data": {
      "text/plain": [
       "Qi('2/3', '-1/7')"
      ]
     },
     "execution_count": 7,
     "metadata": {},
     "output_type": "execute_result"
    }
   ],
   "source": [
    "r3 = Qi(\"4/6\", \"-1/7\")\n",
    "r3"
   ]
  },
  {
   "cell_type": "markdown",
   "id": "8d2dcff3",
   "metadata": {},
   "source": [
    "The form of Gaussian rational, output above, e.g., Qi('2/3', '-1/7'), can be copied-and-pasted to construct another, equivalent Gaussian rational:"
   ]
  },
  {
   "cell_type": "code",
   "execution_count": 8,
   "id": "a6175ace",
   "metadata": {},
   "outputs": [
    {
     "data": {
      "text/plain": [
       "Qi('2/3', '-1/7')"
      ]
     },
     "execution_count": 8,
     "metadata": {},
     "output_type": "execute_result"
    }
   ],
   "source": [
    "Qi('2/3', '-1/7')"
   ]
  },
  {
   "cell_type": "markdown",
   "id": "7a7ad6fa",
   "metadata": {},
   "source": [
    "A Gaussian rational can also be created from a single complex number. If a second argument is entered, it will be ignored."
   ]
  },
  {
   "cell_type": "code",
   "execution_count": 9,
   "id": "6fa8c91a",
   "metadata": {},
   "outputs": [
    {
     "data": {
      "text/plain": [
       "Qi('11/5', '-37/5')"
      ]
     },
     "execution_count": 9,
     "metadata": {},
     "output_type": "execute_result"
    }
   ],
   "source": [
    "c1 = (2.2-7.4j)\n",
    "Qi(c1)"
   ]
  },
  {
   "cell_type": "code",
   "execution_count": 10,
   "id": "e4e37d2c",
   "metadata": {},
   "outputs": [
    {
     "data": {
      "text/plain": [
       "Qi('-2', '3')"
      ]
     },
     "execution_count": 10,
     "metadata": {},
     "output_type": "execute_result"
    }
   ],
   "source": [
    "z1 = Zi(-2, 3)\n",
    "Qi(z1)"
   ]
  },
  {
   "cell_type": "markdown",
   "id": "2753d03d",
   "metadata": {},
   "source": [
    "## Printing Gaussian Rationals"
   ]
  },
  {
   "cell_type": "markdown",
   "id": "040bed7f",
   "metadata": {},
   "source": [
    "When printed, Gaussian rationals look like--but really aren't--Python complex numbers:"
   ]
  },
  {
   "cell_type": "code",
   "execution_count": 11,
   "id": "73813222",
   "metadata": {},
   "outputs": [
    {
     "name": "stdout",
     "output_type": "stream",
     "text": [
      "(2+17/5j)\n",
      "(1/2+3/5j)\n",
      "(2/3-1/7j)\n"
     ]
    }
   ],
   "source": [
    "print(r1)\n",
    "print(r2)\n",
    "print(r3)"
   ]
  },
  {
   "cell_type": "markdown",
   "id": "9bbab31b",
   "metadata": {},
   "source": [
    "When printed in the form above, Gaussian rationals (Qi) cannot be cut-and-pasted into code, however, there is a convenience (static)method, ``Qi.string_to_rational``, which allows the printed form to be parsed, as a string, into an instance of a Qi, as shown in the tests below."
   ]
  },
  {
   "cell_type": "code",
   "execution_count": 12,
   "id": "ab242d85",
   "metadata": {},
   "outputs": [
    {
     "name": "stdout",
     "output_type": "stream",
     "text": [
      "Qi.string_to_rational('(1/2+3/5j)') -> Qi('1/2', '3/5')\n",
      "Qi.string_to_rational('(1/2-3/5j)') -> Qi('1/2', '-3/5')\n",
      "Qi.string_to_rational('(-1/2+3/5j)') -> Qi('-1/2', '3/5')\n",
      "Qi.string_to_rational('(-1/2-3/5j)') -> Qi('-1/2', '-3/5')\n",
      "Qi.string_to_rational('(+1/2+3/5j)') -> Qi('1/2', '3/5')\n",
      "Qi.string_to_rational('(+1/2-3/5j)') -> Qi('1/2', '-3/5')\n"
     ]
    }
   ],
   "source": [
    "s1 = \"(1/2+3/5j)\"\n",
    "s2 = \"(1/2-3/5j)\"\n",
    "s3 = \"(-1/2+3/5j)\"\n",
    "s4 = \"(-1/2-3/5j)\"\n",
    "# Wrt s5 & s6, there usually isn't a leading + sign on the\n",
    "# real part, but just in case, they're handled anyway.\n",
    "s5 = \"(+1/2+3/5j)\"\n",
    "s6 = \"(+1/2-3/5j)\"\n",
    "\n",
    "test_strings = [s1, s2, s3, s4, s5, s6]\n",
    "\n",
    "for ts in test_strings:\n",
    "    print(f\"Qi.string_to_rational('{ts}') -> {repr(Qi.string_to_rational(ts))}\")"
   ]
  },
  {
   "cell_type": "markdown",
   "id": "30e9f290",
   "metadata": {},
   "source": [
    "## Gaussian Rational Arithmetic"
   ]
  },
  {
   "cell_type": "code",
   "execution_count": 13,
   "id": "8401326b",
   "metadata": {},
   "outputs": [],
   "source": [
    "a = r1\n",
    "b = r2"
   ]
  },
  {
   "cell_type": "markdown",
   "id": "8d014792",
   "metadata": {},
   "source": [
    "### Addition"
   ]
  },
  {
   "cell_type": "code",
   "execution_count": 14,
   "id": "0e0f7b7b",
   "metadata": {},
   "outputs": [
    {
     "name": "stdout",
     "output_type": "stream",
     "text": [
      "(2+17/5j) + (1/2+3/5j) = (5/2+4j)\n",
      "\n",
      "(2+17/5j) + 1 = (3+17/5j)\n",
      "1 + (2+17/5j) = (3+17/5j)\n",
      "\n",
      "(2+17/5j) + 1.5 = (7/2+17/5j)\n",
      "1.5 + (2+17/5j) = (7/2+17/5j)\n",
      "\n",
      "(2+17/5j) + (1.5+2j) = (7/2+27/5j)\n",
      "(1.5+2j) + (2+17/5j) = (7/2+27/5j)\n"
     ]
    }
   ],
   "source": [
    "print(f\"{a} + {b} = {a + b}\\n\")\n",
    "\n",
    "print(f\"{a} + 1 = {a + 1}\")\n",
    "print(f\"1 + {a} = {1 + a}\\n\")\n",
    "\n",
    "print(f\"{a} + 1.5 = {a + 1.5}\")\n",
    "print(f\"1.5 + {a} = {1.5 + a}\\n\")\n",
    "\n",
    "print(f\"{a} + (1.5+2j) = {a + (1.5+2j)}\")\n",
    "print(f\"(1.5+2j) + {a} = {(1.5+2j) + a}\")"
   ]
  },
  {
   "cell_type": "markdown",
   "id": "0344bebd",
   "metadata": {},
   "source": [
    "### Subtraction"
   ]
  },
  {
   "cell_type": "code",
   "execution_count": 15,
   "id": "ee7c771e",
   "metadata": {},
   "outputs": [
    {
     "name": "stdout",
     "output_type": "stream",
     "text": [
      "(2+17/5j) - (1/2+3/5j) = (3/2+14/5j)\n",
      "\n",
      "(2+17/5j) - 1 = (1+17/5j)\n",
      "1 - (2+17/5j) = (-1-17/5j)\n",
      "\n",
      "(2+17/5j) - 1.5 = (1/2+17/5j)\n",
      "1.5 - (2+17/5j) = (-1/2-17/5j)\n",
      "\n",
      "(2+17/5j) - (1.5+2j) = (1/2+7/5j)\n",
      "(1.5+2j) - (2+17/5j) = (-1/2-7/5j)\n"
     ]
    }
   ],
   "source": [
    "print(f\"{a} - {b} = {a - b}\\n\")\n",
    "\n",
    "print(f\"{a} - 1 = {a - 1}\")\n",
    "print(f\"1 - {a} = {1 - a}\\n\")\n",
    "\n",
    "print(f\"{a} - 1.5 = {a - 1.5}\")\n",
    "print(f\"1.5 - {a} = {1.5 - r1}\\n\")\n",
    "\n",
    "print(f\"{a} - (1.5+2j) = {a - (1.5+2j)}\")\n",
    "print(f\"(1.5+2j) - {a} = {(1.5+2j) - a}\")"
   ]
  },
  {
   "cell_type": "markdown",
   "id": "cc759e17",
   "metadata": {},
   "source": [
    "### Multiplication"
   ]
  },
  {
   "cell_type": "code",
   "execution_count": 16,
   "id": "3d96fc0d",
   "metadata": {},
   "outputs": [
    {
     "name": "stdout",
     "output_type": "stream",
     "text": [
      "(2+17/5j) * (1/2+3/5j) = (-26/25+29/10j)\n",
      "\n",
      "(2+17/5j) * 2 = (4+34/5j)\n",
      "2 * (2+17/5j) = (4+34/5j)\n",
      "\n",
      "(2+17/5j) * 2.2 = (22/5+187/25j)\n",
      "2.2 * (2+17/5j) = (22/5+187/25j)\n",
      "\n",
      "(2+17/5j) * (2.2-3.6j) = (416/25+7/25j)\n",
      "(2.2-3.6j) * (2+17/5j) = (416/25+7/25j)\n",
      "\n"
     ]
    }
   ],
   "source": [
    "print(f\"{a} * {b} = {a * b}\\n\")\n",
    "# print(f\"{complex(a)} * {complex(b)} = {complex(a * b)}\")  # For checking\n",
    "\n",
    "print(f\"{a} * 2 = {a * 2}\")\n",
    "print(f\"2 * {a} = {2 * a}\\n\")\n",
    "\n",
    "print(f\"{a} * 2.2 = {a * 2.2}\")\n",
    "print(f\"2.2 * {a} = {2.2 * a}\\n\")\n",
    "\n",
    "print(f\"{a} * (2.2-3.6j) = {a * (2.2-3.6j)}\")\n",
    "print(f\"(2.2-3.6j) * {a} = {(2.2-3.6j) * a}\\n\")"
   ]
  },
  {
   "cell_type": "markdown",
   "id": "407293c7",
   "metadata": {},
   "source": [
    "### Inverses"
   ]
  },
  {
   "cell_type": "code",
   "execution_count": 17,
   "id": "af21e221",
   "metadata": {},
   "outputs": [
    {
     "data": {
      "text/plain": [
       "Qi('50/389', '-85/389')"
      ]
     },
     "execution_count": 17,
     "metadata": {},
     "output_type": "execute_result"
    }
   ],
   "source": [
    "a.inverse"
   ]
  },
  {
   "cell_type": "code",
   "execution_count": 18,
   "id": "ab81b438",
   "metadata": {},
   "outputs": [
    {
     "name": "stdout",
     "output_type": "stream",
     "text": [
      "(50/389-85/389j)\n"
     ]
    }
   ],
   "source": [
    "print(a.inverse)"
   ]
  },
  {
   "cell_type": "code",
   "execution_count": 19,
   "id": "4b0cfae2",
   "metadata": {},
   "outputs": [
    {
     "name": "stdout",
     "output_type": "stream",
     "text": [
      "1\n"
     ]
    }
   ],
   "source": [
    "print(a * a.inverse)"
   ]
  },
  {
   "cell_type": "markdown",
   "id": "ae32b894",
   "metadata": {},
   "source": [
    "### Division"
   ]
  },
  {
   "cell_type": "code",
   "execution_count": 20,
   "id": "002d807b",
   "metadata": {},
   "outputs": [
    {
     "name": "stdout",
     "output_type": "stream",
     "text": [
      "(2+17/5j) / (1/2+3/5j) -> (304/61+50/61j)\n",
      "\n",
      "(4.983606557377049+0.819672131147541j)\n"
     ]
    }
   ],
   "source": [
    "print(f\"{a} / {b} -> {a / b}\\n\")\n",
    "\n",
    "print(complex(a / b))  # For checking"
   ]
  },
  {
   "cell_type": "code",
   "execution_count": 21,
   "id": "678e8926",
   "metadata": {},
   "outputs": [
    {
     "name": "stdout",
     "output_type": "stream",
     "text": [
      "(50/61-60/61j)\n",
      "(304/61+50/61j)\n",
      "1\n"
     ]
    }
   ],
   "source": [
    "print(b.inverse)\n",
    "print(a * b.inverse)\n",
    "print(b * b.inverse)"
   ]
  },
  {
   "cell_type": "code",
   "execution_count": 22,
   "id": "11666389",
   "metadata": {},
   "outputs": [
    {
     "data": {
      "text/plain": [
       "Qi('2', '17/5')"
      ]
     },
     "execution_count": 22,
     "metadata": {},
     "output_type": "execute_result"
    }
   ],
   "source": [
    "a"
   ]
  },
  {
   "cell_type": "code",
   "execution_count": 23,
   "id": "f8273e6d",
   "metadata": {},
   "outputs": [
    {
     "data": {
      "text/plain": [
       "Qi('1', '17/10')"
      ]
     },
     "execution_count": 23,
     "metadata": {},
     "output_type": "execute_result"
    }
   ],
   "source": [
    "a / 2"
   ]
  },
  {
   "cell_type": "code",
   "execution_count": 24,
   "id": "08990aae",
   "metadata": {},
   "outputs": [
    {
     "data": {
      "text/plain": [
       "Qi('100/389', '-170/389')"
      ]
     },
     "execution_count": 24,
     "metadata": {},
     "output_type": "execute_result"
    }
   ],
   "source": [
    "2 / a"
   ]
  },
  {
   "cell_type": "code",
   "execution_count": 25,
   "id": "538a1e48",
   "metadata": {},
   "outputs": [
    {
     "data": {
      "text/plain": [
       "Zi(1)"
      ]
     },
     "execution_count": 25,
     "metadata": {},
     "output_type": "execute_result"
    }
   ],
   "source": [
    "(a / 2) * (2 / a)"
   ]
  },
  {
   "cell_type": "code",
   "execution_count": 26,
   "id": "c4dfee1c",
   "metadata": {},
   "outputs": [
    {
     "data": {
      "text/plain": [
       "Qi('5/6', '17/12')"
      ]
     },
     "execution_count": 26,
     "metadata": {},
     "output_type": "execute_result"
    }
   ],
   "source": [
    "a / 2.4"
   ]
  },
  {
   "cell_type": "code",
   "execution_count": 27,
   "id": "6b7f2093",
   "metadata": {},
   "outputs": [
    {
     "data": {
      "text/plain": [
       "Qi('5/6', '17/12')"
      ]
     },
     "execution_count": 27,
     "metadata": {},
     "output_type": "execute_result"
    }
   ],
   "source": [
    "a / Qi(2.4)"
   ]
  },
  {
   "cell_type": "code",
   "execution_count": 28,
   "id": "dacc3ed8",
   "metadata": {},
   "outputs": [
    {
     "data": {
      "text/plain": [
       "Qi('120/389', '-204/389')"
      ]
     },
     "execution_count": 28,
     "metadata": {},
     "output_type": "execute_result"
    }
   ],
   "source": [
    "2.4 / a"
   ]
  },
  {
   "cell_type": "code",
   "execution_count": 29,
   "id": "b6be9080",
   "metadata": {
    "scrolled": true
   },
   "outputs": [
    {
     "data": {
      "text/plain": [
       "Qi('-32/425', '179/425')"
      ]
     },
     "execution_count": 29,
     "metadata": {},
     "output_type": "execute_result"
    }
   ],
   "source": [
    "a / Zi(7, -6)"
   ]
  },
  {
   "cell_type": "code",
   "execution_count": 30,
   "id": "1dfdfd1b",
   "metadata": {},
   "outputs": [
    {
     "data": {
      "text/plain": [
       "Qi('-160/389', '-895/389')"
      ]
     },
     "execution_count": 30,
     "metadata": {},
     "output_type": "execute_result"
    }
   ],
   "source": [
    "Zi(7, -6) / a"
   ]
  },
  {
   "cell_type": "code",
   "execution_count": 31,
   "id": "1dd54363",
   "metadata": {},
   "outputs": [
    {
     "data": {
      "text/plain": [
       "Qi('-32/425', '179/425')"
      ]
     },
     "execution_count": 31,
     "metadata": {},
     "output_type": "execute_result"
    }
   ],
   "source": [
    "a / (7-6j)"
   ]
  },
  {
   "cell_type": "code",
   "execution_count": 32,
   "id": "b6e8b40d",
   "metadata": {},
   "outputs": [
    {
     "data": {
      "text/plain": [
       "Qi('-160/389', '-895/389')"
      ]
     },
     "execution_count": 32,
     "metadata": {},
     "output_type": "execute_result"
    }
   ],
   "source": [
    "(7-6j) / a"
   ]
  },
  {
   "cell_type": "markdown",
   "id": "34512aa5",
   "metadata": {},
   "source": [
    "### Powers"
   ]
  },
  {
   "cell_type": "code",
   "execution_count": 33,
   "id": "5f92f281",
   "metadata": {},
   "outputs": [
    {
     "name": "stdout",
     "output_type": "stream",
     "text": [
      "(-1534/25+187/125j)\n"
     ]
    }
   ],
   "source": [
    "print(a**3)"
   ]
  },
  {
   "cell_type": "code",
   "execution_count": 34,
   "id": "4b1efc3e",
   "metadata": {},
   "outputs": [
    {
     "name": "stdout",
     "output_type": "stream",
     "text": [
      "(-1534/25+187/125j)\n"
     ]
    }
   ],
   "source": [
    "print(a * a * a)"
   ]
  },
  {
   "cell_type": "markdown",
   "id": "d750b9da",
   "metadata": {},
   "source": [
    "### Conjugation & Norms"
   ]
  },
  {
   "cell_type": "code",
   "execution_count": 35,
   "id": "76a9b456",
   "metadata": {
    "scrolled": true
   },
   "outputs": [
    {
     "name": "stdout",
     "output_type": "stream",
     "text": [
      "(2-17/5j)\n"
     ]
    }
   ],
   "source": [
    "print(a.conjugate)"
   ]
  },
  {
   "cell_type": "code",
   "execution_count": 36,
   "id": "0701424f",
   "metadata": {},
   "outputs": [
    {
     "data": {
      "text/plain": [
       "Fraction(389, 25)"
      ]
     },
     "execution_count": 36,
     "metadata": {},
     "output_type": "execute_result"
    }
   ],
   "source": [
    "a.norm"
   ]
  },
  {
   "cell_type": "code",
   "execution_count": 37,
   "id": "2a4bc8ad",
   "metadata": {},
   "outputs": [
    {
     "name": "stdout",
     "output_type": "stream",
     "text": [
      "389/25\n"
     ]
    }
   ],
   "source": [
    "print(a.norm)"
   ]
  },
  {
   "cell_type": "code",
   "execution_count": 38,
   "id": "adfe7298-1d71-4d6e-86a5-3e2c0989285f",
   "metadata": {},
   "outputs": [
    {
     "data": {
      "text/plain": [
       "3.944616584663204"
      ]
     },
     "execution_count": 38,
     "metadata": {},
     "output_type": "execute_result"
    }
   ],
   "source": [
    "abs(a)"
   ]
  },
  {
   "cell_type": "markdown",
   "id": "45f725f4",
   "metadata": {},
   "source": [
    "### Negation"
   ]
  },
  {
   "cell_type": "code",
   "execution_count": 39,
   "id": "edd90298",
   "metadata": {},
   "outputs": [
    {
     "name": "stdout",
     "output_type": "stream",
     "text": [
      "(1/2+3/5j)\n",
      "(-1/2-3/5j)\n"
     ]
    }
   ],
   "source": [
    "print(b)\n",
    "print(-b)"
   ]
  },
  {
   "cell_type": "markdown",
   "id": "6f5a0f8b",
   "metadata": {},
   "source": [
    "## Equality & Inequality"
   ]
  },
  {
   "cell_type": "code",
   "execution_count": 40,
   "id": "10e4fbf7",
   "metadata": {},
   "outputs": [
    {
     "data": {
      "text/plain": [
       "True"
      ]
     },
     "execution_count": 40,
     "metadata": {},
     "output_type": "execute_result"
    }
   ],
   "source": [
    "r1_dup = Qi('2', '17/5')\n",
    "\n",
    "r1 == r1_dup"
   ]
  },
  {
   "cell_type": "code",
   "execution_count": 41,
   "id": "c638333d",
   "metadata": {},
   "outputs": [
    {
     "data": {
      "text/plain": [
       "False"
      ]
     },
     "execution_count": 41,
     "metadata": {},
     "output_type": "execute_result"
    }
   ],
   "source": [
    "r1 == r2"
   ]
  },
  {
   "cell_type": "code",
   "execution_count": 42,
   "id": "d17b8bf6",
   "metadata": {},
   "outputs": [
    {
     "data": {
      "text/plain": [
       "True"
      ]
     },
     "execution_count": 42,
     "metadata": {},
     "output_type": "execute_result"
    }
   ],
   "source": [
    "r1 != r2"
   ]
  },
  {
   "cell_type": "markdown",
   "id": "fad70ef4",
   "metadata": {},
   "source": [
    "## Units"
   ]
  },
  {
   "cell_type": "code",
   "execution_count": 43,
   "id": "ef9e50b2",
   "metadata": {},
   "outputs": [
    {
     "data": {
      "text/plain": [
       "[Qi('1', '0'), Qi('-1', '0'), Qi('0', '1'), Qi('0', '-1')]"
      ]
     },
     "execution_count": 43,
     "metadata": {},
     "output_type": "execute_result"
    }
   ],
   "source": [
    "Qi.units()"
   ]
  },
  {
   "cell_type": "markdown",
   "id": "cee93bd5",
   "metadata": {},
   "source": [
    "## Associates"
   ]
  },
  {
   "cell_type": "code",
   "execution_count": 44,
   "id": "80f6ab27",
   "metadata": {},
   "outputs": [
    {
     "data": {
      "text/plain": [
       "Qi('1/2', '3/5')"
      ]
     },
     "execution_count": 44,
     "metadata": {},
     "output_type": "execute_result"
    }
   ],
   "source": [
    "r2"
   ]
  },
  {
   "cell_type": "code",
   "execution_count": 45,
   "id": "3bac199a",
   "metadata": {},
   "outputs": [
    {
     "name": "stdout",
     "output_type": "stream",
     "text": [
      "[Qi('-1/2', '-3/5'), Qi('-3/5', '1/2'), Qi('3/5', '-1/2')]\n"
     ]
    }
   ],
   "source": [
    "print(r2.associates())"
   ]
  },
  {
   "cell_type": "code",
   "execution_count": 46,
   "id": "5cbc2697",
   "metadata": {},
   "outputs": [
    {
     "data": {
      "text/plain": [
       "Zi(-1)"
      ]
     },
     "execution_count": 46,
     "metadata": {},
     "output_type": "execute_result"
    }
   ],
   "source": [
    "r2 / Qi('-1/2', '-3/5')"
   ]
  },
  {
   "cell_type": "code",
   "execution_count": 47,
   "id": "fa2d68fa",
   "metadata": {},
   "outputs": [
    {
     "data": {
      "text/plain": [
       "True"
      ]
     },
     "execution_count": 47,
     "metadata": {},
     "output_type": "execute_result"
    }
   ],
   "source": [
    "r2.is_associate(Qi('-1/2', '-3/5'))"
   ]
  },
  {
   "cell_type": "markdown",
   "id": "a0b83f31",
   "metadata": {},
   "source": [
    "## Conversion to Complex Type"
   ]
  },
  {
   "cell_type": "code",
   "execution_count": 48,
   "id": "49d709ea",
   "metadata": {},
   "outputs": [
    {
     "name": "stdout",
     "output_type": "stream",
     "text": [
      "(304/61+50/61j)\n"
     ]
    },
    {
     "data": {
      "text/plain": [
       "(4.983606557377049+0.819672131147541j)"
      ]
     },
     "execution_count": 48,
     "metadata": {},
     "output_type": "execute_result"
    }
   ],
   "source": [
    "print(a/b)\n",
    "complex(a/b)"
   ]
  },
  {
   "cell_type": "code",
   "execution_count": 49,
   "id": "4890c2d4",
   "metadata": {},
   "outputs": [
    {
     "data": {
      "text/plain": [
       "(4.983606557377049+0.8196721311475411j)"
      ]
     },
     "execution_count": 49,
     "metadata": {},
     "output_type": "execute_result"
    }
   ],
   "source": [
    "complex(a) / complex(b)"
   ]
  },
  {
   "cell_type": "markdown",
   "id": "955b7a5d",
   "metadata": {},
   "source": [
    "## Gaussian Integers to Gaussian Rationals"
   ]
  },
  {
   "cell_type": "markdown",
   "id": "21828753",
   "metadata": {},
   "source": [
    "If $\\alpha, \\beta \\in \\mathbb{Z}[i]$, then ${\\large \\frac{\\alpha}{\\beta}} \\in \\mathbb{Q}[i].$"
   ]
  },
  {
   "cell_type": "code",
   "execution_count": 50,
   "id": "29823d32",
   "metadata": {},
   "outputs": [
    {
     "name": "stdout",
     "output_type": "stream",
     "text": [
      "alpha = (2+6j)\n",
      " beta = (4+5j)\n"
     ]
    }
   ],
   "source": [
    "alpha = Zi(2, 6)\n",
    "beta = Zi(4, 5)\n",
    "print(f\"alpha = {alpha}\")\n",
    "print(f\" beta = {beta}\")"
   ]
  },
  {
   "cell_type": "code",
   "execution_count": 51,
   "id": "8da5a663",
   "metadata": {},
   "outputs": [
    {
     "name": "stdout",
     "output_type": "stream",
     "text": [
      "(38/41+14/41j)\n",
      "(0.926829268292683+0.34146341463414637j)\n",
      "(0.926829268292683+0.3414634146341464j)\n"
     ]
    }
   ],
   "source": [
    "rat = alpha / beta\n",
    "print(rat)\n",
    "\n",
    "# Check\n",
    "print(complex(rat))\n",
    "print(complex(alpha) / complex(beta))"
   ]
  },
  {
   "cell_type": "code",
   "execution_count": null,
   "id": "d49ad69a",
   "metadata": {},
   "outputs": [],
   "source": []
  },
  {
   "cell_type": "code",
   "execution_count": 52,
   "id": "db9be80d",
   "metadata": {},
   "outputs": [
    {
     "data": {
      "text/plain": [
       "Qi('2', '17/5')"
      ]
     },
     "execution_count": 52,
     "metadata": {},
     "output_type": "execute_result"
    }
   ],
   "source": [
    "r1"
   ]
  },
  {
   "cell_type": "code",
   "execution_count": 55,
   "id": "8934f085",
   "metadata": {},
   "outputs": [
    {
     "data": {
      "text/plain": [
       "Zi(2, 3)"
      ]
     },
     "execution_count": 55,
     "metadata": {},
     "output_type": "execute_result"
    }
   ],
   "source": [
    "round(r1)"
   ]
  },
  {
   "cell_type": "code",
   "execution_count": 63,
   "id": "e7e37dcc",
   "metadata": {},
   "outputs": [
    {
     "ename": "NameError",
     "evalue": "name 'floor' is not defined",
     "output_type": "error",
     "traceback": [
      "\u001b[0;31m---------------------------------------------------------------------------\u001b[0m",
      "\u001b[0;31mNameError\u001b[0m                                 Traceback (most recent call last)",
      "Cell \u001b[0;32mIn[63], line 2\u001b[0m\n\u001b[1;32m      1\u001b[0m r1x \u001b[38;5;241m=\u001b[39m r1\u001b[38;5;241m.\u001b[39mreal\n\u001b[0;32m----> 2\u001b[0m floor(r1x)\n",
      "\u001b[0;31mNameError\u001b[0m: name 'floor' is not defined"
     ]
    }
   ],
   "source": [
    "r1x = r1.real\n",
    "floor(r1x)"
   ]
  },
  {
   "cell_type": "code",
   "execution_count": 61,
   "id": "8af48864",
   "metadata": {},
   "outputs": [
    {
     "data": {
      "text/plain": [
       "['__abs__',\n",
       " '__abstractmethods__',\n",
       " '__add__',\n",
       " '__bool__',\n",
       " '__ceil__',\n",
       " '__class__',\n",
       " '__complex__',\n",
       " '__copy__',\n",
       " '__deepcopy__',\n",
       " '__delattr__',\n",
       " '__dir__',\n",
       " '__divmod__',\n",
       " '__doc__',\n",
       " '__eq__',\n",
       " '__float__',\n",
       " '__floor__',\n",
       " '__floordiv__',\n",
       " '__format__',\n",
       " '__ge__',\n",
       " '__getattribute__',\n",
       " '__getstate__',\n",
       " '__gt__',\n",
       " '__hash__',\n",
       " '__init__',\n",
       " '__init_subclass__',\n",
       " '__int__',\n",
       " '__le__',\n",
       " '__lt__',\n",
       " '__mod__',\n",
       " '__module__',\n",
       " '__mul__',\n",
       " '__ne__',\n",
       " '__neg__',\n",
       " '__new__',\n",
       " '__pos__',\n",
       " '__pow__',\n",
       " '__radd__',\n",
       " '__rdivmod__',\n",
       " '__reduce__',\n",
       " '__reduce_ex__',\n",
       " '__repr__',\n",
       " '__rfloordiv__',\n",
       " '__rmod__',\n",
       " '__rmul__',\n",
       " '__round__',\n",
       " '__rpow__',\n",
       " '__rsub__',\n",
       " '__rtruediv__',\n",
       " '__setattr__',\n",
       " '__sizeof__',\n",
       " '__slots__',\n",
       " '__str__',\n",
       " '__sub__',\n",
       " '__subclasshook__',\n",
       " '__truediv__',\n",
       " '__trunc__',\n",
       " '_abc_impl',\n",
       " '_add',\n",
       " '_denominator',\n",
       " '_div',\n",
       " '_divmod',\n",
       " '_floordiv',\n",
       " '_mod',\n",
       " '_mul',\n",
       " '_numerator',\n",
       " '_operator_fallbacks',\n",
       " '_richcmp',\n",
       " '_sub',\n",
       " 'as_integer_ratio',\n",
       " 'conjugate',\n",
       " 'denominator',\n",
       " 'from_decimal',\n",
       " 'from_float',\n",
       " 'imag',\n",
       " 'limit_denominator',\n",
       " 'numerator',\n",
       " 'real']"
      ]
     },
     "execution_count": 61,
     "metadata": {},
     "output_type": "execute_result"
    }
   ],
   "source": [
    "dir(Fraction)"
   ]
  },
  {
   "cell_type": "code",
   "execution_count": null,
   "id": "96c8839a",
   "metadata": {},
   "outputs": [],
   "source": []
  }
 ],
 "metadata": {
  "kernelspec": {
   "display_name": "Python 3 (ipykernel)",
   "language": "python",
   "name": "python3"
  },
  "language_info": {
   "codemirror_mode": {
    "name": "ipython",
    "version": 3
   },
   "file_extension": ".py",
   "mimetype": "text/x-python",
   "name": "python",
   "nbconvert_exporter": "python",
   "pygments_lexer": "ipython3",
   "version": "3.11.5"
  }
 },
 "nbformat": 4,
 "nbformat_minor": 5
}
