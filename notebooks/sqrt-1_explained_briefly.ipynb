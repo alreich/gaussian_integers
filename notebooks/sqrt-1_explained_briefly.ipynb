{
 "cells": [
  {
   "cell_type": "markdown",
   "id": "5329dcb8-8e20-4350-bae4-4e1269bc52e7",
   "metadata": {},
   "source": [
    "# $\\sqrt{-1}$ Explained, Briefly"
   ]
  },
  {
   "cell_type": "markdown",
   "id": "c3250b2a-0a28-414b-9944-f8a99215675b",
   "metadata": {},
   "source": [
    "## Part 1: Imaginary Numbers"
   ]
  },
  {
   "cell_type": "markdown",
   "id": "e760144c-1e03-4e30-aed8-559eb2577b2e",
   "metadata": {},
   "source": [
    "How can a number be *imaginary*? That can't be a *real* thing (math pun).\n",
    "\n",
    "Real numbers are familiar numbers like 0, 7, -3, 2.48, $\\sqrt{2}$, and $\\pi$.\n",
    "\n",
    "A *negative square root*, like $\\sqrt{-1}$, is not one of them.\n",
    "\n",
    "But sometimes, when a negative square root was encountered during a calculation, if one bravely continued on, it just might disappear, \"cancelling out\", and a nice wholesome **real** result could be obtained.\n",
    "\n",
    "People that calculated using \"imaginary numbers\" were ridiculed by a fellow named René.\n",
    "\n",
    "That was about 400 years ago.\n",
    "\n",
    "René eventually changed his opinion\n",
    "\n",
    "But the name stuck.\n",
    "\n",
    "*to be continued...*"
   ]
  },
  {
   "cell_type": "markdown",
   "id": "f39981c3-c79d-469e-bdf5-dc1b5ea478b6",
   "metadata": {},
   "source": [
    "## Part 2: i"
   ]
  },
  {
   "cell_type": "markdown",
   "id": "473addf0-1571-42f7-a6e9-070e4a558fa9",
   "metadata": {},
   "source": [
    "When multiplying two square roots, such as $\\sqrt{4} \\times \\sqrt{9}$, we can take square roots first and then multiply, $2 \\times 3 = 6$, or we can multiply first, \"under the square root symbol\", and then take the square root, $\\sqrt{4 \\times 9} = \\sqrt{36} = 6$.\n",
    "\n",
    "Either way works fine -- but NOT when both numbers are negative.\n",
    "\n",
    "For example, $\\sqrt{-1} \\times \\sqrt{-1} = -1$, because that's just the definition of a square root (e.g., $\\sqrt{2} \\times \\sqrt{2} = 2$).\n",
    "\n",
    "But, doing it the other way we get a different result, $\\sqrt{-1} \\times \\sqrt{-1} = \\sqrt{-1 \\times -1} = \\sqrt{1} = 1$.\n",
    "\n",
    "So, **New Rule**, *no multiplying under the square root symbol if both numbers are negative.*\n",
    "\n",
    "Without going into details, the new rule can be easily violated, which annoyed a fellow named Leonard.\n",
    "\n",
    "Leaning into the whole imaginary number thing, Leonard started using the letter, \"i\", to represent $\\sqrt{-1}$.\n",
    "\n",
    "That is, $i = \\sqrt{-1}$ and $i^2 = -1$.\n",
    "\n",
    "Then, he could always extract a negative out from under the square root symbol like this,\n",
    "\n",
    "$\\sqrt{-16} = \\sqrt{16 \\times (-1)} = \\sqrt{16} \\times \\sqrt{-1} = 4 \\times i$ ... or just $4i$\n",
    "\n",
    "Leonard was pretty influential, so this caught on.\n",
    "\n",
    "But we're still only talking about 400 years ago.\n",
    "\n",
    "*to be continued...*"
   ]
  },
  {
   "cell_type": "markdown",
   "id": "029c6d01",
   "metadata": {},
   "source": [
    "## Part 3: Complex Numbers"
   ]
  },
  {
   "cell_type": "code",
   "execution_count": null,
   "id": "a12e7cb1",
   "metadata": {},
   "outputs": [],
   "source": []
  },
  {
   "cell_type": "markdown",
   "id": "eaa79dfe-2d53-4001-abde-5f015aecff83",
   "metadata": {},
   "source": [
    "René Descartes"
   ]
  },
  {
   "cell_type": "code",
   "execution_count": null,
   "id": "8844cc65-1f76-45b1-aaed-d6d2935a76e7",
   "metadata": {},
   "outputs": [],
   "source": []
  }
 ],
 "metadata": {
  "kernelspec": {
   "display_name": "Python 3 (ipykernel)",
   "language": "python",
   "name": "python3"
  },
  "language_info": {
   "codemirror_mode": {
    "name": "ipython",
    "version": 3
   },
   "file_extension": ".py",
   "mimetype": "text/x-python",
   "name": "python",
   "nbconvert_exporter": "python",
   "pygments_lexer": "ipython3",
   "version": "3.11.5"
  }
 },
 "nbformat": 4,
 "nbformat_minor": 5
}
