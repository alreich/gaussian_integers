{
 "cells": [
  {
   "cell_type": "markdown",
   "id": "5329dcb8-8e20-4350-bae4-4e1269bc52e7",
   "metadata": {},
   "source": [
    "# $\\sqrt{-1}$ Explained, Briefly"
   ]
  },
  {
   "cell_type": "markdown",
   "id": "c3250b2a-0a28-414b-9944-f8a99215675b",
   "metadata": {},
   "source": [
    "## Part 1: Imaginary Numbers"
   ]
  },
  {
   "cell_type": "markdown",
   "id": "e760144c-1e03-4e30-aed8-559eb2577b2e",
   "metadata": {},
   "source": [
    "How can a number be *imaginary*? That can't be a *real* thing (math pun).\n",
    "\n",
    "Real numbers are familiar numbers like 0, 7, -3, 2.48, $\\sqrt{2}$, and $\\pi$.\n",
    "\n",
    "A *negative square root*, like $\\sqrt{-1}$, is not one of them.\n",
    "\n",
    "But long ago, it was found that when a negative square root was encountered during a calculation, if one bravely continue on, sometimes it would disappear, \"cancelling out\", and a nice **real** result would be obtained.\n",
    "\n",
    "People that calculated using \"imaginary numbers\" were ridiculed by a fellow named René.\n",
    "\n",
    "That was roughly 400 years ago.\n",
    "\n",
    "René eventually changed his opinion, but the name stuck to this day."
   ]
  },
  {
   "cell_type": "markdown",
   "id": "f39981c3-c79d-469e-bdf5-dc1b5ea478b6",
   "metadata": {},
   "source": [
    "## Part 2: i"
   ]
  },
  {
   "cell_type": "markdown",
   "id": "473addf0-1571-42f7-a6e9-070e4a558fa9",
   "metadata": {},
   "source": [
    "Again, back in the day, another fellow named Leonard, ran into a Small Problem involving calculations with imaginary numbers.\n",
    "\n",
    "It concerned the multiplication of one negative square root with another.\n",
    "\n",
    "For example, $\\sqrt{-1} \\times \\sqrt{-1}$. That should equal, $-1$, right?\n",
    "\n",
    "I mean, that's just the definition of a square root\n",
    "(e.g., $\\sqrt{2} \\times \\sqrt{2} = 2$).\n",
    "\n",
    "But, what if you first multiply under the square root symbol?\n",
    "\n",
    "That is, $\\sqrt{-1} \\times \\sqrt{-1} = \\sqrt{-1 \\times -1} = \\sqrt{1} = 1$.\n",
    "\n",
    "Yikes! You don't get $-1$, like we did above.\n",
    "\n",
    "**New Rule**: No multiplication under the square root symbol if both numbers are negative."
   ]
  },
  {
   "cell_type": "markdown",
   "id": "eaa79dfe-2d53-4001-abde-5f015aecff83",
   "metadata": {},
   "source": [
    "René Descartes"
   ]
  },
  {
   "cell_type": "code",
   "execution_count": null,
   "id": "8844cc65-1f76-45b1-aaed-d6d2935a76e7",
   "metadata": {},
   "outputs": [],
   "source": []
  }
 ],
 "metadata": {
  "kernelspec": {
   "display_name": "Python [conda env:base] *",
   "language": "python",
   "name": "conda-base-py"
  },
  "language_info": {
   "codemirror_mode": {
    "name": "ipython",
    "version": 3
   },
   "file_extension": ".py",
   "mimetype": "text/x-python",
   "name": "python",
   "nbconvert_exporter": "python",
   "pygments_lexer": "ipython3",
   "version": "3.13.5"
  }
 },
 "nbformat": 4,
 "nbformat_minor": 5
}
