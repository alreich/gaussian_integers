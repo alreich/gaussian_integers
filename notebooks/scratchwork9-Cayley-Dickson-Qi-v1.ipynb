{
 "cells": [
  {
   "cell_type": "markdown",
   "id": "11951404-4d7b-4cd4-aa6e-3bca6abee1ce",
   "metadata": {},
   "source": [
    "# Cayley-Dickson Construction Applied to Qi Definition"
   ]
  },
  {
   "cell_type": "markdown",
   "id": "985bac8c",
   "metadata": {},
   "source": [
    "*Version 1*"
   ]
  },
  {
   "cell_type": "markdown",
   "id": "903c36a4",
   "metadata": {},
   "source": [
    "My original implementation of Gaussian integers included two classes, ``Zi`` and ``Qi``, where, for example, ``Zi(2, -7)`` represents a Gaussian integer, and ``Qi(-2/3, 4/5)`` represents a Gaussian rational.\n",
    "\n",
    "I'd like to extend this code to include rational-valued quaternions and octonions using the Cayley-Dickson construction."
   ]
  },
  {
   "cell_type": "markdown",
   "id": "d582233e",
   "metadata": {},
   "source": [
    "The [Cayley-Dickson construction](https://en.wikipedia.org/wiki/Cayley%E2%80%93Dickson_construction) is a process by which one can use a recursive definition of conjugation together with a recursive definition of multiplication to use...\n",
    "* pairs of real numbers ($\\mathbb{R}$) to create complex numbers,\n",
    "* pairs of complex numbers ($\\mathbb{C}$) to create quaternions,\n",
    "* pairs of quaternions ($\\mathbb{H}$) to create octonions,\n",
    "* pairs of octonions ($\\mathbb{O}$) to create sedenions ($\\mathbb{S}$), and so on."
   ]
  },
  {
   "cell_type": "markdown",
   "id": "2f09c45e-9ab5-461b-8de8-fd74f6a0e16e",
   "metadata": {},
   "source": [
    "For more specifics, see my write-up about the Cayley-Dickson construction [at this link](https://abstract-algebra.readthedocs.io/en/latest/55_cayley_dickson.html)."
   ]
  },
  {
   "cell_type": "code",
   "execution_count": 1,
   "id": "1ebdcab3",
   "metadata": {},
   "outputs": [],
   "source": [
    "from cayley_dickson_alg import Zi, SetScalarMult\n",
    "from random import randint"
   ]
  },
  {
   "cell_type": "code",
   "execution_count": 2,
   "id": "3afe1173",
   "metadata": {},
   "outputs": [],
   "source": [
    "from random import seed\n",
    "\n",
    "seed(42)  # Generate the same random sequence each time (for testing)"
   ]
  },
  {
   "cell_type": "code",
   "execution_count": 3,
   "id": "9caa6915",
   "metadata": {},
   "outputs": [],
   "source": [
    "from fractions import Fraction\n",
    "from functools import wraps"
   ]
  },
  {
   "cell_type": "code",
   "execution_count": 4,
   "id": "8bd72875",
   "metadata": {},
   "outputs": [],
   "source": [
    "def gaussian_rational(fnc):\n",
    "    \"\"\"For use as a property that casts an argument into Gaussian rational.\"\"\"\n",
    "    @wraps(fnc)\n",
    "    def gaussian_rational_wrapper(arg, num):\n",
    "        qi = to_gaussian_rational(num)\n",
    "        return fnc(arg, qi)\n",
    "    return gaussian_rational_wrapper"
   ]
  },
  {
   "cell_type": "code",
   "execution_count": null,
   "id": "af759061-8dfc-4e20-9d3c-9154e7cea8c1",
   "metadata": {},
   "outputs": [],
   "source": [
    "dbg = True\n",
    "indent = \"  \""
   ]
  },
  {
   "cell_type": "code",
   "execution_count": 22,
   "id": "774f6064-30ed-49c5-8d36-70cbfe0c0c07",
   "metadata": {},
   "outputs": [],
   "source": [
    "def debug(indent, num, *args):\n",
    "    print(f\"***{indent} [{num}] {args}\")"
   ]
  },
  {
   "cell_type": "code",
   "execution_count": 13,
   "id": "60a77be4-88d9-46ec-bf4a-898bf4d3621b",
   "metadata": {},
   "outputs": [],
   "source": [
    "class Qi:\n",
    "    \"\"\"Gaussian Rational Number Class\"\"\"\n",
    "\n",
    "    __MAX_DENOMINATOR = 1_000_000\n",
    "\n",
    "    def __init__(self, re=None, im=None):\n",
    "\n",
    "        # --( 1 )--------------------------------------------------------\n",
    "        # re is a str, float, int, or Fraction; and\n",
    "        # im is a str, float, int, Fraction, or None\n",
    "\n",
    "        if isinstance(re, (str, float, int, Fraction)):\n",
    "            debug(\n",
    "            if isinstance(re, Fraction):\n",
    "                self.__re = re\n",
    "            else:\n",
    "                self.__re = Fraction(re)\n",
    "            if im is None:\n",
    "                self.__im = Fraction(0)\n",
    "            elif isinstance(im, (str, float, int, Fraction)):\n",
    "                if isinstance(im, Fraction):\n",
    "                    self.__im = im\n",
    "                else:\n",
    "                    self.__im = Fraction(im)\n",
    "            else:\n",
    "                raise Exception(f\"Inputs incompatible: {re} and {im}\")\n",
    "\n",
    "        # --( 2 )--------------------------------------------------------\n",
    "        # re is a complex; and\n",
    "        # im is complex, a Qi, or None\n",
    "\n",
    "        elif isinstance(re, complex):\n",
    "            print(\"------- In Clause #2 -------------\")\n",
    "            if im is None:\n",
    "                self.__re = Fraction(re.real)\n",
    "                self.__im = Fraction(re.imag)\n",
    "            elif isinstance(im, (Qi, complex)):\n",
    "                self.__re = Qi(re.real, re.imag)\n",
    "                self.__im = Qi(im.real, im.imag)\n",
    "            else:\n",
    "                raise Exception(f\"Inputs incompatible: {re} and {im}\")\n",
    "\n",
    "        # --( 3 )--------------------------------------------------------\n",
    "        # re is a Qi, and im is complex, a Qi, or None\n",
    "\n",
    "        elif isinstance(re, Qi):\n",
    "            print(\"------- In Clause #3 -------------\")\n",
    "            if im is None:\n",
    "                self.__re = re.real\n",
    "                self.__im = re.imag\n",
    "            elif isinstance(im, (complex, Qi)):\n",
    "                self.__re = Qi(re)\n",
    "                self.__im = Qi(im)\n",
    "            else:\n",
    "                raise Exception(f\"Inputs incompatible: {re} and {im}\")\n",
    "\n",
    "        # --( 3.5 )--------------------------------------------------------\n",
    "        # re is a Zi, and im is a Zi, or None\n",
    "\n",
    "        elif isinstance(re, Zi):\n",
    "            print(\"------- In Clause #3.5 -------------\")\n",
    "            if im is None:\n",
    "                if isinstance(re.real, Zi) and isinstance(re.imag, Zi):\n",
    "                    self.__re = Qi(re.real)\n",
    "                    self.__im = Qi(re.imag)\n",
    "                else:\n",
    "                    self.__re = re.real\n",
    "                    self.__im = re.imag\n",
    "            elif isinstance(im, Zi) and im.order() == re.order():\n",
    "                if isinstance(re.real, Zi) and isinstance(re.imag, Zi):\n",
    "                    self.__re = Qi(re)\n",
    "                    self.__im = Qi(im)\n",
    "                else:\n",
    "                    self.__re = re.real\n",
    "                    self.__im = re.imag\n",
    "            else:\n",
    "                raise Exception(f\"Inputs incompatible: {re} and {im}\")\n",
    "\n",
    "        # --( 4 )--------------------------------------------------------\n",
    "        # re is a list or tuple of numbers with length equal to a\n",
    "        # power of 2, and im is None, or it is a tuple or list\n",
    "        # similar to the one input for re.\n",
    "        elif isinstance(re, (tuple, list)):\n",
    "            print(\"------- In Clause #4 -------------\")\n",
    "            z = Zi.from_array(re)\n",
    "            if im is None:\n",
    "                self.__re = z.real\n",
    "                self.__im = z.imag\n",
    "            elif isinstance(im, (tuple, list)) and len(im) == len(re):\n",
    "                w = Zi.from_array(im)\n",
    "                self.__re = z\n",
    "                self.__im = w\n",
    "            else:\n",
    "                raise Exception(f\"Inputs incompatible: {re} and {im}\")\n",
    "\n",
    "        # --( 5 )--------------------------------------------------------\n",
    "        # Both re and im are None\n",
    "\n",
    "        elif re is None:\n",
    "            print(\"------- In Clause #5 -------------\")\n",
    "            self.__re = 0\n",
    "            if im is None:\n",
    "                self.__im = 0\n",
    "            else:\n",
    "                raise Exception(f\"If re is None, then im must be None. But im = {im}\")\n",
    "        else:\n",
    "            raise Exception(f\"Unexpected combination of input types: {re} and {im}\")\n",
    "\n",
    "    @classmethod\n",
    "    def max_denominator(cls, denom=None):\n",
    "        if denom is None:\n",
    "            return cls.__MAX_DENOMINATOR\n",
    "        elif isinstance(denom, int) and denom > 1:\n",
    "            cls.__MAX_DENOMINATOR = denom\n",
    "            return cls.__MAX_DENOMINATOR\n",
    "        else:\n",
    "            raise ValueError(f\"Maximum denominator, {denom}, must be an integer > 1\")\n",
    "\n",
    "    @property\n",
    "    def real(self) -> Fraction:\n",
    "        return self.__re\n",
    "\n",
    "    @property\n",
    "    def imag(self) -> Fraction:\n",
    "        return self.__im\n",
    "\n",
    "    def __repr__(self):\n",
    "        return f\"{self.__class__.__name__}({self.__re}, {self.__im})\"\n",
    "\n",
    "#    def __str__(self):\n",
    "#        if self.__im < 0:\n",
    "#            return f\"({self.__re}{self.__im}j)\"\n",
    "#        else:\n",
    "#            return f\"({self.__re}+{self.__im}j)\"\n",
    "\n",
    "    @gaussian_rational\n",
    "    def __add__(self, other):\n",
    "        return Qi(self.__re + other.real, self.__im + other.imag)"
   ]
  },
  {
   "cell_type": "code",
   "execution_count": 14,
   "id": "3f3896fe-b412-4d05-8cf2-338dae49b0bc",
   "metadata": {},
   "outputs": [
    {
     "name": "stdout",
     "output_type": "stream",
     "text": [
      "1/2 2/3\n"
     ]
    }
   ],
   "source": [
    "half = Fraction(1, 2)\n",
    "two_thirds = Fraction(2, 3)\n",
    "print(half, two_thirds)"
   ]
  },
  {
   "cell_type": "code",
   "execution_count": 15,
   "id": "b5adb1a1-05cb-4cc0-ab74-f0d44697e91d",
   "metadata": {},
   "outputs": [
    {
     "name": "stdout",
     "output_type": "stream",
     "text": [
      "------- In Clause #5 -------------\n",
      "Qi() = Qi(0, 0)\n",
      "------- In Clause #1 -------------\n",
      "Qi(1) = Qi(1, 0)\n",
      "------- In Clause #1 -------------\n",
      "Qi(1.5) = Qi(3/2, 0)\n",
      "------- In Clause #1 -------------\n",
      "Qi(two_thirds) = Qi(2/3, 0)\n",
      "------- In Clause #1 -------------\n",
      "Qi(1, 2) = Qi(1, 2)\n",
      "------- In Clause #1 -------------\n",
      "Qi(1.5, 4.25) = Qi(3/2, 17/4)\n",
      "------- In Clause #1 -------------\n",
      "Qi('1/2', '2/3') = Qi(1/2, 2/3)\n",
      "------- In Clause #1 -------------\n",
      "Qi(half) = Qi(1/2, 0)\n",
      "------- In Clause #1 -------------\n",
      "Qi('1/2', '2/3') = Qi(1/2, 2/3)\n",
      "------- In Clause #1 -------------\n",
      "Qi(half, two_thirds) = Qi(1/2, 2/3)\n"
     ]
    }
   ],
   "source": [
    "print(f\"{Qi() = }\")\n",
    "print(f\"{Qi(1) = }\")\n",
    "print(f\"{Qi(1.5) = }\")\n",
    "print(f\"{Qi(two_thirds) = }\")\n",
    "print(f\"{Qi(1, 2) = }\")\n",
    "print(f\"{Qi(1.5, 4.25) = }\")\n",
    "print(f\"{Qi('1/2', '2/3') = }\")\n",
    "print(f\"{Qi(half) = }\")\n",
    "print(f\"{Qi('1/2', '2/3') = }\")\n",
    "print(f\"{Qi(half, two_thirds) = }\")"
   ]
  },
  {
   "cell_type": "code",
   "execution_count": 16,
   "id": "a9666a75-8bce-4353-8e48-0bdc514bea0e",
   "metadata": {},
   "outputs": [
    {
     "name": "stdout",
     "output_type": "stream",
     "text": [
      "------- In Clause #2 -------------\n",
      "Qi((1-2j)) = Qi(1, -2)\n",
      "------- In Clause #1 -------------\n",
      "------- In Clause #3 -------------\n",
      "Qi(Qi(1, -2)) = Qi(1, -2)\n",
      "------- In Clause #2 -------------\n",
      "------- In Clause #1 -------------\n",
      "------- In Clause #1 -------------\n",
      "Qi((1-2j), (-3+5j)) = Qi(Qi(1, -2), Qi(-3, 5))\n",
      "------- In Clause #2 -------------\n",
      "------- In Clause #1 -------------\n",
      "------- In Clause #1 -------------\n",
      "Qi((1.5-2j), (-4.25+5j)) = Qi(Qi(3/2, -2), Qi(-17/4, 5))\n",
      "------- In Clause #1 -------------\n",
      "------- In Clause #3 -------------\n",
      "------- In Clause #3 -------------\n",
      "------- In Clause #2 -------------\n",
      "Qi(Qi(1, -2), (-3+5j)) = Qi(Qi(1, -2), Qi(-3, 5))\n",
      "------- In Clause #1 -------------\n",
      "------- In Clause #2 -------------\n",
      "------- In Clause #1 -------------\n",
      "------- In Clause #1 -------------\n",
      "Qi((1-2j), Qi(-3, 5)) = Qi(Qi(1, -2), Qi(-3, 5))\n"
     ]
    }
   ],
   "source": [
    "print(f\"{Qi((1-2j)) = }\")\n",
    "print(f\"{Qi(Qi(1, -2)) = }\")\n",
    "print(f\"{Qi((1-2j), (-3+5j)) = }\")\n",
    "print(f\"{Qi((1.5-2j), (-4.25+5j)) = }\")\n",
    "print(f\"{Qi(Qi(1, -2), (-3+5j)) = }\")\n",
    "print(f\"{Qi((1-2j), Qi(-3, 5)) = }\")"
   ]
  },
  {
   "cell_type": "code",
   "execution_count": 17,
   "id": "bfa9b210-5f11-4259-aea2-c5103bf33829",
   "metadata": {},
   "outputs": [
    {
     "name": "stdout",
     "output_type": "stream",
     "text": [
      "------- In Clause #2 -------------\n",
      "------- In Clause #1 -------------\n",
      "------- In Clause #1 -------------\n"
     ]
    },
    {
     "data": {
      "text/plain": [
       "Qi(Qi(1, -2), Qi(-3, 5))"
      ]
     },
     "execution_count": 17,
     "metadata": {},
     "output_type": "execute_result"
    }
   ],
   "source": [
    "Qi((1-2j), (-3+5j))"
   ]
  },
  {
   "cell_type": "code",
   "execution_count": 18,
   "id": "b98f2448-35f4-4497-a283-e05a7b1dc1a3",
   "metadata": {},
   "outputs": [
    {
     "name": "stdout",
     "output_type": "stream",
     "text": [
      "------- In Clause #1 -------------\n",
      "------- In Clause #1 -------------\n",
      "------- In Clause #3 -------------\n",
      "------- In Clause #3 -------------\n",
      "------- In Clause #3 -------------\n"
     ]
    },
    {
     "data": {
      "text/plain": [
       "Qi(Qi(1, 2), Qi(3, 4))"
      ]
     },
     "execution_count": 18,
     "metadata": {},
     "output_type": "execute_result"
    }
   ],
   "source": [
    "q0 = Qi(Qi(1, 2), Qi(3, 4))\n",
    "q0"
   ]
  },
  {
   "cell_type": "code",
   "execution_count": 19,
   "id": "f9d42b40-4de2-4516-8331-892f5d45bce1",
   "metadata": {},
   "outputs": [
    {
     "name": "stdout",
     "output_type": "stream",
     "text": [
      "------- In Clause #3.5 -------------\n"
     ]
    },
    {
     "data": {
      "text/plain": [
       "Qi(1, 2)"
      ]
     },
     "execution_count": 19,
     "metadata": {},
     "output_type": "execute_result"
    }
   ],
   "source": [
    "Qi(Zi(1, 2))"
   ]
  },
  {
   "cell_type": "code",
   "execution_count": 20,
   "id": "16659ade-1da5-4b99-93d7-68071df44a7c",
   "metadata": {},
   "outputs": [
    {
     "name": "stdout",
     "output_type": "stream",
     "text": [
      "------- In Clause #3.5 -------------\n"
     ]
    },
    {
     "data": {
      "text/plain": [
       "Qi(1, 2)"
      ]
     },
     "execution_count": 20,
     "metadata": {},
     "output_type": "execute_result"
    }
   ],
   "source": [
    "Qi(Zi(1, 2), Zi(3, 4))"
   ]
  },
  {
   "cell_type": "code",
   "execution_count": null,
   "id": "49ae55ec-27f5-4d4a-b2a3-ca970d709282",
   "metadata": {},
   "outputs": [],
   "source": []
  },
  {
   "cell_type": "code",
   "execution_count": 23,
   "id": "0c9d8c91-aabd-4ec7-9865-8a68440560a8",
   "metadata": {},
   "outputs": [
    {
     "name": "stderr",
     "output_type": "stream",
     "text": [
      "2025-10-11 14:08:17,564 - DEBUG - Calculating average for numbers: [1, 2, 3, 4, 5]\n",
      "2025-10-11 14:08:17,566 - INFO - Average calculated: 3.0\n",
      "2025-10-11 14:08:17,566 - DEBUG - Calculating average for numbers: []\n",
      "2025-10-11 14:08:17,567 - WARNING - Attempted to calculate average of an empty list.\n"
     ]
    },
    {
     "data": {
      "text/plain": [
       "0"
      ]
     },
     "execution_count": 23,
     "metadata": {},
     "output_type": "execute_result"
    }
   ],
   "source": [
    "import logging\n",
    "\n",
    "logging.basicConfig(level=logging.DEBUG, format='%(asctime)s - %(levelname)s - %(message)s')\n",
    "\n",
    "def calculate_average(numbers):\n",
    "    logging.debug(f\"Calculating average for numbers: {numbers}\")\n",
    "    if not numbers:\n",
    "        logging.warning(\"Attempted to calculate average of an empty list.\")\n",
    "        return 0\n",
    "    total = sum(numbers)\n",
    "    average = total / len(numbers)\n",
    "    logging.info(f\"Average calculated: {average}\")\n",
    "    return average\n",
    "\n",
    "calculate_average([1, 2, 3, 4, 5])\n",
    "calculate_average([])"
   ]
  },
  {
   "cell_type": "code",
   "execution_count": 24,
   "id": "68468d24-ae4b-48a3-9929-684f45b41c5a",
   "metadata": {},
   "outputs": [
    {
     "name": "stderr",
     "output_type": "stream",
     "text": [
      "2025-10-11 14:10:41,646 - DEBUG - This is a debug message.\n",
      "2025-10-11 14:10:41,647 - INFO - This is an informational message.\n",
      "2025-10-11 14:10:41,647 - WARNING - This is a warning message.\n",
      "2025-10-11 14:10:41,648 - ERROR - This is an error message.\n",
      "2025-10-11 14:10:41,648 - CRITICAL - This is a critical error message.\n",
      "2025-10-11 14:10:41,648 - INFO - Division of 10 by 2 resulted in 5.0\n",
      "2025-10-11 14:10:41,649 - ERROR - Attempted to divide by zero!\n",
      "Traceback (most recent call last):\n",
      "  File \"/var/folders/n6/_xg9_wkd7mg3w6sxqfh7z55h0000gn/T/ipykernel_5375/3114523761.py\", line 25, in divide\n",
      "    result = a / b\n",
      "             ~~^~~\n",
      "ZeroDivisionError: division by zero\n"
     ]
    }
   ],
   "source": [
    "import logging\n",
    "\n",
    "# Configure basic logging to a file and the console\n",
    "logging.basicConfig(\n",
    "    level=logging.INFO,  # Set the minimum level of messages to log\n",
    "    format='%(asctime)s - %(levelname)s - %(message)s',  # Define the log message format\n",
    "    handlers=[\n",
    "        logging.FileHandler(\"app.log\"),  # Log messages to a file named 'app.log'\n",
    "        logging.StreamHandler()  # Also output log messages to the console\n",
    "    ]\n",
    ")\n",
    "\n",
    "# Get a logger instance (it's good practice to use __name__)\n",
    "logger = logging.getLogger(__name__)\n",
    "\n",
    "# Log messages at different levels\n",
    "logger.debug(\"This is a debug message.\")  # Won't be shown with INFO level\n",
    "logger.info(\"This is an informational message.\")\n",
    "logger.warning(\"This is a warning message.\")\n",
    "logger.error(\"This is an error message.\")\n",
    "logger.critical(\"This is a critical error message.\")\n",
    "\n",
    "def divide(a, b):\n",
    "    try:\n",
    "        result = a / b\n",
    "        logger.info(f\"Division of {a} by {b} resulted in {result}\")\n",
    "        return result\n",
    "    except ZeroDivisionError:\n",
    "        logger.error(\"Attempted to divide by zero!\", exc_info=True) # exc_info adds traceback\n",
    "        return None\n",
    "\n",
    "divide(10, 2)\n",
    "divide(5, 0)"
   ]
  },
  {
   "cell_type": "code",
   "execution_count": null,
   "id": "adf6ae0d-17a3-4f40-974e-f7e89b764fba",
   "metadata": {},
   "outputs": [],
   "source": []
  }
 ],
 "metadata": {
  "kernelspec": {
   "display_name": "Python [conda env:base] *",
   "language": "python",
   "name": "conda-base-py"
  },
  "language_info": {
   "codemirror_mode": {
    "name": "ipython",
    "version": 3
   },
   "file_extension": ".py",
   "mimetype": "text/x-python",
   "name": "python",
   "nbconvert_exporter": "python",
   "pygments_lexer": "ipython3",
   "version": "3.13.5"
  }
 },
 "nbformat": 4,
 "nbformat_minor": 5
}
