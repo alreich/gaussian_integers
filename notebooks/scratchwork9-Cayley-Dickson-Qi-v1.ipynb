{
 "cells": [
  {
   "cell_type": "markdown",
   "id": "11951404-4d7b-4cd4-aa6e-3bca6abee1ce",
   "metadata": {},
   "source": [
    "# Cayley-Dickson Construction Applied to Qi Definition"
   ]
  },
  {
   "cell_type": "markdown",
   "id": "985bac8c",
   "metadata": {},
   "source": [
    "*Version 1*"
   ]
  },
  {
   "cell_type": "markdown",
   "id": "903c36a4",
   "metadata": {},
   "source": [
    "My original implementation of Gaussian integers included two classes, ``Zi`` and ``Qi``, where, for example, ``Zi(2, -7)`` represents a Gaussian integer, and ``Qi(-2/3, 4/5)`` represents a Gaussian rational.\n",
    "\n",
    "I'd like to extend this code to include rational-valued quaternions and octonions using the Cayley-Dickson construction."
   ]
  },
  {
   "cell_type": "markdown",
   "id": "d582233e",
   "metadata": {},
   "source": [
    "The [Cayley-Dickson construction](https://en.wikipedia.org/wiki/Cayley%E2%80%93Dickson_construction) is a process by which one can use a recursive definition of conjugation together with a recursive definition of multiplication to use...\n",
    "* pairs of real numbers ($\\mathbb{R}$) to create complex numbers,\n",
    "* pairs of complex numbers ($\\mathbb{C}$) to create quaternions,\n",
    "* pairs of quaternions ($\\mathbb{H}$) to create octonions,\n",
    "* pairs of octonions ($\\mathbb{O}$) to create sedenions ($\\mathbb{S}$), and so on."
   ]
  },
  {
   "cell_type": "markdown",
   "id": "2f09c45e-9ab5-461b-8de8-fd74f6a0e16e",
   "metadata": {},
   "source": [
    "For more specifics, see my write-up about the Cayley-Dickson construction [at this link](https://abstract-algebra.readthedocs.io/en/latest/55_cayley_dickson.html)."
   ]
  },
  {
   "cell_type": "code",
   "execution_count": 1,
   "id": "1ebdcab3",
   "metadata": {},
   "outputs": [],
   "source": [
    "# from cayley_dickson_alg import Zi, SetScalarMult\n",
    "from random import randint"
   ]
  },
  {
   "cell_type": "code",
   "execution_count": 2,
   "id": "3afe1173",
   "metadata": {},
   "outputs": [],
   "source": [
    "from random import seed\n",
    "\n",
    "seed(42)  # Generate the same random sequence each time (for testing)"
   ]
  },
  {
   "cell_type": "code",
   "execution_count": 3,
   "id": "9caa6915",
   "metadata": {},
   "outputs": [],
   "source": [
    "from fractions import Fraction\n",
    "from functools import wraps"
   ]
  },
  {
   "cell_type": "code",
   "execution_count": 4,
   "id": "8bd72875",
   "metadata": {},
   "outputs": [],
   "source": [
    "def gaussian_rational(fnc):\n",
    "    \"\"\"For use as a property that casts an argument into Gaussian rational.\"\"\"\n",
    "    @wraps(fnc)\n",
    "    def gaussian_rational_wrapper(arg, num):\n",
    "        qi = to_gaussian_rational(num)\n",
    "        return fnc(arg, qi)\n",
    "    return gaussian_rational_wrapper"
   ]
  },
  {
   "cell_type": "code",
   "execution_count": 5,
   "id": "60a77be4-88d9-46ec-bf4a-898bf4d3621b",
   "metadata": {},
   "outputs": [],
   "source": [
    "class Qi:\n",
    "    \"\"\"Gaussian Rational Number Class\"\"\"\n",
    "\n",
    "    __MAX_DENOMINATOR = 1_000_000\n",
    "\n",
    "    def __init__(self, re=None, im=None):\n",
    "\n",
    "        # --------------------------------------------------------\n",
    "        # re is a str, float, int, or Fraction; and\n",
    "        # im is a str, float, int, Fraction, or None\n",
    "\n",
    "        if isinstance(re, (str, float, int, Fraction)):\n",
    "            if isinstance(re, Fraction):\n",
    "                self.__re = re\n",
    "            else:\n",
    "                self.__re = Fraction(re)\n",
    "            if im is None:\n",
    "                self.__im = 0\n",
    "            elif isinstance(im, (str, float, int, Fraction)):\n",
    "                if isinstance(im, Fraction):\n",
    "                    self.__im = im\n",
    "                else:\n",
    "                    self.__im = Fraction(im)\n",
    "            else:\n",
    "                raise Exception(f\"Inputs incompatible: {re} and {im}\")\n",
    "\n",
    "        # --------------------------------------------------------\n",
    "        # re is a complex; and\n",
    "        # im is complex or None\n",
    "\n",
    "        elif isinstance(re, complex):\n",
    "            if im is None:\n",
    "                self.__re = Fraction(re.real)\n",
    "                self.__im = Fraction(re.imag)\n",
    "            elif isinstance(im, complex):\n",
    "                self.__re = Qi(re.real, re.imag)\n",
    "                self.__im = Qi(im.real, im.imag)\n",
    "            else:\n",
    "                raise Exception(f\"Inputs incompatible: {re} and {im}\")\n",
    "\n",
    "        # --------------------------------------------------------\n",
    "        # re is a Zi, and im is None, a complex, or a Zi\n",
    "\n",
    "        elif isinstance(re, Zi):\n",
    "            if im is None:\n",
    "                self.__re = re.real\n",
    "                self.__im = re.imag\n",
    "            elif isinstance(im, (complex, Zi)):\n",
    "                self.__re = Zi(re)\n",
    "                self.__im = Zi(im)\n",
    "            else:\n",
    "                raise Exception(f\"Inputs incompatible: {re} and {im}\")\n",
    "\n",
    "        # --------------------------------------------------------\n",
    "        # re is a list or tuple of numbers with length equal to a\n",
    "        # power of 2, and im is None, or it is a tuple or list\n",
    "        # similar to the one input for re.\n",
    "        elif isinstance(re, (tuple, list)):\n",
    "            z = Zi.from_array(re)\n",
    "            if im is None:\n",
    "                self.__re = z.real\n",
    "                self.__im = z.imag\n",
    "            elif isinstance(im, (tuple, list)) and len(im) == len(re):\n",
    "                w = Zi.from_array(im)\n",
    "                self.__re = z\n",
    "                self.__im = w\n",
    "            else:\n",
    "                raise Exception(f\"Inputs incompatible: {re} and {im}\")\n",
    "\n",
    "        # --------------------------------------------------------\n",
    "        # Both re and im are None\n",
    "\n",
    "        elif re is None:\n",
    "            self.__re = 0\n",
    "            if im is None:\n",
    "                self.__im = 0\n",
    "            else:\n",
    "                raise Exception(f\"If re is None, then im must be None. But im = {im}\")\n",
    "        else:\n",
    "            raise Exception(f\"Unexpected combination of input types: {re} and {im}\")\n",
    "\n",
    "    @classmethod\n",
    "    def max_denominator(cls, denom=None):\n",
    "        if denom is None:\n",
    "            return cls.__MAX_DENOMINATOR\n",
    "        elif isinstance(denom, int) and denom > 1:\n",
    "            cls.__MAX_DENOMINATOR = denom\n",
    "            return cls.__MAX_DENOMINATOR\n",
    "        else:\n",
    "            raise ValueError(f\"Maximum denominator, {denom}, must be an integer > 1\")\n",
    "\n",
    "    @property\n",
    "    def real(self) -> Fraction:\n",
    "        return self.__re\n",
    "\n",
    "    @property\n",
    "    def imag(self) -> Fraction:\n",
    "        return self.__im\n",
    "\n",
    "    def __repr__(self):\n",
    "        return f\"Qi({repr(str(self.__re))}, {repr(str(self.__im))})\"\n",
    "\n",
    "    def __str__(self):\n",
    "        if self.__im < 0:\n",
    "            return f\"({self.__re}{self.__im}j)\"\n",
    "        else:\n",
    "            return f\"({self.__re}+{self.__im}j)\"\n",
    "\n",
    "    @gaussian_rational\n",
    "    def __add__(self, other):\n",
    "        return Qi(self.__re + other.real, self.__im + other.imag)"
   ]
  },
  {
   "cell_type": "code",
   "execution_count": 6,
   "id": "3f3896fe-b412-4d05-8cf2-338dae49b0bc",
   "metadata": {},
   "outputs": [
    {
     "name": "stdout",
     "output_type": "stream",
     "text": [
      "1/2 2/3\n"
     ]
    }
   ],
   "source": [
    "half = Fraction(1, 2)\n",
    "two_thirds = Fraction(2, 3)\n",
    "print(half, two_thirds)"
   ]
  },
  {
   "cell_type": "code",
   "execution_count": 7,
   "id": "b5adb1a1-05cb-4cc0-ab74-f0d44697e91d",
   "metadata": {},
   "outputs": [
    {
     "name": "stdout",
     "output_type": "stream",
     "text": [
      "Qi(1) = Qi('1', '0')\n",
      "Qi(1.5) = Qi('3/2', '0')\n",
      "Qi(two_thirds) = Qi('2/3', '0')\n",
      "Qi(1, 2) = Qi('1', '2')\n",
      "Qi(1.5, 4.25) = Qi('3/2', '17/4')\n",
      "Qi('1/2', '2/3') = Qi('1/2', '2/3')\n",
      "Qi(half) = Qi('1/2', '0')\n",
      "Qi('1/2', '2/3') = Qi('1/2', '2/3')\n",
      "Qi((1-2j)) = Qi('1', '-2')\n",
      "Qi(half, two_thirds) = Qi('1/2', '2/3')\n"
     ]
    }
   ],
   "source": [
    "print(f\"{Qi(1) = }\")\n",
    "print(f\"{Qi(1.5) = }\")\n",
    "print(f\"{Qi(two_thirds) = }\")\n",
    "print(f\"{Qi(1, 2) = }\")\n",
    "print(f\"{Qi(1.5, 4.25) = }\")\n",
    "print(f\"{Qi('1/2', '2/3') = }\")\n",
    "print(f\"{Qi(half) = }\")\n",
    "print(f\"{Qi('1/2', '2/3') = }\")\n",
    "print(f\"{Qi(half, two_thirds) = }\")"
   ]
  },
  {
   "cell_type": "code",
   "execution_count": 12,
   "id": "a9666a75-8bce-4353-8e48-0bdc514bea0e",
   "metadata": {},
   "outputs": [
    {
     "name": "stdout",
     "output_type": "stream",
     "text": [
      "Qi((1-2j)) = Qi('1', '-2')\n",
      "Qi((1-2j), (-3+5j)) = Qi('(1-2j)', '(-3+5j)')\n"
     ]
    }
   ],
   "source": [
    "print(f\"{Qi((1-2j)) = }\")\n",
    "\n",
    "print(f\"{Qi((1-2j), (-3+5j)) = }\")"
   ]
  },
  {
   "cell_type": "code",
   "execution_count": 9,
   "id": "bfa9b210-5f11-4259-aea2-c5103bf33829",
   "metadata": {},
   "outputs": [
    {
     "data": {
      "text/plain": [
       "Qi('(1-2j)', '(-3+5j)')"
      ]
     },
     "execution_count": 9,
     "metadata": {},
     "output_type": "execute_result"
    }
   ],
   "source": [
    "Qi((1-2j), (-3+5j))"
   ]
  },
  {
   "cell_type": "raw",
   "id": "e8ecaa16-b274-4ea2-b726-340722f1e983",
   "metadata": {},
   "source": [
    "Zi((1-2j), (-3+5j))"
   ]
  },
  {
   "cell_type": "code",
   "execution_count": null,
   "id": "b98f2448-35f4-4497-a283-e05a7b1dc1a3",
   "metadata": {},
   "outputs": [],
   "source": []
  }
 ],
 "metadata": {
  "kernelspec": {
   "display_name": "Python [conda env:base] *",
   "language": "python",
   "name": "conda-base-py"
  },
  "language_info": {
   "codemirror_mode": {
    "name": "ipython",
    "version": 3
   },
   "file_extension": ".py",
   "mimetype": "text/x-python",
   "name": "python",
   "nbconvert_exporter": "python",
   "pygments_lexer": "ipython3",
   "version": "3.13.5"
  }
 },
 "nbformat": 4,
 "nbformat_minor": 5
}
