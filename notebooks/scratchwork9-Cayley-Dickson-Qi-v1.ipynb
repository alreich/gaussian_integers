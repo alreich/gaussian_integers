{
 "cells": [
  {
   "cell_type": "markdown",
   "id": "11951404-4d7b-4cd4-aa6e-3bca6abee1ce",
   "metadata": {},
   "source": [
    "# Cayley-Dickson Construction Applied to Qi Definition"
   ]
  },
  {
   "cell_type": "markdown",
   "id": "985bac8c",
   "metadata": {},
   "source": [
    "*Version 1*"
   ]
  },
  {
   "cell_type": "markdown",
   "id": "903c36a4",
   "metadata": {},
   "source": [
    "My original implementation of Gaussian integers included two classes, ``Zi`` and ``Qi``, where, for example, ``Zi(2, -7)`` represents a Gaussian integer, and ``Qi(-2/3, 4/5)`` represents a Gaussian rational.\n",
    "\n",
    "I'd like to extend this code to include rational-valued quaternions and octonions using the Cayley-Dickson construction."
   ]
  },
  {
   "cell_type": "markdown",
   "id": "d582233e",
   "metadata": {},
   "source": [
    "The [Cayley-Dickson construction](https://en.wikipedia.org/wiki/Cayley%E2%80%93Dickson_construction) is a process by which one can use a recursive definition of conjugation together with a recursive definition of multiplication to use...\n",
    "* pairs of real numbers ($\\mathbb{R}$) to create complex numbers,\n",
    "* pairs of complex numbers ($\\mathbb{C}$) to create quaternions,\n",
    "* pairs of quaternions ($\\mathbb{H}$) to create octonions,\n",
    "* pairs of octonions ($\\mathbb{O}$) to create sedenions ($\\mathbb{S}$), and so on."
   ]
  },
  {
   "cell_type": "markdown",
   "id": "2f09c45e-9ab5-461b-8de8-fd74f6a0e16e",
   "metadata": {},
   "source": [
    "For more specifics, see my write-up about the Cayley-Dickson construction [at this link](https://abstract-algebra.readthedocs.io/en/latest/55_cayley_dickson.html)."
   ]
  },
  {
   "cell_type": "code",
   "execution_count": 1,
   "id": "1ebdcab3",
   "metadata": {},
   "outputs": [],
   "source": [
    "from cayley_dickson_alg import Zi, SetScalarMult\n",
    "from random import randint"
   ]
  },
  {
   "cell_type": "code",
   "execution_count": 2,
   "id": "3afe1173",
   "metadata": {},
   "outputs": [],
   "source": [
    "from random import seed\n",
    "\n",
    "seed(42)  # Generate the same random sequence each time (for testing)"
   ]
  },
  {
   "cell_type": "code",
   "execution_count": 3,
   "id": "9caa6915",
   "metadata": {},
   "outputs": [],
   "source": [
    "from fractions import Fraction\n",
    "from functools import wraps"
   ]
  },
  {
   "cell_type": "code",
   "execution_count": 4,
   "id": "8bd72875",
   "metadata": {},
   "outputs": [],
   "source": [
    "def gaussian_rational(fnc):\n",
    "    \"\"\"For use as a property that casts an argument into Gaussian rational.\"\"\"\n",
    "    @wraps(fnc)\n",
    "    def gaussian_rational_wrapper(arg, num):\n",
    "        qi = to_gaussian_rational(num)\n",
    "        return fnc(arg, qi)\n",
    "    return gaussian_rational_wrapper"
   ]
  },
  {
   "cell_type": "code",
   "execution_count": 28,
   "id": "2cd9718a",
   "metadata": {},
   "outputs": [],
   "source": [
    "class Qi():\n",
    "    \"\"\"Gaussian Rational Number Class\"\"\"\n",
    "\n",
    "    __max_denominator = 1_000_000\n",
    "\n",
    "    def __init__(self, re=None, im=None):\n",
    "\n",
    "        # --------------------------------------------------------\n",
    "        # re is a str, int, float, or Fraction and\n",
    "        # im is a str, int, float, Fraction or None\n",
    "\n",
    "        if isinstance(re, Fraction):\n",
    "            self.__re = re\n",
    "            \n",
    "        elif isinstance(re, (str, int, float)):\n",
    "            self.__re = Fraction(re).limit_denominator(self.__max_denominator)\n",
    "            if im is None:\n",
    "                self.__im = Fraction(0)\n",
    "            elif isinstance(im, (str, int, float)):\n",
    "                self.__im = Fraction(im).limit_denominator(self.__max_denominator)\n",
    "            else:\n",
    "                raise Exception(f\"Inputs incompatible: {re} and {im}\")\n",
    "\n",
    "    @classmethod\n",
    "    def max_denominator(cls):\n",
    "        return cls.__max_denominator\n",
    "\n",
    "    @classmethod\n",
    "    def set_max_denominator(cls, value):\n",
    "        if value > 1:\n",
    "            cls.__max_denominator = value\n",
    "            return cls.__max_denominator\n",
    "        else:\n",
    "            raise ValueError(\"max_denominator must be > 1\")\n",
    "\n",
    "    @property\n",
    "    def real(self) -> Fraction:\n",
    "        return self.__re\n",
    "\n",
    "    @property\n",
    "    def imag(self) -> Fraction:\n",
    "        return self.__im\n",
    "\n",
    "    def __repr__(self):\n",
    "        return f\"Qi({repr(str(self.__re))}, {repr(str(self.__im))})\"\n",
    "\n",
    "    def __str__(self):\n",
    "        if self.__im < 0:\n",
    "            return f\"({self.__re}{self.__im}j)\"\n",
    "        else:\n",
    "            return f\"({self.__re}+{self.__im}j)\"\n",
    "\n",
    "    @gaussian_rational\n",
    "    def __add__(self, other):\n",
    "        return Qi(self.__re + other.real, self.__im + other.imag)"
   ]
  },
  {
   "cell_type": "code",
   "execution_count": null,
   "id": "e9fc4a73",
   "metadata": {},
   "outputs": [],
   "source": [
    "        # --------------------------------------------------------\n",
    "        # re is a complex, and im is None, a complex, or a Zi\n",
    "\n",
    "        elif isinstance(re, complex):\n",
    "            if im is None:  #\n",
    "                self.__re = round(re.real)\n",
    "                self.__im = round(re.imag)\n",
    "            elif isinstance(im, (complex, Zi)):\n",
    "                self.__re = Zi(re)\n",
    "                self.__im = Zi(im)\n",
    "            else:\n",
    "                raise Exception(f\"Inputs incompatible: {re} and {im}\")\n",
    "\n",
    "        # --------------------------------------------------------\n",
    "        # re is a Zi, and im is None, a complex, or a Zi\n",
    "\n",
    "        elif isinstance(re, Zi):\n",
    "            if im is None:\n",
    "                self.__re = re.real\n",
    "                self.__im = re.imag\n",
    "            elif isinstance(im, (complex, Zi)):\n",
    "                self.__re = Zi(re)\n",
    "                self.__im = Zi(im)\n",
    "            else:\n",
    "                raise Exception(f\"Inputs incompatible: {re} and {im}\")\n",
    "\n",
    "        # --------------------------------------------------------\n",
    "        # re is a list or tuple of numbers with length equal to a\n",
    "        # power of 2, and im is None, or it is a tuple or list\n",
    "        # similar to the one input for re.\n",
    "        elif isinstance(re, (tuple, list)):\n",
    "            z = Zi.from_array(re)\n",
    "            if im is None:\n",
    "                self.__re = z.real\n",
    "                self.__im = z.imag\n",
    "            elif isinstance(im, (tuple, list)) and len(im) == len(re):\n",
    "                w = Zi.from_array(im)\n",
    "                self.__re = z\n",
    "                self.__im = w\n",
    "            else:\n",
    "                raise Exception(f\"Inputs incompatible: {re} and {im}\")\n",
    "\n",
    "        # --------------------------------------------------------\n",
    "        # Both re and im are None\n",
    "\n",
    "        elif re is None:\n",
    "            self.__re = 0\n",
    "            if im is None:\n",
    "                self.__im = 0\n",
    "            else:\n",
    "                raise Exception(f\"If re is None, then im must be None. But im = {im}\")\n",
    "        else:\n",
    "            raise Exception(f\"Unexpected combination of input types: {re} and {im}\")\n",
    "    "
   ]
  },
  {
   "cell_type": "code",
   "execution_count": 29,
   "id": "352e0e7f",
   "metadata": {},
   "outputs": [
    {
     "name": "stdout",
     "output_type": "stream",
     "text": [
      "1/2\n"
     ]
    }
   ],
   "source": [
    "half = Fraction(1, 2)\n",
    "print(half)"
   ]
  },
  {
   "cell_type": "code",
   "execution_count": 30,
   "id": "f788f418",
   "metadata": {},
   "outputs": [
    {
     "name": "stdout",
     "output_type": "stream",
     "text": [
      "(1/2+2/3j)\n"
     ]
    }
   ],
   "source": [
    "print(Qi('1/2', '2/3'))"
   ]
  },
  {
   "cell_type": "code",
   "execution_count": 27,
   "id": "47a98e59",
   "metadata": {},
   "outputs": [
    {
     "data": {
      "text/plain": [
       "Qi('1', '0')"
      ]
     },
     "execution_count": 27,
     "metadata": {},
     "output_type": "execute_result"
    }
   ],
   "source": [
    "Qi((1-2j))"
   ]
  },
  {
   "cell_type": "code",
   "execution_count": null,
   "id": "f2d772ea",
   "metadata": {},
   "outputs": [],
   "source": []
  }
 ],
 "metadata": {
  "kernelspec": {
   "display_name": "Python 3 (ipykernel)",
   "language": "python",
   "name": "python3"
  },
  "language_info": {
   "codemirror_mode": {
    "name": "ipython",
    "version": 3
   },
   "file_extension": ".py",
   "mimetype": "text/x-python",
   "name": "python",
   "nbconvert_exporter": "python",
   "pygments_lexer": "ipython3",
   "version": "3.11.5"
  }
 },
 "nbformat": 4,
 "nbformat_minor": 5
}
