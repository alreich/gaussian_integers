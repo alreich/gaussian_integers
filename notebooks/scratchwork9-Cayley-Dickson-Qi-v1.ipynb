{
 "cells": [
  {
   "cell_type": "markdown",
   "id": "11951404-4d7b-4cd4-aa6e-3bca6abee1ce",
   "metadata": {},
   "source": [
    "# Cayley-Dickson Construction Applied to Qi Definition"
   ]
  },
  {
   "cell_type": "markdown",
   "id": "985bac8c",
   "metadata": {},
   "source": [
    "*Version 1*"
   ]
  },
  {
   "cell_type": "markdown",
   "id": "903c36a4",
   "metadata": {},
   "source": [
    "My original implementation of Gaussian integers included two classes, ``Zi`` and ``Qi``, where, for example, ``Zi(2, -7)`` represents a Gaussian integer, and ``Qi(-2/3, 4/5)`` represents a Gaussian rational.\n",
    "\n",
    "I'd like to extend this code to include rational-valued quaternions and octonions using the Cayley-Dickson construction."
   ]
  },
  {
   "cell_type": "markdown",
   "id": "d582233e",
   "metadata": {},
   "source": [
    "The [Cayley-Dickson construction](https://en.wikipedia.org/wiki/Cayley%E2%80%93Dickson_construction) is a process by which one can use a recursive definition of conjugation together with a recursive definition of multiplication to use...\n",
    "* pairs of real numbers ($\\mathbb{R}$) to create complex numbers,\n",
    "* pairs of complex numbers ($\\mathbb{C}$) to create quaternions,\n",
    "* pairs of quaternions ($\\mathbb{H}$) to create octonions,\n",
    "* pairs of octonions ($\\mathbb{O}$) to create sedenions ($\\mathbb{S}$), and so on."
   ]
  },
  {
   "cell_type": "markdown",
   "id": "2f09c45e-9ab5-461b-8de8-fd74f6a0e16e",
   "metadata": {},
   "source": [
    "For more specifics, see my write-up about the Cayley-Dickson construction [at this link](https://abstract-algebra.readthedocs.io/en/latest/55_cayley_dickson.html)."
   ]
  },
  {
   "cell_type": "code",
   "execution_count": 1,
   "id": "4ffd25e8-b457-4e4e-b8c4-8f156cdad4e0",
   "metadata": {},
   "outputs": [],
   "source": [
    "from cayley_dickson_alg import Zi, SetScalarMult\n",
    "from random import randint, seed\n",
    "from fractions import Fraction\n",
    "from functools import wraps"
   ]
  },
  {
   "cell_type": "code",
   "execution_count": 25,
   "id": "bde1dbf6-6ccc-4f2b-bc65-59678a57df30",
   "metadata": {},
   "outputs": [],
   "source": [
    "def gaussian_rational(fnc):\n",
    "    \"\"\"For use as a property that casts an argument into Gaussian rational.\"\"\"\n",
    "    @wraps(fnc)\n",
    "    def gaussian_rational_wrapper(arg, num):\n",
    "        qi = to_gaussian_rational(num)\n",
    "        return fnc(arg, qi)\n",
    "    return gaussian_rational_wrapper\n",
    "\n",
    "class Qi:\n",
    "    \"\"\"Gaussian Rational Number Class\"\"\"\n",
    "\n",
    "    __MAX_DENOMINATOR = 1_000_000\n",
    "\n",
    "    def __init__(self, re=None, im=None):\n",
    "\n",
    "        # CLAUSE AA --------------------------------------------------------\n",
    "        # re is a str, float, int, or Fraction; and\n",
    "        # im is a str, float, int, Fraction, or None\n",
    "\n",
    "        if isinstance(re, (str, float, int, Fraction)):\n",
    "            if isinstance(re, Fraction):\n",
    "                self.__re = re\n",
    "            else:\n",
    "                self.__re = Fraction(re)\n",
    "            if im is None:\n",
    "                self.__im = Fraction(0)\n",
    "            elif isinstance(im, (str, float, int, Fraction)):\n",
    "                if isinstance(im, Fraction):\n",
    "                    self.__im = im\n",
    "                else:\n",
    "                    self.__im = Fraction(im)\n",
    "            else:\n",
    "                raise Exception(f\"Inputs incompatible: {re} and {im}\")\n",
    "\n",
    "        # CLAUSE BA --------------------------------------------------------\n",
    "        # re is a complex; and\n",
    "        # im is complex, a Qi, or None\n",
    "\n",
    "        elif isinstance(re, complex):\n",
    "            if im is None:\n",
    "                self.__re = Fraction(re.real)\n",
    "                self.__im = Fraction(re.imag)\n",
    "            elif isinstance(im, (Qi, complex)):\n",
    "                self.__re = Qi(re.real, re.imag)\n",
    "                self.__im = Qi(im.real, im.imag)\n",
    "            else:\n",
    "                raise Exception(f\"Inputs incompatible: {re} and {im}\")\n",
    "\n",
    "        # CLAUSE CA --------------------------------------------------------\n",
    "        # re is a Qi, and im is complex, a Qi, or None\n",
    "\n",
    "        elif isinstance(re, Qi):\n",
    "            if im is None:\n",
    "                self.__re = re.real\n",
    "                self.__im = re.imag\n",
    "            elif isinstance(im, (complex, Qi)):\n",
    "                self.__re = Qi(re)\n",
    "                self.__im = Qi(im)\n",
    "            else:\n",
    "                raise Exception(f\"Inputs incompatible: {re} and {im}\")\n",
    "\n",
    "        # CLAUSE DA --------------------------------------------------------\n",
    "        # re is a Zi, and im is a Zi, or None\n",
    "\n",
    "        elif isinstance(re, Zi):\n",
    "            if im is None:\n",
    "                if re.is_complex():\n",
    "                    self.__re = Fraction(re.real)\n",
    "                    self.__im = Fraction(re.imag)\n",
    "                else:\n",
    "                    self.__re = Qi(re.real)\n",
    "                    self.__im = Qi(re.imag)\n",
    "            elif isinstance(im, Zi) and im.order() == re.order():\n",
    "                    self.__re = Qi(re)\n",
    "                    self.__im = Qi(im)\n",
    "            else:\n",
    "                raise Exception(f\"Inputs incompatible: {re} and {im}\")\n",
    "\n",
    "        # CLAUSE EA --------------------------------------------------------\n",
    "        # re is a list or tuple of numbers with length equal to a\n",
    "        # power of 2, and im is None, or it is a tuple or list\n",
    "        # similar to the one input for re.\n",
    "        elif isinstance(re, (tuple, list)):\n",
    "            z = Zi.from_array(re)\n",
    "            if im is None:\n",
    "                self.__re = z.real\n",
    "                self.__im = z.imag\n",
    "            elif isinstance(im, (tuple, list)) and len(im) == len(re):\n",
    "                w = Zi.from_array(im)\n",
    "                self.__re = z\n",
    "                self.__im = w\n",
    "            else:\n",
    "                raise Exception(f\"Inputs incompatible: {re} and {im}\")\n",
    "\n",
    "        # CLAUSE FA --------------------------------------------------------\n",
    "        # Both re and im are None\n",
    "\n",
    "        elif re is None:\n",
    "            self.__re = 0\n",
    "            if im is None:\n",
    "                self.__im = 0\n",
    "            else:\n",
    "                raise Exception(f\"If re is None, then im must be None. But im = {im}\")\n",
    "        else:\n",
    "            raise Exception(f\"Unexpected combination of input types: {re} and {im}\")\n",
    "\n",
    "    @classmethod\n",
    "    def max_denominator(cls, denom=None):\n",
    "        if denom is None:\n",
    "            return cls.__MAX_DENOMINATOR\n",
    "        elif isinstance(denom, int) and denom > 1:\n",
    "            cls.__MAX_DENOMINATOR = denom\n",
    "            return cls.__MAX_DENOMINATOR\n",
    "        else:\n",
    "            raise ValueError(f\"Maximum denominator, {denom}, must be an integer > 1\")\n",
    "\n",
    "    @property\n",
    "    def real(self) -> Fraction:\n",
    "        return self.__re\n",
    "\n",
    "    @property\n",
    "    def imag(self) -> Fraction:\n",
    "        return self.__im\n",
    "\n",
    "    def __repr__(self):\n",
    "        return f\"{self.__class__.__name__}({self.__re}, {self.__im})\"\n",
    "\n",
    "#    def __str__(self):\n",
    "#        if self.__im < 0:\n",
    "#            return f\"({self.__re}{self.__im}j)\"\n",
    "#        else:\n",
    "#            return f\"({self.__re}+{self.__im}j)\"\n",
    "\n",
    "    def __neg__(self):\n",
    "        \"\"\"Negate this Qi.\"\"\"\n",
    "        return Qi(-self.__re, -self.__im)\n",
    "\n",
    "    def __eq__(self, other):\n",
    "        \"\"\"Return True if this Qi equals other.\"\"\"\n",
    "        return (self.__re == other.real) and (self.__im == other.imag)\n",
    "\n",
    "    def __ne__(self, other):\n",
    "        \"\"\"Return True if this Qi does NOT equal other.\"\"\"\n",
    "        return (self.__re != other.real) or (self.__im != other.imag)\n",
    "\n",
    "    @gaussian_rational\n",
    "    def __add__(self, other):\n",
    "        return Qi(self.__re + other.real, self.__im + other.imag)\n",
    "    \n",
    "    def __sub__(self, other):\n",
    "        return Zi(self.__re - other.real, self.__im - other.imag)"
   ]
  },
  {
   "cell_type": "markdown",
   "id": "b3c26cc8",
   "metadata": {},
   "source": [
    "## Generate Unittests"
   ]
  },
  {
   "cell_type": "markdown",
   "id": "76208d6e-357b-4652-ad4b-96cabaf7d84e",
   "metadata": {},
   "source": [
    "The following code is used to write a draft version of unit tests for the Qi class **init** method.\n",
    "\n",
    "The output is just a fist-cut at a complete coverage set, because not all the printed unit tests will be correct, or even run, so careful checking and editing of the output is required."
   ]
  },
  {
   "cell_type": "code",
   "execution_count": 3,
   "id": "4ff42bbd-882f-4aad-83f3-977f071a3755",
   "metadata": {},
   "outputs": [],
   "source": [
    "import itertools\n",
    "\n",
    "def print_Qi_unittests(inputs1, inputs2):\n",
    "    \"\"\"Print a draft version of unit tests for the Qi class init method.\n",
    "    The output must be carefully checked and corrected, if necessary.\n",
    "    Also, there may be exceptions where input cases are not yet supported.\n",
    "    Look for the text '<<< ERROR >>>'.\n",
    "\n",
    "    input1 and input2 should be lists of (key, value) tuples, where each\n",
    "    key is a string to be used in a comment line indicating the value's type.\n",
    "    \"\"\"\n",
    "    for x, y in itertools.product(inputs1, inputs2):\n",
    "        typ1 = x[0]; typ2 = y[0]\n",
    "        val1 = x[1]; val2 = y[1]\n",
    "        print(f\"\\n        # {typ1} - {typ2}\")\n",
    "        try:\n",
    "            if val2 is not None:\n",
    "                print(f\"        self.assertEqual(Qi({repr(val1)}, {repr(val2)}), {repr(Qi(val1, val2))})\")\n",
    "            else:\n",
    "                print(f\"        self.assertEqual(Qi({repr(val1)}), {repr(Qi(val1))})\")\n",
    "        except Exception as exc:\n",
    "            print(f\"        # <<< ERROR >>> {exc}\")"
   ]
  },
  {
   "cell_type": "markdown",
   "id": "188a7dd6-ac5c-4ef9-a485-ed8a6de011de",
   "metadata": {},
   "source": [
    "The output of the cell below will be a complete test case.\n",
    "\n",
    "To run it, first copy it into a separate cell and then run the cell."
   ]
  },
  {
   "cell_type": "code",
   "execution_count": 35,
   "id": "4366f122-5dc4-4fa1-8fb0-6c275fea8440",
   "metadata": {},
   "outputs": [
    {
     "name": "stdout",
     "output_type": "stream",
     "text": [
      "\n",
      "from unittest import TestCase, TextTestRunner, defaultTestLoader\n",
      "\n",
      "class TestQi(TestCase):\n",
      "\n",
      "    def setUp(self) -> None:\n",
      "        seed(42)\n",
      "\n",
      "    def test_constructor(self):\n",
      "        #-------------------\n",
      "        # re type - im type\n",
      "        #-------------------\n",
      "\n",
      "        # str - str\n",
      "        self.assertEqual(Qi('1/2', '3/4'), Qi(1/2, 3/4))\n",
      "\n",
      "        # str - float\n",
      "        self.assertEqual(Qi('1/2', 0.75), Qi(1/2, 3/4))\n",
      "\n",
      "        # str - int\n",
      "        self.assertEqual(Qi('1/2', 7), Qi(1/2, 7))\n",
      "\n",
      "        # str - Fraction\n",
      "        self.assertEqual(Qi('1/2', Fraction(3, 8)), Qi(1/2, 3/8))\n",
      "\n",
      "        # str - None\n",
      "        self.assertEqual(Qi('1/2'), Qi(1/2, 0))\n",
      "\n",
      "        # float - str\n",
      "        self.assertEqual(Qi(0.5, '3/4'), Qi(1/2, 3/4))\n",
      "\n",
      "        # float - float\n",
      "        self.assertEqual(Qi(0.5, 0.75), Qi(1/2, 3/4))\n",
      "\n",
      "        # float - int\n",
      "        self.assertEqual(Qi(0.5, 7), Qi(1/2, 7))\n",
      "\n",
      "        # float - Fraction\n",
      "        self.assertEqual(Qi(0.5, Fraction(3, 8)), Qi(1/2, 3/8))\n",
      "\n",
      "        # float - None\n",
      "        self.assertEqual(Qi(0.5), Qi(1/2, 0))\n",
      "\n",
      "        # int - str\n",
      "        self.assertEqual(Qi(-3, '3/4'), Qi(-3, 3/4))\n",
      "\n",
      "        # int - float\n",
      "        self.assertEqual(Qi(-3, 0.75), Qi(-3, 3/4))\n",
      "\n",
      "        # int - int\n",
      "        self.assertEqual(Qi(-3, 7), Qi(-3, 7))\n",
      "\n",
      "        # int - Fraction\n",
      "        self.assertEqual(Qi(-3, Fraction(3, 8)), Qi(-3, 3/8))\n",
      "\n",
      "        # int - None\n",
      "        self.assertEqual(Qi(-3), Qi(-3, 0))\n",
      "\n",
      "        # Fraction - str\n",
      "        self.assertEqual(Qi(Fraction(1, 2), '3/4'), Qi(1/2, 3/4))\n",
      "\n",
      "        # Fraction - float\n",
      "        self.assertEqual(Qi(Fraction(1, 2), 0.75), Qi(1/2, 3/4))\n",
      "\n",
      "        # Fraction - int\n",
      "        self.assertEqual(Qi(Fraction(1, 2), 7), Qi(1/2, 7))\n",
      "\n",
      "        # Fraction - Fraction\n",
      "        self.assertEqual(Qi(Fraction(1, 2), Fraction(3, 8)), Qi(1/2, 3/8))\n",
      "\n",
      "        # Fraction - None\n",
      "        self.assertEqual(Qi(Fraction(1, 2)), Qi(1/2, 0))\n",
      "\n",
      "        # complex - complex\n",
      "        self.assertEqual(Qi((-1.5+2j), (3-0.75j)), Qi(Qi(-3/2, 2), Qi(3, -3/4)))\n",
      "\n",
      "        # complex - Qi\n",
      "        self.assertEqual(Qi((-1.5+2j), Qi(1/4, 3/4)), Qi(Qi(-3/2, 2), Qi(1/4, 3/4)))\n",
      "\n",
      "        # complex - Zi\n",
      "        # <<< ERROR >>> Inputs incompatible: (-1.5+2j) and (-2+5j)\n",
      "\n",
      "        # Qi - complex\n",
      "        self.assertEqual(Qi(Qi(1/2, 3/4), (3-0.75j)), Qi(Qi(1/2, 3/4), Qi(3, -3/4)))\n",
      "\n",
      "        # Qi - Qi\n",
      "        self.assertEqual(Qi(Qi(1/2, 3/4), Qi(1/4, 3/4)), Qi(Qi(1/2, 3/4), Qi(1/4, 3/4)))\n",
      "\n",
      "        # Qi - Zi\n",
      "        # <<< ERROR >>> Inputs incompatible: Qi(1/2, 3/4) and (-2+5j)\n",
      "\n",
      "        # Zi - complex\n",
      "        # <<< ERROR >>> Inputs incompatible: (3-7j) and (3-0.75j)\n",
      "\n",
      "        # Zi - Qi\n",
      "        # <<< ERROR >>> Inputs incompatible: (3-7j) and Qi(1/4, 3/4)\n",
      "\n",
      "        # Zi - Zi\n",
      "        self.assertEqual(Qi(Zi(3, -7), Zi(-2, 5)), Qi(Qi(3, -7), Qi(-2, 5)))\n",
      "\n",
      "# END OF FILE\n"
     ]
    }
   ],
   "source": [
    "header = \"\"\"\n",
    "from unittest import TestCase, TextTestRunner, defaultTestLoader\n",
    "\n",
    "class TestQi(TestCase):\n",
    "\n",
    "    def setUp(self) -> None:\n",
    "        seed(42)\n",
    "\n",
    "    def test_constructor(self):\n",
    "        #-------------------\n",
    "        # re type - im type\n",
    "        #-------------------\"\"\"\n",
    "\n",
    "in1 = [('str', '1/2'), ('float', 0.5), ('int', -3), ('Fraction', Fraction(1, 2))]\n",
    "in2 = [('str', '3/4'), ('float', 0.75), ('int', 7), ('Fraction', Fraction(3, 8)), ('None', None)]\n",
    "in3 = [('complex', (-1.5+2j)), ('Qi', Qi('1/2', '3/4')), ('Zi', Zi(3, -7))]\n",
    "in4 = [('complex', (3-0.75j)), ('Qi', Qi('1/4', '3/4')), ('Zi', Zi(-2, 5))]\n",
    "\n",
    "print(header)\n",
    "print_Qi_unittests(in1, in2)\n",
    "print_Qi_unittests(in3, in4)\n",
    "print(\"\\n# END OF FILE\")"
   ]
  },
  {
   "cell_type": "code",
   "execution_count": 34,
   "id": "9dfecf02-6ed4-4309-8512-ddb5fbc74ffd",
   "metadata": {},
   "outputs": [],
   "source": [
    "from unittest import TestCase, TextTestRunner, defaultTestLoader\n",
    "\n",
    "class TestQi(TestCase):\n",
    "\n",
    "    def setUp(self) -> None:\n",
    "        seed(42)\n",
    "\n",
    "    def test_constructor(self):\n",
    "        #-------------------\n",
    "        # re type - im type\n",
    "        #-------------------\n",
    "\n",
    "        # str - str\n",
    "        self.assertEqual(Qi('1/2', '3/4'), Qi(1/2, 3/4))\n",
    "\n",
    "        # str - float\n",
    "        self.assertEqual(Qi('1/2', 0.75), Qi(1/2, 3/4))\n",
    "\n",
    "        # str - int\n",
    "        self.assertEqual(Qi('1/2', 7), Qi(1/2, 7))\n",
    "\n",
    "        # str - Fraction\n",
    "        self.assertEqual(Qi('1/2', Fraction(3, 8)), Qi(1/2, 3/8))\n",
    "\n",
    "        # str - None\n",
    "        self.assertEqual(Qi('1/2'), Qi(1/2, 0))\n",
    "\n",
    "        # float - str\n",
    "        self.assertEqual(Qi(0.5, '3/4'), Qi(1/2, 3/4))\n",
    "\n",
    "        # float - float\n",
    "        self.assertEqual(Qi(0.5, 0.75), Qi(1/2, 3/4))\n",
    "\n",
    "        # float - int\n",
    "        self.assertEqual(Qi(0.5, 7), Qi(1/2, 7))\n",
    "\n",
    "        # float - Fraction\n",
    "        self.assertEqual(Qi(0.5, Fraction(3, 8)), Qi(1/2, 3/8))\n",
    "\n",
    "        # float - None\n",
    "        self.assertEqual(Qi(0.5), Qi(1/2, 0))\n",
    "\n",
    "        # int - str\n",
    "        self.assertEqual(Qi(-3, '3/4'), Qi(-3, 3/4))\n",
    "\n",
    "        # int - float\n",
    "        self.assertEqual(Qi(-3, 0.75), Qi(-3, 3/4))\n",
    "\n",
    "        # int - int\n",
    "        self.assertEqual(Qi(-3, 7), Qi(-3, 7))\n",
    "\n",
    "        # int - Fraction\n",
    "        self.assertEqual(Qi(-3, Fraction(3, 8)), Qi(-3, 3/8))\n",
    "\n",
    "        # int - None\n",
    "        self.assertEqual(Qi(-3), Qi(-3, 0))\n",
    "\n",
    "        # Fraction - str\n",
    "        self.assertEqual(Qi(Fraction(1, 2), '3/4'), Qi(1/2, 3/4))\n",
    "\n",
    "        # Fraction - float\n",
    "        self.assertEqual(Qi(Fraction(1, 2), 0.75), Qi(1/2, 3/4))\n",
    "\n",
    "        # Fraction - int\n",
    "        self.assertEqual(Qi(Fraction(1, 2), 7), Qi(1/2, 7))\n",
    "\n",
    "        # Fraction - Fraction\n",
    "        self.assertEqual(Qi(Fraction(1, 2), Fraction(3, 8)), Qi(1/2, 3/8))\n",
    "\n",
    "        # Fraction - None\n",
    "        self.assertEqual(Qi(Fraction(1, 2)), Qi(1/2, 0))\n",
    "\n",
    "        # complex - complex\n",
    "        self.assertEqual(Qi((-1.5+2j), (3-0.75j)), Qi(Qi(-3/2, 2), Qi(3, -3/4)))\n",
    "\n",
    "        # complex - Qi\n",
    "        self.assertEqual(Qi((-1.5+2j), Qi(1/4, 3/4)), Qi(Qi(-3/2, 2), Qi(1/4, 3/4)))\n",
    "\n",
    "        # complex - Zi\n",
    "        # <<< ERROR >>> Inputs incompatible: (-1.5+2j) and (-2+5j)\n",
    "\n",
    "        # Qi - complex\n",
    "        self.assertEqual(Qi(Qi(1/2, 3/4), (3-0.75j)), Qi(Qi(1/2, 3/4), Qi(3, -3/4)))\n",
    "\n",
    "        # Qi - Qi\n",
    "        self.assertEqual(Qi(Qi(1/2, 3/4), Qi(1/4, 3/4)), Qi(Qi(1/2, 3/4), Qi(1/4, 3/4)))\n",
    "\n",
    "        # Qi - Zi\n",
    "        # <<< ERROR >>> Inputs incompatible: Qi(1/2, 3/4) and (-2+5j)\n",
    "\n",
    "        # Zi - complex\n",
    "        # <<< ERROR >>> Inputs incompatible: (3-7j) and (3-0.75j)\n",
    "\n",
    "        # Zi - Qi\n",
    "        # <<< ERROR >>> Inputs incompatible: (3-7j) and Qi(1/4, 3/4)\n",
    "\n",
    "        # Zi - Zi\n",
    "        self.assertEqual(Qi(Zi(3, -7), Zi(-2, 5)), Qi(3, -7))\n",
    "\n",
    "# END OF FILE"
   ]
  },
  {
   "cell_type": "code",
   "execution_count": 18,
   "id": "3cc7df31-2d9b-4bec-b438-e82f379e10e6",
   "metadata": {},
   "outputs": [
    {
     "name": "stderr",
     "output_type": "stream",
     "text": [
      "test_constructor (__main__.TestQi.test_constructor) ... FAIL\n",
      "\n",
      "======================================================================\n",
      "FAIL: test_constructor (__main__.TestQi.test_constructor)\n",
      "----------------------------------------------------------------------\n",
      "Traceback (most recent call last):\n",
      "  File \"/var/folders/n6/_xg9_wkd7mg3w6sxqfh7z55h0000gn/T/ipykernel_2047/549633708.py\", line 98, in test_constructor\n",
      "    self.assertEqual(Qi(Zi(3, -7), Zi(-2, 5)), Qi(3, -7))\n",
      "    ~~~~~~~~~~~~~~~~^^^^^^^^^^^^^^^^^^^^^^^^^^^^^^^^^^^^^\n",
      "AssertionError: Qi(Qi(Qi(3, 0), Qi(-7, 0)), Qi(Qi(-2, 0), Qi(5, 0))) != Qi(3, -7)\n",
      "\n",
      "----------------------------------------------------------------------\n",
      "Ran 1 test in 0.004s\n",
      "\n",
      "FAILED (failures=1)\n"
     ]
    },
    {
     "data": {
      "text/plain": [
       "<unittest.runner.TextTestResult run=1 errors=0 failures=1>"
      ]
     },
     "execution_count": 18,
     "metadata": {},
     "output_type": "execute_result"
    }
   ],
   "source": [
    "TextTestRunner(verbosity=2).run(defaultTestLoader.loadTestsFromTestCase(TestQi))"
   ]
  },
  {
   "cell_type": "code",
   "execution_count": null,
   "id": "9fdc3831-393c-4a2a-b6a4-c72ae381a86a",
   "metadata": {},
   "outputs": [],
   "source": []
  },
  {
   "cell_type": "code",
   "execution_count": null,
   "id": "1a0135f6-7314-40ee-b09a-105c33d8a4be",
   "metadata": {},
   "outputs": [],
   "source": []
  },
  {
   "cell_type": "code",
   "execution_count": 14,
   "id": "1e7af487-2ec9-41e3-9bd2-663de1a72877",
   "metadata": {},
   "outputs": [
    {
     "data": {
      "text/plain": [
       "Zi(1, 2)"
      ]
     },
     "execution_count": 14,
     "metadata": {},
     "output_type": "execute_result"
    }
   ],
   "source": [
    "x0 = Zi(1, 2)\n",
    "x0"
   ]
  },
  {
   "cell_type": "code",
   "execution_count": 15,
   "id": "84eeea76-6026-4c83-92b4-fe5f4dc9dd44",
   "metadata": {},
   "outputs": [
    {
     "data": {
      "text/plain": [
       "True"
      ]
     },
     "execution_count": 15,
     "metadata": {},
     "output_type": "execute_result"
    }
   ],
   "source": [
    "x0.is_complex()"
   ]
  },
  {
   "cell_type": "code",
   "execution_count": null,
   "id": "3f513c35-848a-44d3-9d73-9312d10b15f2",
   "metadata": {},
   "outputs": [],
   "source": []
  },
  {
   "cell_type": "code",
   "execution_count": 8,
   "id": "16659ade-1da5-4b99-93d7-68071df44a7c",
   "metadata": {},
   "outputs": [
    {
     "data": {
      "text/plain": [
       "Qi(1, 2)"
      ]
     },
     "execution_count": 8,
     "metadata": {},
     "output_type": "execute_result"
    }
   ],
   "source": [
    "Qi(Zi(1, 2), Zi(3, 4))"
   ]
  },
  {
   "cell_type": "code",
   "execution_count": null,
   "id": "49ae55ec-27f5-4d4a-b2a3-ca970d709282",
   "metadata": {},
   "outputs": [],
   "source": []
  },
  {
   "cell_type": "code",
   "execution_count": 29,
   "id": "04e3a11f-de3e-4054-9a8f-8f0fcdaad8ed",
   "metadata": {},
   "outputs": [
    {
     "data": {
      "text/plain": [
       "Qi(Qi(3, -7), Qi(1, 2))"
      ]
     },
     "execution_count": 29,
     "metadata": {},
     "output_type": "execute_result"
    }
   ],
   "source": [
    "foo = Qi(Zi(3, -7), Zi(1, 2))\n",
    "foo"
   ]
  },
  {
   "cell_type": "code",
   "execution_count": 33,
   "id": "31afb91e-511a-4835-9beb-6de7a87e8e83",
   "metadata": {},
   "outputs": [
    {
     "data": {
      "text/plain": [
       "Fraction(3, 1)"
      ]
     },
     "execution_count": 33,
     "metadata": {},
     "output_type": "execute_result"
    }
   ],
   "source": [
    "foo.real.real"
   ]
  },
  {
   "cell_type": "code",
   "execution_count": 32,
   "id": "13ceceb9-6424-4d53-bed5-8fdaa7199600",
   "metadata": {},
   "outputs": [
    {
     "data": {
      "text/plain": [
       "Fraction(2, 1)"
      ]
     },
     "execution_count": 32,
     "metadata": {},
     "output_type": "execute_result"
    }
   ],
   "source": [
    "foo.imag.imag"
   ]
  },
  {
   "cell_type": "code",
   "execution_count": null,
   "id": "18fe6841-6fe3-4c54-bbf0-b09d605bb08b",
   "metadata": {},
   "outputs": [],
   "source": []
  }
 ],
 "metadata": {
  "kernelspec": {
   "display_name": "Python [conda env:base] *",
   "language": "python",
   "name": "conda-base-py"
  },
  "language_info": {
   "codemirror_mode": {
    "name": "ipython",
    "version": 3
   },
   "file_extension": ".py",
   "mimetype": "text/x-python",
   "name": "python",
   "nbconvert_exporter": "python",
   "pygments_lexer": "ipython3",
   "version": "3.13.5"
  }
 },
 "nbformat": 4,
 "nbformat_minor": 5
}
