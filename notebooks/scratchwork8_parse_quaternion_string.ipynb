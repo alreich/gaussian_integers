{
 "cells": [
  {
   "cell_type": "markdown",
   "id": "11951404-4d7b-4cd4-aa6e-3bca6abee1ce",
   "metadata": {},
   "source": [
    "# Parse Quaternion String"
   ]
  },
  {
   "cell_type": "code",
   "execution_count": 1,
   "id": "622153f1",
   "metadata": {},
   "outputs": [],
   "source": [
    "from cayley_dickson_alg import Zi"
   ]
  },
  {
   "cell_type": "markdown",
   "id": "6f5281ec",
   "metadata": {},
   "source": [
    "## Code Golf Quaternion Parser Tests ([see here](https://codegolf.stackexchange.com/questions/76545/parse-a-quaternion?newreg=3dd347f4682340b89aa845b416c70a4a))"
   ]
  },
  {
   "cell_type": "code",
   "execution_count": 2,
   "id": "0da11f46-9e30-4040-a09a-79ba65f9857f",
   "metadata": {},
   "outputs": [],
   "source": [
    "q_parser_tests = [\n",
    "\n",
    "    # Test String              Expected Result\n",
    "    #-------------------------------------------------------------------\n",
    "    (\"1+2i+3j+4k\",             [1, 2, 3, 4]),\n",
    "    (\"-1+3i-3j+7k\",            [-1, 3, -3, 7]),\n",
    "    (\"-1-4i-9j-2k\",            [-1, -4, -9, -2]),\n",
    "    (\"17-16i-15j-14k\",         [17, -16, -15, -14]),\n",
    "    \n",
    "    (\"7+2i\",                    [7, 2, 0, 0]),\n",
    "    (\"2i-6k\",                   [0, 2, 0, -6]),\n",
    "    (\"1-5j+2k\",                 [1, 0, -5, 2]),\n",
    "    (\"3+4i-9k\",                 [3, 4, 0, -9]),\n",
    "    \n",
    "    (\"42i+j-k\",                 [0, 42, 1, -1]),\n",
    "    (\"6-2i+j-3k\",               [6, -2, 1, -3]),\n",
    "    (\"1+i+j+k\",                 [1, 1, 1, 1]),\n",
    "    (\"-1-i-j-k\",                [-1, -1, -1, -1]),\n",
    "\n",
    "    (\"16k-20j+2i-7\",            [-7, 2, -20, 16]),\n",
    "    (\"i+4k-3j+2\",               [2, 1, -3, 4]),\n",
    "    (\"5k-2i+9+3j\",              [9, -2, 3, 5]),\n",
    "    (\"5k-2j+3\",                 [3, 0, -2, 5]),\n",
    "    \n",
    "    (\"1.75-1.75i-1.75j-1.75k\",  [1.75, -1.75, -1.75, -1.75]),\n",
    "    (\"2.0j-3k+0.47i-13\",        [-13, 0.47, 2.0, -3]),  # or [-13 .47 2 -3]\n",
    "    (\"5.6-3i\",                  [5.6, -3, 0, 0]),\n",
    "    (\"k-7.6i\",                  [0, -7.6, 0, 1]),\n",
    "    \n",
    "    (\"0\",                       [0, 0, 0, 0]),\n",
    "    (\"0j+0k\",                   [0, 0, 0, 0]),\n",
    "    (\"-0j\",                     [0, 0, 0, 0]), # or [0 0 -0 0]\n",
    "    (\"1-0k\",                    [1, 0, 0, 0]),  # or [1 0 0 -0]\n",
    "    \n",
    "    (\"1+2i+3j+4K\",              [1, 2, 3, 4]), # Uses K instead of k\n",
    "    (\"7.1E-2 +4.3k+i\",          [0.071, 1, 0, 4.3]),  # scientific notation\n",
    "    (\"3 - 2E-3i-4j\",            [3, -0.002, -4, 0])  # more sci notation\n",
    "]"
   ]
  },
  {
   "cell_type": "code",
   "execution_count": 3,
   "id": "2fdb05b0",
   "metadata": {},
   "outputs": [],
   "source": [
    "def ok(bool):\n",
    "    return \"OK\" if bool else \"** WRONG! **\""
   ]
  },
  {
   "cell_type": "code",
   "execution_count": 4,
   "id": "cf5a96f6",
   "metadata": {},
   "outputs": [
    {
     "name": "stdout",
     "output_type": "stream",
     "text": [
      "'1+2i+3j+4k' -> [1, 2, 3, 4] -> OK\n",
      "'-1+3i-3j+7k' -> [-1, 3, -3, 7] -> OK\n",
      "'-1-4i-9j-2k' -> [-1, -4, -9, -2] -> OK\n",
      "'17-16i-15j-14k' -> [17, -16, -15, -14] -> OK\n",
      "'7+2i' -> [7, 2, 0, 0] -> OK\n",
      "'2i-6k' -> [0, 2, 0, -6] -> OK\n",
      "'1-5j+2k' -> [1, 0, -5, 2] -> OK\n",
      "'3+4i-9k' -> [3, 4, 0, -9] -> OK\n",
      "'42i+j-k' -> [0, 42, 1, -1] -> OK\n",
      "'6-2i+j-3k' -> [6, -2, 1, -3] -> OK\n",
      "'1+i+j+k' -> [1, 1, 1, 1] -> OK\n",
      "'-1-i-j-k' -> [-1, -1, -1, -1] -> OK\n",
      "'16k-20j+2i-7' -> [-7, 2, -20, 16] -> OK\n",
      "'i+4k-3j+2' -> [2, 1, -3, 4] -> OK\n",
      "'5k-2i+9+3j' -> [9, -2, 3, 5] -> OK\n",
      "'5k-2j+3' -> [3, 0, -2, 5] -> OK\n",
      "'1.75-1.75i-1.75j-1.75k' -> [1.75, -1.75, -1.75, -1.75] -> OK\n",
      "'2.0j-3k+0.47i-13' -> [-13, 0.47, 2, -3] -> OK\n",
      "'5.6-3i' -> [5.6, -3, 0, 0] -> OK\n",
      "'k-7.6i' -> [0, -7.6, 0, 1] -> OK\n",
      "'0' -> [0, 0, 0, 0] -> OK\n",
      "'0j+0k' -> [0, 0, 0, 0] -> OK\n",
      "'-0j' -> [0, 0, 0, 0] -> OK\n",
      "'1-0k' -> [1, 0, 0, 0] -> OK\n",
      "'1+2i+3j+4K' -> [1, 2, 3, 4] -> OK\n",
      "'7.1E-2 +4.3k+i' -> [0.071, 1, 0, 4.3] -> OK\n",
      "'3 - 2E-3i-4j' -> [3, -0.002, -4, 0] -> OK\n"
     ]
    }
   ],
   "source": [
    "for test in q_parser_tests:\n",
    "    parsed = Zi.parse_quaternion_string(test[0])\n",
    "    expected = test[1]\n",
    "    check = (parsed == expected)\n",
    "    print(f\"'{test[0]}' -> {parsed} -> {ok(check)}\")"
   ]
  },
  {
   "cell_type": "code",
   "execution_count": null,
   "id": "27d50557",
   "metadata": {},
   "outputs": [],
   "source": []
  },
  {
   "cell_type": "code",
   "execution_count": 5,
   "id": "0a8bd62b",
   "metadata": {},
   "outputs": [
    {
     "data": {
      "text/plain": [
       "Zi(Zi(49, -45), Zi(-77, -50))"
      ]
     },
     "execution_count": 5,
     "metadata": {},
     "output_type": "execute_result"
    }
   ],
   "source": [
    "foo = Zi.random(order = 1)\n",
    "foo"
   ]
  },
  {
   "cell_type": "code",
   "execution_count": 6,
   "id": "75460923",
   "metadata": {},
   "outputs": [
    {
     "data": {
      "text/plain": [
       "'(+49-45i-77j-50k)'"
      ]
     },
     "execution_count": 6,
     "metadata": {},
     "output_type": "execute_result"
    }
   ],
   "source": [
    "foo.quaternion_to_string()"
   ]
  },
  {
   "cell_type": "code",
   "execution_count": 7,
   "id": "ffcce8ec",
   "metadata": {},
   "outputs": [
    {
     "data": {
      "text/plain": [
       "[84, 12, -17, 25]"
      ]
     },
     "execution_count": 7,
     "metadata": {},
     "output_type": "execute_result"
    }
   ],
   "source": [
    "parse_quaternion_string(\"(+84+12i-17j+25k)\")"
   ]
  },
  {
   "cell_type": "code",
   "execution_count": 8,
   "id": "82703961",
   "metadata": {},
   "outputs": [],
   "source": [
    "def quaternion(arr):\n",
    "    re = Zi(arr[0], arr[1])\n",
    "    im = Zi(arr[2], arr[3])\n",
    "    return Zi(re, im)"
   ]
  },
  {
   "cell_type": "code",
   "execution_count": 9,
   "id": "0adea0a5",
   "metadata": {},
   "outputs": [
    {
     "data": {
      "text/plain": [
       "Zi(Zi(84, 12), Zi(-17, 25))"
      ]
     },
     "execution_count": 9,
     "metadata": {},
     "output_type": "execute_result"
    }
   ],
   "source": [
    "quaternion([84, 12, -17, 25])"
   ]
  },
  {
   "cell_type": "code",
   "execution_count": null,
   "id": "b2b90bf2",
   "metadata": {},
   "outputs": [],
   "source": []
  },
  {
   "cell_type": "raw",
   "id": "d33fbdbd-6462-4878-bd26-4c8ffd6f7a2d",
   "metadata": {},
   "source": [
    "def from_array(arr):\n",
    "    n = len(arr)\n",
    "    if n == 2:\n",
    "        if isinstance(arr[0], (int, float)) and isinstance(arr[1], (int, float)):\n",
    "            return Zi(arr[0], arr[1])\n",
    "        else:\n",
    "            raise ValueError(f\"{arr} cannot be transformed into a Zi\")\n",
    "    elif n % 2 == 0:\n",
    "        return Zi(from_array(arr[:2]), from_array(arr[2:]))\n",
    "    else:\n",
    "        raise ValueError(f\"Number of elements in array, {n}, must be even.\")"
   ]
  },
  {
   "cell_type": "code",
   "execution_count": 12,
   "id": "069dbbe0-1162-437f-aa28-94538b37d772",
   "metadata": {},
   "outputs": [
    {
     "data": {
      "text/plain": [
       "Zi(1, 2)"
      ]
     },
     "execution_count": 12,
     "metadata": {},
     "output_type": "execute_result"
    }
   ],
   "source": [
    "from_array([1, 2.2])"
   ]
  },
  {
   "cell_type": "code",
   "execution_count": 13,
   "id": "dec1976b-7cd4-4b30-bc56-540a7bac6d67",
   "metadata": {
    "scrolled": true
   },
   "outputs": [],
   "source": [
    "foo = [1, 2, 3, 4, 5, 6]\n",
    "bar = [7, 8, 9, 10, 11, 12]\n",
    "zfoo = from_array(foo)\n",
    "zbar = from_array(bar)"
   ]
  },
  {
   "cell_type": "code",
   "execution_count": 14,
   "id": "3a13efb9-5ee9-4cd5-8553-2ed09f27b4f9",
   "metadata": {},
   "outputs": [
    {
     "data": {
      "text/plain": [
       "True"
      ]
     },
     "execution_count": 14,
     "metadata": {},
     "output_type": "execute_result"
    }
   ],
   "source": [
    "zfoo.is_quaternion()"
   ]
  },
  {
   "cell_type": "code",
   "execution_count": 15,
   "id": "d3b623e3-cfb2-4531-bc38-0852e4e9cc59",
   "metadata": {},
   "outputs": [
    {
     "data": {
      "text/plain": [
       "Zi(Zi(7, 8), Zi(Zi(9, 10), Zi(11, 12)))"
      ]
     },
     "execution_count": 15,
     "metadata": {},
     "output_type": "execute_result"
    }
   ],
   "source": [
    "zbar"
   ]
  },
  {
   "cell_type": "code",
   "execution_count": 16,
   "id": "724ac912-f3f0-4b07-8ded-ce3be3a0b7ab",
   "metadata": {},
   "outputs": [
    {
     "data": {
      "text/plain": [
       "559"
      ]
     },
     "execution_count": 16,
     "metadata": {},
     "output_type": "execute_result"
    }
   ],
   "source": [
    "zbar.norm"
   ]
  },
  {
   "cell_type": "code",
   "execution_count": 17,
   "id": "3f0bc12a-9fb5-461a-aa91-f545188cf7c5",
   "metadata": {},
   "outputs": [
    {
     "data": {
      "text/plain": [
       "Zi(Zi(Zi(-203, 0), Zi(46, 12)), Zi(Zi(12, 14), Zi(52, 66)))"
      ]
     },
     "execution_count": 17,
     "metadata": {},
     "output_type": "execute_result"
    }
   ],
   "source": [
    "zfoo * zbar"
   ]
  },
  {
   "cell_type": "code",
   "execution_count": null,
   "id": "536b28e4-7215-43d8-a0f0-adbde09eedb1",
   "metadata": {},
   "outputs": [],
   "source": []
  },
  {
   "cell_type": "code",
   "execution_count": null,
   "id": "f5034f21-ef14-4c01-8023-fcd18f6a057a",
   "metadata": {},
   "outputs": [],
   "source": []
  },
  {
   "cell_type": "code",
   "execution_count": null,
   "id": "86bd0ab0",
   "metadata": {},
   "outputs": [],
   "source": []
  },
  {
   "cell_type": "markdown",
   "id": "d8b0df84",
   "metadata": {},
   "source": [
    "## Other Implementations"
   ]
  },
  {
   "cell_type": "markdown",
   "id": "ac3c9052",
   "metadata": {},
   "source": [
    "### CODE GOLF"
   ]
  },
  {
   "cell_type": "markdown",
   "id": "168d4a2f",
   "metadata": {},
   "source": [
    "See the Python entry by R. Kap at [\"code golf\"](https://codegolf.stackexchange.com/questions/76545/parse-a-quaternion?newreg=3dd347f4682340b89aa845b416c70a4a)"
   ]
  },
  {
   "cell_type": "code",
   "execution_count": null,
   "id": "a21387e8",
   "metadata": {},
   "outputs": [],
   "source": [
    "from re import *\n",
    "\n",
    "def w(r):\n",
    "\n",
    "    # Substitute all minus (-) and plus (+) signs NOT followed by a number\n",
    "    # (if there are any) with a \"-1\"/\"+1\", respectively.\n",
    "    a=sub('[+](?![0-9])','+1',sub('[-](?![0-9])','-1',r))\n",
    "    \n",
    "    # Lambda function created for later use to sort the Quaternion.\n",
    "    # This function, when given as a key to the \"sorted\" function,\n",
    "    # arranges the input Quaternion in the order where the whole\n",
    "    # number comes first, and then the rest are placed in order of\n",
    "    # increasing letter value (i,j,k in this case) \n",
    "    q=lambda x:(not x.isdigit(),''.join(filter(str.isalpha,x)))\n",
    "    \n",
    "    # The following \"for\" loop replaces the letters NOT preceded by\n",
    "    # a number with a one followed by that letter\n",
    "    for z in findall('(?<![0-9])[a-z]',a):\n",
    "        a=a.replace(z,('+1{}'.format(z)))\n",
    "    \n",
    "    # The following first substitutes all pluses and minuses (+ and -)\n",
    "    # with a space, and then that new string is split at those spaces,\n",
    "    # and returned as a list. After that, the list is sorted according\n",
    "    # the the \"lambda\" function shown above. Then, the first item in\n",
    "    # that list, which is supposed to be a lone number, is checked to\n",
    "    # make sure that it indeed is a lone number. If it isn't, then \"+0, \"\n",
    "    # is appended to the Quaternion. \n",
    "    if not str(sorted(((sub('[.]','',sub('[+-]',' ',a))).split(' ')),key=q)[0]).isdigit():\n",
    "        a+='+0, '\n",
    "    \n",
    "    # The following \"for\" loop finds ALL the letters NOT in the list,\n",
    "    # by finding the symmetric difference between a set of all the\n",
    "    # letters found, and a set containing all the letters needed.\n",
    "    # For the letters not in the list, a '+0' is added the quaternion,\n",
    "    # followed by that letter, and then a comma and a space.\n",
    "    for i in list(set(findall('[a-z]',a))^{'i','j','k'}):\n",
    "        a+='+0{}, '.format(i)\n",
    "    \n",
    "    # Finally, in this last step, a \", \" is added IN BETWEEN unicode\n",
    "    # characters and pluses/minuses (+/-). Then, it splits at those spaces,\n",
    "    # and the commas separate different parts of the Quaternion from each\n",
    "    # other (otherwise, you would get something like `12i+3j+4k` from\n",
    "    # `2i+3j+4k+1`) in a returned list. Then, that list is sorted according\n",
    "    # to the lambda expression \"q\" (above), and then, finally, the NUMBERS\n",
    "    # (of any type, courtesy to Regex) are extracted from that joined list,\n",
    "    # and printed out in the correct order.\n",
    "    # print(findall('[-]?\\d+(?:\\.\\d+)?',''.join(sorted(sub('(?<=[A-Za-z0-9])(?=[+-])',', ',a).split(' '),key=q))))\n",
    "    result = findall('[-]?\\d+(?:\\.\\d+)?',''.join(sorted(sub('(?<=[A-Za-z0-9])(?=[+-])',', ',a).split(' '),key=q)))\n",
    "    return list(map(lambda x: float(x), result))"
   ]
  },
  {
   "cell_type": "code",
   "execution_count": null,
   "id": "5a595533",
   "metadata": {},
   "outputs": [],
   "source": [
    "for test in q_parser_tests:\n",
    "    print(f\"'{test[0]}' --> {w(test[0])}  {ok(w(test[0]) == test[1])}\")"
   ]
  },
  {
   "cell_type": "markdown",
   "id": "fc6e3a99",
   "metadata": {},
   "source": [
    "### GOOGLE AI"
   ]
  },
  {
   "cell_type": "markdown",
   "id": "c9c45200",
   "metadata": {},
   "source": [
    "The AI-generated code below is interesting, but it doesn't work and even if it did, it's not written to handle all of the Code Golf testcases."
   ]
  },
  {
   "cell_type": "raw",
   "id": "1f35717c-6ff2-46a9-bd49-aa892aee5c92",
   "metadata": {},
   "source": [
    "import re\n",
    "\n",
    "def parse_quaternion_string(q_string):\n",
    "    \"\"\"\n",
    "    Parses a quaternion string and returns its components (w, x, y, z).\n",
    "    Example formats: \"1+2i+3j+4k\", \"1-3k\", \"i+j-k\", \"1.5i+2.5j\"\n",
    "    \"\"\"\n",
    "    # Define a regex to capture optional real, i, j, and k coefficients.\n",
    "    # The groups are named 'real', 'i', 'j', and 'k'.\n",
    "    pattern = re.compile(\n",
    "        r\"(?P<real>[-+]?\\s*\\d*\\.?\\d+(?!i|j|k))?\"  # Real part (not followed by i, j, or k)\n",
    "        r\"(?P<i>[-+]?\\s*\\d*\\.?\\d*i)?\"            # i part\n",
    "        r\"(?P<j>[-+]?\\s*\\d*\\.?\\d*j)?\"            # j part\n",
    "        r\"(?P<k>[-+]?\\s*\\d*\\.?\\d*k)?\"            # k part\n",
    "    )\n",
    "    \n",
    "    match = pattern.search(q_string.replace(\" \", \"\"))\n",
    "\n",
    "    if not match:\n",
    "        raise ValueError(f\"Could not parse quaternion from string: {q_string}\")\n",
    "\n",
    "    components = match.groupdict()\n",
    "    w, x, y, z = 0.0, 0.0, 0.0, 0.0\n",
    "\n",
    "    # Extract the numerical values, handling missing coefficients (like 'i' alone)\n",
    "    # and signs.\n",
    "    if components.get('real'):\n",
    "        w = float(components['real'])\n",
    "    \n",
    "    if components.get('i'):\n",
    "        i_str = components['i'].strip('i')\n",
    "        x = float(i_str) if i_str not in ['+', '-'] else float(i_str + '1')\n",
    "    \n",
    "    if components.get('j'):\n",
    "        j_str = components['j'].strip('j')\n",
    "        y = float(j_str) if j_str not in ['+', '-'] else float(j_str + '1')\n",
    "    \n",
    "    if components.get('k'):\n",
    "        k_str = components['k'].strip('k')\n",
    "        z = float(k_str) if k_str not in ['+', '-'] else float(k_str + '1')\n",
    "\n",
    "    return (w, x, y, z)\n",
    "\n",
    "# Example usage\n",
    "q1_string = \"2.5 + 1.2i - 0.7j + 3.1k\"\n",
    "w1, x1, y1, z1 = parse_quaternion_string(q1_string)\n",
    "print(f\"'{q1_string}' parsed as: w={w1}, x={x1}, y={y1}, z={z1}\")\n",
    "\n",
    "q2_string = \"-3.0k + 1\"\n",
    "w2, x2, y2, z2 = parse_quaternion_string(q2_string)\n",
    "print(f\"'{q2_string}' parsed as: w={w2}, x={x2}, y={y2}, z={z2}\")\n",
    "\n",
    "q3_string = \"i - j\"\n",
    "w3, x3, y3, z3 = parse_quaternion_string(q3_string)\n",
    "print(f\"'{q3_string}' parsed as: w={w3}, x={x3}, y={y3}, z={z3}\")\n",
    "\n",
    "q4_string = \"5\"\n",
    "w4, x4, y4, z4 = parse_quaternion_string(q4_string)\n",
    "print(f\"'{q4_string}' parsed as: w={w4}, x={x4}, y={y4}, z={z4}\")"
   ]
  },
  {
   "cell_type": "code",
   "execution_count": null,
   "id": "22ebeac6",
   "metadata": {},
   "outputs": [],
   "source": []
  },
  {
   "cell_type": "code",
   "execution_count": null,
   "id": "c3264e98",
   "metadata": {},
   "outputs": [],
   "source": [
    "import re\n",
    "\n",
    "# qterm_pat = r'^[-+]?(\\d+(\\.\\d*)?|\\.\\d+)([eE][-+]?\\d+)?[ijk]?$'\n",
    "qterm_pat = r'^[-+]?((\\d+(\\.\\d*)?|\\.\\d+)([eE][-+]?\\d+)?)?[ijk]?$'\n",
    "\n",
    "# Test cases\n",
    "numbers = [\"123\", \"-45\", \"3.14\", \"-0.5\", \".75\", \"1.\", \"-2.0e5\", \"1.23E-4\", \"abc\", \"1.2.3\"]\n",
    "qterms = [\"+i\", \"-j\", \"123i\", \"-45j\", \"3.14k\", \"-0.5i\", \".75j\", \"1.k\", \"-2.0e5i\", \"1.23E-4j\", \"abck\", \"1.2.3i\"]\n",
    "\n",
    "for num_str in numbers + qterms:\n",
    "    if re.match(qterm_pat, num_str):\n",
    "        print(f\"'{num_str}' is a valid quaternion term.\")\n",
    "    else:\n",
    "        print(f\"'{num_str}' is NOT a valid quaternion term.\")"
   ]
  },
  {
   "cell_type": "code",
   "execution_count": null,
   "id": "2f433fe7",
   "metadata": {},
   "outputs": [],
   "source": []
  }
 ],
 "metadata": {
  "kernelspec": {
   "display_name": "Python [conda env:base] *",
   "language": "python",
   "name": "conda-base-py"
  },
  "language_info": {
   "codemirror_mode": {
    "name": "ipython",
    "version": 3
   },
   "file_extension": ".py",
   "mimetype": "text/x-python",
   "name": "python",
   "nbconvert_exporter": "python",
   "pygments_lexer": "ipython3",
   "version": "3.13.5"
  }
 },
 "nbformat": 4,
 "nbformat_minor": 5
}
