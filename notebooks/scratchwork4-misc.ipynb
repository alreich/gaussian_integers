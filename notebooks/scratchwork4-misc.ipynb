{
 "cells": [
  {
   "cell_type": "markdown",
   "id": "230d5aff",
   "metadata": {},
   "source": [
    "# Scratchwork 4 - Misc"
   ]
  },
  {
   "cell_type": "code",
   "execution_count": 14,
   "id": "5f0c8e2e",
   "metadata": {},
   "outputs": [],
   "source": [
    "from gaussians import Zi, Qi, isprime"
   ]
  },
  {
   "cell_type": "code",
   "execution_count": 15,
   "id": "8441bec5",
   "metadata": {},
   "outputs": [
    {
     "data": {
      "text/plain": [
       "Qi('71/41', '-58/41')"
      ]
     },
     "execution_count": 15,
     "metadata": {},
     "output_type": "execute_result"
    }
   ],
   "source": [
    "# Example 2.2 in [Conrad]:\n",
    "\n",
    "alpha = Zi(14, 3)\n",
    "beta  = Zi(4, 5)\n",
    "gamma = alpha / beta\n",
    "gamma"
   ]
  },
  {
   "cell_type": "code",
   "execution_count": 16,
   "id": "94e56f6c",
   "metadata": {},
   "outputs": [
    {
     "name": "stdout",
     "output_type": "stream",
     "text": [
      "(14+3j)\n"
     ]
    }
   ],
   "source": [
    "print(gamma * beta)"
   ]
  },
  {
   "cell_type": "code",
   "execution_count": 17,
   "id": "8949683c",
   "metadata": {},
   "outputs": [
    {
     "name": "stdout",
     "output_type": "stream",
     "text": [
      "(14+3j)\n"
     ]
    }
   ],
   "source": [
    "print(beta * gamma)"
   ]
  },
  {
   "cell_type": "code",
   "execution_count": null,
   "id": "3c817f11",
   "metadata": {},
   "outputs": [],
   "source": []
  },
  {
   "cell_type": "code",
   "execution_count": 18,
   "id": "c5dcdb87",
   "metadata": {},
   "outputs": [
    {
     "name": "stdout",
     "output_type": "stream",
     "text": [
      "(1+1j)\n"
     ]
    }
   ],
   "source": [
    "print(Zi.two())"
   ]
  },
  {
   "cell_type": "code",
   "execution_count": 19,
   "id": "41568d3b",
   "metadata": {},
   "outputs": [
    {
     "name": "stdout",
     "output_type": "stream",
     "text": [
      "(2+1j)\n"
     ]
    }
   ],
   "source": [
    "print(Zi(1, 3) / Zi.two())"
   ]
  },
  {
   "cell_type": "code",
   "execution_count": 20,
   "id": "7cd2b6cc",
   "metadata": {},
   "outputs": [
    {
     "name": "stdout",
     "output_type": "stream",
     "text": [
      "-1j\n"
     ]
    }
   ],
   "source": [
    "print(Zi(1, -1) / Zi.two())"
   ]
  },
  {
   "cell_type": "code",
   "execution_count": null,
   "id": "785247f3",
   "metadata": {},
   "outputs": [],
   "source": []
  },
  {
   "cell_type": "code",
   "execution_count": 21,
   "id": "696d9532",
   "metadata": {},
   "outputs": [
    {
     "name": "stdout",
     "output_type": "stream",
     "text": [
      "205 / 41 = 5.0\n"
     ]
    }
   ],
   "source": [
    "print(f\"{alpha.norm} / {beta.norm} = {alpha.norm / beta.norm}\")"
   ]
  },
  {
   "cell_type": "code",
   "execution_count": 22,
   "id": "bb071101",
   "metadata": {},
   "outputs": [
    {
     "data": {
      "text/plain": [
       "5"
      ]
     },
     "execution_count": 22,
     "metadata": {},
     "output_type": "execute_result"
    }
   ],
   "source": [
    "alpha.norms_divide(beta)"
   ]
  },
  {
   "cell_type": "code",
   "execution_count": 23,
   "id": "8ed17e25",
   "metadata": {},
   "outputs": [
    {
     "data": {
      "text/plain": [
       "5"
      ]
     },
     "execution_count": 23,
     "metadata": {},
     "output_type": "execute_result"
    }
   ],
   "source": [
    "beta.norms_divide(alpha)"
   ]
  },
  {
   "cell_type": "code",
   "execution_count": 24,
   "id": "2d1aa667",
   "metadata": {},
   "outputs": [
    {
     "data": {
      "text/plain": [
       "False"
      ]
     },
     "execution_count": 24,
     "metadata": {},
     "output_type": "execute_result"
    }
   ],
   "source": [
    "alpha.norms_divide(Zi.two())"
   ]
  },
  {
   "cell_type": "code",
   "execution_count": 25,
   "id": "ca7542a4",
   "metadata": {},
   "outputs": [
    {
     "data": {
      "text/plain": [
       "False"
      ]
     },
     "execution_count": 25,
     "metadata": {},
     "output_type": "execute_result"
    }
   ],
   "source": [
    "Zi.two().norms_divide(alpha)"
   ]
  },
  {
   "cell_type": "markdown",
   "id": "ec741efe",
   "metadata": {},
   "source": [
    "**The Norm**. Let $\\alpha = a + bi \\in \\mathbb{Z}[i]$ and define its norm to be $N(\\alpha) = \\alpha \\overline{\\alpha} = (a + bi)(a - bi) = a^2 + b^2$.\n",
    "\n",
    "**The Modified Division Theorem**. For $\\alpha, \\beta \\in \\mathbb{Z}[i]$ with $\\beta \\ne 0$, there are $\\gamma, \\rho \\in \\mathbb{Z}[i]$ such that $\\alpha = \\beta \\gamma + \\rho$ and $N(\\rho) \\le (1/2)N(\\beta)$"
   ]
  },
  {
   "cell_type": "code",
   "execution_count": null,
   "id": "a27856f9",
   "metadata": {},
   "outputs": [],
   "source": []
  }
 ],
 "metadata": {
  "kernelspec": {
   "display_name": "Python 3 (ipykernel)",
   "language": "python",
   "name": "python3"
  },
  "language_info": {
   "codemirror_mode": {
    "name": "ipython",
    "version": 3
   },
   "file_extension": ".py",
   "mimetype": "text/x-python",
   "name": "python",
   "nbconvert_exporter": "python",
   "pygments_lexer": "ipython3",
   "version": "3.11.5"
  }
 },
 "nbformat": 4,
 "nbformat_minor": 5
}
