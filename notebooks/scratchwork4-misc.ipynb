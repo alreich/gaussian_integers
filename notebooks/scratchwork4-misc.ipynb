{
 "cells": [
  {
   "cell_type": "markdown",
   "id": "230d5aff",
   "metadata": {},
   "source": [
    "# Scratchwork 4 - Misc"
   ]
  },
  {
   "cell_type": "code",
   "execution_count": 1,
   "id": "5f0c8e2e",
   "metadata": {},
   "outputs": [],
   "source": [
    "from gaussians import Zi, Qi, isprime"
   ]
  },
  {
   "cell_type": "code",
   "execution_count": 2,
   "id": "8441bec5",
   "metadata": {},
   "outputs": [
    {
     "data": {
      "text/plain": [
       "Qi('71/41', '-58/41')"
      ]
     },
     "execution_count": 2,
     "metadata": {},
     "output_type": "execute_result"
    }
   ],
   "source": [
    "# Example 2.2 in [Conrad]:\n",
    "\n",
    "alpha = Zi(14, 3)\n",
    "beta  = Zi(4, 5)\n",
    "gamma = alpha / beta\n",
    "gamma"
   ]
  },
  {
   "cell_type": "code",
   "execution_count": 3,
   "id": "94e56f6c",
   "metadata": {},
   "outputs": [
    {
     "name": "stdout",
     "output_type": "stream",
     "text": [
      "(14+3j)\n"
     ]
    }
   ],
   "source": [
    "print(gamma * beta)"
   ]
  },
  {
   "cell_type": "code",
   "execution_count": 4,
   "id": "8949683c",
   "metadata": {},
   "outputs": [
    {
     "name": "stdout",
     "output_type": "stream",
     "text": [
      "(14+3j)\n"
     ]
    }
   ],
   "source": [
    "print(beta * gamma)"
   ]
  },
  {
   "cell_type": "code",
   "execution_count": null,
   "id": "3c817f11",
   "metadata": {},
   "outputs": [],
   "source": []
  },
  {
   "cell_type": "code",
   "execution_count": 5,
   "id": "c5dcdb87",
   "metadata": {},
   "outputs": [
    {
     "name": "stdout",
     "output_type": "stream",
     "text": [
      "(1+1j)\n"
     ]
    }
   ],
   "source": [
    "print(Zi.two())"
   ]
  },
  {
   "cell_type": "code",
   "execution_count": 6,
   "id": "41568d3b",
   "metadata": {},
   "outputs": [
    {
     "name": "stdout",
     "output_type": "stream",
     "text": [
      "(2+1j)\n"
     ]
    }
   ],
   "source": [
    "print(Zi(1, 3) / Zi.two())"
   ]
  },
  {
   "cell_type": "code",
   "execution_count": 7,
   "id": "7cd2b6cc",
   "metadata": {},
   "outputs": [
    {
     "name": "stdout",
     "output_type": "stream",
     "text": [
      "-1j\n"
     ]
    }
   ],
   "source": [
    "print(Zi(1, -1) / Zi.two())"
   ]
  },
  {
   "cell_type": "code",
   "execution_count": null,
   "id": "785247f3",
   "metadata": {},
   "outputs": [],
   "source": []
  },
  {
   "cell_type": "code",
   "execution_count": 8,
   "id": "696d9532",
   "metadata": {},
   "outputs": [
    {
     "name": "stdout",
     "output_type": "stream",
     "text": [
      "205 / 41 = 5.0\n"
     ]
    }
   ],
   "source": [
    "print(f\"{alpha.norm} / {beta.norm} = {alpha.norm / beta.norm}\")"
   ]
  },
  {
   "cell_type": "code",
   "execution_count": 9,
   "id": "bb071101",
   "metadata": {},
   "outputs": [
    {
     "data": {
      "text/plain": [
       "5"
      ]
     },
     "execution_count": 9,
     "metadata": {},
     "output_type": "execute_result"
    }
   ],
   "source": [
    "alpha.norms_divide(beta)"
   ]
  },
  {
   "cell_type": "code",
   "execution_count": 10,
   "id": "8ed17e25",
   "metadata": {},
   "outputs": [
    {
     "data": {
      "text/plain": [
       "5"
      ]
     },
     "execution_count": 10,
     "metadata": {},
     "output_type": "execute_result"
    }
   ],
   "source": [
    "beta.norms_divide(alpha)"
   ]
  },
  {
   "cell_type": "code",
   "execution_count": 11,
   "id": "2d1aa667",
   "metadata": {},
   "outputs": [
    {
     "data": {
      "text/plain": [
       "False"
      ]
     },
     "execution_count": 11,
     "metadata": {},
     "output_type": "execute_result"
    }
   ],
   "source": [
    "alpha.norms_divide(Zi.two())"
   ]
  },
  {
   "cell_type": "code",
   "execution_count": 12,
   "id": "ca7542a4",
   "metadata": {},
   "outputs": [
    {
     "data": {
      "text/plain": [
       "False"
      ]
     },
     "execution_count": 12,
     "metadata": {},
     "output_type": "execute_result"
    }
   ],
   "source": [
    "Zi.two().norms_divide(alpha)"
   ]
  },
  {
   "cell_type": "markdown",
   "id": "ec741efe",
   "metadata": {},
   "source": [
    "**The Norm**. Let $\\alpha = a + bi \\in \\mathbb{Z}[i]$ and define its norm to be $N(\\alpha) = \\alpha \\overline{\\alpha} = (a + bi)(a - bi) = a^2 + b^2$.\n",
    "\n",
    "**The Modified Division Theorem**. For $\\alpha, \\beta \\in \\mathbb{Z}[i]$ with $\\beta \\ne 0$, there are $\\gamma, \\rho \\in \\mathbb{Z}[i]$ such that $\\alpha = \\beta \\gamma + \\rho$ and $N(\\rho) \\le (1/2)N(\\beta)$"
   ]
  },
  {
   "cell_type": "markdown",
   "id": "a3386f8e",
   "metadata": {},
   "source": [
    "## Brute Force Factorization"
   ]
  },
  {
   "cell_type": "code",
   "execution_count": 13,
   "id": "47dd6958",
   "metadata": {},
   "outputs": [],
   "source": [
    "zi1 = Zi(4,  5)  # Gaussian prime? True\n",
    "zi2 = Zi(1, -2)  # Gaussian prime? True\n",
    "zi3 = Zi(3, -3)  # Gaussian prime? False"
   ]
  },
  {
   "cell_type": "raw",
   "id": "2266781d",
   "metadata": {},
   "source": [
    "def brute_force_factorization(zi, include_units=False):\n",
    "    zmax = 2 * max(abs(zi.real), abs(zi.imag))\n",
    "    zmin = -zmax\n",
    "    # print(zmin, zmax)\n",
    "    for a in range(zmin, zmax):\n",
    "        for b in range(zmin, zmax):\n",
    "            for c in range(zmin, zmax):\n",
    "                for d in range(zmin, zmax):\n",
    "                    x = Zi(a, b)\n",
    "                    y = Zi(c, d)\n",
    "                    if zi == x * y:\n",
    "                        if include_units:\n",
    "                            print(x, y)\n",
    "                        else:\n",
    "                            if (not x in Zi.units()) and (not y in Zi.units()):\n",
    "                                print(x, y)"
   ]
  },
  {
   "cell_type": "code",
   "execution_count": 102,
   "id": "d0e0bdb4",
   "metadata": {},
   "outputs": [],
   "source": [
    "def factorizations(zi, include_units=False, verbose=False):\n",
    "    \"\"\"Brute force calculation of all the ways to factor zi.\"\"\"\n",
    "    zmax = 2 * max(abs(zi.real), abs(zi.imag))\n",
    "    zmin = -zmax\n",
    "    factors = set()\n",
    "    for a in range(zmin, zmax):\n",
    "        for b in range(zmin, zmax):\n",
    "            x = Zi(a, b)\n",
    "            for c in range(zmin, zmax):\n",
    "                for d in range(zmin, zmax):\n",
    "                    y = Zi(c, d)\n",
    "                    f = (x, y)\n",
    "                    g = (y, x)\n",
    "                    if zi == x * y:\n",
    "                        if include_units:\n",
    "                            if (not f in factors) and (not g in factors):\n",
    "                                if verbose:\n",
    "                                    print(f)\n",
    "                                factors.add(f)\n",
    "                        else:\n",
    "                            if (not x in Zi.units()) and (not y in Zi.units()):\n",
    "                                if (not f in factors) and (not g in factors):\n",
    "                                    if verbose:\n",
    "                                        print(f)\n",
    "                                    factors.add(f)\n",
    "    return factors"
   ]
  },
  {
   "cell_type": "code",
   "execution_count": 103,
   "id": "27563780",
   "metadata": {},
   "outputs": [
    {
     "data": {
      "text/plain": [
       "set()"
      ]
     },
     "execution_count": 103,
     "metadata": {},
     "output_type": "execute_result"
    }
   ],
   "source": [
    "factorizations(zi1)"
   ]
  },
  {
   "cell_type": "code",
   "execution_count": 104,
   "id": "c70fbdbb",
   "metadata": {},
   "outputs": [
    {
     "data": {
      "text/plain": [
       "set()"
      ]
     },
     "execution_count": 104,
     "metadata": {},
     "output_type": "execute_result"
    }
   ],
   "source": [
    "factorizations(zi2)"
   ]
  },
  {
   "cell_type": "code",
   "execution_count": 106,
   "id": "eafe047d",
   "metadata": {},
   "outputs": [
    {
     "name": "stdout",
     "output_type": "stream",
     "text": [
      "factorizations((3-3j)):\n",
      "\n"
     ]
    },
    {
     "data": {
      "text/plain": [
       "{(Zi(-1, -1), Zi(0, 3)),\n",
       " (Zi(-3), Zi(-1, 1)),\n",
       " (Zi(0, -3), Zi(1, 1)),\n",
       " (Zi(1, -1), Zi(3))}"
      ]
     },
     "execution_count": 106,
     "metadata": {},
     "output_type": "execute_result"
    }
   ],
   "source": [
    "print(f\"factorizations({zi3}):\\n\")\n",
    "factorizations(zi3)"
   ]
  },
  {
   "cell_type": "code",
   "execution_count": 107,
   "id": "367f58ac",
   "metadata": {},
   "outputs": [
    {
     "name": "stdout",
     "output_type": "stream",
     "text": [
      "ALL factorizations((3-3j)):\n",
      "\n",
      "(Zi(-3, -3), Zi(0, 1))\n",
      "(Zi(-3), Zi(-1, 1))\n",
      "(Zi(-3, 3), Zi(-1))\n",
      "(Zi(-1, -1), Zi(0, 3))\n",
      "(Zi(0, -3), Zi(1, 1))\n",
      "(Zi(0, -1), Zi(3, 3))\n",
      "(Zi(1, -1), Zi(3))\n",
      "(Zi(1), Zi(3, -3))\n"
     ]
    },
    {
     "data": {
      "text/plain": [
       "{(Zi(-1, -1), Zi(0, 3)),\n",
       " (Zi(-3), Zi(-1, 1)),\n",
       " (Zi(-3, -3), Zi(0, 1)),\n",
       " (Zi(-3, 3), Zi(-1)),\n",
       " (Zi(0, -1), Zi(3, 3)),\n",
       " (Zi(0, -3), Zi(1, 1)),\n",
       " (Zi(1), Zi(3, -3)),\n",
       " (Zi(1, -1), Zi(3))}"
      ]
     },
     "execution_count": 107,
     "metadata": {},
     "output_type": "execute_result"
    }
   ],
   "source": [
    "print(f\"ALL factorizations({zi3}):\\n\")\n",
    "factorizations(zi3, include_units=True, verbose=True)"
   ]
  },
  {
   "cell_type": "code",
   "execution_count": 101,
   "id": "f6b01009",
   "metadata": {},
   "outputs": [],
   "source": [
    "# brute_force_factorizations(zi3, include_units=True)"
   ]
  },
  {
   "cell_type": "code",
   "execution_count": null,
   "id": "2448fdb6",
   "metadata": {},
   "outputs": [],
   "source": []
  },
  {
   "cell_type": "code",
   "execution_count": null,
   "id": "9b02cf95",
   "metadata": {},
   "outputs": [],
   "source": []
  },
  {
   "cell_type": "code",
   "execution_count": 21,
   "id": "034ec5c5",
   "metadata": {},
   "outputs": [
    {
     "data": {
      "text/plain": [
       "Qi('-6/5', '13/5')"
      ]
     },
     "execution_count": 21,
     "metadata": {},
     "output_type": "execute_result"
    }
   ],
   "source": [
    "Zi(4, 5) / Zi(1.1, -1.9)"
   ]
  },
  {
   "cell_type": "code",
   "execution_count": 22,
   "id": "03d7fa71",
   "metadata": {},
   "outputs": [
    {
     "data": {
      "text/plain": [
       "Qi('-255/241', '655/241')"
      ]
     },
     "execution_count": 22,
     "metadata": {},
     "output_type": "execute_result"
    }
   ],
   "source": [
    "Zi(4, 5) / Qi(1.1, -1.9)"
   ]
  },
  {
   "cell_type": "code",
   "execution_count": null,
   "id": "d3f39b61",
   "metadata": {},
   "outputs": [],
   "source": []
  },
  {
   "cell_type": "code",
   "execution_count": 23,
   "id": "fb0311b8",
   "metadata": {},
   "outputs": [
    {
     "data": {
      "text/plain": [
       "(-1.2950819672131149+2.2459016393442623j)"
      ]
     },
     "execution_count": 23,
     "metadata": {},
     "output_type": "execute_result"
    }
   ],
   "source": [
    "complex(Zi(4, 5) / Qi(0.9, -2.3))"
   ]
  },
  {
   "cell_type": "code",
   "execution_count": null,
   "id": "4493d5e2",
   "metadata": {},
   "outputs": [],
   "source": []
  },
  {
   "cell_type": "code",
   "execution_count": null,
   "id": "e7e4f7d6",
   "metadata": {},
   "outputs": [],
   "source": []
  }
 ],
 "metadata": {
  "kernelspec": {
   "display_name": "Python 3 (ipykernel)",
   "language": "python",
   "name": "python3"
  },
  "language_info": {
   "codemirror_mode": {
    "name": "ipython",
    "version": 3
   },
   "file_extension": ".py",
   "mimetype": "text/x-python",
   "name": "python",
   "nbconvert_exporter": "python",
   "pygments_lexer": "ipython3",
   "version": "3.11.5"
  }
 },
 "nbformat": 4,
 "nbformat_minor": 5
}
