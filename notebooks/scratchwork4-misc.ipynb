{
 "cells": [
  {
   "cell_type": "markdown",
   "id": "230d5aff",
   "metadata": {},
   "source": [
    "# Scratchwork 4 - Misc"
   ]
  },
  {
   "cell_type": "code",
   "execution_count": 1,
   "id": "5f0c8e2e",
   "metadata": {},
   "outputs": [],
   "source": [
    "from gaussians import Zi, Qi, isprime"
   ]
  },
  {
   "cell_type": "code",
   "execution_count": 2,
   "id": "8441bec5",
   "metadata": {},
   "outputs": [
    {
     "data": {
      "text/plain": [
       "Qi('71/41', '-58/41')"
      ]
     },
     "execution_count": 2,
     "metadata": {},
     "output_type": "execute_result"
    }
   ],
   "source": [
    "# Example 2.2 in [Conrad]:\n",
    "\n",
    "alpha = Zi(14, 3)\n",
    "beta  = Zi(4, 5)\n",
    "gamma = alpha / beta\n",
    "gamma"
   ]
  },
  {
   "cell_type": "code",
   "execution_count": 3,
   "id": "94e56f6c",
   "metadata": {},
   "outputs": [
    {
     "name": "stdout",
     "output_type": "stream",
     "text": [
      "(14+3j)\n"
     ]
    }
   ],
   "source": [
    "print(gamma * beta)"
   ]
  },
  {
   "cell_type": "code",
   "execution_count": 4,
   "id": "8949683c",
   "metadata": {},
   "outputs": [
    {
     "name": "stdout",
     "output_type": "stream",
     "text": [
      "(14+3j)\n"
     ]
    }
   ],
   "source": [
    "print(beta * gamma)"
   ]
  },
  {
   "cell_type": "code",
   "execution_count": null,
   "id": "3c817f11",
   "metadata": {},
   "outputs": [],
   "source": []
  },
  {
   "cell_type": "code",
   "execution_count": 5,
   "id": "c5dcdb87",
   "metadata": {},
   "outputs": [
    {
     "name": "stdout",
     "output_type": "stream",
     "text": [
      "(1+1j)\n"
     ]
    }
   ],
   "source": [
    "print(Zi.two())"
   ]
  },
  {
   "cell_type": "code",
   "execution_count": 6,
   "id": "41568d3b",
   "metadata": {},
   "outputs": [
    {
     "name": "stdout",
     "output_type": "stream",
     "text": [
      "(2+1j)\n"
     ]
    }
   ],
   "source": [
    "print(Zi(1, 3) / Zi.two())"
   ]
  },
  {
   "cell_type": "code",
   "execution_count": 7,
   "id": "7cd2b6cc",
   "metadata": {},
   "outputs": [
    {
     "name": "stdout",
     "output_type": "stream",
     "text": [
      "-1j\n"
     ]
    }
   ],
   "source": [
    "print(Zi(1, -1) / Zi.two())"
   ]
  },
  {
   "cell_type": "code",
   "execution_count": null,
   "id": "785247f3",
   "metadata": {},
   "outputs": [],
   "source": []
  },
  {
   "cell_type": "code",
   "execution_count": 8,
   "id": "696d9532",
   "metadata": {},
   "outputs": [
    {
     "name": "stdout",
     "output_type": "stream",
     "text": [
      "205 / 41 = 5.0\n"
     ]
    }
   ],
   "source": [
    "print(f\"{alpha.norm} / {beta.norm} = {alpha.norm / beta.norm}\")"
   ]
  },
  {
   "cell_type": "code",
   "execution_count": 9,
   "id": "bb071101",
   "metadata": {},
   "outputs": [
    {
     "data": {
      "text/plain": [
       "5"
      ]
     },
     "execution_count": 9,
     "metadata": {},
     "output_type": "execute_result"
    }
   ],
   "source": [
    "alpha.norms_divide(beta)"
   ]
  },
  {
   "cell_type": "code",
   "execution_count": 10,
   "id": "8ed17e25",
   "metadata": {},
   "outputs": [
    {
     "data": {
      "text/plain": [
       "5"
      ]
     },
     "execution_count": 10,
     "metadata": {},
     "output_type": "execute_result"
    }
   ],
   "source": [
    "beta.norms_divide(alpha)"
   ]
  },
  {
   "cell_type": "code",
   "execution_count": 11,
   "id": "2d1aa667",
   "metadata": {},
   "outputs": [
    {
     "data": {
      "text/plain": [
       "False"
      ]
     },
     "execution_count": 11,
     "metadata": {},
     "output_type": "execute_result"
    }
   ],
   "source": [
    "alpha.norms_divide(Zi.two())"
   ]
  },
  {
   "cell_type": "code",
   "execution_count": 12,
   "id": "ca7542a4",
   "metadata": {},
   "outputs": [
    {
     "data": {
      "text/plain": [
       "False"
      ]
     },
     "execution_count": 12,
     "metadata": {},
     "output_type": "execute_result"
    }
   ],
   "source": [
    "Zi.two().norms_divide(alpha)"
   ]
  },
  {
   "cell_type": "markdown",
   "id": "ec741efe",
   "metadata": {},
   "source": [
    "**The Norm**. Let $\\alpha = a + bi \\in \\mathbb{Z}[i]$ and define its norm to be $N(\\alpha) = \\alpha \\overline{\\alpha} = (a + bi)(a - bi) = a^2 + b^2$.\n",
    "\n",
    "**The Modified Division Theorem**. For $\\alpha, \\beta \\in \\mathbb{Z}[i]$ with $\\beta \\ne 0$, there are $\\gamma, \\rho \\in \\mathbb{Z}[i]$ such that $\\alpha = \\beta \\gamma + \\rho$ and $N(\\rho) \\le (1/2)N(\\beta)$"
   ]
  },
  {
   "cell_type": "markdown",
   "id": "a3386f8e",
   "metadata": {},
   "source": [
    "## Brute Force Factorization"
   ]
  },
  {
   "cell_type": "code",
   "execution_count": 33,
   "id": "47dd6958",
   "metadata": {},
   "outputs": [],
   "source": [
    "zi1 = Zi(4,  5)  # Gaussian prime? True\n",
    "zi2 = Zi(1, -2)  # Gaussian prime? True\n",
    "zi3 = Zi(3, -3)  # Gaussian prime? False\n",
    "five = Zi(5, 0)   # \"5\""
   ]
  },
  {
   "cell_type": "raw",
   "id": "2266781d",
   "metadata": {},
   "source": [
    "def brute_force_factorization(zi, include_units=False):\n",
    "    zmax = 2 * max(abs(zi.real), abs(zi.imag))\n",
    "    zmin = -zmax\n",
    "    # print(zmin, zmax)\n",
    "    for a in range(zmin, zmax):\n",
    "        for b in range(zmin, zmax):\n",
    "            for c in range(zmin, zmax):\n",
    "                for d in range(zmin, zmax):\n",
    "                    x = Zi(a, b)\n",
    "                    y = Zi(c, d)\n",
    "                    if zi == x * y:\n",
    "                        if include_units:\n",
    "                            print(x, y)\n",
    "                        else:\n",
    "                            if (not x in Zi.units()) and (not y in Zi.units()):\n",
    "                                print(x, y)"
   ]
  },
  {
   "cell_type": "code",
   "execution_count": 24,
   "id": "d0e0bdb4",
   "metadata": {},
   "outputs": [],
   "source": [
    "def factorizations(zi, include_units=False, verbose=False):\n",
    "    \"\"\"Brute force calculation of all the ways to factor zi.\"\"\"\n",
    "    zmax = 2 * max(abs(zi.real), abs(zi.imag))\n",
    "    zmin = -zmax\n",
    "    factors = set()\n",
    "    for a in range(zmin, zmax):\n",
    "        for b in range(zmin, zmax):\n",
    "            x = Zi(a, b)\n",
    "            for c in range(zmin, zmax):\n",
    "                for d in range(zmin, zmax):\n",
    "                    y = Zi(c, d)\n",
    "                    f = (x, y)\n",
    "                    g = (y, x)\n",
    "                    if zi == x * y:\n",
    "                        if include_units:\n",
    "                            if (not f in factors) and (not g in factors):\n",
    "                                if verbose:\n",
    "                                    print(f)\n",
    "                                factors.add(f)\n",
    "                        else:\n",
    "                            if (not x in Zi.units()) and (not y in Zi.units()):\n",
    "                                if (not f in factors) and (not g in factors):\n",
    "                                    if verbose:\n",
    "                                        print(f)\n",
    "                                    factors.add(f)\n",
    "    return factors"
   ]
  },
  {
   "cell_type": "code",
   "execution_count": 25,
   "id": "27563780",
   "metadata": {},
   "outputs": [
    {
     "data": {
      "text/plain": [
       "set()"
      ]
     },
     "execution_count": 25,
     "metadata": {},
     "output_type": "execute_result"
    }
   ],
   "source": [
    "factorizations(zi1)"
   ]
  },
  {
   "cell_type": "code",
   "execution_count": 26,
   "id": "c70fbdbb",
   "metadata": {},
   "outputs": [
    {
     "data": {
      "text/plain": [
       "set()"
      ]
     },
     "execution_count": 26,
     "metadata": {},
     "output_type": "execute_result"
    }
   ],
   "source": [
    "factorizations(zi2)"
   ]
  },
  {
   "cell_type": "code",
   "execution_count": 27,
   "id": "eafe047d",
   "metadata": {},
   "outputs": [
    {
     "name": "stdout",
     "output_type": "stream",
     "text": [
      "factorizations((3-3j)):\n",
      "\n"
     ]
    },
    {
     "data": {
      "text/plain": [
       "{(Zi(-1, -1), Zi(0, 3)),\n",
       " (Zi(-3), Zi(-1, 1)),\n",
       " (Zi(0, -3), Zi(1, 1)),\n",
       " (Zi(1, -1), Zi(3))}"
      ]
     },
     "execution_count": 27,
     "metadata": {},
     "output_type": "execute_result"
    }
   ],
   "source": [
    "print(f\"factorizations({zi3}):\\n\")\n",
    "factorizations(zi3)"
   ]
  },
  {
   "cell_type": "code",
   "execution_count": 28,
   "id": "367f58ac",
   "metadata": {},
   "outputs": [
    {
     "name": "stdout",
     "output_type": "stream",
     "text": [
      "ALL factorizations((3-3j)):\n",
      "\n",
      "(Zi(-3, -3), Zi(0, 1))\n",
      "(Zi(-3), Zi(-1, 1))\n",
      "(Zi(-3, 3), Zi(-1))\n",
      "(Zi(-1, -1), Zi(0, 3))\n",
      "(Zi(0, -3), Zi(1, 1))\n",
      "(Zi(0, -1), Zi(3, 3))\n",
      "(Zi(1, -1), Zi(3))\n",
      "(Zi(1), Zi(3, -3))\n"
     ]
    },
    {
     "data": {
      "text/plain": [
       "{(Zi(-1, -1), Zi(0, 3)),\n",
       " (Zi(-3), Zi(-1, 1)),\n",
       " (Zi(-3, -3), Zi(0, 1)),\n",
       " (Zi(-3, 3), Zi(-1)),\n",
       " (Zi(0, -1), Zi(3, 3)),\n",
       " (Zi(0, -3), Zi(1, 1)),\n",
       " (Zi(1), Zi(3, -3)),\n",
       " (Zi(1, -1), Zi(3))}"
      ]
     },
     "execution_count": 28,
     "metadata": {},
     "output_type": "execute_result"
    }
   ],
   "source": [
    "print(f\"ALL factorizations({zi3}):\\n\")\n",
    "factorizations(zi3, include_units=True, verbose=True)"
   ]
  },
  {
   "cell_type": "code",
   "execution_count": 50,
   "id": "f6b01009",
   "metadata": {},
   "outputs": [
    {
     "name": "stdout",
     "output_type": "stream",
     "text": [
      "Factorizations of Zi(13) = 13:\n",
      "\n",
      "(-3-2j) * (-3+2j) = 13\n"
     ]
    }
   ],
   "source": [
    "gint = Zi(13)\n",
    "print(f\"Factorizations of {repr(gint)} = {gint}:\\n\")\n",
    "\n",
    "facts = factorizations(gint)\n",
    "\n",
    "if facts == set():\n",
    "    print(\"None\")\n",
    "else:\n",
    "    print(f\"{fact[0]} * {fact[1]} = {fact[0] * fact[1]}\")"
   ]
  },
  {
   "cell_type": "code",
   "execution_count": 47,
   "id": "2448fdb6",
   "metadata": {},
   "outputs": [
    {
     "name": "stdout",
     "output_type": "stream",
     "text": [
      "Factorizations of Zi(3) = 3:\n",
      "\n",
      "None\n"
     ]
    }
   ],
   "source": [
    "foo = Zi(3, 0)\n",
    "print(f\"Factorizations of {repr(foo)} = {foo}:\\n\")\n",
    "facts = factorizations(foo)\n",
    "\n",
    "if facts == set():\n",
    "    print(\"None\")\n",
    "else:\n",
    "    print(f\"{fact[0]} * {fact[1]} = {fact[0] * fact[1]}\")"
   ]
  },
  {
   "cell_type": "code",
   "execution_count": null,
   "id": "4493d5e2",
   "metadata": {},
   "outputs": [],
   "source": []
  },
  {
   "cell_type": "markdown",
   "id": "23410551",
   "metadata": {},
   "source": [
    "See this Q&A on an algorithm to factor a Gaussian prime:\n",
    "https://stackoverflow.com/questions/2269810/whats-a-nice-method-to-factor-gaussian-integers#:~:text=In%20the%20Gaussian%20integers%2C%20if,2%20...%20pn."
   ]
  },
  {
   "cell_type": "code",
   "execution_count": null,
   "id": "549c0d63",
   "metadata": {},
   "outputs": [],
   "source": []
  },
  {
   "cell_type": "code",
   "execution_count": null,
   "id": "91cacc8a",
   "metadata": {},
   "outputs": [],
   "source": []
  },
  {
   "cell_type": "code",
   "execution_count": 71,
   "id": "e21cd7f4",
   "metadata": {},
   "outputs": [],
   "source": [
    "from sympy.ntheory import divisors\n",
    "\n",
    "def factorizations_v2(zi, include_units=False, verbose=False):\n",
    "    \"\"\"Brute force calculation of all the ways to factor zi.\"\"\"\n",
    "    factors = set()\n",
    "    if Zi.is_gaussian_prime(zi):\n",
    "        return factors\n",
    "    else:\n",
    "        divs = divisors(zi.norm)\n",
    "        zmax = 2 * max(abs(zi.real), abs(zi.imag))\n",
    "        zmin = -zmax\n",
    "        for a in range(zmin, zmax):\n",
    "            for b in range(zmin, zmax):\n",
    "                x = Zi(a, b)\n",
    "                if x.norm in divs:\n",
    "                    for c in range(zmin, zmax):\n",
    "                        for d in range(zmin, zmax):\n",
    "                            y = Zi(c, d)\n",
    "                            if y.norm in divs:\n",
    "                                f = (x, y)\n",
    "                                g = (y, x)\n",
    "                                if zi == x * y:\n",
    "                                    if include_units:\n",
    "                                        if (not f in factors) and (not g in factors):\n",
    "                                            if verbose:\n",
    "                                                print(f)\n",
    "                                            factors.add(f)\n",
    "                                    else:\n",
    "                                        if (not x in Zi.units()) and (not y in Zi.units()):\n",
    "                                            if (not f in factors) and (not g in factors):\n",
    "                                                if verbose:\n",
    "                                                    print(f)\n",
    "                                                factors.add(f)\n",
    "    return factors"
   ]
  },
  {
   "cell_type": "code",
   "execution_count": 104,
   "id": "b0911921",
   "metadata": {},
   "outputs": [],
   "source": [
    "from sympy.ntheory import divisors\n",
    "\n",
    "def factorizations_v3(zi, include_units=False, verbose=False):\n",
    "    \"\"\"Brute force calculation of all the ways to factor zi.\"\"\"\n",
    "    factors = set()\n",
    "    if Zi.is_gaussian_prime(zi):\n",
    "        return factors\n",
    "    else:\n",
    "        znrm = zi.norm\n",
    "        divs = divisors(znrm)\n",
    "        zmax = 2 * max(abs(zi.real), abs(zi.imag))\n",
    "        zmin = -zmax\n",
    "        for a in range(zmin, zmax):\n",
    "            for b in range(zmin, zmax):\n",
    "                x = Zi(a, b)\n",
    "                xnrm = x.norm\n",
    "                if xnrm in divs:\n",
    "                    for c in range(zmin, zmax):\n",
    "                        for d in range(zmin, zmax):\n",
    "                            y = Zi(c, d)\n",
    "                            if y.norm == znrm // xnrm:\n",
    "                                f = (x, y)\n",
    "                                g = (y, x)\n",
    "                                if zi == x * y:\n",
    "                                    if include_units:\n",
    "                                        if (not f in factors) and (not g in factors):\n",
    "                                            if verbose:\n",
    "                                                print(f)\n",
    "                                            factors.add(f)\n",
    "                                    else:\n",
    "                                        if (not x in Zi.units()) and (not y in Zi.units()):\n",
    "                                            if (not f in factors) and (not g in factors):\n",
    "                                                if verbose:\n",
    "                                                    print(f)\n",
    "                                                factors.add(f)\n",
    "    return factors"
   ]
  },
  {
   "cell_type": "code",
   "execution_count": 105,
   "id": "eb58cff9",
   "metadata": {},
   "outputs": [
    {
     "name": "stdout",
     "output_type": "stream",
     "text": [
      "CPU times: user 6.76 s, sys: 12.1 ms, total: 6.77 s\n",
      "Wall time: 6.78 s\n"
     ]
    },
    {
     "data": {
      "text/plain": [
       "{(Zi(-2, -3), Zi(-2, 3)),\n",
       " (Zi(-3, -2), Zi(-3, 2)),\n",
       " (Zi(2, -3), Zi(2, 3)),\n",
       " (Zi(3, -2), Zi(3, 2))}"
      ]
     },
     "execution_count": 105,
     "metadata": {},
     "output_type": "execute_result"
    }
   ],
   "source": [
    "gint = Zi(13)\n",
    "\n",
    "%time factorizations(gint)"
   ]
  },
  {
   "cell_type": "code",
   "execution_count": 106,
   "id": "c15f1aee",
   "metadata": {},
   "outputs": [
    {
     "name": "stdout",
     "output_type": "stream",
     "text": [
      "CPU times: user 116 ms, sys: 3.29 ms, total: 119 ms\n",
      "Wall time: 118 ms\n"
     ]
    },
    {
     "data": {
      "text/plain": [
       "{(Zi(-2, -3), Zi(-2, 3)),\n",
       " (Zi(-3, -2), Zi(-3, 2)),\n",
       " (Zi(2, -3), Zi(2, 3)),\n",
       " (Zi(3, -2), Zi(3, 2))}"
      ]
     },
     "execution_count": 106,
     "metadata": {},
     "output_type": "execute_result"
    }
   ],
   "source": [
    "%time factorizations_v2(gint)"
   ]
  },
  {
   "cell_type": "code",
   "execution_count": 107,
   "id": "369703ee",
   "metadata": {},
   "outputs": [
    {
     "name": "stdout",
     "output_type": "stream",
     "text": [
      "CPU times: user 112 ms, sys: 3.3 ms, total: 115 ms\n",
      "Wall time: 113 ms\n"
     ]
    },
    {
     "data": {
      "text/plain": [
       "{(Zi(-2, -3), Zi(-2, 3)),\n",
       " (Zi(-3, -2), Zi(-3, 2)),\n",
       " (Zi(2, -3), Zi(2, 3)),\n",
       " (Zi(3, -2), Zi(3, 2))}"
      ]
     },
     "execution_count": 107,
     "metadata": {},
     "output_type": "execute_result"
    }
   ],
   "source": [
    "%time factorizations_v3(gint)"
   ]
  },
  {
   "cell_type": "code",
   "execution_count": 108,
   "id": "844a888b",
   "metadata": {},
   "outputs": [
    {
     "name": "stdout",
     "output_type": "stream",
     "text": [
      "CPU times: user 171 ms, sys: 3.31 ms, total: 174 ms\n",
      "Wall time: 172 ms\n"
     ]
    },
    {
     "data": {
      "text/plain": [
       "[(Zi(-6, 3), Zi(-1, -2)),\n",
       " (Zi(1, 2), Zi(6, -3)),\n",
       " (Zi(-3, -6), Zi(-2, 1)),\n",
       " (Zi(0, 3), Zi(3, -4)),\n",
       " (Zi(-4, -3), Zi(-3)),\n",
       " (Zi(2, -1), Zi(3, 6)),\n",
       " (Zi(3), Zi(4, 3)),\n",
       " (Zi(-3, 4), Zi(0, -3))]"
      ]
     },
     "execution_count": 108,
     "metadata": {},
     "output_type": "execute_result"
    }
   ],
   "source": [
    "gint = Zi(12, 9)\n",
    "\n",
    "%time foo = list(factorizations_v2(gint))\n",
    "foo"
   ]
  },
  {
   "cell_type": "code",
   "execution_count": 109,
   "id": "468f8f12",
   "metadata": {},
   "outputs": [
    {
     "name": "stdout",
     "output_type": "stream",
     "text": [
      "CPU times: user 169 ms, sys: 2.86 ms, total: 172 ms\n",
      "Wall time: 171 ms\n"
     ]
    },
    {
     "data": {
      "text/plain": [
       "[(Zi(-6, 3), Zi(-1, -2)),\n",
       " (Zi(1, 2), Zi(6, -3)),\n",
       " (Zi(-3, -6), Zi(-2, 1)),\n",
       " (Zi(0, 3), Zi(3, -4)),\n",
       " (Zi(-4, -3), Zi(-3)),\n",
       " (Zi(2, -1), Zi(3, 6)),\n",
       " (Zi(3), Zi(4, 3)),\n",
       " (Zi(-3, 4), Zi(0, -3))]"
      ]
     },
     "execution_count": 109,
     "metadata": {},
     "output_type": "execute_result"
    }
   ],
   "source": [
    "%time foo2 = list(factorizations_v3(gint))\n",
    "foo2"
   ]
  },
  {
   "cell_type": "code",
   "execution_count": 86,
   "id": "3d7b35ef",
   "metadata": {},
   "outputs": [
    {
     "data": {
      "text/plain": [
       "{(Zi(-1, -2), Zi(0, -3)),\n",
       " (Zi(-2, 1), Zi(3)),\n",
       " (Zi(-3), Zi(2, -1)),\n",
       " (Zi(0, 3), Zi(1, 2))}"
      ]
     },
     "execution_count": 86,
     "metadata": {},
     "output_type": "execute_result"
    }
   ],
   "source": [
    "factorizations_v2(foo[0][0])"
   ]
  },
  {
   "cell_type": "code",
   "execution_count": 88,
   "id": "50e2d262",
   "metadata": {},
   "outputs": [
    {
     "data": {
      "text/plain": [
       "{(Zi(-1, -2), Zi(1, 2)), (Zi(-2, 1), Zi(-2, 1)), (Zi(2, -1), Zi(2, -1))}"
      ]
     },
     "execution_count": 88,
     "metadata": {},
     "output_type": "execute_result"
    }
   ],
   "source": [
    "factorizations_v2(foo[3][1])"
   ]
  },
  {
   "cell_type": "code",
   "execution_count": 92,
   "id": "cb0abc55",
   "metadata": {},
   "outputs": [
    {
     "data": {
      "text/plain": [
       "[1, 3, 19, 31, 57, 93, 589, 1767]"
      ]
     },
     "execution_count": 92,
     "metadata": {},
     "output_type": "execute_result"
    }
   ],
   "source": [
    "divisors(1767)"
   ]
  },
  {
   "cell_type": "code",
   "execution_count": 93,
   "id": "0ab49a0f",
   "metadata": {},
   "outputs": [
    {
     "data": {
      "text/plain": [
       "[1, 19, 361]"
      ]
     },
     "execution_count": 93,
     "metadata": {},
     "output_type": "execute_result"
    }
   ],
   "source": [
    "divisors(361)"
   ]
  },
  {
   "cell_type": "code",
   "execution_count": null,
   "id": "4e7f0bc0",
   "metadata": {},
   "outputs": [],
   "source": []
  },
  {
   "cell_type": "code",
   "execution_count": null,
   "id": "8e15b763",
   "metadata": {},
   "outputs": [],
   "source": []
  },
  {
   "cell_type": "code",
   "execution_count": 94,
   "id": "8681d312",
   "metadata": {},
   "outputs": [
    {
     "data": {
      "text/plain": [
       "Zi(361, 1767)"
      ]
     },
     "execution_count": 94,
     "metadata": {},
     "output_type": "execute_result"
    }
   ],
   "source": [
    "foo = Zi(361, 1767)\n",
    "foo"
   ]
  },
  {
   "cell_type": "code",
   "execution_count": 95,
   "id": "4030dddc",
   "metadata": {},
   "outputs": [
    {
     "data": {
      "text/plain": [
       "3252610"
      ]
     },
     "execution_count": 95,
     "metadata": {},
     "output_type": "execute_result"
    }
   ],
   "source": [
    "foo.norm"
   ]
  },
  {
   "cell_type": "code",
   "execution_count": 96,
   "id": "79738fac",
   "metadata": {},
   "outputs": [
    {
     "data": {
      "text/plain": [
       "[1,\n",
       " 2,\n",
       " 5,\n",
       " 10,\n",
       " 17,\n",
       " 19,\n",
       " 34,\n",
       " 38,\n",
       " 53,\n",
       " 85,\n",
       " 95,\n",
       " 106,\n",
       " 170,\n",
       " 190,\n",
       " 265,\n",
       " 323,\n",
       " 361,\n",
       " 530,\n",
       " 646,\n",
       " 722,\n",
       " 901,\n",
       " 1007,\n",
       " 1615,\n",
       " 1802,\n",
       " 1805,\n",
       " 2014,\n",
       " 3230,\n",
       " 3610,\n",
       " 4505,\n",
       " 5035,\n",
       " 6137,\n",
       " 9010,\n",
       " 10070,\n",
       " 12274,\n",
       " 17119,\n",
       " 19133,\n",
       " 30685,\n",
       " 34238,\n",
       " 38266,\n",
       " 61370,\n",
       " 85595,\n",
       " 95665,\n",
       " 171190,\n",
       " 191330,\n",
       " 325261,\n",
       " 650522,\n",
       " 1626305,\n",
       " 3252610]"
      ]
     },
     "execution_count": 96,
     "metadata": {},
     "output_type": "execute_result"
    }
   ],
   "source": [
    "divisors(foo.norm)"
   ]
  },
  {
   "cell_type": "code",
   "execution_count": 98,
   "id": "263d4ede",
   "metadata": {},
   "outputs": [
    {
     "data": {
      "text/plain": [
       "171190"
      ]
     },
     "execution_count": 98,
     "metadata": {},
     "output_type": "execute_result"
    }
   ],
   "source": [
    "foo.norm // 19"
   ]
  },
  {
   "cell_type": "code",
   "execution_count": null,
   "id": "4199a633",
   "metadata": {},
   "outputs": [],
   "source": []
  }
 ],
 "metadata": {
  "kernelspec": {
   "display_name": "Python 3 (ipykernel)",
   "language": "python",
   "name": "python3"
  },
  "language_info": {
   "codemirror_mode": {
    "name": "ipython",
    "version": 3
   },
   "file_extension": ".py",
   "mimetype": "text/x-python",
   "name": "python",
   "nbconvert_exporter": "python",
   "pygments_lexer": "ipython3",
   "version": "3.11.5"
  }
 },
 "nbformat": 4,
 "nbformat_minor": 5
}
