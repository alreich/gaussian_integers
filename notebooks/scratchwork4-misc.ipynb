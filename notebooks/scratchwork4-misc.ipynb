{
 "cells": [
  {
   "cell_type": "markdown",
   "id": "230d5aff",
   "metadata": {},
   "source": [
    "# Scratchwork 4 - Misc"
   ]
  },
  {
   "cell_type": "code",
   "execution_count": 1,
   "id": "5f0c8e2e",
   "metadata": {},
   "outputs": [],
   "source": [
    "from gaussians import Zi, Qi, isprime"
   ]
  },
  {
   "cell_type": "code",
   "execution_count": 2,
   "id": "8441bec5",
   "metadata": {},
   "outputs": [
    {
     "data": {
      "text/plain": [
       "Qi('71/41', '-58/41')"
      ]
     },
     "execution_count": 2,
     "metadata": {},
     "output_type": "execute_result"
    }
   ],
   "source": [
    "# Example 2.2 in [Conrad]:\n",
    "\n",
    "alpha = Zi(14, 3)\n",
    "beta  = Zi(4, 5)\n",
    "gamma = alpha / beta\n",
    "gamma"
   ]
  },
  {
   "cell_type": "code",
   "execution_count": 3,
   "id": "8ed17e25",
   "metadata": {},
   "outputs": [
    {
     "data": {
      "text/plain": [
       "5"
      ]
     },
     "execution_count": 3,
     "metadata": {},
     "output_type": "execute_result"
    }
   ],
   "source": [
    "beta.norms_divide(alpha)"
   ]
  },
  {
   "cell_type": "code",
   "execution_count": 4,
   "id": "2d1aa667",
   "metadata": {},
   "outputs": [
    {
     "data": {
      "text/plain": [
       "False"
      ]
     },
     "execution_count": 4,
     "metadata": {},
     "output_type": "execute_result"
    }
   ],
   "source": [
    "alpha.norms_divide(Zi.two())"
   ]
  },
  {
   "cell_type": "code",
   "execution_count": 5,
   "id": "ca7542a4",
   "metadata": {},
   "outputs": [
    {
     "data": {
      "text/plain": [
       "False"
      ]
     },
     "execution_count": 5,
     "metadata": {},
     "output_type": "execute_result"
    }
   ],
   "source": [
    "Zi.two().norms_divide(alpha)"
   ]
  },
  {
   "cell_type": "markdown",
   "id": "ec741efe",
   "metadata": {},
   "source": [
    "**The Norm**. Let $\\alpha = a + bi \\in \\mathbb{Z}[i]$ and define its norm to be $N(\\alpha) = \\alpha \\overline{\\alpha} = (a + bi)(a - bi) = a^2 + b^2$.\n",
    "\n",
    "**The Modified Division Theorem**. For $\\alpha, \\beta \\in \\mathbb{Z}[i]$ with $\\beta \\ne 0$, there are $\\gamma, \\rho \\in \\mathbb{Z}[i]$ such that $\\alpha = \\beta \\gamma + \\rho$ and $N(\\rho) \\le (1/2)N(\\beta)$"
   ]
  },
  {
   "cell_type": "markdown",
   "id": "a3386f8e",
   "metadata": {},
   "source": [
    "## Brute Force Factorization"
   ]
  },
  {
   "cell_type": "code",
   "execution_count": 6,
   "id": "47dd6958",
   "metadata": {},
   "outputs": [],
   "source": [
    "zi1 = Zi(4,  5)  # Gaussian prime? True\n",
    "zi2 = Zi(1, -2)  # Gaussian prime? True\n",
    "zi3 = Zi(3, -3)  # Gaussian prime? False\n",
    "five = Zi(5, 0)   # \"5\""
   ]
  },
  {
   "cell_type": "raw",
   "id": "2266781d",
   "metadata": {},
   "source": [
    "def brute_force_factorization(zi, include_units=False):\n",
    "    zmax = 2 * max(abs(zi.real), abs(zi.imag))\n",
    "    zmin = -zmax\n",
    "    # print(zmin, zmax)\n",
    "    for a in range(zmin, zmax):\n",
    "        for b in range(zmin, zmax):\n",
    "            for c in range(zmin, zmax):\n",
    "                for d in range(zmin, zmax):\n",
    "                    x = Zi(a, b)\n",
    "                    y = Zi(c, d)\n",
    "                    if zi == x * y:\n",
    "                        if include_units:\n",
    "                            print(x, y)\n",
    "                        else:\n",
    "                            if (not x in Zi.units()) and (not y in Zi.units()):\n",
    "                                print(x, y)"
   ]
  },
  {
   "cell_type": "code",
   "execution_count": 7,
   "id": "d0e0bdb4",
   "metadata": {},
   "outputs": [],
   "source": [
    "def factorizations(zi, include_units=False, verbose=False):\n",
    "    \"\"\"Brute force calculation of all the ways to factor zi.\"\"\"\n",
    "    zmax = 2 * max(abs(zi.real), abs(zi.imag))\n",
    "    zmin = -zmax\n",
    "    factors = set()\n",
    "    for a in range(zmin, zmax):\n",
    "        for b in range(zmin, zmax):\n",
    "            x = Zi(a, b)\n",
    "            for c in range(zmin, zmax):\n",
    "                for d in range(zmin, zmax):\n",
    "                    y = Zi(c, d)\n",
    "                    f = (x, y)\n",
    "                    g = (y, x)\n",
    "                    if zi == x * y:\n",
    "                        if include_units:\n",
    "                            if (not f in factors) and (not g in factors):\n",
    "                                if verbose:\n",
    "                                    print(f)\n",
    "                                factors.add(f)\n",
    "                        else:\n",
    "                            if (not x in Zi.units()) and (not y in Zi.units()):\n",
    "                                if (not f in factors) and (not g in factors):\n",
    "                                    if verbose:\n",
    "                                        print(f)\n",
    "                                    factors.add(f)\n",
    "    return factors"
   ]
  },
  {
   "cell_type": "code",
   "execution_count": 8,
   "id": "27563780",
   "metadata": {},
   "outputs": [
    {
     "data": {
      "text/plain": [
       "set()"
      ]
     },
     "execution_count": 8,
     "metadata": {},
     "output_type": "execute_result"
    }
   ],
   "source": [
    "factorizations(zi1)"
   ]
  },
  {
   "cell_type": "code",
   "execution_count": 9,
   "id": "c70fbdbb",
   "metadata": {},
   "outputs": [
    {
     "data": {
      "text/plain": [
       "set()"
      ]
     },
     "execution_count": 9,
     "metadata": {},
     "output_type": "execute_result"
    }
   ],
   "source": [
    "factorizations(zi2)"
   ]
  },
  {
   "cell_type": "code",
   "execution_count": 10,
   "id": "eafe047d",
   "metadata": {},
   "outputs": [
    {
     "name": "stdout",
     "output_type": "stream",
     "text": [
      "factorizations((3-3j)):\n",
      "\n"
     ]
    },
    {
     "data": {
      "text/plain": [
       "{(Zi(-1, -1), Zi(0, 3)),\n",
       " (Zi(-3), Zi(-1, 1)),\n",
       " (Zi(0, -3), Zi(1, 1)),\n",
       " (Zi(1, -1), Zi(3))}"
      ]
     },
     "execution_count": 10,
     "metadata": {},
     "output_type": "execute_result"
    }
   ],
   "source": [
    "print(f\"factorizations({zi3}):\\n\")\n",
    "factorizations(zi3)"
   ]
  },
  {
   "cell_type": "code",
   "execution_count": 11,
   "id": "367f58ac",
   "metadata": {},
   "outputs": [
    {
     "name": "stdout",
     "output_type": "stream",
     "text": [
      "ALL factorizations((3-3j)):\n",
      "\n",
      "(Zi(-3, -3), Zi(0, 1))\n",
      "(Zi(-3), Zi(-1, 1))\n",
      "(Zi(-3, 3), Zi(-1))\n",
      "(Zi(-1, -1), Zi(0, 3))\n",
      "(Zi(0, -3), Zi(1, 1))\n",
      "(Zi(0, -1), Zi(3, 3))\n",
      "(Zi(1, -1), Zi(3))\n",
      "(Zi(1), Zi(3, -3))\n"
     ]
    },
    {
     "data": {
      "text/plain": [
       "{(Zi(-1, -1), Zi(0, 3)),\n",
       " (Zi(-3), Zi(-1, 1)),\n",
       " (Zi(-3, -3), Zi(0, 1)),\n",
       " (Zi(-3, 3), Zi(-1)),\n",
       " (Zi(0, -1), Zi(3, 3)),\n",
       " (Zi(0, -3), Zi(1, 1)),\n",
       " (Zi(1), Zi(3, -3)),\n",
       " (Zi(1, -1), Zi(3))}"
      ]
     },
     "execution_count": 11,
     "metadata": {},
     "output_type": "execute_result"
    }
   ],
   "source": [
    "print(f\"ALL factorizations({zi3}):\\n\")\n",
    "factorizations(zi3, include_units=True, verbose=True)"
   ]
  },
  {
   "cell_type": "raw",
   "id": "4d9021d0",
   "metadata": {},
   "source": [
    "gint = Zi(13)\n",
    "print(f\"Factorizations of {repr(gint)} = {gint}:\\n\")\n",
    "\n",
    "facts = factorizations(gint)\n",
    "\n",
    "if facts == set():\n",
    "    print(\"None\")\n",
    "else:\n",
    "    print(f\"{fact[0]} * {fact[1]} = {fact[0] * fact[1]}\")"
   ]
  },
  {
   "cell_type": "code",
   "execution_count": 12,
   "id": "2448fdb6",
   "metadata": {},
   "outputs": [
    {
     "name": "stdout",
     "output_type": "stream",
     "text": [
      "Factorizations of Zi(3) = 3:\n",
      "\n",
      "None\n"
     ]
    }
   ],
   "source": [
    "foo = Zi(3, 0)\n",
    "print(f\"Factorizations of {repr(foo)} = {foo}:\\n\")\n",
    "facts = factorizations(foo)\n",
    "\n",
    "if facts == set():\n",
    "    print(\"None\")\n",
    "else:\n",
    "    print(f\"{fact[0]} * {fact[1]} = {fact[0] * fact[1]}\")"
   ]
  },
  {
   "cell_type": "code",
   "execution_count": null,
   "id": "4493d5e2",
   "metadata": {},
   "outputs": [],
   "source": []
  },
  {
   "cell_type": "markdown",
   "id": "23410551",
   "metadata": {},
   "source": [
    "See this Q&A on an algorithm to factor a Gaussian prime:\n",
    "https://stackoverflow.com/questions/2269810/whats-a-nice-method-to-factor-gaussian-integers#:~:text=In%20the%20Gaussian%20integers%2C%20if,2%20...%20pn."
   ]
  },
  {
   "cell_type": "code",
   "execution_count": null,
   "id": "549c0d63",
   "metadata": {},
   "outputs": [],
   "source": []
  },
  {
   "cell_type": "code",
   "execution_count": null,
   "id": "91cacc8a",
   "metadata": {},
   "outputs": [],
   "source": []
  },
  {
   "cell_type": "code",
   "execution_count": 13,
   "id": "e21cd7f4",
   "metadata": {},
   "outputs": [],
   "source": [
    "from sympy.ntheory import divisors\n",
    "\n",
    "def factorizations_v2(zi, include_units=False, verbose=False):\n",
    "    \"\"\"Brute force calculation of all the ways to factor zi.\"\"\"\n",
    "    factors = set()\n",
    "    if Zi.is_gaussian_prime(zi):\n",
    "        return factors\n",
    "    else:\n",
    "        divs = divisors(zi.norm)\n",
    "        zmax = 2 * max(abs(zi.real), abs(zi.imag))\n",
    "        zmin = -zmax\n",
    "        for a in range(zmin, zmax):\n",
    "            for b in range(zmin, zmax):\n",
    "                x = Zi(a, b)\n",
    "                if x.norm in divs:\n",
    "                    for c in range(zmin, zmax):\n",
    "                        for d in range(zmin, zmax):\n",
    "                            y = Zi(c, d)\n",
    "                            if y.norm in divs:\n",
    "                                f = (x, y)\n",
    "                                g = (y, x)\n",
    "                                if zi == x * y:\n",
    "                                    if include_units:\n",
    "                                        if (not f in factors) and (not g in factors):\n",
    "                                            if verbose:\n",
    "                                                print(f)\n",
    "                                            factors.add(f)\n",
    "                                    else:\n",
    "                                        if (not x in Zi.units()) and (not y in Zi.units()):\n",
    "                                            if (not f in factors) and (not g in factors):\n",
    "                                                if verbose:\n",
    "                                                    print(f)\n",
    "                                                factors.add(f)\n",
    "    return factors"
   ]
  },
  {
   "cell_type": "code",
   "execution_count": 53,
   "id": "b0911921",
   "metadata": {},
   "outputs": [],
   "source": [
    "from sympy.ntheory import divisors\n",
    "\n",
    "def factorizations_v3(zi, include_units=False, verbose=False):\n",
    "    \"\"\"Brute force calculation of all the ways to factor zi into two Gaussian integers.\"\"\"\n",
    "    factors = set()\n",
    "    if Zi.is_gaussian_prime(zi):\n",
    "        return factors\n",
    "    else:\n",
    "        znrm = zi.norm\n",
    "        divs = divisors(znrm)\n",
    "        zmax = max(abs(zi.real), abs(zi.imag))\n",
    "        zmin = -zmax\n",
    "        for a in range(zmin, zmax):\n",
    "            a2 = a * a\n",
    "            for b in range(zmin, zmax):\n",
    "                xnrm = a2 + (b * b)\n",
    "                if (xnrm != 1) and (xnrm in divs):\n",
    "                    for c in range(zmin, zmax):\n",
    "                        c2 = c * c\n",
    "                        for d in range(zmin, zmax):\n",
    "                            ynrm = c2 + (d * d)\n",
    "                            if (ynrm != 1) and ynrm == znrm // xnrm:\n",
    "                                x = Zi(a, b)\n",
    "                                y = Zi(c, d)\n",
    "                                f = (x, y)\n",
    "                                g = (y, x)\n",
    "                                if (zi == x * y) and (not f in factors) and (not g in factors):\n",
    "                                    if verbose:\n",
    "                                        print(f)\n",
    "                                    factors.add(f)\n",
    "    return factors"
   ]
  },
  {
   "cell_type": "code",
   "execution_count": null,
   "id": "029060dc",
   "metadata": {},
   "outputs": [],
   "source": []
  },
  {
   "cell_type": "code",
   "execution_count": null,
   "id": "8d3e85b4",
   "metadata": {},
   "outputs": [],
   "source": []
  },
  {
   "cell_type": "code",
   "execution_count": 147,
   "id": "91c05955",
   "metadata": {},
   "outputs": [],
   "source": [
    "from sympy.ntheory import divisors\n",
    "from itertools import product\n",
    "\n",
    "def factorizations_v4(zi):\n",
    "    \"\"\"Brute force calculation of all the ways to factor zi into 2 Gaussian integers.\"\"\"\n",
    "    facts = set()\n",
    "    facts_n_assoc = list()\n",
    "    if Zi.is_gaussian_prime(zi):\n",
    "        return facts\n",
    "    else:\n",
    "        znrm = zi.norm\n",
    "        divs = divisors(znrm)\n",
    "        zmax = max(abs(zi.real), abs(zi.imag))\n",
    "        zmin = -zmax\n",
    "        for a in range(zmin, zmax):\n",
    "            a2 = a * a\n",
    "            for b in range(zmin, zmax):\n",
    "                xnrm = a2 + (b * b)\n",
    "                if (xnrm != 1) and (xnrm in divs):\n",
    "                    for c in range(zmin, zmax):\n",
    "                        c2 = c * c\n",
    "                        for d in range(zmin, zmax):\n",
    "                            ynrm = c2 + (d * d)\n",
    "                            if (ynrm != 1) and ynrm == znrm // xnrm:\n",
    "                                x = Zi(a, b)\n",
    "                                y = Zi(c, d)\n",
    "                                f = (x, y)\n",
    "                                g = (y, x)\n",
    "                                if (zi == x * y) and (not f in facts_n_assoc) and (not g in facts_n_assoc):\n",
    "                                    facts.add(f)\n",
    "                                    # Record all other possibilities for f & g based on associates\n",
    "                                    xx = [x] + x.associates()\n",
    "                                    yy = [y] + y.associates()\n",
    "                                    ff = product(xx, yy)\n",
    "                                    gg = product(yy, xx)\n",
    "                                    facts_n_assoc += ff\n",
    "                                    facts_n_assoc += gg\n",
    "    return facts"
   ]
  },
  {
   "cell_type": "code",
   "execution_count": 141,
   "id": "68c39347",
   "metadata": {},
   "outputs": [],
   "source": [
    "gint = Zi(13)"
   ]
  },
  {
   "cell_type": "code",
   "execution_count": 142,
   "id": "c15f1aee",
   "metadata": {},
   "outputs": [
    {
     "name": "stdout",
     "output_type": "stream",
     "text": [
      "CPU times: user 115 ms, sys: 2.87 ms, total: 118 ms\n",
      "Wall time: 116 ms\n"
     ]
    },
    {
     "data": {
      "text/plain": [
       "{(Zi(-2, -3), Zi(-2, 3)),\n",
       " (Zi(-3, -2), Zi(-3, 2)),\n",
       " (Zi(2, -3), Zi(2, 3)),\n",
       " (Zi(3, -2), Zi(3, 2))}"
      ]
     },
     "execution_count": 142,
     "metadata": {},
     "output_type": "execute_result"
    }
   ],
   "source": [
    "%time factorizations_v2(gint)"
   ]
  },
  {
   "cell_type": "code",
   "execution_count": 146,
   "id": "369703ee",
   "metadata": {},
   "outputs": [
    {
     "name": "stdout",
     "output_type": "stream",
     "text": [
      "CPU times: user 3.16 ms, sys: 3 µs, total: 3.16 ms\n",
      "Wall time: 3.17 ms\n"
     ]
    },
    {
     "data": {
      "text/plain": [
       "{(Zi(-3, -2), Zi(-3, 2))}"
      ]
     },
     "execution_count": 146,
     "metadata": {},
     "output_type": "execute_result"
    }
   ],
   "source": [
    "%time factorizations_v4(gint)"
   ]
  },
  {
   "cell_type": "code",
   "execution_count": 188,
   "id": "844a888b",
   "metadata": {},
   "outputs": [
    {
     "name": "stdout",
     "output_type": "stream",
     "text": [
      "CPU times: user 1.04 ms, sys: 2 µs, total: 1.04 ms\n",
      "Wall time: 1.05 ms\n"
     ]
    },
    {
     "data": {
      "text/plain": [
       "[(Zi(-2, 1), Zi(-1, -2)), (Zi(1, 2), Zi(2, -1))]"
      ]
     },
     "execution_count": 188,
     "metadata": {},
     "output_type": "execute_result"
    }
   ],
   "source": [
    "# gint = Zi(12, 9)\n",
    "gint = Zi(4, 3)\n",
    "\n",
    "%time foo = list(factorizations_v3(gint))\n",
    "foo"
   ]
  },
  {
   "cell_type": "code",
   "execution_count": 189,
   "id": "468f8f12",
   "metadata": {},
   "outputs": [
    {
     "name": "stdout",
     "output_type": "stream",
     "text": [
      "CPU times: user 930 µs, sys: 2 µs, total: 932 µs\n",
      "Wall time: 939 µs\n"
     ]
    },
    {
     "data": {
      "text/plain": [
       "[(Zi(-2, 1), Zi(-1, -2))]"
      ]
     },
     "execution_count": 189,
     "metadata": {},
     "output_type": "execute_result"
    }
   ],
   "source": [
    "%time foo2 = list(factorizations_v4(gint))\n",
    "foo2"
   ]
  },
  {
   "cell_type": "code",
   "execution_count": 182,
   "id": "4dd4ed23",
   "metadata": {},
   "outputs": [
    {
     "data": {
      "text/plain": [
       "Zi(12, 9)"
      ]
     },
     "execution_count": 182,
     "metadata": {},
     "output_type": "execute_result"
    }
   ],
   "source": [
    "gint"
   ]
  },
  {
   "cell_type": "code",
   "execution_count": 184,
   "id": "0e39a97b",
   "metadata": {},
   "outputs": [
    {
     "data": {
      "text/plain": [
       "Zi(-3, -6)"
      ]
     },
     "execution_count": 184,
     "metadata": {},
     "output_type": "execute_result"
    }
   ],
   "source": [
    "gint / Zi(-2, 1)"
   ]
  },
  {
   "cell_type": "code",
   "execution_count": null,
   "id": "94242d98",
   "metadata": {},
   "outputs": [],
   "source": []
  },
  {
   "cell_type": "code",
   "execution_count": null,
   "id": "09669bc2",
   "metadata": {},
   "outputs": [],
   "source": []
  },
  {
   "cell_type": "code",
   "execution_count": null,
   "id": "28dfae77",
   "metadata": {},
   "outputs": [],
   "source": []
  },
  {
   "cell_type": "code",
   "execution_count": 179,
   "id": "d4827f25",
   "metadata": {},
   "outputs": [],
   "source": [
    "from sympy.ntheory import divisors\n",
    "from itertools import product\n",
    "\n",
    "def find_factor(zi):\n",
    "    if Zi.is_gaussian_prime(zi):\n",
    "        result = (zi, 1)\n",
    "    else:\n",
    "        znrm = zi.norm\n",
    "        divs = divisors(znrm)\n",
    "        zmax = max(abs(zi.real), abs(zi.imag))\n",
    "        zmin = -zmax\n",
    "        for a in range(zmin, zmax):\n",
    "            a2 = a * a\n",
    "            for b in range(zmin, zmax):\n",
    "                xnrm = a2 + (b * b)\n",
    "                if (xnrm != 1) and (xnrm in divs):\n",
    "                    for c in range(zmin, zmax):\n",
    "                        c2 = c * c\n",
    "                        for d in range(zmin, zmax):\n",
    "                            ynrm = c2 + (d * d)\n",
    "                            if (ynrm != 1) and ynrm == znrm // xnrm:\n",
    "                                x = Zi(a, b)\n",
    "                                y = Zi(c, d)\n",
    "                                if zi == x * y:\n",
    "                                    # Return the \"larger\" factor with quotient (zi / factor)\n",
    "                                    if x.norm >= y.norm:\n",
    "                                        result = (x, y)\n",
    "                                    else:\n",
    "                                        result = (y, x)\n",
    "    return result"
   ]
  },
  {
   "cell_type": "code",
   "execution_count": 180,
   "id": "72a417cd",
   "metadata": {},
   "outputs": [
    {
     "data": {
      "text/plain": [
       "(Zi(6, -3), Zi(1, 2))"
      ]
     },
     "execution_count": 180,
     "metadata": {},
     "output_type": "execute_result"
    }
   ],
   "source": [
    "gint = Zi(12, 9)\n",
    "find_factor(gint)"
   ]
  },
  {
   "cell_type": "code",
   "execution_count": 197,
   "id": "2eb36f1b",
   "metadata": {},
   "outputs": [],
   "source": [
    "import math \n",
    "import sympy.ntheory as sym\n",
    "\n",
    "def gauss_div_aux(current, remainder, factors):\n",
    "    \n",
    "    fact, quot = find_factor(current)\n",
    "\n",
    "    if Zi.is_gaussian_prime(fact):\n",
    "        if fact in factors:\n",
    "            factors[fact] += 1\n",
    "        else:\n",
    "            factors[fact] = 1\n",
    "        return gauss_div_aux(quot, remainder, factors)\n",
    "\n",
    "    else:\n",
    "        \n",
    "\n",
    "def gaussian_divisors(z):\n",
    "    a = z.real\n",
    "    b = z.imag\n",
    "    gcd = math.gcd(a, b)\n",
    "    if gcd == 1:\n",
    "        return gauss_div_aux(z, Zi(1), dict())\n",
    "    else:\n",
    "        return gauss_div_aux(z / gcd, Zi(1), sym.factorint(gcd))"
   ]
  },
  {
   "cell_type": "code",
   "execution_count": 198,
   "id": "99a10fa4",
   "metadata": {},
   "outputs": [],
   "source": [
    "gint = Zi(12, 36)"
   ]
  },
  {
   "cell_type": "code",
   "execution_count": 199,
   "id": "0dd9e704",
   "metadata": {},
   "outputs": [
    {
     "data": {
      "text/plain": [
       "(Zi(1, 3), {2: 2, 3: 1})"
      ]
     },
     "execution_count": 199,
     "metadata": {},
     "output_type": "execute_result"
    }
   ],
   "source": [
    "gaussian_divisors(gint)"
   ]
  },
  {
   "cell_type": "raw",
   "id": "7b635b8c",
   "metadata": {},
   "source": [
    "    if value in d:\n",
    "        d[value] += 1\n",
    "    else:\n",
    "        d[value] = 1\n"
   ]
  },
  {
   "cell_type": "code",
   "execution_count": null,
   "id": "404e7e12",
   "metadata": {},
   "outputs": [],
   "source": []
  }
 ],
 "metadata": {
  "kernelspec": {
   "display_name": "Python 3 (ipykernel)",
   "language": "python",
   "name": "python3"
  },
  "language_info": {
   "codemirror_mode": {
    "name": "ipython",
    "version": 3
   },
   "file_extension": ".py",
   "mimetype": "text/x-python",
   "name": "python",
   "nbconvert_exporter": "python",
   "pygments_lexer": "ipython3",
   "version": "3.11.5"
  }
 },
 "nbformat": 4,
 "nbformat_minor": 5
}
