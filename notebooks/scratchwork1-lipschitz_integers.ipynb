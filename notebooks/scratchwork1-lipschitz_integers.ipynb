{
 "cells": [
  {
   "cell_type": "markdown",
   "id": "359d8cbe",
   "metadata": {},
   "source": [
    "# Scratchwork #1 - Lipschitz Integers"
   ]
  },
  {
   "cell_type": "code",
   "execution_count": 1,
   "id": "546eb77f-379e-4ff7-8a9a-cac35cafbe22",
   "metadata": {},
   "outputs": [],
   "source": [
    "from quaternions import Hi\n",
    "from gaussians import Zi\n",
    "import numpy as np\n",
    "import random as rnd"
   ]
  },
  {
   "cell_type": "markdown",
   "id": "280a1552",
   "metadata": {},
   "source": [
    "## Quaternions"
   ]
  },
  {
   "cell_type": "markdown",
   "id": "4f22fc88",
   "metadata": {},
   "source": [
    "The **quaternions** are a four-dimensional number system, denoted by $\\mathbb{H}$, that was discovered by William Rowan Hamilton in 1843.\n",
    "\n",
    "Let $\\mathbb{R}$ denote the real numbers, then $\\mathbb{H} \\equiv \\{(a, b, c, d)\\ |\\ a, b, c, d \\in \\mathbb{R} \\}$\n",
    "\n",
    "Quaternions are often written using the three basis elements, $\\mathbf{i}, \\mathbf{j}, \\mathbf{k}$, as follows: $(a, b, c, d) \\equiv a + b\\mathbf{i} + c\\mathbf{j} + d\\mathbf{k}$\n",
    "\n",
    "See [Wikipedia](https://en.wikipedia.org/wiki/Quaternion) or [Wolfram MathWorld](https://mathworld.wolfram.com/Quaternion.html) for information on how to perform arithmetic operations over quaternions.\n",
    "\n",
    "NOTE: Alternatively, let $\\mathbb{C}$ denote the complex numbers, then $\\mathbb{H} \\equiv \\{(\\alpha, \\beta)\\ |\\ \\alpha, \\beta \\in \\mathbb{C} \\}$\n",
    "\n",
    "Both definitions of $\\mathbb{H}$ given here are supported by the **Hi** class."
   ]
  },
  {
   "cell_type": "markdown",
   "id": "50bce56c",
   "metadata": {},
   "source": [
    "## Lipschitz Integers"
   ]
  },
  {
   "cell_type": "markdown",
   "id": "cc967f66",
   "metadata": {},
   "source": [
    "The Lipschitz integers, denoted here by $\\mathbb{L}$ are a subset of the quaternions, where each component of the quaternion is an integer.\n",
    "\n",
    "Let $\\mathbb{Z}$ denote the set of all integers, then $\\mathbb{L} \\equiv \\{(a, b, c, d)\\ |\\ a, b, c, d \\in \\mathbb{Z} \\} \\subset \\mathbb{H}$"
   ]
  },
  {
   "cell_type": "code",
   "execution_count": 2,
   "id": "a9a35cf0",
   "metadata": {},
   "outputs": [
    {
     "name": "stdout",
     "output_type": "stream",
     "text": [
      "Help on class Hi in module quaternions:\n",
      "\n",
      "class Hi(builtins.object)\n",
      " |  Hi(z1: (<class 'int'>, <class 'numpy.int64'>, <class 'numpy.ndarray'>, <class 'gaussians.Zi'>) = Zi(0, 0), z2: (<class 'int'>, <class 'numpy.int64'>, <class 'gaussians.Zi'>) = 0, z3: (<class 'int'>, <class 'numpy.int64'>) = 0, z4: (<class 'int'>, <class 'numpy.int64'>) = 0)\n",
      " |  \n",
      " |  Integer-valued quaternions ('Gaussian quaternions')\n",
      " |  \n",
      " |  Internally, a Lipschitz integer is implemented as a numpy array of 4\n",
      " |  integers, but they can be thought of as simply 4 integers, or 2 Gaussian\n",
      " |  integers. For this reason, a Hi can be constructed from 4 integers, or\n",
      " |  2 Gaussian integers, or 1 numpy array of 4 integers.\n",
      " |  \n",
      " |  Methods defined here:\n",
      " |  \n",
      " |  __abs__(self) -> float\n",
      " |      Return the square root of the norm of this quaternion.\n",
      " |  \n",
      " |  __add__(self, other)\n",
      " |      Return the sum of two quaternions.\n",
      " |  \n",
      " |  __eq__(self, other)\n",
      " |      Return True if the two quaternions are equal, otherwise return False.\n",
      " |  \n",
      " |  __floordiv__(self, other)\n",
      " |      Implements the // operator using 'round', instead of 'floor'.\n",
      " |  \n",
      " |  __hash__(self)\n",
      " |      Return the hash of the quaternion.\n",
      " |  \n",
      " |  __init__(self, z1: (<class 'int'>, <class 'numpy.int64'>, <class 'numpy.ndarray'>, <class 'gaussians.Zi'>) = Zi(0, 0), z2: (<class 'int'>, <class 'numpy.int64'>, <class 'gaussians.Zi'>) = 0, z3: (<class 'int'>, <class 'numpy.int64'>) = 0, z4: (<class 'int'>, <class 'numpy.int64'>) = 0)\n",
      " |      Initialize self.  See help(type(self)) for accurate signature.\n",
      " |  \n",
      " |  __mul__(self, other)\n",
      " |      Multiplication of two quaternions according to the Cayley-Dickson construction\n",
      " |      \n",
      " |      If other is an int, np.int64, or Zi, then it will first be coerced to a Hi.\n",
      " |  \n",
      " |  __ne__(self, other)\n",
      " |      Return True if the two quaternions are not equal, otherwise return False.\n",
      " |  \n",
      " |  __neg__(self)\n",
      " |      Negate the quaternion.\n",
      " |  \n",
      " |  __repr__(self) -> str\n",
      " |      Return a string that represents this quaternion, and\n",
      " |      can be used to recreate this quaternion via cut-and-paste.\n",
      " |  \n",
      " |  __rmul__(self, other)\n",
      " |      # TODO: Either fix right multiplication by Gaussian integer, ie., Zi * Hi, or remove it\n",
      " |  \n",
      " |  __str__(self) -> str\n",
      " |      Return a string representation of this quaternion. This string\n",
      " |      cannot be used, directly, to reconstruct this quaternion, however,\n",
      " |      Hi.from_string() can reconstruct it.\n",
      " |  \n",
      " |  __sub__(self, other)\n",
      " |      Return the difference of two quaternions.\n",
      " |  \n",
      " |  to_gaussian_ints(self)\n",
      " |      Convert this quaternion into two Gaussian integers\n",
      " |  \n",
      " |  ----------------------------------------------------------------------\n",
      " |  Static methods defined here:\n",
      " |  \n",
      " |  from_string(s)\n",
      " |      Converts the string form of a Hi back into a Hi.\n",
      " |      e.g., Hi.from_string('(46 + -92i + 9j + 23k)') -> Hi(46, -92, 9, 23)\n",
      " |  \n",
      " |  hamilton_product(q1, q2)\n",
      " |      Multiplication of two quaternions according to the classic Hamilton product.\n",
      " |  \n",
      " |  modified_divmod(a, b)\n",
      " |      Returns q & r, such that a = b * q + r, where\n",
      " |      r.norm < b.norm / 2\n",
      " |  \n",
      " |  random(low=-100, high=100)\n",
      " |      Generate a random quaternion where each of the four components is between low  and high.\n",
      " |  \n",
      " |  ----------------------------------------------------------------------\n",
      " |  Readonly properties defined here:\n",
      " |  \n",
      " |  array\n",
      " |      Return the numpy array that implements this quaternion.\n",
      " |  \n",
      " |  conjugate\n",
      " |      Return the conjugate of this quaternion.\n",
      " |  \n",
      " |  gaussian_ints\n",
      " |      Return the two Gaussian integers that define this quaternion.\n",
      " |  \n",
      " |  imag\n",
      " |      Return the 'imag' Gaussian integer that defines this quaternion.\n",
      " |  \n",
      " |  norm\n",
      " |      Return the norm squared of this quaternion.\n",
      " |  \n",
      " |  real\n",
      " |      Return the 'real' Gaussian integer that defines this quaternion.\n",
      " |  \n",
      " |  ----------------------------------------------------------------------\n",
      " |  Data descriptors defined here:\n",
      " |  \n",
      " |  __dict__\n",
      " |      dictionary for instance variables (if defined)\n",
      " |  \n",
      " |  __weakref__\n",
      " |      list of weak references to the object (if defined)\n",
      "\n"
     ]
    }
   ],
   "source": [
    "help(Hi)"
   ]
  },
  {
   "cell_type": "markdown",
   "id": "7845139e",
   "metadata": {},
   "source": [
    "## Quaternion Integers"
   ]
  },
  {
   "cell_type": "code",
   "execution_count": 3,
   "id": "16bb2346-b110-413e-a4b9-ce626d0e4b96",
   "metadata": {},
   "outputs": [
    {
     "data": {
      "text/plain": [
       "Hi(0.0, 0.0, 0.0, 0.0)"
      ]
     },
     "execution_count": 3,
     "metadata": {},
     "output_type": "execute_result"
    }
   ],
   "source": [
    "Hi()"
   ]
  },
  {
   "cell_type": "code",
   "execution_count": 4,
   "id": "6b1da64b-7412-400a-a8f4-8f408418f3d6",
   "metadata": {},
   "outputs": [
    {
     "data": {
      "text/plain": [
       "Hi(1, 2, 3, 4)"
      ]
     },
     "execution_count": 4,
     "metadata": {},
     "output_type": "execute_result"
    }
   ],
   "source": [
    "Hi(1, 2, 3, 4)"
   ]
  },
  {
   "cell_type": "code",
   "execution_count": 5,
   "id": "5aae2bcd-b48c-48f3-af57-3bddd753d4c7",
   "metadata": {},
   "outputs": [
    {
     "data": {
      "text/plain": [
       "Hi(1, 2, 3, 4)"
      ]
     },
     "execution_count": 5,
     "metadata": {},
     "output_type": "execute_result"
    }
   ],
   "source": [
    "Hi(Zi(1, 2), Zi(3, 4))"
   ]
  },
  {
   "cell_type": "code",
   "execution_count": 6,
   "id": "a1d0c8db-2958-45b1-a84f-e70eac6bc266",
   "metadata": {},
   "outputs": [
    {
     "data": {
      "text/plain": [
       "Hi(1, 2, 3, 4)"
      ]
     },
     "execution_count": 6,
     "metadata": {},
     "output_type": "execute_result"
    }
   ],
   "source": [
    "Hi(np.array([1, 2, 3, 4]))"
   ]
  },
  {
   "cell_type": "code",
   "execution_count": 7,
   "id": "07db17fa",
   "metadata": {},
   "outputs": [
    {
     "data": {
      "text/plain": [
       "Hi(0.0, 0.0, 0.0, 0.0)"
      ]
     },
     "execution_count": 7,
     "metadata": {},
     "output_type": "execute_result"
    }
   ],
   "source": [
    "Hi(Zi())"
   ]
  },
  {
   "cell_type": "code",
   "execution_count": 8,
   "id": "004db161",
   "metadata": {},
   "outputs": [
    {
     "data": {
      "text/plain": [
       "Hi(1, 0, 0, 0)"
      ]
     },
     "execution_count": 8,
     "metadata": {},
     "output_type": "execute_result"
    }
   ],
   "source": [
    "Hi(1)"
   ]
  },
  {
   "cell_type": "code",
   "execution_count": 9,
   "id": "aee70fcd",
   "metadata": {},
   "outputs": [
    {
     "data": {
      "text/plain": [
       "Hi(1, 2, 0, 0)"
      ]
     },
     "execution_count": 9,
     "metadata": {},
     "output_type": "execute_result"
    }
   ],
   "source": [
    "Hi(1, 2)"
   ]
  },
  {
   "cell_type": "code",
   "execution_count": 10,
   "id": "242a59f3",
   "metadata": {},
   "outputs": [
    {
     "data": {
      "text/plain": [
       "Hi(1, 2, 3, 0)"
      ]
     },
     "execution_count": 10,
     "metadata": {},
     "output_type": "execute_result"
    }
   ],
   "source": [
    "Hi(1, 2, 3)"
   ]
  },
  {
   "cell_type": "code",
   "execution_count": 11,
   "id": "7e91bfef",
   "metadata": {},
   "outputs": [],
   "source": [
    "rnd.seed(10)\n",
    "quads = [Hi.random() for _ in range(5)]\n",
    "h1, h2, h3, h4, h5 = quads"
   ]
  },
  {
   "cell_type": "code",
   "execution_count": 12,
   "id": "f080dcb5",
   "metadata": {},
   "outputs": [
    {
     "data": {
      "text/plain": [
       "(Hi(46, -92, 9, 23),\n",
       " Hi(47, -97, -48, 18),\n",
       " Hi(25, -29, 67, -59),\n",
       " Hi(-92, 33, 25, -17),\n",
       " Hi(-81, -37, 90, -8))"
      ]
     },
     "execution_count": 12,
     "metadata": {},
     "output_type": "execute_result"
    }
   ],
   "source": [
    "h1, h2, h3, h4, h5"
   ]
  },
  {
   "cell_type": "code",
   "execution_count": 13,
   "id": "a57061fa",
   "metadata": {},
   "outputs": [
    {
     "data": {
      "text/plain": [
       "Hi(46, -92, 9, 23)"
      ]
     },
     "execution_count": 13,
     "metadata": {},
     "output_type": "execute_result"
    }
   ],
   "source": [
    "Hi(Zi(46, -92), Zi(9, 23))  # cut-and-pasted the output, above"
   ]
  },
  {
   "cell_type": "code",
   "execution_count": 14,
   "id": "5587c78d",
   "metadata": {},
   "outputs": [
    {
     "data": {
      "text/plain": [
       "Hi(46, -92, 9, 23)"
      ]
     },
     "execution_count": 14,
     "metadata": {},
     "output_type": "execute_result"
    }
   ],
   "source": [
    "Hi(46, -92, 9, 23)  # This is the actual repr of an Hi"
   ]
  },
  {
   "cell_type": "code",
   "execution_count": 15,
   "id": "6e941dd2",
   "metadata": {},
   "outputs": [
    {
     "name": "stdout",
     "output_type": "stream",
     "text": [
      "(46 + -92i + 9j + 23k)\n"
     ]
    }
   ],
   "source": [
    "print(Hi(46, -92, 9, 23))  # And this is the str form of an Hi"
   ]
  },
  {
   "cell_type": "code",
   "execution_count": 16,
   "id": "9d318896-d5d8-44cc-8a68-33616e525501",
   "metadata": {},
   "outputs": [
    {
     "data": {
      "text/plain": [
       "Hi(46, -92, 9, 23)"
      ]
     },
     "execution_count": 16,
     "metadata": {},
     "output_type": "execute_result"
    }
   ],
   "source": [
    "Hi.from_string('(46 + -92i + 9j + 23k)')"
   ]
  },
  {
   "cell_type": "code",
   "execution_count": 17,
   "id": "3b012529-fd05-4394-825b-cb2e3c376fd2",
   "metadata": {},
   "outputs": [
    {
     "name": "stdout",
     "output_type": "stream",
     "text": [
      "(46 + -92i + 9j + 23k)\n",
      "(46-92j)\n",
      "(9+23j)\n"
     ]
    }
   ],
   "source": [
    "re, im = h1.gaussian_ints\n",
    "print(h1)\n",
    "print(re)\n",
    "print(im)"
   ]
  },
  {
   "cell_type": "code",
   "execution_count": 18,
   "id": "83044d03-5c06-4c01-88f3-422de63047d1",
   "metadata": {},
   "outputs": [
    {
     "name": "stdout",
     "output_type": "stream",
     "text": [
      "(46-92j)\n"
     ]
    }
   ],
   "source": [
    "print(h1.real)"
   ]
  },
  {
   "cell_type": "code",
   "execution_count": 19,
   "id": "98b3202a-5666-43fc-a42d-a358f0ed0566",
   "metadata": {},
   "outputs": [
    {
     "name": "stdout",
     "output_type": "stream",
     "text": [
      "(9+23j)\n"
     ]
    }
   ],
   "source": [
    "print(h1.imag)"
   ]
  },
  {
   "cell_type": "markdown",
   "id": "677d44cc-1e41-4461-ac95-af29f2b0eb7e",
   "metadata": {},
   "source": [
    "## Print Quaternion Integers"
   ]
  },
  {
   "cell_type": "code",
   "execution_count": 20,
   "id": "777092d1-8200-4019-af6e-a75b2bb2f880",
   "metadata": {},
   "outputs": [
    {
     "name": "stdout",
     "output_type": "stream",
     "text": [
      "(46 + -92i + 9j + 23k)\n",
      "(47 + -97i + -48j + 18k)\n",
      "(25 + -29i + 67j + -59k)\n",
      "(-92 + 33i + 25j + -17k)\n",
      "(-81 + -37i + 90j + -8k)\n"
     ]
    }
   ],
   "source": [
    "for quad in quads:\n",
    "    print(quad)"
   ]
  },
  {
   "cell_type": "markdown",
   "id": "e8353835",
   "metadata": {},
   "source": [
    "## Conjugation, Norm, & Abs"
   ]
  },
  {
   "cell_type": "code",
   "execution_count": 21,
   "id": "d935f586",
   "metadata": {},
   "outputs": [
    {
     "data": {
      "text/plain": [
       "Hi(46, 92, -9, -23)"
      ]
     },
     "execution_count": 21,
     "metadata": {},
     "output_type": "execute_result"
    }
   ],
   "source": [
    "h1.conjugate"
   ]
  },
  {
   "cell_type": "code",
   "execution_count": 22,
   "id": "73369e08",
   "metadata": {},
   "outputs": [
    {
     "data": {
      "text/plain": [
       "11190"
      ]
     },
     "execution_count": 22,
     "metadata": {},
     "output_type": "execute_result"
    }
   ],
   "source": [
    "h1.norm"
   ]
  },
  {
   "cell_type": "code",
   "execution_count": 23,
   "id": "abb692ba-5bdc-41fa-97c2-846536e1bf1d",
   "metadata": {},
   "outputs": [
    {
     "data": {
      "text/plain": [
       "105.78279633286313"
      ]
     },
     "execution_count": 23,
     "metadata": {},
     "output_type": "execute_result"
    }
   ],
   "source": [
    "abs(h1)"
   ]
  },
  {
   "cell_type": "markdown",
   "id": "d067d5b9-149b-43f4-9265-748654382fe9",
   "metadata": {},
   "source": [
    "## Equality / Inequality"
   ]
  },
  {
   "cell_type": "code",
   "execution_count": 24,
   "id": "fe4d77f3-cef8-432b-a670-fa3bc21eec8d",
   "metadata": {},
   "outputs": [
    {
     "data": {
      "text/plain": [
       "False"
      ]
     },
     "execution_count": 24,
     "metadata": {},
     "output_type": "execute_result"
    }
   ],
   "source": [
    "h1 == h2"
   ]
  },
  {
   "cell_type": "code",
   "execution_count": 25,
   "id": "4859f8c3-cfbe-4244-ad4b-879320db2c17",
   "metadata": {},
   "outputs": [
    {
     "data": {
      "text/plain": [
       "True"
      ]
     },
     "execution_count": 25,
     "metadata": {},
     "output_type": "execute_result"
    }
   ],
   "source": [
    "h1 != h2"
   ]
  },
  {
   "cell_type": "code",
   "execution_count": 26,
   "id": "2e8c1375-1aa3-49aa-bfcd-c03f4eb1c9fc",
   "metadata": {},
   "outputs": [
    {
     "name": "stdout",
     "output_type": "stream",
     "text": [
      "False\n"
     ]
    },
    {
     "data": {
      "text/plain": [
       "True"
      ]
     },
     "execution_count": 26,
     "metadata": {},
     "output_type": "execute_result"
    }
   ],
   "source": [
    "h1copy = Hi(46, -92, 9, 23)\n",
    "print(id(h1) == id(h1copy))  # If False, proves they are two different objects\n",
    "h1 == h1copy"
   ]
  },
  {
   "cell_type": "markdown",
   "id": "15d25457",
   "metadata": {},
   "source": [
    "## Quaternion Integer Arithmetic"
   ]
  },
  {
   "cell_type": "code",
   "execution_count": 27,
   "id": "3cd700fb",
   "metadata": {},
   "outputs": [
    {
     "data": {
      "text/plain": [
       "Hi(93, -189, -39, 41)"
      ]
     },
     "execution_count": 27,
     "metadata": {},
     "output_type": "execute_result"
    }
   ],
   "source": [
    "h1 + h2"
   ]
  },
  {
   "cell_type": "code",
   "execution_count": 28,
   "id": "ae845ec6",
   "metadata": {},
   "outputs": [
    {
     "data": {
      "text/plain": [
       "Hi(-1, 5, 57, 5)"
      ]
     },
     "execution_count": 28,
     "metadata": {},
     "output_type": "execute_result"
    }
   ],
   "source": [
    "h1 - h2"
   ]
  },
  {
   "cell_type": "code",
   "execution_count": 29,
   "id": "226648d5",
   "metadata": {},
   "outputs": [
    {
     "data": {
      "text/plain": [
       "Hi(-6744, -7520, -2360, 7198)"
      ]
     },
     "execution_count": 29,
     "metadata": {},
     "output_type": "execute_result"
    }
   ],
   "source": [
    "h1 * h2"
   ]
  },
  {
   "cell_type": "code",
   "execution_count": 30,
   "id": "f7be7189",
   "metadata": {},
   "outputs": [
    {
     "data": {
      "text/plain": [
       "Hi(-6744, -7520, -2360, 7198)"
      ]
     },
     "execution_count": 30,
     "metadata": {},
     "output_type": "execute_result"
    }
   ],
   "source": [
    "Hi.hamilton_product(h1, h2)"
   ]
  },
  {
   "cell_type": "code",
   "execution_count": 31,
   "id": "094283ee",
   "metadata": {},
   "outputs": [
    {
     "data": {
      "text/plain": [
       "Hi(92, -184, 18, 46)"
      ]
     },
     "execution_count": 31,
     "metadata": {},
     "output_type": "execute_result"
    }
   ],
   "source": [
    "h1 * 2"
   ]
  },
  {
   "cell_type": "code",
   "execution_count": 32,
   "id": "42eb065c",
   "metadata": {},
   "outputs": [
    {
     "data": {
      "text/plain": [
       "Hi(92, -184, 18, 46)"
      ]
     },
     "execution_count": 32,
     "metadata": {},
     "output_type": "execute_result"
    }
   ],
   "source": [
    "2 * h1"
   ]
  },
  {
   "cell_type": "code",
   "execution_count": 33,
   "id": "6e53923f",
   "metadata": {},
   "outputs": [
    {
     "data": {
      "text/plain": [
       "Hi(92, -184, 18, 46)"
      ]
     },
     "execution_count": 33,
     "metadata": {},
     "output_type": "execute_result"
    }
   ],
   "source": [
    "h1 * Zi(2, 0)"
   ]
  },
  {
   "cell_type": "code",
   "execution_count": 34,
   "id": "0d77d3b8",
   "metadata": {},
   "outputs": [],
   "source": [
    "# Zi(2, -1) * h1  # Right mult by a Zi doesn't work"
   ]
  },
  {
   "cell_type": "markdown",
   "id": "f8c30052-e4ec-45c4-ac09-932a3cd1a320",
   "metadata": {},
   "source": [
    "## Floor Divide (Actually Round Divide)"
   ]
  },
  {
   "cell_type": "code",
   "execution_count": 35,
   "id": "9b39ad68-b8b7-46d8-b33a-eaab34aea9c3",
   "metadata": {},
   "outputs": [
    {
     "name": "stdout",
     "output_type": "stream",
     "text": [
      "(46 + -92i + 9j + 23k)\n",
      "(-92 + 33i + 25j + -17k)\n",
      "(-1 + 1i + 0j + 0k)\n"
     ]
    }
   ],
   "source": [
    "print(h1)\n",
    "print(h4)\n",
    "print(h1 // h4)"
   ]
  },
  {
   "cell_type": "markdown",
   "id": "3589d11d-40b4-49a2-a483-26135a210a18",
   "metadata": {},
   "source": [
    "## Modified DivMod"
   ]
  },
  {
   "cell_type": "code",
   "execution_count": 36,
   "id": "74c55298-bd83-4f5f-b27d-1d8b335cd14d",
   "metadata": {},
   "outputs": [
    {
     "name": "stdout",
     "output_type": "stream",
     "text": [
      "Help on function modified_divmod in module quaternions:\n",
      "\n",
      "modified_divmod(a, b)\n",
      "    Returns q & r, such that a = b * q + r, where\n",
      "    r.norm < b.norm / 2\n",
      "\n"
     ]
    }
   ],
   "source": [
    "help(Hi.modified_divmod)"
   ]
  },
  {
   "cell_type": "code",
   "execution_count": 37,
   "id": "19168ba8-5e79-43a5-b5ed-fa4fcfcdc064",
   "metadata": {},
   "outputs": [
    {
     "name": "stdout",
     "output_type": "stream",
     "text": [
      "(46 + -92i + 9j + 23k)\n",
      "(-92 + 33i + 25j + -17k)\n",
      "(-1 + 1i + 0j + 0k)\n",
      "(-13 + 33i + 51j + 31k)\n"
     ]
    }
   ],
   "source": [
    "a = h1\n",
    "b = h4\n",
    "print(a)\n",
    "print(b)\n",
    "quot, rem = Hi.modified_divmod(a, b)\n",
    "print(quot)\n",
    "print(rem)"
   ]
  },
  {
   "cell_type": "code",
   "execution_count": 38,
   "id": "4a36accc-81f6-465d-a7e3-e3fb1a95e67f",
   "metadata": {},
   "outputs": [
    {
     "name": "stdout",
     "output_type": "stream",
     "text": [
      "(46 + -92i + 9j + 23k)\n",
      " = (-92 + 33i + 25j + -17k)\n",
      "   * (-1 + 1i + 0j + 0k)\n",
      "   + (-13 + 33i + 51j + 31k)\n"
     ]
    }
   ],
   "source": [
    "print(f\"{h4 * quot + rem}\\n = {h4}\\n   * {quot}\\n   + {rem}\")"
   ]
  },
  {
   "cell_type": "code",
   "execution_count": 39,
   "id": "7009aefc-e117-4b4f-b9cc-d486d1c9b5c8",
   "metadata": {},
   "outputs": [
    {
     "name": "stdout",
     "output_type": "stream",
     "text": [
      "4820\n",
      "10467\n",
      "True\n"
     ]
    }
   ],
   "source": [
    "print(rem.norm)\n",
    "print(b.norm)\n",
    "print(rem.norm < b.norm / 2)"
   ]
  }
 ],
 "metadata": {
  "kernelspec": {
   "display_name": "Python 3 (ipykernel)",
   "language": "python",
   "name": "python3"
  },
  "language_info": {
   "codemirror_mode": {
    "name": "ipython",
    "version": 3
   },
   "file_extension": ".py",
   "mimetype": "text/x-python",
   "name": "python",
   "nbconvert_exporter": "python",
   "pygments_lexer": "ipython3",
   "version": "3.11.5"
  }
 },
 "nbformat": 4,
 "nbformat_minor": 5
}
