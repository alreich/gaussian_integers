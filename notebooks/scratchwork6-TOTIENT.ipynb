{
 "cells": [
  {
   "cell_type": "markdown",
   "id": "45105ef5",
   "metadata": {},
   "source": [
    "# Totient / Euler's $\\phi$-Function"
   ]
  },
  {
   "cell_type": "markdown",
   "id": "37e33894",
   "metadata": {},
   "source": [
    "See code at this repo:\n",
    "\n",
    "https://github.com/Robert-Campbell-256/Number-Theory-Python"
   ]
  },
  {
   "cell_type": "markdown",
   "id": "7fc47bcc",
   "metadata": {},
   "source": [
    "## Perplexity Question/Answer"
   ]
  },
  {
   "cell_type": "markdown",
   "id": "4b22ce44",
   "metadata": {},
   "source": [
    "And, see this search result from Perplexity:\n",
    "\n",
    "https://www.perplexity.ai/search/i-am-looking-for-a-python-libr-kl7W27icTseiNanP_w8MoQ?login-source=sharedThreadLoginGate#locale=en-US&login-new=true"
   ]
  },
  {
   "cell_type": "markdown",
   "id": "3c82326d",
   "metadata": {},
   "source": [
    "Can you find an Euler Totient implementation in Python for Gaussian Primes?\n",
    "\n",
    "Answer\n",
    "\n",
    "To compute Euler's totient function for Gaussian integers (including Gaussian primes) in Python, we need an implementation that handles Gaussian integer arithmetic and prime factorization. Here's a solution using Python's integers for precision:\n",
    "\n",
    "Gaussian Integer Totient Function"
   ]
  },
  {
   "cell_type": "code",
   "execution_count": 1,
   "id": "c2e5c413",
   "metadata": {},
   "outputs": [],
   "source": [
    "from gaussint import GaussInt  # From the Number-Theory-Python repository [6]\n",
    "\n",
    "def gaussian_totient(z):\n",
    "    \"\"\"\n",
    "    Compute Euler's totient function for Gaussian integer z.\n",
    "    Formula: φ(z) = |z|^2 * product(1 - 1/|p|²) for distinct Gaussian primes p dividing z\n",
    "    \"\"\"\n",
    "    if z == GaussInt(0, 0):\n",
    "        raise ValueError(\"Totient undefined for zero\")\n",
    "    \n",
    "    # Factorize into Gaussian primes\n",
    "    factors = {}\n",
    "    for p in z.factors():\n",
    "        p_norm = p.norm()\n",
    "        factors[p_norm] = factors.get(p_norm, 0) + 1\n",
    "    \n",
    "    result = z.norm()\n",
    "    for p_norm, exp in factors.items():\n",
    "        result = result // p_norm  # Integer division\n",
    "        result *= (p_norm - 1)\n",
    "    return result"
   ]
  },
  {
   "cell_type": "markdown",
   "id": "b0bb09ab",
   "metadata": {},
   "source": [
    "Key Features\n",
    "\n",
    "    1. Arbitrary Precision: Uses Python's native integers for exact calculations with large numbers\n",
    "    2. Gaussian Prime Handling:\n",
    "        * Works for Gaussian primes (φ(p) = |p|² - 1)\n",
    "        * Handles composite Gaussian integers using multiplicative property24\n",
    "    3. Efficiency: Leverages existing factorization from gaussint.py\n",
    "\n",
    "Example Usage"
   ]
  },
  {
   "cell_type": "code",
   "execution_count": 2,
   "id": "e98db988",
   "metadata": {},
   "outputs": [
    {
     "name": "stdout",
     "output_type": "stream",
     "text": [
      "1\n"
     ]
    },
    {
     "ename": "TypeError",
     "evalue": "unsupported operand type(s) for %: 'int' and 'GaussInt'",
     "output_type": "error",
     "traceback": [
      "\u001b[0;31m---------------------------------------------------------------------------\u001b[0m",
      "\u001b[0;31mTypeError\u001b[0m                                 Traceback (most recent call last)",
      "Cell \u001b[0;32mIn[2], line 7\u001b[0m\n\u001b[1;32m      5\u001b[0m \u001b[38;5;66;03m# Composite Gaussian integer (1+i)^2 * (2+i)\u001b[39;00m\n\u001b[1;32m      6\u001b[0m z \u001b[38;5;241m=\u001b[39m GaussInt(\u001b[38;5;241m1\u001b[39m, \u001b[38;5;241m1\u001b[39m)\u001b[38;5;241m*\u001b[39m\u001b[38;5;241m*\u001b[39m\u001b[38;5;241m2\u001b[39m \u001b[38;5;241m*\u001b[39m GaussInt(\u001b[38;5;241m2\u001b[39m, \u001b[38;5;241m1\u001b[39m)\n\u001b[0;32m----> 7\u001b[0m \u001b[38;5;28mprint\u001b[39m(gaussian_totient(z))\n",
      "Cell \u001b[0;32mIn[1], line 13\u001b[0m, in \u001b[0;36mgaussian_totient\u001b[0;34m(z)\u001b[0m\n\u001b[1;32m     11\u001b[0m \u001b[38;5;66;03m# Factorize into Gaussian primes\u001b[39;00m\n\u001b[1;32m     12\u001b[0m factors \u001b[38;5;241m=\u001b[39m {}\n\u001b[0;32m---> 13\u001b[0m \u001b[38;5;28;01mfor\u001b[39;00m p \u001b[38;5;129;01min\u001b[39;00m z\u001b[38;5;241m.\u001b[39mfactors():\n\u001b[1;32m     14\u001b[0m     p_norm \u001b[38;5;241m=\u001b[39m p\u001b[38;5;241m.\u001b[39mnorm()\n\u001b[1;32m     15\u001b[0m     factors[p_norm] \u001b[38;5;241m=\u001b[39m factors\u001b[38;5;241m.\u001b[39mget(p_norm, \u001b[38;5;241m0\u001b[39m) \u001b[38;5;241m+\u001b[39m \u001b[38;5;241m1\u001b[39m\n",
      "File \u001b[0;32m~/Documents/Python/github/contribs/Number-Theory-Python/gaussint.py:462\u001b[0m, in \u001b[0;36mGaussInt.factors\u001b[0;34m(self)\u001b[0m\n\u001b[1;32m    460\u001b[0m \u001b[38;5;28;01mif\u001b[39;00m (\u001b[38;5;28mself\u001b[39m\u001b[38;5;241m.\u001b[39misprime()):\n\u001b[1;32m    461\u001b[0m       \u001b[38;5;28;01mreturn\u001b[39;00m [\u001b[38;5;28mself\u001b[39m]\n\u001b[0;32m--> 462\u001b[0m fact \u001b[38;5;241m=\u001b[39m \u001b[38;5;28mself\u001b[39m\u001b[38;5;241m.\u001b[39mfactor()\n\u001b[1;32m    463\u001b[0m \u001b[38;5;28;01mif\u001b[39;00m (fact \u001b[38;5;241m==\u001b[39m \u001b[38;5;241m1\u001b[39m): \u001b[38;5;28;01mreturn\u001b[39;00m \u001b[38;5;124m\"\u001b[39m\u001b[38;5;124mUnable to factor \u001b[39m\u001b[38;5;124m\"\u001b[39m\u001b[38;5;241m+\u001b[39m\u001b[38;5;28mstr\u001b[39m(n)\n\u001b[1;32m    464\u001b[0m facts \u001b[38;5;241m=\u001b[39m (\u001b[38;5;28mself\u001b[39m\u001b[38;5;241m/\u001b[39mfact)\u001b[38;5;241m.\u001b[39mfactors() \u001b[38;5;241m+\u001b[39m fact\u001b[38;5;241m.\u001b[39mfactors()\n",
      "File \u001b[0;32m~/Documents/Python/github/contribs/Number-Theory-Python/gaussint.py:455\u001b[0m, in \u001b[0;36mGaussInt.factor\u001b[0;34m(self)\u001b[0m\n\u001b[1;32m    452\u001b[0m \u001b[38;5;28;01mfor\u001b[39;00m fact \u001b[38;5;129;01min\u001b[39;00m [GaussInt(\u001b[38;5;241m1\u001b[39m,\u001b[38;5;241m1\u001b[39m), GaussInt(\u001b[38;5;241m2\u001b[39m,\u001b[38;5;241m1\u001b[39m), GaussInt(\u001b[38;5;241m1\u001b[39m,\u001b[38;5;241m2\u001b[39m), \n\u001b[1;32m    453\u001b[0m \t     GaussInt(\u001b[38;5;241m3\u001b[39m,\u001b[38;5;241m0\u001b[39m), GaussInt(\u001b[38;5;241m3\u001b[39m,\u001b[38;5;241m2\u001b[39m), GaussInt(\u001b[38;5;241m2\u001b[39m,\u001b[38;5;241m3\u001b[39m)]:\n\u001b[1;32m    454\u001b[0m \t\u001b[38;5;28;01mif\u001b[39;00m \u001b[38;5;28mself\u001b[39m\u001b[38;5;241m%\u001b[39mfact \u001b[38;5;241m==\u001b[39m \u001b[38;5;241m0\u001b[39m: \u001b[38;5;28;01mreturn\u001b[39;00m fact\n\u001b[0;32m--> 455\u001b[0m \u001b[38;5;28;01mreturn\u001b[39;00m \u001b[38;5;28mself\u001b[39m\u001b[38;5;241m.\u001b[39mfactorPR()\n",
      "File \u001b[0;32m~/Documents/Python/github/contribs/Number-Theory-Python/gaussint.py:474\u001b[0m, in \u001b[0;36mGaussInt.factorPR\u001b[0;34m(self)\u001b[0m\n\u001b[1;32m    472\u001b[0m numsteps\u001b[38;5;241m=\u001b[39m\u001b[38;5;241m2\u001b[39m\u001b[38;5;241m*\u001b[39mmath\u001b[38;5;241m.\u001b[39mfloor(math\u001b[38;5;241m.\u001b[39msqrt(math\u001b[38;5;241m.\u001b[39msqrt(\u001b[38;5;28mself\u001b[39m\u001b[38;5;241m.\u001b[39mnorm()))); fast\u001b[38;5;241m=\u001b[39mslow; i\u001b[38;5;241m=\u001b[39m\u001b[38;5;241m1\u001b[39m\n\u001b[1;32m    473\u001b[0m \u001b[38;5;28;01mwhile\u001b[39;00m i\u001b[38;5;241m<\u001b[39mnumsteps:\n\u001b[0;32m--> 474\u001b[0m \tslow \u001b[38;5;241m=\u001b[39m (slow\u001b[38;5;241m*\u001b[39mslow \u001b[38;5;241m+\u001b[39m \u001b[38;5;241m1\u001b[39m) \u001b[38;5;241m%\u001b[39m \u001b[38;5;28mself\u001b[39m\n\u001b[1;32m    475\u001b[0m \ti \u001b[38;5;241m=\u001b[39m i \u001b[38;5;241m+\u001b[39m \u001b[38;5;241m1\u001b[39m\n\u001b[1;32m    476\u001b[0m \tfast \u001b[38;5;241m=\u001b[39m (fast\u001b[38;5;241m*\u001b[39mfast \u001b[38;5;241m+\u001b[39m \u001b[38;5;241m1\u001b[39m) \u001b[38;5;241m%\u001b[39m \u001b[38;5;28mself\u001b[39m\n",
      "\u001b[0;31mTypeError\u001b[0m: unsupported operand type(s) for %: 'int' and 'GaussInt'"
     ]
    }
   ],
   "source": [
    "# Gaussian prime with norm 2\n",
    "p = GaussInt(1, 1)\n",
    "print(gaussian_totient(p))  # Output: 1 (since |p|² - 1 = 2 - 1 = 1) [2]\n",
    "\n",
    "# Composite Gaussian integer (1+i)^2 * (2+i)\n",
    "z = GaussInt(1, 1)**2 * GaussInt(2, 1)\n",
    "print(gaussian_totient(z))  # Output: 8 [2][4]"
   ]
  },
  {
   "cell_type": "markdown",
   "id": "1b3a819a",
   "metadata": {},
   "source": [
    "Implementation Notes\n",
    "\n",
    "* Factorization: Uses gaussint.factors() which implements Gaussian prime factorization6\n",
    "* Norm Calculation: GaussInt.norm() returns a² + b² as Python int\n",
    "* Avoids Floating Points: Uses integer arithmetic throughout via:\n",
    "    * // for integer division\n",
    "    * Multiplicative formula adaptation\n",
    "\n",
    "Comparison to Integer Totient\n",
    "\n",
    "For rational primes p ≡ 3 mod 4 (which remain prime in Gaussian integers):"
   ]
  },
  {
   "cell_type": "code",
   "execution_count": 3,
   "id": "f3b725dc",
   "metadata": {},
   "outputs": [
    {
     "name": "stdout",
     "output_type": "stream",
     "text": [
      "8\n"
     ]
    },
    {
     "ename": "NameError",
     "evalue": "name 'euler_phi' is not defined",
     "output_type": "error",
     "traceback": [
      "\u001b[0;31m---------------------------------------------------------------------------\u001b[0m",
      "\u001b[0;31mNameError\u001b[0m                                 Traceback (most recent call last)",
      "Cell \u001b[0;32mIn[3], line 3\u001b[0m\n\u001b[1;32m      1\u001b[0m \u001b[38;5;66;03m# Prime 3 in integers vs Gaussian integers\u001b[39;00m\n\u001b[1;32m      2\u001b[0m \u001b[38;5;28mprint\u001b[39m(gaussian_totient(GaussInt(\u001b[38;5;241m3\u001b[39m, \u001b[38;5;241m0\u001b[39m)))  \u001b[38;5;66;03m# Output: 8 (3² - 1 = 8)\u001b[39;00m\n\u001b[0;32m----> 3\u001b[0m \u001b[38;5;28mprint\u001b[39m(euler_phi(\u001b[38;5;241m3\u001b[39m))\n",
      "\u001b[0;31mNameError\u001b[0m: name 'euler_phi' is not defined"
     ]
    }
   ],
   "source": [
    "# Prime 3 in integers vs Gaussian integers\n",
    "print(gaussian_totient(GaussInt(3, 0)))  # Output: 8 (3² - 1 = 8)\n",
    "print(euler_phi(3))                     # Output: 2 (standard integer totient) [3]"
   ]
  },
  {
   "cell_type": "markdown",
   "id": "17ee750c",
   "metadata": {},
   "source": [
    "This implementation maintains exact integer results while handling both Gaussian primes and composite Gaussian integers. For cryptographic applications or number theory research requiring Gaussian integers, this provides a precise totient calculation without floating-point inaccuracies."
   ]
  },
  {
   "cell_type": "code",
   "execution_count": null,
   "id": "5d42ecee",
   "metadata": {},
   "outputs": [],
   "source": []
  },
  {
   "cell_type": "code",
   "execution_count": null,
   "id": "65de66ce",
   "metadata": {},
   "outputs": [],
   "source": []
  },
  {
   "cell_type": "code",
   "execution_count": null,
   "id": "06623057",
   "metadata": {},
   "outputs": [],
   "source": []
  },
  {
   "cell_type": "raw",
   "id": "053f69f8",
   "metadata": {},
   "source": [
    "To compute Euler's totient function for Gaussian integers (including Gaussian primes) in Python, we need an implementation that handles Gaussian integer arithmetic and prime factorization. Here's a solution using Python's integers for precision:\n",
    "\n",
    "### Gaussian Integer Totient Function\n",
    "```python\n",
    "from gaussint import GaussInt  # From the Number-Theory-Python repository [6]\n",
    "\n",
    "def gaussian_totient(z):\n",
    "    \"\"\"\n",
    "    Compute Euler's totient function for Gaussian integer z.\n",
    "    Formula: φ(z) = |z|^2 * product(1 - 1/|p|²) for distinct Gaussian primes p dividing z\n",
    "    \"\"\"\n",
    "    if z == GaussInt(0, 0):\n",
    "        raise ValueError(\"Totient undefined for zero\")\n",
    "    \n",
    "    # Factorize into Gaussian primes\n",
    "    factors = {}\n",
    "    for p in z.factors():\n",
    "        p_norm = p.norm()\n",
    "        factors[p_norm] = factors.get(p_norm, 0) + 1\n",
    "    \n",
    "    result = z.norm()\n",
    "    for p_norm, exp in factors.items():\n",
    "        result = result // p_norm  # Integer division\n",
    "        result *= (p_norm - 1)\n",
    "    return result\n",
    "```\n",
    "\n",
    "### Key Features\n",
    "1. **Arbitrary Precision**: Uses Python's native integers for exact calculations with large numbers\n",
    "2. **Gaussian Prime Handling**:\n",
    "   - Works for Gaussian primes (φ(p) = |p|² - 1)\n",
    "   - Handles composite Gaussian integers using multiplicative property[2][4]\n",
    "3. **Efficiency**: Leverages existing factorization from `gaussint.py`\n",
    "\n",
    "### Example Usage\n",
    "```python\n",
    "# Gaussian prime with norm 2\n",
    "p = GaussInt(1, 1)\n",
    "print(gaussian_totient(p))  # Output: 1 (since |p|² - 1 = 2 - 1 = 1) [2]\n",
    "\n",
    "# Composite Gaussian integer (1+i)^2 * (2+i)\n",
    "z = GaussInt(1, 1)**2 * GaussInt(2, 1)\n",
    "print(gaussian_totient(z))  # Output: 8 [2][4]\n",
    "```\n",
    "\n",
    "### Implementation Notes\n",
    "- **Factorization**: Uses `gaussint.factors()` which implements Gaussian prime factorization[6]\n",
    "- **Norm Calculation**: `GaussInt.norm()` returns a² + b² as Python int\n",
    "- **Avoids Floating Points**: Uses integer arithmetic throughout via:\n",
    "  - `//` for integer division\n",
    "  - Multiplicative formula adaptation\n",
    "\n",
    "### Comparison to Integer Totient\n",
    "For rational primes p ≡ 3 mod 4 (which remain prime in Gaussian integers):\n",
    "```python\n",
    "# Prime 3 in integers vs Gaussian integers\n",
    "print(gaussian_totient(GaussInt(3, 0)))  # Output: 8 (3² - 1 = 8)\n",
    "print(euler_phi(3))                     # Output: 2 (standard integer totient) [3]\n",
    "```\n",
    "\n",
    "This implementation maintains exact integer results while handling both Gaussian primes and composite Gaussian integers. For cryptographic applications or number theory research requiring Gaussian integers, this provides a precise totient calculation without floating-point inaccuracies.\n",
    "\n",
    "Citations:\n",
    "[1] https://rosettacode.org/wiki/Totient_function\n",
    "[2] https://en.wikipedia.org/wiki/Gaussian_integer\n",
    "[3] https://en.wikipedia.org/wiki/Euler's_totient_function\n",
    "[4] https://cp-algorithms.com/algebra/phi-function.html\n",
    "[5] https://stackoverflow.com/questions/18114138/computing-eulers-totient-function\n",
    "[6] https://eoinmackall.wordpress.com/2018/10/22/the-euler-phi-function-for-the-gaussian-integers/\n",
    "[7] https://math.stackexchange.com/questions/3811400/euler-totient-function-for-gaussian-integers\n",
    "[8] https://docs.sympy.org/latest/modules/ntheory.html\n",
    "[9] https://github.com/Robert-Campbell-256/Number-Theory-Python/blob/master/Readme.md\n",
    "[10] https://blog.cryptohack.org/tetctf-2021"
   ]
  }
 ],
 "metadata": {
  "kernelspec": {
   "display_name": "Python 3 (ipykernel)",
   "language": "python",
   "name": "python3"
  },
  "language_info": {
   "codemirror_mode": {
    "name": "ipython",
    "version": 3
   },
   "file_extension": ".py",
   "mimetype": "text/x-python",
   "name": "python",
   "nbconvert_exporter": "python",
   "pygments_lexer": "ipython3",
   "version": "3.11.5"
  }
 },
 "nbformat": 4,
 "nbformat_minor": 5
}
