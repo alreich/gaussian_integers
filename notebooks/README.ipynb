{
 "cells": [
  {
   "cell_type": "markdown",
   "id": "9b21f400",
   "metadata": {},
   "source": [
    "# Gaussian Integers and Gaussian Rational Numbers"
   ]
  },
  {
   "cell_type": "markdown",
   "id": "4290c676",
   "metadata": {},
   "source": [
    "This module defines two classes, **Zi** and **Qi**, the Gaussian integers and Gaussian rational numbers, respectively.\n",
    "\n",
    "Mathematically, the integers are denoted by $\\mathbb{Z}$, the rational numbers by $\\mathbb{Q}$, the real numbers by $\\mathbb{R}$, and the complex numbers by $\\mathbb{C}$.\n",
    "\n",
    "$\\mathbb{C} = \\lbrace a + bi: a, b \\in \\mathbb{R} \\rbrace$ where $i^2 = -1$.\n",
    "\n",
    "The **Gaussian integers** are denoted by $\\mathbb{Z}[i] = \\lbrace n + mi: n, m \\in \\mathbb{Z} \\rbrace \\subset \\mathbb{C}$,\n",
    "\n",
    "and the **Gaussian rationals** are denoted by $\\mathbb{Q}[i] = \\lbrace r + si: r, s \\in \\mathbb{Q} \\rbrace \\subset \\mathbb{C}$."
   ]
  },
  {
   "cell_type": "markdown",
   "id": "d464eb7a",
   "metadata": {},
   "source": [
    "NOTE:\n",
    "\n",
    "* Python uses $j$ instead of $i$ to represent complex numbers\n",
    "* Although, both **Zi** and **Qi** are subclasses of **numbers.Complex**, and $\\mathbb{Z}[i] \\subset \\mathbb{Q}[i] \\subset \\mathbb{C}$, the class **Zi** is **not** a subclass of the class **Qi**."
   ]
  },
  {
   "cell_type": "markdown",
   "id": "7a748061",
   "metadata": {},
   "source": [
    "Just for run, the following figure is a plot of Gaussian integers, Gaussian primes, and non-Gaussian primes.\n",
    "\n",
    "Following the figure is an introduction to the functionality of the Zi & Qi classes."
   ]
  },
  {
   "cell_type": "markdown",
   "id": "065b9f43",
   "metadata": {},
   "source": [
    "![alt text](https://github.com/alreich/gaussian_integers/blob/main/gaussian_integers_plot.png?raw=true)"
   ]
  },
  {
   "cell_type": "markdown",
   "id": "c951982a",
   "metadata": {},
   "source": [
    "# Gaussian Integers"
   ]
  },
  {
   "cell_type": "code",
   "execution_count": 1,
   "id": "5619b19a",
   "metadata": {},
   "outputs": [],
   "source": [
    ">>> from gaussians import Zi, Qi"
   ]
  },
  {
   "cell_type": "markdown",
   "id": "09868ef7",
   "metadata": {},
   "source": [
    "Both Zi & Qi are imported, above, because some operations on Gaussian integers result in Gaussian rationals (e.g., division)."
   ]
  },
  {
   "cell_type": "markdown",
   "id": "1273caea",
   "metadata": {},
   "source": [
    "## Instantiating Gaussian Integers"
   ]
  },
  {
   "cell_type": "markdown",
   "id": "f24731fa",
   "metadata": {},
   "source": [
    "* In general, the constructor is, *Zi(a, b)*, where *a* and *b* are integers or floats; floats are rounded\n",
    "* *Zi() = Zi(0) = Zi(0, 0)* $\\equiv 0$\n",
    "* If *a* is an integer or float, then *Zi(a) = Zi(round(a), 0)*\n",
    "* If *a* is complex, then *Zi(a) = Zi(a, _) = Zi(round(a.real), round(a.imag))*; a second argument is ignored\n",
    "* *eye*, *two*, and *units* are static methods that produce, respectively, *Zi(0, 1)* $\\equiv i$, *Zi(1, 1)*, and the set *{1, -1, i, -i}*\n",
    "  * Note: Zi(1, 1) $\\equiv 1+i$, and has norm 2. Any Gaussian integer with an even norm is divisible by $1+i$"
   ]
  },
  {
   "cell_type": "markdown",
   "id": "a76f4cb6",
   "metadata": {},
   "source": [
    "### Examples"
   ]
  },
  {
   "cell_type": "code",
   "execution_count": 2,
   "id": "0ac39e7b",
   "metadata": {},
   "outputs": [
    {
     "name": "stdout",
     "output_type": "stream",
     "text": [
      "z = Zi(2, -3)\n",
      "z = (2-3j)\n"
     ]
    }
   ],
   "source": [
    ">>> z = Zi(2, -3)\n",
    ">>> print(f\"{z = }\")\n",
    ">>> print(f\"z = {z}\")  # printed/string representations are same as usual Python complex numbers"
   ]
  },
  {
   "cell_type": "code",
   "execution_count": 3,
   "id": "9bd2bbc8",
   "metadata": {},
   "outputs": [
    {
     "name": "stdout",
     "output_type": "stream",
     "text": [
      " zero = Zi(0)    = 0\n",
      "  one = Zi(1)    = 1\n",
      "  two = Zi(1, 1) = (1+1j)\n",
      "    i = Zi(0, 1) = 1j\n",
      "units = [Zi(1), Zi(-1), Zi(0, 1), Zi(0, -1)]\n"
     ]
    }
   ],
   "source": [
    ">>> zero = Zi()       ; print(f\"{ zero = }    = {zero}\")\n",
    ">>> one  = Zi(1)      ; print(f\"{  one = }    = {one}\")\n",
    "\n",
    ">>> two   = Zi.two()  ; print(f\"{  two = } = {two}\")  # norm = 2\n",
    ">>> i     = Zi.eye()  ; print(f\"{    i = } = {i}\")\n",
    ">>> units = Zi.units(); print(f\"{units = }\")"
   ]
  },
  {
   "cell_type": "code",
   "execution_count": 4,
   "id": "5ec06e4d",
   "metadata": {},
   "outputs": [
    {
     "name": "stdout",
     "output_type": "stream",
     "text": [
      "a = Zi(2, -3) = (2-3j)\n",
      "b = Zi(-3, 5) = (-3+5j)\n"
     ]
    }
   ],
   "source": [
    ">>> a = Zi(2-3j); print(f\"{a = } = {a}\")  # Zi created from a single complex argument\n",
    ">>> b = Zi(-2.8, 5.2); print(f\"{b = } = {b}\") # floats are rounded"
   ]
  },
  {
   "cell_type": "markdown",
   "id": "57ce3f82",
   "metadata": {},
   "source": [
    "## Properties of Gaussian Integers"
   ]
  },
  {
   "cell_type": "markdown",
   "id": "ed36a6de",
   "metadata": {},
   "source": [
    "The usual properties of complex numbers are also supported for Gaussian integers:\n",
    "\n",
    "* real part\n",
    "* imaginary part\n",
    "* conjugate\n",
    "* norm"
   ]
  },
  {
   "cell_type": "markdown",
   "id": "52932d48",
   "metadata": {},
   "source": [
    "### Examples"
   ]
  },
  {
   "cell_type": "code",
   "execution_count": 5,
   "id": "dccc47d4",
   "metadata": {},
   "outputs": [
    {
     "name": "stdout",
     "output_type": "stream",
     "text": [
      "z = Zi(2, -3)\n",
      "z.real = 2\n",
      "z.imag = -3\n",
      "z.conjugate = Zi(2, 3)\n",
      "z.norm = 13\n",
      "z.is_unit = False\n"
     ]
    }
   ],
   "source": [
    ">>> print(f\"{z = }\")\n",
    "\n",
    ">>> print(f\"{z.real = }\")\n",
    ">>> print(f\"{z.imag = }\")\n",
    ">>> print(f\"{z.conjugate = }\")\n",
    ">>> print(f\"{z.norm = }\")\n",
    ">>> print(f\"{z.is_unit = }\")"
   ]
  },
  {
   "cell_type": "markdown",
   "id": "a48ffcc6",
   "metadata": {},
   "source": [
    "## Univariate Functions of Gaussian Integers"
   ]
  },
  {
   "cell_type": "markdown",
   "id": "3a651203",
   "metadata": {},
   "source": [
    "The following operations can be performed on a Gaussian integer:\n",
    "\n",
    "* compute absolute value\n",
    "* convert to string\n",
    "* convert to standard Python complex number\n",
    "* negate"
   ]
  },
  {
   "cell_type": "markdown",
   "id": "ed7c59e2",
   "metadata": {},
   "source": [
    "### Examples"
   ]
  },
  {
   "cell_type": "code",
   "execution_count": 6,
   "id": "438e0e36",
   "metadata": {},
   "outputs": [
    {
     "name": "stdout",
     "output_type": "stream",
     "text": [
      "abs(z) = 3.605551275463989\n",
      "str(z) = '(2-3j)'\n",
      "complex(z) = (2-3j)\n",
      "-z = Zi(-2, 3)\n"
     ]
    }
   ],
   "source": [
    ">>> print(f\"{abs(z) = }\")\n",
    ">>> print(f\"{str(z) = }\")\n",
    ">>> print(f\"{complex(z) = }\")\n",
    ">>> print(f\"{-z = }\")"
   ]
  },
  {
   "cell_type": "markdown",
   "id": "b6606403",
   "metadata": {},
   "source": [
    "## Arithmetic"
   ]
  },
  {
   "cell_type": "markdown",
   "id": "3316951a",
   "metadata": {},
   "source": [
    "Most of the usual arithmetic operations that can be performed on complex number are supported, such as infix operators and in-place assignment operators.\n",
    "\n",
    "Additionally, the arithmetic of Gaussian integers can be mixed with standard Python numbers (integers, floats, complex)."
   ]
  },
  {
   "cell_type": "markdown",
   "id": "56a000c5",
   "metadata": {},
   "source": [
    "### Examples"
   ]
  },
  {
   "cell_type": "markdown",
   "id": "65c6f2b3",
   "metadata": {},
   "source": [
    "The following infix operators are supported: ``+``, ``-``, ``*``, ``**``, ``/``, ``//``, ``%``"
   ]
  },
  {
   "cell_type": "code",
   "execution_count": 7,
   "id": "cb65b5d2",
   "metadata": {},
   "outputs": [
    {
     "name": "stdout",
     "output_type": "stream",
     "text": [
      "a + b = Zi(5, 8)\n",
      "a - b = Zi(3, 12)\n",
      "a * b = Zi(24, 2)\n",
      "a / b = Qi('-16/5', '18/5')\n",
      "c / b = Zi(4, 10)\n",
      "a // b = Zi(-3, 4)\n",
      "c % b = Zi(0)\n",
      "a**2 = Zi(-84, 80)\n",
      "a**0 = Zi(1)\n",
      "a**-1 = Qi('1/29', '-5/58')\n",
      "i**-1 = Zi(0, -1)\n"
     ]
    }
   ],
   "source": [
    ">>> a = Zi(4, 10)\n",
    ">>> b = Zi(1, -2)\n",
    ">>> c = a * b\n",
    "\n",
    ">>> print(f\"{a + b = }\")\n",
    ">>> print(f\"{a - b = }\")\n",
    ">>> print(f\"{a * b = }\")\n",
    ">>> print(f\"{a / b = }\")  # In general, truediv will return a Gaussian rational,\n",
    ">>> print(f\"{c / b = }\")  #     unless b | c, in which case, a Zi is returned.\n",
    ">>> print(f\"{a // b = }\")  # floordiv uses round instead of floor.\n",
    ">>> print(f\"{c % b = }\")\n",
    ">>> print(f\"{a**2 = }\")\n",
    ">>> print(f\"{a**0 = }\")\n",
    ">>> print(f\"{a**-1 = }\")  # This will yield a Gaussian rational, except for units\n",
    ">>> print(f\"{i**-1 = }\")  # 1/i = -i"
   ]
  },
  {
   "cell_type": "markdown",
   "id": "7bd69f11",
   "metadata": {},
   "source": [
    "Mixed integer and Gaussian integer arithmetic is supported."
   ]
  },
  {
   "cell_type": "code",
   "execution_count": 8,
   "id": "4d1b1ebc",
   "metadata": {},
   "outputs": [
    {
     "name": "stdout",
     "output_type": "stream",
     "text": [
      "a + 2 = Zi(6, 10)\n",
      "a - 2 = Zi(2, 10)\n",
      "a * 2 = Zi(8, 20)\n",
      "a / 2 = Zi(2, 5)\n",
      "\n",
      "2 + a = Zi(6, 10)\n",
      "2 - a = Zi(-2, -10)\n",
      "2 * a = Zi(8, 20)\n",
      "2 / a = Qi('2/29', '-5/29')\n"
     ]
    }
   ],
   "source": [
    ">>> print(f\"{a + 2 = }\")\n",
    ">>> print(f\"{a - 2 = }\")\n",
    ">>> print(f\"{a * 2 = }\")\n",
    ">>> print(f\"{a / 2 = }\\n\")\n",
    "\n",
    ">>> print(f\"{2 + a = }\")\n",
    ">>> print(f\"{2 - a = }\")\n",
    ">>> print(f\"{2 * a = }\")\n",
    ">>> print(f\"{2 / a = }\")"
   ]
  },
  {
   "cell_type": "markdown",
   "id": "aa62d074",
   "metadata": {},
   "source": [
    "Mixed float point and Gaussian integer arithmetic is supported. Floats are rounded before being used."
   ]
  },
  {
   "cell_type": "code",
   "execution_count": 9,
   "id": "41bfe5cf",
   "metadata": {},
   "outputs": [
    {
     "name": "stdout",
     "output_type": "stream",
     "text": [
      "a + 2.1 = Zi(6, 10)\n",
      "a - 2.1 = Zi(2, 10)\n",
      "a * 2.1 = Zi(8, 20)\n",
      "a / 2.1 = Qi('40/21', '100/21')\n",
      "\n",
      "2.1 + a = Zi(6, 10)\n",
      "2.1 - a = Zi(-2, -10)\n",
      "2.1 * a = Zi(8, 20)\n",
      "2.1 / a = Qi('21/290', '-21/116')\n"
     ]
    }
   ],
   "source": [
    ">>> print(f\"{a + 2.1 = }\")\n",
    ">>> print(f\"{a - 2.1 = }\")\n",
    ">>> print(f\"{a * 2.1 = }\")\n",
    ">>> print(f\"{a / 2.1 = }\\n\")\n",
    "\n",
    ">>> print(f\"{2.1 + a = }\")\n",
    ">>> print(f\"{2.1 - a = }\")\n",
    ">>> print(f\"{2.1 * a = }\")\n",
    ">>> print(f\"{2.1 / a = }\")"
   ]
  },
  {
   "cell_type": "markdown",
   "id": "deb3b741",
   "metadata": {},
   "source": [
    "Mixed complex number and Gaussian integer arithmetic is supported. Floats are rounded before being used."
   ]
  },
  {
   "cell_type": "code",
   "execution_count": 10,
   "id": "251d0ce8",
   "metadata": {},
   "outputs": [
    {
     "name": "stdout",
     "output_type": "stream",
     "text": [
      "a + two = Zi(5, 6)\n",
      "a - two = Zi(3, 14)\n",
      "a * two = Zi(44, -6)\n",
      "a / two = Qi('-1730/821', '1330/821')\n",
      "\n",
      "two + a = Zi(5, 6)\n",
      "two - a = Zi(-3, -14)\n",
      "two * a = Zi(44, -6)\n",
      "two / a = Qi('-173/580', '-133/580')\n"
     ]
    }
   ],
   "source": [
    ">>> two = 1.1-3.9j\n",
    "\n",
    ">>> print(f\"{a + two = }\")\n",
    ">>> print(f\"{a - two = }\")\n",
    ">>> print(f\"{a * two = }\")\n",
    ">>> print(f\"{a / two = }\\n\")\n",
    "\n",
    ">>> print(f\"{two + a = }\")\n",
    ">>> print(f\"{two - a = }\")\n",
    ">>> print(f\"{two * a = }\")\n",
    ">>> print(f\"{two / a = }\")"
   ]
  },
  {
   "cell_type": "code",
   "execution_count": 11,
   "id": "39bff417",
   "metadata": {},
   "outputs": [
    {
     "name": "stdout",
     "output_type": "stream",
     "text": [
      "a + two = Zi(5, 6)\n",
      "a - two = Zi(3, 14)\n",
      "a * two = Zi(44, -6)\n",
      "a / two = Qi('-36/17', '26/17')\n",
      "\n",
      "two + a = Zi(5, 6)\n",
      "two - a = Zi(-3, -14)\n",
      "two * a = Zi(44, -6)\n",
      "two / a = Qi('-9/29', '-13/58')\n"
     ]
    }
   ],
   "source": [
    ">>> two = 1-4j\n",
    "\n",
    ">>> print(f\"{a + two = }\")\n",
    ">>> print(f\"{a - two = }\")\n",
    ">>> print(f\"{a * two = }\")\n",
    ">>> print(f\"{a / two = }\\n\")\n",
    "\n",
    ">>> print(f\"{two + a = }\")\n",
    ">>> print(f\"{two - a = }\")\n",
    ">>> print(f\"{two * a = }\")\n",
    ">>> print(f\"{two / a = }\")"
   ]
  },
  {
   "cell_type": "markdown",
   "id": "373aa97a",
   "metadata": {},
   "source": [
    "In-place assignment operators, ``+=``, ``-=``, and ``*=`` are also supported.\n",
    "\n",
    "Here's an example that uses ``+=``:"
   ]
  },
  {
   "cell_type": "code",
   "execution_count": 12,
   "id": "34a3046b",
   "metadata": {},
   "outputs": [
    {
     "name": "stdout",
     "output_type": "stream",
     "text": [
      "10 (10+10j)\n"
     ]
    }
   ],
   "source": [
    ">>> zi_sum = Zi()\n",
    ">>> int_sum = 0\n",
    "\n",
    ">>> for k in range(5):\n",
    ">>>     int_sum += k\n",
    ">>>     zi_sum  += Zi(k, k)\n",
    "\n",
    ">>> print(int_sum, zi_sum)"
   ]
  },
  {
   "cell_type": "markdown",
   "id": "352e5c85",
   "metadata": {},
   "source": [
    "## Number Theory with Gaussian Integers"
   ]
  },
  {
   "cell_type": "markdown",
   "id": "6ab7ac44",
   "metadata": {},
   "source": [
    "Many of the algorithms and examples, below, are from [\"The Gaussian Integers\"](https://kconrad.math.uconn.edu/blurbs/ugradnumthy/Zinotes.pdf) by Keith Conrad"
   ]
  },
  {
   "cell_type": "markdown",
   "id": "0e15eeeb",
   "metadata": {},
   "source": [
    "### The Modified Division Theorem\n",
    "\n",
    "For $\\alpha, \\beta \\in \\mathbb{Z}[i]$ with $\\beta \\ne 0$, there are $\\gamma, \\rho \\in \\mathbb{Z}[i]$ such that $\\alpha = \\beta \\gamma + \\rho$ and $N(\\rho) \\le (1/2)N(\\beta)$."
   ]
  },
  {
   "cell_type": "code",
   "execution_count": 13,
   "id": "2c49e6c4",
   "metadata": {},
   "outputs": [
    {
     "name": "stdout",
     "output_type": "stream",
     "text": [
      "Help on function modified_divmod in module gaussians:\n",
      "\n",
      "modified_divmod(a, b)\n",
      "    The divmod algorithm, modified for Gaussian integers.\n",
      "    \n",
      "    Returns q & r, such that a = b * q + r, where\n",
      "    r.norm < b.norm / 2. This is the Modified Division\n",
      "    Theorem described in 'The Gaussian Integers' by Keith Conrad\n",
      "\n"
     ]
    }
   ],
   "source": [
    ">>> help(Zi.modified_divmod)"
   ]
  },
  {
   "cell_type": "markdown",
   "id": "f1a16b49",
   "metadata": {},
   "source": [
    "**Example**"
   ]
  },
  {
   "cell_type": "code",
   "execution_count": 14,
   "id": "094a08d0",
   "metadata": {},
   "outputs": [
    {
     "name": "stdout",
     "output_type": "stream",
     "text": [
      "(27-23j) = (8+1j) * (3-3j) + -2j\n",
      "\n",
      "N(-2j) = 4 and (1/2)*N((8+1j)) = 32.5\n"
     ]
    }
   ],
   "source": [
    ">>> alpha = Zi(27, -23)\n",
    ">>> beta = Zi(8, 1)\n",
    "\n",
    ">>> gamma, rho = Zi.modified_divmod(alpha, beta)\n",
    "\n",
    ">>> print(f\"{beta * gamma + rho} = {beta} * {gamma} + {rho}\")\n",
    "\n",
    ">>> print(f\"\\nN({rho}) = {rho.norm} and (1/2)*N({beta}) = {(1/2) * beta.norm}\")"
   ]
  },
  {
   "cell_type": "markdown",
   "id": "20d81058",
   "metadata": {},
   "source": [
    "### Greatest Common Divisor (GCD)\n",
    "\n",
    "**The Euclidean Algorithm**"
   ]
  },
  {
   "cell_type": "markdown",
   "id": "1a2ab26e",
   "metadata": {},
   "source": [
    "Let $\\alpha, \\beta \\in \\mathbb{Z}[i]$ be non-zero, then we can recursively apply the Division Theorem to obtain the Greatest Common Divisor (GCD) of $\\alpha$ and $\\beta$."
   ]
  },
  {
   "cell_type": "code",
   "execution_count": 15,
   "id": "4ec6accc",
   "metadata": {},
   "outputs": [
    {
     "name": "stdout",
     "output_type": "stream",
     "text": [
      "Help on function gcd in module gaussians:\n",
      "\n",
      "gcd(a, b, verbose=False)\n",
      "    A gcd algorithm for Gaussian integers.\n",
      "    Returns the greatest common divisor of a & b.\n",
      "    \n",
      "    This function implements the Euclidean algorithm for Gaussian integers.\n",
      "\n"
     ]
    }
   ],
   "source": [
    ">>> help(Zi.gcd)"
   ]
  },
  {
   "cell_type": "markdown",
   "id": "cde37588",
   "metadata": {},
   "source": [
    "**Example**"
   ]
  },
  {
   "cell_type": "code",
   "execution_count": 16,
   "id": "a4a2d478",
   "metadata": {},
   "outputs": [
    {
     "name": "stdout",
     "output_type": "stream",
     "text": [
      "   (11+3j) = (1+8j) * (1-1j) + (2-4j)\n",
      "   (1+8j) = (2-4j) * (-2+1j) + (1-2j)\n",
      "   (2-4j) = (1-2j) * 2 + 0\n",
      "\n",
      "gcd((11+3j), (1+8j)) -> (1-2j)\n"
     ]
    }
   ],
   "source": [
    ">>> alpha = Zi(11, 3)\n",
    ">>> beta = Zi(1, 8)\n",
    "\n",
    ">>> gcd = Zi.gcd(alpha, beta, verbose=True)  # Prints intermediate results\n",
    "\n",
    ">>> print(f\"\\ngcd({alpha}, {beta}) -> {gcd}\")"
   ]
  },
  {
   "cell_type": "markdown",
   "id": "fa0784c5",
   "metadata": {},
   "source": [
    "### The Extended Euclidean Algorithm (xGCD)\n",
    "\n",
    "**Bezout's Theorem**"
   ]
  },
  {
   "cell_type": "markdown",
   "id": "be7a9ec5",
   "metadata": {},
   "source": [
    "Let $\\delta$ be the GCD of $\\alpha, \\beta \\in \\mathbb{Z}[i]$, then $\\delta = \\alpha x + \\beta y$ for some $x, y \\in \\mathbb{Z}[i]$."
   ]
  },
  {
   "cell_type": "code",
   "execution_count": 17,
   "id": "88ce88df",
   "metadata": {},
   "outputs": [
    {
     "name": "stdout",
     "output_type": "stream",
     "text": [
      "Help on function xgcd in module gaussians:\n",
      "\n",
      "xgcd(alpha, beta)\n",
      "    The Extended Euclidean Algorithm for Gaussian Integers.\n",
      "    \n",
      "    Three values are returned: gcd, x, & y, such that\n",
      "    the Greatest Common Divisor (gcd) of alpha & beta can be\n",
      "    written as gcd = alpha * x + beta * y. x & y are called\n",
      "    Bézout's coefficients.\n",
      "\n"
     ]
    }
   ],
   "source": [
    ">>> help(Zi.xgcd)"
   ]
  },
  {
   "cell_type": "markdown",
   "id": "94b9d8b5",
   "metadata": {},
   "source": [
    "**Example**"
   ]
  },
  {
   "cell_type": "code",
   "execution_count": 18,
   "id": "47996026",
   "metadata": {},
   "outputs": [
    {
     "name": "stdout",
     "output_type": "stream",
     "text": [
      "alpha = (11+3j) and beta = (1+8j)\n",
      "delta = (1-2j), x = (2-1j), and y = 3j\n",
      "\n",
      "==> (1-2j) = (11+3j) * (2-1j) + (1+8j) * 3j\n",
      "\n",
      "  Note: gcd((11+3j),(1+8j)) = (1-2j)\n"
     ]
    }
   ],
   "source": [
    ">>> delta, x, y = Zi.xgcd(alpha, beta)  # Use alpha & beta from above\n",
    "\n",
    ">>> print(f\"alpha = {alpha} and beta = {beta}\")\n",
    ">>> print(f\"delta = {delta}, x = {x}, and y = {y}\\n\")\n",
    ">>> print(f\"==> {alpha * x  + beta * y} = {alpha} * {x} + {beta} * {y}\")\n",
    "\n",
    ">>> print(f\"\\n  Note: gcd({alpha},{beta}) = {Zi.gcd(alpha, beta)}\")"
   ]
  },
  {
   "cell_type": "markdown",
   "id": "d0c5ad85",
   "metadata": {},
   "source": [
    "### True Division"
   ]
  },
  {
   "cell_type": "markdown",
   "id": "126bdb99",
   "metadata": {},
   "source": [
    "Let $\\alpha, \\beta \\in \\mathbb{Z}[i]$. If $\\beta \\mid \\alpha$ then $\\alpha / \\beta \\in \\mathbb{Z}[i]$, otherwise $\\alpha / \\beta \\in \\mathbb{Q}[i]$"
   ]
  },
  {
   "cell_type": "markdown",
   "id": "4bca4740",
   "metadata": {},
   "source": [
    "**Examples**"
   ]
  },
  {
   "cell_type": "code",
   "execution_count": 19,
   "id": "dc91f3bd",
   "metadata": {},
   "outputs": [
    {
     "name": "stdout",
     "output_type": "stream",
     "text": [
      "alpha / beta = Qi('-6/5', '13/5')\n",
      "\n",
      "(4+5j) / (1-2j) -> (-6/5+13/5j)\n"
     ]
    }
   ],
   "source": [
    ">>> alpha = Zi(4, 5)\n",
    ">>> beta = Zi(1, -2)\n",
    "\n",
    ">>> print(f\"{alpha / beta = }\\n\")\n",
    ">>> print(f\"{alpha} / {beta} -> {alpha / beta}\")"
   ]
  },
  {
   "cell_type": "code",
   "execution_count": 20,
   "id": "db2cac6e",
   "metadata": {},
   "outputs": [
    {
     "data": {
      "text/plain": [
       "(-1.2-2.6j)"
      ]
     },
     "execution_count": 20,
     "metadata": {},
     "output_type": "execute_result"
    }
   ],
   "source": [
    ">>> (-6/5+13/5j)"
   ]
  },
  {
   "cell_type": "markdown",
   "id": "b88a66bc",
   "metadata": {},
   "source": [
    "### Congruence Modulo"
   ]
  },
  {
   "cell_type": "markdown",
   "id": "75afec0d",
   "metadata": {},
   "source": [
    "Let $\\alpha, \\beta, \\gamma \\in \\mathbb{Z}[i]$. If $\\gamma \\ \\vert \\ (\\alpha - \\beta)$, then we say that \"$\\alpha$ is congruent to $\\beta$ modulo $\\gamma$\", written as $\\alpha \\equiv \\beta \\text{ mod } \\gamma$."
   ]
  },
  {
   "cell_type": "code",
   "execution_count": 21,
   "id": "3c652736",
   "metadata": {},
   "outputs": [
    {
     "name": "stdout",
     "output_type": "stream",
     "text": [
      "Help on function congruent_modulo in module gaussians:\n",
      "\n",
      "congruent_modulo(a, b, c)\n",
      "    This method returns two values: The first value is True or False,\n",
      "    depending on whether x is congruent to y modulo z;\n",
      "    the second value is result of computing (a - b) / c.\n",
      "\n"
     ]
    }
   ],
   "source": [
    ">>> help(Zi.congruent_modulo)"
   ]
  },
  {
   "cell_type": "markdown",
   "id": "f7a9f4e6",
   "metadata": {},
   "source": [
    "**Examples**"
   ]
  },
  {
   "cell_type": "code",
   "execution_count": 22,
   "id": "a3d81c98",
   "metadata": {},
   "outputs": [
    {
     "name": "stdout",
     "output_type": "stream",
     "text": [
      "Test Value: ((1+12j) - (2-1j) / (3+1j) -> (1+4j)\n",
      "\n",
      "cong = True\n",
      "test = (1+4j)\n"
     ]
    }
   ],
   "source": [
    ">>> alpha = Zi(1, 12)\n",
    ">>> beta = Zi(2, -1)\n",
    ">>> gamma = Zi(3, 1)\n",
    "\n",
    ">>> print(f\"Test Value: ({alpha} - {beta} / {gamma} -> {(alpha - beta) / gamma}\\n\")\n",
    "\n",
    ">>> cong, test = Zi.congruent_modulo(alpha, beta, gamma)\n",
    "\n",
    ">>> print(f\"cong = {cong}\")\n",
    ">>> print(f\"test = {test}\")"
   ]
  },
  {
   "cell_type": "markdown",
   "id": "98c74131",
   "metadata": {},
   "source": [
    "An example of non-congruence:"
   ]
  },
  {
   "cell_type": "code",
   "execution_count": 23,
   "id": "83f9775a",
   "metadata": {},
   "outputs": [
    {
     "name": "stdout",
     "output_type": "stream",
     "text": [
      "cong = False\n",
      "test = (23/13+41/13j) is not a Zi\n"
     ]
    }
   ],
   "source": [
    ">>> delta = Zi(3, 2)\n",
    ">>> cong, test = Zi.congruent_modulo(alpha, beta, delta)\n",
    ">>> print(f\"cong = {cong}\")\n",
    ">>> print(f\"test = {test} is not a Zi\")"
   ]
  },
  {
   "cell_type": "markdown",
   "id": "ad1bd6f9",
   "metadata": {},
   "source": [
    "### Relatively Prime"
   ]
  },
  {
   "cell_type": "markdown",
   "id": "19f13bfb",
   "metadata": {},
   "source": [
    "Let $\\alpha, \\beta \\in \\mathbb{Z}[i]$. If the only factors $\\alpha$ and $\\beta$ have in common are units (i.e., $1, -1, i, -i$) then they are called *relatively prime*."
   ]
  },
  {
   "cell_type": "code",
   "execution_count": 24,
   "id": "94d543c9",
   "metadata": {},
   "outputs": [
    {
     "name": "stdout",
     "output_type": "stream",
     "text": [
      "Help on function is_relatively_prime in module gaussians:\n",
      "\n",
      "is_relatively_prime(a, b) -> bool\n",
      "    Returns True if a and b are relatively prime, otherwise it returns false.\n",
      "\n"
     ]
    }
   ],
   "source": [
    ">>> help(Zi.is_relatively_prime)"
   ]
  },
  {
   "cell_type": "markdown",
   "id": "dff2d452",
   "metadata": {},
   "source": [
    "**Examples**"
   ]
  },
  {
   "cell_type": "code",
   "execution_count": 25,
   "id": "198abfa1",
   "metadata": {},
   "outputs": [
    {
     "data": {
      "text/plain": [
       "True"
      ]
     },
     "execution_count": 25,
     "metadata": {},
     "output_type": "execute_result"
    }
   ],
   "source": [
    ">>> alpha = Zi(4, 5)\n",
    ">>> alpha_conj  = alpha.conjugate\n",
    "\n",
    ">>> Zi.is_relatively_prime(alpha, alpha_conj)"
   ]
  },
  {
   "cell_type": "code",
   "execution_count": 26,
   "id": "07eeeef1",
   "metadata": {},
   "outputs": [
    {
     "data": {
      "text/plain": [
       "False"
      ]
     },
     "execution_count": 26,
     "metadata": {},
     "output_type": "execute_result"
    }
   ],
   "source": [
    ">>> alpha = Zi(11, 3)\n",
    ">>> beta = Zi(1, 8)\n",
    "\n",
    ">>> Zi.is_relatively_prime(alpha, beta)"
   ]
  },
  {
   "cell_type": "markdown",
   "id": "9a7df27a",
   "metadata": {},
   "source": [
    "### Gaussian Primes"
   ]
  },
  {
   "cell_type": "markdown",
   "id": "8fc75f1a",
   "metadata": {},
   "source": [
    "See [this link for a definition](https://en.wikipedia.org/wiki/Gaussian_integer#Gaussian_primes) of a Gaussian prime, and see [this link for the algorithm](https://mathworld.wolfram.com/GaussianPrime.html) used here to determine whether a Gaussian integer is prime or not."
   ]
  },
  {
   "cell_type": "code",
   "execution_count": 27,
   "id": "e90a11bb",
   "metadata": {},
   "outputs": [
    {
     "name": "stdout",
     "output_type": "stream",
     "text": [
      "Help on function is_gaussian_prime in module gaussians:\n",
      "\n",
      "is_gaussian_prime(x) -> bool\n",
      "    Return True if x is a Gaussian prime.  Otherwise, return False.\n",
      "    x can be an integer or a Gaussian integer.\n",
      "    \n",
      "    See https://mathworld.wolfram.com/GaussianPrime.html\n",
      "\n"
     ]
    }
   ],
   "source": [
    ">>> help(Zi.is_gaussian_prime)"
   ]
  },
  {
   "cell_type": "markdown",
   "id": "bc8fd445",
   "metadata": {},
   "source": [
    "**Examples**"
   ]
  },
  {
   "cell_type": "code",
   "execution_count": 28,
   "id": "672d85a3",
   "metadata": {},
   "outputs": [
    {
     "name": "stdout",
     "output_type": "stream",
     "text": [
      "Is (11+3j) a Gaussian prime? False\n",
      "Is (1+8j) a Gaussian prime? False\n",
      "Is (3+1j) a Gaussian prime? False\n",
      "Is 2 a Gaussian prime? False\n",
      "Is 3 a Gaussian prime? True\n",
      "Is 5 a Gaussian prime? False\n",
      "Is 7 a Gaussian prime? True\n",
      "Is 2j a Gaussian prime? False\n",
      "Is 3j a Gaussian prime? True\n"
     ]
    }
   ],
   "source": [
    ">>> gints = [alpha, beta, gamma, Zi(2, 0), Zi(3, 0), Zi(5, 0), Zi(7, 0), Zi(0, 2), Zi(0, 3)]\n",
    "\n",
    ">>> for gi in gints:\n",
    ">>>     print(f\"Is {gi} a Gaussian prime? {Zi.is_gaussian_prime(gi)}\")"
   ]
  },
  {
   "cell_type": "markdown",
   "id": "ce9c3bb2",
   "metadata": {},
   "source": [
    "## Miscellaneous"
   ]
  },
  {
   "cell_type": "markdown",
   "id": "9d099bac",
   "metadata": {},
   "source": [
    "In addition, the following methods are supported. See the respective doc strings for more information.\n",
    "\n",
    "* **random** -- Returns a random Gaussian integer\n",
    "* **associates** -- Returns the three associates of a given Gaussian integer\n",
    "* **is_associate** -- Returns True if two Gaussian integers are associates\n",
    "* **to_gaussian_rational** -- Converts a Gaussian integer to an equivalent Gaussian rational\n",
    "* **norms_divide** -- Returns True if one of two Gaussian integers evenly divides the other\n",
    "* **from_array** -- Returns a Gaussian integer constructed from a two-element array"
   ]
  },
  {
   "cell_type": "markdown",
   "id": "51f60980",
   "metadata": {},
   "source": [
    "## Gaussian Rationals"
   ]
  },
  {
   "cell_type": "markdown",
   "id": "13cd3590",
   "metadata": {},
   "source": [
    "The implementation of the class of Gaussian rationals, ``Qi``, has constructors, accessors, and arithmetic that is similar to those of the class of Gaussian integers, ``Zi``.\n",
    "\n",
    "So, only the additions and differences are documented below."
   ]
  },
  {
   "cell_type": "markdown",
   "id": "93acefa8",
   "metadata": {},
   "source": [
    "The class ``Qi`` is implemented as a pair of [fractions.Fraction](https://docs.python.org/3/library/fractions.html)."
   ]
  },
  {
   "cell_type": "code",
   "execution_count": 29,
   "id": "6df6cd2e",
   "metadata": {},
   "outputs": [
    {
     "name": "stdout",
     "output_type": "stream",
     "text": [
      "r = Qi('2', '17/5')\n",
      "s = Qi('2/3', '-1/7')\n"
     ]
    }
   ],
   "source": [
    ">>> r = Qi(2, 3.4)\n",
    ">>> s = Qi(\"4/6\", \"-1/7\")\n",
    "\n",
    ">>> print(f\"{r = }\")\n",
    ">>> print(f\"{s = }\")"
   ]
  },
  {
   "cell_type": "markdown",
   "id": "7f1b6389",
   "metadata": {},
   "source": [
    "### Inverses"
   ]
  },
  {
   "cell_type": "code",
   "execution_count": 30,
   "id": "ee01f6d5",
   "metadata": {},
   "outputs": [
    {
     "name": "stdout",
     "output_type": "stream",
     "text": [
      "r_inv = Qi('50/389', '-85/389')\n"
     ]
    }
   ],
   "source": [
    ">>> r_inv = r.inverse\n",
    "\n",
    ">>> print(f\"{r_inv = }\")"
   ]
  },
  {
   "cell_type": "code",
   "execution_count": 31,
   "id": "f3e6d367",
   "metadata": {},
   "outputs": [
    {
     "name": "stdout",
     "output_type": "stream",
     "text": [
      "r * r_inv = Zi(1) = 1\n"
     ]
    }
   ],
   "source": [
    ">>> print(f\"{r * r_inv = } = {r * r_inv}\")"
   ]
  },
  {
   "cell_type": "markdown",
   "id": "7fc75786",
   "metadata": {},
   "source": [
    "### String to Rational"
   ]
  },
  {
   "cell_type": "markdown",
   "id": "2f943e72",
   "metadata": {},
   "source": [
    "The static method, ``Qi.string_to_rational``, parses a valid Gaussian rational string and returns the cooresponding ``Qi`` instance."
   ]
  },
  {
   "cell_type": "code",
   "execution_count": 32,
   "id": "dc3e5ef4",
   "metadata": {},
   "outputs": [
    {
     "data": {
      "text/plain": [
       "'(1/2-3/5j)'"
      ]
     },
     "execution_count": 32,
     "metadata": {},
     "output_type": "execute_result"
    }
   ],
   "source": [
    ">>> str(Qi('1/2', '-3/5'))"
   ]
  },
  {
   "cell_type": "code",
   "execution_count": 33,
   "id": "bda7788b",
   "metadata": {},
   "outputs": [
    {
     "data": {
      "text/plain": [
       "Qi('1/2', '-3/5')"
      ]
     },
     "execution_count": 33,
     "metadata": {},
     "output_type": "execute_result"
    }
   ],
   "source": [
    ">>> Qi.string_to_rational('(1/2-3/5j)')"
   ]
  }
 ],
 "metadata": {
  "kernelspec": {
   "display_name": "Python 3 (ipykernel)",
   "language": "python",
   "name": "python3"
  },
  "language_info": {
   "codemirror_mode": {
    "name": "ipython",
    "version": 3
   },
   "file_extension": ".py",
   "mimetype": "text/x-python",
   "name": "python",
   "nbconvert_exporter": "python",
   "pygments_lexer": "ipython3",
   "version": "3.11.5"
  }
 },
 "nbformat": 4,
 "nbformat_minor": 5
}
