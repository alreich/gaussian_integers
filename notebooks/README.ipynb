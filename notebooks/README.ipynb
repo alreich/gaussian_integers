{
 "cells": [
  {
   "cell_type": "markdown",
   "id": "9b21f400",
   "metadata": {},
   "source": [
    "# Gaussian Integers and Gaussian Rational Numbers"
   ]
  },
  {
   "cell_type": "markdown",
   "id": "4290c676",
   "metadata": {},
   "source": [
    "This module defines two classes, **Zi** and **Qi**, the Gaussian integers and Gaussian rational numbers, respectively.\n",
    "\n",
    "Mathematically, the integers are denoted by $\\mathbb{Z}$, the rational numbers by $\\mathbb{Q}$, and the complex numbers by $\\mathbb{C}$.\n",
    "\n",
    "$\\mathbb{C} \\equiv \\lbrace a + bi: a, b \\in \\mathbb{R} \\rbrace$ where $\\mathbb{R}$ is the set of real numbers and $i^2 = -1$.\n",
    "\n",
    "The **Gaussian integers** are denoted by $\\mathbb{Z}[i] \\equiv \\lbrace n + mi: n, m \\in \\mathbb{Z} \\rbrace \\subset \\mathbb{C}$,\n",
    "\n",
    "and the **Gaussian rationals** are denoted by $\\mathbb{Q}[i] \\equiv \\lbrace r + si: r, s \\in \\mathbb{Q} \\rbrace \\subset \\mathbb{C}$."
   ]
  },
  {
   "cell_type": "markdown",
   "id": "d464eb7a",
   "metadata": {},
   "source": [
    "NOTE:\n",
    "\n",
    "* Python uses $j$ instead of $i$ to represent complex numbers\n",
    "* Although, both **Zi** and **Qi** are subclasses of **numbers.Complex**, and $\\mathbb{Z}[i] \\subset \\mathbb{Q}[i] \\subset \\mathbb{C}$, the class **Zi** is **not** a subclass of the class **Qi**."
   ]
  },
  {
   "cell_type": "markdown",
   "id": "7a748061",
   "metadata": {},
   "source": [
    "For more information, see the two Jupyter notebooks in the notebooks directory.\n",
    "\n",
    "For a quick look, see the examples following the plot of Gaussian primes, below."
   ]
  },
  {
   "cell_type": "markdown",
   "id": "065b9f43",
   "metadata": {},
   "source": [
    "![alt text](https://github.com/alreich/gaussian_integers/blob/main/gaussian_integers_plot.png?raw=true)"
   ]
  },
  {
   "cell_type": "markdown",
   "id": "c951982a",
   "metadata": {},
   "source": [
    "# Quick Look"
   ]
  },
  {
   "cell_type": "markdown",
   "id": "6ab7ac44",
   "metadata": {},
   "source": [
    "The examples below are from [\"The Gaussian Integers\"](https://kconrad.math.uconn.edu/blurbs/ugradnumthy/Zinotes.pdf) by Keith Conrad"
   ]
  },
  {
   "cell_type": "code",
   "execution_count": 1,
   "id": "5619b19a",
   "metadata": {},
   "outputs": [],
   "source": [
    ">>> from gaussians import Zi, Qi"
   ]
  },
  {
   "cell_type": "markdown",
   "id": "0e15eeeb",
   "metadata": {},
   "source": [
    "## The Modified Division Theorem\n",
    "\n",
    "For $\\alpha, \\beta \\in \\mathbb{Z}[i]$ with $\\beta \\ne 0$, there are $\\gamma, \\rho \\in \\mathbb{Z}[i]$ such that $\\alpha = \\beta \\gamma + \\rho$ and $N(\\rho) \\le (1/2)N(\\beta)$."
   ]
  },
  {
   "cell_type": "code",
   "execution_count": 2,
   "id": "094a08d0",
   "metadata": {},
   "outputs": [
    {
     "name": "stdout",
     "output_type": "stream",
     "text": [
      "(27-23j) = (8+1j) * (3-3j) + -2j\n",
      "\n",
      "N(-2j) = 4 and (1/2)N((8+1j)) = 32.5\n"
     ]
    }
   ],
   "source": [
    ">>> alpha = Zi(27, -23)\n",
    ">>> beta = Zi(8, 1)\n",
    "\n",
    ">>> gamma, rho = Zi.modified_divmod(alpha, beta)\n",
    "\n",
    ">>> print(f\"{beta * gamma + rho} = {beta} * {gamma} + {rho}\")\n",
    "\n",
    ">>> print(f\"\\nN({rho}) = {rho.norm} and (1/2)N({beta}) = {(1/2) * beta.norm}\")"
   ]
  },
  {
   "cell_type": "markdown",
   "id": "20d81058",
   "metadata": {},
   "source": [
    "## The Euclidean Algorithm"
   ]
  },
  {
   "cell_type": "markdown",
   "id": "1a2ab26e",
   "metadata": {},
   "source": [
    "Let $\\alpha, \\beta \\in \\mathbb{Z}[i]$ be non-zero, then we can recursively apply the Division Theorem to obtain the Greatest Common Divisor (GCD) of $\\alpha$ and $\\beta$."
   ]
  },
  {
   "cell_type": "code",
   "execution_count": 3,
   "id": "a4a2d478",
   "metadata": {},
   "outputs": [
    {
     "name": "stdout",
     "output_type": "stream",
     "text": [
      "   (11+3j) = (1+8j) * (1-1j) + (2-4j)\n",
      "   (1+8j) = (2-4j) * (-2+1j) + (1-2j)\n",
      "   (2-4j) = (1-2j) * 2 + 0\n",
      "\n",
      "gcd((11+3j), (1+8j)) -> (1-2j)\n"
     ]
    }
   ],
   "source": [
    ">>> alpha = Zi(11, 3)\n",
    ">>> beta = Zi(1, 8)\n",
    "\n",
    ">>> gcd = Zi.gcd(alpha, beta, verbose=True)  # Prints intermediate results\n",
    "\n",
    ">>> print(f\"\\ngcd({alpha}, {beta}) -> {gcd}\")"
   ]
  },
  {
   "cell_type": "markdown",
   "id": "fa0784c5",
   "metadata": {},
   "source": [
    "## Bezout's Theorem"
   ]
  },
  {
   "cell_type": "markdown",
   "id": "be7a9ec5",
   "metadata": {},
   "source": [
    "Let $\\delta$ be the GCD of $\\alpha, \\beta \\in \\mathbb{Z}[i]$, then $\\delta = \\alpha x + \\beta y$ for some $x, y \\in \\mathbb{Z}[i]$."
   ]
  },
  {
   "cell_type": "code",
   "execution_count": 4,
   "id": "47996026",
   "metadata": {},
   "outputs": [
    {
     "name": "stdout",
     "output_type": "stream",
     "text": [
      "alpha = (11+3j) and beta = (1+8j)\n",
      "delta = (1-2j), x = (2-1j), and y = 3j\n",
      "\n",
      "==> (1-2j) = (11+3j) * (2-1j) + (1+8j) * 3j\n",
      "\n",
      "  Note: gcd((11+3j),(1+8j)) = (1-2j)\n"
     ]
    }
   ],
   "source": [
    ">>> delta, x, y = Zi.xgcd(alpha, beta)  # Use alpha & beta from above\n",
    "\n",
    ">>> print(f\"alpha = {alpha} and beta = {beta}\")\n",
    ">>> print(f\"delta = {delta}, x = {x}, and y = {y}\\n\")\n",
    ">>> print(f\"==> {alpha * x  + beta * y} = {alpha} * {x} + {beta} * {y}\")\n",
    "\n",
    ">>> print(f\"\\n  Note: gcd({alpha},{beta}) = {Zi.gcd(alpha, beta)}\")"
   ]
  },
  {
   "cell_type": "markdown",
   "id": "d0c5ad85",
   "metadata": {},
   "source": [
    "## True Division"
   ]
  },
  {
   "cell_type": "markdown",
   "id": "126bdb99",
   "metadata": {},
   "source": [
    "Let $\\alpha, \\beta \\in \\mathbb{Z}[i]$. If $\\beta \\mid \\alpha$ then $\\alpha / \\beta \\in \\mathbb{Z}[i]$, otherwise $\\alpha / \\beta \\in \\mathbb{Q}[i]$"
   ]
  },
  {
   "cell_type": "code",
   "execution_count": 5,
   "id": "dc91f3bd",
   "metadata": {},
   "outputs": [
    {
     "data": {
      "text/plain": [
       "Qi('-6/5', '13/5')"
      ]
     },
     "execution_count": 5,
     "metadata": {},
     "output_type": "execute_result"
    }
   ],
   "source": [
    ">>> alpha = Zi(4, 5)\n",
    ">>> beta = Zi(1, -2)\n",
    "\n",
    ">>> alpha / beta"
   ]
  },
  {
   "cell_type": "code",
   "execution_count": 6,
   "id": "03ea19b4",
   "metadata": {},
   "outputs": [
    {
     "name": "stdout",
     "output_type": "stream",
     "text": [
      "(4+5j) / (1-2j) -> (-6/5+13/5j)\n"
     ]
    }
   ],
   "source": [
    ">>> print(f\"{alpha} / {beta} -> {alpha / beta}\")"
   ]
  },
  {
   "cell_type": "markdown",
   "id": "9a7df27a",
   "metadata": {},
   "source": [
    "## Gaussian Primes"
   ]
  },
  {
   "cell_type": "code",
   "execution_count": 7,
   "id": "672d85a3",
   "metadata": {},
   "outputs": [
    {
     "name": "stdout",
     "output_type": "stream",
     "text": [
      "Is (4+5j) a Gaussian prime? True\n",
      "Is (1-2j) a Gaussian prime? True\n",
      "Is (3-3j) a Gaussian prime? False\n",
      "Is 2 a Gaussian prime? False\n",
      "Is 3 a Gaussian prime? True\n",
      "Is 5 a Gaussian prime? False\n",
      "Is 7 a Gaussian prime? True\n",
      "Is 2j a Gaussian prime? False\n",
      "Is 3j a Gaussian prime? True\n"
     ]
    }
   ],
   "source": [
    "gints = [alpha, beta, gamma, Zi(2, 0), Zi(3, 0), Zi(5, 0), Zi(7, 0), Zi(0, 2), Zi(0, 3)]\n",
    "\n",
    "for gi in gints:\n",
    "    print(f\"Is {gi} a Gaussian prime? {Zi.is_gaussian_prime(gi)}\")"
   ]
  },
  {
   "cell_type": "code",
   "execution_count": null,
   "id": "e66fa498",
   "metadata": {},
   "outputs": [],
   "source": []
  }
 ],
 "metadata": {
  "kernelspec": {
   "display_name": "Python 3 (ipykernel)",
   "language": "python",
   "name": "python3"
  },
  "language_info": {
   "codemirror_mode": {
    "name": "ipython",
    "version": 3
   },
   "file_extension": ".py",
   "mimetype": "text/x-python",
   "name": "python",
   "nbconvert_exporter": "python",
   "pygments_lexer": "ipython3",
   "version": "3.11.5"
  }
 },
 "nbformat": 4,
 "nbformat_minor": 5
}
