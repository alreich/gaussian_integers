{
 "cells": [
  {
   "cell_type": "markdown",
   "id": "9b21f400",
   "metadata": {},
   "source": [
    "# Gaussian Integers and Gaussian Rational Numbers"
   ]
  },
  {
   "cell_type": "markdown",
   "id": "4290c676",
   "metadata": {},
   "source": [
    "This module defines two classes, **Zi** and **Qi**, the Gaussian integers and Gaussian rational numbers, respectively.\n",
    "\n",
    "Mathematically, the integers are denoted by $\\mathbb{Z}$, the rational numbers by $\\mathbb{Q}$, and the complex numbers by $\\mathbb{C}$.\n",
    "\n",
    "$\\mathbb{C} \\equiv \\lbrace a + bi: a, b \\in \\mathbb{R} \\rbrace$ where $\\mathbb{R}$ is the set of real numbers and $i^2 = -1$.\n",
    "\n",
    "The **Gaussian integers** are denoted by $\\mathbb{Z}[i] \\equiv \\lbrace n + mi: n, m \\in \\mathbb{Z} \\rbrace \\subset \\mathbb{C}$,\n",
    "\n",
    "and the **Gaussian rationals** are denoted by $\\mathbb{Q}[i] \\equiv \\lbrace r + si: r, s \\in \\mathbb{Q} \\rbrace \\subset \\mathbb{C}$."
   ]
  },
  {
   "cell_type": "markdown",
   "id": "d464eb7a",
   "metadata": {},
   "source": [
    "NOTE:\n",
    "\n",
    "* Python uses $j$ instead of $i$ to represent complex numbers\n",
    "* Although, both **Zi** and **Qi** are subclasses of **numbers.Complex**, and $\\mathbb{Z}[i] \\subset \\mathbb{Q}[i] \\subset \\mathbb{C}$, the class **Zi** is **not** a subclass of the class **Qi**."
   ]
  },
  {
   "cell_type": "markdown",
   "id": "7a748061",
   "metadata": {},
   "source": [
    "For more information, see the two Jupyter notebooks in the notebooks directory.\n",
    "\n",
    "For a quick look, see the examples following the plot of Gaussian primes, below."
   ]
  },
  {
   "cell_type": "markdown",
   "id": "065b9f43",
   "metadata": {},
   "source": [
    "![alt text](https://github.com/alreich/gaussian_integers/blob/main/gaussian_integers_plot.png?raw=true)"
   ]
  },
  {
   "cell_type": "markdown",
   "id": "c951982a",
   "metadata": {},
   "source": [
    "# Quick Look"
   ]
  },
  {
   "cell_type": "markdown",
   "id": "6ab7ac44",
   "metadata": {},
   "source": [
    "The examples below are from [\"The Gaussian Integers\"](https://kconrad.math.uconn.edu/blurbs/ugradnumthy/Zinotes.pdf) by Keith Conrad"
   ]
  },
  {
   "cell_type": "code",
   "execution_count": 1,
   "id": "5619b19a",
   "metadata": {},
   "outputs": [],
   "source": [
    ">>> from gaussians import Zi, Qi"
   ]
  },
  {
   "cell_type": "markdown",
   "id": "0e15eeeb",
   "metadata": {},
   "source": [
    "## The Division Theorem"
   ]
  },
  {
   "cell_type": "code",
   "execution_count": 2,
   "id": "094a08d0",
   "metadata": {},
   "outputs": [
    {
     "name": "stdout",
     "output_type": "stream",
     "text": [
      "(27-23j) = (8+1j) * (3-3j) + -2j\n"
     ]
    }
   ],
   "source": [
    ">>> alpha = Zi(27, -23)\n",
    ">>> beta = Zi(8, 1)\n",
    "\n",
    ">>> quot, rem = Zi.modified_divmod(alpha, beta)\n",
    "\n",
    ">>> print(f\"{beta * quot + rem} = {beta} * {quot} + {rem}\")"
   ]
  },
  {
   "cell_type": "markdown",
   "id": "20d81058",
   "metadata": {},
   "source": [
    "## The Euclidean Algorithm"
   ]
  },
  {
   "cell_type": "code",
   "execution_count": 3,
   "id": "a4a2d478",
   "metadata": {},
   "outputs": [
    {
     "name": "stdout",
     "output_type": "stream",
     "text": [
      "   (11+3j) = (1+8j) * (1-1j) + (2-4j)\n",
      "   (1+8j) = (2-4j) * (-2+1j) + (1-2j)\n",
      "   (2-4j) = (1-2j) * (2+0j) + 0j\n",
      "\n",
      "gcd((11+3j), (1+8j)) -> (1-2j)\n"
     ]
    }
   ],
   "source": [
    ">>> alpha = Zi(11, 3)\n",
    ">>> beta = Zi(1, 8)\n",
    "\n",
    ">>> gcd = Zi.gcd(alpha, beta, verbose=True)  # Prints intermediate results\n",
    "\n",
    ">>> print(f\"\\ngcd({alpha}, {beta}) -> {gcd}\")"
   ]
  },
  {
   "cell_type": "markdown",
   "id": "fa0784c5",
   "metadata": {},
   "source": [
    "## Bezout's Theorem"
   ]
  },
  {
   "cell_type": "code",
   "execution_count": 4,
   "id": "47996026",
   "metadata": {},
   "outputs": [
    {
     "name": "stdout",
     "output_type": "stream",
     "text": [
      "a = (1-2j)\n",
      "(1-2j) = (11+3j) * (2-1j) + (1+8j) * 3j\n"
     ]
    }
   ],
   "source": [
    ">>> a, x, y = Zi.xgcd(alpha, beta)\n",
    "\n",
    ">>> print(f\"a = {a}\")\n",
    ">>> print(f\"{alpha * x  + beta * y} = {alpha} * {x} + {beta} * {y}\")"
   ]
  },
  {
   "cell_type": "markdown",
   "id": "d0c5ad85",
   "metadata": {},
   "source": [
    "## True Division"
   ]
  },
  {
   "cell_type": "markdown",
   "id": "729a172f",
   "metadata": {},
   "source": [
    "If $\\alpha, \\beta \\in \\mathbb{Z}[i]$, then ${\\large \\frac{\\alpha}{\\beta}} \\in \\mathbb{Q}[i]$"
   ]
  },
  {
   "cell_type": "code",
   "execution_count": 5,
   "id": "dc91f3bd",
   "metadata": {},
   "outputs": [
    {
     "data": {
      "text/plain": [
       "Qi('-6/5', '13/5')"
      ]
     },
     "execution_count": 5,
     "metadata": {},
     "output_type": "execute_result"
    }
   ],
   "source": [
    ">>> a = Zi(4, 5)\n",
    ">>> b = Zi(1, -2)\n",
    ">>> a / b"
   ]
  },
  {
   "cell_type": "code",
   "execution_count": 6,
   "id": "03ea19b4",
   "metadata": {},
   "outputs": [
    {
     "name": "stdout",
     "output_type": "stream",
     "text": [
      "(4+5j) / (1-2j) -> (-6/5+13/5j)\n"
     ]
    }
   ],
   "source": [
    ">>> print(f\"{a} / {b} -> {a / b}\")"
   ]
  }
 ],
 "metadata": {
  "kernelspec": {
   "display_name": "Python 3 (ipykernel)",
   "language": "python",
   "name": "python3"
  },
  "language_info": {
   "codemirror_mode": {
    "name": "ipython",
    "version": 3
   },
   "file_extension": ".py",
   "mimetype": "text/x-python",
   "name": "python",
   "nbconvert_exporter": "python",
   "pygments_lexer": "ipython3",
   "version": "3.11.5"
  }
 },
 "nbformat": 4,
 "nbformat_minor": 5
}
