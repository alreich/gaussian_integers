{
 "cells": [
  {
   "cell_type": "markdown",
   "id": "000db8ec",
   "metadata": {},
   "source": [
    "# Public Key Cryptography over the Gaussian Primes"
   ]
  },
  {
   "cell_type": "code",
   "execution_count": 1,
   "id": "7f679e44",
   "metadata": {},
   "outputs": [],
   "source": [
    "from gaussians import Zi"
   ]
  },
  {
   "cell_type": "markdown",
   "id": "86c4bc9f",
   "metadata": {},
   "source": [
    "## References"
   ]
  },
  {
   "cell_type": "markdown",
   "id": "05055aac",
   "metadata": {},
   "source": [
    "1. Fazekas, Stefanie, [\"Public Key Cryptography over the Gaussian and Eisenstein Integers\"](https://mural.maynoothuniversity.ie/18135/1/Thesis%20-%20Stefanie%20Fazekas%20%2818143229%29.pdf), MS Thesis, July, 2023. "
   ]
  },
  {
   "cell_type": "markdown",
   "id": "2636f022",
   "metadata": {},
   "source": [
    "## Example 13.3 in Ref. 1"
   ]
  },
  {
   "cell_type": "code",
   "execution_count": 13,
   "id": "ddeaa987",
   "metadata": {},
   "outputs": [],
   "source": [
    "pi = Zi(3, 2)\n",
    "sigma = Zi(6, 5)\n",
    "message = Zi(-23, 17)\n",
    "e = 7"
   ]
  },
  {
   "cell_type": "code",
   "execution_count": 14,
   "id": "9afce9e0",
   "metadata": {},
   "outputs": [
    {
     "data": {
      "text/plain": [
       "Zi(8, 27)"
      ]
     },
     "execution_count": 14,
     "metadata": {},
     "output_type": "execute_result"
    }
   ],
   "source": [
    "N = pi * sigma\n",
    "N"
   ]
  },
  {
   "cell_type": "code",
   "execution_count": 15,
   "id": "771e0fea",
   "metadata": {},
   "outputs": [
    {
     "data": {
      "text/plain": [
       "720"
      ]
     },
     "execution_count": 15,
     "metadata": {},
     "output_type": "execute_result"
    }
   ],
   "source": [
    "phi = (pi.norm - 1) * (sigma.norm - 1)\n",
    "phi"
   ]
  },
  {
   "cell_type": "markdown",
   "id": "b9f6696c",
   "metadata": {},
   "source": [
    "## ... much more to come ..."
   ]
  },
  {
   "cell_type": "code",
   "execution_count": null,
   "id": "74e4ef10",
   "metadata": {},
   "outputs": [],
   "source": []
  }
 ],
 "metadata": {
  "kernelspec": {
   "display_name": "Python 3 (ipykernel)",
   "language": "python",
   "name": "python3"
  },
  "language_info": {
   "codemirror_mode": {
    "name": "ipython",
    "version": 3
   },
   "file_extension": ".py",
   "mimetype": "text/x-python",
   "name": "python",
   "nbconvert_exporter": "python",
   "pygments_lexer": "ipython3",
   "version": "3.11.5"
  }
 },
 "nbformat": 4,
 "nbformat_minor": 5
}
