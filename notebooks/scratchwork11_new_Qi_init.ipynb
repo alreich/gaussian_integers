{
 "cells": [
  {
   "cell_type": "markdown",
   "id": "b42260e9",
   "metadata": {},
   "source": [
    "# New \\_\\_init\\_\\_ method for Qi"
   ]
  },
  {
   "cell_type": "code",
   "execution_count": 1,
   "id": "8041679d",
   "metadata": {},
   "outputs": [],
   "source": [
    "from random import randint\n",
    "from fractions import Fraction\n",
    "from functools import wraps\n",
    "import math\n",
    "\n",
    "from cayley_dickson_base import CayleyDicksonBase\n",
    "from cayley_dickson_integers import Zi\n",
    "import generic_utils as utils"
   ]
  },
  {
   "cell_type": "code",
   "execution_count": 2,
   "id": "7c0dca4f",
   "metadata": {},
   "outputs": [],
   "source": [
    "# real is a str, float, int, or Fraction; & imag is a str, float, int, Fraction, or None\n",
    "\n",
    "# real is a complex, Qi, or Zi; & imag is a complex, Qi, Zi, or None"
   ]
  },
  {
   "cell_type": "code",
   "execution_count": null,
   "id": "359a8db1",
   "metadata": {},
   "outputs": [],
   "source": [
    "class Qi(CayleyDicksonBase):\n",
    "    \"\"\"Cayley-Dickson Algebra with rational components\"\"\"\n",
    "\n",
    "    __max_denominator = 1_000_000\n",
    "\n",
    "    def __init__(self, real=None, imag=None):\n",
    "\n",
    "        if isinstance(real, str):\n",
    "            "
   ]
  }
 ],
 "metadata": {
  "kernelspec": {
   "display_name": "Python 3 (ipykernel)",
   "language": "python",
   "name": "python3"
  },
  "language_info": {
   "codemirror_mode": {
    "name": "ipython",
    "version": 3
   },
   "file_extension": ".py",
   "mimetype": "text/x-python",
   "name": "python",
   "nbconvert_exporter": "python",
   "pygments_lexer": "ipython3",
   "version": "3.11.5"
  }
 },
 "nbformat": 4,
 "nbformat_minor": 5
}
