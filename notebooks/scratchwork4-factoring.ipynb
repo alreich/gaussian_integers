{
 "cells": [
  {
   "cell_type": "markdown",
   "id": "230d5aff",
   "metadata": {},
   "source": [
    "# Scratchwork 4 - Factoring"
   ]
  },
  {
   "cell_type": "code",
   "execution_count": 1,
   "id": "5f0c8e2e",
   "metadata": {},
   "outputs": [],
   "source": [
    "from gaussians import Zi, Qi, isprime"
   ]
  },
  {
   "cell_type": "code",
   "execution_count": 2,
   "id": "8441bec5",
   "metadata": {},
   "outputs": [
    {
     "data": {
      "text/plain": [
       "Qi('71/41', '-58/41')"
      ]
     },
     "execution_count": 2,
     "metadata": {},
     "output_type": "execute_result"
    }
   ],
   "source": [
    "# Example 2.2 in [Conrad]:\n",
    "\n",
    "alpha = Zi(14, 3)\n",
    "beta  = Zi(4, 5)\n",
    "gamma = alpha / beta\n",
    "gamma"
   ]
  },
  {
   "cell_type": "code",
   "execution_count": 3,
   "id": "8ed17e25",
   "metadata": {},
   "outputs": [
    {
     "data": {
      "text/plain": [
       "5"
      ]
     },
     "execution_count": 3,
     "metadata": {},
     "output_type": "execute_result"
    }
   ],
   "source": [
    "Zi.norms_divide(beta, alpha)"
   ]
  },
  {
   "cell_type": "code",
   "execution_count": 4,
   "id": "2d1aa667",
   "metadata": {},
   "outputs": [
    {
     "data": {
      "text/plain": [
       "False"
      ]
     },
     "execution_count": 4,
     "metadata": {},
     "output_type": "execute_result"
    }
   ],
   "source": [
    "Zi.norms_divide(alpha, Zi.two())"
   ]
  },
  {
   "cell_type": "code",
   "execution_count": 5,
   "id": "ca7542a4",
   "metadata": {},
   "outputs": [
    {
     "data": {
      "text/plain": [
       "False"
      ]
     },
     "execution_count": 5,
     "metadata": {},
     "output_type": "execute_result"
    }
   ],
   "source": [
    "Zi.norms_divide(Zi.two(), alpha)"
   ]
  },
  {
   "cell_type": "markdown",
   "id": "ec741efe",
   "metadata": {},
   "source": [
    "**The Norm**. Let $\\alpha = a + bi \\in \\mathbb{Z}[i]$ and define its norm to be $N(\\alpha) = \\alpha \\overline{\\alpha} = (a + bi)(a - bi) = a^2 + b^2$.\n",
    "\n",
    "**The Modified Division Theorem**. For $\\alpha, \\beta \\in \\mathbb{Z}[i]$ with $\\beta \\ne 0$, there are $\\gamma, \\rho \\in \\mathbb{Z}[i]$ such that $\\alpha = \\beta \\gamma + \\rho$ and $N(\\rho) \\le (1/2)N(\\beta)$"
   ]
  },
  {
   "cell_type": "markdown",
   "id": "a3386f8e",
   "metadata": {},
   "source": [
    "## Brute Force Factorization"
   ]
  },
  {
   "cell_type": "code",
   "execution_count": 6,
   "id": "47dd6958",
   "metadata": {},
   "outputs": [],
   "source": [
    "zi1 = Zi(4,  5)  # Gaussian prime? True\n",
    "zi2 = Zi(1, -2)  # Gaussian prime? True\n",
    "zi3 = Zi(3, -3)  # Gaussian prime? False\n",
    "five = Zi(5, 0)   # \"5\""
   ]
  },
  {
   "cell_type": "raw",
   "id": "2266781d",
   "metadata": {},
   "source": [
    "def brute_force_factorization(zi, include_units=False):\n",
    "    zmax = 2 * max(abs(zi.real), abs(zi.imag))\n",
    "    zmin = -zmax\n",
    "    # print(zmin, zmax)\n",
    "    for a in range(zmin, zmax):\n",
    "        for b in range(zmin, zmax):\n",
    "            for c in range(zmin, zmax):\n",
    "                for d in range(zmin, zmax):\n",
    "                    x = Zi(a, b)\n",
    "                    y = Zi(c, d)\n",
    "                    if zi == x * y:\n",
    "                        if include_units:\n",
    "                            print(x, y)\n",
    "                        else:\n",
    "                            if (not x in Zi.units()) and (not y in Zi.units()):\n",
    "                                print(x, y)"
   ]
  },
  {
   "cell_type": "code",
   "execution_count": 7,
   "id": "d0e0bdb4",
   "metadata": {},
   "outputs": [],
   "source": [
    "def factorizations(zi, include_units=False, verbose=False):\n",
    "    \"\"\"Brute force calculation of all the ways to factor zi.\"\"\"\n",
    "    zmax = 2 * max(abs(zi.real), abs(zi.imag))\n",
    "    zmin = -zmax\n",
    "    factors = set()\n",
    "    for a in range(zmin, zmax):\n",
    "        for b in range(zmin, zmax):\n",
    "            x = Zi(a, b)\n",
    "            for c in range(zmin, zmax):\n",
    "                for d in range(zmin, zmax):\n",
    "                    y = Zi(c, d)\n",
    "                    f = (x, y)\n",
    "                    g = (y, x)\n",
    "                    if zi == x * y:\n",
    "                        if include_units:\n",
    "                            if (not f in factors) and (not g in factors):\n",
    "                                if verbose:\n",
    "                                    print(f)\n",
    "                                factors.add(f)\n",
    "                        else:\n",
    "                            if (not x in Zi.units()) and (not y in Zi.units()):\n",
    "                                if (not f in factors) and (not g in factors):\n",
    "                                    if verbose:\n",
    "                                        print(f)\n",
    "                                    factors.add(f)\n",
    "    return factors"
   ]
  },
  {
   "cell_type": "code",
   "execution_count": 8,
   "id": "27563780",
   "metadata": {},
   "outputs": [
    {
     "data": {
      "text/plain": [
       "set()"
      ]
     },
     "execution_count": 8,
     "metadata": {},
     "output_type": "execute_result"
    }
   ],
   "source": [
    "factorizations(zi1)"
   ]
  },
  {
   "cell_type": "code",
   "execution_count": 9,
   "id": "c70fbdbb",
   "metadata": {},
   "outputs": [
    {
     "data": {
      "text/plain": [
       "set()"
      ]
     },
     "execution_count": 9,
     "metadata": {},
     "output_type": "execute_result"
    }
   ],
   "source": [
    "factorizations(zi2)"
   ]
  },
  {
   "cell_type": "code",
   "execution_count": 10,
   "id": "eafe047d",
   "metadata": {},
   "outputs": [
    {
     "name": "stdout",
     "output_type": "stream",
     "text": [
      "factorizations((3-3j)):\n",
      "\n"
     ]
    },
    {
     "data": {
      "text/plain": [
       "{(Zi(-1, -1), Zi(0, 3)),\n",
       " (Zi(-3), Zi(-1, 1)),\n",
       " (Zi(0, -3), Zi(1, 1)),\n",
       " (Zi(1, -1), Zi(3))}"
      ]
     },
     "execution_count": 10,
     "metadata": {},
     "output_type": "execute_result"
    }
   ],
   "source": [
    "print(f\"factorizations({zi3}):\\n\")\n",
    "fact_zi3 = factorizations(zi3)\n",
    "fact_zi3"
   ]
  },
  {
   "cell_type": "code",
   "execution_count": 11,
   "id": "d8e04de3",
   "metadata": {},
   "outputs": [
    {
     "name": "stdout",
     "output_type": "stream",
     "text": [
      "(3-3j)\n",
      "(3-3j)\n",
      "(3-3j)\n",
      "(3-3j)\n"
     ]
    }
   ],
   "source": [
    "for factors in fact_zi3:\n",
    "    print(factors[0] * factors[1])"
   ]
  },
  {
   "cell_type": "code",
   "execution_count": 12,
   "id": "367f58ac",
   "metadata": {},
   "outputs": [
    {
     "name": "stdout",
     "output_type": "stream",
     "text": [
      "ALL factorizations((3-3j)):\n",
      "\n",
      "(Zi(-3, -3), Zi(0, 1))\n",
      "(Zi(-3), Zi(-1, 1))\n",
      "(Zi(-3, 3), Zi(-1))\n",
      "(Zi(-1, -1), Zi(0, 3))\n",
      "(Zi(0, -3), Zi(1, 1))\n",
      "(Zi(0, -1), Zi(3, 3))\n",
      "(Zi(1, -1), Zi(3))\n",
      "(Zi(1), Zi(3, -3))\n"
     ]
    },
    {
     "data": {
      "text/plain": [
       "{(Zi(-1, -1), Zi(0, 3)),\n",
       " (Zi(-3), Zi(-1, 1)),\n",
       " (Zi(-3, -3), Zi(0, 1)),\n",
       " (Zi(-3, 3), Zi(-1)),\n",
       " (Zi(0, -1), Zi(3, 3)),\n",
       " (Zi(0, -3), Zi(1, 1)),\n",
       " (Zi(1), Zi(3, -3)),\n",
       " (Zi(1, -1), Zi(3))}"
      ]
     },
     "execution_count": 12,
     "metadata": {},
     "output_type": "execute_result"
    }
   ],
   "source": [
    "print(f\"ALL factorizations({zi3}):\\n\")\n",
    "factorizations(zi3, include_units=True, verbose=True)"
   ]
  },
  {
   "cell_type": "raw",
   "id": "4d9021d0",
   "metadata": {},
   "source": [
    "gint = Zi(13)\n",
    "print(f\"Factorizations of {repr(gint)} = {gint}:\\n\")\n",
    "\n",
    "facts = factorizations(gint)\n",
    "\n",
    "if facts == set():\n",
    "    print(\"None\")\n",
    "else:\n",
    "    print(f\"{fact[0]} * {fact[1]} = {fact[0] * fact[1]}\")"
   ]
  },
  {
   "cell_type": "code",
   "execution_count": 13,
   "id": "2448fdb6",
   "metadata": {},
   "outputs": [
    {
     "name": "stdout",
     "output_type": "stream",
     "text": [
      "Factorizations of Zi(3) = 3:\n",
      "\n",
      "None\n"
     ]
    }
   ],
   "source": [
    "foo = Zi(3, 0)\n",
    "print(f\"Factorizations of {repr(foo)} = {foo}:\\n\")\n",
    "facts = factorizations(foo)\n",
    "\n",
    "if facts == set():\n",
    "    print(\"None\")\n",
    "else:\n",
    "    print(f\"{fact[0]} * {fact[1]} = {fact[0] * fact[1]}\")"
   ]
  },
  {
   "cell_type": "markdown",
   "id": "23410551",
   "metadata": {},
   "source": [
    "See this Q&A on an algorithm to factor a Gaussian prime:\n",
    "https://stackoverflow.com/questions/2269810/whats-a-nice-method-to-factor-gaussian-integers#:~:text=In%20the%20Gaussian%20integers%2C%20if,2%20...%20pn."
   ]
  },
  {
   "cell_type": "code",
   "execution_count": null,
   "id": "549c0d63",
   "metadata": {},
   "outputs": [],
   "source": []
  },
  {
   "cell_type": "code",
   "execution_count": null,
   "id": "91cacc8a",
   "metadata": {},
   "outputs": [],
   "source": []
  },
  {
   "cell_type": "code",
   "execution_count": 14,
   "id": "e21cd7f4",
   "metadata": {},
   "outputs": [],
   "source": [
    "from sympy.ntheory import divisors\n",
    "\n",
    "def factorizations_v2(zi, include_units=False, verbose=False):\n",
    "    \"\"\"Brute force calculation of all the ways to factor zi.\"\"\"\n",
    "    factors = set()\n",
    "    if Zi.is_gaussian_prime(zi):\n",
    "        return factors\n",
    "    else:\n",
    "        divs = divisors(zi.norm)\n",
    "        zmax = 2 * max(abs(zi.real), abs(zi.imag))\n",
    "        zmin = -zmax\n",
    "        for a in range(zmin, zmax):\n",
    "            for b in range(zmin, zmax):\n",
    "                x = Zi(a, b)\n",
    "                if x.norm in divs:\n",
    "                    for c in range(zmin, zmax):\n",
    "                        for d in range(zmin, zmax):\n",
    "                            y = Zi(c, d)\n",
    "                            if y.norm in divs:\n",
    "                                f = (x, y)\n",
    "                                g = (y, x)\n",
    "                                if zi == x * y:\n",
    "                                    if include_units:\n",
    "                                        if (not f in factors) and (not g in factors):\n",
    "                                            if verbose:\n",
    "                                                print(f)\n",
    "                                            factors.add(f)\n",
    "                                    else:\n",
    "                                        if (not x in Zi.units()) and (not y in Zi.units()):\n",
    "                                            if (not f in factors) and (not g in factors):\n",
    "                                                if verbose:\n",
    "                                                    print(f)\n",
    "                                                factors.add(f)\n",
    "    return factors"
   ]
  },
  {
   "cell_type": "code",
   "execution_count": 15,
   "id": "b0911921",
   "metadata": {},
   "outputs": [],
   "source": [
    "from sympy.ntheory import divisors\n",
    "\n",
    "def factorizations_v3(zi, include_units=False, verbose=False):\n",
    "    \"\"\"Brute force calculation of all the ways to factor zi into two Gaussian integers.\"\"\"\n",
    "    factors = set()\n",
    "    if Zi.is_gaussian_prime(zi):\n",
    "        return factors\n",
    "    else:\n",
    "        znrm = zi.norm\n",
    "        divs = divisors(znrm)\n",
    "        zmax = max(abs(zi.real), abs(zi.imag))\n",
    "        zmin = -zmax\n",
    "        for a in range(zmin, zmax):\n",
    "            a2 = a * a\n",
    "            for b in range(zmin, zmax):\n",
    "                xnrm = a2 + (b * b)\n",
    "                if (xnrm != 1) and (xnrm in divs):\n",
    "                    for c in range(zmin, zmax):\n",
    "                        c2 = c * c\n",
    "                        for d in range(zmin, zmax):\n",
    "                            ynrm = c2 + (d * d)\n",
    "                            if (ynrm != 1) and ynrm == znrm // xnrm:\n",
    "                                x = Zi(a, b)\n",
    "                                y = Zi(c, d)\n",
    "                                f = (x, y)\n",
    "                                g = (y, x)\n",
    "                                if (zi == x * y) and (not f in factors) and (not g in factors):\n",
    "                                    if verbose:\n",
    "                                        print(f)\n",
    "                                    factors.add(f)\n",
    "    return factors"
   ]
  },
  {
   "cell_type": "code",
   "execution_count": null,
   "id": "029060dc",
   "metadata": {},
   "outputs": [],
   "source": []
  },
  {
   "cell_type": "code",
   "execution_count": null,
   "id": "8d3e85b4",
   "metadata": {},
   "outputs": [],
   "source": []
  },
  {
   "cell_type": "code",
   "execution_count": 16,
   "id": "91c05955",
   "metadata": {},
   "outputs": [],
   "source": [
    "from sympy.ntheory import divisors\n",
    "from itertools import product\n",
    "\n",
    "def factorizations_v4(zi):\n",
    "    \"\"\"Brute force calculation of all the ways to factor zi into 2 Gaussian integers.\"\"\"\n",
    "    facts = set()\n",
    "    facts_n_assoc = list()\n",
    "    if Zi.is_gaussian_prime(zi):\n",
    "        return facts\n",
    "    else:\n",
    "        znrm = zi.norm\n",
    "        divs = divisors(znrm)\n",
    "        zmax = max(abs(zi.real), abs(zi.imag))\n",
    "        zmin = -zmax\n",
    "        for a in range(zmin, zmax):\n",
    "            a2 = a * a\n",
    "            for b in range(zmin, zmax):\n",
    "                xnrm = a2 + (b * b)\n",
    "                if (xnrm != 1) and (xnrm in divs):\n",
    "                    for c in range(zmin, zmax):\n",
    "                        c2 = c * c\n",
    "                        for d in range(zmin, zmax):\n",
    "                            ynrm = c2 + (d * d)\n",
    "                            if (ynrm != 1) and ynrm == znrm // xnrm:\n",
    "                                x = Zi(a, b)\n",
    "                                y = Zi(c, d)\n",
    "                                f = (x, y)\n",
    "                                g = (y, x)\n",
    "                                if (zi == x * y) and (not f in facts_n_assoc) and (not g in facts_n_assoc):\n",
    "                                    facts.add(f)\n",
    "                                    # Record all other possibilities for f & g based on associates\n",
    "                                    xx = [x] + x.associates()\n",
    "                                    yy = [y] + y.associates()\n",
    "                                    ff = product(xx, yy)\n",
    "                                    gg = product(yy, xx)\n",
    "                                    facts_n_assoc += ff\n",
    "                                    facts_n_assoc += gg\n",
    "    return facts"
   ]
  },
  {
   "cell_type": "code",
   "execution_count": 17,
   "id": "68c39347",
   "metadata": {},
   "outputs": [],
   "source": [
    "gint = Zi(13)"
   ]
  },
  {
   "cell_type": "code",
   "execution_count": 18,
   "id": "c15f1aee",
   "metadata": {},
   "outputs": [
    {
     "name": "stdout",
     "output_type": "stream",
     "text": [
      "CPU times: user 82.3 ms, sys: 840 µs, total: 83.2 ms\n",
      "Wall time: 82.6 ms\n"
     ]
    },
    {
     "data": {
      "text/plain": [
       "{(Zi(-2, -3), Zi(-2, 3)),\n",
       " (Zi(-3, -2), Zi(-3, 2)),\n",
       " (Zi(2, -3), Zi(2, 3)),\n",
       " (Zi(3, -2), Zi(3, 2))}"
      ]
     },
     "execution_count": 18,
     "metadata": {},
     "output_type": "execute_result"
    }
   ],
   "source": [
    "%time factorizations_v2(gint)"
   ]
  },
  {
   "cell_type": "code",
   "execution_count": 19,
   "id": "369703ee",
   "metadata": {},
   "outputs": [
    {
     "name": "stdout",
     "output_type": "stream",
     "text": [
      "CPU times: user 662 µs, sys: 0 ns, total: 662 µs\n",
      "Wall time: 663 µs\n"
     ]
    },
    {
     "data": {
      "text/plain": [
       "{(Zi(-3, -2), Zi(-3, 2))}"
      ]
     },
     "execution_count": 19,
     "metadata": {},
     "output_type": "execute_result"
    }
   ],
   "source": [
    "%time factorizations_v4(gint)"
   ]
  },
  {
   "cell_type": "code",
   "execution_count": 20,
   "id": "844a888b",
   "metadata": {},
   "outputs": [
    {
     "name": "stdout",
     "output_type": "stream",
     "text": [
      "CPU times: user 160 µs, sys: 0 ns, total: 160 µs\n",
      "Wall time: 162 µs\n"
     ]
    },
    {
     "data": {
      "text/plain": [
       "[(Zi(-2, 1), Zi(-1, -2)), (Zi(1, 2), Zi(2, -1))]"
      ]
     },
     "execution_count": 20,
     "metadata": {},
     "output_type": "execute_result"
    }
   ],
   "source": [
    "# gint = Zi(12, 9)\n",
    "gint = Zi(4, 3)\n",
    "\n",
    "%time foo = list(factorizations_v3(gint))\n",
    "foo"
   ]
  },
  {
   "cell_type": "code",
   "execution_count": 21,
   "id": "468f8f12",
   "metadata": {},
   "outputs": [
    {
     "name": "stdout",
     "output_type": "stream",
     "text": [
      "CPU times: user 185 µs, sys: 0 ns, total: 185 µs\n",
      "Wall time: 188 µs\n"
     ]
    },
    {
     "data": {
      "text/plain": [
       "[(Zi(-2, 1), Zi(-1, -2))]"
      ]
     },
     "execution_count": 21,
     "metadata": {},
     "output_type": "execute_result"
    }
   ],
   "source": [
    "%time foo2 = list(factorizations_v4(gint))\n",
    "foo2"
   ]
  },
  {
   "cell_type": "code",
   "execution_count": 22,
   "id": "4dd4ed23",
   "metadata": {},
   "outputs": [
    {
     "data": {
      "text/plain": [
       "Zi(4, 3)"
      ]
     },
     "execution_count": 22,
     "metadata": {},
     "output_type": "execute_result"
    }
   ],
   "source": [
    "gint"
   ]
  },
  {
   "cell_type": "code",
   "execution_count": 23,
   "id": "0e39a97b",
   "metadata": {},
   "outputs": [
    {
     "data": {
      "text/plain": [
       "Zi(-1, -2)"
      ]
     },
     "execution_count": 23,
     "metadata": {},
     "output_type": "execute_result"
    }
   ],
   "source": [
    "gint / Zi(-2, 1)"
   ]
  },
  {
   "cell_type": "code",
   "execution_count": null,
   "id": "94242d98",
   "metadata": {},
   "outputs": [],
   "source": []
  },
  {
   "cell_type": "code",
   "execution_count": null,
   "id": "09669bc2",
   "metadata": {},
   "outputs": [],
   "source": []
  },
  {
   "cell_type": "code",
   "execution_count": null,
   "id": "28dfae77",
   "metadata": {},
   "outputs": [],
   "source": []
  },
  {
   "cell_type": "code",
   "execution_count": 24,
   "id": "d4827f25",
   "metadata": {},
   "outputs": [],
   "source": [
    "from sympy.ntheory import divisors\n",
    "from itertools import product\n",
    "\n",
    "def find_two_factors(zi):\n",
    "    if Zi.is_gaussian_prime(zi):\n",
    "        result = (zi, 1)\n",
    "    else:\n",
    "        znrm = zi.norm\n",
    "        divs = divisors(znrm)\n",
    "        zmax = max(abs(zi.real), abs(zi.imag))\n",
    "        zmin = -zmax\n",
    "        for a in range(zmin, zmax):\n",
    "            a2 = a * a\n",
    "            for b in range(zmin, zmax):\n",
    "                xnrm = a2 + (b * b)\n",
    "                if (xnrm != 1) and (xnrm in divs):\n",
    "                    for c in range(zmin, zmax):\n",
    "                        c2 = c * c\n",
    "                        for d in range(zmin, zmax):\n",
    "                            ynrm = c2 + (d * d)\n",
    "                            if (ynrm != 1) and ynrm == znrm // xnrm:\n",
    "                                x = Zi(a, b)\n",
    "                                y = Zi(c, d)\n",
    "                                if zi == x * y:\n",
    "                                    # Return the \"larger\" factor with quotient (zi / factor)\n",
    "                                    if x.norm >= y.norm:\n",
    "                                        result = (x, y)\n",
    "                                    else:\n",
    "                                        result = (y, x)\n",
    "    return result"
   ]
  },
  {
   "cell_type": "code",
   "execution_count": 25,
   "id": "72a417cd",
   "metadata": {},
   "outputs": [
    {
     "data": {
      "text/plain": [
       "(Zi(6, -3), Zi(1, 2))"
      ]
     },
     "execution_count": 25,
     "metadata": {},
     "output_type": "execute_result"
    }
   ],
   "source": [
    "gint = Zi(12, 9)\n",
    "find_two_factors(gint)"
   ]
  },
  {
   "cell_type": "code",
   "execution_count": 26,
   "id": "2eb36f1b",
   "metadata": {},
   "outputs": [],
   "source": [
    "import math \n",
    "import sympy.ntheory as sym\n",
    "\n",
    "def gauss_div_aux(current, remainders, factors):\n",
    "    fact, quot = find_two_factors(current)\n",
    "    if Zi.is_gaussian_prime(fact):\n",
    "        if fact in factors:\n",
    "            factors[fact] += 1\n",
    "        else:\n",
    "            factors[fact] = 1\n",
    "        return gauss_div_aux(quot, remainders, factors)\n",
    "    else:\n",
    "        return gauss_div_aux(fact, remainders.add(quot), factors)\n",
    "\n",
    "def gaussian_divisors(z):\n",
    "    a = z.real\n",
    "    b = z.imag\n",
    "    gcd = math.gcd(a, b)\n",
    "    if gcd == 1:\n",
    "        return gauss_div_aux(z, Zi(1), dict())\n",
    "    else:\n",
    "        return gauss_div_aux(z / gcd, Zi(1), sym.factorint(gcd))"
   ]
  },
  {
   "cell_type": "code",
   "execution_count": 27,
   "id": "99a10fa4",
   "metadata": {},
   "outputs": [],
   "source": [
    "gint = Zi(12, 36)"
   ]
  },
  {
   "cell_type": "code",
   "execution_count": 28,
   "id": "0dd9e704",
   "metadata": {},
   "outputs": [
    {
     "ename": "AttributeError",
     "evalue": "'int' object has no attribute 'norm'",
     "output_type": "error",
     "traceback": [
      "\u001b[0;31m---------------------------------------------------------------------------\u001b[0m",
      "\u001b[0;31mAttributeError\u001b[0m                            Traceback (most recent call last)",
      "Cell \u001b[0;32mIn[28], line 1\u001b[0m\n\u001b[0;32m----> 1\u001b[0m gaussian_divisors(gint)\n",
      "Cell \u001b[0;32mIn[26], line 22\u001b[0m, in \u001b[0;36mgaussian_divisors\u001b[0;34m(z)\u001b[0m\n\u001b[1;32m     20\u001b[0m     \u001b[38;5;28;01mreturn\u001b[39;00m gauss_div_aux(z, Zi(\u001b[38;5;241m1\u001b[39m), \u001b[38;5;28mdict\u001b[39m())\n\u001b[1;32m     21\u001b[0m \u001b[38;5;28;01melse\u001b[39;00m:\n\u001b[0;32m---> 22\u001b[0m     \u001b[38;5;28;01mreturn\u001b[39;00m gauss_div_aux(z \u001b[38;5;241m/\u001b[39m gcd, Zi(\u001b[38;5;241m1\u001b[39m), sym\u001b[38;5;241m.\u001b[39mfactorint(gcd))\n",
      "Cell \u001b[0;32mIn[26], line 11\u001b[0m, in \u001b[0;36mgauss_div_aux\u001b[0;34m(current, remainders, factors)\u001b[0m\n\u001b[1;32m      9\u001b[0m     \u001b[38;5;28;01melse\u001b[39;00m:\n\u001b[1;32m     10\u001b[0m         factors[fact] \u001b[38;5;241m=\u001b[39m \u001b[38;5;241m1\u001b[39m\n\u001b[0;32m---> 11\u001b[0m     \u001b[38;5;28;01mreturn\u001b[39;00m gauss_div_aux(quot, remainders, factors)\n\u001b[1;32m     12\u001b[0m \u001b[38;5;28;01melse\u001b[39;00m:\n\u001b[1;32m     13\u001b[0m     \u001b[38;5;28;01mreturn\u001b[39;00m gauss_div_aux(fact, remainders\u001b[38;5;241m.\u001b[39madd(quot), factors)\n",
      "Cell \u001b[0;32mIn[26], line 11\u001b[0m, in \u001b[0;36mgauss_div_aux\u001b[0;34m(current, remainders, factors)\u001b[0m\n\u001b[1;32m      9\u001b[0m     \u001b[38;5;28;01melse\u001b[39;00m:\n\u001b[1;32m     10\u001b[0m         factors[fact] \u001b[38;5;241m=\u001b[39m \u001b[38;5;241m1\u001b[39m\n\u001b[0;32m---> 11\u001b[0m     \u001b[38;5;28;01mreturn\u001b[39;00m gauss_div_aux(quot, remainders, factors)\n\u001b[1;32m     12\u001b[0m \u001b[38;5;28;01melse\u001b[39;00m:\n\u001b[1;32m     13\u001b[0m     \u001b[38;5;28;01mreturn\u001b[39;00m gauss_div_aux(fact, remainders\u001b[38;5;241m.\u001b[39madd(quot), factors)\n",
      "Cell \u001b[0;32mIn[26], line 5\u001b[0m, in \u001b[0;36mgauss_div_aux\u001b[0;34m(current, remainders, factors)\u001b[0m\n\u001b[1;32m      4\u001b[0m \u001b[38;5;28;01mdef\u001b[39;00m \u001b[38;5;21mgauss_div_aux\u001b[39m(current, remainders, factors):\n\u001b[0;32m----> 5\u001b[0m     fact, quot \u001b[38;5;241m=\u001b[39m find_two_factors(current)\n\u001b[1;32m      6\u001b[0m     \u001b[38;5;28;01mif\u001b[39;00m Zi\u001b[38;5;241m.\u001b[39mis_gaussian_prime(fact):\n\u001b[1;32m      7\u001b[0m         \u001b[38;5;28;01mif\u001b[39;00m fact \u001b[38;5;129;01min\u001b[39;00m factors:\n",
      "Cell \u001b[0;32mIn[24], line 8\u001b[0m, in \u001b[0;36mfind_two_factors\u001b[0;34m(zi)\u001b[0m\n\u001b[1;32m      6\u001b[0m     result \u001b[38;5;241m=\u001b[39m (zi, \u001b[38;5;241m1\u001b[39m)\n\u001b[1;32m      7\u001b[0m \u001b[38;5;28;01melse\u001b[39;00m:\n\u001b[0;32m----> 8\u001b[0m     znrm \u001b[38;5;241m=\u001b[39m zi\u001b[38;5;241m.\u001b[39mnorm\n\u001b[1;32m      9\u001b[0m     divs \u001b[38;5;241m=\u001b[39m divisors(znrm)\n\u001b[1;32m     10\u001b[0m     zmax \u001b[38;5;241m=\u001b[39m \u001b[38;5;28mmax\u001b[39m(\u001b[38;5;28mabs\u001b[39m(zi\u001b[38;5;241m.\u001b[39mreal), \u001b[38;5;28mabs\u001b[39m(zi\u001b[38;5;241m.\u001b[39mimag))\n",
      "\u001b[0;31mAttributeError\u001b[0m: 'int' object has no attribute 'norm'"
     ]
    }
   ],
   "source": [
    "gaussian_divisors(gint)"
   ]
  },
  {
   "cell_type": "raw",
   "id": "7b635b8c",
   "metadata": {},
   "source": [
    "    if value in d:\n",
    "        d[value] += 1\n",
    "    else:\n",
    "        d[value] = 1\n"
   ]
  },
  {
   "cell_type": "code",
   "execution_count": null,
   "id": "404e7e12",
   "metadata": {},
   "outputs": [],
   "source": []
  }
 ],
 "metadata": {
  "kernelspec": {
   "display_name": "Python 3 (ipykernel)",
   "language": "python",
   "name": "python3"
  },
  "language_info": {
   "codemirror_mode": {
    "name": "ipython",
    "version": 3
   },
   "file_extension": ".py",
   "mimetype": "text/x-python",
   "name": "python",
   "nbconvert_exporter": "python",
   "pygments_lexer": "ipython3",
   "version": "3.11.5"
  }
 },
 "nbformat": 4,
 "nbformat_minor": 5
}
