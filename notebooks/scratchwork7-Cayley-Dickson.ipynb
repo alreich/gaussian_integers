{
 "cells": [
  {
   "cell_type": "markdown",
   "id": "11951404-4d7b-4cd4-aa6e-3bca6abee1ce",
   "metadata": {},
   "source": [
    "# Cayley-Dickson Construction Applied to Zi Definition"
   ]
  },
  {
   "cell_type": "markdown",
   "id": "2f09c45e-9ab5-461b-8de8-fd74f6a0e16e",
   "metadata": {},
   "source": [
    "My original implementation of Gaussian integers included two classes, ``Zi`` and ``Qi``, where, for example, ``Zi(2, -7)`` represents a Gaussian integer, and ``Qi(-2/3, 4/5)`` represents a Gaussian rational.\n",
    "\n",
    "I'd like to extend this code to include integer-valued quaternions and octonions. An elegant way to accomplish that goal would be to use the Cayley-Dickson construction, where complex numbers can be constructed from pairs of real numbers, quaternions can be constructed from pairs of those pairs, and octonions constructed from pairs of those pairs of pairs.\n",
    "\n",
    "For more specifics, see my write-up about the Cayley-Dickson construction [at this link](https://abstract-algebra.readthedocs.io/en/latest/55_cayley_dickson.html)."
   ]
  },
  {
   "cell_type": "code",
   "execution_count": 1,
   "id": "da5d5dd6",
   "metadata": {},
   "outputs": [],
   "source": [
    "# from fractions import Fraction\n",
    "from random import randint"
   ]
  },
  {
   "cell_type": "code",
   "execution_count": 2,
   "id": "7dd5b8f3",
   "metadata": {},
   "outputs": [],
   "source": [
    "class Zi:\n",
    "    \"\"\"Pairs of integers (Gaussian Integers), Pairs of pairs of integers (Quaternion Integers),\n",
    "    Pairs of pairs of pairs of integers (Octonion Integers), etc.\"\"\"\n",
    "    \n",
    "    def __init__(self, re=None, im=None):\n",
    "\n",
    "        # --------------------------------------------------------\n",
    "        # re is a float or int, and im is a float, int, or None\n",
    "        \n",
    "        if isinstance(re, (float, int)):\n",
    "            self.__re = round(re)\n",
    "            if im is None:\n",
    "                self.__im = 0\n",
    "            elif isinstance(im, (float, int)):\n",
    "                self.__im = round(im)\n",
    "            else:\n",
    "                raise Exception(f\"Inputs incompatible: {re} and {im}\")\n",
    "\n",
    "        # --------------------------------------------------------\n",
    "        # re is a complex, and im is None, a complex, or a Zi\n",
    "        \n",
    "        elif isinstance(re, complex):\n",
    "            if im is None:  # \n",
    "                self.__re = round(re.real)\n",
    "                self.__im = round(re.imag)\n",
    "            elif isinstance(im, (complex, Zi)):\n",
    "                self.__re = Zi(re)\n",
    "                self.__im = Zi(im)\n",
    "            else:\n",
    "                raise Exception(f\"Inputs incompatible: {re} and {im}\")\n",
    "\n",
    "        # --------------------------------------------------------\n",
    "        # re is a Zi, and im is None, a complex, or a Zi\n",
    "        \n",
    "        elif isinstance(re, Zi):\n",
    "            if im is None:\n",
    "                self.__re = re.real\n",
    "                self.__im = re.imag\n",
    "            elif isinstance(im, (complex, Zi)):\n",
    "                self.__re = Zi(re)\n",
    "                self.__im = Zi(im)\n",
    "            else:\n",
    "                raise Exception(f\"Inputs incompatible: {re} and {im}\")\n",
    "        \n",
    "        # --------------------------------------------------------\n",
    "        # Both re and im are None\n",
    "        \n",
    "        elif re is None:\n",
    "            self.__re = 0\n",
    "            if im is None:\n",
    "                self.__im = 0\n",
    "            else:\n",
    "                raise Exception(f\"If re is None, then im must be None. But im = {im}\")\n",
    "        else:\n",
    "            raise Exception(f\"Unexpected combination of input types: {re} and {im}\")\n",
    "        \n",
    "    def __repr__(self):\n",
    "        return f\"{self.__class__.__name__}({self.__re}, {self.__im})\"\n",
    "                                \n",
    "    @property\n",
    "    def real(self):\n",
    "        return self.__re\n",
    "    \n",
    "    @property\n",
    "    def imag(self):\n",
    "        return self.__im\n",
    "\n",
    "    def __neg__(self):\n",
    "        return Zi(- self.__re, - self.__im)\n",
    "\n",
    "    def __add__(self, other):\n",
    "        return Zi(self.__re + other.real, self.__im + other.imag)\n",
    "\n",
    "    def __sub__(self, other):\n",
    "        return Zi(self.__re - other.real, self.__im - other.imag)\n",
    "\n",
    "    # Cayley-Dickson Construction\n",
    "    # See [Schafer, 1966]\n",
    "    # Conjugation (*) define recursively: a* = a and (u, v)* = (u*, -v)\n",
    "    # Multiplication: (a, b) x (c, d) = (a x c  +  mu x d x b*,  a* x d  +  c x b)\n",
    "    # where mu is hardcoded below to be -1, for now.\n",
    "    def __mul__(self, other):\n",
    "        a, b, c, d = self.__re, self.__im, other.real, other.imag\n",
    "        real_part = a * c - d * b.conjugate()\n",
    "        imag_part = a.conjugate() * d + c * b\n",
    "        return Zi(real_part, imag_part)\n",
    "\n",
    "    def __rmul__(self, other):\n",
    "        return self * other\n",
    "\n",
    "    def conjugate(self):\n",
    "        return Zi(self.__re, - self.__im)\n",
    "\n",
    "    def norm(self):\n",
    "        if isinstance(self.__re, (float, int)) and isinstance(self.__im, (float, int)):\n",
    "            n = self * self.conjugate()\n",
    "            return n.real\n",
    "        elif isinstance(self.__re, Zi) and isinstance(self.__im, Zi):\n",
    "            p = self.__re.norm() + self.__im.norm()\n",
    "            return p\n",
    "        else:\n",
    "            raise Exception(f\"Can't take norm of {self}\")\n",
    "    \n",
    "    def depth(self):\n",
    "        \"\"\"Depth is the number levels contained in the Zi.\n",
    "        That is, a Zi made up of two integers has depth 0, and a Zi\n",
    "        made up of two other Zi's, each of depth n, has depth n+1.\"\"\"\n",
    "        def aux(x, d):\n",
    "            if isinstance(x, int):\n",
    "                return d\n",
    "            else:\n",
    "                return aux(x.real, d + 1)\n",
    "        return aux(self.__re, 0)\n",
    "            \n",
    "    def is_complex(self):\n",
    "        \"\"\"Return True if this Zi is essentially a complex number\n",
    "        That is, the re & im parts are numbers, not other Zis.\"\"\"\n",
    "        # return isinstance(self.__re, (float, int)) and isinstance(self.__im, (float, int))\n",
    "        return self.depth() == 0\n",
    "\n",
    "    def is_quaternion(self):\n",
    "        \"\"\"Return True if this Zi is essentially a quaternion\n",
    "        That is, the re & im parts are essentially complex numbers.\"\"\"\n",
    "        # return self.__re.is_complex() and self.__im.is_complex()\n",
    "        return self.depth() == 1\n",
    "\n",
    "    def is_octonion(self):\n",
    "        \"\"\"Return True if this Zi is essentially an octonion\n",
    "        That is, the re & im parts are essentially quaternions.\"\"\"\n",
    "        # return self.__re.is_quaternion() and self.__im.is_quaternion()\n",
    "        return self.depth() == 2\n",
    "\n",
    "    @staticmethod\n",
    "    def random(re1=-100, re2=100, im1=-100, im2=100):\n",
    "        \"\"\"Return a random Zi(re, im) with integer components where,\n",
    "        re1 <= re <= re2 and im1 <= im <= im2.\"\"\"\n",
    "        return Zi(randint(re1, re2), randint(im1, im2))\n",
    "\n",
    "    # A convenience function for testing purposes:\n",
    "    def make_complex(self):\n",
    "        if isinstance(self.__re, (float, int)) and isinstance(self.__im, (float, int)):\n",
    "            return complex(self.__re, self.__im)\n",
    "        elif isinstance(self.__re, Zi) and isinstance(self.__im, Zi):\n",
    "            return Zi(self.make_complex(self.__re), self.make_complex(self.__im))\n",
    "        else:\n",
    "            raise Exception(f\"Can't make complex out of {self}\")\n",
    "\n",
    "    # --------------------------\n",
    "\n",
    "    def __radd__(self, other):\n",
    "        \"\"\"The reflected (swapped) operand for addition: other + self\"\"\"\n",
    "        return Zi(other) + self\n",
    "\n",
    "    def __iadd__(self, other):\n",
    "        \"\"\"Implements the += operation: self += other\"\"\"\n",
    "        return Zi(self.real + other.real, self.imag + other.imag)\n",
    "\n",
    "    def __rsub__(self, other):\n",
    "        \"\"\"The reflected (swapped) operand for subtraction: other - self\"\"\"\n",
    "        return Zi(other) - self\n",
    "\n",
    "    def __isub__(self, other):\n",
    "        \"\"\"Implements the -= operation: self -= other\"\"\"\n",
    "        return Zi(self.real - other.real, self.imag - other.imag)\n",
    "\n",
    "    def __imul__(self, other):\n",
    "        \"\"\"Implements the *= operation: self *= other\"\"\"\n",
    "        a = self.real\n",
    "        b = self.imag\n",
    "        c = round(other.real)\n",
    "        d = round(other.imag)\n",
    "        return Zi(a * c - b * d, a * d + b * c)\n",
    "\n",
    "    def __pow__(self, n: int, modulo=None):\n",
    "        \"\"\"Implements the ** operator: self ** n.\n",
    "\n",
    "        If n == 0, then Zi(1, 0) is returned. If n < 0, then the Gaussian\n",
    "        rational, Qi, for 1 / self**n is returned. Otherwise, self ** n is returned.\n",
    "        \"\"\"\n",
    "        result = self\n",
    "        if isinstance(n, int):\n",
    "            if n == 0:\n",
    "                result = Zi(1)  # \"1\"\n",
    "            elif n > 0:\n",
    "                for _ in range(n - 1):\n",
    "                    result = result * self\n",
    "            else:  # n < 0\n",
    "                result = 1 / (self ** abs(n))\n",
    "        else:\n",
    "            raise TypeError(f\"The power, {n}, must be an integer.\")\n",
    "        return result\n",
    "\n",
    "    def __eq__(self, other) -> bool:\n",
    "        \"\"\"Return True if this Zi equals other.\"\"\"\n",
    "        return (self.real == other.real) and (self.imag == other.imag)\n",
    "\n",
    "    def __ne__(self, other) -> bool:\n",
    "        \"\"\"Return True if this Zi does NOT equal other.\"\"\"\n",
    "        return (self.real != other.real) or (self.imag != other.imag)\n",
    "\n",
    "    def __hash__(self):\n",
    "        \"\"\"Allow this Zi to be hashed.\"\"\"\n",
    "        return hash((self.real, self.imag))\n",
    "\n",
    "    def __abs__(self) -> float:\n",
    "        \"\"\"Returns the square root of the norm.\"\"\"\n",
    "        return math.sqrt(self.norm)\n",
    "\n",
    "    def __pos__(self):\n",
    "        return +self\n",
    "\n",
    "    def __rpow__(self, base):\n",
    "        return NotImplemented\n",
    "    \n",
    "    def __round__(self):\n",
    "        if isinstance(self.real, Number) and isinstance(self.imag, Number):\n",
    "            return Zi(round(self.real), round(self.imag))\n",
    "        else:\n",
    "            return self\n",
    "\n",
    "    @staticmethod\n",
    "    def eye():\n",
    "        \"\"\"Return i = Zi(0, 1)\"\"\"\n",
    "        return Zi(0, 1)\n",
    "\n",
    "    @staticmethod\n",
    "    def units():\n",
    "        \"\"\"Returns the list of four units, [1, -1, i, -i], as Zis.\"\"\"\n",
    "        return [Zi(1), -Zi(1), Zi.eye(), -Zi.eye()]\n",
    "\n",
    "    @property\n",
    "    def is_unit(self):\n",
    "        \"\"\"Returns True if this Zi is a unit.\"\"\"\n",
    "        return self in Zi.units()\n",
    "\n",
    "    @staticmethod\n",
    "    def two():\n",
    "        \"\"\"Returns 1+i, because a Gaussian integer has an even norm if and only if\n",
    "        it is a multiple of 1+i.\"\"\"\n",
    "        return Zi(1, 1)\n",
    "\n",
    "    def associates(self):\n",
    "        \"\"\"Return a list of this Zi's three associates\"\"\"\n",
    "        us = Zi.units()\n",
    "        return list(map(lambda u: u * self, us[1:]))  # skip multiplying by 1\n",
    "\n",
    "    def is_associate(self, other):\n",
    "        \"\"\"Return True if the other Zi is an associate of this Zi\n",
    "\n",
    "        Otherwise, return False.\n",
    "        \"\"\"\n",
    "        q = self // other\n",
    "        if q:\n",
    "            if q in Zi.units():\n",
    "                return True\n",
    "            else:\n",
    "                return False\n",
    "        else:\n",
    "            return False"
   ]
  },
  {
   "cell_type": "code",
   "execution_count": 3,
   "id": "ddd933ad-e12b-44bb-ae39-92ce4007849b",
   "metadata": {},
   "outputs": [
    {
     "data": {
      "text/plain": [
       "Zi(0, 0)"
      ]
     },
     "execution_count": 3,
     "metadata": {},
     "output_type": "execute_result"
    }
   ],
   "source": [
    "Zi()"
   ]
  },
  {
   "cell_type": "code",
   "execution_count": 4,
   "id": "e1163966",
   "metadata": {},
   "outputs": [
    {
     "data": {
      "text/plain": [
       "Zi(1, 0)"
      ]
     },
     "execution_count": 4,
     "metadata": {},
     "output_type": "execute_result"
    }
   ],
   "source": [
    "Zi(1)"
   ]
  },
  {
   "cell_type": "code",
   "execution_count": 5,
   "id": "4136e233",
   "metadata": {},
   "outputs": [
    {
     "data": {
      "text/plain": [
       "Zi(1, 2)"
      ]
     },
     "execution_count": 5,
     "metadata": {},
     "output_type": "execute_result"
    }
   ],
   "source": [
    "Zi(1, 2)"
   ]
  },
  {
   "cell_type": "code",
   "execution_count": 6,
   "id": "383577e3",
   "metadata": {},
   "outputs": [
    {
     "data": {
      "text/plain": [
       "Zi(2, 2)"
      ]
     },
     "execution_count": 6,
     "metadata": {},
     "output_type": "execute_result"
    }
   ],
   "source": [
    "Zi(1.9, 2.1)"
   ]
  },
  {
   "cell_type": "code",
   "execution_count": 7,
   "id": "cb04a9a1",
   "metadata": {},
   "outputs": [
    {
     "data": {
      "text/plain": [
       "Zi(2, 2)"
      ]
     },
     "execution_count": 7,
     "metadata": {},
     "output_type": "execute_result"
    }
   ],
   "source": [
    "Zi((1.9+2.1j))"
   ]
  },
  {
   "cell_type": "code",
   "execution_count": 8,
   "id": "5be9e09d",
   "metadata": {},
   "outputs": [
    {
     "data": {
      "text/plain": [
       "Zi(1, 2)"
      ]
     },
     "execution_count": 8,
     "metadata": {},
     "output_type": "execute_result"
    }
   ],
   "source": [
    "Zi(Zi(1, 2))"
   ]
  },
  {
   "cell_type": "code",
   "execution_count": 9,
   "id": "7f8ba615",
   "metadata": {},
   "outputs": [
    {
     "data": {
      "text/plain": [
       "Zi(Zi(0, 0), Zi(1, 0))"
      ]
     },
     "execution_count": 9,
     "metadata": {},
     "output_type": "execute_result"
    }
   ],
   "source": [
    "Zi(Zi(), Zi(1))"
   ]
  },
  {
   "cell_type": "code",
   "execution_count": 10,
   "id": "d30c7a22",
   "metadata": {},
   "outputs": [
    {
     "data": {
      "text/plain": [
       "Zi(Zi(3, 4), Zi(1, 2))"
      ]
     },
     "execution_count": 10,
     "metadata": {},
     "output_type": "execute_result"
    }
   ],
   "source": [
    "Zi(Zi(3, 4), (1+2j))"
   ]
  },
  {
   "cell_type": "code",
   "execution_count": 11,
   "id": "6953a671",
   "metadata": {},
   "outputs": [
    {
     "data": {
      "text/plain": [
       "Zi(Zi(3, 4), Zi(1, 2))"
      ]
     },
     "execution_count": 11,
     "metadata": {},
     "output_type": "execute_result"
    }
   ],
   "source": [
    "Zi((3+4j), Zi(1, 2))"
   ]
  },
  {
   "cell_type": "code",
   "execution_count": 12,
   "id": "3bd568be",
   "metadata": {},
   "outputs": [
    {
     "data": {
      "text/plain": [
       "Zi(Zi(3, 4), Zi(1, 2))"
      ]
     },
     "execution_count": 12,
     "metadata": {},
     "output_type": "execute_result"
    }
   ],
   "source": [
    "Zi((3+4j), (1+2j))"
   ]
  },
  {
   "cell_type": "code",
   "execution_count": 13,
   "id": "30307b26",
   "metadata": {},
   "outputs": [
    {
     "data": {
      "text/plain": [
       "Zi(Zi(Zi(0, 0), Zi(1, 0)), Zi(Zi(3, 4), Zi(1, 2)))"
      ]
     },
     "execution_count": 13,
     "metadata": {},
     "output_type": "execute_result"
    }
   ],
   "source": [
    "Zi(Zi(Zi(0), Zi(1)), Zi(Zi(3, 4), Zi(1, 2)))"
   ]
  },
  {
   "cell_type": "code",
   "execution_count": 14,
   "id": "5c030f52",
   "metadata": {},
   "outputs": [
    {
     "data": {
      "text/plain": [
       "Zi(Zi(Zi(0, 0), Zi(1, 0)), Zi(Zi(3, 4), Zi(1, 2)))"
      ]
     },
     "execution_count": 14,
     "metadata": {},
     "output_type": "execute_result"
    }
   ],
   "source": [
    "Zi(Zi(Zi(0), Zi(1)), Zi(Zi(3, 4), (1+2j)))"
   ]
  },
  {
   "cell_type": "code",
   "execution_count": 15,
   "id": "85a21f89-6ed9-459a-a297-4e46e5a2d955",
   "metadata": {},
   "outputs": [],
   "source": [
    "def random_quaternion(size=10):\n",
    "    ul = -size; ll = size  # Upper & lower limits of random numbers\n",
    "    return Zi(Zi.random(ul, ll, ul, ll), Zi.random(ul, ll, ul, ll))\n",
    "\n",
    "def random_octonion(size=10):\n",
    "    return Zi(random_quaternion(size), random_quaternion(size))"
   ]
  },
  {
   "cell_type": "markdown",
   "id": "7300fef0-36d6-4e06-874f-81aec47273dd",
   "metadata": {},
   "source": [
    "## Examples"
   ]
  },
  {
   "cell_type": "code",
   "execution_count": 16,
   "id": "e7457068-883a-4072-a36e-1e05855e9b31",
   "metadata": {},
   "outputs": [
    {
     "name": "stdout",
     "output_type": "stream",
     "text": [
      "zs = [Zi(-1, 8), Zi(3, -2), Zi(-9, 5), Zi(-3, 6)]\n",
      "z1 = Zi(-1, 8)\n",
      "z2 = Zi(3, -2)\n",
      "z3 = Zi(-9, 5)\n",
      "z4 = Zi(-3, 6)\n"
     ]
    }
   ],
   "source": [
    "n = 4\n",
    "zs = [Zi.random(-10, 10, -10, 10) for i in range(n)]\n",
    "z1 = zs[0]\n",
    "z2 = zs[1]\n",
    "z3 = zs[2]\n",
    "z4 = zs[3]\n",
    "print(f\"{zs = }\")\n",
    "print(f\"{z1 = }\")\n",
    "print(f\"{z2 = }\")\n",
    "print(f\"{z3 = }\")\n",
    "print(f\"{z4 = }\")"
   ]
  },
  {
   "cell_type": "code",
   "execution_count": 17,
   "id": "9b2664b1",
   "metadata": {},
   "outputs": [
    {
     "name": "stdout",
     "output_type": "stream",
     "text": [
      "z1 = Zi(-1, 8)\n",
      "-z1 = Zi(1, -8)\n",
      "z1.real = -1\n",
      "z1.imag = 8\n",
      "z1.conjugate() = Zi(-1, -8)\n",
      "z1.norm() = 65\n",
      "z1.depth() = 0\n",
      "z1.is_complex() = True\n"
     ]
    }
   ],
   "source": [
    "print(f\"{z1 = }\")\n",
    "print(f\"{-z1 = }\")\n",
    "print(f\"{z1.real = }\")\n",
    "print(f\"{z1.imag = }\")\n",
    "print(f\"{z1.conjugate() = }\")\n",
    "print(f\"{z1.norm() = }\")\n",
    "print(f\"{z1.depth() = }\")\n",
    "print(f\"{z1.is_complex() = }\")"
   ]
  },
  {
   "cell_type": "raw",
   "id": "5ac8ce8c",
   "metadata": {},
   "source": [
    "print(f\"{z1 / 2 = }\")\n",
    "print(f\"{2 / z1 = }\")\n",
    "print(f\"{(z1 / 2) * (2 / z1) = }\")\n",
    "print(f\"{z1.inverse() = }\")\n",
    "print(f\"{z1 * z1.inverse() = }\")"
   ]
  },
  {
   "cell_type": "code",
   "execution_count": 18,
   "id": "ffff863d-a1c8-4f23-9874-f5a66a8346c9",
   "metadata": {},
   "outputs": [
    {
     "name": "stdout",
     "output_type": "stream",
     "text": [
      "z1 = Zi(-1, 8)\n",
      "z2 = Zi(3, -2)\n",
      "z1 + z2 = Zi(2, 6)\n",
      "z1 - z2 = Zi(-4, 10)\n"
     ]
    }
   ],
   "source": [
    "print(f\"{z1 = }\")\n",
    "print(f\"{z2 = }\")\n",
    "print(f\"{z1 + z2 = }\")\n",
    "print(f\"{z1 - z2 = }\")"
   ]
  },
  {
   "cell_type": "markdown",
   "id": "37cf4b7b-b29a-4681-a1a3-4542847a2b14",
   "metadata": {},
   "source": [
    "For comparisons, create complex numbers corresponding to z1, z2, z3, and z4"
   ]
  },
  {
   "cell_type": "code",
   "execution_count": 19,
   "id": "e2669a2f-a09e-4c2f-b3c9-e4277d446136",
   "metadata": {},
   "outputs": [
    {
     "name": "stdout",
     "output_type": "stream",
     "text": [
      "z1 = Zi(-1, 8) --> c1 = (-1+8j)\n",
      "z2 = Zi(3, -2) --> c2 = (3-2j)\n",
      "z3 = Zi(-9, 5) --> c3 = (-9+5j)\n",
      "z4 = Zi(-3, 6) --> c4 = (-3+6j)\n"
     ]
    }
   ],
   "source": [
    "c1 = z1.make_complex()\n",
    "c2 = z2.make_complex()\n",
    "c3 = z3.make_complex()\n",
    "c4 = z4.make_complex()\n",
    "\n",
    "print(f\"{z1 = } --> {c1 = }\")\n",
    "print(f\"{z2 = } --> {c2 = }\")\n",
    "print(f\"{z3 = } --> {c3 = }\")\n",
    "print(f\"{z4 = } --> {c4 = }\")"
   ]
  },
  {
   "cell_type": "code",
   "execution_count": 20,
   "id": "74241d55-83f4-4b79-bfce-d07e4cbb45b9",
   "metadata": {},
   "outputs": [
    {
     "name": "stdout",
     "output_type": "stream",
     "text": [
      "z1 * z2 = Zi(13, 26)\n",
      "c1 * c2 = (13+26j)\n",
      "\n",
      "z1 * 2 = Zi(-2, 16)\n",
      "2 * z1 = Zi(-2, 16)\n"
     ]
    }
   ],
   "source": [
    "print(f\"{z1 * z2 = }\")\n",
    "print(f\"{c1 * c2 = }\\n\")\n",
    "\n",
    "print(f\"{z1 * 2 = }\")\n",
    "print(f\"{2 * z1 = }\")"
   ]
  },
  {
   "cell_type": "code",
   "execution_count": 21,
   "id": "ac0fefae-4c8a-44ea-bc2e-18de5f25dd07",
   "metadata": {},
   "outputs": [
    {
     "name": "stdout",
     "output_type": "stream",
     "text": [
      "q1.depth() = 1\n",
      "q1.is_complex() = False\n",
      "q1.is_quaternion() = True\n",
      "q1 = Zi(Zi(-1, 8), Zi(3, -2))\n",
      "q2 = Zi(Zi(-9, 5), Zi(-3, 6))\n",
      "\n",
      "d1 = Zi(Zi(-1, 8), Zi(3, -2))\n",
      "d2 = Zi(Zi(-9, 5), Zi(-3, 6))\n",
      "\n",
      "q1 + q2 = Zi(Zi(-10, 13), Zi(0, 4))\n",
      "q1 * 2 = Zi(Zi(-2, 16), Zi(6, -4))\n",
      "2 * q1 = Zi(Zi(-2, 16), Zi(6, -4))\n",
      "q1 * q2 = Zi(Zi(-10, -89), Zi(34, 51))\n",
      "\n",
      "d1 + d2 = Zi(Zi(-10, 13), Zi(0, 4))\n",
      "d1 * d2 = Zi(Zi(-10, -89), Zi(34, 51))\n"
     ]
    }
   ],
   "source": [
    "q1 = Zi(z1, z2)\n",
    "q2 = Zi(z3, z4)\n",
    "\n",
    "d1 = Zi(c1, c2)\n",
    "d2 = Zi(c3, c4)\n",
    "\n",
    "print(f\"{q1.depth() = }\")\n",
    "print(f\"{q1.is_complex() = }\")\n",
    "print(f\"{q1.is_quaternion() = }\")\n",
    "print(f\"{q1 = }\")\n",
    "print(f\"{q2 = }\\n\")\n",
    "\n",
    "print(f\"{d1 = }\")\n",
    "print(f\"{d2 = }\\n\")\n",
    "\n",
    "print(f\"{q1 + q2 = }\")\n",
    "print(f\"{q1 * 2 = }\")\n",
    "print(f\"{2 * q1 = }\")\n",
    "print(f\"{q1 * q2 = }\\n\")\n",
    "\n",
    "print(f\"{d1 + d2 = }\")\n",
    "print(f\"{d1 * d2 = }\")"
   ]
  },
  {
   "cell_type": "code",
   "execution_count": 22,
   "id": "44fd1089-37e2-4617-af60-da9912bdf660",
   "metadata": {},
   "outputs": [
    {
     "name": "stdout",
     "output_type": "stream",
     "text": [
      "o1 = Zi(Zi(Zi(-1, 8), Zi(3, -2)), Zi(Zi(-9, 5), Zi(-3, 6)))\n",
      "o1.depth() = 2\n",
      "o1.is_quaternion() = False\n",
      "o1.is_octonion() = True\n"
     ]
    }
   ],
   "source": [
    "o1 = Zi(q1, q2)\n",
    "print(f\"{o1 = }\")\n",
    "print(f\"{o1.depth() = }\")\n",
    "print(f\"{o1.is_quaternion() = }\")\n",
    "print(f\"{o1.is_octonion() = }\")"
   ]
  },
  {
   "cell_type": "code",
   "execution_count": 23,
   "id": "e0225420-26fa-4455-a1d9-46241f3abcbc",
   "metadata": {},
   "outputs": [
    {
     "data": {
      "text/plain": [
       "229"
      ]
     },
     "execution_count": 23,
     "metadata": {},
     "output_type": "execute_result"
    }
   ],
   "source": [
    "o1.norm()"
   ]
  },
  {
   "cell_type": "code",
   "execution_count": 24,
   "id": "80989725-cb07-42c0-b0bb-552d78288334",
   "metadata": {},
   "outputs": [
    {
     "data": {
      "text/plain": [
       "229"
      ]
     },
     "execution_count": 24,
     "metadata": {},
     "output_type": "execute_result"
    }
   ],
   "source": [
    "z1.norm() + z2.norm() + z3.norm() + z4.norm()"
   ]
  },
  {
   "cell_type": "code",
   "execution_count": 25,
   "id": "78bc7e6f-bd23-4948-87d1-6658a83618fa",
   "metadata": {},
   "outputs": [
    {
     "data": {
      "text/plain": [
       "78"
      ]
     },
     "execution_count": 25,
     "metadata": {},
     "output_type": "execute_result"
    }
   ],
   "source": [
    "q1.norm()"
   ]
  },
  {
   "cell_type": "code",
   "execution_count": 26,
   "id": "43091c34-855f-47f2-861e-2deb044c02a5",
   "metadata": {},
   "outputs": [],
   "source": [
    "qx = random_quaternion()\n",
    "qy = random_quaternion()"
   ]
  },
  {
   "cell_type": "code",
   "execution_count": 27,
   "id": "ef4d53d0-28c6-4e97-9f56-961618b92e55",
   "metadata": {},
   "outputs": [
    {
     "data": {
      "text/plain": [
       "Zi(Zi(10, -1), Zi(1, 2))"
      ]
     },
     "execution_count": 27,
     "metadata": {},
     "output_type": "execute_result"
    }
   ],
   "source": [
    "qx"
   ]
  },
  {
   "cell_type": "code",
   "execution_count": 28,
   "id": "641bc06a-4ccb-4325-abc5-26c69985d9bf",
   "metadata": {},
   "outputs": [
    {
     "data": {
      "text/plain": [
       "Zi(Zi(-7, -10), Zi(9, 1))"
      ]
     },
     "execution_count": 28,
     "metadata": {},
     "output_type": "execute_result"
    }
   ],
   "source": [
    "qy"
   ]
  },
  {
   "cell_type": "code",
   "execution_count": 29,
   "id": "85195249-efc9-4f52-b6d0-4bcaa5eeb093",
   "metadata": {},
   "outputs": [
    {
     "data": {
      "text/plain": [
       "Zi(Zi(104, -20), Zi(4, -2))"
      ]
     },
     "execution_count": 29,
     "metadata": {},
     "output_type": "execute_result"
    }
   ],
   "source": [
    "foo = qx * qx.conjugate()\n",
    "foo"
   ]
  },
  {
   "cell_type": "code",
   "execution_count": 30,
   "id": "84b95957-f772-448b-99a1-07aaae1cb4c4",
   "metadata": {},
   "outputs": [
    {
     "data": {
      "text/plain": [
       "11236"
      ]
     },
     "execution_count": 30,
     "metadata": {},
     "output_type": "execute_result"
    }
   ],
   "source": [
    "foo.norm()"
   ]
  }
 ],
 "metadata": {
  "kernelspec": {
   "display_name": "Python 3 (ipykernel)",
   "language": "python",
   "name": "python3"
  },
  "language_info": {
   "codemirror_mode": {
    "name": "ipython",
    "version": 3
   },
   "file_extension": ".py",
   "mimetype": "text/x-python",
   "name": "python",
   "nbconvert_exporter": "python",
   "pygments_lexer": "ipython3",
   "version": "3.11.5"
  }
 },
 "nbformat": 4,
 "nbformat_minor": 5
}
