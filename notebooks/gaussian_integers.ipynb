{
 "cells": [
  {
   "cell_type": "markdown",
   "id": "d7c1a34e",
   "metadata": {},
   "source": [
    "# Gaussian Integers"
   ]
  },
  {
   "cell_type": "markdown",
   "id": "22cbabb0",
   "metadata": {},
   "source": [
    "<i>Version 2</i>"
   ]
  },
  {
   "cell_type": "markdown",
   "id": "78d12b9c-d027-4465-a0d6-010afaef30b1",
   "metadata": {},
   "source": [
    "> <i>In number theory, a Gaussian integer is a complex number whose real and imaginary parts are both integers. The Gaussian integers, with ordinary addition and multiplication of complex numbers, form an integral domain, usually written as $\\mathbb{Z}[i]$.</i>\n",
    "> \n",
    "> <i>Gaussian integers are named after the German mathematician Carl Friedrich Gauss.</i>\n",
    "> \n",
    "> -- [Wikipedia](https://en.wikipedia.org/wiki/Gaussian_integer)"
   ]
  },
  {
   "cell_type": "markdown",
   "id": "a4f1b845-dd43-41ef-8c6d-54ba8fc4becf",
   "metadata": {},
   "source": [
    "## References"
   ]
  },
  {
   "cell_type": "markdown",
   "id": "75df8af6-cc44-48ae-9453-9736d0bc0c9b",
   "metadata": {},
   "source": [
    "* [The Gaussian Integers](https://kconrad.math.uconn.edu/blurbs/ugradnumthy/Zinotes.pdf) by Keith Conrad\n",
    "* [Gaussian Prime](https://mathworld.wolfram.com/GaussianPrime.html) - Wolfram\n",
    "* [1.13: The Gaussian Integers](https://math.libretexts.org/Bookshelves/Combinatorics_and_Discrete_Mathematics/Elementary_Number_Theory_(Barrus_and_Clark)/01%3A_Chapters/1.13%3A_The_Gaussian_Integers) in [Elementary Number Theory](https://math.libretexts.org/Bookshelves/Combinatorics_and_Discrete_Mathematics/Elementary_Number_Theory_(Barrus_and_Clark)) by Barrus and Clark\n",
    "* [Gaussian Integers and Rings of Algebraic Integers](https://www.math.uci.edu/~ndonalds/math180b/6gaussian.pdf) in lecture notes by Neil Donaldson\n",
    "* [Gaussian integer -- Wikipedia](https://en.wikipedia.org/wiki/Gaussian_integer)\n",
    "* Python:\n",
    "  * [divmod](https://docs.python.org/3/library/functions.html#divmod) - implements the division theorem for Python integers or floats\n",
    "  * [Emulating Numeric Types](https://docs.python.org/3/reference/datamodel.html#emulating-numeric-types)\n",
    "  * [cmath — Mathematical functions for complex numbers](https://docs.python.org/3/library/cmath.html)\n",
    "  * [math — Mathematical functions](https://docs.python.org/3/library/math.html)\n",
    "  * [Python standard operators](https://docs.python.org/3/library/operator.html)"
   ]
  },
  {
   "cell_type": "markdown",
   "id": "f61934d4-1336-4066-b6ec-5244c170c0ff",
   "metadata": {},
   "source": [
    "## Zi, the Class of Gaussian Integers"
   ]
  },
  {
   "cell_type": "markdown",
   "id": "12a7040a-1a27-4c8a-9ab3-76ec2349c523",
   "metadata": {},
   "source": [
    "The Python module, ``gaussians``, defines two classes, ``Zi`` & ``Qi``, that implement Gaussian integer and Gaussian rational functionality, respectively.\n",
    "\n",
    "This notebook is primarily focused on ``Zi``.\n",
    "\n",
    "A ``Zi`` has only two fields, ``real`` and ``imag``; both are integers.\n",
    "\n",
    "The source code, along with this Jupyter notebook and others, can be found on Github: https://github.com/alreich/abstract_algebra"
   ]
  },
  {
   "cell_type": "code",
   "execution_count": 1,
   "id": "ddfb290e",
   "metadata": {},
   "source": [
    "from gaussians import Zi, Qi, isprime  # isprime is only needed for the plot below"
   ],
   "outputs": []
  },
  {
   "cell_type": "markdown",
   "id": "9e605799",
   "metadata": {},
   "source": [
    "## Just for Fun..."
   ]
  },
  {
   "cell_type": "markdown",
   "id": "d8e271d4",
   "metadata": {},
   "source": [
    "The plot, below, depicts the following items:\n",
    "\n",
    "* all non-prime Gaussian integers (light blue dots),\n",
    "* the Gaussian primes, $a+bi \\in \\mathbb{Z}[i]$ such that $|a|, |b| \\le n$ (red dots),\n",
    "* and primes that are not Gaussian primes (black dots)"
   ]
  },
  {
   "cell_type": "code",
   "execution_count": 2,
   "id": "e80090dc",
   "metadata": {},
   "source": [
    "import matplotlib.pyplot as plt\n",
    "\n",
    "n = 50\n",
    "nx = n; ny = n\n",
    "xs = []; ys = []\n",
    "js = []; ks = []\n",
    "zx = []; zy = []\n",
    "gp_count = 0; gi_count = 0; \n",
    "\n",
    "for x in range(-nx, nx + 1):\n",
    "    if isprime(x):\n",
    "        zx.append(x)\n",
    "        zy.append(0)\n",
    "    for y in range(-ny, ny +1 ):\n",
    "        gi = Zi(x, y)\n",
    "        gi_count += 1\n",
    "        if Zi.is_gaussian_prime(gi):\n",
    "            gp_count += 1\n",
    "            xs.append(x)\n",
    "            ys.append(y)\n",
    "        else:\n",
    "            js.append(x)\n",
    "            ks.append(y)\n",
    "\n",
    "plt.figure(figsize=(10, 10))\n",
    "plt.axvline(0, color = 'blue', alpha = 0.5, linewidth = 0.5)\n",
    "plt.axhline(0, color = 'blue', alpha = 0.5, linewidth = 0.5)\n",
    "plt.scatter(js, ks, marker=\".\", color = 'lightblue')\n",
    "plt.scatter(zx, zy, marker=\".\", color = 'k')\n",
    "plt.scatter(xs, ys, marker=\".\", color = 'r')\n",
    "plt.title(f\"Gaussian integers (lightblue), Gaussian primes (red), & non-Gaussian primes (black)\")\n",
    "      \n",
    "_ = plt.show\n",
    "print(f\"{gi_count} Gaussian integers in total ({2 * n + 1}^2), including Gaussian primes\")\n",
    "print(f\"{gp_count} Gaussian primes\")"
   ],
   "outputs": []
  },
  {
   "cell_type": "markdown",
   "id": "fe7551f5-0f7d-4ef8-8285-7784cf08200d",
   "metadata": {},
   "source": [
    "## Creating Gaussian Integers"
   ]
  },
  {
   "cell_type": "code",
   "execution_count": 3,
   "id": "95b2e594-5821-458c-9885-ba091b26d296",
   "metadata": {},
   "source": [
    "c1 = Zi(4, 5)\n",
    "c1"
   ],
   "outputs": []
  },
  {
   "cell_type": "code",
   "execution_count": 4,
   "id": "d27667e0-e674-46be-908d-14e13041cda3",
   "metadata": {},
   "source": [
    "c2 = Zi(1, -2)\n",
    "c2"
   ],
   "outputs": []
  },
  {
   "cell_type": "code",
   "execution_count": 5,
   "id": "477b5afb-6158-4799-869d-df2fc7ee9039",
   "metadata": {},
   "source": [
    "zero = Zi()\n",
    "zero"
   ],
   "outputs": []
  },
  {
   "cell_type": "code",
   "execution_count": 6,
   "id": "9a9aa156-5693-498b-8ce7-913ac4192405",
   "metadata": {},
   "source": [
    "one = Zi(1)\n",
    "one"
   ],
   "outputs": []
  },
  {
   "cell_type": "markdown",
   "id": "9c976d46",
   "metadata": {},
   "source": [
    "``Zi.eye()`` is a **class method** that produces the ``Zi`` version of $i$, the \"square root of -1\": $\\sqrt{-1}$"
   ]
  },
  {
   "cell_type": "code",
   "execution_count": 7,
   "id": "cd426515-fdb5-4350-90ac-5b2c93f4b829",
   "metadata": {},
   "source": [
    "eye = Zi.eye()  # i (the \"square root of -1\")\n",
    "eye"
   ],
   "outputs": []
  },
  {
   "cell_type": "markdown",
   "id": "1ac6b97b",
   "metadata": {},
   "source": [
    "Floating point numbers are rounded to the nearest integer.\n",
    "\n",
    "This behavior is used in many places in the code, including the implementation of the **Modified Division Theorem**"
   ]
  },
  {
   "cell_type": "code",
   "execution_count": 8,
   "id": "fec9cce5",
   "metadata": {},
   "source": [
    "Zi(2.1, 5)"
   ],
   "outputs": []
  },
  {
   "cell_type": "code",
   "execution_count": 9,
   "id": "5cdeb5bc",
   "metadata": {},
   "source": [
    "Zi(-2, 6.7)"
   ],
   "outputs": []
  },
  {
   "cell_type": "code",
   "execution_count": 10,
   "id": "2a8e96b5",
   "metadata": {},
   "source": [
    "Zi(2.5, 6.3)"
   ],
   "outputs": []
  },
  {
   "cell_type": "markdown",
   "id": "4319516d",
   "metadata": {},
   "source": [
    "The first argument can be a complex number. If so, the second argument is ignored.\n",
    "\n",
    "The real & imag parts of the complex number are rounded to nearest integers."
   ]
  },
  {
   "cell_type": "code",
   "execution_count": 11,
   "id": "8a9aba73",
   "metadata": {},
   "source": [
    "Zi((2.2 - 3.9j))"
   ],
   "outputs": []
  },
  {
   "cell_type": "code",
   "execution_count": 12,
   "id": "60ec2810",
   "metadata": {},
   "source": [
    "Zi((2-3j))"
   ],
   "outputs": []
  },
  {
   "cell_type": "code",
   "execution_count": 13,
   "id": "687707c8",
   "metadata": {},
   "source": [
    "Zi(1j)"
   ],
   "outputs": []
  },
  {
   "cell_type": "code",
   "execution_count": 14,
   "id": "6929c44b",
   "metadata": {},
   "source": [
    "Zi((1+0j))"
   ],
   "outputs": []
  },
  {
   "cell_type": "markdown",
   "id": "02ea550f-6950-487d-924d-9fa8fe2d9473",
   "metadata": {},
   "source": [
    "## Conversion to a Complex Number"
   ]
  },
  {
   "cell_type": "code",
   "execution_count": 15,
   "id": "8fd88746-f2c0-432e-ac5a-1807df5737c1",
   "metadata": {},
   "source": [
    "complex(c1)"
   ],
   "outputs": []
  },
  {
   "cell_type": "markdown",
   "id": "c1d9d268-8036-43e1-b6c6-af3e8c2dab04",
   "metadata": {},
   "source": [
    "The string function, ``str``, will convert a Gaussian integer to the string version of its corresponding complex number.\n",
    "\n",
    "Also, see the section, \"Printing Gaussian Integers\" below."
   ]
  },
  {
   "cell_type": "code",
   "execution_count": 16,
   "id": "3c40a322-489e-4970-82d1-81259eeb29ef",
   "metadata": {},
   "source": [
    "str(c1)"
   ],
   "outputs": []
  },
  {
   "cell_type": "markdown",
   "id": "1976191e",
   "metadata": {},
   "source": [
    "## Zi Accessors"
   ]
  },
  {
   "cell_type": "code",
   "execution_count": 17,
   "id": "ab959875",
   "metadata": {},
   "source": [
    "c1.real"
   ],
   "outputs": []
  },
  {
   "cell_type": "code",
   "execution_count": 18,
   "id": "52254671",
   "metadata": {},
   "source": [
    "c1.imag"
   ],
   "outputs": []
  },
  {
   "cell_type": "markdown",
   "id": "2cff2fb1-82c4-4201-b1ab-db3977532178",
   "metadata": {},
   "source": [
    "The **norm** and **conjugate** are not accessors, but they are implemented as properties, so they behave like accessors."
   ]
  },
  {
   "cell_type": "code",
   "execution_count": 19,
   "id": "18086d5e-0dbc-401c-a2db-a3efe8479c2f",
   "metadata": {},
   "source": [
    "c1.norm"
   ],
   "outputs": []
  },
  {
   "cell_type": "code",
   "execution_count": 20,
   "id": "21980a48-c202-46e7-885e-8c904d3c5f8e",
   "metadata": {},
   "source": [
    "c1.conjugate"
   ],
   "outputs": []
  },
  {
   "cell_type": "markdown",
   "id": "79730de7",
   "metadata": {},
   "source": [
    "And for completeness, the <i>absolute value</i>..."
   ]
  },
  {
   "cell_type": "code",
   "execution_count": 21,
   "id": "7403ee1c-c8f1-4904-aa7b-44381fce1858",
   "metadata": {},
   "source": [
    "abs(c1)"
   ],
   "outputs": []
  },
  {
   "cell_type": "markdown",
   "id": "e246e72d-7267-4248-8147-e9ee823b63da",
   "metadata": {},
   "source": [
    "## Printing Gaussian Integers"
   ]
  },
  {
   "cell_type": "markdown",
   "id": "f57e835d-bc87-4fa1-9342-ab52742d0dd4",
   "metadata": {},
   "source": [
    "For ``Zi``, the string representation is the same as that of a complex number in Python.  So, in printed form, a ``Zi`` looks like an ordinary Python complex number (which uses $j$ rather than $i$)."
   ]
  },
  {
   "cell_type": "code",
   "execution_count": 22,
   "id": "9d7a4cbb-f4fd-45fd-9a7e-5b0787356e58",
   "metadata": {},
   "source": [
    "print(Zi(2, -3))\n",
    "print(eye)\n",
    "print(zero)"
   ],
   "outputs": []
  },
  {
   "cell_type": "markdown",
   "id": "80751cc9-0c8f-49fb-b9f3-4ed65bb3e3fc",
   "metadata": {},
   "source": [
    "## Gaussian Integer Arithmetic"
   ]
  },
  {
   "cell_type": "markdown",
   "id": "34d6d752-6ce1-4690-aec2-d27c0dace1c2",
   "metadata": {},
   "source": [
    "### Addition"
   ]
  },
  {
   "cell_type": "code",
   "execution_count": 23,
   "id": "09f3245e-7542-4a79-b305-76be47ea0807",
   "metadata": {},
   "source": [
    "print(f\"{c1} + {c2} = {c1 + c2}\\n\")  # Zi + Zi\n",
    "\n",
    "print(f\"{c1} + 2 = {c1 + 2}\")  # Zi + int\n",
    "print(f\"2 + {c1} = {2 + c1}\\n\")  # int + Zi\n",
    "\n",
    "print(f\"{c1} + 1.9 = {c1 + 1.9}\")  # Zi + float\n",
    "print(f\"1.9 + {c1} = {1.9 + c1}\\n\")  # float + Zi\n",
    "\n",
    "cx = (1-1j)\n",
    "print(f\"{c1} + {cx} = {c1 + cx}\")  # Zi + complex\n",
    "print(f\"{cx} + {c1} = {cx + c1}\")  # complex + Zi"
   ],
   "outputs": []
  },
  {
   "cell_type": "markdown",
   "id": "42a6b791",
   "metadata": {},
   "source": [
    "In-place assignment for addition:"
   ]
  },
  {
   "cell_type": "code",
   "execution_count": 24,
   "id": "981ed5b1",
   "metadata": {},
   "source": [
    "sum = Zi()\n",
    "check = 0  # Also works for floats or complex (e.g., 0.0 or (0j))\n",
    "\n",
    "for k in range(5):\n",
    "    check += k\n",
    "    sum += Zi(k, k)\n",
    "\n",
    "print(check, sum)"
   ],
   "outputs": []
  },
  {
   "cell_type": "markdown",
   "id": "bb9dfafb-1cd8-446b-8a56-7d73cc23169c",
   "metadata": {},
   "source": [
    "### Subtraction"
   ]
  },
  {
   "cell_type": "code",
   "execution_count": 25,
   "id": "6e9296f5-979b-4ae6-b9ec-840cd1813105",
   "metadata": {},
   "source": [
    "print(f\"{c1} - {c2} = {c1 - c2}\\n\")\n",
    "\n",
    "print(f\"{c1} - 2 = {c1 - 2}\")\n",
    "print(f\"2 - {c1} = {2 - c1}\\n\")\n",
    "\n",
    "print(f\"{c1} - 1.9 = {c1 - 1.9}\")\n",
    "print(f\"1.9 - {c1} = {1.9 - c1}\\n\")\n",
    "\n",
    "cx = (1-1j)\n",
    "print(f\"{c1} - {cx} = {c1 - cx}\")\n",
    "print(f\"{cx} - {c1} = {cx - c1}\")"
   ],
   "outputs": []
  },
  {
   "cell_type": "markdown",
   "id": "f4916d26",
   "metadata": {},
   "source": [
    "In-place assignment for subtraction:"
   ]
  },
  {
   "cell_type": "code",
   "execution_count": 26,
   "id": "2f5e255a",
   "metadata": {},
   "source": [
    "diff = Zi(10, 10)\n",
    "check = 10\n",
    "\n",
    "for k in range(5):\n",
    "    check -= k\n",
    "    diff -= Zi(k, k)\n",
    "\n",
    "print(check, diff)"
   ],
   "outputs": []
  },
  {
   "cell_type": "markdown",
   "id": "1dee2598-1bde-46b1-86aa-018145898d17",
   "metadata": {},
   "source": [
    "### Multiplication"
   ]
  },
  {
   "cell_type": "code",
   "execution_count": 27,
   "id": "58610822-f13c-4100-99aa-988289c47439",
   "metadata": {},
   "source": [
    "print(f\"{c1} x {c2} = {c1 * c2}\\n\")\n",
    "\n",
    "print(f\"{c1} x 2 = {c1 * 2}\")\n",
    "print(f\"2 x {c1} = {2 * c1}\\n\")\n",
    "\n",
    "print(f\"{c1} x 1.9 = {c1 * 1.9}\")\n",
    "print(f\"1.9 x {c1} = {1.9 * c1}\\n\")\n",
    "\n",
    "cx = (2-1j)\n",
    "print(f\"{c1} * {cx} = {c1 * cx}\")\n",
    "print(f\"{cx} * {c1} = {cx * c1}\\n\")\n",
    "\n",
    "cx = (1.9-1.1j)\n",
    "print(f\"{c1} * {cx} = {c1 * cx}\")\n",
    "print(f\"{cx} * {c1} = {cx * c1}\\n\")"
   ],
   "outputs": []
  },
  {
   "cell_type": "markdown",
   "id": "f82c0f43",
   "metadata": {},
   "source": [
    "In-place assignment for multiplication:"
   ]
  },
  {
   "cell_type": "code",
   "execution_count": 28,
   "id": "614748b8",
   "metadata": {},
   "source": [
    "prod = Zi(1, 0)\n",
    "check = 1\n",
    "\n",
    "for k in range(1, 5):\n",
    "    check *= k\n",
    "    prod *= Zi(k, 0)\n",
    "\n",
    "print(check, prod)"
   ],
   "outputs": []
  },
  {
   "cell_type": "markdown",
   "id": "3aead9eb",
   "metadata": {},
   "source": [
    "### Division"
   ]
  },
  {
   "cell_type": "markdown",
   "id": "958da258",
   "metadata": {},
   "source": [
    "There are four ways to perform \"division\", illustrated below."
   ]
  },
  {
   "cell_type": "markdown",
   "id": "95649f02",
   "metadata": {},
   "source": [
    "**1. truediv, using the operator, ``/``**"
   ]
  },
  {
   "cell_type": "markdown",
   "id": "0108c965",
   "metadata": {},
   "source": [
    "If $\\alpha, \\beta \\in \\mathbb{Z}[i]$, then $\\alpha / \\beta \\in \\mathbb{Q}[i]$"
   ]
  },
  {
   "cell_type": "code",
   "execution_count": 29,
   "id": "348b15c5-0a61-495f-84e2-40ad264e9fa1",
   "metadata": {
    "scrolled": true
   },
   "source": [
    "help(Zi.__truediv__)"
   ],
   "outputs": []
  },
  {
   "cell_type": "code",
   "execution_count": 30,
   "id": "949fdc42",
   "metadata": {},
   "source": [
    "Zi(4, 5) / Zi(1, -2)"
   ],
   "outputs": []
  },
  {
   "cell_type": "code",
   "execution_count": 31,
   "id": "77cad97f-d57b-4050-a3b1-760704efe80a",
   "metadata": {},
   "source": [
    "Zi(4, 5) / (1-2j)"
   ],
   "outputs": []
  },
  {
   "cell_type": "code",
   "execution_count": 32,
   "id": "9a3b06c6",
   "metadata": {},
   "source": [
    "Zi(4, 5) / (1.1-1.9j)"
   ],
   "outputs": []
  },
  {
   "cell_type": "code",
   "execution_count": 33,
   "id": "04961b0f-85c8-4165-af4e-87de23f1d1cd",
   "metadata": {},
   "source": [
    "Zi(4, 5) / (0.9-2.3j)"
   ],
   "outputs": []
  },
  {
   "cell_type": "code",
   "execution_count": 34,
   "id": "74e2e306",
   "metadata": {},
   "source": [
    "complex(Zi(4, 5) / (0.9-2.3j))"
   ],
   "outputs": []
  },
  {
   "cell_type": "code",
   "execution_count": 35,
   "id": "333a2a55-1279-4422-b9ae-a72829b28282",
   "metadata": {},
   "source": [
    "complex(Zi(4, 5)) / (0.9-2.3j)"
   ],
   "outputs": []
  },
  {
   "cell_type": "code",
   "execution_count": 36,
   "id": "409928c6",
   "metadata": {},
   "source": [
    "Zi(4, 5) / 5"
   ],
   "outputs": []
  },
  {
   "cell_type": "code",
   "execution_count": 37,
   "id": "d3af2240-60ab-47b9-a297-83b292fee8d2",
   "metadata": {},
   "source": [
    "Zi(4, 5) / 5.3"
   ],
   "outputs": []
  },
  {
   "cell_type": "code",
   "execution_count": 38,
   "id": "a04d3672",
   "metadata": {},
   "source": [
    "help(Zi.__rtruediv__)"
   ],
   "outputs": []
  },
  {
   "cell_type": "code",
   "execution_count": 39,
   "id": "28583c3d",
   "metadata": {},
   "source": [
    "print(f\"(1-2j) / Zi(4, 5) -> {(1-2j) / Zi(4, 5)}\")\n",
    "print(f\"5.0 / Zi(4, 5) -> {5.0 / Zi(4, 5)}\")\n",
    "print(f\"5 / Zi(4, 5) -> {5 / Zi(4, 5)}\")"
   ],
   "outputs": []
  },
  {
   "cell_type": "markdown",
   "id": "a9dbc200",
   "metadata": {},
   "source": [
    "**2. floordiv, using the operator, ``//``**"
   ]
  },
  {
   "cell_type": "code",
   "execution_count": 40,
   "id": "19957a75",
   "metadata": {},
   "source": [
    "help(Zi.__floordiv__)  # WARNING: Zi.__floordiv uses round, instead of floor"
   ],
   "outputs": []
  },
  {
   "cell_type": "code",
   "execution_count": 41,
   "id": "449c0dfe",
   "metadata": {},
   "source": [
    "print(f\"Zi(4, 5) // Zi(1, -2) -> {Zi(4, 5) // Zi(1, -2)}\")\n",
    "print(f\"Zi(4, 5) // (1-2j) -> {Zi(4, 5) // (1-2j)}\")\n",
    "print(f\"Zi(4, 5) // 5.0 -> {Zi(4, 5) // 5.0}\")\n",
    "print(f\"Zi(4, 5) // 5 -> {Zi(4, 5) // 5}\")"
   ],
   "outputs": []
  },
  {
   "cell_type": "code",
   "execution_count": 42,
   "id": "79b393e4",
   "metadata": {},
   "source": [
    "print(f\"(8-12j) // Zi(4, 5) -> {(8-12j) // Zi(4, 5)}\")\n",
    "print(f\"20.0 // Zi(4, 5) -> {20.0 // Zi(4, 5)}\")\n",
    "print(f\"20 // Zi(4, 5) -> {20 // Zi(4, 5)}\")"
   ],
   "outputs": []
  },
  {
   "cell_type": "markdown",
   "id": "b250d5d0",
   "metadata": {},
   "source": [
    "**3. The Zi function, modified_divmod**"
   ]
  },
  {
   "cell_type": "code",
   "execution_count": 43,
   "id": "1942d7f4",
   "metadata": {},
   "source": [
    "help(Zi.modified_divmod)"
   ],
   "outputs": []
  },
  {
   "cell_type": "code",
   "execution_count": 44,
   "id": "cbc0360a",
   "metadata": {},
   "source": [
    "a = Zi(4, 5)\n",
    "b = Zi(1, -2)\n",
    "\n",
    "q, r = Zi.modified_divmod(a, b)\n",
    "\n",
    "print(f\"{b * q + r} = {b} * {q} + {r}\")"
   ],
   "outputs": []
  },
  {
   "cell_type": "code",
   "execution_count": 45,
   "id": "c4d32ae3",
   "metadata": {},
   "source": [
    "print(f\"r.norm = {r.norm}\")\n",
    "print(f\"b.norm = {b.norm}\")\n",
    "\n",
    "(1/2) * r.norm < b.norm"
   ],
   "outputs": []
  },
  {
   "cell_type": "markdown",
   "id": "6f691bdc",
   "metadata": {},
   "source": [
    "**4. mod, using the operator, ``%``**"
   ]
  },
  {
   "cell_type": "code",
   "execution_count": 46,
   "id": "250f544c",
   "metadata": {},
   "source": [
    "help(Zi.__mod__)"
   ],
   "outputs": []
  },
  {
   "cell_type": "code",
   "execution_count": 47,
   "id": "70cb7164",
   "metadata": {},
   "source": [
    "print(f\"{a} % {b} = {a % b}\")"
   ],
   "outputs": []
  },
  {
   "cell_type": "markdown",
   "id": "112b1ff3",
   "metadata": {},
   "source": [
    "### More modified_divmod Examples"
   ]
  },
  {
   "cell_type": "markdown",
   "id": "e9587967",
   "metadata": {},
   "source": [
    "The following four examples are from [Conrad]"
   ]
  },
  {
   "cell_type": "markdown",
   "id": "069c98d4",
   "metadata": {},
   "source": [
    "**Example 3.2 in [Conrad]**"
   ]
  },
  {
   "cell_type": "code",
   "execution_count": 48,
   "id": "e8f907b8",
   "metadata": {},
   "source": [
    "alpha = Zi(27, -23)\n",
    "beta = Zi(8, 1)\n",
    "\n",
    "quot, rem = Zi.modified_divmod(alpha, beta)\n",
    "\n",
    "if beta * quot + rem == alpha:\n",
    "    print(f\"{beta * quot + rem} = {beta} x {quot} + {rem}\")\n",
    "else:\n",
    "    print(\"Fail\")"
   ],
   "outputs": []
  },
  {
   "cell_type": "markdown",
   "id": "f1c21ddc",
   "metadata": {},
   "source": [
    "**Example 3.3 in [Conrad]**"
   ]
  },
  {
   "cell_type": "code",
   "execution_count": 49,
   "id": "944487d9",
   "metadata": {},
   "source": [
    "alpha = Zi(11, 10)\n",
    "beta = Zi(4, 1)\n",
    "\n",
    "quot, rem = Zi.modified_divmod(alpha, beta)\n",
    "\n",
    "if beta * quot + rem == alpha:\n",
    "    print(f\"{beta * quot + rem} = {beta} x {quot} + {rem}\")\n",
    "else:\n",
    "    print(\"Fail\")"
   ],
   "outputs": []
  },
  {
   "cell_type": "markdown",
   "id": "bab66e35",
   "metadata": {},
   "source": [
    "**Example 3.4 in [Conrad]**"
   ]
  },
  {
   "cell_type": "code",
   "execution_count": 50,
   "id": "57d1137d",
   "metadata": {},
   "source": [
    "alpha = Zi(41, 24)\n",
    "beta = Zi(11, -2)\n",
    "\n",
    "quot, rem = Zi.modified_divmod(alpha, beta)\n",
    "\n",
    "if beta * quot + rem == alpha:\n",
    "    print(f\"{beta * quot + rem} = {beta} x {quot} + {rem}\")\n",
    "else:\n",
    "    print(\"Fail\")"
   ],
   "outputs": []
  },
  {
   "cell_type": "markdown",
   "id": "a554c4f9",
   "metadata": {},
   "source": [
    "**Example 3.5 in [Conrad]**"
   ]
  },
  {
   "cell_type": "code",
   "execution_count": 51,
   "id": "9358029a",
   "metadata": {},
   "source": [
    "alpha = Zi(37, 2)\n",
    "beta = Zi(11, 2)\n",
    "\n",
    "quot, rem = Zi.modified_divmod(alpha, beta)\n",
    "\n",
    "if beta * quot + rem == alpha:\n",
    "    print(f\"{beta * quot + rem} = {beta} x {quot} + {rem}\")\n",
    "else:\n",
    "    print(\"Fail\")"
   ],
   "outputs": []
  },
  {
   "cell_type": "markdown",
   "id": "9bf01c05",
   "metadata": {},
   "source": [
    "**Example 3.6 in [Conrad]**"
   ]
  },
  {
   "cell_type": "code",
   "execution_count": 52,
   "id": "f43bf656",
   "metadata": {},
   "source": [
    "alpha = Zi(1, 8)\n",
    "beta = Zi(2, -4)\n",
    "\n",
    "quot, rem = Zi.modified_divmod(alpha, beta)\n",
    "\n",
    "if beta * quot + rem == alpha:\n",
    "    print(f\"{beta * quot + rem} = {beta} x {quot} + {rem}\")\n",
    "else:\n",
    "    print(\"Fail\")"
   ],
   "outputs": []
  },
  {
   "cell_type": "markdown",
   "id": "042f5f89",
   "metadata": {},
   "source": [
    "### Powers"
   ]
  },
  {
   "cell_type": "code",
   "execution_count": 53,
   "id": "020e671c-eff3-40a9-956d-187105c48f05",
   "metadata": {},
   "source": [
    "c1  # For reference"
   ],
   "outputs": []
  },
  {
   "cell_type": "code",
   "execution_count": 54,
   "id": "e1ffe6a0",
   "metadata": {},
   "source": [
    "c1 * c1 * c1"
   ],
   "outputs": []
  },
  {
   "cell_type": "code",
   "execution_count": 55,
   "id": "5101464d",
   "metadata": {},
   "source": [
    "c1**3"
   ],
   "outputs": []
  },
  {
   "cell_type": "markdown",
   "id": "3be5983d",
   "metadata": {},
   "source": [
    "Raising any ``Zi`` to the power 0 will result in the ``Zi`` equivalent of 1, i.e., Zi(1, 0)."
   ]
  },
  {
   "cell_type": "code",
   "execution_count": 56,
   "id": "9d77375c",
   "metadata": {},
   "source": [
    "c1**0"
   ],
   "outputs": []
  },
  {
   "cell_type": "markdown",
   "id": "25af6727-8455-44f3-922e-390bd1406028",
   "metadata": {},
   "source": [
    "Raising a ``Zi`` to a negative power will produce a Gaussian rational.\n",
    "\n",
    "That is, if $\\alpha \\in \\mathbb{Z}[i]$ and $n \\in \\mathbb{Z}$, where $n < 0$, then $\\alpha^{-n} = 1 / \\alpha^n \\in \\mathbb{Q}[i]$"
   ]
  },
  {
   "cell_type": "code",
   "execution_count": 57,
   "id": "1938da29-f4be-4b9e-8577-88bc48c8143c",
   "metadata": {},
   "source": [
    "c1**-3"
   ],
   "outputs": []
  },
  {
   "cell_type": "code",
   "execution_count": 58,
   "id": "e3a074be-75d0-42f7-9cea-2087c4b1216f",
   "metadata": {},
   "source": [
    "1 / c1**3"
   ],
   "outputs": []
  },
  {
   "cell_type": "markdown",
   "id": "1662e8bf-b86e-41f3-8c65-adfdeae38889",
   "metadata": {},
   "source": [
    "### Negation"
   ]
  },
  {
   "cell_type": "code",
   "execution_count": 59,
   "id": "9675dcc0",
   "metadata": {},
   "source": [
    "c2  # For reference"
   ],
   "outputs": []
  },
  {
   "cell_type": "code",
   "execution_count": 60,
   "id": "7384ef74",
   "metadata": {},
   "source": [
    "-c2"
   ],
   "outputs": []
  },
  {
   "cell_type": "markdown",
   "id": "907d5579-368b-4f4a-beee-65e650fd341d",
   "metadata": {},
   "source": [
    "### Equality or Inequality Tests"
   ]
  },
  {
   "cell_type": "code",
   "execution_count": 61,
   "id": "fff33780",
   "metadata": {},
   "source": [
    "c1"
   ],
   "outputs": []
  },
  {
   "cell_type": "code",
   "execution_count": 62,
   "id": "b27cd75b",
   "metadata": {},
   "source": [
    "c1_dup = Zi(4, 5)"
   ],
   "outputs": []
  },
  {
   "cell_type": "code",
   "execution_count": 63,
   "id": "183cda97",
   "metadata": {},
   "source": [
    "# Shows that the two are distinct objects in memory\n",
    "print(id(c1))\n",
    "print(id(c1_dup))"
   ],
   "outputs": []
  },
  {
   "cell_type": "code",
   "execution_count": 64,
   "id": "1158d727",
   "metadata": {},
   "source": [
    "c1 == Zi(4, 5)"
   ],
   "outputs": []
  },
  {
   "cell_type": "code",
   "execution_count": 65,
   "id": "08d55e55",
   "metadata": {},
   "source": [
    "c1 == c2"
   ],
   "outputs": []
  },
  {
   "cell_type": "code",
   "execution_count": 66,
   "id": "e2173d4f",
   "metadata": {},
   "source": [
    "c1 != c2"
   ],
   "outputs": []
  },
  {
   "cell_type": "markdown",
   "id": "b6013aac",
   "metadata": {},
   "source": [
    "## Associates"
   ]
  },
  {
   "cell_type": "code",
   "execution_count": 67,
   "id": "97f85a3f",
   "metadata": {},
   "source": [
    "print(c1)\n",
    "_ = [print(a) for a in c1.associates()]"
   ],
   "outputs": []
  },
  {
   "cell_type": "code",
   "execution_count": 68,
   "id": "2a85f447",
   "metadata": {},
   "source": [
    "c1.is_associate(Zi(-4, -5))"
   ],
   "outputs": []
  },
  {
   "cell_type": "code",
   "execution_count": 69,
   "id": "7174fcce",
   "metadata": {},
   "source": [
    "c1.is_associate(c2)"
   ],
   "outputs": []
  },
  {
   "cell_type": "markdown",
   "id": "609a1f80-3c8f-4dd1-b1ee-d1235e3d11ac",
   "metadata": {},
   "source": [
    "## Units"
   ]
  },
  {
   "cell_type": "markdown",
   "id": "86335149",
   "metadata": {},
   "source": [
    "**units** is a **static method** that returns the four Gaussian integer units."
   ]
  },
  {
   "cell_type": "code",
   "execution_count": 70,
   "id": "a37a2a1d-5be3-4ad4-9d2b-773f17ecbf64",
   "metadata": {},
   "source": [
    "Zi.units()"
   ],
   "outputs": []
  },
  {
   "cell_type": "markdown",
   "id": "ce1901e0",
   "metadata": {},
   "source": [
    "## Greatest Common Divisor"
   ]
  },
  {
   "cell_type": "code",
   "execution_count": 71,
   "id": "681e4ddf",
   "metadata": {},
   "source": [
    "help(Zi.gcd)"
   ],
   "outputs": []
  },
  {
   "cell_type": "markdown",
   "id": "5611403d",
   "metadata": {},
   "source": [
    "**Examples 4.4-4.6 in [Conrad]**"
   ]
  },
  {
   "cell_type": "code",
   "execution_count": 72,
   "id": "2242c073",
   "metadata": {},
   "source": [
    "verbosity = True\n",
    "\n",
    "alpha = Zi(32, 9)\n",
    "beta = Zi(4, 11)\n",
    "print(f\"EX 4.4: gcd({alpha}, {beta}) -> {Zi.gcd(alpha, beta, verbose=verbosity)}\\n\")\n",
    "\n",
    "alpha = Zi(4, 5)\n",
    "beta = Zi(4, -5)\n",
    "print(f\"EX 4.5: gcd({alpha}, {beta}) -> {Zi.gcd(alpha, beta, verbose=verbosity)}\\n\")\n",
    "\n",
    "alpha = Zi(11, 3)\n",
    "beta = Zi(1, 8)\n",
    "print(f\"EX 4.6: gcd({alpha}, {beta}) -> {Zi.gcd(alpha, beta, verbose=verbosity)}\\n\")\n",
    "\n",
    "# print(\"Checking EX 4.6:\")\n",
    "# gcd = Zi.gcd(alpha, beta)\n",
    "# print(f\"{alpha} / {gcd} = {alpha / gcd}\")\n",
    "# print(f\"{beta} / {gcd} = {beta / gcd}\")"
   ],
   "outputs": []
  },
  {
   "cell_type": "markdown",
   "id": "10d38aed",
   "metadata": {},
   "source": [
    "## Extended Euclidean Algorithm"
   ]
  },
  {
   "cell_type": "code",
   "execution_count": 73,
   "id": "edd070f9",
   "metadata": {},
   "source": [
    "help(Zi.xgcd)"
   ],
   "outputs": []
  },
  {
   "cell_type": "code",
   "execution_count": 74,
   "id": "0d06a983",
   "metadata": {},
   "source": [
    "alpha = Zi(11, 3)\n",
    "beta = Zi(1, 8)"
   ],
   "outputs": []
  },
  {
   "cell_type": "code",
   "execution_count": 75,
   "id": "cb4fc8bc",
   "metadata": {},
   "source": [
    "a, x, y = Zi.xgcd(alpha, beta)"
   ],
   "outputs": []
  },
  {
   "cell_type": "code",
   "execution_count": 76,
   "id": "235218af",
   "metadata": {},
   "source": [
    "print(f\"a = {a}\\nx = {x}\\ny = {y}\")"
   ],
   "outputs": []
  },
  {
   "cell_type": "code",
   "execution_count": 77,
   "id": "2b935c04",
   "metadata": {},
   "source": [
    "a == alpha * x + beta * y"
   ],
   "outputs": []
  },
  {
   "cell_type": "code",
   "execution_count": 78,
   "id": "6c9c7f3e",
   "metadata": {},
   "source": [
    "print(f\"{alpha * x + beta * y} = {alpha} * {x} + {beta} * {y}\")"
   ],
   "outputs": []
  },
  {
   "cell_type": "code",
   "execution_count": 79,
   "id": "e7551c97",
   "metadata": {},
   "source": [
    "print(f\"gcd({alpha}, {beta}) -> {Zi.gcd(alpha, beta)}\")"
   ],
   "outputs": []
  },
  {
   "cell_type": "markdown",
   "id": "f975f28d",
   "metadata": {},
   "source": [
    "**Example 5.4 in [Conrad]**"
   ]
  },
  {
   "cell_type": "code",
   "execution_count": 80,
   "id": "9ca4fc8d",
   "metadata": {},
   "source": [
    "alpha = Zi(4, 5)\n",
    "beta = Zi(4, -5)\n",
    "\n",
    "gcd, x, y = Zi.xgcd(alpha, beta)\n",
    "\n",
    "if gcd == alpha * x + beta * y:\n",
    "    print(f\"{alpha * x + beta * y} = {alpha} * {x} + {beta} * {y}\")\n",
    "else:\n",
    "    print(\"Fail\")"
   ],
   "outputs": []
  },
  {
   "cell_type": "markdown",
   "id": "2f2ff930",
   "metadata": {},
   "source": [
    "Multiplying through by i, as done in the example, yields:"
   ]
  },
  {
   "cell_type": "code",
   "execution_count": 81,
   "id": "7f526daf",
   "metadata": {},
   "source": [
    "i = Zi.eye()\n",
    "print(f\"{gcd * i} = {alpha} * {x * i} + {beta} * {y * i}\")"
   ],
   "outputs": []
  },
  {
   "cell_type": "markdown",
   "id": "516c9e93",
   "metadata": {},
   "source": [
    "**Example 5.5 in [Conrad]**"
   ]
  },
  {
   "cell_type": "markdown",
   "id": "06741ef1",
   "metadata": {},
   "source": [
    "**NOTE: Bezout's coefficients are not unique** (See Wikipedia)"
   ]
  },
  {
   "cell_type": "markdown",
   "id": "9e4e21ef",
   "metadata": {},
   "source": [
    "**THE ANSWER HERE WORKS BUT DOES'T AGREE WITH CONRAD'S ANSWER, UNLESS ALPHA & BETA ARE SWITCHED IN THE FUNCTION CALL**"
   ]
  },
  {
   "cell_type": "code",
   "execution_count": 82,
   "id": "c4e37c55",
   "metadata": {},
   "source": [
    "alpha = Zi(11, 3)\n",
    "beta = Zi(1, 8)\n",
    "\n",
    "gcd, x, y = Zi.xgcd(alpha, beta)\n",
    "\n",
    "if gcd == alpha * x + beta * y:\n",
    "    print(f\"{gcd} = {alpha} * {x} + {beta} * {y}\")\n",
    "else:\n",
    "    print(\"Fail\")"
   ],
   "outputs": []
  },
  {
   "cell_type": "markdown",
   "id": "6ac77978",
   "metadata": {},
   "source": [
    "Multiplying through by -1, yields:"
   ]
  },
  {
   "cell_type": "code",
   "execution_count": 83,
   "id": "9d0642bb",
   "metadata": {},
   "source": [
    "c = -1\n",
    "print(f\"{gcd * c} = {alpha} * {x * c} + {beta} * {y * c}\")"
   ],
   "outputs": []
  },
  {
   "cell_type": "markdown",
   "id": "60ef6c19",
   "metadata": {},
   "source": [
    "The result above works but doesn't agree with Conrad.\n",
    "\n",
    "However, if we reverse the arguments to ``Zi.xgcd``, it DOES agree!"
   ]
  },
  {
   "cell_type": "code",
   "execution_count": 84,
   "id": "9ded3a4a",
   "metadata": {},
   "source": [
    "gcd2, x2, y2 = Zi.xgcd(beta, alpha)\n",
    "\n",
    "print(f\"{alpha * y2 * c + beta * x2 * c} = {alpha} * {y2 * c} + {beta} * {x2 * c}\")"
   ],
   "outputs": []
  },
  {
   "cell_type": "markdown",
   "id": "640df67b",
   "metadata": {},
   "source": [
    "**Example 5.6 in [Conrad]**"
   ]
  },
  {
   "cell_type": "code",
   "execution_count": 85,
   "id": "8bc7bff8",
   "metadata": {},
   "source": [
    "alpha = Zi(10, 91)\n",
    "beta = Zi(7, 3)\n",
    "\n",
    "gcd, x, y = Zi.xgcd(alpha, beta)\n",
    "\n",
    "if gcd == alpha * x + beta * y:\n",
    "    print(f\"{alpha * x + beta * y} = {alpha} * {x} + {beta} * {y}\")\n",
    "else:\n",
    "    print(\"Fail\")"
   ],
   "outputs": []
  },
  {
   "cell_type": "markdown",
   "id": "fe2e99da",
   "metadata": {},
   "source": [
    "Switching arguments and multiplying through the result by -i, yields no substantial change."
   ]
  },
  {
   "cell_type": "code",
   "execution_count": 86,
   "id": "4bc3a10c",
   "metadata": {},
   "source": [
    "gcd2, x2, y2 = Zi.xgcd(beta, alpha)\n",
    "\n",
    "c = -Zi.eye()  # -i\n",
    "\n",
    "print(f\"{alpha * y2 * c + beta * x2 * c} = {alpha} * {y2 * c} + {beta} * {x2 * c}\")"
   ],
   "outputs": []
  },
  {
   "cell_type": "markdown",
   "id": "6794faa6",
   "metadata": {},
   "source": [
    "Checking Conrad's result:"
   ]
  },
  {
   "cell_type": "code",
   "execution_count": 87,
   "id": "d247acbc",
   "metadata": {},
   "source": [
    "print(alpha * Zi(1, 6) + beta * Zi(57, -46))"
   ],
   "outputs": []
  },
  {
   "cell_type": "markdown",
   "id": "bddb090c",
   "metadata": {},
   "source": [
    "## Gaussian Primes"
   ]
  },
  {
   "cell_type": "markdown",
   "id": "644ce450",
   "metadata": {},
   "source": [
    "The following examples of **Gaussian primes** are from [Wolfram](https://mathworld.wolfram.com/GaussianPrime.html)."
   ]
  },
  {
   "cell_type": "code",
   "execution_count": 88,
   "id": "a970495d",
   "metadata": {},
   "source": [
    "[p for p in range(50) if Zi.is_gaussian_prime(p)]"
   ],
   "outputs": []
  },
  {
   "cell_type": "code",
   "execution_count": 89,
   "id": "251a8f5b",
   "metadata": {},
   "source": [
    "# Gaussian primes with |re|, |im| <= n:\n",
    "\n",
    "n = 5\n",
    "primes = []\n",
    "for re in range(-n, n + 1):\n",
    "    for im in range(-n, n + 1):\n",
    "        val = Zi(re, im)\n",
    "        if Zi.is_gaussian_prime(val):\n",
    "            primes.append(complex(val))\n",
    "print(primes)"
   ],
   "outputs": []
  },
  {
   "cell_type": "markdown",
   "id": "c80481d0",
   "metadata": {},
   "source": [
    "## Additional Examples"
   ]
  },
  {
   "cell_type": "markdown",
   "id": "b782d271-cd7c-477a-be09-ff9153910bac",
   "metadata": {},
   "source": [
    "### Examples from [Barrus and Clark]"
   ]
  },
  {
   "cell_type": "markdown",
   "id": "eac27a3a-e252-4f0c-824a-eb753ade4ed6",
   "metadata": {},
   "source": [
    "**Example 1.13.3**"
   ]
  },
  {
   "cell_type": "code",
   "execution_count": 90,
   "id": "12001c06-dfda-4469-8d47-299a1d20be55",
   "metadata": {},
   "source": [
    "alpha = 6\n",
    "beta = Zi(2, 1)\n",
    "\n",
    "print(f\"{alpha = }\")\n",
    "print(f\"{ beta = }\")\n",
    "print(f\"{alpha / beta = }\")"
   ],
   "outputs": []
  },
  {
   "cell_type": "code",
   "execution_count": 91,
   "id": "19f9891b-30ad-48c3-be00-636a5294b4bd",
   "metadata": {},
   "source": [
    "kappa, rho = Zi.modified_divmod(alpha, beta)\n",
    "print(f\"{alpha - beta * kappa} = {alpha} - {beta} * {kappa}\")"
   ],
   "outputs": []
  },
  {
   "cell_type": "markdown",
   "id": "c57367ec-2af4-46fe-9b93-92df53b3f6f9",
   "metadata": {},
   "source": [
    "**Example 1.13.4**"
   ]
  },
  {
   "cell_type": "code",
   "execution_count": 92,
   "id": "9f5f66cc-5ea2-4b7c-b8ec-54e3283184ca",
   "metadata": {},
   "source": [
    "alpha = Zi((3j))\n",
    "beta = Zi((1+1j))\n",
    "\n",
    "print(f\"{alpha = }\")\n",
    "print(f\"{ beta = }\")\n",
    "print(f\"{alpha / beta = }\")"
   ],
   "outputs": []
  },
  {
   "cell_type": "code",
   "execution_count": 93,
   "id": "1f6c8166-9dc4-492a-8de6-e60689a201b9",
   "metadata": {},
   "source": [
    "kappa, rho = Zi.modified_divmod(alpha, beta)\n",
    "print(f\"{kappa = }\")\n",
    "print(f\"{  rho = }\")\n",
    "# print(f\"{alpha - beta * kappa} = {alpha} - {beta} * {kappa}\")\n",
    "print(f\"{beta * kappa + rho} = {beta} * {kappa} + {rho}\")"
   ],
   "outputs": []
  },
  {
   "cell_type": "code",
   "execution_count": 94,
   "id": "b8a25e53-1145-4995-b505-cccb96da3517",
   "metadata": {},
   "source": [
    "print(f\"{rho.norm = }\")\n",
    "print(f\"{beta.norm = }\")"
   ],
   "outputs": []
  },
  {
   "cell_type": "markdown",
   "id": "f16e0c0a-6f97-434c-bc9a-1d46901811ff",
   "metadata": {},
   "source": [
    "**Example 1.13.5**"
   ]
  },
  {
   "cell_type": "code",
   "execution_count": 95,
   "id": "d773f489-b657-4161-a31e-96959ce20ffe",
   "metadata": {},
   "source": [
    "alpha = Zi((2-3j))\n",
    "beta = Zi((3+5j))\n",
    "print(f\"{alpha = }\")\n",
    "print(f\"{ beta = }\")"
   ],
   "outputs": []
  },
  {
   "cell_type": "code",
   "execution_count": 96,
   "id": "c76098ec-e3f6-4557-9b04-2f506b7f3e7c",
   "metadata": {},
   "source": [
    "gcd = Zi.gcd(alpha, beta)\n",
    "print(f\"{gcd = }\")"
   ],
   "outputs": []
  }
 ],
 "metadata": {
  "kernelspec": {
   "display_name": "Python 3 (ipykernel)",
   "language": "python",
   "name": "python3"
  },
  "language_info": {
   "codemirror_mode": {
    "name": "ipython",
    "version": 3
   },
   "file_extension": ".py",
   "mimetype": "text/x-python",
   "name": "python",
   "nbconvert_exporter": "python",
   "pygments_lexer": "ipython3",
   "version": "3.11.5"
  }
 },
 "nbformat": 4,
 "nbformat_minor": 5
}
