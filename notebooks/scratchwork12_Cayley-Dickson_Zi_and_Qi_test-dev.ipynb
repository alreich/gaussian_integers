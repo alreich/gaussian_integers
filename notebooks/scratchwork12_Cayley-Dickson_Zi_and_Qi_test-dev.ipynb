{
 "cells": [
  {
   "cell_type": "markdown",
   "id": "b42260e9",
   "metadata": {},
   "source": [
    "# Tests & Develoment of both Zi & Qi"
   ]
  },
  {
   "cell_type": "code",
   "execution_count": 1,
   "id": "8041679d",
   "metadata": {},
   "outputs": [],
   "source": [
    "from cayley_dickson_base import CayleyDicksonBase\n",
    "from cayley_dickson_integers import Zi\n",
    "from cayley_dickson_rationals import Qi\n",
    "import generic_utils as utils"
   ]
  },
  {
   "cell_type": "markdown",
   "id": "fb2be38c-8fa9-4cd3-a3f2-5c9b2c050b1e",
   "metadata": {},
   "source": [
    "## Octonions"
   ]
  },
  {
   "cell_type": "code",
   "execution_count": 2,
   "id": "9298e29e-ab05-418d-b402-0bc51476cc0d",
   "metadata": {},
   "outputs": [
    {
     "name": "stdout",
     "output_type": "stream",
     "text": [
      "str(o0) = '(10-7i-10j-2k-3L-3Li-6Lj-7Lk)'\n",
      "o0.order() = 3\n",
      "o0.norm = 356\n",
      "o0.is_quaternion() = False\n",
      "o0.is_octonion() = True\n"
     ]
    }
   ],
   "source": [
    "q1 = Zi(Zi(10, -7), Zi(-10, -2))\n",
    "q2 = Zi(Zi(-3, -3), Zi(-6, -7))\n",
    "o0 = Zi(q1, q2)\n",
    "\n",
    "print(f\"{str(o0) = }\") # '((10-7i-10j-2k), (-3-3i-6j-7k))'\n",
    "print(f\"{o0.order() = }\") # 3\n",
    "print(f\"{o0.norm = }\") # 356\n",
    "print(f\"{o0.is_quaternion() = }\") # False\n",
    "print(f\"{o0.is_octonion() = }\") # True"
   ]
  },
  {
   "cell_type": "code",
   "execution_count": null,
   "id": "04d6c809",
   "metadata": {},
   "outputs": [],
   "source": []
  },
  {
   "cell_type": "code",
   "execution_count": null,
   "id": "69f860c5",
   "metadata": {},
   "outputs": [],
   "source": []
  },
  {
   "cell_type": "code",
   "execution_count": 3,
   "id": "8be2558a",
   "metadata": {},
   "outputs": [
    {
     "data": {
      "text/plain": [
       "[[[10, -7], [-10, -2]], [[-3, -3], [-6, -7]]]"
      ]
     },
     "execution_count": 3,
     "metadata": {},
     "output_type": "execute_result"
    }
   ],
   "source": [
    "o0arr = o0.to_array()\n",
    "o0arr"
   ]
  },
  {
   "cell_type": "code",
   "execution_count": 4,
   "id": "7ccffc3e",
   "metadata": {
    "scrolled": true
   },
   "outputs": [
    {
     "data": {
      "text/plain": [
       "True"
      ]
     },
     "execution_count": 4,
     "metadata": {},
     "output_type": "execute_result"
    }
   ],
   "source": [
    "o0 == Zi.from_array(o0arr)"
   ]
  },
  {
   "cell_type": "code",
   "execution_count": 5,
   "id": "97aefb6b",
   "metadata": {},
   "outputs": [
    {
     "data": {
      "text/plain": [
       "Zi(Zi(1, 2), Zi(3, 4))"
      ]
     },
     "execution_count": 5,
     "metadata": {},
     "output_type": "execute_result"
    }
   ],
   "source": [
    "Zi.from_array([[1, 2], [3, 4]])"
   ]
  },
  {
   "cell_type": "code",
   "execution_count": 6,
   "id": "868b7373",
   "metadata": {},
   "outputs": [
    {
     "data": {
      "text/plain": [
       "Zi(Zi(1, 2), Zi(3, 4))"
      ]
     },
     "execution_count": 6,
     "metadata": {},
     "output_type": "execute_result"
    }
   ],
   "source": [
    "Zi.from_array([1, 2, 3, 4])"
   ]
  },
  {
   "cell_type": "code",
   "execution_count": 7,
   "id": "ad925148",
   "metadata": {},
   "outputs": [
    {
     "data": {
      "text/plain": [
       "Zi(Zi(Zi(1, 2), Zi(3, 4)), Zi(Zi(5, 6), Zi(7, 8)))"
      ]
     },
     "execution_count": 7,
     "metadata": {},
     "output_type": "execute_result"
    }
   ],
   "source": [
    "Zi.from_array([1, 2, 3, 4, 5, 6, 7, 8])"
   ]
  },
  {
   "cell_type": "code",
   "execution_count": null,
   "id": "caae5365",
   "metadata": {},
   "outputs": [],
   "source": []
  },
  {
   "cell_type": "code",
   "execution_count": 8,
   "id": "55458cdb",
   "metadata": {},
   "outputs": [
    {
     "data": {
      "text/plain": [
       "'(10-7i-10j-2k-3L-3Li-6Lj-7Lk)'"
      ]
     },
     "execution_count": 8,
     "metadata": {},
     "output_type": "execute_result"
    }
   ],
   "source": [
    "str(o0)"
   ]
  },
  {
   "cell_type": "code",
   "execution_count": 9,
   "id": "b09d3a71",
   "metadata": {},
   "outputs": [
    {
     "data": {
      "text/plain": [
       "[1, 2, 3, 4]"
      ]
     },
     "execution_count": 9,
     "metadata": {},
     "output_type": "execute_result"
    }
   ],
   "source": [
    "Zi.parse_quaternion_string('1+2i+3j+4k')"
   ]
  },
  {
   "cell_type": "code",
   "execution_count": null,
   "id": "f213b5e1",
   "metadata": {},
   "outputs": [],
   "source": []
  },
  {
   "cell_type": "code",
   "execution_count": 10,
   "id": "bfe5d535",
   "metadata": {},
   "outputs": [],
   "source": [
    "import re\n",
    "import generic_utils as utils"
   ]
  },
  {
   "cell_type": "code",
   "execution_count": 48,
   "id": "d3411061",
   "metadata": {},
   "outputs": [
    {
     "name": "stdout",
     "output_type": "stream",
     "text": [
      "Input: \"37i\" -> Matches: <re.Match object; span=(0, 3), match='37i'>\n",
      "Input: \"8.3j\" -> Matches: <re.Match object; span=(0, 4), match='8.3j'>\n",
      "Input: \"-2.4\" -> Matches: None\n",
      "Input: \"1k\" -> Matches: <re.Match object; span=(0, 2), match='1k'>\n",
      "Input: \"3e7Li\" -> Matches: <re.Match object; span=(0, 5), match='3e7Li'>\n",
      "Input: \"-2Lj\" -> Matches: <re.Match object; span=(0, 4), match='-2Lj'>\n",
      "Input: \"7.3Lk\" -> Matches: <re.Match object; span=(0, 5), match='7.3Lk'>\n"
     ]
    }
   ],
   "source": [
    "# The combined re pattern\n",
    "# pattern = r\"(L[ijk]|[ijk])$\"\n",
    "pattern = r'^[-+]?((\\d+(\\.\\d*)?|\\.\\d+)([eE][-+]?\\d+)?)?(L[ijk]|[ijk])$'\n",
    "\n",
    "# Test strings\n",
    "strings = [\n",
    "    \"37i\",\n",
    "    \"8.3j\",\n",
    "    \"-2.4\",\n",
    "    \"1k\",\n",
    "    \"3e7Li\",\n",
    "    \"-2Lj\",\n",
    "    \"7.3Lk\"\n",
    "]\n",
    "\n",
    "for s in strings:\n",
    "    # matches = re.findall(pattern, s)\n",
    "    matches = re.match(pattern, s)\n",
    "    print(f'Input: \"{s}\" -> Matches: {matches}')"
   ]
  },
  {
   "cell_type": "code",
   "execution_count": 49,
   "id": "32ea279a-5da4-4dbc-bd8f-c44dc402025a",
   "metadata": {},
   "outputs": [
    {
     "name": "stdout",
     "output_type": "stream",
     "text": [
      "Help on function match in module re:\n",
      "\n",
      "match(pattern, string, flags=0)\n",
      "    Try to apply the pattern at the start of the string, returning\n",
      "    a Match object, or None if no match was found.\n",
      "\n"
     ]
    }
   ],
   "source": [
    "help(re.match)"
   ]
  },
  {
   "cell_type": "code",
   "execution_count": 50,
   "id": "8810359c",
   "metadata": {},
   "outputs": [],
   "source": [
    "# unit_term_pat = r'^[-+]?((\\d+(\\.\\d*)?|\\.\\d+)([eE][-+]?\\d+)?)?[ijk]$'\n",
    "unit_term_pat = r'^[-+]?((\\d+(\\.\\d*)?|\\.\\d+)([eE][-+]?\\d+)?)?(L[ijk]|[ijk])$'"
   ]
  },
  {
   "cell_type": "code",
   "execution_count": 51,
   "id": "940bb1c8",
   "metadata": {},
   "outputs": [],
   "source": [
    "trm1 = '7.3Lk'"
   ]
  },
  {
   "cell_type": "code",
   "execution_count": 52,
   "id": "f01cc42c",
   "metadata": {},
   "outputs": [],
   "source": [
    "def get_coeff(tm):\n",
    "    if re.match(unit_term_pat, tm):\n",
    "        if 'L' in tm:\n",
    "            m = -2\n",
    "        else:\n",
    "            m = -1\n",
    "        return tm[m:], utils.make_int_or_float(tm[:m])  # e.g., ('i', 2.3)\n",
    "    else:\n",
    "        return 'real', utils.make_int_or_float(tm)  # e.g., ('real', -3.1)"
   ]
  },
  {
   "cell_type": "code",
   "execution_count": 53,
   "id": "daac5293",
   "metadata": {},
   "outputs": [
    {
     "name": "stdout",
     "output_type": "stream",
     "text": [
      "('i', 37)\n",
      "('j', 8.3)\n",
      "('real', -2.4)\n",
      "('k', 1)\n",
      "('Li', 30000000)\n",
      "('Lj', -2)\n",
      "('Lk', 7.3)\n"
     ]
    }
   ],
   "source": [
    "for s in strings:\n",
    "    print(get_coeff(s))"
   ]
  },
  {
   "cell_type": "code",
   "execution_count": null,
   "id": "e8cf6e55",
   "metadata": {},
   "outputs": [],
   "source": []
  },
  {
   "cell_type": "code",
   "execution_count": null,
   "id": "53f2e6e1-6d12-4b59-9774-4d27daa25539",
   "metadata": {},
   "outputs": [],
   "source": []
  }
 ],
 "metadata": {
  "kernelspec": {
   "display_name": "Python [conda env:base] *",
   "language": "python",
   "name": "conda-base-py"
  },
  "language_info": {
   "codemirror_mode": {
    "name": "ipython",
    "version": 3
   },
   "file_extension": ".py",
   "mimetype": "text/x-python",
   "name": "python",
   "nbconvert_exporter": "python",
   "pygments_lexer": "ipython3",
   "version": "3.13.5"
  }
 },
 "nbformat": 4,
 "nbformat_minor": 5
}
