{
 "cells": [
  {
   "cell_type": "markdown",
   "id": "b42260e9",
   "metadata": {},
   "source": [
    "# Tests & Develoment of both Zi & Qi"
   ]
  },
  {
   "cell_type": "code",
   "execution_count": 1,
   "id": "8041679d",
   "metadata": {},
   "outputs": [],
   "source": [
    "from cayley_dickson_base import CayleyDicksonBase\n",
    "from cayley_dickson_integers import Zi\n",
    "from cayley_dickson_rationals import Qi\n",
    "import generic_utils as utils"
   ]
  },
  {
   "cell_type": "markdown",
   "id": "fb2be38c-8fa9-4cd3-a3f2-5c9b2c050b1e",
   "metadata": {},
   "source": [
    "## Octonions"
   ]
  },
  {
   "cell_type": "code",
   "execution_count": 2,
   "id": "9298e29e-ab05-418d-b402-0bc51476cc0d",
   "metadata": {},
   "outputs": [
    {
     "name": "stdout",
     "output_type": "stream",
     "text": [
      "str(o0) = '(10-7i-10j-2k-3L-3Li-6Lj-7Lk)'\n",
      "o0.order() = 3\n",
      "o0.norm = 356\n",
      "o0.is_quaternion() = False\n",
      "o0.is_octonion() = True\n"
     ]
    }
   ],
   "source": [
    "q1 = Zi(Zi(10, -7), Zi(-10, -2))\n",
    "q2 = Zi(Zi(-3, -3), Zi(-6, -7))\n",
    "o0 = Zi(q1, q2)\n",
    "\n",
    "print(f\"{str(o0) = }\") # '((10-7i-10j-2k), (-3-3i-6j-7k))'\n",
    "print(f\"{o0.order() = }\") # 3\n",
    "print(f\"{o0.norm = }\") # 356\n",
    "print(f\"{o0.is_quaternion() = }\") # False\n",
    "print(f\"{o0.is_octonion() = }\") # True"
   ]
  },
  {
   "cell_type": "code",
   "execution_count": null,
   "id": "04d6c809",
   "metadata": {},
   "outputs": [],
   "source": []
  },
  {
   "cell_type": "code",
   "execution_count": null,
   "id": "69f860c5",
   "metadata": {},
   "outputs": [],
   "source": []
  },
  {
   "cell_type": "code",
   "execution_count": 3,
   "id": "8be2558a",
   "metadata": {},
   "outputs": [
    {
     "data": {
      "text/plain": [
       "[[[10, -7], [-10, -2]], [[-3, -3], [-6, -7]]]"
      ]
     },
     "execution_count": 3,
     "metadata": {},
     "output_type": "execute_result"
    }
   ],
   "source": [
    "o0arr = o0.to_array()\n",
    "o0arr"
   ]
  },
  {
   "cell_type": "code",
   "execution_count": 4,
   "id": "7ccffc3e",
   "metadata": {
    "scrolled": true
   },
   "outputs": [
    {
     "data": {
      "text/plain": [
       "True"
      ]
     },
     "execution_count": 4,
     "metadata": {},
     "output_type": "execute_result"
    }
   ],
   "source": [
    "o0 == Zi.from_array(o0arr)"
   ]
  },
  {
   "cell_type": "code",
   "execution_count": 5,
   "id": "97aefb6b",
   "metadata": {},
   "outputs": [
    {
     "data": {
      "text/plain": [
       "Zi(Zi(1, 2), Zi(3, 4))"
      ]
     },
     "execution_count": 5,
     "metadata": {},
     "output_type": "execute_result"
    }
   ],
   "source": [
    "Zi.from_array([[1, 2], [3, 4]])"
   ]
  },
  {
   "cell_type": "code",
   "execution_count": 6,
   "id": "868b7373",
   "metadata": {},
   "outputs": [
    {
     "data": {
      "text/plain": [
       "Zi(Zi(1, 2), Zi(3, 4))"
      ]
     },
     "execution_count": 6,
     "metadata": {},
     "output_type": "execute_result"
    }
   ],
   "source": [
    "Zi.from_array([1, 2, 3, 4])"
   ]
  },
  {
   "cell_type": "code",
   "execution_count": 7,
   "id": "ad925148",
   "metadata": {},
   "outputs": [
    {
     "data": {
      "text/plain": [
       "Zi(Zi(Zi(1, 2), Zi(3, 4)), Zi(Zi(5, 6), Zi(7, 8)))"
      ]
     },
     "execution_count": 7,
     "metadata": {},
     "output_type": "execute_result"
    }
   ],
   "source": [
    "Zi.from_array([1, 2, 3, 4, 5, 6, 7, 8])"
   ]
  },
  {
   "cell_type": "code",
   "execution_count": null,
   "id": "caae5365",
   "metadata": {},
   "outputs": [],
   "source": []
  },
  {
   "cell_type": "code",
   "execution_count": 8,
   "id": "55458cdb",
   "metadata": {},
   "outputs": [
    {
     "data": {
      "text/plain": [
       "'(10-7i-10j-2k-3L-3Li-6Lj-7Lk)'"
      ]
     },
     "execution_count": 8,
     "metadata": {},
     "output_type": "execute_result"
    }
   ],
   "source": [
    "str(o0)"
   ]
  },
  {
   "cell_type": "code",
   "execution_count": 9,
   "id": "b09d3a71",
   "metadata": {},
   "outputs": [
    {
     "ename": "ValueError",
     "evalue": "+2i is not a float nor an int",
     "output_type": "error",
     "traceback": [
      "\u001b[0;31m---------------------------------------------------------------------------\u001b[0m",
      "\u001b[0;31mValueError\u001b[0m                                Traceback (most recent call last)",
      "File \u001b[0;32m~/Documents/Python/github/myrepos/gaussian_integers/src/generic_utils.py:35\u001b[0m, in \u001b[0;36mmake_int_or_float\u001b[0;34m(st)\u001b[0m\n\u001b[1;32m     34\u001b[0m \u001b[38;5;28;01mtry\u001b[39;00m:\n\u001b[0;32m---> 35\u001b[0m     f_st \u001b[38;5;241m=\u001b[39m \u001b[38;5;28mfloat\u001b[39m(st)\n\u001b[1;32m     36\u001b[0m \u001b[38;5;28;01mexcept\u001b[39;00m:\n",
      "\u001b[0;31mValueError\u001b[0m: could not convert string to float: '+2i'",
      "\nDuring handling of the above exception, another exception occurred:\n",
      "\u001b[0;31mValueError\u001b[0m                                Traceback (most recent call last)",
      "Cell \u001b[0;32mIn[9], line 1\u001b[0m\n\u001b[0;32m----> 1\u001b[0m Zi\u001b[38;5;241m.\u001b[39mparse_quaternion_string(\u001b[38;5;124m'\u001b[39m\u001b[38;5;124m1+2i+3j+4k\u001b[39m\u001b[38;5;124m'\u001b[39m)\n",
      "File \u001b[0;32m~/Documents/Python/github/myrepos/gaussian_integers/src/cayley_dickson_integers.py:667\u001b[0m, in \u001b[0;36mZi.parse_quaternion_string\u001b[0;34m(qstr)\u001b[0m\n\u001b[1;32m    661\u001b[0m         \u001b[38;5;28;01mraise\u001b[39;00m \u001b[38;5;167;01mValueError\u001b[39;00m(\u001b[38;5;124mf\u001b[39m\u001b[38;5;124m\"\u001b[39m\u001b[38;5;132;01m{\u001b[39;00mterm\u001b[38;5;132;01m}\u001b[39;00m\u001b[38;5;124m in \u001b[39m\u001b[38;5;132;01m{\u001b[39;00mqstr\u001b[38;5;132;01m}\u001b[39;00m\u001b[38;5;124m is not a valid quaternion term.\u001b[39m\u001b[38;5;124m\"\u001b[39m)\n\u001b[1;32m    663\u001b[0m \u001b[38;5;66;03m# Each call to make_term returns a key-value pair that can be used to\u001b[39;00m\n\u001b[1;32m    664\u001b[0m \u001b[38;5;66;03m# update the dictionary, qdict, where the key is one of 'real', 'i',\u001b[39;00m\n\u001b[1;32m    665\u001b[0m \u001b[38;5;66;03m# 'j', or 'k', and the value is the quaternion coefficient (float or int)\u001b[39;00m\n\u001b[1;32m    666\u001b[0m \u001b[38;5;66;03m# that corresponds to the key.\u001b[39;00m\n\u001b[0;32m--> 667\u001b[0m q6 \u001b[38;5;241m=\u001b[39m [make_term(t) \u001b[38;5;28;01mfor\u001b[39;00m t \u001b[38;5;129;01min\u001b[39;00m q5]\n\u001b[1;32m    668\u001b[0m qdict \u001b[38;5;241m=\u001b[39m {\u001b[38;5;124m'\u001b[39m\u001b[38;5;124mreal\u001b[39m\u001b[38;5;124m'\u001b[39m: \u001b[38;5;241m0\u001b[39m, \u001b[38;5;124m'\u001b[39m\u001b[38;5;124mi\u001b[39m\u001b[38;5;124m'\u001b[39m: \u001b[38;5;241m0\u001b[39m, \u001b[38;5;124m'\u001b[39m\u001b[38;5;124mj\u001b[39m\u001b[38;5;124m'\u001b[39m: \u001b[38;5;241m0\u001b[39m, \u001b[38;5;124m'\u001b[39m\u001b[38;5;124mk\u001b[39m\u001b[38;5;124m'\u001b[39m: \u001b[38;5;241m0\u001b[39m}\n\u001b[1;32m    669\u001b[0m \u001b[38;5;28;01mfor\u001b[39;00m term \u001b[38;5;129;01min\u001b[39;00m q6:\n",
      "File \u001b[0;32m~/Documents/Python/github/myrepos/gaussian_integers/src/cayley_dickson_integers.py:667\u001b[0m, in \u001b[0;36m<listcomp>\u001b[0;34m(.0)\u001b[0m\n\u001b[1;32m    661\u001b[0m         \u001b[38;5;28;01mraise\u001b[39;00m \u001b[38;5;167;01mValueError\u001b[39;00m(\u001b[38;5;124mf\u001b[39m\u001b[38;5;124m\"\u001b[39m\u001b[38;5;132;01m{\u001b[39;00mterm\u001b[38;5;132;01m}\u001b[39;00m\u001b[38;5;124m in \u001b[39m\u001b[38;5;132;01m{\u001b[39;00mqstr\u001b[38;5;132;01m}\u001b[39;00m\u001b[38;5;124m is not a valid quaternion term.\u001b[39m\u001b[38;5;124m\"\u001b[39m)\n\u001b[1;32m    663\u001b[0m \u001b[38;5;66;03m# Each call to make_term returns a key-value pair that can be used to\u001b[39;00m\n\u001b[1;32m    664\u001b[0m \u001b[38;5;66;03m# update the dictionary, qdict, where the key is one of 'real', 'i',\u001b[39;00m\n\u001b[1;32m    665\u001b[0m \u001b[38;5;66;03m# 'j', or 'k', and the value is the quaternion coefficient (float or int)\u001b[39;00m\n\u001b[1;32m    666\u001b[0m \u001b[38;5;66;03m# that corresponds to the key.\u001b[39;00m\n\u001b[0;32m--> 667\u001b[0m q6 \u001b[38;5;241m=\u001b[39m [make_term(t) \u001b[38;5;28;01mfor\u001b[39;00m t \u001b[38;5;129;01min\u001b[39;00m q5]\n\u001b[1;32m    668\u001b[0m qdict \u001b[38;5;241m=\u001b[39m {\u001b[38;5;124m'\u001b[39m\u001b[38;5;124mreal\u001b[39m\u001b[38;5;124m'\u001b[39m: \u001b[38;5;241m0\u001b[39m, \u001b[38;5;124m'\u001b[39m\u001b[38;5;124mi\u001b[39m\u001b[38;5;124m'\u001b[39m: \u001b[38;5;241m0\u001b[39m, \u001b[38;5;124m'\u001b[39m\u001b[38;5;124mj\u001b[39m\u001b[38;5;124m'\u001b[39m: \u001b[38;5;241m0\u001b[39m, \u001b[38;5;124m'\u001b[39m\u001b[38;5;124mk\u001b[39m\u001b[38;5;124m'\u001b[39m: \u001b[38;5;241m0\u001b[39m}\n\u001b[1;32m    669\u001b[0m \u001b[38;5;28;01mfor\u001b[39;00m term \u001b[38;5;129;01min\u001b[39;00m q6:\n",
      "File \u001b[0;32m~/Documents/Python/github/myrepos/gaussian_integers/src/cayley_dickson_integers.py:604\u001b[0m, in \u001b[0;36mZi.parse_quaternion_string.<locals>.make_term\u001b[0;34m(tm)\u001b[0m\n\u001b[1;32m    600\u001b[0m     \u001b[38;5;28;01mreturn\u001b[39;00m tm[m:], utils\u001b[38;5;241m.\u001b[39mmake_int_or_float(tm[:m])  \u001b[38;5;66;03m# e.g., ('i', 2.3)\u001b[39;00m\n\u001b[1;32m    601\u001b[0m \u001b[38;5;66;03m# if regex.match(unit_term_pat, tm):\u001b[39;00m\n\u001b[1;32m    602\u001b[0m \u001b[38;5;66;03m#     return tm[-1], utils.make_int_or_float(tm[:-1])  # e.g., ('i', 2.3)\u001b[39;00m\n\u001b[1;32m    603\u001b[0m \u001b[38;5;28;01melse\u001b[39;00m:\n\u001b[0;32m--> 604\u001b[0m     \u001b[38;5;28;01mreturn\u001b[39;00m \u001b[38;5;124m'\u001b[39m\u001b[38;5;124mreal\u001b[39m\u001b[38;5;124m'\u001b[39m, utils\u001b[38;5;241m.\u001b[39mmake_int_or_float(tm)\n",
      "File \u001b[0;32m~/Documents/Python/github/myrepos/gaussian_integers/src/generic_utils.py:37\u001b[0m, in \u001b[0;36mmake_int_or_float\u001b[0;34m(st)\u001b[0m\n\u001b[1;32m     35\u001b[0m     f_st \u001b[38;5;241m=\u001b[39m \u001b[38;5;28mfloat\u001b[39m(st)\n\u001b[1;32m     36\u001b[0m \u001b[38;5;28;01mexcept\u001b[39;00m:\n\u001b[0;32m---> 37\u001b[0m     \u001b[38;5;28;01mraise\u001b[39;00m \u001b[38;5;167;01mValueError\u001b[39;00m(\u001b[38;5;124mf\u001b[39m\u001b[38;5;124m\"\u001b[39m\u001b[38;5;132;01m{\u001b[39;00mst\u001b[38;5;132;01m}\u001b[39;00m\u001b[38;5;124m is not a float nor an int\u001b[39m\u001b[38;5;124m\"\u001b[39m)\n\u001b[1;32m     38\u001b[0m i_st \u001b[38;5;241m=\u001b[39m \u001b[38;5;28mint\u001b[39m(f_st)\n\u001b[1;32m     39\u001b[0m \u001b[38;5;28;01mreturn\u001b[39;00m i_st \u001b[38;5;28;01mif\u001b[39;00m i_st \u001b[38;5;241m==\u001b[39m f_st \u001b[38;5;28;01melse\u001b[39;00m f_st\n",
      "\u001b[0;31mValueError\u001b[0m: +2i is not a float nor an int"
     ]
    }
   ],
   "source": [
    "Zi.parse_quaternion_string('1+2i+3j+4k')"
   ]
  },
  {
   "cell_type": "code",
   "execution_count": null,
   "id": "f213b5e1",
   "metadata": {},
   "outputs": [],
   "source": []
  },
  {
   "cell_type": "code",
   "execution_count": null,
   "id": "bfe5d535",
   "metadata": {},
   "outputs": [],
   "source": [
    "import regex\n",
    "import generic_utils as utils"
   ]
  },
  {
   "cell_type": "code",
   "execution_count": null,
   "id": "d3411061",
   "metadata": {},
   "outputs": [],
   "source": [
    "# The combined regex pattern\n",
    "pattern = r\"L[ijk]|[ijk]\"\n",
    "\n",
    "# Test strings\n",
    "strings = [\n",
    "    \"i\",\n",
    "    \"j\",\n",
    "    \"k\",\n",
    "    \"Li\",\n",
    "    \"Lj\",\n",
    "    \"Lk\",\n",
    "    \"This text contains i, j, and k, as well as Li, Lj, and Lk.\"\n",
    "]\n",
    "\n",
    "for s in strings:\n",
    "    matches = regex.findall(pattern, s)\n",
    "    print(f'Input: \"{s}\" -> Matches: {matches}')"
   ]
  },
  {
   "cell_type": "code",
   "execution_count": null,
   "id": "97e526c6",
   "metadata": {},
   "outputs": [],
   "source": []
  },
  {
   "cell_type": "code",
   "execution_count": null,
   "id": "8810359c",
   "metadata": {},
   "outputs": [],
   "source": [
    "# unit_term_pat = r'^[-+]?((\\d+(\\.\\d*)?|\\.\\d+)([eE][-+]?\\d+)?)?[ijk]$'\n",
    "unit_term_pat = r'^[-+]?((\\d+(\\.\\d*)?|\\.\\d+)([eE][-+]?\\d+)?)?L[ijk]|[ijk]$'"
   ]
  },
  {
   "cell_type": "code",
   "execution_count": null,
   "id": "940bb1c8",
   "metadata": {},
   "outputs": [],
   "source": [
    "trm1 = '7.3Lk'"
   ]
  },
  {
   "cell_type": "code",
   "execution_count": null,
   "id": "f01cc42c",
   "metadata": {},
   "outputs": [],
   "source": [
    "def get_coeff(tm):\n",
    "    if regex.match(unit_term_pat, tm):\n",
    "        if 'L' in tm:\n",
    "            m = -2\n",
    "        else:\n",
    "            m = -1\n",
    "        return tm[m:], utils.make_int_or_float(tm[:m])  # e.g., ('i', 2.3)\n",
    "    else:\n",
    "        return 'real', utils.make_int_or_float(tm)  # e.g., ('real', -3.1)"
   ]
  },
  {
   "cell_type": "code",
   "execution_count": null,
   "id": "daac5293",
   "metadata": {},
   "outputs": [],
   "source": [
    "get_coeff(trm1)"
   ]
  },
  {
   "cell_type": "code",
   "execution_count": null,
   "id": "90d2c085",
   "metadata": {},
   "outputs": [],
   "source": [
    "m = -2\n",
    "trm1[m:], trm1[:m]"
   ]
  },
  {
   "cell_type": "code",
   "execution_count": null,
   "id": "6887acbb",
   "metadata": {},
   "outputs": [],
   "source": [
    "'1' + trm1"
   ]
  },
  {
   "cell_type": "code",
   "execution_count": null,
   "id": "e8cf6e55",
   "metadata": {},
   "outputs": [],
   "source": []
  }
 ],
 "metadata": {
  "kernelspec": {
   "display_name": "Python 3 (ipykernel)",
   "language": "python",
   "name": "python3"
  },
  "language_info": {
   "codemirror_mode": {
    "name": "ipython",
    "version": 3
   },
   "file_extension": ".py",
   "mimetype": "text/x-python",
   "name": "python",
   "nbconvert_exporter": "python",
   "pygments_lexer": "ipython3",
   "version": "3.11.5"
  }
 },
 "nbformat": 4,
 "nbformat_minor": 5
}
