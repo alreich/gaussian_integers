{
 "cells": [
  {
   "cell_type": "markdown",
   "id": "b42260e9",
   "metadata": {},
   "source": [
    "# Tests & Develoment of both Zi & Qi"
   ]
  },
  {
   "cell_type": "code",
   "execution_count": 1,
   "id": "8041679d",
   "metadata": {},
   "outputs": [],
   "source": [
    "from cayley_dickson_base import CayleyDicksonBase\n",
    "from cayley_dickson_integers import Zi\n",
    "from cayley_dickson_rationals import Qi\n",
    "import generic_utils as utils"
   ]
  },
  {
   "cell_type": "markdown",
   "id": "fb2be38c-8fa9-4cd3-a3f2-5c9b2c050b1e",
   "metadata": {},
   "source": [
    "## Octonions"
   ]
  },
  {
   "cell_type": "code",
   "execution_count": 2,
   "id": "9298e29e-ab05-418d-b402-0bc51476cc0d",
   "metadata": {},
   "outputs": [
    {
     "name": "stdout",
     "output_type": "stream",
     "text": [
      "str(o0) = '(10-7i-10j-2k-3L-3Li-6Lj-7Lk)'\n",
      "o0.order() = 3\n",
      "o0.norm = 356\n",
      "o0.is_quaternion() = False\n",
      "o0.is_octonion() = True\n"
     ]
    }
   ],
   "source": [
    "q1 = Zi(Zi(10, -7), Zi(-10, -2))\n",
    "q2 = Zi(Zi(-3, -3), Zi(-6, -7))\n",
    "o0 = Zi(q1, q2)\n",
    "\n",
    "print(f\"{str(o0) = }\") # '((10-7i-10j-2k), (-3-3i-6j-7k))'\n",
    "print(f\"{o0.order() = }\") # 3\n",
    "print(f\"{o0.norm = }\") # 356\n",
    "print(f\"{o0.is_quaternion() = }\") # False\n",
    "print(f\"{o0.is_octonion() = }\") # True"
   ]
  },
  {
   "cell_type": "code",
   "execution_count": null,
   "id": "04d6c809",
   "metadata": {},
   "outputs": [],
   "source": []
  },
  {
   "cell_type": "code",
   "execution_count": null,
   "id": "69f860c5",
   "metadata": {},
   "outputs": [],
   "source": []
  },
  {
   "cell_type": "code",
   "execution_count": 3,
   "id": "8be2558a",
   "metadata": {},
   "outputs": [
    {
     "data": {
      "text/plain": [
       "[[[10, -7], [-10, -2]], [[-3, -3], [-6, -7]]]"
      ]
     },
     "execution_count": 3,
     "metadata": {},
     "output_type": "execute_result"
    }
   ],
   "source": [
    "o0arr = o0.to_array()\n",
    "o0arr"
   ]
  },
  {
   "cell_type": "code",
   "execution_count": 4,
   "id": "7ccffc3e",
   "metadata": {
    "scrolled": true
   },
   "outputs": [
    {
     "data": {
      "text/plain": [
       "True"
      ]
     },
     "execution_count": 4,
     "metadata": {},
     "output_type": "execute_result"
    }
   ],
   "source": [
    "o0 == Zi.from_array(o0arr)"
   ]
  },
  {
   "cell_type": "code",
   "execution_count": 5,
   "id": "97aefb6b",
   "metadata": {},
   "outputs": [
    {
     "data": {
      "text/plain": [
       "Zi(Zi(1, 2), Zi(3, 4))"
      ]
     },
     "execution_count": 5,
     "metadata": {},
     "output_type": "execute_result"
    }
   ],
   "source": [
    "Zi.from_array([[1, 2], [3, 4]])"
   ]
  },
  {
   "cell_type": "code",
   "execution_count": 6,
   "id": "868b7373",
   "metadata": {},
   "outputs": [
    {
     "data": {
      "text/plain": [
       "Zi(Zi(1, 2), Zi(3, 4))"
      ]
     },
     "execution_count": 6,
     "metadata": {},
     "output_type": "execute_result"
    }
   ],
   "source": [
    "Zi.from_array([1, 2, 3, 4])"
   ]
  },
  {
   "cell_type": "code",
   "execution_count": 7,
   "id": "ad925148",
   "metadata": {},
   "outputs": [
    {
     "data": {
      "text/plain": [
       "Zi(Zi(Zi(1, 2), Zi(3, 4)), Zi(Zi(5, 6), Zi(7, 8)))"
      ]
     },
     "execution_count": 7,
     "metadata": {},
     "output_type": "execute_result"
    }
   ],
   "source": [
    "Zi.from_array([1, 2, 3, 4, 5, 6, 7, 8])"
   ]
  },
  {
   "cell_type": "code",
   "execution_count": 8,
   "id": "caae5365",
   "metadata": {},
   "outputs": [
    {
     "name": "stdout",
     "output_type": "stream",
     "text": [
      "(1+2i+3j+4k+5L+6Li+7Lj+8Lk)\n"
     ]
    }
   ],
   "source": [
    "print(Zi.from_array([1, 2, 3, 4, 5, 6, 7, 8]))"
   ]
  },
  {
   "cell_type": "code",
   "execution_count": 9,
   "id": "55458cdb",
   "metadata": {},
   "outputs": [
    {
     "data": {
      "text/plain": [
       "'(10-7i-10j-2k-3L-3Li-6Lj-7Lk)'"
      ]
     },
     "execution_count": 9,
     "metadata": {},
     "output_type": "execute_result"
    }
   ],
   "source": [
    "str(o0)"
   ]
  },
  {
   "cell_type": "code",
   "execution_count": 10,
   "id": "b09d3a71",
   "metadata": {},
   "outputs": [
    {
     "data": {
      "text/plain": [
       "[1, 2, 3, 4]"
      ]
     },
     "execution_count": 10,
     "metadata": {},
     "output_type": "execute_result"
    }
   ],
   "source": [
    "Zi.parse_quaternion_string('1+2i+3j+4k')"
   ]
  },
  {
   "cell_type": "code",
   "execution_count": null,
   "id": "f213b5e1",
   "metadata": {},
   "outputs": [],
   "source": []
  },
  {
   "cell_type": "code",
   "execution_count": 11,
   "id": "bfe5d535",
   "metadata": {},
   "outputs": [],
   "source": [
    "import re\n",
    "import generic_utils as utils"
   ]
  },
  {
   "cell_type": "code",
   "execution_count": 12,
   "id": "d3411061",
   "metadata": {},
   "outputs": [
    {
     "name": "stdout",
     "output_type": "stream",
     "text": [
      "Input: \"37i\" -> Matches: <re.Match object; span=(0, 3), match='37i'>\n",
      "Input: \"8.3j\" -> Matches: <re.Match object; span=(0, 4), match='8.3j'>\n",
      "Input: \"-2.4\" -> Matches: None\n",
      "Input: \"1L\" -> Matches: None\n",
      "Input: \"1k\" -> Matches: <re.Match object; span=(0, 2), match='1k'>\n",
      "Input: \"3e7Li\" -> Matches: <re.Match object; span=(0, 5), match='3e7Li'>\n",
      "Input: \"-2Lj\" -> Matches: <re.Match object; span=(0, 4), match='-2Lj'>\n",
      "Input: \"7.3Lk\" -> Matches: <re.Match object; span=(0, 5), match='7.3Lk'>\n"
     ]
    }
   ],
   "source": [
    "# The combined re pattern\n",
    "# pattern = r\"(L[ijk]|[ijk])$\"\n",
    "pattern = r'^[-+]?((\\d+(\\.\\d*)?|\\.\\d+)([eE][-+]?\\d+)?)?(L[ijk]|[ijk])$'\n",
    "\n",
    "# Test strings\n",
    "strings = [\n",
    "    \"37i\",\n",
    "    \"8.3j\",\n",
    "    \"-2.4\",\n",
    "    \"1L\",\n",
    "    \"1k\",\n",
    "    \"3e7Li\",\n",
    "    \"-2Lj\",\n",
    "    \"7.3Lk\"\n",
    "]\n",
    "\n",
    "for s in strings:\n",
    "    # matches = re.findall(pattern, s)\n",
    "    matches = re.match(pattern, s)\n",
    "    print(f'Input: \"{s}\" -> Matches: {matches}')"
   ]
  },
  {
   "cell_type": "code",
   "execution_count": 13,
   "id": "32ea279a-5da4-4dbc-bd8f-c44dc402025a",
   "metadata": {},
   "outputs": [
    {
     "name": "stdout",
     "output_type": "stream",
     "text": [
      "Help on function match in module re:\n",
      "\n",
      "match(pattern, string, flags=0)\n",
      "    Try to apply the pattern at the start of the string, returning\n",
      "    a Match object, or None if no match was found.\n",
      "\n"
     ]
    }
   ],
   "source": [
    "help(re.match)"
   ]
  },
  {
   "cell_type": "code",
   "execution_count": 14,
   "id": "8810359c",
   "metadata": {},
   "outputs": [],
   "source": [
    "# unit_term_pat = r'^[-+]?((\\d+(\\.\\d*)?|\\.\\d+)([eE][-+]?\\d+)?)?[ijk]$'\n",
    "unit_term_pat = r'^[-+]?((\\d+(\\.\\d*)?|\\.\\d+)([eE][-+]?\\d+)?)?(L[ijk]|[ijk])$'"
   ]
  },
  {
   "cell_type": "code",
   "execution_count": 15,
   "id": "940bb1c8",
   "metadata": {},
   "outputs": [],
   "source": [
    "trm1 = '7.3Lk'"
   ]
  },
  {
   "cell_type": "code",
   "execution_count": 16,
   "id": "f01cc42c",
   "metadata": {},
   "outputs": [],
   "source": [
    "def get_coeff(tm):\n",
    "    if re.match(unit_term_pat, tm):\n",
    "        if 'L' in tm:\n",
    "            m = -2\n",
    "        else:\n",
    "            m = -1\n",
    "        return tm[m:], utils.make_int_or_float(tm[:m])  # e.g., ('i', 2.3)\n",
    "    else:\n",
    "        return 'real', utils.make_int_or_float(tm)  # e.g., ('real', -3.1)"
   ]
  },
  {
   "cell_type": "code",
   "execution_count": 17,
   "id": "daac5293",
   "metadata": {},
   "outputs": [
    {
     "name": "stdout",
     "output_type": "stream",
     "text": [
      "('i', 37)\n",
      "('j', 8.3)\n",
      "('real', -2.4)\n"
     ]
    },
    {
     "ename": "ValueError",
     "evalue": "1L is not a float nor an int",
     "output_type": "error",
     "traceback": [
      "\u001b[0;31m---------------------------------------------------------------------------\u001b[0m",
      "\u001b[0;31mValueError\u001b[0m                                Traceback (most recent call last)",
      "File \u001b[0;32m~/Documents/Python/github/myrepos/gaussian_integers/src/generic_utils.py:35\u001b[0m, in \u001b[0;36mmake_int_or_float\u001b[0;34m(st)\u001b[0m\n\u001b[1;32m     34\u001b[0m \u001b[38;5;28;01mtry\u001b[39;00m:\n\u001b[0;32m---> 35\u001b[0m     f_st \u001b[38;5;241m=\u001b[39m \u001b[38;5;28mfloat\u001b[39m(st)\n\u001b[1;32m     36\u001b[0m \u001b[38;5;28;01mexcept\u001b[39;00m:\n",
      "\u001b[0;31mValueError\u001b[0m: could not convert string to float: '1L'",
      "\nDuring handling of the above exception, another exception occurred:\n",
      "\u001b[0;31mValueError\u001b[0m                                Traceback (most recent call last)",
      "Cell \u001b[0;32mIn[17], line 2\u001b[0m\n\u001b[1;32m      1\u001b[0m \u001b[38;5;28;01mfor\u001b[39;00m s \u001b[38;5;129;01min\u001b[39;00m strings:\n\u001b[0;32m----> 2\u001b[0m     \u001b[38;5;28mprint\u001b[39m(get_coeff(s))\n",
      "Cell \u001b[0;32mIn[16], line 9\u001b[0m, in \u001b[0;36mget_coeff\u001b[0;34m(tm)\u001b[0m\n\u001b[1;32m      7\u001b[0m     \u001b[38;5;28;01mreturn\u001b[39;00m tm[m:], utils\u001b[38;5;241m.\u001b[39mmake_int_or_float(tm[:m])  \u001b[38;5;66;03m# e.g., ('i', 2.3)\u001b[39;00m\n\u001b[1;32m      8\u001b[0m \u001b[38;5;28;01melse\u001b[39;00m:\n\u001b[0;32m----> 9\u001b[0m     \u001b[38;5;28;01mreturn\u001b[39;00m \u001b[38;5;124m'\u001b[39m\u001b[38;5;124mreal\u001b[39m\u001b[38;5;124m'\u001b[39m, utils\u001b[38;5;241m.\u001b[39mmake_int_or_float(tm)\n",
      "File \u001b[0;32m~/Documents/Python/github/myrepos/gaussian_integers/src/generic_utils.py:37\u001b[0m, in \u001b[0;36mmake_int_or_float\u001b[0;34m(st)\u001b[0m\n\u001b[1;32m     35\u001b[0m     f_st \u001b[38;5;241m=\u001b[39m \u001b[38;5;28mfloat\u001b[39m(st)\n\u001b[1;32m     36\u001b[0m \u001b[38;5;28;01mexcept\u001b[39;00m:\n\u001b[0;32m---> 37\u001b[0m     \u001b[38;5;28;01mraise\u001b[39;00m \u001b[38;5;167;01mValueError\u001b[39;00m(\u001b[38;5;124mf\u001b[39m\u001b[38;5;124m\"\u001b[39m\u001b[38;5;132;01m{\u001b[39;00mst\u001b[38;5;132;01m}\u001b[39;00m\u001b[38;5;124m is not a float nor an int\u001b[39m\u001b[38;5;124m\"\u001b[39m)\n\u001b[1;32m     38\u001b[0m i_st \u001b[38;5;241m=\u001b[39m \u001b[38;5;28mint\u001b[39m(f_st)\n\u001b[1;32m     39\u001b[0m \u001b[38;5;28;01mreturn\u001b[39;00m i_st \u001b[38;5;28;01mif\u001b[39;00m i_st \u001b[38;5;241m==\u001b[39m f_st \u001b[38;5;28;01melse\u001b[39;00m f_st\n",
      "\u001b[0;31mValueError\u001b[0m: 1L is not a float nor an int"
     ]
    }
   ],
   "source": [
    "for s in strings:\n",
    "    print(get_coeff(s))"
   ]
  },
  {
   "cell_type": "code",
   "execution_count": null,
   "id": "b75810ce",
   "metadata": {},
   "outputs": [],
   "source": []
  },
  {
   "cell_type": "code",
   "execution_count": 24,
   "id": "1884e058",
   "metadata": {},
   "outputs": [
    {
     "data": {
      "text/plain": [
       "[1, 2, 3, 4, 5, 6, 7, 8]"
      ]
     },
     "execution_count": 24,
     "metadata": {},
     "output_type": "execute_result"
    }
   ],
   "source": [
    "foo1 = [1, 2, 3, 4, 5, 6, 7, 8]\n",
    "foo1"
   ]
  },
  {
   "cell_type": "code",
   "execution_count": 26,
   "id": "b79108b3",
   "metadata": {},
   "outputs": [
    {
     "data": {
      "text/plain": [
       "([1, 2, 3, 4], [5, 6, 7, 8])"
      ]
     },
     "execution_count": 26,
     "metadata": {},
     "output_type": "execute_result"
    }
   ],
   "source": [
    "foo1[:4], foo1[4:]"
   ]
  },
  {
   "cell_type": "code",
   "execution_count": 1,
   "id": "2faa556d",
   "metadata": {},
   "outputs": [
    {
     "data": {
      "text/plain": [
       "'7-2.4e-3i+3.75j-4.0k'"
      ]
     },
     "execution_count": 1,
     "metadata": {},
     "output_type": "execute_result"
    }
   ],
   "source": [
    "'1+2i'\n",
    "'1+2i-3j-4k'\n",
    "'1+2i-3j-4k-5L+6Li-7Lj+8Lk'\n",
    "'1-3k'\n",
    "'2i-4k'\n",
    "'2j-8Lk'\n",
    "'i+j-k'\n",
    "'j+L'\n",
    "'2i-1+3k-4j'\n",
    "'L-k'\n",
    "'7-2.4e-3i+3.75j-4.0k'"
   ]
  },
  {
   "cell_type": "code",
   "execution_count": null,
   "id": "6ced316f",
   "metadata": {},
   "outputs": [],
   "source": []
  }
 ],
 "metadata": {
  "kernelspec": {
   "display_name": "Python 3 (ipykernel)",
   "language": "python",
   "name": "python3"
  },
  "language_info": {
   "codemirror_mode": {
    "name": "ipython",
    "version": 3
   },
   "file_extension": ".py",
   "mimetype": "text/x-python",
   "name": "python",
   "nbconvert_exporter": "python",
   "pygments_lexer": "ipython3",
   "version": "3.11.5"
  }
 },
 "nbformat": 4,
 "nbformat_minor": 5
}
