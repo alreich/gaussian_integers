{
 "cells": [
  {
   "cell_type": "markdown",
   "id": "b42260e9",
   "metadata": {},
   "source": [
    "# Tests & Develoment of both Zi & Qi"
   ]
  },
  {
   "cell_type": "code",
   "execution_count": 4,
   "id": "8041679d",
   "metadata": {},
   "outputs": [],
   "source": [
    "from cayley_dickson_base import CayleyDicksonBase\n",
    "from cayley_dickson_integers import Zi\n",
    "from cayley_dickson_rationals import Qi\n",
    "from generic_utils import flatten"
   ]
  },
  {
   "cell_type": "markdown",
   "id": "fb2be38c-8fa9-4cd3-a3f2-5c9b2c050b1e",
   "metadata": {},
   "source": [
    "## Octonions"
   ]
  },
  {
   "cell_type": "code",
   "execution_count": 5,
   "id": "9298e29e-ab05-418d-b402-0bc51476cc0d",
   "metadata": {},
   "outputs": [
    {
     "name": "stdout",
     "output_type": "stream",
     "text": [
      "str(o0) = '(10-7i-10j-2k-3L-3Li-6Lj-7Lk)'\n",
      "o0.order() = 3\n",
      "o0.norm = 356\n",
      "o0.is_quaternion() = False\n",
      "o0.is_octonion() = True\n"
     ]
    }
   ],
   "source": [
    "q1 = Zi(Zi(10, -7), Zi(-10, -2))\n",
    "q2 = Zi(Zi(-3, -3), Zi(-6, -7))\n",
    "o0 = Zi(q1, q2)\n",
    "\n",
    "print(f\"{str(o0) = }\") # '((10-7i-10j-2k), (-3-3i-6j-7k))'\n",
    "print(f\"{o0.order() = }\") # 3\n",
    "print(f\"{o0.norm = }\") # 356\n",
    "print(f\"{o0.is_quaternion() = }\") # False\n",
    "print(f\"{o0.is_octonion() = }\") # True"
   ]
  },
  {
   "cell_type": "code",
   "execution_count": 6,
   "id": "573b260b-8e5b-497b-bf10-b56f5e2ce47e",
   "metadata": {},
   "outputs": [
    {
     "name": "stdout",
     "output_type": "stream",
     "text": [
      "0 10\n",
      "1 -7\n",
      "2 -10\n",
      "3 -2\n",
      "4 -3\n",
      "5 -3\n",
      "6 -6\n",
      "7 -7\n"
     ]
    }
   ],
   "source": [
    "for idx, coef in enumerate(flatten(o0.to_array())):\n",
    "    print(idx, coef)"
   ]
  },
  {
   "cell_type": "code",
   "execution_count": 8,
   "id": "9c4c552c-bf27-4faf-ba9e-5d1612723eef",
   "metadata": {},
   "outputs": [
    {
     "data": {
      "text/plain": [
       "[10, -7, -10, -2, -3, -3, -6, -7]"
      ]
     },
     "execution_count": 8,
     "metadata": {},
     "output_type": "execute_result"
    }
   ],
   "source": [
    "list(flatten(o0.to_array()))"
   ]
  },
  {
   "cell_type": "code",
   "execution_count": null,
   "id": "9af736fe-435b-4a66-983c-4005cd3531bf",
   "metadata": {},
   "outputs": [],
   "source": []
  }
 ],
 "metadata": {
  "kernelspec": {
   "display_name": "Python [conda env:base] *",
   "language": "python",
   "name": "conda-base-py"
  },
  "language_info": {
   "codemirror_mode": {
    "name": "ipython",
    "version": 3
   },
   "file_extension": ".py",
   "mimetype": "text/x-python",
   "name": "python",
   "nbconvert_exporter": "python",
   "pygments_lexer": "ipython3",
   "version": "3.13.5"
  }
 },
 "nbformat": 4,
 "nbformat_minor": 5
}
