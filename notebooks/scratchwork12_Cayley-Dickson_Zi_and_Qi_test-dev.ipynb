{
 "cells": [
  {
   "cell_type": "markdown",
   "id": "b42260e9",
   "metadata": {},
   "source": [
    "# Tests & Develoment of both Zi & Qi"
   ]
  },
  {
   "cell_type": "code",
   "execution_count": 1,
   "id": "8041679d",
   "metadata": {},
   "outputs": [],
   "source": [
    "from cayley_dickson_base import CayleyDicksonBase\n",
    "from cayley_dickson_integers import Zi\n",
    "from cayley_dickson_rationals import Qi\n",
    "import generic_utils as utils"
   ]
  },
  {
   "cell_type": "raw",
   "id": "6d1c097c",
   "metadata": {},
   "source": [
    "        self.assertEqual(Zi.parse_quaternion_string('1+2i'), [1, 2])\n",
    "        self.assertEqual(Zi.parse_quaternion_string('1+2i-3j-4k'), [1, 2, -3, -4])\n",
    "        self.assertEqual(Zi.parse_quaternion_string('1+2i-3j-4k-5L+6Li-7Lj+8Lk'), [1, 2, -3, -4, -5, 6, -7, 8])\n",
    "        self.assertEqual(Zi.parse_quaternion_string('1-3k'), [1, 0, 0, -3])\n",
    "        self.assertEqual(Zi.parse_quaternion_string('2i-4k'), [0, 2, 0, -4])\n",
    "        self.assertEqual(Zi.parse_quaternion_string('2j-8Lk'), [0, 0, 2, 0, 0, 0, 0, -8])\n",
    "        self.assertEqual(Zi.parse_quaternion_string('i+j-k'), [0, 1, 1, -1])\n",
    "        self.assertEqual(Zi.parse_quaternion_string('j+L'), [0, 0, 1, 0, 1, 0, 0, 0])\n",
    "        self.assertEqual(Zi.parse_quaternion_string('2i-1+3k-4j'), [-1, 2, -4, 3])\n",
    "        self.assertEqual(Zi.parse_quaternion_string('L-k'), [0, 0, 0, -1, 1, 0, 0, 0])\n",
    "        self.assertEqual(Zi.parse_quaternion_string('7-2.4e-3i+3.75j-4.0k'), [0, 7-2.4e-3, 3.75, -4.0])"
   ]
  },
  {
   "cell_type": "code",
   "execution_count": 2,
   "id": "6ced316f",
   "metadata": {},
   "outputs": [
    {
     "name": "stdout",
     "output_type": "stream",
     "text": [
      "+k\n"
     ]
    },
    {
     "data": {
      "text/plain": [
       "<re.Match object; span=(0, 2), match='+k'>"
      ]
     },
     "execution_count": 2,
     "metadata": {},
     "output_type": "execute_result"
    }
   ],
   "source": [
    "import re\n",
    "\n",
    "term = '+k'\n",
    "print(term)\n",
    "pat = r'^[-+]([lL]|[lL][ijk]|[ijk])$'\n",
    "\n",
    "re.match(pat, term)\n",
    "#term[:1] + '1' + term[1:]"
   ]
  },
  {
   "cell_type": "code",
   "execution_count": 3,
   "id": "4df8fc22-cbfa-4c16-94ce-d7a8b3383ed3",
   "metadata": {},
   "outputs": [],
   "source": [
    "qstr = \"1+i+j+k\""
   ]
  },
  {
   "cell_type": "code",
   "execution_count": 4,
   "id": "97004d22",
   "metadata": {},
   "outputs": [
    {
     "data": {
      "text/plain": [
       "('1+', '+j+k')"
      ]
     },
     "execution_count": 4,
     "metadata": {},
     "output_type": "execute_result"
    }
   ],
   "source": [
    "pat2 = r'[-+][lL]|[lL][ijk]|[ijk]'\n",
    "\n",
    "foo = re.search(pat2, qstr)\n",
    "sp = foo.span()\n",
    "\n",
    "qstr[:sp[0]], qstr[sp[1]:]"
   ]
  },
  {
   "cell_type": "code",
   "execution_count": null,
   "id": "9c0b5dbd",
   "metadata": {},
   "outputs": [],
   "source": []
  },
  {
   "cell_type": "code",
   "execution_count": null,
   "id": "b81decc2",
   "metadata": {},
   "outputs": [],
   "source": [
    "import re\n",
    "\n",
    "text = '1+i+j+k'\n",
    "pattern = r'[-+][lL]|[lL][ijk]|[ijk]'\n",
    "char_to_splice = \"1\"\n",
    "splice_position = 0 # Splice after '+' or '-'\n",
    "\n",
    "match = re.search(pattern, text)\n",
    "\n",
    "if match:\n",
    "    start_index = match.start()\n",
    "    end_index = match.end()\n",
    "    matched_string = match.group(0)\n",
    "\n",
    "    # Splice the character within the matched string\n",
    "    modified_matched_string = (\n",
    "        matched_string[:splice_position] +\n",
    "        char_to_splice +\n",
    "        matched_string[splice_position:]\n",
    "    )\n",
    "\n",
    "    # Reconstruct the full string\n",
    "    new_text = (\n",
    "        text[:start_index] +\n",
    "        modified_matched_string +\n",
    "        text[end_index:]\n",
    "    )\n",
    "    print(f\"Original string: {text}\")\n",
    "    print(f\"Modified string: {new_text}\")\n",
    "else:\n",
    "    print(\"Pattern not found.\")"
   ]
  },
  {
   "cell_type": "code",
   "execution_count": null,
   "id": "3bed5d1d",
   "metadata": {},
   "outputs": [],
   "source": []
  },
  {
   "cell_type": "code",
   "execution_count": 15,
   "id": "3a257903",
   "metadata": {},
   "outputs": [],
   "source": [
    "qstr = '1+i+j+k'\n",
    "pat = r'[-+][lL]|[lL][ijk]|[ijk]'\n",
    "# char_to_splice = \"1\"\n",
    "# splice_position = 0 # Splice after '+' or '-'"
   ]
  },
  {
   "cell_type": "code",
   "execution_count": 5,
   "id": "68c8696f",
   "metadata": {},
   "outputs": [],
   "source": [
    "def add_implied_coefficients(text):\n",
    "\n",
    "    pattern = r'[-+][lL]|[lL][ijk]|[ijk]'\n",
    "    char_to_splice = \"1\"\n",
    "    splice_position = 0 # Splice after '+' or '-'\n",
    "\n",
    "    match = re.search(pattern, text)\n",
    "\n",
    "    if match:\n",
    "        start_index = match.start()\n",
    "        end_index = match.end()\n",
    "        matched_string = match.group(0)\n",
    "\n",
    "        # Splice the character within the matched string\n",
    "        modified_matched_string = (\n",
    "            matched_string[:splice_position] +\n",
    "            char_to_splice +\n",
    "            matched_string[splice_position:]\n",
    "        )\n",
    "\n",
    "        # Reconstruct the full string\n",
    "        new_text = (\n",
    "            text[:start_index] +\n",
    "            modified_matched_string +\n",
    "            text[end_index:]\n",
    "        )\n",
    "\n",
    "        return new_text, True\n",
    "    else:\n",
    "        return text, False"
   ]
  },
  {
   "cell_type": "code",
   "execution_count": 10,
   "id": "30280551",
   "metadata": {},
   "outputs": [
    {
     "data": {
      "text/plain": [
       "('1+1i+j+k', True)"
      ]
     },
     "execution_count": 10,
     "metadata": {},
     "output_type": "execute_result"
    }
   ],
   "source": [
    "qstr = '1+i+j+k'\n",
    "foo = add_implied_coefficients(qstr)\n",
    "foo"
   ]
  },
  {
   "cell_type": "code",
   "execution_count": 11,
   "id": "ae53e16f",
   "metadata": {},
   "outputs": [
    {
     "data": {
      "text/plain": [
       "('1+11i+j+k', True)"
      ]
     },
     "execution_count": 11,
     "metadata": {},
     "output_type": "execute_result"
    }
   ],
   "source": [
    "add_implied_coefficients(foo[0])"
   ]
  },
  {
   "cell_type": "code",
   "execution_count": 18,
   "id": "3eca59d6",
   "metadata": {},
   "outputs": [
    {
     "data": {
      "text/plain": [
       "<re.Match object; span=(2, 3), match='i'>"
      ]
     },
     "execution_count": 18,
     "metadata": {},
     "output_type": "execute_result"
    }
   ],
   "source": [
    "mat = re.search(pat, qstr)\n",
    "mat"
   ]
  },
  {
   "cell_type": "code",
   "execution_count": 19,
   "id": "9f7d5936",
   "metadata": {},
   "outputs": [
    {
     "data": {
      "text/plain": [
       "2"
      ]
     },
     "execution_count": 19,
     "metadata": {},
     "output_type": "execute_result"
    }
   ],
   "source": [
    "mat.start()"
   ]
  },
  {
   "cell_type": "code",
   "execution_count": 20,
   "id": "3403e58c",
   "metadata": {},
   "outputs": [
    {
     "data": {
      "text/plain": [
       "3"
      ]
     },
     "execution_count": 20,
     "metadata": {},
     "output_type": "execute_result"
    }
   ],
   "source": [
    "mat.end()"
   ]
  },
  {
   "cell_type": "code",
   "execution_count": 21,
   "id": "9deadd6a",
   "metadata": {},
   "outputs": [
    {
     "data": {
      "text/plain": [
       "'i'"
      ]
     },
     "execution_count": 21,
     "metadata": {},
     "output_type": "execute_result"
    }
   ],
   "source": [
    "qstr[mat.start()]"
   ]
  },
  {
   "cell_type": "code",
   "execution_count": 22,
   "id": "c92c7bc0",
   "metadata": {},
   "outputs": [
    {
     "data": {
      "text/plain": [
       "'+'"
      ]
     },
     "execution_count": 22,
     "metadata": {},
     "output_type": "execute_result"
    }
   ],
   "source": [
    "qstr[mat.end()]"
   ]
  },
  {
   "cell_type": "code",
   "execution_count": null,
   "id": "98c5356c",
   "metadata": {},
   "outputs": [],
   "source": []
  },
  {
   "cell_type": "code",
   "execution_count": 125,
   "id": "f450cc2d",
   "metadata": {},
   "outputs": [],
   "source": [
    "qstr1 = '1+i+j+k+L+Li+Lj+Lk'\n",
    "qstr2 = '1+i+j+k+l+li+lj+lk'"
   ]
  },
  {
   "cell_type": "code",
   "execution_count": 126,
   "id": "d8cec7cf",
   "metadata": {},
   "outputs": [],
   "source": [
    "pat = r'[-+][ijklL]|[lL]i|[lL]j|[lL]k'"
   ]
  },
  {
   "cell_type": "code",
   "execution_count": 127,
   "id": "5413d005",
   "metadata": {},
   "outputs": [
    {
     "name": "stdout",
     "output_type": "stream",
     "text": [
      "1 3 +i\n",
      "3 5 +j\n",
      "5 7 +k\n",
      "7 9 +l\n",
      "9 11 +l\n",
      "12 14 +l\n",
      "15 17 +l\n"
     ]
    },
    {
     "data": {
      "text/plain": [
       "[1, 3, 5, 7, 9, 12, 15]"
      ]
     },
     "execution_count": 127,
     "metadata": {},
     "output_type": "execute_result"
    }
   ],
   "source": [
    "qstr = qstr2\n",
    "\n",
    "indices = []\n",
    "for mat in re.finditer(pat, qstr):\n",
    "    indices.append(mat.start())\n",
    "    print(mat.start(), mat.end(), mat.group())\n",
    "indices"
   ]
  },
  {
   "cell_type": "code",
   "execution_count": 128,
   "id": "dc3e524d",
   "metadata": {},
   "outputs": [],
   "source": [
    "for idx in reversed(indices):\n",
    "    qstr = qstr[:idx+1] + '1' + qstr[idx+1:]"
   ]
  },
  {
   "cell_type": "code",
   "execution_count": 129,
   "id": "1e7cfeff",
   "metadata": {},
   "outputs": [
    {
     "data": {
      "text/plain": [
       "'1+1i+1j+1k+1l+1li+1lj+1lk'"
      ]
     },
     "execution_count": 129,
     "metadata": {},
     "output_type": "execute_result"
    }
   ],
   "source": [
    "qstr"
   ]
  },
  {
   "cell_type": "code",
   "execution_count": 138,
   "id": "a4acd487",
   "metadata": {},
   "outputs": [],
   "source": [
    "def add_implied_coefficients(st):\n",
    "    pat = r'[-+][ijklL]|[lL]i|[lL]j|[lL]k'\n",
    "    indices = []\n",
    "    # Find locations of implied coefficients\n",
    "    for match in re.finditer(pat, st):\n",
    "        indices.append(match.start())\n",
    "    # Splice in the implied coefficients\n",
    "    for idx in reversed(indices):\n",
    "        st = st[:idx+1] + '1' + st[idx+1:]\n",
    "    return st"
   ]
  },
  {
   "cell_type": "code",
   "execution_count": 139,
   "id": "16113b61",
   "metadata": {},
   "outputs": [
    {
     "data": {
      "text/plain": [
       "'1+1i+1j+1k+1L+1Li+1Lj+1Lk'"
      ]
     },
     "execution_count": 139,
     "metadata": {},
     "output_type": "execute_result"
    }
   ],
   "source": [
    "add_implied_coefficients(qstr1)"
   ]
  },
  {
   "cell_type": "code",
   "execution_count": 140,
   "id": "bd27b67f",
   "metadata": {},
   "outputs": [
    {
     "data": {
      "text/plain": [
       "'1+1i+1j+1k+1l+1li+1lj+1lk'"
      ]
     },
     "execution_count": 140,
     "metadata": {},
     "output_type": "execute_result"
    }
   ],
   "source": [
    "add_implied_coefficients(qstr2)"
   ]
  },
  {
   "cell_type": "code",
   "execution_count": 141,
   "id": "f4d287fb",
   "metadata": {},
   "outputs": [],
   "source": [
    "qstr3 = '1+2i-j-1k+L-Li-4Lj+Lk'"
   ]
  },
  {
   "cell_type": "code",
   "execution_count": 137,
   "id": "292d3b08",
   "metadata": {},
   "outputs": [
    {
     "name": "stdout",
     "output_type": "stream",
     "text": [
      "1+2i-j-1k+L-Li-4Lj+Lk\n",
      "1+2i-1j-1k+1L-1Li-4L1j+1Lk\n"
     ]
    }
   ],
   "source": [
    "print(qstr3)\n",
    "print(add_implied_coefficients(qstr3))"
   ]
  },
  {
   "cell_type": "code",
   "execution_count": 147,
   "id": "eb983c05",
   "metadata": {},
   "outputs": [
    {
     "data": {
      "text/plain": [
       "'(-10+4i-3j-9k-9L-10Li+8Lj+8Lk)'"
      ]
     },
     "execution_count": 147,
     "metadata": {},
     "output_type": "execute_result"
    }
   ],
   "source": [
    "qstr4 = str(Zi.random_octonion())\n",
    "qstr4"
   ]
  },
  {
   "cell_type": "code",
   "execution_count": 148,
   "id": "3a6f2b39",
   "metadata": {},
   "outputs": [
    {
     "data": {
      "text/plain": [
       "'(-10+4i-3j-9k-9L-10L1i+8L1j+8L1k)'"
      ]
     },
     "execution_count": 148,
     "metadata": {},
     "output_type": "execute_result"
    }
   ],
   "source": [
    "add_implied_coefficients(qstr4)"
   ]
  },
  {
   "cell_type": "code",
   "execution_count": null,
   "id": "ecdf199c",
   "metadata": {},
   "outputs": [],
   "source": []
  }
 ],
 "metadata": {
  "kernelspec": {
   "display_name": "Python 3 (ipykernel)",
   "language": "python",
   "name": "python3"
  },
  "language_info": {
   "codemirror_mode": {
    "name": "ipython",
    "version": 3
   },
   "file_extension": ".py",
   "mimetype": "text/x-python",
   "name": "python",
   "nbconvert_exporter": "python",
   "pygments_lexer": "ipython3",
   "version": "3.11.5"
  }
 },
 "nbformat": 4,
 "nbformat_minor": 5
}
