{
 "cells": [
  {
   "cell_type": "markdown",
   "id": "b42260e9",
   "metadata": {},
   "source": [
    "# Tests & Develoment of both Zi & Qi"
   ]
  },
  {
   "cell_type": "code",
   "execution_count": 5,
   "id": "8041679d",
   "metadata": {},
   "outputs": [],
   "source": [
    "from cayley_dickson_base import CayleyDicksonBase\n",
    "from cayley_dickson_integers import Zi\n",
    "from cayley_dickson_rationals import Qi\n",
    "import generic_utils as utils"
   ]
  },
  {
   "cell_type": "markdown",
   "id": "fb2be38c-8fa9-4cd3-a3f2-5c9b2c050b1e",
   "metadata": {},
   "source": [
    "## Octonions"
   ]
  },
  {
   "cell_type": "code",
   "execution_count": 6,
   "id": "9298e29e-ab05-418d-b402-0bc51476cc0d",
   "metadata": {},
   "outputs": [
    {
     "name": "stdout",
     "output_type": "stream",
     "text": [
      "str(o0) = '((10-7i-10j-2k), (-3-3i-6j-7k))'\n",
      "o0.order() = 3\n",
      "o0.norm = 356\n",
      "o0.is_quaternion() = False\n",
      "o0.is_octonion() = True\n"
     ]
    }
   ],
   "source": [
    "q1 = Zi(Zi(10, -7), Zi(-10, -2))\n",
    "q2 = Zi(Zi(-3, -3), Zi(-6, -7))\n",
    "o0 = Zi(q1, q2)\n",
    "\n",
    "print(f\"{str(o0) = }\") # '((10-7i-10j-2k), (-3-3i-6j-7k))'\n",
    "print(f\"{o0.order() = }\") # 3\n",
    "print(f\"{o0.norm = }\") # 356\n",
    "print(f\"{o0.is_quaternion() = }\") # False\n",
    "print(f\"{o0.is_octonion() = }\") # True"
   ]
  },
  {
   "cell_type": "code",
   "execution_count": 7,
   "id": "573b260b-8e5b-497b-bf10-b56f5e2ce47e",
   "metadata": {},
   "outputs": [
    {
     "name": "stdout",
     "output_type": "stream",
     "text": [
      "0 10\n",
      "1 -7\n",
      "2 -10\n",
      "3 -2\n",
      "4 -3\n",
      "5 -3\n",
      "6 -6\n",
      "7 -7\n"
     ]
    }
   ],
   "source": [
    "for idx, coef in enumerate(utils.flatten(o0.to_array())):\n",
    "    print(idx, coef)"
   ]
  },
  {
   "cell_type": "code",
   "execution_count": 8,
   "id": "9c4c552c-bf27-4faf-ba9e-5d1612723eef",
   "metadata": {},
   "outputs": [
    {
     "data": {
      "text/plain": [
       "[10, -7, -10, -2, -3, -3, -6, -7]"
      ]
     },
     "execution_count": 8,
     "metadata": {},
     "output_type": "execute_result"
    }
   ],
   "source": [
    "list(utils.flatten(o0.to_array()))"
   ]
  },
  {
   "cell_type": "code",
   "execution_count": 9,
   "id": "9af736fe-435b-4a66-983c-4005cd3531bf",
   "metadata": {},
   "outputs": [
    {
     "data": {
      "text/plain": [
       "Zi(Zi(Zi(10, -7), Zi(-10, -2)), Zi(Zi(-3, -3), Zi(-6, -7)))"
      ]
     },
     "execution_count": 9,
     "metadata": {},
     "output_type": "execute_result"
    }
   ],
   "source": [
    "o0"
   ]
  },
  {
   "cell_type": "code",
   "execution_count": 10,
   "id": "8be2558a",
   "metadata": {},
   "outputs": [
    {
     "data": {
      "text/plain": [
       "[[[10, -7], [-10, -2]], [[-3, -3], [-6, -7]]]"
      ]
     },
     "execution_count": 10,
     "metadata": {},
     "output_type": "execute_result"
    }
   ],
   "source": [
    "o0arr = o0.to_array()\n",
    "o0arr"
   ]
  },
  {
   "cell_type": "code",
   "execution_count": 11,
   "id": "7ccffc3e",
   "metadata": {
    "scrolled": true
   },
   "outputs": [
    {
     "ename": "ValueError",
     "evalue": "Can't make Zi out of [-10, -2, -3, -3, -6, -7]",
     "output_type": "error",
     "traceback": [
      "\u001b[0;31m---------------------------------------------------------------------------\u001b[0m",
      "\u001b[0;31mValueError\u001b[0m                                Traceback (most recent call last)",
      "Cell \u001b[0;32mIn[11], line 1\u001b[0m\n\u001b[0;32m----> 1\u001b[0m Zi\u001b[38;5;241m.\u001b[39mfrom_array(o0arr)\n",
      "File \u001b[0;32m~/Documents/Python/github/myrepos/gaussian_integers/src/cayley_dickson_integers.py:399\u001b[0m, in \u001b[0;36mZi.from_array\u001b[0;34m(arr)\u001b[0m\n\u001b[1;32m    397\u001b[0m         \u001b[38;5;28;01mraise\u001b[39;00m \u001b[38;5;167;01mValueError\u001b[39;00m(\u001b[38;5;124mf\u001b[39m\u001b[38;5;124m\"\u001b[39m\u001b[38;5;124mCan\u001b[39m\u001b[38;5;124m'\u001b[39m\u001b[38;5;124mt make Zi out of \u001b[39m\u001b[38;5;132;01m{\u001b[39;00marr\u001b[38;5;132;01m}\u001b[39;00m\u001b[38;5;124m\"\u001b[39m)\n\u001b[1;32m    398\u001b[0m \u001b[38;5;28;01melif\u001b[39;00m utils\u001b[38;5;241m.\u001b[39mis_power_of_two(n):\n\u001b[0;32m--> 399\u001b[0m     \u001b[38;5;28;01mreturn\u001b[39;00m Zi(Zi\u001b[38;5;241m.\u001b[39mfrom_array(flat_arr[:\u001b[38;5;241m2\u001b[39m]), Zi\u001b[38;5;241m.\u001b[39mfrom_array(flat_arr[\u001b[38;5;241m2\u001b[39m:]))\n\u001b[1;32m    400\u001b[0m \u001b[38;5;28;01melse\u001b[39;00m:\n\u001b[1;32m    401\u001b[0m     \u001b[38;5;28;01mraise\u001b[39;00m \u001b[38;5;167;01mValueError\u001b[39;00m(\u001b[38;5;124mf\u001b[39m\u001b[38;5;124m\"\u001b[39m\u001b[38;5;124mCan\u001b[39m\u001b[38;5;124m'\u001b[39m\u001b[38;5;124mt make Zi out of \u001b[39m\u001b[38;5;132;01m{\u001b[39;00marr\u001b[38;5;132;01m}\u001b[39;00m\u001b[38;5;124m\"\u001b[39m)\n",
      "File \u001b[0;32m~/Documents/Python/github/myrepos/gaussian_integers/src/cayley_dickson_integers.py:401\u001b[0m, in \u001b[0;36mZi.from_array\u001b[0;34m(arr)\u001b[0m\n\u001b[1;32m    399\u001b[0m     \u001b[38;5;28;01mreturn\u001b[39;00m Zi(Zi\u001b[38;5;241m.\u001b[39mfrom_array(flat_arr[:\u001b[38;5;241m2\u001b[39m]), Zi\u001b[38;5;241m.\u001b[39mfrom_array(flat_arr[\u001b[38;5;241m2\u001b[39m:]))\n\u001b[1;32m    400\u001b[0m \u001b[38;5;28;01melse\u001b[39;00m:\n\u001b[0;32m--> 401\u001b[0m     \u001b[38;5;28;01mraise\u001b[39;00m \u001b[38;5;167;01mValueError\u001b[39;00m(\u001b[38;5;124mf\u001b[39m\u001b[38;5;124m\"\u001b[39m\u001b[38;5;124mCan\u001b[39m\u001b[38;5;124m'\u001b[39m\u001b[38;5;124mt make Zi out of \u001b[39m\u001b[38;5;132;01m{\u001b[39;00marr\u001b[38;5;132;01m}\u001b[39;00m\u001b[38;5;124m\"\u001b[39m)\n",
      "\u001b[0;31mValueError\u001b[0m: Can't make Zi out of [-10, -2, -3, -3, -6, -7]"
     ]
    }
   ],
   "source": [
    "Zi.from_array(o0arr)"
   ]
  },
  {
   "cell_type": "code",
   "execution_count": 12,
   "id": "453cabeb",
   "metadata": {},
   "outputs": [],
   "source": [
    "def from_array(arr):\n",
    "    flat_arr = list(utils.flatten(arr))\n",
    "    n = len(flat_arr)\n",
    "    if n == 1:\n",
    "        return Zi(flat_arr[0])\n",
    "    elif n == 2:\n",
    "        a, b = flat_arr\n",
    "        if isinstance(a, (float, int)) and isinstance(b, (float, int)):\n",
    "            return Zi(a, b)\n",
    "        else:\n",
    "            raise ValueError(f\"Can't make Zi out of {arr}\")\n",
    "    elif utils.is_power_of_two(n):\n",
    "        return Zi(Zi.from_array(flat_arr[:2]), Zi.from_array(flat_arr[2:]))\n",
    "    else:\n",
    "        raise ValueError(f\"Can't make Zi out of {arr}\")"
   ]
  },
  {
   "cell_type": "code",
   "execution_count": 14,
   "id": "97aefb6b",
   "metadata": {},
   "outputs": [
    {
     "data": {
      "text/plain": [
       "Zi(Zi(1, 2), Zi(3, 4))"
      ]
     },
     "execution_count": 14,
     "metadata": {},
     "output_type": "execute_result"
    }
   ],
   "source": [
    "from_array([[1, 2], [3, 4]])"
   ]
  },
  {
   "cell_type": "code",
   "execution_count": 16,
   "id": "ad925148",
   "metadata": {},
   "outputs": [
    {
     "ename": "ValueError",
     "evalue": "Can't make Zi out of [3, 4, 5, 6, 7, 8]",
     "output_type": "error",
     "traceback": [
      "\u001b[0;31m---------------------------------------------------------------------------\u001b[0m",
      "\u001b[0;31mValueError\u001b[0m                                Traceback (most recent call last)",
      "Cell \u001b[0;32mIn[16], line 1\u001b[0m\n\u001b[0;32m----> 1\u001b[0m from_array([\u001b[38;5;241m1\u001b[39m, \u001b[38;5;241m2\u001b[39m, \u001b[38;5;241m3\u001b[39m, \u001b[38;5;241m4\u001b[39m, \u001b[38;5;241m5\u001b[39m, \u001b[38;5;241m6\u001b[39m, \u001b[38;5;241m7\u001b[39m, \u001b[38;5;241m8\u001b[39m])\n",
      "Cell \u001b[0;32mIn[12], line 13\u001b[0m, in \u001b[0;36mfrom_array\u001b[0;34m(arr)\u001b[0m\n\u001b[1;32m     11\u001b[0m         \u001b[38;5;28;01mraise\u001b[39;00m \u001b[38;5;167;01mValueError\u001b[39;00m(\u001b[38;5;124mf\u001b[39m\u001b[38;5;124m\"\u001b[39m\u001b[38;5;124mCan\u001b[39m\u001b[38;5;124m'\u001b[39m\u001b[38;5;124mt make Zi out of \u001b[39m\u001b[38;5;132;01m{\u001b[39;00marr\u001b[38;5;132;01m}\u001b[39;00m\u001b[38;5;124m\"\u001b[39m)\n\u001b[1;32m     12\u001b[0m \u001b[38;5;28;01melif\u001b[39;00m utils\u001b[38;5;241m.\u001b[39mis_power_of_two(n):\n\u001b[0;32m---> 13\u001b[0m     \u001b[38;5;28;01mreturn\u001b[39;00m Zi(Zi\u001b[38;5;241m.\u001b[39mfrom_array(flat_arr[:\u001b[38;5;241m2\u001b[39m]), Zi\u001b[38;5;241m.\u001b[39mfrom_array(flat_arr[\u001b[38;5;241m2\u001b[39m:]))\n\u001b[1;32m     14\u001b[0m \u001b[38;5;28;01melse\u001b[39;00m:\n\u001b[1;32m     15\u001b[0m     \u001b[38;5;28;01mraise\u001b[39;00m \u001b[38;5;167;01mValueError\u001b[39;00m(\u001b[38;5;124mf\u001b[39m\u001b[38;5;124m\"\u001b[39m\u001b[38;5;124mCan\u001b[39m\u001b[38;5;124m'\u001b[39m\u001b[38;5;124mt make Zi out of \u001b[39m\u001b[38;5;132;01m{\u001b[39;00marr\u001b[38;5;132;01m}\u001b[39;00m\u001b[38;5;124m\"\u001b[39m)\n",
      "File \u001b[0;32m~/Documents/Python/github/myrepos/gaussian_integers/src/cayley_dickson_integers.py:401\u001b[0m, in \u001b[0;36mZi.from_array\u001b[0;34m(arr)\u001b[0m\n\u001b[1;32m    399\u001b[0m     \u001b[38;5;28;01mreturn\u001b[39;00m Zi(Zi\u001b[38;5;241m.\u001b[39mfrom_array(flat_arr[:\u001b[38;5;241m2\u001b[39m]), Zi\u001b[38;5;241m.\u001b[39mfrom_array(flat_arr[\u001b[38;5;241m2\u001b[39m:]))\n\u001b[1;32m    400\u001b[0m \u001b[38;5;28;01melse\u001b[39;00m:\n\u001b[0;32m--> 401\u001b[0m     \u001b[38;5;28;01mraise\u001b[39;00m \u001b[38;5;167;01mValueError\u001b[39;00m(\u001b[38;5;124mf\u001b[39m\u001b[38;5;124m\"\u001b[39m\u001b[38;5;124mCan\u001b[39m\u001b[38;5;124m'\u001b[39m\u001b[38;5;124mt make Zi out of \u001b[39m\u001b[38;5;132;01m{\u001b[39;00marr\u001b[38;5;132;01m}\u001b[39;00m\u001b[38;5;124m\"\u001b[39m)\n",
      "\u001b[0;31mValueError\u001b[0m: Can't make Zi out of [3, 4, 5, 6, 7, 8]"
     ]
    }
   ],
   "source": [
    "from_array([1, 2, 3, 4, 5, 6, 7, 8])"
   ]
  },
  {
   "cell_type": "code",
   "execution_count": null,
   "id": "caae5365",
   "metadata": {},
   "outputs": [],
   "source": []
  }
 ],
 "metadata": {
  "kernelspec": {
   "display_name": "Python 3 (ipykernel)",
   "language": "python",
   "name": "python3"
  },
  "language_info": {
   "codemirror_mode": {
    "name": "ipython",
    "version": 3
   },
   "file_extension": ".py",
   "mimetype": "text/x-python",
   "name": "python",
   "nbconvert_exporter": "python",
   "pygments_lexer": "ipython3",
   "version": "3.11.5"
  }
 },
 "nbformat": 4,
 "nbformat_minor": 5
}
