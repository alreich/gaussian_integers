{
 "cells": [
  {
   "cell_type": "markdown",
   "id": "b42260e9",
   "metadata": {},
   "source": [
    "# Tests & Develoment of both Zi & Qi"
   ]
  },
  {
   "cell_type": "code",
   "execution_count": 1,
   "id": "8041679d",
   "metadata": {},
   "outputs": [],
   "source": [
    "from cayley_dickson_base import CayleyDicksonBase\n",
    "from cayley_dickson_integers import Zi\n",
    "from cayley_dickson_rationals import Qi\n",
    "import generic_utils as utils"
   ]
  },
  {
   "cell_type": "code",
   "execution_count": null,
   "id": "2faa556d",
   "metadata": {},
   "outputs": [],
   "source": [
    "        self.assertEqual(Zi.parse_quaternion_string('1+2i'), [1, 2])\n",
    "        self.assertEqual(Zi.parse_quaternion_string('1+2i-3j-4k'), [1, 2, -3, -4])\n",
    "        self.assertEqual(Zi.parse_quaternion_string('1+2i-3j-4k-5L+6Li-7Lj+8Lk'), [1, 2, -3, -4, -5, 6, -7, 8])\n",
    "        self.assertEqual(Zi.parse_quaternion_string('1-3k'), [1, 0, 0, -3])\n",
    "        self.assertEqual(Zi.parse_quaternion_string('2i-4k'), [0, 2, 0, -4])\n",
    "        self.assertEqual(Zi.parse_quaternion_string('2j-8Lk'), [0, 0, 2, 0, 0, 0, 0, -8])\n",
    "        self.assertEqual(Zi.parse_quaternion_string('i+j-k'), [0, 1, 1, -1])\n",
    "        self.assertEqual(Zi.parse_quaternion_string('j+L'), [0, 0, 1, 0, 1, 0, 0, 0])\n",
    "        self.assertEqual(Zi.parse_quaternion_string('2i-1+3k-4j'), [-1, 2, -4, 3])\n",
    "        self.assertEqual(Zi.parse_quaternion_string('L-k'), [0, 0, 0, -1, 1, 0, 0, 0])\n",
    "        self.assertEqual(Zi.parse_quaternion_string('7-2.4e-3i+3.75j-4.0k'), [0, 7-2.4e-3, 3.75, -4.0])"
   ]
  },
  {
   "cell_type": "code",
   "execution_count": 37,
   "id": "6ced316f",
   "metadata": {},
   "outputs": [
    {
     "data": {
      "text/plain": [
       "<re.Match object; span=(0, 2), match='+k'>"
      ]
     },
     "execution_count": 37,
     "metadata": {},
     "output_type": "execute_result"
    }
   ],
   "source": [
    "term = '+k'\n",
    "pat = r'^[-+]([lL]|[lL][ijk]|[ijk])$'\n",
    "re.match(pat, term)\n",
    "term[:1] + '1' + term[1:]"
   ]
  },
  {
   "cell_type": "code",
   "execution_count": 38,
   "id": "9883c858-944b-47ec-b04d-c5415fdef47b",
   "metadata": {},
   "outputs": [
    {
     "data": {
      "text/plain": [
       "'+1k'"
      ]
     },
     "execution_count": 38,
     "metadata": {},
     "output_type": "execute_result"
    }
   ],
   "source": [
    "term[:1] + '1' + term[1:]"
   ]
  },
  {
   "cell_type": "code",
   "execution_count": null,
   "id": "4df8fc22-cbfa-4c16-94ce-d7a8b3383ed3",
   "metadata": {},
   "outputs": [],
   "source": []
  }
 ],
 "metadata": {
  "kernelspec": {
   "display_name": "Python [conda env:base] *",
   "language": "python",
   "name": "conda-base-py"
  },
  "language_info": {
   "codemirror_mode": {
    "name": "ipython",
    "version": 3
   },
   "file_extension": ".py",
   "mimetype": "text/x-python",
   "name": "python",
   "nbconvert_exporter": "python",
   "pygments_lexer": "ipython3",
   "version": "3.13.5"
  }
 },
 "nbformat": 4,
 "nbformat_minor": 5
}
