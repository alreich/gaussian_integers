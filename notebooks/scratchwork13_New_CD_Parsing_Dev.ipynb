{
 "cells": [
  {
   "cell_type": "markdown",
   "id": "b42260e9",
   "metadata": {},
   "source": [
    "# New Parsing Dev"
   ]
  },
  {
   "cell_type": "code",
   "execution_count": 2,
   "id": "8041679d",
   "metadata": {},
   "outputs": [],
   "source": [
    "from cayley_dickson_base import CayleyDicksonBase\n",
    "from cayley_dickson_integers import Zi\n",
    "from cayley_dickson_rationals import Qi\n",
    "import generic_utils as utils\n",
    "\n",
    "import re"
   ]
  },
  {
   "cell_type": "markdown",
   "id": "5e9ad1e2-a49a-4b08-b632-34b4fb74d2dd",
   "metadata": {},
   "source": [
    "## Test Quaternion String Parsing"
   ]
  },
  {
   "cell_type": "code",
   "execution_count": 3,
   "id": "69b7569e-5ab4-47c3-9d49-ef5c45b315e0",
   "metadata": {},
   "outputs": [],
   "source": [
    "from unittest import TestCase, TextTestRunner, defaultTestLoader\n",
    "from cayley_dickson_integers import Zi\n",
    "from random import seed\n",
    "\n",
    "class TestZi(TestCase):\n",
    "\n",
    "    def setUp(self) -> None:\n",
    "        pass\n",
    "\n",
    "    def test_parse_quaternion_string(self):\n",
    "        self.assertEqual(Zi.parse_quaternion_string('1+2i+3j+4k'), [1, 2, 3, 4])\n",
    "        self.assertEqual(Zi.parse_quaternion_string('-1+3i-3j+7k'), [-1, 3, -3, 7])\n",
    "        self.assertEqual(Zi.parse_quaternion_string('-1-4i-9j-2k'), [-1, -4, -9, -2])\n",
    "        self.assertEqual(Zi.parse_quaternion_string('17-16i-15j-14k'), [17, -16, -15, -14])\n",
    "        self.assertEqual(Zi.parse_quaternion_string('7+2i'), [7, 2])\n",
    "        self.assertEqual(Zi.parse_quaternion_string('7+2j'), [7, 0, 2, 0])\n",
    "        self.assertEqual(Zi.parse_quaternion_string('2i-6k'), [0, 2, 0, -6])\n",
    "        self.assertEqual(Zi.parse_quaternion_string('1-5j+2k'), [1, 0, -5, 2])\n",
    "        self.assertEqual(Zi.parse_quaternion_string('1-5j'), [1, 0, -5, 0])\n",
    "        self.assertEqual(Zi.parse_quaternion_string('3+4i-9k'), [3, 4, 0, -9])\n",
    "        self.assertEqual(Zi.parse_quaternion_string('42i+j-k'), [0, 42, 1, -1])\n",
    "        self.assertEqual(Zi.parse_quaternion_string('6-2i+j-3k'), [6, -2, 1, -3])\n",
    "        self.assertEqual(Zi.parse_quaternion_string('1+i+j+k'), [1, 1, 1, 1])\n",
    "        self.assertEqual(Zi.parse_quaternion_string('-1-i-j-k'), [-1, -1, -1, -1])\n",
    "        self.assertEqual(Zi.parse_quaternion_string('16k-20j+2i-7'), [-7, 2, -20, 16])\n",
    "        self.assertEqual(Zi.parse_quaternion_string('i+4k-3j+2'), [2, 1, -3, 4])\n",
    "        self.assertEqual(Zi.parse_quaternion_string('5k-2i+9+3j'), [9, -2, 3, 5])\n",
    "        self.assertEqual(Zi.parse_quaternion_string('5k-2j+3'), [3, 0, -2, 5])\n",
    "        self.assertEqual(Zi.parse_quaternion_string('1.75-1.75i-1.75j-1.75k'), [1.75, -1.75, -1.75, -1.75])\n",
    "        self.assertEqual(Zi.parse_quaternion_string('2.0j-3k+0.47i-13'), [-13, 0.47, 2.0, -3])\n",
    "        self.assertEqual(Zi.parse_quaternion_string('(5.6-3i)'), [5.6, -3])\n",
    "        self.assertEqual(Zi.parse_quaternion_string('k-7.6i'), [0, -7.6, 0, 1])\n",
    "        self.assertEqual(Zi.parse_quaternion_string('0'), [0, 0])\n",
    "        self.assertEqual(Zi.parse_quaternion_string('0j+0k'), [0, 0])\n",
    "        self.assertEqual(Zi.parse_quaternion_string('-0j'), [0, 0])\n",
    "        self.assertEqual(Zi.parse_quaternion_string('1-0k'), [1, 0])\n",
    "        self.assertEqual(Zi.parse_quaternion_string('1+2i+3j+4K'), [1, 2, 3, 4])\n",
    "        self.assertEqual(Zi.parse_quaternion_string('7.1E-2 +4.3k+i'), [0.071, 1, 0, 4.3])\n",
    "        self.assertEqual(Zi.parse_quaternion_string('3 - 2E-3i-4j'), [3, -0.002, -4, 0])"
   ]
  },
  {
   "cell_type": "code",
   "execution_count": 4,
   "id": "d0da2d5c-ec9a-44f1-8e77-a2f5e30ce712",
   "metadata": {},
   "outputs": [
    {
     "name": "stderr",
     "output_type": "stream",
     "text": [
      "test_parse_quaternion_string (__main__.TestZi.test_parse_quaternion_string) ... ok\n",
      "\n",
      "----------------------------------------------------------------------\n",
      "Ran 1 test in 0.003s\n",
      "\n",
      "OK\n"
     ]
    },
    {
     "data": {
      "text/plain": [
       "<unittest.runner.TextTestResult run=1 errors=0 failures=0>"
      ]
     },
     "execution_count": 4,
     "metadata": {},
     "output_type": "execute_result"
    }
   ],
   "source": [
    "TextTestRunner(verbosity=2).run(defaultTestLoader.loadTestsFromTestCase(TestZi))"
   ]
  },
  {
   "cell_type": "markdown",
   "id": "72a670fb-a6ab-4fa5-a34a-74c58c2c03a3",
   "metadata": {},
   "source": [
    "## Parsing Experiments"
   ]
  },
  {
   "cell_type": "code",
   "execution_count": 20,
   "id": "e446e6b6-2b05-4de9-bcd1-13278a04cfd7",
   "metadata": {},
   "outputs": [
    {
     "name": "stdout",
     "output_type": "stream",
     "text": [
      "1 4 +2i\n",
      "4 7 +3j\n",
      "7 10 +4k\n",
      "\n",
      "0 2 1+\n",
      "2 3 2\n",
      "4 6 +3\n",
      "7 9 +4\n",
      "-----\n",
      "0 2 4k\n",
      "2 5 -3j\n",
      "5 8 -2i\n",
      "\n",
      "0 1 4\n",
      "2 4 -3\n",
      "5 7 -2\n",
      "8 10 +1\n",
      "-----\n"
     ]
    }
   ],
   "source": [
    "qstrings = ['1+2i+3j+4k',\n",
    "            '4k-3j-2i+1']\n",
    "\n",
    "pat1 = r'[-+]?((\\d+(\\.\\d*)?|\\.\\d+)([eE][-+]?\\d+)?)?[ijk]'\n",
    "pat2 = r'[-+]?((\\d+(\\.\\d*)?|\\.\\d+)([eE][-+]?\\d+)?)?[^ijk]'\n",
    "\n",
    "indices = []\n",
    "\n",
    "for qstr in qstrings:\n",
    "    for match in re.finditer(pat1, qstr):\n",
    "        indices.append(match.start())\n",
    "        print(match.start(), match.end(), match.group(0))\n",
    "    print()\n",
    "    for match in re.finditer(pat2, qstr):\n",
    "        indices.append(match.start())\n",
    "        print(match.start(), match.end(), match.group(0))\n",
    "    print('-----')"
   ]
  },
  {
   "cell_type": "code",
   "execution_count": null,
   "id": "02104ab1-bf50-4199-97e2-4928a00b7f53",
   "metadata": {},
   "outputs": [],
   "source": []
  },
  {
   "cell_type": "code",
   "execution_count": null,
   "id": "85832575-fe10-4797-81fa-0471adf469c3",
   "metadata": {},
   "outputs": [],
   "source": []
  },
  {
   "cell_type": "code",
   "execution_count": null,
   "id": "80767490-1619-446d-ab1b-fa4f04b08e01",
   "metadata": {},
   "outputs": [],
   "source": []
  },
  {
   "cell_type": "raw",
   "id": "008ff31d-90ca-4b23-9c16-f49bc85c2cfc",
   "metadata": {},
   "source": [
    "        self.assertEqual(Zi.parse_quaternion_string('1+2i+3j+4k+5L+6Li+7Lj+8Lk'), [1, 2, 3, 4, 5, 6, 7, 8])\n",
    "        self.assertEqual(Zi.parse_quaternion_string('(2i+3j+4k-1.07+6Li+7Lj+8Lk)'), [-1.07, 2, 3, 4, 0, 6, 7, 8])\n",
    "        self.assertEqual(Zi.parse_quaternion_string('  -1 +3j + 4k+5L +8Lk - 7Lj   '), [-1, 0, 3, 4, 5, 0, -7, 8])\n",
    "        self.assertEqual(Zi.parse_quaternion_string('-5L+8Lk'), [0, 0, 0, 0, -5, 0, 0, 8])\n",
    "        self.assertEqual(Zi.parse_quaternion_string('8.743e-37Lk'), [0, 0, 0, 0, 0, 0, 0, 8.743e-37])        self.assertEqual(Zi.parse_quaternion_string('1+2i'), [1, 2])\n",
    "        self.assertEqual(Zi.parse_quaternion_string('1+2i-3j-4k'), [1, 2, -3, -4])\n",
    "        self.assertEqual(Zi.parse_quaternion_string('1+2i-3j-4k-5L+6Li-7Lj+8Lk'), [1, 2, -3, -4, -5, 6, -7, 8])\n",
    "        self.assertEqual(Zi.parse_quaternion_string('1-3k'), [1, 0, 0, -3])\n",
    "        self.assertEqual(Zi.parse_quaternion_string('2i-4k'), [0, 2, 0, -4])\n",
    "        self.assertEqual(Zi.parse_quaternion_string('2j-8Lk'), [0, 0, 2, 0, 0, 0, 0, -8])\n",
    "        self.assertEqual(Zi.parse_quaternion_string('i+j-k'), [0, 1, 1, -1])\n",
    "        self.assertEqual(Zi.parse_quaternion_string('j+L'), [0, 0, 1, 0, 1, 0, 0, 0])\n",
    "        self.assertEqual(Zi.parse_quaternion_string('2i-1+3k-4j'), [-1, 2, -4, 3])\n",
    "        self.assertEqual(Zi.parse_quaternion_string('L-k'), [0, 0, 0, -1, 1, 0, 0, 0])\n",
    "        self.assertEqual(Zi.parse_quaternion_string('7-2.4e-3i+3.75j-4.0k'), [0, 7-2.4e-3, 3.75, -4.0])"
   ]
  },
  {
   "cell_type": "code",
   "execution_count": null,
   "id": "b81decc2",
   "metadata": {},
   "outputs": [],
   "source": [
    "text = '1+i+j+k'\n",
    "pattern = r'[-+][lL]|[lL][ijk]|[ijk]'\n",
    "char_to_splice = \"1\"\n",
    "splice_position = 0 # Splice after '+' or '-'\n",
    "\n",
    "match = re.search(pattern, text)\n",
    "\n",
    "if match:\n",
    "    start_index = match.start()\n",
    "    end_index = match.end()\n",
    "    matched_string = match.group(0)\n",
    "\n",
    "    # Splice the character within the matched string\n",
    "    modified_matched_string = (\n",
    "        matched_string[:splice_position] +\n",
    "        char_to_splice +\n",
    "        matched_string[splice_position:]\n",
    "    )\n",
    "\n",
    "    # Reconstruct the full string\n",
    "    new_text = (\n",
    "        text[:start_index] +\n",
    "        modified_matched_string +\n",
    "        text[end_index:]\n",
    "    )\n",
    "    print(f\"Original string: {text}\")\n",
    "    print(f\"Modified string: {new_text}\")\n",
    "else:\n",
    "    print(\"Pattern not found.\")"
   ]
  },
  {
   "cell_type": "code",
   "execution_count": null,
   "id": "3bed5d1d",
   "metadata": {},
   "outputs": [],
   "source": []
  },
  {
   "cell_type": "code",
   "execution_count": null,
   "id": "3a257903",
   "metadata": {},
   "outputs": [],
   "source": [
    "qstr = '1+i+j+k'\n",
    "pat = r'[-+][lL]|[lL][ijk]|[ijk]'\n",
    "# char_to_splice = \"1\"\n",
    "# splice_position = 0 # Splice after '+' or '-'"
   ]
  },
  {
   "cell_type": "code",
   "execution_count": null,
   "id": "68c8696f",
   "metadata": {},
   "outputs": [],
   "source": [
    "def add_implied_coefficients(text):\n",
    "\n",
    "    pattern = r'[-+][lL]|[lL][ijk]|[ijk]'\n",
    "    char_to_splice = \"1\"\n",
    "    splice_position = 0 # Splice after '+' or '-'\n",
    "\n",
    "    match = re.search(pattern, text)\n",
    "\n",
    "    if match:\n",
    "        start_index = match.start()\n",
    "        end_index = match.end()\n",
    "        matched_string = match.group(0)\n",
    "\n",
    "        # Splice the character within the matched string\n",
    "        modified_matched_string = (\n",
    "            matched_string[:splice_position] +\n",
    "            char_to_splice +\n",
    "            matched_string[splice_position:]\n",
    "        )\n",
    "\n",
    "        # Reconstruct the full string\n",
    "        new_text = (\n",
    "            text[:start_index] +\n",
    "            modified_matched_string +\n",
    "            text[end_index:]\n",
    "        )\n",
    "\n",
    "        return new_text, True\n",
    "    else:\n",
    "        return text, False"
   ]
  },
  {
   "cell_type": "code",
   "execution_count": null,
   "id": "30280551",
   "metadata": {},
   "outputs": [],
   "source": [
    "qstr = '1+i+j+k'\n",
    "foo = add_implied_coefficients(qstr)\n",
    "foo"
   ]
  },
  {
   "cell_type": "code",
   "execution_count": null,
   "id": "ae53e16f",
   "metadata": {},
   "outputs": [],
   "source": [
    "add_implied_coefficients(foo[0])"
   ]
  },
  {
   "cell_type": "code",
   "execution_count": null,
   "id": "3eca59d6",
   "metadata": {},
   "outputs": [],
   "source": [
    "mat = re.search(pat, qstr)\n",
    "mat"
   ]
  },
  {
   "cell_type": "code",
   "execution_count": null,
   "id": "9f7d5936",
   "metadata": {},
   "outputs": [],
   "source": [
    "mat.start()"
   ]
  },
  {
   "cell_type": "code",
   "execution_count": null,
   "id": "3403e58c",
   "metadata": {},
   "outputs": [],
   "source": [
    "mat.end()"
   ]
  },
  {
   "cell_type": "code",
   "execution_count": null,
   "id": "9deadd6a",
   "metadata": {},
   "outputs": [],
   "source": [
    "qstr[mat.start()]"
   ]
  },
  {
   "cell_type": "code",
   "execution_count": null,
   "id": "c92c7bc0",
   "metadata": {},
   "outputs": [],
   "source": [
    "qstr[mat.end()]"
   ]
  },
  {
   "cell_type": "code",
   "execution_count": null,
   "id": "98c5356c",
   "metadata": {},
   "outputs": [],
   "source": []
  },
  {
   "cell_type": "code",
   "execution_count": null,
   "id": "f450cc2d",
   "metadata": {},
   "outputs": [],
   "source": [
    "qstr1 = '1+i+j+k+L+Li+Lj+Lk'\n",
    "qstr2 = '1+i+j+k+l+li+lj+lk'"
   ]
  },
  {
   "cell_type": "code",
   "execution_count": null,
   "id": "d8cec7cf",
   "metadata": {},
   "outputs": [],
   "source": [
    "pat = r'[-+][ijklL]|[lL]i|[lL]j|[lL]k'"
   ]
  },
  {
   "cell_type": "code",
   "execution_count": null,
   "id": "5413d005",
   "metadata": {},
   "outputs": [],
   "source": [
    "qstr = qstr2\n",
    "\n",
    "indices = []\n",
    "for mat in re.finditer(pat, qstr):\n",
    "    indices.append(mat.start())\n",
    "    print(mat.start(), mat.end(), mat.group())\n",
    "indices"
   ]
  },
  {
   "cell_type": "code",
   "execution_count": null,
   "id": "dc3e524d",
   "metadata": {},
   "outputs": [],
   "source": [
    "for idx in reversed(indices):\n",
    "    qstr = qstr[:idx+1] + '1' + qstr[idx+1:]"
   ]
  },
  {
   "cell_type": "code",
   "execution_count": null,
   "id": "1e7cfeff",
   "metadata": {},
   "outputs": [],
   "source": [
    "qstr"
   ]
  },
  {
   "cell_type": "code",
   "execution_count": null,
   "id": "a4acd487",
   "metadata": {},
   "outputs": [],
   "source": [
    "def add_implied_coefficients(st):\n",
    "    pat = r'[-+][ijklL]|[lL]i|[lL]j|[lL]k'\n",
    "    indices = []\n",
    "    # Find locations of implied coefficients\n",
    "    for match in re.finditer(pat, st):\n",
    "        indices.append(match.start())\n",
    "    # Splice in the implied coefficients\n",
    "    for idx in reversed(indices):\n",
    "        st = st[:idx+1] + '1' + st[idx+1:]\n",
    "    return st"
   ]
  },
  {
   "cell_type": "code",
   "execution_count": null,
   "id": "16113b61",
   "metadata": {},
   "outputs": [],
   "source": [
    "add_implied_coefficients(qstr1)"
   ]
  },
  {
   "cell_type": "code",
   "execution_count": null,
   "id": "bd27b67f",
   "metadata": {},
   "outputs": [],
   "source": [
    "add_implied_coefficients(qstr2)"
   ]
  },
  {
   "cell_type": "code",
   "execution_count": null,
   "id": "f4d287fb",
   "metadata": {},
   "outputs": [],
   "source": [
    "qstr3 = '1+2i-j-1k+L-Li-4Lj+Lk'"
   ]
  },
  {
   "cell_type": "code",
   "execution_count": null,
   "id": "292d3b08",
   "metadata": {},
   "outputs": [],
   "source": [
    "print(qstr3)\n",
    "print(add_implied_coefficients(qstr3))"
   ]
  },
  {
   "cell_type": "code",
   "execution_count": null,
   "id": "eb983c05",
   "metadata": {},
   "outputs": [],
   "source": [
    "qstr4 = str(Zi.random_octonion())\n",
    "qstr4"
   ]
  },
  {
   "cell_type": "code",
   "execution_count": null,
   "id": "3a6f2b39",
   "metadata": {},
   "outputs": [],
   "source": [
    "add_implied_coefficients(qstr4)"
   ]
  },
  {
   "cell_type": "code",
   "execution_count": null,
   "id": "ecdf199c",
   "metadata": {},
   "outputs": [],
   "source": []
  }
 ],
 "metadata": {
  "kernelspec": {
   "display_name": "Python [conda env:base] *",
   "language": "python",
   "name": "conda-base-py"
  },
  "language_info": {
   "codemirror_mode": {
    "name": "ipython",
    "version": 3
   },
   "file_extension": ".py",
   "mimetype": "text/x-python",
   "name": "python",
   "nbconvert_exporter": "python",
   "pygments_lexer": "ipython3",
   "version": "3.13.5"
  }
 },
 "nbformat": 4,
 "nbformat_minor": 5
}
