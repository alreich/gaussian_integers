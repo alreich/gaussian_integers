{
 "cells": [
  {
   "cell_type": "markdown",
   "id": "b42260e9",
   "metadata": {},
   "source": [
    "# New Parsing Dev"
   ]
  },
  {
   "cell_type": "code",
   "execution_count": 1,
   "id": "8041679d",
   "metadata": {},
   "outputs": [],
   "source": [
    "from cayley_dickson_base import CayleyDicksonBase\n",
    "from cayley_dickson_integers import Zi\n",
    "from cayley_dickson_rationals import Qi\n",
    "import generic_utils as utils\n",
    "\n",
    "import re"
   ]
  },
  {
   "cell_type": "markdown",
   "id": "5e9ad1e2-a49a-4b08-b632-34b4fb74d2dd",
   "metadata": {},
   "source": [
    "## Test Quaternion String Parsing"
   ]
  },
  {
   "cell_type": "code",
   "execution_count": 2,
   "id": "69b7569e-5ab4-47c3-9d49-ef5c45b315e0",
   "metadata": {},
   "outputs": [],
   "source": [
    "from unittest import TestCase, TextTestRunner, defaultTestLoader\n",
    "from cayley_dickson_integers import Zi\n",
    "from random import seed\n",
    "\n",
    "class TestZi(TestCase):\n",
    "\n",
    "    def setUp(self) -> None:\n",
    "        pass\n",
    "\n",
    "    def test_parse_quaternion_string(self):\n",
    "        self.assertEqual(Zi.parse_quaternion_string('1+2i+3j+4k'), [1, 2, 3, 4])\n",
    "        self.assertEqual(Zi.parse_quaternion_string('-1+3i-3j+7k'), [-1, 3, -3, 7])\n",
    "        self.assertEqual(Zi.parse_quaternion_string('-1-4i-9j-2k'), [-1, -4, -9, -2])\n",
    "        self.assertEqual(Zi.parse_quaternion_string('17-16i-15j-14k'), [17, -16, -15, -14])\n",
    "        self.assertEqual(Zi.parse_quaternion_string('7+2i'), [7, 2])\n",
    "        self.assertEqual(Zi.parse_quaternion_string('7+2j'), [7, 0, 2, 0])\n",
    "        self.assertEqual(Zi.parse_quaternion_string('2i-6k'), [0, 2, 0, -6])\n",
    "        self.assertEqual(Zi.parse_quaternion_string('1-5j+2k'), [1, 0, -5, 2])\n",
    "        self.assertEqual(Zi.parse_quaternion_string('1-5j'), [1, 0, -5, 0])\n",
    "        self.assertEqual(Zi.parse_quaternion_string('3+4i-9k'), [3, 4, 0, -9])\n",
    "        self.assertEqual(Zi.parse_quaternion_string('42i+j-k'), [0, 42, 1, -1])\n",
    "        self.assertEqual(Zi.parse_quaternion_string('6-2i+j-3k'), [6, -2, 1, -3])\n",
    "        self.assertEqual(Zi.parse_quaternion_string('1+i+j+k'), [1, 1, 1, 1])\n",
    "        self.assertEqual(Zi.parse_quaternion_string('-1-i-j-k'), [-1, -1, -1, -1])\n",
    "        self.assertEqual(Zi.parse_quaternion_string('16k-20j+2i-7'), [-7, 2, -20, 16])\n",
    "        self.assertEqual(Zi.parse_quaternion_string('i+4k-3j+2'), [2, 1, -3, 4])\n",
    "        self.assertEqual(Zi.parse_quaternion_string('5k-2i+9+3j'), [9, -2, 3, 5])\n",
    "        self.assertEqual(Zi.parse_quaternion_string('5k-2j+3'), [3, 0, -2, 5])\n",
    "        self.assertEqual(Zi.parse_quaternion_string('1.75-1.75i-1.75j-1.75k'), [1.75, -1.75, -1.75, -1.75])\n",
    "        self.assertEqual(Zi.parse_quaternion_string('2.0j-3k+0.47i-13'), [-13, 0.47, 2.0, -3])\n",
    "        self.assertEqual(Zi.parse_quaternion_string('(5.6-3i)'), [5.6, -3])\n",
    "        self.assertEqual(Zi.parse_quaternion_string('k-7.6i'), [0, -7.6, 0, 1])\n",
    "        self.assertEqual(Zi.parse_quaternion_string('0'), [0, 0])\n",
    "        self.assertEqual(Zi.parse_quaternion_string('0j+0k'), [0, 0])\n",
    "        self.assertEqual(Zi.parse_quaternion_string('-0j'), [0, 0])\n",
    "        self.assertEqual(Zi.parse_quaternion_string('1-0k'), [1, 0])\n",
    "        self.assertEqual(Zi.parse_quaternion_string('1+2i+3j+4K'), [1, 2, 3, 4])\n",
    "        self.assertEqual(Zi.parse_quaternion_string('7.1E-2 +4.3k+i'), [0.071, 1, 0, 4.3])\n",
    "        self.assertEqual(Zi.parse_quaternion_string('3 - 2E-3i-4j'), [3, -0.002, -4, 0])"
   ]
  },
  {
   "cell_type": "code",
   "execution_count": 3,
   "id": "d0da2d5c-ec9a-44f1-8e77-a2f5e30ce712",
   "metadata": {},
   "outputs": [
    {
     "name": "stderr",
     "output_type": "stream",
     "text": [
      "test_parse_quaternion_string (__main__.TestZi.test_parse_quaternion_string) ... ok\n",
      "\n",
      "----------------------------------------------------------------------\n",
      "Ran 1 test in 0.002s\n",
      "\n",
      "OK\n"
     ]
    },
    {
     "data": {
      "text/plain": [
       "<unittest.runner.TextTestResult run=1 errors=0 failures=0>"
      ]
     },
     "execution_count": 3,
     "metadata": {},
     "output_type": "execute_result"
    }
   ],
   "source": [
    "TextTestRunner(verbosity=2).run(defaultTestLoader.loadTestsFromTestCase(TestZi))"
   ]
  },
  {
   "cell_type": "markdown",
   "id": "72a670fb-a6ab-4fa5-a34a-74c58c2c03a3",
   "metadata": {},
   "source": [
    "## Parsing Experiments"
   ]
  },
  {
   "cell_type": "code",
   "execution_count": 4,
   "id": "e446e6b6-2b05-4de9-bcd1-13278a04cfd7",
   "metadata": {},
   "outputs": [
    {
     "name": "stdout",
     "output_type": "stream",
     "text": [
      "1 4 +2i\n",
      "4 7 +3j\n",
      "7 10 +4k\n",
      "-----\n",
      "0 2 4k\n",
      "2 5 -3j\n",
      "5 8 -2i\n",
      "-----\n"
     ]
    }
   ],
   "source": [
    "qstrings = ['1+2i+3j+4k',\n",
    "            '4k-3j-2i+1']\n",
    "\n",
    "pat1 = r'[-+]?((\\d+(\\.\\d*)?|\\.\\d+)([eE][-+]?\\d+)?)?[ijk]'\n",
    "# pat2 = r'[-+]?((\\d+(\\.\\d*)?|\\.\\d+)([eE][-+]?\\d+)?)[^ijk]'\n",
    "\n",
    "for qstr in qstrings:\n",
    "    for match in re.finditer(pat1, qstr):\n",
    "        beg = match.start()\n",
    "        end = match.end()\n",
    "        trm = match.group(0)\n",
    "        print(beg, end, trm)\n",
    "    print('-----')"
   ]
  },
  {
   "cell_type": "code",
   "execution_count": 58,
   "id": "e377c84e-c5ab-4220-8e9e-0b56449e39ba",
   "metadata": {},
   "outputs": [],
   "source": [
    "qstrings = ['1+2i+3j+4k',\n",
    "            '4k-3j-2i+1',\n",
    "            '2i - 4 + k',\n",
    "            '2i + 4 - k',\n",
    "            'k',\n",
    "            'i+j']"
   ]
  },
  {
   "cell_type": "code",
   "execution_count": 59,
   "id": "729dcb7b-1fbf-491e-92b3-7bb6760d94ad",
   "metadata": {},
   "outputs": [
    {
     "name": "stdout",
     "output_type": "stream",
     "text": [
      "qstr = '1+2i+3j+4k'\n",
      "\n",
      "1 4 +2i\n",
      "4 7 +3j\n",
      "7 10 +4k\n",
      "terms = ['+2i', '+3j', '+4k']\n",
      "real = '1'\n",
      "\n",
      "---------\n",
      "\n",
      "qstr = '4k-3j-2i+1'\n",
      "\n",
      "0 2 4k\n",
      "2 5 -3j\n",
      "5 8 -2i\n",
      "terms = ['4k', '-3j', '-2i']\n",
      "real = '+1'\n",
      "\n",
      "---------\n",
      "\n",
      "qstr = '2i-4+k'\n",
      "\n",
      "0 2 2i\n",
      "4 6 +k\n",
      "terms = ['2i', '+k']\n",
      "real = '-4'\n",
      "\n",
      "---------\n",
      "\n",
      "qstr = '2i+4-k'\n",
      "\n",
      "0 2 2i\n",
      "4 6 -k\n",
      "terms = ['2i', '-k']\n",
      "real = '+4'\n",
      "\n",
      "---------\n",
      "\n",
      "qstr = 'k'\n",
      "\n",
      "0 1 k\n",
      "terms = ['k']\n",
      "real = '0'\n",
      "\n",
      "---------\n",
      "\n",
      "qstr = 'i+j'\n",
      "\n",
      "0 1 i\n",
      "1 3 +j\n",
      "terms = ['i', '+j']\n",
      "real = '0'\n",
      "\n",
      "---------\n",
      "\n"
     ]
    }
   ],
   "source": [
    "pat1 = r'[-+]?((\\d+(\\.\\d*)?|\\.\\d+)([eE][-+]?\\d+)?)?[ijk]'\n",
    "\n",
    "for qs in qstrings:\n",
    "    qstr = qs.strip().replace(' ', '') # Remove spaces\n",
    "    print(f\"{qstr = }\\n\")\n",
    "    terms = []\n",
    "    real = None\n",
    "    for match in re.finditer(pat1, qstr):\n",
    "        beg = match.start()\n",
    "        end = match.end()\n",
    "        trm = match.group(0)\n",
    "        print(beg, end, trm)\n",
    "        terms.append(trm)\n",
    "        # print(f\"'{qstr[:beg] + trm + qstr[end:]}'\")\n",
    "    print(f\"{terms = }\")\n",
    "    for tm in terms:\n",
    "        qstr = qstr.replace(tm, '')\n",
    "    if qstr == '':\n",
    "        real = '0'\n",
    "    else:\n",
    "        real = qstr\n",
    "    print(f\"real = {repr(real)}\")\n",
    "    print('\\n---------\\n')"
   ]
  },
  {
   "cell_type": "code",
   "execution_count": 64,
   "id": "0c8511b3-42f7-4dbe-95f8-5984ea12c4be",
   "metadata": {},
   "outputs": [
    {
     "data": {
      "text/plain": [
       "'[-+]?(((\\\\d+)[^ijk])|(\\\\d*)[ijk])'"
      ]
     },
     "execution_count": 64,
     "metadata": {},
     "output_type": "execute_result"
    }
   ],
   "source": [
    "quat_int_term_pat = r'[-+]?(((\\d+)[^ijk])|(\\d*)[ijk])'\n",
    "quat_int_term_pat"
   ]
  },
  {
   "cell_type": "code",
   "execution_count": 65,
   "id": "c47df94a-b03f-4af8-ba6b-0dede4dbc622",
   "metadata": {},
   "outputs": [
    {
     "name": "stdout",
     "output_type": "stream",
     "text": [
      "qstr = '1+2i+3j+4k'\n",
      "\n",
      "0 2 1+\n",
      "2 4 2i\n",
      "4 7 +3j\n",
      "7 10 +4k\n",
      "terms = ['1+', '2i', '+3j', '+4k']\n",
      "\n",
      "qstr = '4k-3j-2i+1'\n",
      "\n",
      "0 2 4k\n",
      "2 5 -3j\n",
      "5 8 -2i\n",
      "terms = ['4k', '-3j', '-2i']\n",
      "\n",
      "qstr = '2i-4+k'\n",
      "\n",
      "0 2 2i\n",
      "2 5 -4+\n",
      "5 6 k\n",
      "terms = ['2i', '-4+', 'k']\n",
      "\n",
      "qstr = '2i+4-k'\n",
      "\n",
      "0 2 2i\n",
      "2 5 +4-\n",
      "5 6 k\n",
      "terms = ['2i', '+4-', 'k']\n",
      "\n",
      "qstr = 'k'\n",
      "\n",
      "0 1 k\n",
      "terms = ['k']\n",
      "\n",
      "qstr = 'i+j'\n",
      "\n",
      "0 1 i\n",
      "1 3 +j\n",
      "terms = ['i', '+j']\n",
      "\n"
     ]
    }
   ],
   "source": [
    "for qs in qstrings:\n",
    "    qstr = qs.strip().replace(' ', '') # Remove spaces\n",
    "    print(f\"{qstr = }\\n\")\n",
    "    terms = []\n",
    "    real = None\n",
    "    for match in re.finditer(quat_int_term_pat, qstr):\n",
    "        beg = match.start()\n",
    "        end = match.end()\n",
    "        trm = match.group(0)\n",
    "        print(beg, end, trm)\n",
    "        terms.append(trm)\n",
    "        # print(f\"'{qstr[:beg] + trm + qstr[end:]}'\")\n",
    "    print(f\"{terms = }\\n\")"
   ]
  },
  {
   "cell_type": "code",
   "execution_count": 112,
   "id": "f56684e1-3eda-4bbb-ac3b-23b033dc2411",
   "metadata": {},
   "outputs": [
    {
     "name": "stdout",
     "output_type": "stream",
     "text": [
      "qstr = '1+2i+3j+4k'\n",
      "terms = [('1', '+2', '+3', '+4')]\n",
      "\n",
      "qstr = '4k-3j-2i+1'\n",
      "terms = [('4', '', '', '')]\n",
      "\n",
      "qstr = '2i-4+k'\n",
      "terms = [('2', '', '', '')]\n",
      "\n",
      "qstr = '2i+4-k'\n",
      "terms = [('2', '', '', '')]\n",
      "\n",
      "qstr = 'k'\n",
      "terms = []\n",
      "\n",
      "qstr = 'i+j'\n",
      "terms = []\n",
      "\n"
     ]
    }
   ],
   "source": [
    "# pat2 = r'([-+]?\\d*[ijk])|([-+]?\\d+)'\n",
    "pat2 = r\"^(?P<w>[+-]?[0-9]*\\.?[0-9]+)\\s*(?:(?P<x>[+-]?[0-9]*\\.?[0-9]+)i)?\\s*(?:(?P<y>[+-]?[0-9]*\\.?[0-9]+)j)?\\s*(?:(?P<z>[+-]?[0-9]*\\.?[0-9]+)k)?\"\n",
    "\n",
    "for qs in qstrings:\n",
    "    qstr = qs.strip().replace(' ', '') # Remove spaces\n",
    "    print(f\"{qstr = }\")\n",
    "    terms = re.findall(pat2, qstr)\n",
    "    if '' in terms:\n",
    "        terms.remove('')\n",
    "    print(f\"{terms = }\\n\")"
   ]
  },
  {
   "cell_type": "code",
   "execution_count": null,
   "id": "f0eec5bb-10c5-48ff-bed4-18cf7286a49d",
   "metadata": {},
   "outputs": [],
   "source": []
  },
  {
   "cell_type": "code",
   "execution_count": 114,
   "id": "4ff232f7-1be0-43dc-ae7a-229f7b8d4adf",
   "metadata": {},
   "outputs": [
    {
     "name": "stdout",
     "output_type": "stream",
     "text": [
      "Parsing '1.0 + 2.5i - 3j + 4.2k':\n",
      "  w: 1.0\n",
      "  x: 0.0\n",
      "  y: 0.0\n",
      "  z: 0.0\n",
      "--------------------\n",
      "Parsing '5 + 6i + 7j + 8k':\n",
      "  w: 5.0\n",
      "  x: 0.0\n",
      "  y: 0.0\n",
      "  z: 0.0\n",
      "--------------------\n",
      "Parsing '10i + 5k':\n",
      "  w: 10.0\n",
      "  x: 0.0\n",
      "  y: 0.0\n",
      "  z: 0.0\n",
      "--------------------\n",
      "Parsing '-1 -2i -3j -4k':\n",
      "  w: -1.0\n",
      "  x: -2.0\n",
      "  y: -3.0\n",
      "  z: -4.0\n",
      "--------------------\n",
      "Parsing '123.45':\n",
      "  w: 123.45\n",
      "  x: 0.0\n",
      "  y: 0.0\n",
      "  z: 0.0\n",
      "--------------------\n",
      "Parsing '1j':\n",
      "  w: 1.0\n",
      "  x: 0.0\n",
      "  y: 0.0\n",
      "  z: 0.0\n",
      "--------------------\n"
     ]
    }
   ],
   "source": [
    "import re\n",
    "\n",
    "# The regex for parsing quaternions.\n",
    "# This version simplifies handling optional terms and signs.\n",
    "QUAT_RE = re.compile(r\"^(?P<w>[+-]?[0-9]*\\.?[0-9]+)\\s*\"\n",
    "                     r\"(?:(?P<x>[+-]?[0-9]*\\.?[0-9]+)i)?\\s*\"\n",
    "                     r\"(?:(?P<y>[+-]?[0-9]*\\.?[0-9]+)j)?\\s*\"\n",
    "                     r\"(?:(?P<z>[+-]?[0-9]*\\.?[0-9]+)k)?\")\n",
    "\n",
    "def parse_quaternion(q_string):\n",
    "    \"\"\"Parses a quaternion string and returns a dictionary of its components.\"\"\"\n",
    "    match = QUAT_RE.match(q_string.strip())\n",
    "    if not match:\n",
    "        raise ValueError(f\"Invalid quaternion format: '{q_string}'\")\n",
    "\n",
    "    parts = {}\n",
    "    for name, value in match.groupdict().items():\n",
    "        # Convert captured strings to floats, handling cases where a term is omitted.\n",
    "        parts[name] = float(value) if value else 0.0\n",
    "        \n",
    "    return parts\n",
    "\n",
    "# Test cases\n",
    "test_strings = [\n",
    "    \"1.0 + 2.5i - 3j + 4.2k\",\n",
    "    \"5 + 6i + 7j + 8k\",\n",
    "    \"10i + 5k\",\n",
    "    \"-1 -2i -3j -4k\",\n",
    "    \"123.45\",\n",
    "    \"1j\"\n",
    "]\n",
    "\n",
    "for s in test_strings:\n",
    "    try:\n",
    "        components = parse_quaternion(s)\n",
    "        print(f\"Parsing '{s}':\")\n",
    "        for key, val in components.items():\n",
    "            print(f\"  {key}: {val}\")\n",
    "    except ValueError as e:\n",
    "        print(e)\n",
    "    print(\"-\" * 20)\n"
   ]
  },
  {
   "cell_type": "code",
   "execution_count": null,
   "id": "6703dc70-df47-49f3-83ba-ef3800636f7c",
   "metadata": {},
   "outputs": [],
   "source": []
  }
 ],
 "metadata": {
  "kernelspec": {
   "display_name": "Python [conda env:base] *",
   "language": "python",
   "name": "conda-base-py"
  },
  "language_info": {
   "codemirror_mode": {
    "name": "ipython",
    "version": 3
   },
   "file_extension": ".py",
   "mimetype": "text/x-python",
   "name": "python",
   "nbconvert_exporter": "python",
   "pygments_lexer": "ipython3",
   "version": "3.13.5"
  }
 },
 "nbformat": 4,
 "nbformat_minor": 5
}
