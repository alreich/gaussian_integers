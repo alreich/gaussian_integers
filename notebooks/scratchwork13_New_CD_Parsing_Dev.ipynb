{
 "cells": [
  {
   "cell_type": "markdown",
   "id": "b42260e9",
   "metadata": {},
   "source": [
    "# New Parsing Dev"
   ]
  },
  {
   "cell_type": "code",
   "execution_count": 1,
   "id": "8041679d",
   "metadata": {},
   "outputs": [],
   "source": [
    "from cayley_dickson_base import CayleyDicksonBase\n",
    "from cayley_dickson_integers import Zi\n",
    "from cayley_dickson_rationals import Qi\n",
    "import generic_utils as utils\n",
    "\n",
    "import re"
   ]
  },
  {
   "cell_type": "markdown",
   "id": "5e9ad1e2-a49a-4b08-b632-34b4fb74d2dd",
   "metadata": {},
   "source": [
    "## Test Quaternion String Parsing"
   ]
  },
  {
   "cell_type": "raw",
   "id": "79224fb9",
   "metadata": {},
   "source": [
    "def parse_hypercomplex_number_string(qs):\n",
    "\n",
    "    pat1 = r'[-+]?((\\d+(\\.\\d*)?|\\.\\d+)([eE][-+]?\\d+)?)?[ijkLIJK]'\n",
    "\n",
    "    # Close-up spaces\n",
    "    qstr = qs.strip().replace(' ', '')\n",
    "\n",
    "    # This constructs the of terms (as strings) involving i, j, and k,\n",
    "    # but it does not include the real term, if there is one.\n",
    "    terms = []\n",
    "    real = None\n",
    "    for match in re.finditer(pat1, qstr):\n",
    "        trm = match.group(0)\n",
    "        terms.append(trm)\n",
    "\n",
    "    # Use the process of elimination to find the real term.\n",
    "    for tm in terms:\n",
    "        qstr = qstr.replace(tm, '')\n",
    "    if qstr == '':\n",
    "        real = '0'\n",
    "    else:\n",
    "        real = qstr  # Whatever is left over is the real coefficient (string)\n",
    "\n",
    "    # Initialize a dictionary of term coefficients.\n",
    "    term_dict = {'real': utils.make_int_or_float(real), 'i':0, 'j': 0, 'k': 0, 'L':0, 'I':0, 'J':0, 'K':0}\n",
    "\n",
    "    # Convert coefficient strings into numbers;\n",
    "    # also, make implied coefficients of 1 or -1 explicit.\n",
    "    for tm in terms:\n",
    "        coeff_str = tm[:-1]\n",
    "        if coeff_str == '+' or coeff_str == '':\n",
    "            coeff_str = '1'\n",
    "        elif coeff_str == '-':\n",
    "            coeff_str = '-1'\n",
    "        else:\n",
    "            pass\n",
    "        unit_str = tm[-1:]\n",
    "        term_dict[unit_str] = utils.make_int_or_float(coeff_str)\n",
    "\n",
    "    # Convert the term dictionary into an ordered list of coefficients\n",
    "    # The length of the list returned depends on what type of string\n",
    "    # was input (complex, quaternion, octonion, etc.)\n",
    "    result = list(term_dict.values())\n",
    "    if all(x == 0 for x in result[4:]):\n",
    "        if all(x == 0 for x in result[2:4]):\n",
    "            return result[:2]  # complex (2 elements)\n",
    "        else:\n",
    "            return result[:4]  # quaternion (4 elements)\n",
    "    else:\n",
    "        return result  # octonion (8 elements)"
   ]
  },
  {
   "cell_type": "code",
   "execution_count": 5,
   "id": "69b7569e-5ab4-47c3-9d49-ef5c45b315e0",
   "metadata": {},
   "outputs": [],
   "source": [
    "from unittest import TestCase, TextTestRunner, defaultTestLoader\n",
    "from cayley_dickson_integers import Zi\n",
    "from random import seed\n",
    "\n",
    "class TestZi(TestCase):\n",
    "\n",
    "    def setUp(self) -> None:\n",
    "        pass\n",
    "\n",
    "    def test_parse_hypercomplex_string(self):\n",
    "        self.assertEqual(Zi.parse_hypercomplex_string('1+2i+3j+4k'), [1, 2, 3, 4])\n",
    "        self.assertEqual(Zi.parse_hypercomplex_string('-1+3i-3j+7k'), [-1, 3, -3, 7])\n",
    "        self.assertEqual(Zi.parse_hypercomplex_string('-1-4i-9j-2k'), [-1, -4, -9, -2])\n",
    "        self.assertEqual(Zi.parse_hypercomplex_string('17-16i-15j-14k'), [17, -16, -15, -14])\n",
    "        self.assertEqual(Zi.parse_hypercomplex_string('7+2i'), [7, 2])\n",
    "        self.assertEqual(Zi.parse_hypercomplex_string('7+2j'), [7, 0, 2, 0])\n",
    "        self.assertEqual(Zi.parse_hypercomplex_string('2i-6k'), [0, 2, 0, -6])\n",
    "        self.assertEqual(Zi.parse_hypercomplex_string('1-5j+2k'), [1, 0, -5, 2])\n",
    "        self.assertEqual(Zi.parse_hypercomplex_string('1-5j'), [1, 0, -5, 0])\n",
    "        self.assertEqual(Zi.parse_hypercomplex_string('3+4i-9k'), [3, 4, 0, -9])\n",
    "        self.assertEqual(Zi.parse_hypercomplex_string('42i+j-k'), [0, 42, 1, -1])\n",
    "        self.assertEqual(Zi.parse_hypercomplex_string('6-2i+j-3k'), [6, -2, 1, -3])\n",
    "        self.assertEqual(Zi.parse_hypercomplex_string('1+i+j+k'), [1, 1, 1, 1])\n",
    "        self.assertEqual(Zi.parse_hypercomplex_string('-1-i-j-k'), [-1, -1, -1, -1])\n",
    "        self.assertEqual(Zi.parse_hypercomplex_string('16k-20j+2i-7'), [-7, 2, -20, 16])\n",
    "        self.assertEqual(Zi.parse_hypercomplex_string('i+4k-3j+2'), [2, 1, -3, 4])\n",
    "        self.assertEqual(Zi.parse_hypercomplex_string('5k-2i+9+3j'), [9, -2, 3, 5])\n",
    "        self.assertEqual(Zi.parse_hypercomplex_string('5k-2j+3'), [3, 0, -2, 5])\n",
    "        self.assertEqual(Zi.parse_hypercomplex_string('1.75-1.75i-1.75j-1.75k'), [1.75, -1.75, -1.75, -1.75])\n",
    "        self.assertEqual(Zi.parse_hypercomplex_string('2.0j-3k+0.47i-13'), [-13, 0.47, 2.0, -3])\n",
    "        self.assertEqual(Zi.parse_hypercomplex_string('5.6-3i'), [5.6, -3])\n",
    "        self.assertEqual(Zi.parse_hypercomplex_string('k-7.6i'), [0, -7.6, 0, 1])\n",
    "        self.assertEqual(Zi.parse_hypercomplex_string('0'), [0, 0])\n",
    "        self.assertEqual(Zi.parse_hypercomplex_string('0j+0k'), [0, 0])\n",
    "        self.assertEqual(Zi.parse_hypercomplex_string('-0j'), [0, 0])\n",
    "        self.assertEqual(Zi.parse_hypercomplex_string('1-0k'), [1, 0])\n",
    "        self.assertEqual(Zi.parse_hypercomplex_string('1+2i+3j+4k'), [1, 2, 3, 4])\n",
    "        self.assertEqual(Zi.parse_hypercomplex_string('7.1E-2 +4.3k+i'), [0.071, 1, 0, 4.3])\n",
    "        self.assertEqual(Zi.parse_hypercomplex_string('3 - 2E-3i-4j'), [3, -0.002, -4, 0])"
   ]
  },
  {
   "cell_type": "code",
   "execution_count": 6,
   "id": "d0da2d5c-ec9a-44f1-8e77-a2f5e30ce712",
   "metadata": {},
   "outputs": [
    {
     "name": "stderr",
     "output_type": "stream",
     "text": [
      "test_parse_hypercomplex_string (__main__.TestZi.test_parse_hypercomplex_string) ... ok\n",
      "\n",
      "----------------------------------------------------------------------\n",
      "Ran 1 test in 0.005s\n",
      "\n",
      "OK\n"
     ]
    },
    {
     "data": {
      "text/plain": [
       "<unittest.runner.TextTestResult run=1 errors=0 failures=0>"
      ]
     },
     "execution_count": 6,
     "metadata": {},
     "output_type": "execute_result"
    }
   ],
   "source": [
    "TextTestRunner(verbosity=2).run(defaultTestLoader.loadTestsFromTestCase(TestZi))"
   ]
  },
  {
   "cell_type": "code",
   "execution_count": 7,
   "id": "10f0ffd4",
   "metadata": {},
   "outputs": [],
   "source": [
    "qstrings = ['2i+3j+4k-1.07+6I+7J+8K',\n",
    "            '-0j',\n",
    "            '-1 + 0j +0k - i',\n",
    "            '1+2i+3j+4k+5L+6I+7J+8K',\n",
    "            '3.14159 + 0.4j + 4k  - 2e3i ',\n",
    "            '4k-3j-2i+1',\n",
    "            '2i - 4 + k',\n",
    "            '2i + 4 - k',\n",
    "            'k',\n",
    "            'i+j']"
   ]
  },
  {
   "cell_type": "code",
   "execution_count": 10,
   "id": "f0eec5bb-10c5-48ff-bed4-18cf7286a49d",
   "metadata": {},
   "outputs": [
    {
     "name": "stdout",
     "output_type": "stream",
     "text": [
      "2i+3j+4k-1.07+6I+7J+8K --> [-1.07, 2, 3, 4, 0, 6, 7, 8]\n",
      "\n",
      "-0j --> [0, 0]\n",
      "\n",
      "-1 + 0j +0k - i --> [-1, -1]\n",
      "\n",
      "1+2i+3j+4k+5L+6I+7J+8K --> [1, 2, 3, 4, 5, 6, 7, 8]\n",
      "\n",
      "3.14159 + 0.4j + 4k  - 2e3i  --> [3.14159, -2000, 0.4, 4]\n",
      "\n",
      "4k-3j-2i+1 --> [1, -2, -3, 4]\n",
      "\n",
      "2i - 4 + k --> [-4, 2, 0, 1]\n",
      "\n",
      "2i + 4 - k --> [4, 2, 0, -1]\n",
      "\n",
      "k --> [0, 0, 0, 1]\n",
      "\n",
      "i+j --> [0, 1, 1, 0]\n",
      "\n"
     ]
    }
   ],
   "source": [
    "for q in qstrings:\n",
    "    print(f\"{q} --> {Zi.parse_hypercomplex_string(q)}\\n\")"
   ]
  },
  {
   "cell_type": "code",
   "execution_count": null,
   "id": "6703dc70-df47-49f3-83ba-ef3800636f7c",
   "metadata": {},
   "outputs": [],
   "source": []
  },
  {
   "cell_type": "code",
   "execution_count": null,
   "id": "b31e67c6",
   "metadata": {},
   "outputs": [],
   "source": []
  }
 ],
 "metadata": {
  "kernelspec": {
   "display_name": "Python 3 (ipykernel)",
   "language": "python",
   "name": "python3"
  },
  "language_info": {
   "codemirror_mode": {
    "name": "ipython",
    "version": 3
   },
   "file_extension": ".py",
   "mimetype": "text/x-python",
   "name": "python",
   "nbconvert_exporter": "python",
   "pygments_lexer": "ipython3",
   "version": "3.11.5"
  }
 },
 "nbformat": 4,
 "nbformat_minor": 5
}
