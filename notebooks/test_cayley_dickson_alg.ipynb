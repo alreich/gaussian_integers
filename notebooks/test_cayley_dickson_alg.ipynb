{
 "cells": [
  {
   "cell_type": "markdown",
   "id": "87043a9b",
   "metadata": {},
   "source": [
    "# Test Cayley-Dickson Construction"
   ]
  },
  {
   "cell_type": "code",
   "execution_count": 1,
   "id": "0ea0f4be",
   "metadata": {},
   "outputs": [],
   "source": [
    "# from unittest import TestCase\n",
    "from unittest import TestCase, TextTestRunner, defaultTestLoader\n",
    "from cayley_dickson_alg import Zi\n",
    "\n",
    "class TestZi(TestCase):\n",
    "\n",
    "    def setUp(self) -> None:\n",
    "        self.c1 = Zi(4, 5)\n",
    "        self.c1_conj = Zi(4, -5)\n",
    "        self.c2 = Zi(1, -2)\n",
    "        self.c1_x_c2 = Zi(14, -3)  # c1 * c2\n",
    "        self.c4 = Zi(4, 12)\n",
    "\n",
    "    def test_constructor(self):\n",
    "        self.assertEqual(Zi(), Zi(0, 0))\n",
    "        self.assertEqual(Zi(1), Zi(1, 0))\n",
    "        self.assertEqual(Zi.eye(), Zi(0, 1))\n",
    "        self.assertEqual(Zi.two(), Zi(1, 1))\n",
    "        self.assertEqual(Zi(2.3, 3.8), Zi(2, 4))\n",
    "        self.assertEqual(Zi(-2.3, 3.8), Zi(-2, 4))\n",
    "        self.assertEqual(Zi(2.3, -3.8), Zi(2, -4))\n",
    "        self.assertEqual(Zi(-2.3, -3.8), Zi(-2, -4))\n",
    "        self.assertEqual(Zi(2.3, 4), Zi(2, 4))\n",
    "        self.assertEqual(Zi(-2.3, 4), Zi(-2, 4))\n",
    "        self.assertEqual(Zi(2, 3.8), Zi(2, 4))\n",
    "        self.assertEqual(Zi(2, -3.8), Zi(2, -4))\n",
    "        self.assertEqual(Zi(2.3), Zi(2, 0))\n",
    "        self.assertEqual(Zi(2), Zi(2, 0))\n",
    "        self.assertEqual(Zi((2.3 - 3.7j)), Zi(2, -4))\n",
    "        self.assertEqual(Zi(-3.3j), Zi(0, -3))\n",
    "        \n",
    "    def test_add(self):  # __add__ & __radd__\n",
    "        self.assertEqual(Zi(4, 5) + Zi(1, -2), Zi(5, 3))\n",
    "        self.assertEqual(Zi(4, 5) + 2, Zi(6, 5))\n",
    "        self.assertEqual(2 + Zi(4, 5), Zi(6, 5))\n",
    "        self.assertEqual(Zi(4, 5) + 1.9, Zi(6, 5))\n",
    "        self.assertEqual(1.9 + Zi(4, 5), Zi(6, 5))\n",
    "        self.assertEqual(Zi(4, 5) + (1-1j), Zi(5, 4))\n",
    "        self.assertEqual((1 - 1j) + Zi(4, 5), Zi(5, 4))\n",
    "\n",
    "    def test_sub(self):  # __sub__ & __rsub__\n",
    "        self.assertEqual(Zi(4, 5) - Zi(1, -2), Zi(3, 7))\n",
    "        self.assertEqual(Zi(4, 5) - 2, Zi(2, 5))\n",
    "        self.assertEqual(2 - Zi(4, 5), Zi(-2, -5))\n",
    "        self.assertEqual(Zi(4, 5) - 1.9, Zi(2, 5))\n",
    "        self.assertEqual(1.9 - Zi(4, 5), Zi(-2, -5))\n",
    "        self.assertEqual(Zi(4, 5) - (1 - 1j), Zi(3, 6))\n",
    "        self.assertEqual((1 - 1j) - Zi(4, 5), Zi(-3, -6))\n",
    "\n",
    "    def test_mul(self):  # __mul__ & __rmul__\n",
    "        self.assertEqual(Zi(4, 5) * Zi(1, -2), Zi(14, -3))\n",
    "        self.assertEqual(Zi(4, 5) * 2, Zi(8, 10))\n",
    "        self.assertEqual(2 * Zi(4, 5), Zi(8, 10))\n",
    "        self.assertEqual(Zi(4, 5) * 1.9, Zi(8, 10))\n",
    "        self.assertEqual(1.9 * Zi(4, 5), Zi(8, 10))\n",
    "        self.assertEqual(Zi(4, 5) * 1.49999, Zi(4, 5))  # since Zi(1.49999) = Zi(1, 0)\n",
    "        self.assertEqual(1.49999 * Zi(4, 5), Zi(4, 5))\n",
    "        self.assertEqual(Zi(4, 5) * (2-1j), Zi(13, 6))\n",
    "        self.assertEqual((2-1j) * Zi(4, 5), Zi(13, 6))\n",
    "        self.assertEqual(Zi(4, 5) * (1.9-1.1j), Zi(13, 6))\n",
    "        self.assertEqual((1.9-1.1j) * Zi(4, 5), Zi(13, 6))\n"
   ]
  },
  {
   "cell_type": "code",
   "execution_count": 2,
   "id": "59ac529a",
   "metadata": {},
   "outputs": [
    {
     "name": "stderr",
     "output_type": "stream",
     "text": [
      "test_add (__main__.TestZi.test_add) ... ok\n",
      "test_constructor (__main__.TestZi.test_constructor) ... ok\n",
      "test_mul (__main__.TestZi.test_mul) ... ok\n",
      "test_sub (__main__.TestZi.test_sub) ... ok\n",
      "\n",
      "----------------------------------------------------------------------\n",
      "Ran 4 tests in 0.004s\n",
      "\n",
      "OK\n"
     ]
    },
    {
     "data": {
      "text/plain": [
       "<unittest.runner.TextTestResult run=4 errors=0 failures=0>"
      ]
     },
     "execution_count": 2,
     "metadata": {},
     "output_type": "execute_result"
    }
   ],
   "source": [
    "TextTestRunner(verbosity=2).run(defaultTestLoader.loadTestsFromTestCase(TestZi))"
   ]
  }
 ],
 "metadata": {
  "kernelspec": {
   "display_name": "Python 3 (ipykernel)",
   "language": "python",
   "name": "python3"
  },
  "language_info": {
   "codemirror_mode": {
    "name": "ipython",
    "version": 3
   },
   "file_extension": ".py",
   "mimetype": "text/x-python",
   "name": "python",
   "nbconvert_exporter": "python",
   "pygments_lexer": "ipython3",
   "version": "3.11.5"
  }
 },
 "nbformat": 4,
 "nbformat_minor": 5
}
