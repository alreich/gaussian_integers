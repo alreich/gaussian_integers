{
 "cells": [
  {
   "cell_type": "markdown",
   "id": "359d8cbe",
   "metadata": {},
   "source": [
    "# Scratchwork #2 - Octonion Integers"
   ]
  },
  {
   "cell_type": "code",
   "execution_count": 2,
   "id": "870090bf",
   "metadata": {},
   "source": [
    "from quaternions import Hi, split_array"
   ],
   "outputs": []
  },
  {
   "cell_type": "markdown",
   "id": "ca71b535",
   "metadata": {},
   "source": [
    "## Octonion Integers"
   ]
  },
  {
   "cell_type": "code",
   "execution_count": 3,
   "id": "891a649e",
   "metadata": {},
   "source": [
    "# import numpy as np\n",
    "# import random as rnd\n",
    "# import math\n",
    "    \n",
    "import numpy as np\n",
    "import random as rnd\n",
    "import math\n",
    "from gaussians import Zi\n",
    "\n",
    "\n",
    "class Ki:\n",
    "    \"\"\"Integer-valued octonions ('Gaussian octonions')\n",
    "\n",
    "    Internally, an octonion integer is implemented as a numpy array of 8\n",
    "    integers, but they can be thought of as simply 8 integers, or 2 quaternion\n",
    "    integers. For this reason, a Ki can be constructed from 8 integers, or\n",
    "    2 quaternion integers, or 1 numpy array of 8 integers.\n",
    "    \"\"\"\n",
    "    def __init__(self,\n",
    "                 # If no inputs are given, then the \"zero\" octonion will be returned\n",
    "                 z1: (Hi, np.ndarray, int) = Hi(),\n",
    "                 z2: (Hi, int) = Hi(),\n",
    "                 z3: int = 0,\n",
    "                 z4: int = 0,\n",
    "                 z5: int = 0,\n",
    "                 z6: int = 0,\n",
    "                 z7: int = 0,\n",
    "                 z8: int = 0)\n",
    "\n",
    "        # Assumes two quaternion integers provided, z1 & z2\n",
    "        if isinstance(z1, Hi):\n",
    "            self.__arr = np.array([z1.real, z1.imag, z2.real, z2.imag], dtype=np.int64)\n",
    "\n",
    "        # Assumes one numpy array containing four np.int64's provided, z1\n",
    "        elif isinstance(z1, np.ndarray):\n",
    "            self.__arr = z1\n",
    "\n",
    "        # Assumes four ints or np.int64s provided, z1, ..., z4\n",
    "        elif isinstance(z1, (int, np.int64)):\n",
    "            self.__arr = np.array([z1, z2, z3, z4], dtype=np.int64)\n",
    "        else:\n",
    "            raise ValueError(f\"{type(z1)} not supported\")\n",
    "\n",
    "    @property\n",
    "    def gaussian_ints(self):\n",
    "        \"\"\"Return the two Gaussian integers that define this quaternion.\"\"\"\n",
    "        arr = self.__arr\n",
    "        n = len(arr) // 2\n",
    "        return Zi.from_array(arr[:n]), Zi.from_array(arr[n:])\n",
    "\n",
    "    @property\n",
    "    def real(self):\n",
    "        \"\"\"Return the 'real' Gaussian integer that defines this quaternion.\"\"\"\n",
    "        real, _ = self.gaussian_ints\n",
    "        return real\n",
    "\n",
    "    @property\n",
    "    def imag(self):\n",
    "        \"\"\"Return the 'imag' Gaussian integer that defines this quaternion.\"\"\"\n",
    "        _, imag = self.gaussian_ints\n",
    "        return imag\n",
    "\n",
    "    @property\n",
    "    def array(self):\n",
    "        \"\"\"Return the numpy array that implements this quaternion.\"\"\"\n",
    "        return self.__arr\n",
    "\n",
    "    @property\n",
    "    def conjugate(self):\n",
    "        \"\"\"Return the conjugate of this quaternion.\"\"\"\n",
    "        real, imag = self.gaussian_ints\n",
    "        return Hi(real.conjugate, -imag)\n",
    "\n",
    "    @property\n",
    "    def norm(self) -> int:\n",
    "        \"\"\"Return the norm squared of this quaternion.\"\"\"\n",
    "        tmp = self * self.conjugate\n",
    "        return int(tmp.array[0])\n",
    "\n",
    "    # def show(self):\n",
    "    #     real, imag = self.gaussian_ints\n",
    "    #     return f\"Hi({repr(real)}, {repr(imag)})\"\n",
    "\n",
    "    def __abs__(self) -> float:\n",
    "        \"\"\"Return the square root of the norm of this quaternion.\"\"\"\n",
    "        return math.sqrt(self.norm)\n",
    "\n",
    "    def __repr__(self) -> str:\n",
    "        \"\"\"Return a string that represents this quaternion, and\n",
    "        can be used to recreate this quaternion via cut-and-paste.\"\"\"\n",
    "        a, b, c, d = self.array\n",
    "        return f\"Hi({a}, {b}, {c}, {d})\"\n",
    "\n",
    "    def __str__(self) -> str:\n",
    "        \"\"\"Return a string representation of this quaternion. This string\n",
    "        cannot be used, directly, to reconstruct this quaternion, however,\n",
    "        Hi.from_string() can reconstruct it.\"\"\"\n",
    "        a, b, c, d = self.array\n",
    "        return f\"({a} + {b}i + {c}j + {d}k)\"\n",
    "\n",
    "    def __add__(self, other):\n",
    "        \"\"\"Return the sum of two quaternions.\"\"\"\n",
    "        return Hi(self.array + other.array)\n",
    "\n",
    "    def __sub__(self, other):\n",
    "        \"\"\"Return the difference of two quaternions.\"\"\"\n",
    "        return Hi(self.array - other.array)\n",
    "\n",
    "    def __neg__(self):\n",
    "        \"\"\"Negate the quaternion.\"\"\"\n",
    "        return Hi(-self.array)\n",
    "\n",
    "    def __eq__(self, other):\n",
    "        \"\"\"Return True if the two quaternions are equal, otherwise return False.\"\"\"\n",
    "        return np.array_equal(self.array, other.array)\n",
    "\n",
    "    def __ne__(self, other):\n",
    "        \"\"\"Return True if the two quaternions are not equal, otherwise return False.\"\"\"\n",
    "        return not self == other\n",
    "\n",
    "    def __mul__(self, other):\n",
    "        \"\"\"Multiplication of two quaternions according to the Cayley-Dickson construction\"\"\"\n",
    "        a, b = self.gaussian_ints\n",
    "        c, d = other.gaussian_ints\n",
    "        # (a, b) * (c, d) = (a * c - d.conj * b, d * a + b * c.conj)\n",
    "        z1 = a * c - d.conjugate * b\n",
    "        z2 = d * a + b * c.conjugate\n",
    "        return Hi(z1, z2)\n",
    "\n",
    "    @staticmethod\n",
    "    def hamilton_product(q1, q2):\n",
    "        \"\"\"Multiplication of two quaternions according to the classic Hamilton product.\"\"\"\n",
    "        a1, b1, c1, d1 = q1.array\n",
    "        a2, b2, c2, d2 = q2.array\n",
    "        # See https://en.wikipedia.org/wiki/Quaternion#Hamilton_product\n",
    "        a = a1 * a2 - b1 * b2 - c1 * c2 - d1 * d2\n",
    "        b = a1 * b2 + b1 * a2 + c1 * d2 - d1 * c2\n",
    "        c = a1 * c2 - b1 * d2 + c1 * a2 + d1 * b2\n",
    "        d = a1 * d2 + b1 * c2 - c1 * b2 + d1 * a2\n",
    "        return Hi(a, b, c, d)\n",
    "\n",
    "    def scalar_mul(self, scalar):\n",
    "        \"\"\"Multiply this quaternion by a scalar integer. Round the scalar to the nearest\n",
    "         integer if necessary.\n",
    "        \"\"\"\n",
    "        return Hi(round(scalar) * self.array)\n",
    "\n",
    "    def __floordiv__(self, other):\n",
    "        \"\"\"Implements the // operator using 'round', instead of 'floor'.\"\"\"\n",
    "        numer = self * other.conjugate\n",
    "        denom = other.norm\n",
    "        quotient = np.round(numer.array / denom)\n",
    "        return Hi(quotient.astype(np.int64))\n",
    "\n",
    "    def to_gaussian_ints(self):\n",
    "        \"\"\"Convert this quaternion into two Gaussian integers\"\"\"\n",
    "        a, b, c, d = self.array\n",
    "        return Zi(int(a), int(b)), Zi(int(c), int(d))\n",
    "\n",
    "    @staticmethod\n",
    "    def random(low=-100, high=100):\n",
    "        \"\"\"Generate a random quaternion where each of the four components is between low  and high.\"\"\"\n",
    "        return Hi(np.array([rnd.randint(low, high) for _ in range(4)]))\n",
    "\n",
    "    @staticmethod\n",
    "    def modified_divmod(a, b):\n",
    "        \"\"\"Returns q & r, such that a = b * q + r, where\n",
    "        r.norm < b.norm / 2\n",
    "        \"\"\"\n",
    "        q = a // b\n",
    "        r = a - b * q\n",
    "        return q, r\n",
    "\n",
    "    @staticmethod\n",
    "    def from_string(s):\n",
    "        \"\"\"Converts the string form of a Hi back into a Hi.\n",
    "        e.g., Hi.from_string('(46 + -92i + 9j + 23k)') -> Hi(46, -92, 9, 23)\n",
    "        \"\"\"\n",
    "        return Hi(np.array(list(map(lambda x: int(x),\n",
    "                                    s.translate({ord(i): None for i in 'ijk'}\n",
    "                                                )[1:-1].split(' + ')))))\n"
   ],
   "outputs": []
  },
  {
   "cell_type": "markdown",
   "id": "7845139e",
   "metadata": {},
   "source": [
    "## Random Octonion Integers:"
   ]
  },
  {
   "cell_type": "code",
   "execution_count": 4,
   "id": "7e91bfef",
   "metadata": {},
   "source": [
    "import random as rnd\n",
    "\n",
    "rnd.seed(10)\n",
    "octos = [Ki.random() for _ in range(5)]\n",
    "o1, o2, o3, o4, o5 = octos"
   ],
   "outputs": []
  },
  {
   "cell_type": "code",
   "execution_count": 5,
   "id": "f080dcb5",
   "metadata": {},
   "source": [
    "o1, o2, o3, o4, o5"
   ],
   "outputs": []
  },
  {
   "cell_type": "markdown",
   "id": "677d44cc-1e41-4461-ac95-af29f2b0eb7e",
   "metadata": {},
   "source": [
    "## Print Octonion Integers"
   ]
  },
  {
   "cell_type": "code",
   "execution_count": 6,
   "id": "777092d1-8200-4019-af6e-a75b2bb2f880",
   "metadata": {},
   "source": [
    "for octo in octos:\n",
    "    print(octo)"
   ],
   "outputs": []
  },
  {
   "cell_type": "markdown",
   "id": "e8353835",
   "metadata": {},
   "source": [
    "## Conjugation, Norm, & Abs"
   ]
  },
  {
   "cell_type": "code",
   "execution_count": 7,
   "id": "d935f586",
   "metadata": {},
   "source": [
    "o1.conjugate"
   ],
   "outputs": []
  },
  {
   "cell_type": "code",
   "execution_count": 8,
   "id": "73369e08",
   "metadata": {},
   "source": [
    "o1.norm"
   ],
   "outputs": []
  },
  {
   "cell_type": "code",
   "execution_count": 9,
   "id": "abb692ba-5bdc-41fa-97c2-846536e1bf1d",
   "metadata": {},
   "source": [
    "abs(o1)"
   ],
   "outputs": []
  },
  {
   "cell_type": "markdown",
   "id": "15d25457",
   "metadata": {},
   "source": [
    "## Octonion Integer Arithmetic"
   ]
  },
  {
   "cell_type": "code",
   "execution_count": 10,
   "id": "3cd700fb",
   "metadata": {},
   "source": [
    "o1 + o2"
   ],
   "outputs": []
  },
  {
   "cell_type": "code",
   "execution_count": 15,
   "id": "ae845ec6",
   "metadata": {},
   "source": [
    "h1 - h2"
   ],
   "outputs": []
  },
  {
   "cell_type": "code",
   "execution_count": null,
   "id": "226648d5",
   "metadata": {},
   "source": [
    "h1 * h2"
   ],
   "outputs": []
  },
  {
   "cell_type": "markdown",
   "id": "91ec023a-577d-4ff3-8a8b-90cea9f4c706",
   "metadata": {},
   "source": [
    "Multiply a quaternion by a scalar (integer)"
   ]
  },
  {
   "cell_type": "code",
   "execution_count": null,
   "id": "44fbfff6-3c5d-4055-8665-f680628207a0",
   "metadata": {},
   "source": [
    "h1.scalar_mul(2)"
   ],
   "outputs": []
  },
  {
   "cell_type": "markdown",
   "id": "f8c30052-e4ec-45c4-ac09-932a3cd1a320",
   "metadata": {},
   "source": [
    "## Floor Divide (Actually Round Divide)"
   ]
  },
  {
   "cell_type": "code",
   "execution_count": null,
   "id": "9b39ad68-b8b7-46d8-b33a-eaab34aea9c3",
   "metadata": {},
   "source": [
    "print(h1)\n",
    "print(h4)\n",
    "print(h1 // h4)"
   ],
   "outputs": []
  },
  {
   "cell_type": "markdown",
   "id": "3589d11d-40b4-49a2-a483-26135a210a18",
   "metadata": {},
   "source": [
    "## Modified DivMod"
   ]
  },
  {
   "cell_type": "code",
   "execution_count": null,
   "id": "74c55298-bd83-4f5f-b27d-1d8b335cd14d",
   "metadata": {},
   "source": [
    "help(Hi.modified_divmod)"
   ],
   "outputs": []
  },
  {
   "cell_type": "code",
   "execution_count": null,
   "id": "19168ba8-5e79-43a5-b5ed-fa4fcfcdc064",
   "metadata": {},
   "source": [
    "a = h1\n",
    "b = h4\n",
    "print(a)\n",
    "print(b)\n",
    "quot, rem = Hi.modified_divmod(a, b)\n",
    "print(quot)\n",
    "print(rem)"
   ],
   "outputs": []
  },
  {
   "cell_type": "code",
   "execution_count": null,
   "id": "4a36accc-81f6-465d-a7e3-e3fb1a95e67f",
   "metadata": {},
   "source": [
    "print(f\"{h4 * quot + rem}\\n = {h4}\\n   * {quot}\\n   + {rem}\")"
   ],
   "outputs": []
  },
  {
   "cell_type": "code",
   "execution_count": null,
   "id": "7009aefc-e117-4b4f-b9cc-d486d1c9b5c8",
   "metadata": {},
   "source": [
    "print(rem.norm)\n",
    "print(b.norm)\n",
    "print(rem.norm < b.norm / 2)"
   ],
   "outputs": []
  },
  {
   "cell_type": "markdown",
   "id": "2110f072",
   "metadata": {},
   "source": [
    "## Convert to Two Gaussian Integers"
   ]
  },
  {
   "cell_type": "code",
   "execution_count": null,
   "id": "4101252d",
   "metadata": {},
   "source": [
    "h1.to_gaussian_ints()"
   ],
   "outputs": []
  },
  {
   "cell_type": "markdown",
   "id": "701f8f7e",
   "metadata": {},
   "source": [
    "## Alternative Form of Multiplication"
   ]
  },
  {
   "cell_type": "code",
   "execution_count": null,
   "id": "1d538898",
   "metadata": {},
   "source": [
    "help(Hi.mul_as_gaussian_ints)"
   ],
   "outputs": []
  },
  {
   "cell_type": "code",
   "execution_count": null,
   "id": "54fdd758",
   "metadata": {},
   "source": [
    "Hi.mul_as_gaussian_ints(h1, h2)"
   ],
   "outputs": []
  },
  {
   "cell_type": "code",
   "execution_count": null,
   "id": "82735338",
   "metadata": {},
   "source": [],
   "outputs": []
  },
  {
   "cell_type": "code",
   "execution_count": null,
   "id": "dcb52a0c",
   "metadata": {},
   "source": [],
   "outputs": []
  }
 ],
 "metadata": {
  "kernelspec": {
   "display_name": "Python 3 (ipykernel)",
   "language": "python",
   "name": "python3"
  },
  "language_info": {
   "codemirror_mode": {
    "name": "ipython",
    "version": 3
   },
   "file_extension": ".py",
   "mimetype": "text/x-python",
   "name": "python",
   "nbconvert_exporter": "python",
   "pygments_lexer": "ipython3",
   "version": "3.11.5"
  }
 },
 "nbformat": 4,
 "nbformat_minor": 5
}
